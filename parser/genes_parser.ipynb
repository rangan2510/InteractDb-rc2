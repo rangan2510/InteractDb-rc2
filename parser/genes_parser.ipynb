{
 "cells": [
  {
   "attachments": {},
   "cell_type": "markdown",
   "metadata": {},
   "source": [
    "## 1. Unify gene sets"
   ]
  },
  {
   "cell_type": "code",
   "execution_count": 1,
   "metadata": {},
   "outputs": [],
   "source": [
    "import pandas as pd"
   ]
  },
  {
   "cell_type": "code",
   "execution_count": 2,
   "metadata": {},
   "outputs": [],
   "source": [
    "disgenet_df = pd.read_csv(\"../data/diseases/DisGeNET/tables/geneAttributes.csv\", sep=\"\\t\")\n",
    "drugbank_tgt_df = pd.read_excel(\"../parser/temp/drug_target_edges.xlsx\")\n",
    "string_df = pd.read_csv(\"../data/genes/9606.protein.info.v11.5.txt\", sep=\"\\t\")"
   ]
  },
  {
   "cell_type": "code",
   "execution_count": 3,
   "metadata": {},
   "outputs": [],
   "source": [
    "disgenet_gene_set = set(disgenet_df[\"geneName\"].to_list())\n",
    "drugbank_tgt_gene_set = set(drugbank_tgt_df[\"gene-name\"])\n",
    "string_gene_set = set(string_df[\"preferred_name\"].to_list())"
   ]
  },
  {
   "cell_type": "code",
   "execution_count": 4,
   "metadata": {},
   "outputs": [
    {
     "name": "stdout",
     "output_type": "stream",
     "text": [
      "26132 2169 19563\n"
     ]
    }
   ],
   "source": [
    "print(len(disgenet_gene_set), len(drugbank_tgt_gene_set), len(string_gene_set))"
   ]
  },
  {
   "cell_type": "code",
   "execution_count": 5,
   "metadata": {},
   "outputs": [
    {
     "name": "stdout",
     "output_type": "stream",
     "text": [
      "29730\n"
     ]
    }
   ],
   "source": [
    "complete_gene_set = string_gene_set.union(disgenet_gene_set.union(drugbank_tgt_gene_set))\n",
    "print(len(complete_gene_set))\n",
    "\n",
    "cgs = []\n",
    "for g in complete_gene_set:\n",
    "    if type(g) == str:\n",
    "        cgs.append(g.upper())\n",
    "len(set(cgs))\n",
    "\n",
    "complete_gene_set = set(cgs)"
   ]
  },
  {
   "cell_type": "code",
   "execution_count": 6,
   "metadata": {},
   "outputs": [],
   "source": [
    "with open(\"./temp/gene_names.dat\", \"w+\") as fp:\n",
    "    for item in complete_gene_set:\n",
    "        fp.write(item + \"\\n\")"
   ]
  },
  {
   "attachments": {},
   "cell_type": "markdown",
   "metadata": {},
   "source": [
    "# 2. map gene names with uniprotkb wherever possible"
   ]
  },
  {
   "cell_type": "code",
   "execution_count": 7,
   "metadata": {},
   "outputs": [
    {
     "data": {
      "text/html": [
       "<div>\n",
       "<style scoped>\n",
       "    .dataframe tbody tr th:only-of-type {\n",
       "        vertical-align: middle;\n",
       "    }\n",
       "\n",
       "    .dataframe tbody tr th {\n",
       "        vertical-align: top;\n",
       "    }\n",
       "\n",
       "    .dataframe thead th {\n",
       "        text-align: right;\n",
       "    }\n",
       "</style>\n",
       "<table border=\"1\" class=\"dataframe\">\n",
       "  <thead>\n",
       "    <tr style=\"text-align: right;\">\n",
       "      <th></th>\n",
       "      <th>uniprotkb-id</th>\n",
       "      <th>geneId</th>\n",
       "    </tr>\n",
       "  </thead>\n",
       "  <tbody>\n",
       "    <tr>\n",
       "      <th>0</th>\n",
       "      <td>P04217</td>\n",
       "      <td>1</td>\n",
       "    </tr>\n",
       "    <tr>\n",
       "      <th>1</th>\n",
       "      <td>P11245</td>\n",
       "      <td>10</td>\n",
       "    </tr>\n",
       "    <tr>\n",
       "      <th>2</th>\n",
       "      <td>P00813</td>\n",
       "      <td>100</td>\n",
       "    </tr>\n",
       "    <tr>\n",
       "      <th>3</th>\n",
       "      <td>P19022</td>\n",
       "      <td>1000</td>\n",
       "    </tr>\n",
       "    <tr>\n",
       "      <th>4</th>\n",
       "      <td>Q9Y243</td>\n",
       "      <td>10000</td>\n",
       "    </tr>\n",
       "    <tr>\n",
       "      <th>...</th>\n",
       "      <td>...</td>\n",
       "      <td>...</td>\n",
       "    </tr>\n",
       "    <tr>\n",
       "      <th>17035</th>\n",
       "      <td>O95758</td>\n",
       "      <td>9991</td>\n",
       "    </tr>\n",
       "    <tr>\n",
       "      <th>17036</th>\n",
       "      <td>Q9Y6J6</td>\n",
       "      <td>9992</td>\n",
       "    </tr>\n",
       "    <tr>\n",
       "      <th>17037</th>\n",
       "      <td>P98153</td>\n",
       "      <td>9993</td>\n",
       "    </tr>\n",
       "    <tr>\n",
       "      <th>17038</th>\n",
       "      <td>Q9UKL3</td>\n",
       "      <td>9994</td>\n",
       "    </tr>\n",
       "    <tr>\n",
       "      <th>17039</th>\n",
       "      <td>O43819</td>\n",
       "      <td>9997</td>\n",
       "    </tr>\n",
       "  </tbody>\n",
       "</table>\n",
       "<p>17040 rows × 2 columns</p>\n",
       "</div>"
      ],
      "text/plain": [
       "      uniprotkb-id  geneId\n",
       "0           P04217       1\n",
       "1           P11245      10\n",
       "2           P00813     100\n",
       "3           P19022    1000\n",
       "4           Q9Y243   10000\n",
       "...            ...     ...\n",
       "17035       O95758    9991\n",
       "17036       Q9Y6J6    9992\n",
       "17037       P98153    9993\n",
       "17038       Q9UKL3    9994\n",
       "17039       O43819    9997\n",
       "\n",
       "[17040 rows x 2 columns]"
      ]
     },
     "execution_count": 7,
     "metadata": {},
     "output_type": "execute_result"
    }
   ],
   "source": [
    "disgenet_df_map = pd.read_csv(\"../data/diseases/DisGeNET/mapa_geneid_4_uniprot_crossref.tsv\", sep=\"\\t\")\n",
    "disgenet_df_map.columns = [\"uniprotkb-id\",\"geneId\"]\n",
    "disgenet_df_map"
   ]
  },
  {
   "cell_type": "code",
   "execution_count": 8,
   "metadata": {},
   "outputs": [
    {
     "data": {
      "text/html": [
       "<div>\n",
       "<style scoped>\n",
       "    .dataframe tbody tr th:only-of-type {\n",
       "        vertical-align: middle;\n",
       "    }\n",
       "\n",
       "    .dataframe tbody tr th {\n",
       "        vertical-align: top;\n",
       "    }\n",
       "\n",
       "    .dataframe thead th {\n",
       "        text-align: right;\n",
       "    }\n",
       "</style>\n",
       "<table border=\"1\" class=\"dataframe\">\n",
       "  <thead>\n",
       "    <tr style=\"text-align: right;\">\n",
       "      <th></th>\n",
       "      <th>geneNID</th>\n",
       "      <th>geneId</th>\n",
       "      <th>geneName</th>\n",
       "      <th>geneDescription</th>\n",
       "      <th>pLI</th>\n",
       "      <th>DSI</th>\n",
       "      <th>DPI</th>\n",
       "      <th>uniprotkb-id</th>\n",
       "    </tr>\n",
       "  </thead>\n",
       "  <tbody>\n",
       "    <tr>\n",
       "      <th>0</th>\n",
       "      <td>1</td>\n",
       "      <td>1</td>\n",
       "      <td>A1BG</td>\n",
       "      <td>alpha-1-B glycoprotein</td>\n",
       "      <td>4.991700e-09</td>\n",
       "      <td>0.700</td>\n",
       "      <td>0.538</td>\n",
       "      <td>P04217</td>\n",
       "    </tr>\n",
       "    <tr>\n",
       "      <th>1</th>\n",
       "      <td>2</td>\n",
       "      <td>2</td>\n",
       "      <td>A2M</td>\n",
       "      <td>alpha-2-macroglobulin</td>\n",
       "      <td>4.522900e-11</td>\n",
       "      <td>0.529</td>\n",
       "      <td>0.769</td>\n",
       "      <td>P01023</td>\n",
       "    </tr>\n",
       "    <tr>\n",
       "      <th>2</th>\n",
       "      <td>4</td>\n",
       "      <td>9</td>\n",
       "      <td>NAT1</td>\n",
       "      <td>N-acetyltransferase 1</td>\n",
       "      <td>1.929400e-14</td>\n",
       "      <td>0.536</td>\n",
       "      <td>0.846</td>\n",
       "      <td>P18440</td>\n",
       "    </tr>\n",
       "    <tr>\n",
       "      <th>3</th>\n",
       "      <td>5</td>\n",
       "      <td>10</td>\n",
       "      <td>NAT2</td>\n",
       "      <td>N-acetyltransferase 2</td>\n",
       "      <td>3.274400e-06</td>\n",
       "      <td>0.451</td>\n",
       "      <td>0.885</td>\n",
       "      <td>P11245</td>\n",
       "    </tr>\n",
       "    <tr>\n",
       "      <th>4</th>\n",
       "      <td>6</td>\n",
       "      <td>12</td>\n",
       "      <td>SERPINA3</td>\n",
       "      <td>serpin family A member 3</td>\n",
       "      <td>8.833000e-14</td>\n",
       "      <td>0.486</td>\n",
       "      <td>0.846</td>\n",
       "      <td>P01011</td>\n",
       "    </tr>\n",
       "    <tr>\n",
       "      <th>...</th>\n",
       "      <td>...</td>\n",
       "      <td>...</td>\n",
       "      <td>...</td>\n",
       "      <td>...</td>\n",
       "      <td>...</td>\n",
       "      <td>...</td>\n",
       "      <td>...</td>\n",
       "      <td>...</td>\n",
       "    </tr>\n",
       "    <tr>\n",
       "      <th>17035</th>\n",
       "      <td>25907</td>\n",
       "      <td>110599564</td>\n",
       "      <td>EEF1AKMT4</td>\n",
       "      <td>EEF1A lysine methyltransferase 4</td>\n",
       "      <td>NaN</td>\n",
       "      <td>NaN</td>\n",
       "      <td>NaN</td>\n",
       "      <td>P0DPD7</td>\n",
       "    </tr>\n",
       "    <tr>\n",
       "      <th>17036</th>\n",
       "      <td>25910</td>\n",
       "      <td>110599583</td>\n",
       "      <td>EEF1AKMT4-ECE2</td>\n",
       "      <td>EEF1AKMT4-ECE2 readthrough</td>\n",
       "      <td>NaN</td>\n",
       "      <td>0.792</td>\n",
       "      <td>0.385</td>\n",
       "      <td>P0DPD6</td>\n",
       "    </tr>\n",
       "    <tr>\n",
       "      <th>17037</th>\n",
       "      <td>25910</td>\n",
       "      <td>110599583</td>\n",
       "      <td>EEF1AKMT4-ECE2</td>\n",
       "      <td>EEF1AKMT4-ECE2 readthrough</td>\n",
       "      <td>NaN</td>\n",
       "      <td>0.792</td>\n",
       "      <td>0.385</td>\n",
       "      <td>P0DPD8</td>\n",
       "    </tr>\n",
       "    <tr>\n",
       "      <th>17038</th>\n",
       "      <td>25931</td>\n",
       "      <td>111188157</td>\n",
       "      <td>LYNX1-SLURP2</td>\n",
       "      <td>LYNX1-SLURP2 readthrough</td>\n",
       "      <td>NaN</td>\n",
       "      <td>0.839</td>\n",
       "      <td>0.115</td>\n",
       "      <td>P0DP58</td>\n",
       "    </tr>\n",
       "    <tr>\n",
       "      <th>17039</th>\n",
       "      <td>26105</td>\n",
       "      <td>114483834</td>\n",
       "      <td>LOC114483834</td>\n",
       "      <td>ABCF2-H2B readthrough</td>\n",
       "      <td>NaN</td>\n",
       "      <td>NaN</td>\n",
       "      <td>NaN</td>\n",
       "      <td>Q9UG63</td>\n",
       "    </tr>\n",
       "  </tbody>\n",
       "</table>\n",
       "<p>17040 rows × 8 columns</p>\n",
       "</div>"
      ],
      "text/plain": [
       "       geneNID     geneId        geneName                   geneDescription   \n",
       "0            1          1            A1BG            alpha-1-B glycoprotein  \\\n",
       "1            2          2             A2M             alpha-2-macroglobulin   \n",
       "2            4          9            NAT1             N-acetyltransferase 1   \n",
       "3            5         10            NAT2             N-acetyltransferase 2   \n",
       "4            6         12        SERPINA3          serpin family A member 3   \n",
       "...        ...        ...             ...                               ...   \n",
       "17035    25907  110599564       EEF1AKMT4  EEF1A lysine methyltransferase 4   \n",
       "17036    25910  110599583  EEF1AKMT4-ECE2        EEF1AKMT4-ECE2 readthrough   \n",
       "17037    25910  110599583  EEF1AKMT4-ECE2        EEF1AKMT4-ECE2 readthrough   \n",
       "17038    25931  111188157    LYNX1-SLURP2          LYNX1-SLURP2 readthrough   \n",
       "17039    26105  114483834    LOC114483834             ABCF2-H2B readthrough   \n",
       "\n",
       "                pLI    DSI    DPI uniprotkb-id  \n",
       "0      4.991700e-09  0.700  0.538       P04217  \n",
       "1      4.522900e-11  0.529  0.769       P01023  \n",
       "2      1.929400e-14  0.536  0.846       P18440  \n",
       "3      3.274400e-06  0.451  0.885       P11245  \n",
       "4      8.833000e-14  0.486  0.846       P01011  \n",
       "...             ...    ...    ...          ...  \n",
       "17035           NaN    NaN    NaN       P0DPD7  \n",
       "17036           NaN  0.792  0.385       P0DPD6  \n",
       "17037           NaN  0.792  0.385       P0DPD8  \n",
       "17038           NaN  0.839  0.115       P0DP58  \n",
       "17039           NaN    NaN    NaN       Q9UG63  \n",
       "\n",
       "[17040 rows x 8 columns]"
      ]
     },
     "execution_count": 8,
     "metadata": {},
     "output_type": "execute_result"
    }
   ],
   "source": [
    "disgenet_df2 = pd.merge(disgenet_df, disgenet_df_map, on=\"geneId\")\n",
    "disgenet_df2"
   ]
  },
  {
   "cell_type": "code",
   "execution_count": 9,
   "metadata": {},
   "outputs": [
    {
     "data": {
      "text/html": [
       "<div>\n",
       "<style scoped>\n",
       "    .dataframe tbody tr th:only-of-type {\n",
       "        vertical-align: middle;\n",
       "    }\n",
       "\n",
       "    .dataframe tbody tr th {\n",
       "        vertical-align: top;\n",
       "    }\n",
       "\n",
       "    .dataframe thead th {\n",
       "        text-align: right;\n",
       "    }\n",
       "</style>\n",
       "<table border=\"1\" class=\"dataframe\">\n",
       "  <thead>\n",
       "    <tr style=\"text-align: right;\">\n",
       "      <th></th>\n",
       "      <th>geneId</th>\n",
       "      <th>geneName</th>\n",
       "      <th>uniprotkb-id</th>\n",
       "    </tr>\n",
       "  </thead>\n",
       "  <tbody>\n",
       "    <tr>\n",
       "      <th>0</th>\n",
       "      <td>1</td>\n",
       "      <td>A1BG</td>\n",
       "      <td>P04217</td>\n",
       "    </tr>\n",
       "    <tr>\n",
       "      <th>1</th>\n",
       "      <td>2</td>\n",
       "      <td>A2M</td>\n",
       "      <td>P01023</td>\n",
       "    </tr>\n",
       "    <tr>\n",
       "      <th>2</th>\n",
       "      <td>9</td>\n",
       "      <td>NAT1</td>\n",
       "      <td>P18440</td>\n",
       "    </tr>\n",
       "    <tr>\n",
       "      <th>3</th>\n",
       "      <td>10</td>\n",
       "      <td>NAT2</td>\n",
       "      <td>P11245</td>\n",
       "    </tr>\n",
       "    <tr>\n",
       "      <th>4</th>\n",
       "      <td>12</td>\n",
       "      <td>SERPINA3</td>\n",
       "      <td>P01011</td>\n",
       "    </tr>\n",
       "    <tr>\n",
       "      <th>...</th>\n",
       "      <td>...</td>\n",
       "      <td>...</td>\n",
       "      <td>...</td>\n",
       "    </tr>\n",
       "    <tr>\n",
       "      <th>17035</th>\n",
       "      <td>110599564</td>\n",
       "      <td>EEF1AKMT4</td>\n",
       "      <td>P0DPD7</td>\n",
       "    </tr>\n",
       "    <tr>\n",
       "      <th>17036</th>\n",
       "      <td>110599583</td>\n",
       "      <td>EEF1AKMT4-ECE2</td>\n",
       "      <td>P0DPD6</td>\n",
       "    </tr>\n",
       "    <tr>\n",
       "      <th>17037</th>\n",
       "      <td>110599583</td>\n",
       "      <td>EEF1AKMT4-ECE2</td>\n",
       "      <td>P0DPD8</td>\n",
       "    </tr>\n",
       "    <tr>\n",
       "      <th>17038</th>\n",
       "      <td>111188157</td>\n",
       "      <td>LYNX1-SLURP2</td>\n",
       "      <td>P0DP58</td>\n",
       "    </tr>\n",
       "    <tr>\n",
       "      <th>17039</th>\n",
       "      <td>114483834</td>\n",
       "      <td>LOC114483834</td>\n",
       "      <td>Q9UG63</td>\n",
       "    </tr>\n",
       "  </tbody>\n",
       "</table>\n",
       "<p>17040 rows × 3 columns</p>\n",
       "</div>"
      ],
      "text/plain": [
       "          geneId        geneName uniprotkb-id\n",
       "0              1            A1BG       P04217\n",
       "1              2             A2M       P01023\n",
       "2              9            NAT1       P18440\n",
       "3             10            NAT2       P11245\n",
       "4             12        SERPINA3       P01011\n",
       "...          ...             ...          ...\n",
       "17035  110599564       EEF1AKMT4       P0DPD7\n",
       "17036  110599583  EEF1AKMT4-ECE2       P0DPD6\n",
       "17037  110599583  EEF1AKMT4-ECE2       P0DPD8\n",
       "17038  111188157    LYNX1-SLURP2       P0DP58\n",
       "17039  114483834    LOC114483834       Q9UG63\n",
       "\n",
       "[17040 rows x 3 columns]"
      ]
     },
     "execution_count": 9,
     "metadata": {},
     "output_type": "execute_result"
    }
   ],
   "source": [
    "disgenet_df3 = disgenet_df2[[\"geneId\",\"geneName\",\"uniprotkb-id\"]]\n",
    "disgenet_df3"
   ]
  },
  {
   "cell_type": "code",
   "execution_count": 17,
   "metadata": {},
   "outputs": [],
   "source": [
    "non_annot_genes = string_gene_set - disgenet_gene_set.union(drugbank_tgt_gene_set)"
   ]
  },
  {
   "cell_type": "code",
   "execution_count": 18,
   "metadata": {},
   "outputs": [],
   "source": [
    "with open(\"./temp/gene_names.dat\",\"w+\") as fp:\n",
    "    for item in non_annot_genes:\n",
    "        fp.write(item + \"\\n\")\n"
   ]
  },
  {
   "cell_type": "code",
   "execution_count": 44,
   "metadata": {},
   "outputs": [
    {
     "name": "stderr",
     "output_type": "stream",
     "text": [
      "400it [08:46,  1.41it/s]"
     ]
    }
   ],
   "source": [
    "import requests\n",
    "from tqdm import tqdm\n",
    "import time\n",
    "base_url=\"https://rest.uniprot.org/uniprotkb/\"\n",
    "\n",
    "with open(\"non_annot_genes.dat\",\"w+\") as fp:\n",
    "    for idx,item in tqdm(enumerate(list(non_annot_genes))):\n",
    "        url = base_url + \"search?query=gene:\" + item + \"+AND+organism_id:9606&format=tsv&fields=accession,id,gene_names\"\n",
    "        resp = requests.get(url).text\n",
    "        fp.write(resp)\n",
    "        if idx%100==0:\n",
    "            time.sleep(60)\n",
    "\n"
   ]
  },
  {
   "cell_type": "code",
   "execution_count": 42,
   "metadata": {},
   "outputs": [
    {
     "data": {
      "text/plain": [
       "2717"
      ]
     },
     "execution_count": 42,
     "metadata": {},
     "output_type": "execute_result"
    }
   ],
   "source": [
    "list(non_annot_genes).index(item)"
   ]
  },
  {
   "cell_type": "code",
   "execution_count": null,
   "metadata": {},
   "outputs": [],
   "source": []
  }
 ],
 "metadata": {
  "kernelspec": {
   "display_name": "graphdb",
   "language": "python",
   "name": "python3"
  },
  "language_info": {
   "codemirror_mode": {
    "name": "ipython",
    "version": 3
   },
   "file_extension": ".py",
   "mimetype": "text/x-python",
   "name": "python",
   "nbconvert_exporter": "python",
   "pygments_lexer": "ipython3",
   "version": "3.10.8"
  },
  "orig_nbformat": 4
 },
 "nbformat": 4,
 "nbformat_minor": 2
}

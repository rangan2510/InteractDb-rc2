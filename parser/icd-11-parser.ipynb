{
 "cells": [
  {
   "cell_type": "code",
   "execution_count": 13,
   "metadata": {},
   "outputs": [],
   "source": [
    "import pandas as pd\n",
    "icd11_df = pd.read_excel(\"../data/diseases/ICD11/simpletabulation.xlsx\")"
   ]
  },
  {
   "cell_type": "code",
   "execution_count": 14,
   "metadata": {},
   "outputs": [],
   "source": [
    "icd11_df.fillna('', inplace=True)\n",
    "# icd11_df.head(10)"
   ]
  },
  {
   "cell_type": "code",
   "execution_count": 15,
   "metadata": {},
   "outputs": [],
   "source": [
    "icd11_df['Title'] = [x.strip('- ') for x in icd11_df.Title.to_list()]\n",
    "# icd11_df"
   ]
  },
  {
   "cell_type": "code",
   "execution_count": 16,
   "metadata": {},
   "outputs": [],
   "source": [
    "icd10_map_df = pd.read_excel(\"../data/diseases/ICD11/mapping/11To10MapToOneCategory.xlsx\")\n",
    "icd10_map_df = icd10_map_df.iloc[: , :-1]\n",
    "icd10_map_df.fillna('', inplace=True)\n",
    "# icd10_map_df"
   ]
  },
  {
   "cell_type": "code",
   "execution_count": 17,
   "metadata": {},
   "outputs": [],
   "source": [
    "icd11_10_df = pd.merge(icd11_df, icd10_map_df, left_on='Title', right_on='icd11Title', how='outer')"
   ]
  },
  {
   "cell_type": "code",
   "execution_count": 19,
   "metadata": {},
   "outputs": [],
   "source": [
    "icd11_10_df.to_csv(\"./temp/icd11_10.tsv\", sep=\"\\t\", index=False)"
   ]
  },
  {
   "cell_type": "code",
   "execution_count": null,
   "metadata": {},
   "outputs": [],
   "source": []
  }
 ],
 "metadata": {
  "kernelspec": {
   "display_name": "graphdb",
   "language": "python",
   "name": "python3"
  },
  "language_info": {
   "codemirror_mode": {
    "name": "ipython",
    "version": 3
   },
   "file_extension": ".py",
   "mimetype": "text/x-python",
   "name": "python",
   "nbconvert_exporter": "python",
   "pygments_lexer": "ipython3",
   "version": "3.10.8 | packaged by conda-forge | (main, Nov 24 2022, 14:07:00) [MSC v.1916 64 bit (AMD64)]"
  },
  "orig_nbformat": 4,
  "vscode": {
   "interpreter": {
    "hash": "f51c3c123ce59990d1b7bd17888f688afcbbdcd96e8b7c1c9198800b79cf0743"
   }
  }
 },
 "nbformat": 4,
 "nbformat_minor": 2
}

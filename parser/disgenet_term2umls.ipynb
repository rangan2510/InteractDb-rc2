{
 "cells": [
  {
   "cell_type": "code",
   "execution_count": 5,
   "metadata": {},
   "outputs": [],
   "source": [
    "import pandas as pd\n",
    "import requests\n",
    "from tqdm import tqdm\n",
    "\n",
    "API_KEY = \"daf208d2-ab96-4c94-8641-0fde055bbe91\"\n",
    "VERSION = 'current'\n",
    "SABS = 'MSH,SNOMEDCT_US'"
   ]
  },
  {
   "cell_type": "code",
   "execution_count": 25,
   "metadata": {},
   "outputs": [
    {
     "data": {
      "text/html": [
       "<div>\n",
       "<style scoped>\n",
       "    .dataframe tbody tr th:only-of-type {\n",
       "        vertical-align: middle;\n",
       "    }\n",
       "\n",
       "    .dataframe tbody tr th {\n",
       "        vertical-align: top;\n",
       "    }\n",
       "\n",
       "    .dataframe thead th {\n",
       "        text-align: right;\n",
       "    }\n",
       "</style>\n",
       "<table border=\"1\" class=\"dataframe\">\n",
       "  <thead>\n",
       "    <tr style=\"text-align: right;\">\n",
       "      <th></th>\n",
       "      <th>umls_cui</th>\n",
       "      <th>kind</th>\n",
       "      <th>meddra_id</th>\n",
       "      <th>name</th>\n",
       "    </tr>\n",
       "  </thead>\n",
       "  <tbody>\n",
       "    <tr>\n",
       "      <th>0</th>\n",
       "      <td>C0000727</td>\n",
       "      <td>LT</td>\n",
       "      <td>10000647</td>\n",
       "      <td>Acute abdomen</td>\n",
       "    </tr>\n",
       "    <tr>\n",
       "      <th>1</th>\n",
       "      <td>C0000727</td>\n",
       "      <td>PT</td>\n",
       "      <td>10000647</td>\n",
       "      <td>Acute abdomen</td>\n",
       "    </tr>\n",
       "    <tr>\n",
       "      <th>2</th>\n",
       "      <td>C0000727</td>\n",
       "      <td>LT</td>\n",
       "      <td>10042784</td>\n",
       "      <td>Syndrome abdominal acute</td>\n",
       "    </tr>\n",
       "    <tr>\n",
       "      <th>3</th>\n",
       "      <td>C0000727</td>\n",
       "      <td>LT</td>\n",
       "      <td>10000096</td>\n",
       "      <td>Abdominal syndrome acute</td>\n",
       "    </tr>\n",
       "    <tr>\n",
       "      <th>4</th>\n",
       "      <td>C0000729</td>\n",
       "      <td>LT</td>\n",
       "      <td>10000057</td>\n",
       "      <td>Abdominal cramps</td>\n",
       "    </tr>\n",
       "    <tr>\n",
       "      <th>...</th>\n",
       "      <td>...</td>\n",
       "      <td>...</td>\n",
       "      <td>...</td>\n",
       "      <td>...</td>\n",
       "    </tr>\n",
       "    <tr>\n",
       "      <th>95907</th>\n",
       "      <td>C3666015</td>\n",
       "      <td>LT</td>\n",
       "      <td>10074155</td>\n",
       "      <td>Device material degradation</td>\n",
       "    </tr>\n",
       "    <tr>\n",
       "      <th>95908</th>\n",
       "      <td>C3666016</td>\n",
       "      <td>LT</td>\n",
       "      <td>10074210</td>\n",
       "      <td>Coarse breath sounds</td>\n",
       "    </tr>\n",
       "    <tr>\n",
       "      <th>95909</th>\n",
       "      <td>C3666017</td>\n",
       "      <td>LT</td>\n",
       "      <td>10074226</td>\n",
       "      <td>Cholangiopathy</td>\n",
       "    </tr>\n",
       "    <tr>\n",
       "      <th>95910</th>\n",
       "      <td>C3666018</td>\n",
       "      <td>LT</td>\n",
       "      <td>10074267</td>\n",
       "      <td>Spontaneous ejaculation</td>\n",
       "    </tr>\n",
       "    <tr>\n",
       "      <th>95911</th>\n",
       "      <td>C3666018</td>\n",
       "      <td>PT</td>\n",
       "      <td>10074267</td>\n",
       "      <td>Spontaneous ejaculation</td>\n",
       "    </tr>\n",
       "  </tbody>\n",
       "</table>\n",
       "<p>95912 rows × 4 columns</p>\n",
       "</div>"
      ],
      "text/plain": [
       "       umls_cui kind  meddra_id                         name\n",
       "0      C0000727   LT   10000647                Acute abdomen\n",
       "1      C0000727   PT   10000647                Acute abdomen\n",
       "2      C0000727   LT   10042784     Syndrome abdominal acute\n",
       "3      C0000727   LT   10000096     Abdominal syndrome acute\n",
       "4      C0000729   LT   10000057             Abdominal cramps\n",
       "...         ...  ...        ...                          ...\n",
       "95907  C3666015   LT   10074155  Device material degradation\n",
       "95908  C3666016   LT   10074210         Coarse breath sounds\n",
       "95909  C3666017   LT   10074226               Cholangiopathy\n",
       "95910  C3666018   LT   10074267      Spontaneous ejaculation\n",
       "95911  C3666018   PT   10074267      Spontaneous ejaculation\n",
       "\n",
       "[95912 rows x 4 columns]"
      ]
     },
     "execution_count": 25,
     "metadata": {},
     "output_type": "execute_result"
    }
   ],
   "source": [
    "meddra_umls_df = pd.read_csv(\"../data/side_effects/meddra.tsv\", sep=\"\\t\", \n",
    "header=None, \n",
    "names=['umls_cui','kind','meddra_id', 'name']\n",
    ")\n",
    "\n",
    "meddra_umls_df"
   ]
  },
  {
   "cell_type": "code",
   "execution_count": 26,
   "metadata": {},
   "outputs": [],
   "source": [
    "cui_list = meddra_umls_df['umls_cui'].to_list()\n",
    "cui_list = list(set(cui_list))"
   ]
  },
  {
   "cell_type": "code",
   "execution_count": 29,
   "metadata": {},
   "outputs": [
    {
     "name": "stderr",
     "output_type": "stream",
     "text": [
      "  0%|          | 0/1 [00:00<?, ?it/s]"
     ]
    },
    {
     "name": "stdout",
     "output_type": "stream",
     "text": [
      "query cui: C0262537\n"
     ]
    },
    {
     "name": "stderr",
     "output_type": "stream",
     "text": [
      "100%|██████████| 1/1 [00:01<00:00,  1.82s/it]\n"
     ]
    }
   ],
   "source": [
    "base_uri = 'https://uts-ws.nlm.nih.gov'\n",
    "\n",
    "collated_resp = []\n",
    "\n",
    "for cui in tqdm(cui_list[:1]):\n",
    "    page = 0\n",
    "\n",
    "    print(\"query cui:\", cui)\n",
    "\n",
    "    while True:\n",
    "        page += 1\n",
    "        path = '/search/'+VERSION\n",
    "        query = {'apiKey':API_KEY, 'string':cui, 'sabs':SABS, 'returnIdType':'code', 'pageNumber':page}\n",
    "        output = requests.get(base_uri+path, params=query)\n",
    "        output.encoding = 'utf-8'\n",
    "        #print(output.url)\n",
    "    \n",
    "        outputJson = output.json()\n",
    "    \n",
    "        results = (([outputJson['result']])[0])['results']\n",
    "\n",
    "        collated_resp.append(results)\n",
    "        \n",
    "        if len(results) == 0:\n",
    "            if page == 1:\n",
    "                print('No results found for ' + cui +'\\n')\n",
    "                break\n",
    "            else:\n",
    "                break\n"
   ]
  },
  {
   "cell_type": "code",
   "execution_count": 30,
   "metadata": {},
   "outputs": [
    {
     "data": {
      "text/plain": [
       "[[{'ui': '236022004',\n",
       "   'rootSource': 'SNOMEDCT_US',\n",
       "   'uri': 'https://uts-ws.nlm.nih.gov/rest/content/2022AB/source/SNOMEDCT_US/236022004',\n",
       "   'name': 'Left inguinal hernia'}],\n",
       " []]"
      ]
     },
     "execution_count": 30,
     "metadata": {},
     "output_type": "execute_result"
    }
   ],
   "source": [
    "collated_resp"
   ]
  },
  {
   "cell_type": "code",
   "execution_count": 34,
   "metadata": {},
   "outputs": [
    {
     "data": {
      "text/plain": [
       "'C0262537'"
      ]
     },
     "execution_count": 34,
     "metadata": {},
     "output_type": "execute_result"
    }
   ],
   "source": [
    "cui"
   ]
  },
  {
   "cell_type": "code",
   "execution_count": 35,
   "metadata": {},
   "outputs": [],
   "source": [
    "path = '/search/'+VERSION\n",
    "query = {'apiKey':API_KEY, 'string':cui, 'sabs':SABS, 'returnIdType':'code', 'pageNumber':page}\n",
    "output = requests.get(base_uri+path, params=query)\n",
    "output.encoding = 'utf-8'\n",
    "#print(output.url)\n",
    "outputJson = output.json()\n",
    "results = (([outputJson['result']])[0])['results']"
   ]
  },
  {
   "cell_type": "code",
   "execution_count": 36,
   "metadata": {},
   "outputs": [
    {
     "data": {
      "text/plain": [
       "[]"
      ]
     },
     "execution_count": 36,
     "metadata": {},
     "output_type": "execute_result"
    }
   ],
   "source": [
    "results"
   ]
  },
  {
   "cell_type": "code",
   "execution_count": null,
   "metadata": {},
   "outputs": [],
   "source": []
  }
 ],
 "metadata": {
  "kernelspec": {
   "display_name": "graphdb",
   "language": "python",
   "name": "python3"
  },
  "language_info": {
   "codemirror_mode": {
    "name": "ipython",
    "version": 3
   },
   "file_extension": ".py",
   "mimetype": "text/x-python",
   "name": "python",
   "nbconvert_exporter": "python",
   "pygments_lexer": "ipython3",
   "version": "3.10.8"
  },
  "orig_nbformat": 4,
  "vscode": {
   "interpreter": {
    "hash": "f51c3c123ce59990d1b7bd17888f688afcbbdcd96e8b7c1c9198800b79cf0743"
   }
  }
 },
 "nbformat": 4,
 "nbformat_minor": 2
}

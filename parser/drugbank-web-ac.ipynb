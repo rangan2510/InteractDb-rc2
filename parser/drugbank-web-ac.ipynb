{
  "cells": [
    {
      "cell_type": "code",
      "execution_count": null,
      "metadata": {
        "id": "KezM52KYZruY"
      },
      "outputs": [],
      "source": [
        "import requests as req\n",
        "from bs4 import BeautifulSoup\n",
        "import pandas as pd"
      ]
    },
    {
      "cell_type": "code",
      "execution_count": null,
      "metadata": {
        "id": "8m1xIYh4tMcV"
      },
      "outputs": [],
      "source": [
        "table = pd.read_excel('parser/tables/drug_nodes_identifiers.xlsx')"
      ]
    },
    {
      "cell_type": "code",
      "execution_count": null,
      "metadata": {
        "id": "wwpj-nI2BVsH"
      },
      "outputs": [],
      "source": [
        "drug_id = table[\"drugbank-id\"]"
      ]
    },
    {
      "cell_type": "code",
      "execution_count": null,
      "metadata": {
        "id": "qNk5xAafC5cY"
      },
      "outputs": [],
      "source": [
        "def extract_words_between_strings(sentence, start_string, end_string):\n",
        "    extracted_words = []\n",
        "    start_index = sentence.find(start_string)\n",
        "\n",
        "    while start_index != -1:\n",
        "        start_index += len(start_string)\n",
        "        end_index = sentence.find(end_string, start_index)\n",
        "\n",
        "        if end_index != -1:\n",
        "            words = sentence[start_index:end_index].strip()\n",
        "            extracted_words.append(words)\n",
        "            start_index = sentence.find(start_string, end_index)\n",
        "        else:\n",
        "            break\n",
        "\n",
        "    return extracted_words"
      ]
    },
    {
      "cell_type": "code",
      "execution_count": null,
      "metadata": {
        "id": "iIF1uqMdC_Av"
      },
      "outputs": [],
      "source": [
        "start_string = \"Associated Conditions\"\n",
        "end_string = \"Contraindications\"\n",
        "baseURL = \"https://go.drugbank.com/drugs/\"\n",
        "\n",
        "drug_cond = pd.DataFrame()"
      ]
    },
    {
      "cell_type": "code",
      "execution_count": null,
      "metadata": {
        "id": "iezXTZQKaW02"
      },
      "outputs": [],
      "source": [
        "for dbid in drug_id:\n",
        "  page = req.get(baseURL+str(dbid))\n",
        "  soup = BeautifulSoup(page.content, \"html.parser\")\n",
        "  content = soup.text\n",
        "  # print(content)\n",
        "  disease_list = extract_words_between_strings(content, start_string, end_string)\n",
        "  disease_list = [disease for disease in disease_list if disease.strip()]\n",
        "  disease_names = []\n",
        "  for disease in disease_list:\n",
        "      disease_names.extend(disease.split('\\n'))\n",
        "  disease_names = [name.strip() for name in disease_names]\n",
        "  data = pd.DataFrame({\"assoc_cond\": disease_names})\n",
        "  data[\"drugbank-id\"] = dbid\n",
        "  drug_cond = drug_cond.append(data).reset_index(drop=True)"
      ]
    },
    {
      "cell_type": "code",
      "source": [
        "df_filtered = drug_cond[drug_cond['assoc_cond'] != \"Associated Therapies\"]\n",
        "df_filtered = df_filtered[df_filtered['assoc_cond'] != \"\"]"
      ],
      "metadata": {
        "id": "IBMDHSahRY-Z"
      },
      "execution_count": null,
      "outputs": []
    },
    {
      "cell_type": "code",
      "source": [
        "df_filtered['assoc_cond'] = df_filtered['assoc_cond'].str.replace(r'(.*)Associated Therapies.*', r'\\1', regex=True)"
      ],
      "metadata": {
        "id": "lVeg1TvsSyfx"
      },
      "execution_count": null,
      "outputs": []
    },
    {
      "cell_type": "code",
      "source": [
        "df_filtered"
      ],
      "metadata": {
        "colab": {
          "base_uri": "https://localhost:8080/",
          "height": 441
        },
        "id": "cZ5I06ozUEyV",
        "outputId": "fd3e2422-c763-4537-da4e-90cb8e9ab184"
      },
      "execution_count": null,
      "outputs": [
        {
          "output_type": "execute_result",
          "data": {
            "text/plain": [
              "                                              assoc_cond drugbank-id\n",
              "0      Locally Advanced Squamous Cell Carcinomas of t...     DB00002\n",
              "1                     Metastatic Colorectal Cancer (CRC)     DB00002\n",
              "2      Metastatic Squamous Cell Carcinoma of the Head...     DB00002\n",
              "3      Regionally Advanced Squamous Cell Carcinoma of...     DB00002\n",
              "4      Recurrent Squamous Cell Carcinoma of the Head ...     DB00002\n",
              "...                                                  ...         ...\n",
              "15006                Coronavirus Disease 2019 (COVID‑19)     DB17090\n",
              "15007                Coronavirus Disease 2019 (COVID‑19)     DB17091\n",
              "15008                Coronavirus Disease 2019 (COVID‑19)     DB17095\n",
              "15009  High risk BCG-unresponsive non-muscle invasive...     DB17381\n",
              "15010                            Ventilation of the Lung     DB17386\n",
              "\n",
              "[13842 rows x 2 columns]"
            ],
            "text/html": [
              "\n",
              "\n",
              "  <div id=\"df-10ce51ce-1da5-495b-8de5-4f64b2edd093\">\n",
              "    <div class=\"colab-df-container\">\n",
              "      <div>\n",
              "<style scoped>\n",
              "    .dataframe tbody tr th:only-of-type {\n",
              "        vertical-align: middle;\n",
              "    }\n",
              "\n",
              "    .dataframe tbody tr th {\n",
              "        vertical-align: top;\n",
              "    }\n",
              "\n",
              "    .dataframe thead th {\n",
              "        text-align: right;\n",
              "    }\n",
              "</style>\n",
              "<table border=\"1\" class=\"dataframe\">\n",
              "  <thead>\n",
              "    <tr style=\"text-align: right;\">\n",
              "      <th></th>\n",
              "      <th>assoc_cond</th>\n",
              "      <th>drugbank-id</th>\n",
              "    </tr>\n",
              "  </thead>\n",
              "  <tbody>\n",
              "    <tr>\n",
              "      <th>0</th>\n",
              "      <td>Locally Advanced Squamous Cell Carcinomas of t...</td>\n",
              "      <td>DB00002</td>\n",
              "    </tr>\n",
              "    <tr>\n",
              "      <th>1</th>\n",
              "      <td>Metastatic Colorectal Cancer (CRC)</td>\n",
              "      <td>DB00002</td>\n",
              "    </tr>\n",
              "    <tr>\n",
              "      <th>2</th>\n",
              "      <td>Metastatic Squamous Cell Carcinoma of the Head...</td>\n",
              "      <td>DB00002</td>\n",
              "    </tr>\n",
              "    <tr>\n",
              "      <th>3</th>\n",
              "      <td>Regionally Advanced Squamous Cell Carcinoma of...</td>\n",
              "      <td>DB00002</td>\n",
              "    </tr>\n",
              "    <tr>\n",
              "      <th>4</th>\n",
              "      <td>Recurrent Squamous Cell Carcinoma of the Head ...</td>\n",
              "      <td>DB00002</td>\n",
              "    </tr>\n",
              "    <tr>\n",
              "      <th>...</th>\n",
              "      <td>...</td>\n",
              "      <td>...</td>\n",
              "    </tr>\n",
              "    <tr>\n",
              "      <th>15006</th>\n",
              "      <td>Coronavirus Disease 2019 (COVID‑19)</td>\n",
              "      <td>DB17090</td>\n",
              "    </tr>\n",
              "    <tr>\n",
              "      <th>15007</th>\n",
              "      <td>Coronavirus Disease 2019 (COVID‑19)</td>\n",
              "      <td>DB17091</td>\n",
              "    </tr>\n",
              "    <tr>\n",
              "      <th>15008</th>\n",
              "      <td>Coronavirus Disease 2019 (COVID‑19)</td>\n",
              "      <td>DB17095</td>\n",
              "    </tr>\n",
              "    <tr>\n",
              "      <th>15009</th>\n",
              "      <td>High risk BCG-unresponsive non-muscle invasive...</td>\n",
              "      <td>DB17381</td>\n",
              "    </tr>\n",
              "    <tr>\n",
              "      <th>15010</th>\n",
              "      <td>Ventilation of the Lung</td>\n",
              "      <td>DB17386</td>\n",
              "    </tr>\n",
              "  </tbody>\n",
              "</table>\n",
              "<p>13842 rows × 2 columns</p>\n",
              "</div>\n",
              "      <button class=\"colab-df-convert\" onclick=\"convertToInteractive('df-10ce51ce-1da5-495b-8de5-4f64b2edd093')\"\n",
              "              title=\"Convert this dataframe to an interactive table.\"\n",
              "              style=\"display:none;\">\n",
              "\n",
              "  <svg xmlns=\"http://www.w3.org/2000/svg\" height=\"24px\"viewBox=\"0 0 24 24\"\n",
              "       width=\"24px\">\n",
              "    <path d=\"M0 0h24v24H0V0z\" fill=\"none\"/>\n",
              "    <path d=\"M18.56 5.44l.94 2.06.94-2.06 2.06-.94-2.06-.94-.94-2.06-.94 2.06-2.06.94zm-11 1L8.5 8.5l.94-2.06 2.06-.94-2.06-.94L8.5 2.5l-.94 2.06-2.06.94zm10 10l.94 2.06.94-2.06 2.06-.94-2.06-.94-.94-2.06-.94 2.06-2.06.94z\"/><path d=\"M17.41 7.96l-1.37-1.37c-.4-.4-.92-.59-1.43-.59-.52 0-1.04.2-1.43.59L10.3 9.45l-7.72 7.72c-.78.78-.78 2.05 0 2.83L4 21.41c.39.39.9.59 1.41.59.51 0 1.02-.2 1.41-.59l7.78-7.78 2.81-2.81c.8-.78.8-2.07 0-2.86zM5.41 20L4 18.59l7.72-7.72 1.47 1.35L5.41 20z\"/>\n",
              "  </svg>\n",
              "      </button>\n",
              "\n",
              "\n",
              "\n",
              "    <div id=\"df-eec1645c-d426-4a38-8f6e-5fbbacdb52c9\">\n",
              "      <button class=\"colab-df-quickchart\" onclick=\"quickchart('df-eec1645c-d426-4a38-8f6e-5fbbacdb52c9')\"\n",
              "              title=\"Suggest charts.\"\n",
              "              style=\"display:none;\">\n",
              "\n",
              "<svg xmlns=\"http://www.w3.org/2000/svg\" height=\"24px\"viewBox=\"0 0 24 24\"\n",
              "     width=\"24px\">\n",
              "    <g>\n",
              "        <path d=\"M19 3H5c-1.1 0-2 .9-2 2v14c0 1.1.9 2 2 2h14c1.1 0 2-.9 2-2V5c0-1.1-.9-2-2-2zM9 17H7v-7h2v7zm4 0h-2V7h2v10zm4 0h-2v-4h2v4z\"/>\n",
              "    </g>\n",
              "</svg>\n",
              "      </button>\n",
              "    </div>\n",
              "\n",
              "<style>\n",
              "  .colab-df-quickchart {\n",
              "    background-color: #E8F0FE;\n",
              "    border: none;\n",
              "    border-radius: 50%;\n",
              "    cursor: pointer;\n",
              "    display: none;\n",
              "    fill: #1967D2;\n",
              "    height: 32px;\n",
              "    padding: 0 0 0 0;\n",
              "    width: 32px;\n",
              "  }\n",
              "\n",
              "  .colab-df-quickchart:hover {\n",
              "    background-color: #E2EBFA;\n",
              "    box-shadow: 0px 1px 2px rgba(60, 64, 67, 0.3), 0px 1px 3px 1px rgba(60, 64, 67, 0.15);\n",
              "    fill: #174EA6;\n",
              "  }\n",
              "\n",
              "  [theme=dark] .colab-df-quickchart {\n",
              "    background-color: #3B4455;\n",
              "    fill: #D2E3FC;\n",
              "  }\n",
              "\n",
              "  [theme=dark] .colab-df-quickchart:hover {\n",
              "    background-color: #434B5C;\n",
              "    box-shadow: 0px 1px 3px 1px rgba(0, 0, 0, 0.15);\n",
              "    filter: drop-shadow(0px 1px 2px rgba(0, 0, 0, 0.3));\n",
              "    fill: #FFFFFF;\n",
              "  }\n",
              "</style>\n",
              "\n",
              "    <script>\n",
              "      async function quickchart(key) {\n",
              "        const containerElement = document.querySelector('#' + key);\n",
              "        const charts = await google.colab.kernel.invokeFunction(\n",
              "            'suggestCharts', [key], {});\n",
              "      }\n",
              "    </script>\n",
              "\n",
              "      <script>\n",
              "\n",
              "function displayQuickchartButton(domScope) {\n",
              "  let quickchartButtonEl =\n",
              "    domScope.querySelector('#df-eec1645c-d426-4a38-8f6e-5fbbacdb52c9 button.colab-df-quickchart');\n",
              "  quickchartButtonEl.style.display =\n",
              "    google.colab.kernel.accessAllowed ? 'block' : 'none';\n",
              "}\n",
              "\n",
              "        displayQuickchartButton(document);\n",
              "      </script>\n",
              "      <style>\n",
              "    .colab-df-container {\n",
              "      display:flex;\n",
              "      flex-wrap:wrap;\n",
              "      gap: 12px;\n",
              "    }\n",
              "\n",
              "    .colab-df-convert {\n",
              "      background-color: #E8F0FE;\n",
              "      border: none;\n",
              "      border-radius: 50%;\n",
              "      cursor: pointer;\n",
              "      display: none;\n",
              "      fill: #1967D2;\n",
              "      height: 32px;\n",
              "      padding: 0 0 0 0;\n",
              "      width: 32px;\n",
              "    }\n",
              "\n",
              "    .colab-df-convert:hover {\n",
              "      background-color: #E2EBFA;\n",
              "      box-shadow: 0px 1px 2px rgba(60, 64, 67, 0.3), 0px 1px 3px 1px rgba(60, 64, 67, 0.15);\n",
              "      fill: #174EA6;\n",
              "    }\n",
              "\n",
              "    [theme=dark] .colab-df-convert {\n",
              "      background-color: #3B4455;\n",
              "      fill: #D2E3FC;\n",
              "    }\n",
              "\n",
              "    [theme=dark] .colab-df-convert:hover {\n",
              "      background-color: #434B5C;\n",
              "      box-shadow: 0px 1px 3px 1px rgba(0, 0, 0, 0.15);\n",
              "      filter: drop-shadow(0px 1px 2px rgba(0, 0, 0, 0.3));\n",
              "      fill: #FFFFFF;\n",
              "    }\n",
              "  </style>\n",
              "\n",
              "      <script>\n",
              "        const buttonEl =\n",
              "          document.querySelector('#df-10ce51ce-1da5-495b-8de5-4f64b2edd093 button.colab-df-convert');\n",
              "        buttonEl.style.display =\n",
              "          google.colab.kernel.accessAllowed ? 'block' : 'none';\n",
              "\n",
              "        async function convertToInteractive(key) {\n",
              "          const element = document.querySelector('#df-10ce51ce-1da5-495b-8de5-4f64b2edd093');\n",
              "          const dataTable =\n",
              "            await google.colab.kernel.invokeFunction('convertToInteractive',\n",
              "                                                     [key], {});\n",
              "          if (!dataTable) return;\n",
              "\n",
              "          const docLinkHtml = 'Like what you see? Visit the ' +\n",
              "            '<a target=\"_blank\" href=https://colab.research.google.com/notebooks/data_table.ipynb>data table notebook</a>'\n",
              "            + ' to learn more about interactive tables.';\n",
              "          element.innerHTML = '';\n",
              "          dataTable['output_type'] = 'display_data';\n",
              "          await google.colab.output.renderOutput(dataTable, element);\n",
              "          const docLink = document.createElement('div');\n",
              "          docLink.innerHTML = docLinkHtml;\n",
              "          element.appendChild(docLink);\n",
              "        }\n",
              "      </script>\n",
              "    </div>\n",
              "  </div>\n"
            ]
          },
          "metadata": {},
          "execution_count": 25
        },
        {
          "output_type": "stream",
          "name": "stdout",
          "text": [
            "No charts were generated by quickchart\n"
          ]
        }
      ]
    },
    {
      "cell_type": "code",
      "source": [
        "df_filtered.to_csv(\"DBID_AssocCondn.csv\", drop_index=True)"
      ],
      "metadata": {
        "id": "6GxgfNS4Tg8E"
      },
      "execution_count": null,
      "outputs": []
    }
  ],
  "metadata": {
    "colab": {
      "collapsed_sections": [
        "GGDt31j2ZcFl"
      ],
      "provenance": []
    },
    "kernelspec": {
      "display_name": "Python 3",
      "name": "python3"
    },
    "language_info": {
      "name": "python"
    }
  },
  "nbformat": 4,
  "nbformat_minor": 0
}

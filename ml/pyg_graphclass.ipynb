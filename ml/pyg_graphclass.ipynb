{
 "cells": [
  {
   "cell_type": "code",
   "execution_count": 24,
   "metadata": {},
   "outputs": [],
   "source": [
    "# import packages\n",
    "\n",
    "# general tools\n",
    "import numpy as np\n",
    "import pandas as pd\n",
    "from statistics import mean\n",
    "\n",
    "# RDkit\n",
    "from rdkit import Chem\n",
    "from rdkit.Chem.rdmolops import GetAdjacencyMatrix\n",
    "\n",
    "# Pytorch and Pytorch Geometric\n",
    "import torch\n",
    "import torch.nn as nn\n",
    "import torch.nn.functional as F\n",
    "from torch_geometric.data import Data\n",
    "from torch.utils.data import DataLoader\n",
    "\n",
    "from torch_geometric.nn import GAE, VGAE, GCNConv"
   ]
  },
  {
   "cell_type": "code",
   "execution_count": 25,
   "metadata": {},
   "outputs": [
    {
     "name": "stderr",
     "output_type": "stream",
     "text": [
      "[11:04:29] Explicit valence for atom # 13 Cl, 5, is greater than permitted\n",
      "[11:04:29] ERROR: Could not sanitize molecule ending on line 298551\n",
      "[11:04:29] ERROR: Explicit valence for atom # 13 Cl, 5, is greater than permitted\n",
      "[11:04:30] Explicit valence for atom # 19 O, 3, is greater than permitted\n",
      "[11:04:30] ERROR: Could not sanitize molecule ending on line 412786\n",
      "[11:04:30] ERROR: Explicit valence for atom # 19 O, 3, is greater than permitted\n",
      "[11:04:30] Explicit valence for atom # 1 N, 4, is greater than permitted\n",
      "[11:04:30] ERROR: Could not sanitize molecule ending on line 540739\n",
      "[11:04:30] ERROR: Explicit valence for atom # 1 N, 4, is greater than permitted\n",
      "[11:04:30] Explicit valence for atom # 1 N, 4, is greater than permitted\n",
      "[11:04:30] ERROR: Could not sanitize molecule ending on line 598037\n",
      "[11:04:30] ERROR: Explicit valence for atom # 1 N, 4, is greater than permitted\n",
      "[11:04:30] Explicit valence for atom # 12 N, 4, is greater than permitted\n",
      "[11:04:30] ERROR: Could not sanitize molecule ending on line 634779\n",
      "[11:04:30] ERROR: Explicit valence for atom # 12 N, 4, is greater than permitted\n",
      "[11:04:30] Explicit valence for atom # 20 N, 4, is greater than permitted\n",
      "[11:04:30] ERROR: Could not sanitize molecule ending on line 656102\n",
      "[11:04:30] ERROR: Explicit valence for atom # 20 N, 4, is greater than permitted\n",
      "[11:04:31] Explicit valence for atom # 0 Be, 3, is greater than permitted\n",
      "[11:04:31] ERROR: Could not sanitize molecule ending on line 1128930\n",
      "[11:04:31] ERROR: Explicit valence for atom # 0 Be, 3, is greater than permitted\n",
      "[11:04:32] Explicit valence for atom # 28 N, 4, is greater than permitted\n",
      "[11:04:32] ERROR: Could not sanitize molecule ending on line 1288745\n",
      "[11:04:32] ERROR: Explicit valence for atom # 28 N, 4, is greater than permitted\n",
      "[11:04:32] Explicit valence for atom # 1 Cl, 4, is greater than permitted\n",
      "[11:04:32] ERROR: Could not sanitize molecule ending on line 1480863\n",
      "[11:04:32] ERROR: Explicit valence for atom # 1 Cl, 4, is greater than permitted\n",
      "[11:04:33] Explicit valence for atom # 7 K, 2, is greater than permitted\n",
      "[11:04:33] ERROR: Could not sanitize molecule ending on line 1729713\n",
      "[11:04:33] ERROR: Explicit valence for atom # 7 K, 2, is greater than permitted\n",
      "[11:04:33] WARNING: not removing hydrogen atom without neighbors\n",
      "[11:04:33] WARNING: not removing hydrogen atom without neighbors\n",
      "[11:04:33] Explicit valence for atom # 0 N, 4, is greater than permitted\n",
      "[11:04:33] ERROR: Could not sanitize molecule ending on line 1980681\n",
      "[11:04:33] ERROR: Explicit valence for atom # 0 N, 4, is greater than permitted\n"
     ]
    }
   ],
   "source": [
    "from rdkit.Chem import PandasTools\n",
    "SDFFile = \"../data/drugs/drugbank_5.1.10/structures.sdf\"\n",
    "struct_df = PandasTools.LoadSDF(SDFFile)"
   ]
  },
  {
   "cell_type": "code",
   "execution_count": 26,
   "metadata": {},
   "outputs": [
    {
     "data": {
      "text/html": [
       "<div>\n",
       "<style scoped>\n",
       "    .dataframe tbody tr th:only-of-type {\n",
       "        vertical-align: middle;\n",
       "    }\n",
       "\n",
       "    .dataframe tbody tr th {\n",
       "        vertical-align: top;\n",
       "    }\n",
       "\n",
       "    .dataframe thead th {\n",
       "        text-align: right;\n",
       "    }\n",
       "</style>\n",
       "<table border=\"1\" class=\"dataframe\">\n",
       "  <thead>\n",
       "    <tr style=\"text-align: right;\">\n",
       "      <th></th>\n",
       "      <th>DATABASE_ID</th>\n",
       "      <th>SMILES</th>\n",
       "      <th>JCHEM_POLAR_SURFACE_AREA</th>\n",
       "    </tr>\n",
       "  </thead>\n",
       "  <tbody>\n",
       "    <tr>\n",
       "      <th>0</th>\n",
       "      <td>DB00006</td>\n",
       "      <td>CC[C@H](C)[C@H](NC(=O)[C@H](CCC(O)=O)NC(=O)[C@...</td>\n",
       "      <td>901.5700000000002</td>\n",
       "    </tr>\n",
       "    <tr>\n",
       "      <th>1</th>\n",
       "      <td>DB00007</td>\n",
       "      <td>CCNC(=O)[C@@H]1CCCN1C(=O)[C@H](CCCNC(N)=N)NC(=...</td>\n",
       "      <td>429.04</td>\n",
       "    </tr>\n",
       "    <tr>\n",
       "      <th>2</th>\n",
       "      <td>DB00014</td>\n",
       "      <td>CC(C)C[C@H](NC(=O)[C@@H](COC(C)(C)C)NC(=O)[C@H...</td>\n",
       "      <td>495.8899999999997</td>\n",
       "    </tr>\n",
       "    <tr>\n",
       "      <th>3</th>\n",
       "      <td>DB00027</td>\n",
       "      <td>CC(C)C[C@@H](NC(=O)CNC(=O)[C@@H](NC=O)C(C)C)C(...</td>\n",
       "      <td>519.8899999999996</td>\n",
       "    </tr>\n",
       "    <tr>\n",
       "      <th>4</th>\n",
       "      <td>DB00035</td>\n",
       "      <td>NC(=O)CC[C@@H]1NC(=O)[C@H](CC2=CC=CC=C2)NC(=O)...</td>\n",
       "      <td>435.40999999999985</td>\n",
       "    </tr>\n",
       "    <tr>\n",
       "      <th>...</th>\n",
       "      <td>...</td>\n",
       "      <td>...</td>\n",
       "      <td>...</td>\n",
       "    </tr>\n",
       "    <tr>\n",
       "      <th>11577</th>\n",
       "      <td>DB17309</td>\n",
       "      <td>[Na+].[Na+].[H][C@@]12C[C@@H]3O[C@@]33[C@H](OC...</td>\n",
       "      <td>145.54</td>\n",
       "    </tr>\n",
       "    <tr>\n",
       "      <th>11578</th>\n",
       "      <td>DB17312</td>\n",
       "      <td>[212Pb++].[H][C@](C)(O)[C@]([H])(N=C(O)[C@]1([...</td>\n",
       "      <td>551.3800000000003</td>\n",
       "    </tr>\n",
       "    <tr>\n",
       "      <th>11579</th>\n",
       "      <td>DB17342</td>\n",
       "      <td>CCCCCCCCCCCCCC[N+](C)(C)C</td>\n",
       "      <td>0.0</td>\n",
       "    </tr>\n",
       "    <tr>\n",
       "      <th>11580</th>\n",
       "      <td>DB17352</td>\n",
       "      <td>CSCC[C@H](NC(=O)[C@@H](N)CC1=CC=C(O)C=C1)C(=O)...</td>\n",
       "      <td>362.09</td>\n",
       "    </tr>\n",
       "    <tr>\n",
       "      <th>11581</th>\n",
       "      <td>DB17379</td>\n",
       "      <td>CC(C)C1=C(O)C(O)=C(C=O)C2=C(O)C(=C(C)C=C12)C1=...</td>\n",
       "      <td>155.52</td>\n",
       "    </tr>\n",
       "  </tbody>\n",
       "</table>\n",
       "<p>11563 rows × 3 columns</p>\n",
       "</div>"
      ],
      "text/plain": [
       "      DATABASE_ID                                             SMILES  \\\n",
       "0         DB00006  CC[C@H](C)[C@H](NC(=O)[C@H](CCC(O)=O)NC(=O)[C@...   \n",
       "1         DB00007  CCNC(=O)[C@@H]1CCCN1C(=O)[C@H](CCCNC(N)=N)NC(=...   \n",
       "2         DB00014  CC(C)C[C@H](NC(=O)[C@@H](COC(C)(C)C)NC(=O)[C@H...   \n",
       "3         DB00027  CC(C)C[C@@H](NC(=O)CNC(=O)[C@@H](NC=O)C(C)C)C(...   \n",
       "4         DB00035  NC(=O)CC[C@@H]1NC(=O)[C@H](CC2=CC=CC=C2)NC(=O)...   \n",
       "...           ...                                                ...   \n",
       "11577     DB17309  [Na+].[Na+].[H][C@@]12C[C@@H]3O[C@@]33[C@H](OC...   \n",
       "11578     DB17312  [212Pb++].[H][C@](C)(O)[C@]([H])(N=C(O)[C@]1([...   \n",
       "11579     DB17342                          CCCCCCCCCCCCCC[N+](C)(C)C   \n",
       "11580     DB17352  CSCC[C@H](NC(=O)[C@@H](N)CC1=CC=C(O)C=C1)C(=O)...   \n",
       "11581     DB17379  CC(C)C1=C(O)C(O)=C(C=O)C2=C(O)C(=C(C)C=C12)C1=...   \n",
       "\n",
       "      JCHEM_POLAR_SURFACE_AREA  \n",
       "0            901.5700000000002  \n",
       "1                       429.04  \n",
       "2            495.8899999999997  \n",
       "3            519.8899999999996  \n",
       "4           435.40999999999985  \n",
       "...                        ...  \n",
       "11577                   145.54  \n",
       "11578        551.3800000000003  \n",
       "11579                      0.0  \n",
       "11580                   362.09  \n",
       "11581                   155.52  \n",
       "\n",
       "[11563 rows x 3 columns]"
      ]
     },
     "execution_count": 26,
     "metadata": {},
     "output_type": "execute_result"
    }
   ],
   "source": [
    "df = struct_df[['DATABASE_ID','SMILES', 'JCHEM_POLAR_SURFACE_AREA']]\n",
    "df = df.dropna()\n",
    "df"
   ]
  },
  {
   "cell_type": "code",
   "execution_count": 27,
   "metadata": {},
   "outputs": [],
   "source": [
    "def one_hot_encoding(x, permitted_list):\n",
    "    \"\"\"\n",
    "    Maps input elements x which are not in the permitted list to the last element\n",
    "    of the permitted list.\n",
    "    \"\"\"\n",
    "\n",
    "    if x not in permitted_list:\n",
    "        x = permitted_list[-1]\n",
    "\n",
    "    binary_encoding = [int(boolean_value) for boolean_value in list(map(lambda s: x == s, permitted_list))]\n",
    "\n",
    "    return binary_encoding"
   ]
  },
  {
   "cell_type": "code",
   "execution_count": 28,
   "metadata": {},
   "outputs": [],
   "source": [
    "def get_atom_features(atom, \n",
    "                      use_chirality = True, \n",
    "                      hydrogens_implicit = True):\n",
    "    \"\"\"\n",
    "    Takes an RDKit atom object as input and gives a 1d-numpy array of atom features as output.\n",
    "    \"\"\"\n",
    "\n",
    "    # define list of permitted atoms\n",
    "    \n",
    "    permitted_list_of_atoms =  ['C','N','O','S','F','Si','P','Cl','Br','Mg','Na','Ca','Fe','As','Al','I', 'B','V','K','Tl','Yb','Sb','Sn','Ag','Pd','Co','Se','Ti','Zn', 'Li','Ge','Cu','Au','Ni','Cd','In','Mn','Zr','Cr','Pt','Hg','Pb','Unknown']\n",
    "    \n",
    "    if hydrogens_implicit == False:\n",
    "        permitted_list_of_atoms = ['H'] + permitted_list_of_atoms\n",
    "    \n",
    "    # compute atom features\n",
    "    \n",
    "    atom_type_enc = one_hot_encoding(str(atom.GetSymbol()), permitted_list_of_atoms)\n",
    "    \n",
    "    n_heavy_neighbors_enc = one_hot_encoding(int(atom.GetDegree()), [0, 1, 2, 3, 4, \"MoreThanFour\"])\n",
    "    \n",
    "    formal_charge_enc = one_hot_encoding(int(atom.GetFormalCharge()), [-3, -2, -1, 0, 1, 2, 3, \"Extreme\"])\n",
    "    \n",
    "    hybridisation_type_enc = one_hot_encoding(str(atom.GetHybridization()), [\"S\", \"SP\", \"SP2\", \"SP3\", \"SP3D\", \"SP3D2\", \"OTHER\"])\n",
    "    \n",
    "    is_in_a_ring_enc = [int(atom.IsInRing())]\n",
    "    \n",
    "    is_aromatic_enc = [int(atom.GetIsAromatic())]\n",
    "    \n",
    "    atomic_mass_scaled = [float((atom.GetMass() - 10.812)/116.092)]\n",
    "    \n",
    "    vdw_radius_scaled = [float((Chem.GetPeriodicTable().GetRvdw(atom.GetAtomicNum()) - 1.5)/0.6)]\n",
    "    \n",
    "    covalent_radius_scaled = [float((Chem.GetPeriodicTable().GetRcovalent(atom.GetAtomicNum()) - 0.64)/0.76)]\n",
    "\n",
    "    atom_feature_vector = atom_type_enc + n_heavy_neighbors_enc + formal_charge_enc + hybridisation_type_enc + is_in_a_ring_enc + is_aromatic_enc + atomic_mass_scaled + vdw_radius_scaled + covalent_radius_scaled\n",
    "                                    \n",
    "    if use_chirality == True:\n",
    "        chirality_type_enc = one_hot_encoding(str(atom.GetChiralTag()), [\"CHI_UNSPECIFIED\", \"CHI_TETRAHEDRAL_CW\", \"CHI_TETRAHEDRAL_CCW\", \"CHI_OTHER\"])\n",
    "        atom_feature_vector += chirality_type_enc\n",
    "    \n",
    "    if hydrogens_implicit == True:\n",
    "        n_hydrogens_enc = one_hot_encoding(int(atom.GetTotalNumHs()), [0, 1, 2, 3, 4, \"MoreThanFour\"])\n",
    "        atom_feature_vector += n_hydrogens_enc\n",
    "\n",
    "    return np.array(atom_feature_vector)"
   ]
  },
  {
   "cell_type": "code",
   "execution_count": 29,
   "metadata": {},
   "outputs": [],
   "source": [
    "def get_bond_features(bond, \n",
    "                      use_stereochemistry = True):\n",
    "    \"\"\"\n",
    "    Takes an RDKit bond object as input and gives a 1d-numpy array of bond features as output.\n",
    "    \"\"\"\n",
    "\n",
    "    permitted_list_of_bond_types = [Chem.rdchem.BondType.SINGLE, Chem.rdchem.BondType.DOUBLE, Chem.rdchem.BondType.TRIPLE, Chem.rdchem.BondType.AROMATIC]\n",
    "\n",
    "    bond_type_enc = one_hot_encoding(bond.GetBondType(), permitted_list_of_bond_types)\n",
    "    \n",
    "    bond_is_conj_enc = [int(bond.GetIsConjugated())]\n",
    "    \n",
    "    bond_is_in_ring_enc = [int(bond.IsInRing())]\n",
    "    \n",
    "    bond_feature_vector = bond_type_enc + bond_is_conj_enc + bond_is_in_ring_enc\n",
    "    \n",
    "    if use_stereochemistry == True:\n",
    "        stereo_type_enc = one_hot_encoding(str(bond.GetStereo()), [\"STEREOZ\", \"STEREOE\", \"STEREOANY\", \"STEREONONE\"])\n",
    "        bond_feature_vector += stereo_type_enc\n",
    "\n",
    "    return np.array(bond_feature_vector)"
   ]
  },
  {
   "cell_type": "code",
   "execution_count": 30,
   "metadata": {},
   "outputs": [],
   "source": [
    "def create_pytorch_geometric_graph_data_list_from_smiles_and_labels(x_smiles, y):\n",
    "    \"\"\"\n",
    "    Inputs:\n",
    "    \n",
    "    x_smiles = [smiles_1, smiles_2, ....] ... a list of SMILES strings\n",
    "    y = [y_1, y_2, ...] ... a list of numerial labels for the SMILES strings (such as associated pKi values)\n",
    "    \n",
    "    Outputs:\n",
    "    \n",
    "    data_list = [G_1, G_2, ...] ... a list of torch_geometric.data.Data objects which represent labeled molecular graphs that can readily be used for machine learning\n",
    "    \n",
    "    \"\"\"\n",
    "    \n",
    "    data_list = []\n",
    "    \n",
    "    for (smiles, y_val) in zip(x_smiles, y):\n",
    "\n",
    "        try:\n",
    "            \n",
    "            # convert SMILES to RDKit mol object\n",
    "            mol = Chem.MolFromSmiles(smiles)\n",
    "\n",
    "            # get feature dimensions\n",
    "            n_nodes = mol.GetNumAtoms()\n",
    "            n_edges = 2*mol.GetNumBonds()\n",
    "            unrelated_smiles = \"O=O\"\n",
    "            unrelated_mol = Chem.MolFromSmiles(unrelated_smiles)\n",
    "            n_node_features = len(get_atom_features(unrelated_mol.GetAtomWithIdx(0)))\n",
    "            n_edge_features = len(get_bond_features(unrelated_mol.GetBondBetweenAtoms(0,1)))\n",
    "\n",
    "            # construct node feature matrix X of shape (n_nodes, n_node_features)\n",
    "            X = np.zeros((n_nodes, n_node_features))\n",
    "\n",
    "            for atom in mol.GetAtoms():\n",
    "                X[atom.GetIdx(), :] = get_atom_features(atom)\n",
    "                \n",
    "            X = torch.tensor(X, dtype = torch.float)\n",
    "            \n",
    "            # construct edge index array E of shape (2, n_edges)\n",
    "            (rows, cols) = np.nonzero(GetAdjacencyMatrix(mol))\n",
    "            torch_rows = torch.from_numpy(rows.astype(np.int64)).to(torch.long)\n",
    "            torch_cols = torch.from_numpy(cols.astype(np.int64)).to(torch.long)\n",
    "            E = torch.stack([torch_rows, torch_cols], dim = 0)\n",
    "            \n",
    "            # construct edge feature array EF of shape (n_edges, n_edge_features)\n",
    "            EF = np.zeros((n_edges, n_edge_features))\n",
    "            \n",
    "            for (k, (i,j)) in enumerate(zip(rows, cols)):\n",
    "                \n",
    "                EF[k] = get_bond_features(mol.GetBondBetweenAtoms(int(i),int(j)))\n",
    "            \n",
    "            EF = torch.tensor(EF, dtype = torch.float)\n",
    "            \n",
    "            # construct label tensor\n",
    "            y_tensor = torch.tensor(np.array([y_val]), dtype = torch.float)\n",
    "            \n",
    "            # construct Pytorch Geometric data object and append to data list\n",
    "            data_list.append(Data(x = X, edge_index = E, edge_attr = EF, y = y_tensor))\n",
    "        except:\n",
    "            print(\"Failed for SMILES:\\n\",smiles)\n",
    "\n",
    "    return data_list"
   ]
  },
  {
   "cell_type": "code",
   "execution_count": 31,
   "metadata": {},
   "outputs": [
    {
     "name": "stderr",
     "output_type": "stream",
     "text": [
      "[11:05:12] Explicit valence for atom # 0 N, 4, is greater than permitted\n",
      "[11:05:12] Explicit valence for atom # 0 N, 4, is greater than permitted\n"
     ]
    },
    {
     "name": "stdout",
     "output_type": "stream",
     "text": [
      "Failed for SMILES:\n",
      " [H][N]([H])([H])[Pt](Cl)(Cl)[N]([H])([H])[H]\n",
      "Failed for SMILES:\n",
      " [H][N]1([H])[C@@H]2CCCC[C@H]2[N]([H])([H])[Pt]11OC(=O)C(=O)O1\n"
     ]
    },
    {
     "name": "stderr",
     "output_type": "stream",
     "text": [
      "[11:05:13] Explicit valence for atom # 0 N, 4, is greater than permitted\n"
     ]
    },
    {
     "name": "stdout",
     "output_type": "stream",
     "text": [
      "Failed for SMILES:\n",
      " [H][N]([H])([H])[Pt]1(OC(=O)C2(CCC2)C(=O)O1)[N]([H])([H])[H]\n"
     ]
    },
    {
     "name": "stderr",
     "output_type": "stream",
     "text": [
      "[11:05:14] SMILES Parse Error: syntax error while parsing: OS(O)(O)C1=CC=C(C=C1)C-1=C2\\C=CC(=N2)\\C(=C2/N\\C(\\C=C2)=C(/C2=N/C(/C=C2)=C(\\C2=CC=C\\-1N2)C1=CC=C(C=C1)S(O)(O)O)C1=CC=C(C=C1)S([O-])([O-])[O-])\\C1=CC=C(C=C1)S(O)(O)[O-]\n",
      "[11:05:14] SMILES Parse Error: Failed parsing SMILES 'OS(O)(O)C1=CC=C(C=C1)C-1=C2\\C=CC(=N2)\\C(=C2/N\\C(\\C=C2)=C(/C2=N/C(/C=C2)=C(\\C2=CC=C\\-1N2)C1=CC=C(C=C1)S(O)(O)O)C1=CC=C(C=C1)S([O-])([O-])[O-])\\C1=CC=C(C=C1)S(O)(O)[O-]' for input: 'OS(O)(O)C1=CC=C(C=C1)C-1=C2\\C=CC(=N2)\\C(=C2/N\\C(\\C=C2)=C(/C2=N/C(/C=C2)=C(\\C2=CC=C\\-1N2)C1=CC=C(C=C1)S(O)(O)O)C1=CC=C(C=C1)S([O-])([O-])[O-])\\C1=CC=C(C=C1)S(O)(O)[O-]'\n"
     ]
    },
    {
     "name": "stdout",
     "output_type": "stream",
     "text": [
      "Failed for SMILES:\n",
      " OS(O)(O)C1=CC=C(C=C1)C-1=C2\\C=CC(=N2)\\C(=C2/N\\C(\\C=C2)=C(/C2=N/C(/C=C2)=C(\\C2=CC=C\\-1N2)C1=CC=C(C=C1)S(O)(O)O)C1=CC=C(C=C1)S([O-])([O-])[O-])\\C1=CC=C(C=C1)S(O)(O)[O-]\n"
     ]
    },
    {
     "name": "stderr",
     "output_type": "stream",
     "text": [
      "[11:05:17] Unusual charge on atom 0 number of radical electrons set to zero\n",
      "[11:05:24] SMILES Parse Error: syntax error while parsing: OC1=CC=CC(=C1)C-1=C2\\CCC(=N2)\\C(=C2/N\\C(\\C=C2)=C(/C2=N/C(/C=C2)=C(\\C2=CC=C\\-1N2)C1=CC(O)=CC=C1)C1=CC(O)=CC=C1)\\C1=CC(O)=CC=C1\n",
      "[11:05:24] SMILES Parse Error: Failed parsing SMILES 'OC1=CC=CC(=C1)C-1=C2\\CCC(=N2)\\C(=C2/N\\C(\\C=C2)=C(/C2=N/C(/C=C2)=C(\\C2=CC=C\\-1N2)C1=CC(O)=CC=C1)C1=CC(O)=CC=C1)\\C1=CC(O)=CC=C1' for input: 'OC1=CC=CC(=C1)C-1=C2\\CCC(=N2)\\C(=C2/N\\C(\\C=C2)=C(/C2=N/C(/C=C2)=C(\\C2=CC=C\\-1N2)C1=CC(O)=CC=C1)C1=CC(O)=CC=C1)\\C1=CC(O)=CC=C1'\n"
     ]
    },
    {
     "name": "stdout",
     "output_type": "stream",
     "text": [
      "Failed for SMILES:\n",
      " OC1=CC=CC(=C1)C-1=C2\\CCC(=N2)\\C(=C2/N\\C(\\C=C2)=C(/C2=N/C(/C=C2)=C(\\C2=CC=C\\-1N2)C1=CC(O)=CC=C1)C1=CC(O)=CC=C1)\\C1=CC(O)=CC=C1\n"
     ]
    },
    {
     "name": "stderr",
     "output_type": "stream",
     "text": [
      "[11:05:26] Explicit valence for atom # 0 N, 4, is greater than permitted\n"
     ]
    },
    {
     "name": "stdout",
     "output_type": "stream",
     "text": [
      "Failed for SMILES:\n",
      " [H][N]([H])([H])[Pt]1(OCC(=O)O1)[N]([H])([H])[H]\n"
     ]
    },
    {
     "name": "stderr",
     "output_type": "stream",
     "text": [
      "[11:05:29] WARNING: not removing hydrogen atom without neighbors\n",
      "[11:05:29] WARNING: not removing hydrogen atom without neighbors\n"
     ]
    }
   ],
   "source": [
    "# canonical training loop for a Pytorch Geometric GNN model gnn_model\n",
    "\n",
    "# create list of molecular graph objects from list of SMILES x_smiles and list of labels y\n",
    "x_smiles = df['SMILES'].to_list()\n",
    "y = [float(i) for i in df['JCHEM_POLAR_SURFACE_AREA'].to_list()]\n",
    "\n",
    "data_list = create_pytorch_geometric_graph_data_list_from_smiles_and_labels(x_smiles, y)\n"
   ]
  },
  {
   "cell_type": "code",
   "execution_count": 23,
   "metadata": {},
   "outputs": [
    {
     "data": {
      "text/plain": [
       "torch.Size([85, 79])"
      ]
     },
     "execution_count": 23,
     "metadata": {},
     "output_type": "execute_result"
    }
   ],
   "source": [
    "data_list[8].x.shape"
   ]
  },
  {
   "cell_type": "code",
   "execution_count": 34,
   "metadata": {},
   "outputs": [],
   "source": [
    "in_channels, out_channels = 79, 16"
   ]
  },
  {
   "cell_type": "code",
   "execution_count": 35,
   "metadata": {},
   "outputs": [],
   "source": [
    "class VariationalGCNEncoder(torch.nn.Module):\n",
    "    def __init__(self, in_channels, out_channels):\n",
    "        super().__init__()\n",
    "        self.conv1 = GCNConv(in_channels, 2 * out_channels)\n",
    "        self.conv_mu = GCNConv(2 * out_channels, out_channels)\n",
    "        self.conv_logstd = GCNConv(2 * out_channels, out_channels)\n",
    "\n",
    "    def forward(self, x, edge_index):\n",
    "        x = self.conv1(x, edge_index).relu()\n",
    "        return self.conv_mu(x, edge_index), self.conv_logstd(x, edge_index)\n",
    "    \n",
    "class GCNEncoder(torch.nn.Module):\n",
    "    def __init__(self, in_channels, out_channels):\n",
    "        super().__init__()\n",
    "        self.conv1 = GCNConv(in_channels, 2 * out_channels)\n",
    "        self.conv2 = GCNConv(2 * out_channels, out_channels)\n",
    "\n",
    "    def forward(self, x, edge_index):\n",
    "        x = self.conv1(x, edge_index).relu()\n",
    "        return self.conv2(x, edge_index)\n"
   ]
  },
  {
   "cell_type": "code",
   "execution_count": 36,
   "metadata": {},
   "outputs": [],
   "source": [
    "model = GAE(GCNEncoder(in_channels, out_channels))"
   ]
  },
  {
   "cell_type": "code",
   "execution_count": 37,
   "metadata": {},
   "outputs": [],
   "source": [
    "\n",
    "# create dataloader for training\n",
    "dataloader = DataLoader(dataset = data_list, batch_size = 2**7)\n",
    "\n",
    "# define loss function\n",
    "loss_function = nn.MSELoss()\n",
    "\n",
    "# define optimiser\n",
    "optimizer = torch.optim.Adam(model.parameters(), lr=0.01)"
   ]
  },
  {
   "cell_type": "code",
   "execution_count": 49,
   "metadata": {},
   "outputs": [
    {
     "data": {
      "text/plain": [
       "Data(x=[155, 79], edge_index=[2, 320], edge_attr=[320, 10], y=[1])"
      ]
     },
     "execution_count": 49,
     "metadata": {},
     "output_type": "execute_result"
    }
   ],
   "source": [
    "dataloader.dataset[0]"
   ]
  },
  {
   "cell_type": "code",
   "execution_count": 50,
   "metadata": {},
   "outputs": [],
   "source": [
    "def train():\n",
    "    model.train()\n",
    "    optimizer.zero_grad()\n",
    "    loss_list = []\n",
    "    for g in data_list[:100]:\n",
    "        z = model.encode(g.x, g.edge_index)\n",
    "        loss = model.recon_loss(z, g.edge_index)\n",
    "        # loss = loss + (1 / train_data.num_nodes) * model.kl_loss()\n",
    "        loss.backward()\n",
    "        optimizer.step()\n",
    "        loss_list.append(float(loss))\n",
    "    return mean(loss_list)\n",
    "    "
   ]
  },
  {
   "cell_type": "code",
   "execution_count": 52,
   "metadata": {},
   "outputs": [
    {
     "ename": "IndexError",
     "evalue": "tensors used as indices must be long, int, byte or bool tensors",
     "output_type": "error",
     "traceback": [
      "\u001b[1;31m---------------------------------------------------------------------------\u001b[0m",
      "\u001b[1;31mIndexError\u001b[0m                                Traceback (most recent call last)",
      "Cell \u001b[1;32mIn[52], line 9\u001b[0m\n\u001b[0;32m      5\u001b[0m     \u001b[39mreturn\u001b[39;00m model\u001b[39m.\u001b[39mtest(z, data\u001b[39m.\u001b[39mpos_edge_label_index, data\u001b[39m.\u001b[39mneg_edge_label_index)\n\u001b[0;32m      8\u001b[0m \u001b[39mfor\u001b[39;00m epoch \u001b[39min\u001b[39;00m \u001b[39mrange\u001b[39m(\u001b[39m1\u001b[39m, \u001b[39m10\u001b[39m \u001b[39m+\u001b[39m \u001b[39m1\u001b[39m):\n\u001b[1;32m----> 9\u001b[0m     loss \u001b[39m=\u001b[39m train()\n\u001b[0;32m     10\u001b[0m     auc, ap \u001b[39m=\u001b[39m test(data_list[\u001b[39m100\u001b[39m \u001b[39m+\u001b[39m epoch])\n\u001b[0;32m     11\u001b[0m     \u001b[39mprint\u001b[39m(\u001b[39mf\u001b[39m\u001b[39m'\u001b[39m\u001b[39mEpoch: \u001b[39m\u001b[39m{\u001b[39;00mepoch\u001b[39m:\u001b[39;00m\u001b[39m03d\u001b[39m\u001b[39m}\u001b[39;00m\u001b[39m, AUC: \u001b[39m\u001b[39m{\u001b[39;00mauc\u001b[39m:\u001b[39;00m\u001b[39m.4f\u001b[39m\u001b[39m}\u001b[39;00m\u001b[39m, AP: \u001b[39m\u001b[39m{\u001b[39;00map\u001b[39m:\u001b[39;00m\u001b[39m.4f\u001b[39m\u001b[39m}\u001b[39;00m\u001b[39m'\u001b[39m)\n",
      "Cell \u001b[1;32mIn[50], line 7\u001b[0m, in \u001b[0;36mtrain\u001b[1;34m()\u001b[0m\n\u001b[0;32m      5\u001b[0m \u001b[39mfor\u001b[39;00m g \u001b[39min\u001b[39;00m data_list:\n\u001b[0;32m      6\u001b[0m     z \u001b[39m=\u001b[39m model\u001b[39m.\u001b[39mencode(g\u001b[39m.\u001b[39mx, g\u001b[39m.\u001b[39medge_index)\n\u001b[1;32m----> 7\u001b[0m     loss \u001b[39m=\u001b[39m model\u001b[39m.\u001b[39;49mrecon_loss(z, g\u001b[39m.\u001b[39;49medge_index)\n\u001b[0;32m      8\u001b[0m     \u001b[39m# loss = loss + (1 / train_data.num_nodes) * model.kl_loss()\u001b[39;00m\n\u001b[0;32m      9\u001b[0m     loss\u001b[39m.\u001b[39mbackward()\n",
      "File \u001b[1;32md:\\miniconda3\\envs\\mol2graph\\Lib\\site-packages\\torch_geometric\\nn\\models\\autoencoder.py:105\u001b[0m, in \u001b[0;36mGAE.recon_loss\u001b[1;34m(self, z, pos_edge_index, neg_edge_index)\u001b[0m\n\u001b[0;32m    102\u001b[0m \u001b[39mif\u001b[39;00m neg_edge_index \u001b[39mis\u001b[39;00m \u001b[39mNone\u001b[39;00m:\n\u001b[0;32m    103\u001b[0m     neg_edge_index \u001b[39m=\u001b[39m negative_sampling(pos_edge_index, z\u001b[39m.\u001b[39msize(\u001b[39m0\u001b[39m))\n\u001b[0;32m    104\u001b[0m neg_loss \u001b[39m=\u001b[39m \u001b[39m-\u001b[39mtorch\u001b[39m.\u001b[39mlog(\u001b[39m1\u001b[39m \u001b[39m-\u001b[39m\n\u001b[1;32m--> 105\u001b[0m                       \u001b[39mself\u001b[39;49m\u001b[39m.\u001b[39;49mdecoder(z, neg_edge_index, sigmoid\u001b[39m=\u001b[39;49m\u001b[39mTrue\u001b[39;49;00m) \u001b[39m+\u001b[39m\n\u001b[0;32m    106\u001b[0m                       EPS)\u001b[39m.\u001b[39mmean()\n\u001b[0;32m    108\u001b[0m \u001b[39mreturn\u001b[39;00m pos_loss \u001b[39m+\u001b[39m neg_loss\n",
      "File \u001b[1;32md:\\miniconda3\\envs\\mol2graph\\Lib\\site-packages\\torch\\nn\\modules\\module.py:1501\u001b[0m, in \u001b[0;36mModule._call_impl\u001b[1;34m(self, *args, **kwargs)\u001b[0m\n\u001b[0;32m   1496\u001b[0m \u001b[39m# If we don't have any hooks, we want to skip the rest of the logic in\u001b[39;00m\n\u001b[0;32m   1497\u001b[0m \u001b[39m# this function, and just call forward.\u001b[39;00m\n\u001b[0;32m   1498\u001b[0m \u001b[39mif\u001b[39;00m \u001b[39mnot\u001b[39;00m (\u001b[39mself\u001b[39m\u001b[39m.\u001b[39m_backward_hooks \u001b[39mor\u001b[39;00m \u001b[39mself\u001b[39m\u001b[39m.\u001b[39m_backward_pre_hooks \u001b[39mor\u001b[39;00m \u001b[39mself\u001b[39m\u001b[39m.\u001b[39m_forward_hooks \u001b[39mor\u001b[39;00m \u001b[39mself\u001b[39m\u001b[39m.\u001b[39m_forward_pre_hooks\n\u001b[0;32m   1499\u001b[0m         \u001b[39mor\u001b[39;00m _global_backward_pre_hooks \u001b[39mor\u001b[39;00m _global_backward_hooks\n\u001b[0;32m   1500\u001b[0m         \u001b[39mor\u001b[39;00m _global_forward_hooks \u001b[39mor\u001b[39;00m _global_forward_pre_hooks):\n\u001b[1;32m-> 1501\u001b[0m     \u001b[39mreturn\u001b[39;00m forward_call(\u001b[39m*\u001b[39;49margs, \u001b[39m*\u001b[39;49m\u001b[39m*\u001b[39;49mkwargs)\n\u001b[0;32m   1502\u001b[0m \u001b[39m# Do not call functions when jit is used\u001b[39;00m\n\u001b[0;32m   1503\u001b[0m full_backward_hooks, non_full_backward_hooks \u001b[39m=\u001b[39m [], []\n",
      "File \u001b[1;32md:\\miniconda3\\envs\\mol2graph\\Lib\\site-packages\\torch_geometric\\nn\\models\\autoencoder.py:34\u001b[0m, in \u001b[0;36mInnerProductDecoder.forward\u001b[1;34m(self, z, edge_index, sigmoid)\u001b[0m\n\u001b[0;32m     23\u001b[0m \u001b[39mdef\u001b[39;00m \u001b[39mforward\u001b[39m(\u001b[39mself\u001b[39m, z: Tensor, edge_index: Tensor,\n\u001b[0;32m     24\u001b[0m             sigmoid: \u001b[39mbool\u001b[39m \u001b[39m=\u001b[39m \u001b[39mTrue\u001b[39;00m) \u001b[39m-\u001b[39m\u001b[39m>\u001b[39m Tensor:\n\u001b[0;32m     25\u001b[0m \u001b[39m    \u001b[39m\u001b[39mr\u001b[39m\u001b[39m\"\"\"Decodes the latent variables :obj:`z` into edge probabilities for\u001b[39;00m\n\u001b[0;32m     26\u001b[0m \u001b[39m    the given node-pairs :obj:`edge_index`.\u001b[39;00m\n\u001b[0;32m     27\u001b[0m \n\u001b[1;32m   (...)\u001b[0m\n\u001b[0;32m     32\u001b[0m \u001b[39m            (default: :obj:`True`)\u001b[39;00m\n\u001b[0;32m     33\u001b[0m \u001b[39m    \"\"\"\u001b[39;00m\n\u001b[1;32m---> 34\u001b[0m     value \u001b[39m=\u001b[39m (z[edge_index[\u001b[39m0\u001b[39;49m]] \u001b[39m*\u001b[39m z[edge_index[\u001b[39m1\u001b[39m]])\u001b[39m.\u001b[39msum(dim\u001b[39m=\u001b[39m\u001b[39m1\u001b[39m)\n\u001b[0;32m     35\u001b[0m     \u001b[39mreturn\u001b[39;00m torch\u001b[39m.\u001b[39msigmoid(value) \u001b[39mif\u001b[39;00m sigmoid \u001b[39melse\u001b[39;00m value\n",
      "\u001b[1;31mIndexError\u001b[0m: tensors used as indices must be long, int, byte or bool tensors"
     ]
    }
   ],
   "source": [
    "@torch.no_grad()\n",
    "def test(data):\n",
    "    model.eval()\n",
    "    z = model.encode(data.x, data.edge_index)\n",
    "    return model.test(z, data.pos_edge_label_index, data.neg_edge_label_index)\n",
    "\n",
    "\n",
    "for epoch in range(1, 10 + 1):\n",
    "    loss = train()\n",
    "    auc, ap = test(data_list[100 + epoch])\n",
    "    print(f'Epoch: {epoch:03d}, AUC: {auc:.4f}, AP: {ap:.4f}')"
   ]
  },
  {
   "cell_type": "code",
   "execution_count": null,
   "metadata": {},
   "outputs": [],
   "source": []
  }
 ],
 "metadata": {
  "kernelspec": {
   "display_name": "mol2graph",
   "language": "python",
   "name": "python3"
  },
  "language_info": {
   "codemirror_mode": {
    "name": "ipython",
    "version": 3
   },
   "file_extension": ".py",
   "mimetype": "text/x-python",
   "name": "python",
   "nbconvert_exporter": "python",
   "pygments_lexer": "ipython3",
   "version": "3.11.3"
  },
  "orig_nbformat": 4
 },
 "nbformat": 4,
 "nbformat_minor": 2
}

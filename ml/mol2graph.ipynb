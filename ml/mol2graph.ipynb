{
 "cells": [
  {
   "cell_type": "code",
   "execution_count": 92,
   "metadata": {},
   "outputs": [],
   "source": [
    "import pandas as pd\n",
    "import numpy as np\n",
    "from tqdm import tqdm\n",
    "\n",
    "import torch\n",
    "import torch.nn as nn\n",
    "import torch.nn.functional as F\n",
    "\n",
    "from rdkit import Chem\n",
    "from dgllife.utils import smiles_to_complete_graph, smiles_to_bigraph\n",
    "from dgllife.utils import AttentiveFPAtomFeaturizer, AttentiveFPBondFeaturizer\n",
    "from functools import partial\n",
    "from dgl.data import DGLDataset\n",
    "from dgl.dataloading import GraphDataLoader"
   ]
  },
  {
   "cell_type": "code",
   "execution_count": 37,
   "metadata": {},
   "outputs": [
    {
     "data": {
      "text/html": [
       "<div>\n",
       "<style scoped>\n",
       "    .dataframe tbody tr th:only-of-type {\n",
       "        vertical-align: middle;\n",
       "    }\n",
       "\n",
       "    .dataframe tbody tr th {\n",
       "        vertical-align: top;\n",
       "    }\n",
       "\n",
       "    .dataframe thead th {\n",
       "        text-align: right;\n",
       "    }\n",
       "</style>\n",
       "<table border=\"1\" class=\"dataframe\">\n",
       "  <thead>\n",
       "    <tr style=\"text-align: right;\">\n",
       "      <th></th>\n",
       "      <th>DrugBank ID</th>\n",
       "      <th>SMILES</th>\n",
       "    </tr>\n",
       "  </thead>\n",
       "  <tbody>\n",
       "    <tr>\n",
       "      <th>0</th>\n",
       "      <td>DB00006</td>\n",
       "      <td>CC[C@H](C)[C@H](NC(=O)[C@H](CCC(O)=O)NC(=O)[C@...</td>\n",
       "    </tr>\n",
       "    <tr>\n",
       "      <th>1</th>\n",
       "      <td>DB00007</td>\n",
       "      <td>CCNC(=O)[C@@H]1CCCN1C(=O)[C@H](CCCNC(N)=N)NC(=...</td>\n",
       "    </tr>\n",
       "    <tr>\n",
       "      <th>2</th>\n",
       "      <td>DB00014</td>\n",
       "      <td>CC(C)C[C@H](NC(=O)[C@@H](COC(C)(C)C)NC(=O)[C@H...</td>\n",
       "    </tr>\n",
       "    <tr>\n",
       "      <th>3</th>\n",
       "      <td>DB00027</td>\n",
       "      <td>CC(C)C[C@@H](NC(=O)CNC(=O)[C@@H](NC=O)C(C)C)C(...</td>\n",
       "    </tr>\n",
       "    <tr>\n",
       "      <th>4</th>\n",
       "      <td>DB00035</td>\n",
       "      <td>NC(=O)CC[C@@H]1NC(=O)[C@H](CC2=CC=CC=C2)NC(=O)...</td>\n",
       "    </tr>\n",
       "    <tr>\n",
       "      <th>...</th>\n",
       "      <td>...</td>\n",
       "      <td>...</td>\n",
       "    </tr>\n",
       "    <tr>\n",
       "      <th>12221</th>\n",
       "      <td>DB17379</td>\n",
       "      <td>CC(C)C1=C(O)C(O)=C(C=O)C2=C(O)C(=C(C)C=C12)C1=...</td>\n",
       "    </tr>\n",
       "    <tr>\n",
       "      <th>12223</th>\n",
       "      <td>DB17383</td>\n",
       "      <td>CN1CCN(CC2=CC=C(NC(=O)C3=NNC=C3NC3=C4C=CNC4=NC...</td>\n",
       "    </tr>\n",
       "    <tr>\n",
       "      <th>12224</th>\n",
       "      <td>DB17384</td>\n",
       "      <td>CC1=C2N=C(C3=CC=CC=C3Cl)C3=C(NC2=NN1)C=C(N=C3)...</td>\n",
       "    </tr>\n",
       "    <tr>\n",
       "      <th>12225</th>\n",
       "      <td>DB17385</td>\n",
       "      <td>CC[C@@]1(OC(=O)C(C)ON=C2C3=C(C4=C2C=C(C=C4[N+]...</td>\n",
       "    </tr>\n",
       "    <tr>\n",
       "      <th>12226</th>\n",
       "      <td>DB17386</td>\n",
       "      <td>[129Xe]</td>\n",
       "    </tr>\n",
       "  </tbody>\n",
       "</table>\n",
       "<p>11583 rows × 2 columns</p>\n",
       "</div>"
      ],
      "text/plain": [
       "      DrugBank ID                                             SMILES\n",
       "0         DB00006  CC[C@H](C)[C@H](NC(=O)[C@H](CCC(O)=O)NC(=O)[C@...\n",
       "1         DB00007  CCNC(=O)[C@@H]1CCCN1C(=O)[C@H](CCCNC(N)=N)NC(=...\n",
       "2         DB00014  CC(C)C[C@H](NC(=O)[C@@H](COC(C)(C)C)NC(=O)[C@H...\n",
       "3         DB00027  CC(C)C[C@@H](NC(=O)CNC(=O)[C@@H](NC=O)C(C)C)C(...\n",
       "4         DB00035  NC(=O)CC[C@@H]1NC(=O)[C@H](CC2=CC=CC=C2)NC(=O)...\n",
       "...           ...                                                ...\n",
       "12221     DB17379  CC(C)C1=C(O)C(O)=C(C=O)C2=C(O)C(=C(C)C=C12)C1=...\n",
       "12223     DB17383  CN1CCN(CC2=CC=C(NC(=O)C3=NNC=C3NC3=C4C=CNC4=NC...\n",
       "12224     DB17384  CC1=C2N=C(C3=CC=CC=C3Cl)C3=C(NC2=NN1)C=C(N=C3)...\n",
       "12225     DB17385  CC[C@@]1(OC(=O)C(C)ON=C2C3=C(C4=C2C=C(C=C4[N+]...\n",
       "12226     DB17386                                            [129Xe]\n",
       "\n",
       "[11583 rows x 2 columns]"
      ]
     },
     "execution_count": 37,
     "metadata": {},
     "output_type": "execute_result"
    }
   ],
   "source": [
    "\n",
    "df = pd.read_csv(\"../data/drugs/drugbank_5.1.10/structure links.csv\")\n",
    "df = df[[\"DrugBank ID\",\"SMILES\"]]\n",
    "df = df.dropna()\n",
    "df"
   ]
  },
  {
   "cell_type": "code",
   "execution_count": 57,
   "metadata": {},
   "outputs": [],
   "source": [
    "# read more here: https://lifesci.dgl.ai/generated/dgllife.utils.AttentiveFPAtomFeaturizer.html\n",
    "\n",
    "def featurize_atoms(mol):\n",
    "    feats = []\n",
    "    atom_featurizer = AttentiveFPAtomFeaturizer(atom_data_field='feat')\n",
    "    return(atom_featurizer(mol))\n",
    "\n",
    "def featurize_edges(mol, add_self_loop=False):\n",
    "    bond_featurizer = AttentiveFPBondFeaturizer(bond_data_field='feat', self_loop=add_self_loop)    \n",
    "    return(bond_featurizer(mol))"
   ]
  },
  {
   "cell_type": "code",
   "execution_count": 56,
   "metadata": {},
   "outputs": [],
   "source": [
    "#test with a simple SMILES mol\n",
    "add_self_loop = True\n",
    "g = smiles_to_bigraph(\n",
    "        'CCO', add_self_loop=add_self_loop, node_featurizer=featurize_atoms,\n",
    "        edge_featurizer=partial(featurize_edges, add_self_loop=add_self_loop),explicit_hydrogens=True)"
   ]
  },
  {
   "cell_type": "code",
   "execution_count": 69,
   "metadata": {},
   "outputs": [
    {
     "name": "stdout",
     "output_type": "stream",
     "text": [
      "Invalid mol found\n",
      "Invalid mol found\n",
      "Invalid mol found\n",
      "Invalid mol found\n",
      "Invalid mol found\n",
      "Invalid mol found\n",
      "Invalid mol found\n",
      "Invalid mol found\n",
      "Invalid mol found\n",
      "Invalid mol found\n",
      "Invalid mol found\n",
      "Invalid mol found\n",
      "Invalid mol found\n",
      "Invalid mol found\n",
      "Invalid mol found\n",
      "Invalid mol found\n",
      "Invalid mol found\n",
      "11583 / 11583 done.\n"
     ]
    }
   ],
   "source": [
    "g_list = []\n",
    "\n",
    "for idx, row in df.iterrows():\n",
    "    mol = row[\"SMILES\"]\n",
    "    try:\n",
    "        g = smiles_to_bigraph(\n",
    "            mol, add_self_loop=add_self_loop, node_featurizer=featurize_atoms,\n",
    "            edge_featurizer=partial(featurize_edges, add_self_loop=add_self_loop),explicit_hydrogens=True)\n",
    "        g_list.append(g)\n",
    "    except:\n",
    "        print(row[\"DrugBank ID\"])\n",
    "\n",
    "print(len(g_list),\"/\",len(df),\"done.\")\n",
    "    "
   ]
  },
  {
   "cell_type": "code",
   "execution_count": 82,
   "metadata": {},
   "outputs": [],
   "source": [
    "\n",
    "class AEDataset(DGLDataset):\n",
    "    def __init__(self, graph_list):\n",
    "        super().__init__(name=\"drugmols\")\n",
    "        self.graphs = graph_list\n",
    "        self.labels = graph_list\n",
    "\n",
    "    def __getitem__(self, i):\n",
    "        return self.graphs[i], self.labels[i]\n",
    "\n",
    "    def __len__(self):\n",
    "        return len(self.graphs)\n"
   ]
  },
  {
   "cell_type": "code",
   "execution_count": 83,
   "metadata": {},
   "outputs": [],
   "source": [
    "dataset = AEDataset(g_list)"
   ]
  },
  {
   "cell_type": "code",
   "execution_count": 88,
   "metadata": {},
   "outputs": [],
   "source": [
    "from torch.utils.data.sampler import SubsetRandomSampler\n",
    "\n",
    "num_examples = len(dataset)\n",
    "num_train = int(num_examples * 0.8)\n",
    "\n",
    "train_sampler = SubsetRandomSampler(torch.arange(num_train))\n",
    "test_sampler = SubsetRandomSampler(torch.arange(num_train, num_examples))\n",
    "\n",
    "train_dataloader = GraphDataLoader(\n",
    "    dataset, sampler=train_sampler, batch_size=5, drop_last=False\n",
    ")\n",
    "test_dataloader = GraphDataLoader(\n",
    "    dataset, sampler=test_sampler, batch_size=5, drop_last=False\n",
    ")"
   ]
  },
  {
   "cell_type": "code",
   "execution_count": 89,
   "metadata": {},
   "outputs": [
    {
     "name": "stdout",
     "output_type": "stream",
     "text": [
      "[Graph(num_nodes=360, num_edges=1106,\n",
      "      ndata_schemes={'feat': Scheme(shape=(39,), dtype=torch.float32)}\n",
      "      edata_schemes={'feat': Scheme(shape=(11,), dtype=torch.float32)}), Graph(num_nodes=360, num_edges=1106,\n",
      "      ndata_schemes={'feat': Scheme(shape=(39,), dtype=torch.float32)}\n",
      "      edata_schemes={'feat': Scheme(shape=(11,), dtype=torch.float32)})]\n"
     ]
    }
   ],
   "source": [
    "it = iter(train_dataloader)\n",
    "batch = next(it)\n",
    "print(batch)"
   ]
  },
  {
   "cell_type": "code",
   "execution_count": 90,
   "metadata": {},
   "outputs": [
    {
     "name": "stdout",
     "output_type": "stream",
     "text": [
      "Number of nodes for each graph element in the batch: tensor([ 45,  56,  29, 181,  49])\n",
      "Number of edges for each graph element in the batch: tensor([139, 174,  89, 557, 147])\n",
      "The original graphs in the minibatch:\n",
      "[Graph(num_nodes=45, num_edges=139,\n",
      "      ndata_schemes={'feat': Scheme(shape=(39,), dtype=torch.float32)}\n",
      "      edata_schemes={'feat': Scheme(shape=(11,), dtype=torch.float32)}), Graph(num_nodes=56, num_edges=174,\n",
      "      ndata_schemes={'feat': Scheme(shape=(39,), dtype=torch.float32)}\n",
      "      edata_schemes={'feat': Scheme(shape=(11,), dtype=torch.float32)}), Graph(num_nodes=29, num_edges=89,\n",
      "      ndata_schemes={'feat': Scheme(shape=(39,), dtype=torch.float32)}\n",
      "      edata_schemes={'feat': Scheme(shape=(11,), dtype=torch.float32)}), Graph(num_nodes=181, num_edges=557,\n",
      "      ndata_schemes={'feat': Scheme(shape=(39,), dtype=torch.float32)}\n",
      "      edata_schemes={'feat': Scheme(shape=(11,), dtype=torch.float32)}), Graph(num_nodes=49, num_edges=147,\n",
      "      ndata_schemes={'feat': Scheme(shape=(39,), dtype=torch.float32)}\n",
      "      edata_schemes={'feat': Scheme(shape=(11,), dtype=torch.float32)})]\n"
     ]
    }
   ],
   "source": [
    "batched_graph, labels = batch\n",
    "print(\n",
    "    \"Number of nodes for each graph element in the batch:\",\n",
    "    batched_graph.batch_num_nodes(),\n",
    ")\n",
    "print(\n",
    "    \"Number of edges for each graph element in the batch:\",\n",
    "    batched_graph.batch_num_edges(),\n",
    ")\n",
    "\n",
    "# Recover the original graph elements from the minibatch\n",
    "graphs = dgl.unbatch(batched_graph)\n",
    "print(\"The original graphs in the minibatch:\")\n",
    "print(graphs)"
   ]
  },
  {
   "cell_type": "code",
   "execution_count": 93,
   "metadata": {},
   "outputs": [],
   "source": [
    "from dgl.nn import GraphConv\n",
    "\n",
    "class GCN(nn.Module):\n",
    "    def __init__(self, in_feats, h_feats, num_classes):\n",
    "        super(GCN, self).__init__()\n",
    "        self.conv1 = GraphConv(in_feats, h_feats)\n",
    "        self.conv2 = GraphConv(h_feats, num_classes)\n",
    "\n",
    "    def forward(self, g, in_feat):\n",
    "        h = self.conv1(g, in_feat)\n",
    "        h = F.relu(h)\n",
    "        h = self.conv2(g, h)\n",
    "        g.ndata[\"h\"] = h\n",
    "        return dgl.mean_nodes(g, \"h\")"
   ]
  },
  {
   "cell_type": "code",
   "execution_count": null,
   "metadata": {},
   "outputs": [],
   "source": []
  },
  {
   "cell_type": "code",
   "execution_count": null,
   "metadata": {},
   "outputs": [],
   "source": [
    "model = GCN(dataset.dim_nfeats, 16, dataset.gclasses)\n",
    "optimizer = torch.optim.Adam(model.parameters(), lr=0.01)\n",
    "\n",
    "for epoch in range(20):\n",
    "    for batched_graph, labels in train_dataloader:\n",
    "        pred = model(batched_graph, batched_graph.ndata[\"attr\"].float())\n",
    "        loss = F.cross_entropy(pred, labels)\n",
    "        optimizer.zero_grad()\n",
    "        loss.backward()\n",
    "        optimizer.step()\n",
    "\n",
    "num_correct = 0\n",
    "num_tests = 0\n",
    "for batched_graph, labels in test_dataloader:\n",
    "    pred = model(batched_graph, batched_graph.ndata[\"attr\"].float())\n",
    "    num_correct += (pred.argmax(1) == labels).sum().item()\n",
    "    num_tests += len(labels)\n",
    "\n",
    "print(\"Test accuracy:\", num_correct / num_tests)"
   ]
  }
 ],
 "metadata": {
  "kernelspec": {
   "display_name": "mol2graph",
   "language": "python",
   "name": "python3"
  },
  "language_info": {
   "codemirror_mode": {
    "name": "ipython",
    "version": 3
   },
   "file_extension": ".py",
   "mimetype": "text/x-python",
   "name": "python",
   "nbconvert_exporter": "python",
   "pygments_lexer": "ipython3",
   "version": "3.11.3"
  },
  "orig_nbformat": 4
 },
 "nbformat": 4,
 "nbformat_minor": 2
}

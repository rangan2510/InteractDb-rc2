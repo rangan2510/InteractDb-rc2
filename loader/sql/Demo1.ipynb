{
    "metadata": {
        "kernelspec": {
            "name": "SQL",
            "display_name": "SQL",
            "language": "sql"
        },
        "language_info": {
            "name": "sql",
            "version": ""
        }
    },
    "nbformat_minor": 2,
    "nbformat": 4,
    "cells": [
        {
            "cell_type": "markdown",
            "source": [
                "# Demo Notebook"
            ],
            "metadata": {
                "azdata_cell_guid": "8eb20848-179e-4933-b12d-613d5b05f4fe"
            },
            "attachments": {}
        },
        {
            "cell_type": "code",
            "source": [
                "USE InteractDb_rc2"
            ],
            "metadata": {
                "azdata_cell_guid": "e04d015f-9acf-4a0f-b4b8-ae17e1223c77",
                "language": "sql"
            },
            "outputs": [
                {
                    "output_type": "display_data",
                    "data": {
                        "text/html": "Commands completed successfully."
                    },
                    "metadata": {}
                },
                {
                    "output_type": "display_data",
                    "data": {
                        "text/html": "Total execution time: 00:00:00.014"
                    },
                    "metadata": {}
                }
            ],
            "execution_count": 1
        },
        {
            "cell_type": "markdown",
            "source": [
                "## 1\\. Simple drug-pair interaction checker\n",
                "\n",
                "Find all known drug interactions in literature for a given drug."
            ],
            "metadata": {
                "azdata_cell_guid": "0bd84935-547b-4227-a6a9-9fd4252863ea"
            },
            "attachments": {}
        },
        {
            "cell_type": "code",
            "source": [
                "SELECT Drug1.name AS 'Source Drug', Drug2.name AS 'Interacting Drug', [dbo].[drug_drug_edges].[desc] AS 'Effect of Interaction'\r\n",
                "FROM drug_nodes Drug1, drug_drug_edges, drug_nodes Drug2\r\n",
                "WHERE MATCH(Drug1-(drug_drug_edges)->Drug2)\r\n",
                "AND Drug1.name = 'Cetuximab'"
            ],
            "metadata": {
                "azdata_cell_guid": "5287332d-83ef-4e9a-883b-f7f11b352dfa",
                "language": "sql",
                "tags": []
            },
            "outputs": [
                {
                    "output_type": "display_data",
                    "data": {
                        "text/html": "(397 rows affected)"
                    },
                    "metadata": {}
                },
                {
                    "output_type": "display_data",
                    "data": {
                        "text/html": "Total execution time: 00:00:02.926"
                    },
                    "metadata": {}
                },
                {
                    "output_type": "execute_result",
                    "metadata": {},
                    "execution_count": 2,
                    "data": {
                        "application/vnd.dataresource+json": {
                            "schema": {
                                "fields": [
                                    {
                                        "name": "Source Drug"
                                    },
                                    {
                                        "name": "Interacting Drug"
                                    },
                                    {
                                        "name": "Effect of Interaction"
                                    }
                                ]
                            },
                            "data": [
                                {
                                    "Source Drug": "Cetuximab",
                                    "Interacting Drug": "Diethylstilbestrol",
                                    "Effect of Interaction": "Diethylstilbestrol may increase the thrombogenic activities of Cetuximab."
                                },
                                {
                                    "Source Drug": "Cetuximab",
                                    "Interacting Drug": "Chlorotrianisene",
                                    "Effect of Interaction": "Chlorotrianisene may increase the thrombogenic activities of Cetuximab."
                                },
                                {
                                    "Source Drug": "Cetuximab",
                                    "Interacting Drug": "Conjugated estrogens",
                                    "Effect of Interaction": "Conjugated estrogens may increase the thrombogenic activities of Cetuximab."
                                },
                                {
                                    "Source Drug": "Cetuximab",
                                    "Interacting Drug": "Estrone",
                                    "Effect of Interaction": "Estrone may increase the thrombogenic activities of Cetuximab."
                                },
                                {
                                    "Source Drug": "Cetuximab",
                                    "Interacting Drug": "Estradiol",
                                    "Effect of Interaction": "Estradiol may increase the thrombogenic activities of Cetuximab."
                                },
                                {
                                    "Source Drug": "Cetuximab",
                                    "Interacting Drug": "Dienestrol",
                                    "Effect of Interaction": "Dienestrol may increase the thrombogenic activities of Cetuximab."
                                },
                                {
                                    "Source Drug": "Cetuximab",
                                    "Interacting Drug": "Ethinylestradiol",
                                    "Effect of Interaction": "Ethinylestradiol may increase the thrombogenic activities of Cetuximab."
                                },
                                {
                                    "Source Drug": "Cetuximab",
                                    "Interacting Drug": "Mestranol",
                                    "Effect of Interaction": "Mestranol may increase the thrombogenic activities of Cetuximab."
                                },
                                {
                                    "Source Drug": "Cetuximab",
                                    "Interacting Drug": "Estriol",
                                    "Effect of Interaction": "Estriol may increase the thrombogenic activities of Cetuximab."
                                },
                                {
                                    "Source Drug": "Cetuximab",
                                    "Interacting Drug": "Estrone sulfate",
                                    "Effect of Interaction": "Estrone sulfate may increase the thrombogenic activities of Cetuximab."
                                },
                                {
                                    "Source Drug": "Cetuximab",
                                    "Interacting Drug": "Quinestrol",
                                    "Effect of Interaction": "Quinestrol may increase the thrombogenic activities of Cetuximab."
                                },
                                {
                                    "Source Drug": "Cetuximab",
                                    "Interacting Drug": "Estradiol benzoate",
                                    "Effect of Interaction": "Estradiol benzoate may increase the thrombogenic activities of Cetuximab."
                                },
                                {
                                    "Source Drug": "Cetuximab",
                                    "Interacting Drug": "Estradiol cypionate",
                                    "Effect of Interaction": "Estradiol cypionate may increase the thrombogenic activities of Cetuximab."
                                },
                                {
                                    "Source Drug": "Cetuximab",
                                    "Interacting Drug": "Estradiol valerate",
                                    "Effect of Interaction": "Estradiol valerate may increase the thrombogenic activities of Cetuximab."
                                },
                                {
                                    "Source Drug": "Cetuximab",
                                    "Interacting Drug": "Biochanin A",
                                    "Effect of Interaction": "Biochanin A may increase the thrombogenic activities of Cetuximab."
                                },
                                {
                                    "Source Drug": "Cetuximab",
                                    "Interacting Drug": "Formononetin",
                                    "Effect of Interaction": "Formononetin may increase the thrombogenic activities of Cetuximab."
                                },
                                {
                                    "Source Drug": "Cetuximab",
                                    "Interacting Drug": "Estetrol",
                                    "Effect of Interaction": "Estetrol may increase the thrombogenic activities of Cetuximab."
                                },
                                {
                                    "Source Drug": "Cetuximab",
                                    "Interacting Drug": "Human immunoglobulin G",
                                    "Effect of Interaction": "The risk or severity of adverse effects can be increased when Cetuximab is combined with Human immunoglobulin G."
                                },
                                {
                                    "Source Drug": "Cetuximab",
                                    "Interacting Drug": "Omalizumab",
                                    "Effect of Interaction": "The risk or severity of adverse effects can be increased when Cetuximab is combined with Omalizumab."
                                },
                                {
                                    "Source Drug": "Cetuximab",
                                    "Interacting Drug": "Adalimumab",
                                    "Effect of Interaction": "The risk or severity of adverse effects can be increased when Cetuximab is combined with Adalimumab."
                                },
                                {
                                    "Source Drug": "Cetuximab",
                                    "Interacting Drug": "Abciximab",
                                    "Effect of Interaction": "The risk or severity of adverse effects can be increased when Cetuximab is combined with Abciximab."
                                },
                                {
                                    "Source Drug": "Cetuximab",
                                    "Interacting Drug": "Gemtuzumab ozogamicin",
                                    "Effect of Interaction": "The risk or severity of adverse effects can be increased when Cetuximab is combined with Gemtuzumab ozogamicin."
                                },
                                {
                                    "Source Drug": "Cetuximab",
                                    "Interacting Drug": "Indium In-111 satumomab pendetide",
                                    "Effect of Interaction": "The risk or severity of adverse effects can be increased when Cetuximab is combined with Indium In-111 satumomab pendetide."
                                },
                                {
                                    "Source Drug": "Cetuximab",
                                    "Interacting Drug": "Infliximab",
                                    "Effect of Interaction": "The risk or severity of adverse effects can be increased when Cetuximab is combined with Infliximab."
                                },
                                {
                                    "Source Drug": "Cetuximab",
                                    "Interacting Drug": "Trastuzumab",
                                    "Effect of Interaction": "The risk or severity of adverse effects can be increased when Cetuximab is combined with Trastuzumab."
                                },
                                {
                                    "Source Drug": "Cetuximab",
                                    "Interacting Drug": "Rituximab",
                                    "Effect of Interaction": "The risk or severity of adverse effects can be increased when Cetuximab is combined with Rituximab."
                                },
                                {
                                    "Source Drug": "Cetuximab",
                                    "Interacting Drug": "Basiliximab",
                                    "Effect of Interaction": "The risk or severity of adverse effects can be increased when Cetuximab is combined with Basiliximab."
                                },
                                {
                                    "Source Drug": "Cetuximab",
                                    "Interacting Drug": "Muromonab",
                                    "Effect of Interaction": "The risk or severity of adverse effects can be increased when Cetuximab is combined with Muromonab."
                                },
                                {
                                    "Source Drug": "Cetuximab",
                                    "Interacting Drug": "Digoxin Immune Fab (Ovine)",
                                    "Effect of Interaction": "The risk or severity of adverse effects can be increased when Cetuximab is combined with Digoxin Immune Fab (Ovine)."
                                },
                                {
                                    "Source Drug": "Cetuximab",
                                    "Interacting Drug": "Ibritumomab tiuxetan",
                                    "Effect of Interaction": "The risk or severity of adverse effects can be increased when Cetuximab is combined with Ibritumomab tiuxetan."
                                },
                                {
                                    "Source Drug": "Cetuximab",
                                    "Interacting Drug": "Tositumomab",
                                    "Effect of Interaction": "The risk or severity of adverse effects can be increased when Cetuximab is combined with Tositumomab."
                                },
                                {
                                    "Source Drug": "Cetuximab",
                                    "Interacting Drug": "Alemtuzumab",
                                    "Effect of Interaction": "The risk or severity of adverse effects can be increased when Cetuximab is combined with Alemtuzumab."
                                },
                                {
                                    "Source Drug": "Cetuximab",
                                    "Interacting Drug": "Capromab pendetide",
                                    "Effect of Interaction": "The risk or severity of adverse effects can be increased when Cetuximab is combined with Capromab pendetide."
                                },
                                {
                                    "Source Drug": "Cetuximab",
                                    "Interacting Drug": "Efalizumab",
                                    "Effect of Interaction": "The risk or severity of adverse effects can be increased when Cetuximab is combined with Efalizumab."
                                },
                                {
                                    "Source Drug": "Cetuximab",
                                    "Interacting Drug": "Antithymocyte immunoglobulin (rabbit)",
                                    "Effect of Interaction": "The risk or severity of adverse effects can be increased when Cetuximab is combined with Antithymocyte immunoglobulin (rabbit)."
                                },
                                {
                                    "Source Drug": "Cetuximab",
                                    "Interacting Drug": "Natalizumab",
                                    "Effect of Interaction": "The risk or severity of adverse effects can be increased when Cetuximab is combined with Natalizumab."
                                },
                                {
                                    "Source Drug": "Cetuximab",
                                    "Interacting Drug": "Palivizumab",
                                    "Effect of Interaction": "The risk or severity of adverse effects can be increased when Cetuximab is combined with Palivizumab."
                                },
                                {
                                    "Source Drug": "Cetuximab",
                                    "Interacting Drug": "Daclizumab",
                                    "Effect of Interaction": "The risk or severity of adverse effects can be increased when Cetuximab is combined with Daclizumab."
                                },
                                {
                                    "Source Drug": "Cetuximab",
                                    "Interacting Drug": "Bevacizumab",
                                    "Effect of Interaction": "The risk or severity of adverse effects can be increased when Cetuximab is combined with Bevacizumab."
                                },
                                {
                                    "Source Drug": "Cetuximab",
                                    "Interacting Drug": "Technetium Tc-99m arcitumomab",
                                    "Effect of Interaction": "The risk or severity of adverse effects can be increased when Cetuximab is combined with Technetium Tc-99m arcitumomab."
                                },
                                {
                                    "Source Drug": "Cetuximab",
                                    "Interacting Drug": "Eculizumab",
                                    "Effect of Interaction": "The risk or severity of adverse effects can be increased when Cetuximab is combined with Eculizumab."
                                },
                                {
                                    "Source Drug": "Cetuximab",
                                    "Interacting Drug": "Panitumumab",
                                    "Effect of Interaction": "The risk or severity of adverse effects can be increased when Cetuximab is combined with Panitumumab."
                                },
                                {
                                    "Source Drug": "Cetuximab",
                                    "Interacting Drug": "Ranibizumab",
                                    "Effect of Interaction": "The risk or severity of adverse effects can be increased when Cetuximab is combined with Ranibizumab."
                                },
                                {
                                    "Source Drug": "Cetuximab",
                                    "Interacting Drug": "Galiximab",
                                    "Effect of Interaction": "The risk or severity of adverse effects can be increased when Cetuximab is combined with Galiximab."
                                },
                                {
                                    "Source Drug": "Cetuximab",
                                    "Interacting Drug": "Estradiol acetate",
                                    "Effect of Interaction": "Estradiol acetate may increase the thrombogenic activities of Cetuximab."
                                },
                                {
                                    "Source Drug": "Cetuximab",
                                    "Interacting Drug": "Moxestrol",
                                    "Effect of Interaction": "Moxestrol may increase the thrombogenic activities of Cetuximab."
                                },
                                {
                                    "Source Drug": "Cetuximab",
                                    "Interacting Drug": "Epimestrol",
                                    "Effect of Interaction": "Epimestrol may increase the thrombogenic activities of Cetuximab."
                                },
                                {
                                    "Source Drug": "Cetuximab",
                                    "Interacting Drug": "Methallenestril",
                                    "Effect of Interaction": "Methallenestril may increase the thrombogenic activities of Cetuximab."
                                },
                                {
                                    "Source Drug": "Cetuximab",
                                    "Interacting Drug": "Promestriene",
                                    "Effect of Interaction": "Promestriene may increase the thrombogenic activities of Cetuximab."
                                },
                                {
                                    "Source Drug": "Cetuximab",
                                    "Interacting Drug": "Equol",
                                    "Effect of Interaction": "Equol may increase the thrombogenic activities of Cetuximab."
                                },
                                {
                                    "Source Drug": "Cetuximab",
                                    "Interacting Drug": "Zeranol",
                                    "Effect of Interaction": "Zeranol may increase the thrombogenic activities of Cetuximab."
                                },
                                {
                                    "Source Drug": "Cetuximab",
                                    "Interacting Drug": "Esterified estrogens",
                                    "Effect of Interaction": "Esterified estrogens may increase the thrombogenic activities of Cetuximab."
                                },
                                {
                                    "Source Drug": "Cetuximab",
                                    "Interacting Drug": "Polyestradiol phosphate",
                                    "Effect of Interaction": "Polyestradiol phosphate may increase the thrombogenic activities of Cetuximab."
                                },
                                {
                                    "Source Drug": "Cetuximab",
                                    "Interacting Drug": "Synthetic Conjugated Estrogens, B",
                                    "Effect of Interaction": "Synthetic Conjugated Estrogens, B may increase the thrombogenic activities of Cetuximab."
                                },
                                {
                                    "Source Drug": "Cetuximab",
                                    "Interacting Drug": "Synthetic Conjugated Estrogens, A",
                                    "Effect of Interaction": "Synthetic Conjugated Estrogens, A may increase the thrombogenic activities of Cetuximab."
                                },
                                {
                                    "Source Drug": "Cetuximab",
                                    "Interacting Drug": "Tibolone",
                                    "Effect of Interaction": "Tibolone may increase the thrombogenic activities of Cetuximab."
                                },
                                {
                                    "Source Drug": "Cetuximab",
                                    "Interacting Drug": "Hexestrol",
                                    "Effect of Interaction": "Hexestrol may increase the thrombogenic activities of Cetuximab."
                                },
                                {
                                    "Source Drug": "Cetuximab",
                                    "Interacting Drug": "Pexelizumab",
                                    "Effect of Interaction": "The risk or severity of adverse effects can be increased when Cetuximab is combined with Pexelizumab."
                                },
                                {
                                    "Source Drug": "Cetuximab",
                                    "Interacting Drug": "Afelimomab",
                                    "Effect of Interaction": "The risk or severity of adverse effects can be increased when Cetuximab is combined with Afelimomab."
                                },
                                {
                                    "Source Drug": "Cetuximab",
                                    "Interacting Drug": "Epratuzumab",
                                    "Effect of Interaction": "The risk or severity of adverse effects can be increased when Cetuximab is combined with Epratuzumab."
                                },
                                {
                                    "Source Drug": "Cetuximab",
                                    "Interacting Drug": "Bectumomab",
                                    "Effect of Interaction": "The risk or severity of adverse effects can be increased when Cetuximab is combined with Bectumomab."
                                },
                                {
                                    "Source Drug": "Cetuximab",
                                    "Interacting Drug": "Oregovomab",
                                    "Effect of Interaction": "The risk or severity of adverse effects can be increased when Cetuximab is combined with Oregovomab."
                                },
                                {
                                    "Source Drug": "Cetuximab",
                                    "Interacting Drug": "IGN311",
                                    "Effect of Interaction": "The risk or severity of adverse effects can be increased when Cetuximab is combined with IGN311."
                                },
                                {
                                    "Source Drug": "Cetuximab",
                                    "Interacting Drug": "Adecatumumab",
                                    "Effect of Interaction": "The risk or severity of adverse effects can be increased when Cetuximab is combined with Adecatumumab."
                                },
                                {
                                    "Source Drug": "Cetuximab",
                                    "Interacting Drug": "Labetuzumab",
                                    "Effect of Interaction": "The risk or severity of adverse effects can be increased when Cetuximab is combined with Labetuzumab."
                                },
                                {
                                    "Source Drug": "Cetuximab",
                                    "Interacting Drug": "Matuzumab",
                                    "Effect of Interaction": "The risk or severity of adverse effects can be increased when Cetuximab is combined with Matuzumab."
                                },
                                {
                                    "Source Drug": "Cetuximab",
                                    "Interacting Drug": "Fontolizumab",
                                    "Effect of Interaction": "The risk or severity of adverse effects can be increased when Cetuximab is combined with Fontolizumab."
                                },
                                {
                                    "Source Drug": "Cetuximab",
                                    "Interacting Drug": "Bavituximab",
                                    "Effect of Interaction": "The risk or severity of adverse effects can be increased when Cetuximab is combined with Bavituximab."
                                },
                                {
                                    "Source Drug": "Cetuximab",
                                    "Interacting Drug": "CR002",
                                    "Effect of Interaction": "The risk or severity of adverse effects can be increased when Cetuximab is combined with CR002."
                                },
                                {
                                    "Source Drug": "Cetuximab",
                                    "Interacting Drug": "Rozrolimupab",
                                    "Effect of Interaction": "The risk or severity of adverse effects can be increased when Cetuximab is combined with Rozrolimupab."
                                },
                                {
                                    "Source Drug": "Cetuximab",
                                    "Interacting Drug": "Girentuximab",
                                    "Effect of Interaction": "The risk or severity of adverse effects can be increased when Cetuximab is combined with Girentuximab."
                                },
                                {
                                    "Source Drug": "Cetuximab",
                                    "Interacting Drug": "Obiltoxaximab",
                                    "Effect of Interaction": "The risk or severity of adverse effects can be increased when Cetuximab is combined with Obiltoxaximab."
                                },
                                {
                                    "Source Drug": "Cetuximab",
                                    "Interacting Drug": "XTL-001",
                                    "Effect of Interaction": "The risk or severity of adverse effects can be increased when Cetuximab is combined with XTL-001."
                                },
                                {
                                    "Source Drug": "Cetuximab",
                                    "Interacting Drug": "NAV 1800",
                                    "Effect of Interaction": "The risk or severity of adverse effects can be increased when Cetuximab is combined with NAV 1800."
                                },
                                {
                                    "Source Drug": "Cetuximab",
                                    "Interacting Drug": "Briakinumab",
                                    "Effect of Interaction": "The risk or severity of adverse effects can be increased when Cetuximab is combined with Briakinumab."
                                },
                                {
                                    "Source Drug": "Cetuximab",
                                    "Interacting Drug": "Otelixizumab",
                                    "Effect of Interaction": "The risk or severity of adverse effects can be increased when Cetuximab is combined with Otelixizumab."
                                },
                                {
                                    "Source Drug": "Cetuximab",
                                    "Interacting Drug": "AMG 108",
                                    "Effect of Interaction": "The risk or severity of adverse effects can be increased when Cetuximab is combined with AMG 108."
                                },
                                {
                                    "Source Drug": "Cetuximab",
                                    "Interacting Drug": "Iratumumab",
                                    "Effect of Interaction": "The risk or severity of adverse effects can be increased when Cetuximab is combined with Iratumumab."
                                },
                                {
                                    "Source Drug": "Cetuximab",
                                    "Interacting Drug": "Enokizumab",
                                    "Effect of Interaction": "The risk or severity of adverse effects can be increased when Cetuximab is combined with Enokizumab."
                                },
                                {
                                    "Source Drug": "Cetuximab",
                                    "Interacting Drug": "Ramucirumab",
                                    "Effect of Interaction": "The risk or severity of adverse effects can be increased when Cetuximab is combined with Ramucirumab."
                                },
                                {
                                    "Source Drug": "Cetuximab",
                                    "Interacting Drug": "Farletuzumab",
                                    "Effect of Interaction": "The risk or severity of adverse effects can be increased when Cetuximab is combined with Farletuzumab."
                                },
                                {
                                    "Source Drug": "Cetuximab",
                                    "Interacting Drug": "Veltuzumab",
                                    "Effect of Interaction": "The risk or severity of adverse effects can be increased when Cetuximab is combined with Veltuzumab."
                                },
                                {
                                    "Source Drug": "Cetuximab",
                                    "Interacting Drug": "Ustekinumab",
                                    "Effect of Interaction": "The risk or severity of adverse effects can be increased when Cetuximab is combined with Ustekinumab."
                                },
                                {
                                    "Source Drug": "Cetuximab",
                                    "Interacting Drug": "Trastuzumab emtansine",
                                    "Effect of Interaction": "The risk or severity of adverse effects can be increased when Cetuximab is combined with Trastuzumab emtansine."
                                },
                                {
                                    "Source Drug": "Cetuximab",
                                    "Interacting Drug": "PRO-542",
                                    "Effect of Interaction": "The risk or severity of adverse effects can be increased when Cetuximab is combined with PRO-542."
                                },
                                {
                                    "Source Drug": "Cetuximab",
                                    "Interacting Drug": "TNX-901",
                                    "Effect of Interaction": "The risk or severity of adverse effects can be increased when Cetuximab is combined with TNX-901."
                                },
                                {
                                    "Source Drug": "Cetuximab",
                                    "Interacting Drug": "Inotuzumab ozogamicin",
                                    "Effect of Interaction": "The risk or severity of adverse effects can be increased when Cetuximab is combined with Inotuzumab ozogamicin."
                                },
                                {
                                    "Source Drug": "Cetuximab",
                                    "Interacting Drug": "RI 624",
                                    "Effect of Interaction": "The risk or severity of adverse effects can be increased when Cetuximab is combined with RI 624."
                                },
                                {
                                    "Source Drug": "Cetuximab",
                                    "Interacting Drug": "Stamulumab",
                                    "Effect of Interaction": "The risk or severity of adverse effects can be increased when Cetuximab is combined with MYO-029."
                                },
                                {
                                    "Source Drug": "Cetuximab",
                                    "Interacting Drug": "CT-011",
                                    "Effect of Interaction": "The risk or severity of adverse effects can be increased when Cetuximab is combined with CT-011."
                                },
                                {
                                    "Source Drug": "Cetuximab",
                                    "Interacting Drug": "Leronlimab",
                                    "Effect of Interaction": "The risk or severity of adverse effects can be increased when Cetuximab is combined with Leronlimab."
                                },
                                {
                                    "Source Drug": "Cetuximab",
                                    "Interacting Drug": "Glembatumumab vedotin",
                                    "Effect of Interaction": "The risk or severity of adverse effects can be increased when Cetuximab is combined with Glembatumumab vedotin."
                                },
                                {
                                    "Source Drug": "Cetuximab",
                                    "Interacting Drug": "Olaratumab",
                                    "Effect of Interaction": "The risk or severity of adverse effects can be increased when Cetuximab is combined with Olaratumab."
                                },
                                {
                                    "Source Drug": "Cetuximab",
                                    "Interacting Drug": "IPH 2101",
                                    "Effect of Interaction": "The risk or severity of adverse effects can be increased when Cetuximab is combined with IPH 2101."
                                },
                                {
                                    "Source Drug": "Cetuximab",
                                    "Interacting Drug": "TB-402",
                                    "Effect of Interaction": "The risk or severity of adverse effects can be increased when Cetuximab is combined with TB-402."
                                },
                                {
                                    "Source Drug": "Cetuximab",
                                    "Interacting Drug": "Caplacizumab",
                                    "Effect of Interaction": "The risk or severity of adverse effects can be increased when Cetuximab is combined with Caplacizumab."
                                },
                                {
                                    "Source Drug": "Cetuximab",
                                    "Interacting Drug": "IMC-1C11",
                                    "Effect of Interaction": "The risk or severity of adverse effects can be increased when Cetuximab is combined with IMC-1C11."
                                },
                                {
                                    "Source Drug": "Cetuximab",
                                    "Interacting Drug": "Eldelumab",
                                    "Effect of Interaction": "The risk or severity of adverse effects can be increased when Cetuximab is combined with Eldelumab."
                                },
                                {
                                    "Source Drug": "Cetuximab",
                                    "Interacting Drug": "Lumiliximab",
                                    "Effect of Interaction": "The risk or severity of adverse effects can be increased when Cetuximab is combined with Lumiliximab."
                                },
                                {
                                    "Source Drug": "Cetuximab",
                                    "Interacting Drug": "Canakinumab",
                                    "Effect of Interaction": "The risk or severity of adverse effects can be increased when Cetuximab is combined with Canakinumab."
                                },
                                {
                                    "Source Drug": "Cetuximab",
                                    "Interacting Drug": "Ipilimumab",
                                    "Effect of Interaction": "The risk or severity of adverse effects can be increased when Cetuximab is combined with Ipilimumab."
                                },
                                {
                                    "Source Drug": "Cetuximab",
                                    "Interacting Drug": "Nimotuzumab",
                                    "Effect of Interaction": "The risk or severity of adverse effects can be increased when Cetuximab is combined with Nimotuzumab."
                                },
                                {
                                    "Source Drug": "Cetuximab",
                                    "Interacting Drug": "Clenoliximab",
                                    "Effect of Interaction": "The risk or severity of adverse effects can be increased when Cetuximab is combined with Clenoliximab."
                                },
                                {
                                    "Source Drug": "Cetuximab",
                                    "Interacting Drug": "Tocilizumab",
                                    "Effect of Interaction": "The risk or severity of adverse effects can be increased when Cetuximab is combined with Tocilizumab."
                                },
                                {
                                    "Source Drug": "Cetuximab",
                                    "Interacting Drug": "BIIB015",
                                    "Effect of Interaction": "The risk or severity of adverse effects can be increased when Cetuximab is combined with BIIB015."
                                },
                                {
                                    "Source Drug": "Cetuximab",
                                    "Interacting Drug": "Sonepcizumab",
                                    "Effect of Interaction": "The risk or severity of adverse effects can be increased when Cetuximab is combined with Sonepcizumab."
                                },
                                {
                                    "Source Drug": "Cetuximab",
                                    "Interacting Drug": "Motavizumab",
                                    "Effect of Interaction": "The risk or severity of adverse effects can be increased when Cetuximab is combined with Motavizumab."
                                },
                                {
                                    "Source Drug": "Cetuximab",
                                    "Interacting Drug": "Elotuzumab",
                                    "Effect of Interaction": "The risk or severity of adverse effects can be increased when Cetuximab is combined with Elotuzumab."
                                },
                                {
                                    "Source Drug": "Cetuximab",
                                    "Interacting Drug": "AVE9633",
                                    "Effect of Interaction": "The risk or severity of adverse effects can be increased when Cetuximab is combined with AVE9633."
                                },
                                {
                                    "Source Drug": "Cetuximab",
                                    "Interacting Drug": "Carotuximab",
                                    "Effect of Interaction": "The risk or severity of adverse effects can be increased when Cetuximab is combined with Carotuximab."
                                },
                                {
                                    "Source Drug": "Cetuximab",
                                    "Interacting Drug": "XmAb 2513",
                                    "Effect of Interaction": "The risk or severity of adverse effects can be increased when Cetuximab is combined with XmAb 2513."
                                },
                                {
                                    "Source Drug": "Cetuximab",
                                    "Interacting Drug": "Coltuximab ravtansine",
                                    "Effect of Interaction": "The risk or severity of adverse effects can be increased when Cetuximab is combined with Coltuximab ravtansine."
                                },
                                {
                                    "Source Drug": "Cetuximab",
                                    "Interacting Drug": "Lucatumumab",
                                    "Effect of Interaction": "The risk or severity of adverse effects can be increased when Cetuximab is combined with Lucatumumab."
                                },
                                {
                                    "Source Drug": "Cetuximab",
                                    "Interacting Drug": "Pertuzumab",
                                    "Effect of Interaction": "The risk or severity of adverse effects can be increased when Cetuximab is combined with Pertuzumab."
                                },
                                {
                                    "Source Drug": "Cetuximab",
                                    "Interacting Drug": "Siplizumab",
                                    "Effect of Interaction": "The risk or severity of adverse effects can be increased when Cetuximab is combined with Siplizumab."
                                },
                                {
                                    "Source Drug": "Cetuximab",
                                    "Interacting Drug": "Apolizumab",
                                    "Effect of Interaction": "The risk or severity of adverse effects can be increased when Cetuximab is combined with Apolizumab."
                                },
                                {
                                    "Source Drug": "Cetuximab",
                                    "Interacting Drug": "Sibrotuzumab",
                                    "Effect of Interaction": "The risk or severity of adverse effects can be increased when Cetuximab is combined with Sibrotuzumab."
                                },
                                {
                                    "Source Drug": "Cetuximab",
                                    "Interacting Drug": "Bivatuzumab",
                                    "Effect of Interaction": "The risk or severity of adverse effects can be increased when Cetuximab is combined with Bivatuzumab."
                                },
                                {
                                    "Source Drug": "Cetuximab",
                                    "Interacting Drug": "Lerdelimumab",
                                    "Effect of Interaction": "The risk or severity of adverse effects can be increased when Cetuximab is combined with Lerdelimumab."
                                },
                                {
                                    "Source Drug": "Cetuximab",
                                    "Interacting Drug": "Lexatumumab",
                                    "Effect of Interaction": "The risk or severity of adverse effects can be increased when Cetuximab is combined with Lexatumumab."
                                },
                                {
                                    "Source Drug": "Cetuximab",
                                    "Interacting Drug": "Reslizumab",
                                    "Effect of Interaction": "The risk or severity of adverse effects can be increased when Cetuximab is combined with Reslizumab."
                                },
                                {
                                    "Source Drug": "Cetuximab",
                                    "Interacting Drug": "Teplizumab",
                                    "Effect of Interaction": "The risk or severity of adverse effects can be increased when Cetuximab is combined with Teplizumab."
                                },
                                {
                                    "Source Drug": "Cetuximab",
                                    "Interacting Drug": "Catumaxomab",
                                    "Effect of Interaction": "The risk or severity of adverse effects can be increased when Cetuximab is combined with Catumaxomab."
                                },
                                {
                                    "Source Drug": "Cetuximab",
                                    "Interacting Drug": "Mepolizumab",
                                    "Effect of Interaction": "The risk or severity of adverse effects can be increased when Cetuximab is combined with Mepolizumab."
                                },
                                {
                                    "Source Drug": "Cetuximab",
                                    "Interacting Drug": "Denosumab",
                                    "Effect of Interaction": "The risk or severity of adverse effects can be increased when Cetuximab is combined with Denosumab."
                                },
                                {
                                    "Source Drug": "Cetuximab",
                                    "Interacting Drug": "Volociximab",
                                    "Effect of Interaction": "The risk or severity of adverse effects can be increased when Cetuximab is combined with Volociximab."
                                },
                                {
                                    "Source Drug": "Cetuximab",
                                    "Interacting Drug": "Ofatumumab",
                                    "Effect of Interaction": "The risk or severity of adverse effects can be increased when Cetuximab is combined with Ofatumumab."
                                },
                                {
                                    "Source Drug": "Cetuximab",
                                    "Interacting Drug": "Golimumab",
                                    "Effect of Interaction": "The risk or severity of adverse effects can be increased when Cetuximab is combined with Golimumab."
                                },
                                {
                                    "Source Drug": "Cetuximab",
                                    "Interacting Drug": "Brentuximab vedotin",
                                    "Effect of Interaction": "The risk or severity of adverse effects can be increased when Cetuximab is combined with Brentuximab vedotin."
                                },
                                {
                                    "Source Drug": "Cetuximab",
                                    "Interacting Drug": "Belimumab",
                                    "Effect of Interaction": "The risk or severity of adverse effects can be increased when Cetuximab is combined with Belimumab."
                                },
                                {
                                    "Source Drug": "Cetuximab",
                                    "Interacting Drug": "Raxibacumab",
                                    "Effect of Interaction": "The risk or severity of adverse effects can be increased when Cetuximab is combined with Raxibacumab."
                                },
                                {
                                    "Source Drug": "Cetuximab",
                                    "Interacting Drug": "Obinutuzumab",
                                    "Effect of Interaction": "The risk or severity of adverse effects can be increased when Cetuximab is combined with Obinutuzumab."
                                },
                                {
                                    "Source Drug": "Cetuximab",
                                    "Interacting Drug": "Secukinumab",
                                    "Effect of Interaction": "The risk or severity of adverse effects can be increased when Cetuximab is combined with Secukinumab."
                                },
                                {
                                    "Source Drug": "Cetuximab",
                                    "Interacting Drug": "Vedolizumab",
                                    "Effect of Interaction": "The risk or severity of adverse effects can be increased when Cetuximab is combined with Vedolizumab."
                                },
                                {
                                    "Source Drug": "Cetuximab",
                                    "Interacting Drug": "Nivolumab",
                                    "Effect of Interaction": "The risk or severity of adverse effects can be increased when Cetuximab is combined with Nivolumab."
                                },
                                {
                                    "Source Drug": "Cetuximab",
                                    "Interacting Drug": "Siltuximab",
                                    "Effect of Interaction": "The risk or severity of adverse effects can be increased when Cetuximab is combined with Siltuximab."
                                },
                                {
                                    "Source Drug": "Cetuximab",
                                    "Interacting Drug": "Pembrolizumab",
                                    "Effect of Interaction": "The risk or severity of adverse effects can be increased when Cetuximab is combined with Pembrolizumab."
                                },
                                {
                                    "Source Drug": "Cetuximab",
                                    "Interacting Drug": "Dulaglutide",
                                    "Effect of Interaction": "The risk or severity of adverse effects can be increased when Cetuximab is combined with Dulaglutide."
                                },
                                {
                                    "Source Drug": "Cetuximab",
                                    "Interacting Drug": "Blinatumomab",
                                    "Effect of Interaction": "The risk or severity of adverse effects can be increased when Cetuximab is combined with Blinatumomab."
                                },
                                {
                                    "Source Drug": "Cetuximab",
                                    "Interacting Drug": "Anthrax immune globulin human",
                                    "Effect of Interaction": "The risk or severity of adverse effects can be increased when Cetuximab is combined with Anthrax immune globulin human."
                                },
                                {
                                    "Source Drug": "Cetuximab",
                                    "Interacting Drug": "Dinutuximab",
                                    "Effect of Interaction": "The risk or severity of adverse effects can be increased when Cetuximab is combined with Dinutuximab."
                                },
                                {
                                    "Source Drug": "Cetuximab",
                                    "Interacting Drug": "Asfotase alfa",
                                    "Effect of Interaction": "The risk or severity of adverse effects can be increased when Cetuximab is combined with Asfotase alfa."
                                },
                                {
                                    "Source Drug": "Cetuximab",
                                    "Interacting Drug": "Idarucizumab",
                                    "Effect of Interaction": "The risk or severity of adverse effects can be increased when Cetuximab is combined with Idarucizumab."
                                },
                                {
                                    "Source Drug": "Cetuximab",
                                    "Interacting Drug": "Alirocumab",
                                    "Effect of Interaction": "The risk or severity of adverse effects can be increased when Cetuximab is combined with Alirocumab."
                                },
                                {
                                    "Source Drug": "Cetuximab",
                                    "Interacting Drug": "Evolocumab",
                                    "Effect of Interaction": "The risk or severity of adverse effects can be increased when Cetuximab is combined with Evolocumab."
                                },
                                {
                                    "Source Drug": "Cetuximab",
                                    "Interacting Drug": "Antilymphocyte immunoglobulin (horse)",
                                    "Effect of Interaction": "The risk or severity of adverse effects can be increased when Cetuximab is combined with Antilymphocyte immunoglobulin (horse)."
                                },
                                {
                                    "Source Drug": "Cetuximab",
                                    "Interacting Drug": "Daratumumab",
                                    "Effect of Interaction": "The risk or severity of adverse effects can be increased when Cetuximab is combined with Daratumumab."
                                },
                                {
                                    "Source Drug": "Cetuximab",
                                    "Interacting Drug": "Necitumumab",
                                    "Effect of Interaction": "The risk or severity of adverse effects can be increased when Cetuximab is combined with Necitumumab."
                                },
                                {
                                    "Source Drug": "Cetuximab",
                                    "Interacting Drug": "Ixekizumab",
                                    "Effect of Interaction": "The risk or severity of adverse effects can be increased when Cetuximab is combined with Ixekizumab."
                                },
                                {
                                    "Source Drug": "Cetuximab",
                                    "Interacting Drug": "Ravulizumab",
                                    "Effect of Interaction": "The risk or severity of adverse effects can be increased when Cetuximab is combined with Ravulizumab."
                                },
                                {
                                    "Source Drug": "Cetuximab",
                                    "Interacting Drug": "Atezolizumab",
                                    "Effect of Interaction": "The risk or severity of adverse effects can be increased when Cetuximab is combined with Atezolizumab."
                                },
                                {
                                    "Source Drug": "Cetuximab",
                                    "Interacting Drug": "Tetanus immune globulin, human",
                                    "Effect of Interaction": "The risk or severity of adverse effects can be increased when Cetuximab is combined with Tetanus immune globulin, human."
                                },
                                {
                                    "Source Drug": "Cetuximab",
                                    "Interacting Drug": "Eftrenonacog alfa",
                                    "Effect of Interaction": "The risk or severity of adverse effects can be increased when Cetuximab is combined with Eftrenonacog alfa."
                                },
                                {
                                    "Source Drug": "Cetuximab",
                                    "Interacting Drug": "Human varicella-zoster immune globulin",
                                    "Effect of Interaction": "The risk or severity of adverse effects can be increased when Cetuximab is combined with Human varicella-zoster immune globulin."
                                },
                                {
                                    "Source Drug": "Cetuximab",
                                    "Interacting Drug": "Conatumumab",
                                    "Effect of Interaction": "The risk or severity of adverse effects can be increased when Cetuximab is combined with Conatumumab."
                                },
                                {
                                    "Source Drug": "Cetuximab",
                                    "Interacting Drug": "Tabalumab",
                                    "Effect of Interaction": "The risk or severity of adverse effects can be increased when Cetuximab is combined with Tabalumab."
                                },
                                {
                                    "Source Drug": "Cetuximab",
                                    "Interacting Drug": "Ficlatuzumab",
                                    "Effect of Interaction": "The risk or severity of adverse effects can be increased when Cetuximab is combined with Ficlatuzumab."
                                },
                                {
                                    "Source Drug": "Cetuximab",
                                    "Interacting Drug": "Figitumumab",
                                    "Effect of Interaction": "The risk or severity of adverse effects can be increased when Cetuximab is combined with Figitumumab."
                                },
                                {
                                    "Source Drug": "Cetuximab",
                                    "Interacting Drug": "Durvalumab",
                                    "Effect of Interaction": "The risk or severity of adverse effects can be increased when Cetuximab is combined with Durvalumab."
                                },
                                {
                                    "Source Drug": "Cetuximab",
                                    "Interacting Drug": "Bapineuzumab",
                                    "Effect of Interaction": "The risk or severity of adverse effects can be increased when Cetuximab is combined with Bapineuzumab."
                                },
                                {
                                    "Source Drug": "Cetuximab",
                                    "Interacting Drug": "Depatuxizumab mafodotin",
                                    "Effect of Interaction": "The risk or severity of adverse effects can be increased when Cetuximab is combined with Depatuxizumab mafodotin."
                                },
                                {
                                    "Source Drug": "Cetuximab",
                                    "Interacting Drug": "Onartuzumab",
                                    "Effect of Interaction": "The risk or severity of adverse effects can be increased when Cetuximab is combined with Onartuzumab."
                                },
                                {
                                    "Source Drug": "Cetuximab",
                                    "Interacting Drug": "Solanezumab",
                                    "Effect of Interaction": "The risk or severity of adverse effects can be increased when Cetuximab is combined with Solanezumab."
                                },
                                {
                                    "Source Drug": "Cetuximab",
                                    "Interacting Drug": "Sarilumab",
                                    "Effect of Interaction": "The risk or severity of adverse effects can be increased when Cetuximab is combined with Sarilumab."
                                },
                                {
                                    "Source Drug": "Cetuximab",
                                    "Interacting Drug": "Tremelimumab",
                                    "Effect of Interaction": "The risk or severity of adverse effects can be increased when Cetuximab is combined with Tremelimumab."
                                },
                                {
                                    "Source Drug": "Cetuximab",
                                    "Interacting Drug": "Brodalumab",
                                    "Effect of Interaction": "The risk or severity of adverse effects can be increased when Cetuximab is combined with Brodalumab."
                                },
                                {
                                    "Source Drug": "Cetuximab",
                                    "Interacting Drug": "Sirukumab",
                                    "Effect of Interaction": "The risk or severity of adverse effects can be increased when Cetuximab is combined with Sirukumab."
                                },
                                {
                                    "Source Drug": "Cetuximab",
                                    "Interacting Drug": "Lampalizumab",
                                    "Effect of Interaction": "The risk or severity of adverse effects can be increased when Cetuximab is combined with Lampalizumab."
                                },
                                {
                                    "Source Drug": "Cetuximab",
                                    "Interacting Drug": "Guselkumab",
                                    "Effect of Interaction": "The risk or severity of adverse effects can be increased when Cetuximab is combined with Guselkumab."
                                },
                                {
                                    "Source Drug": "Cetuximab",
                                    "Interacting Drug": "Dalotuzumab",
                                    "Effect of Interaction": "The risk or severity of adverse effects can be increased when Cetuximab is combined with Dalotuzumab."
                                },
                                {
                                    "Source Drug": "Cetuximab",
                                    "Interacting Drug": "Emibetuzumab",
                                    "Effect of Interaction": "The risk or severity of adverse effects can be increased when Cetuximab is combined with Emibetuzumab."
                                },
                                {
                                    "Source Drug": "Cetuximab",
                                    "Interacting Drug": "Ublituximab",
                                    "Effect of Interaction": "The risk or severity of adverse effects can be increased when Cetuximab is combined with Ublituximab."
                                },
                                {
                                    "Source Drug": "Cetuximab",
                                    "Interacting Drug": "Ligelizumab",
                                    "Effect of Interaction": "The risk or severity of adverse effects can be increased when Cetuximab is combined with Ligelizumab."
                                },
                                {
                                    "Source Drug": "Cetuximab",
                                    "Interacting Drug": "Seribantumab",
                                    "Effect of Interaction": "The risk or severity of adverse effects can be increased when Cetuximab is combined with Seribantumab."
                                },
                                {
                                    "Source Drug": "Cetuximab",
                                    "Interacting Drug": "Landogrozumab",
                                    "Effect of Interaction": "The risk or severity of adverse effects can be increased when Cetuximab is combined with Landogrozumab."
                                },
                                {
                                    "Source Drug": "Cetuximab",
                                    "Interacting Drug": "Romosozumab",
                                    "Effect of Interaction": "The risk or severity of adverse effects can be increased when Cetuximab is combined with Romosozumab."
                                },
                                {
                                    "Source Drug": "Cetuximab",
                                    "Interacting Drug": "Vadastuximab talirine",
                                    "Effect of Interaction": "The risk or severity of adverse effects can be increased when Cetuximab is combined with Vadastuximab talirine."
                                },
                                {
                                    "Source Drug": "Cetuximab",
                                    "Interacting Drug": "Lebrikizumab",
                                    "Effect of Interaction": "The risk or severity of adverse effects can be increased when Cetuximab is combined with Lebrikizumab."
                                },
                                {
                                    "Source Drug": "Cetuximab",
                                    "Interacting Drug": "Varlilumab",
                                    "Effect of Interaction": "The risk or severity of adverse effects can be increased when Cetuximab is combined with Varlilumab."
                                },
                                {
                                    "Source Drug": "Cetuximab",
                                    "Interacting Drug": "Avelumab",
                                    "Effect of Interaction": "The risk or severity of adverse effects can be increased when Cetuximab is combined with Avelumab."
                                },
                                {
                                    "Source Drug": "Cetuximab",
                                    "Interacting Drug": "Crenezumab",
                                    "Effect of Interaction": "The risk or severity of adverse effects can be increased when Cetuximab is combined with Crenezumab."
                                },
                                {
                                    "Source Drug": "Cetuximab",
                                    "Interacting Drug": "Rilotumumab",
                                    "Effect of Interaction": "The risk or severity of adverse effects can be increased when Cetuximab is combined with Rilotumumab."
                                },
                                {
                                    "Source Drug": "Cetuximab",
                                    "Interacting Drug": "Anifrolumab",
                                    "Effect of Interaction": "The risk or severity of adverse effects can be increased when Cetuximab is combined with Anifrolumab."
                                },
                                {
                                    "Source Drug": "Cetuximab",
                                    "Interacting Drug": "Ocrelizumab",
                                    "Effect of Interaction": "The risk or severity of adverse effects can be increased when Cetuximab is combined with Ocrelizumab."
                                },
                                {
                                    "Source Drug": "Cetuximab",
                                    "Interacting Drug": "Benralizumab",
                                    "Effect of Interaction": "The risk or severity of adverse effects can be increased when Cetuximab is combined with Benralizumab."
                                },
                                {
                                    "Source Drug": "Cetuximab",
                                    "Interacting Drug": "Gantenerumab",
                                    "Effect of Interaction": "The risk or severity of adverse effects can be increased when Cetuximab is combined with Gantenerumab."
                                },
                                {
                                    "Source Drug": "Cetuximab",
                                    "Interacting Drug": "Visilizumab",
                                    "Effect of Interaction": "The risk or severity of adverse effects can be increased when Cetuximab is combined with Visilizumab."
                                },
                                {
                                    "Source Drug": "Cetuximab",
                                    "Interacting Drug": "Urelumab",
                                    "Effect of Interaction": "The risk or severity of adverse effects can be increased when Cetuximab is combined with Urelumab."
                                },
                                {
                                    "Source Drug": "Cetuximab",
                                    "Interacting Drug": "Lorvotuzumab mertansine",
                                    "Effect of Interaction": "The risk or severity of adverse effects can be increased when Cetuximab is combined with Lorvotuzumab mertansine."
                                },
                                {
                                    "Source Drug": "Cetuximab",
                                    "Interacting Drug": "Patritumab",
                                    "Effect of Interaction": "The risk or severity of adverse effects can be increased when Cetuximab is combined with Patritumab."
                                },
                                {
                                    "Source Drug": "Cetuximab",
                                    "Interacting Drug": "Fulranumab",
                                    "Effect of Interaction": "The risk or severity of adverse effects can be increased when Cetuximab is combined with Fulranumab."
                                },
                                {
                                    "Source Drug": "Cetuximab",
                                    "Interacting Drug": "Tarextumab",
                                    "Effect of Interaction": "The risk or severity of adverse effects can be increased when Cetuximab is combined with Tarextumab."
                                },
                                {
                                    "Source Drug": "Cetuximab",
                                    "Interacting Drug": "Sotatercept",
                                    "Effect of Interaction": "The risk or severity of adverse effects can be increased when Cetuximab is combined with Sotatercept."
                                },
                                {
                                    "Source Drug": "Cetuximab",
                                    "Interacting Drug": "Gevokizumab",
                                    "Effect of Interaction": "The risk or severity of adverse effects can be increased when Cetuximab is combined with Gevokizumab."
                                },
                                {
                                    "Source Drug": "Cetuximab",
                                    "Interacting Drug": "Duligotuzumab",
                                    "Effect of Interaction": "The risk or severity of adverse effects can be increased when Cetuximab is combined with Duligotuzumab."
                                },
                                {
                                    "Source Drug": "Cetuximab",
                                    "Interacting Drug": "Simtuzumab",
                                    "Effect of Interaction": "The risk or severity of adverse effects can be increased when Cetuximab is combined with Simtuzumab."
                                },
                                {
                                    "Source Drug": "Cetuximab",
                                    "Interacting Drug": "Fasinumab",
                                    "Effect of Interaction": "The risk or severity of adverse effects can be increased when Cetuximab is combined with Fasinumab."
                                },
                                {
                                    "Source Drug": "Cetuximab",
                                    "Interacting Drug": "Dupilumab",
                                    "Effect of Interaction": "The risk or severity of adverse effects can be increased when Cetuximab is combined with Dupilumab."
                                },
                                {
                                    "Source Drug": "Cetuximab",
                                    "Interacting Drug": "Tralokinumab",
                                    "Effect of Interaction": "The risk or severity of adverse effects can be increased when Cetuximab is combined with Tralokinumab."
                                },
                                {
                                    "Source Drug": "Cetuximab",
                                    "Interacting Drug": "Etrolizumab",
                                    "Effect of Interaction": "The risk or severity of adverse effects can be increased when Cetuximab is combined with Etrolizumab."
                                },
                                {
                                    "Source Drug": "Cetuximab",
                                    "Interacting Drug": "Zalutumumab",
                                    "Effect of Interaction": "The risk or severity of adverse effects can be increased when Cetuximab is combined with Zalutumumab."
                                },
                                {
                                    "Source Drug": "Cetuximab",
                                    "Interacting Drug": "Ganitumab",
                                    "Effect of Interaction": "The risk or severity of adverse effects can be increased when Cetuximab is combined with Ganitumab."
                                },
                                {
                                    "Source Drug": "Cetuximab",
                                    "Interacting Drug": "Etaracizumab",
                                    "Effect of Interaction": "The risk or severity of adverse effects can be increased when Cetuximab is combined with Etaracizumab."
                                },
                                {
                                    "Source Drug": "Cetuximab",
                                    "Interacting Drug": "Polatuzumab vedotin",
                                    "Effect of Interaction": "The risk or severity of adverse effects can be increased when Cetuximab is combined with Polatuzumab vedotin."
                                },
                                {
                                    "Source Drug": "Cetuximab",
                                    "Interacting Drug": "Inclacumab",
                                    "Effect of Interaction": "The risk or severity of adverse effects can be increased when Cetuximab is combined with Inclacumab."
                                },
                                {
                                    "Source Drug": "Cetuximab",
                                    "Interacting Drug": "Cixutumumab",
                                    "Effect of Interaction": "The risk or severity of adverse effects can be increased when Cetuximab is combined with Cixutumumab."
                                },
                                {
                                    "Source Drug": "Cetuximab",
                                    "Interacting Drug": "Ascrinvacumab",
                                    "Effect of Interaction": "The risk or severity of adverse effects can be increased when Cetuximab is combined with Ascrinvacumab."
                                },
                                {
                                    "Source Drug": "Cetuximab",
                                    "Interacting Drug": "Aducanumab",
                                    "Effect of Interaction": "The risk or severity of adverse effects can be increased when Cetuximab is combined with Aducanumab."
                                },
                                {
                                    "Source Drug": "Cetuximab",
                                    "Interacting Drug": "GS-5745",
                                    "Effect of Interaction": "The risk or severity of adverse effects can be increased when Cetuximab is combined with GS-5745."
                                },
                                {
                                    "Source Drug": "Cetuximab",
                                    "Interacting Drug": "Vanucizumab",
                                    "Effect of Interaction": "The risk or severity of adverse effects can be increased when Cetuximab is combined with Vanucizumab."
                                },
                                {
                                    "Source Drug": "Cetuximab",
                                    "Interacting Drug": "Labetuzumab govitecan",
                                    "Effect of Interaction": "The risk or severity of adverse effects can be increased when Cetuximab is combined with Labetuzumab govitecan."
                                },
                                {
                                    "Source Drug": "Cetuximab",
                                    "Interacting Drug": "Tanezumab",
                                    "Effect of Interaction": "The risk or severity of adverse effects can be increased when Cetuximab is combined with Tanezumab."
                                },
                                {
                                    "Source Drug": "Cetuximab",
                                    "Interacting Drug": "Ensituximab",
                                    "Effect of Interaction": "The risk or severity of adverse effects can be increased when Cetuximab is combined with Ensituximab."
                                },
                                {
                                    "Source Drug": "Cetuximab",
                                    "Interacting Drug": "Fezakinumab",
                                    "Effect of Interaction": "The risk or severity of adverse effects can be increased when Cetuximab is combined with Fezakinumab."
                                },
                                {
                                    "Source Drug": "Cetuximab",
                                    "Interacting Drug": "Dusigitumab",
                                    "Effect of Interaction": "The risk or severity of adverse effects can be increased when Cetuximab is combined with Dusigitumab."
                                },
                                {
                                    "Source Drug": "Cetuximab",
                                    "Interacting Drug": "Fresolimumab",
                                    "Effect of Interaction": "The risk or severity of adverse effects can be increased when Cetuximab is combined with Fresolimumab."
                                },
                                {
                                    "Source Drug": "Cetuximab",
                                    "Interacting Drug": "Indusatumab vedotin",
                                    "Effect of Interaction": "The risk or severity of adverse effects can be increased when Cetuximab is combined with Indusatumab vedotin."
                                },
                                {
                                    "Source Drug": "Cetuximab",
                                    "Interacting Drug": "Bococizumab",
                                    "Effect of Interaction": "The risk or severity of adverse effects can be increased when Cetuximab is combined with Bococizumab."
                                },
                                {
                                    "Source Drug": "Cetuximab",
                                    "Interacting Drug": "Mirvetuximab soravtansine",
                                    "Effect of Interaction": "The risk or severity of adverse effects can be increased when Cetuximab is combined with Mirvetuximab Soravtansine."
                                },
                                {
                                    "Source Drug": "Cetuximab",
                                    "Interacting Drug": "Mogamulizumab",
                                    "Effect of Interaction": "The risk or severity of adverse effects can be increased when Cetuximab is combined with Mogamulizumab."
                                },
                                {
                                    "Source Drug": "Cetuximab",
                                    "Interacting Drug": "Plozalizumab",
                                    "Effect of Interaction": "The risk or severity of adverse effects can be increased when Cetuximab is combined with Plozalizumab."
                                },
                                {
                                    "Source Drug": "Cetuximab",
                                    "Interacting Drug": "Inebilizumab",
                                    "Effect of Interaction": "The risk or severity of adverse effects can be increased when Cetuximab is combined with Inebilizumab."
                                },
                                {
                                    "Source Drug": "Cetuximab",
                                    "Interacting Drug": "Mavrilimumab",
                                    "Effect of Interaction": "The risk or severity of adverse effects can be increased when Cetuximab is combined with Mavrilimumab."
                                },
                                {
                                    "Source Drug": "Cetuximab",
                                    "Interacting Drug": "Blosozumab",
                                    "Effect of Interaction": "The risk or severity of adverse effects can be increased when Cetuximab is combined with Blosozumab."
                                },
                                {
                                    "Source Drug": "Cetuximab",
                                    "Interacting Drug": "Bimagrumab",
                                    "Effect of Interaction": "The risk or severity of adverse effects can be increased when Cetuximab is combined with Bimagrumab."
                                },
                                {
                                    "Source Drug": "Cetuximab",
                                    "Interacting Drug": "Dacetuzumab",
                                    "Effect of Interaction": "The risk or severity of adverse effects can be increased when Cetuximab is combined with Dacetuzumab."
                                },
                                {
                                    "Source Drug": "Cetuximab",
                                    "Interacting Drug": "Tovetumab",
                                    "Effect of Interaction": "The risk or severity of adverse effects can be increased when Cetuximab is combined with Tovetumab."
                                },
                                {
                                    "Source Drug": "Cetuximab",
                                    "Interacting Drug": "Lumretuzumab",
                                    "Effect of Interaction": "The risk or severity of adverse effects can be increased when Cetuximab is combined with Lumretuzumab."
                                },
                                {
                                    "Source Drug": "Cetuximab",
                                    "Interacting Drug": "Ibalizumab",
                                    "Effect of Interaction": "The risk or severity of adverse effects can be increased when Cetuximab is combined with Ibalizumab."
                                },
                                {
                                    "Source Drug": "Cetuximab",
                                    "Interacting Drug": "Intetumumab",
                                    "Effect of Interaction": "The risk or severity of adverse effects can be increased when Cetuximab is combined with Intetumumab."
                                },
                                {
                                    "Source Drug": "Cetuximab",
                                    "Interacting Drug": "Carlumab",
                                    "Effect of Interaction": "The risk or severity of adverse effects can be increased when Cetuximab is combined with Carlumab."
                                },
                                {
                                    "Source Drug": "Cetuximab",
                                    "Interacting Drug": "Demcizumab",
                                    "Effect of Interaction": "The risk or severity of adverse effects can be increased when Cetuximab is combined with Demcizumab."
                                },
                                {
                                    "Source Drug": "Cetuximab",
                                    "Interacting Drug": "Sifalimumab",
                                    "Effect of Interaction": "The risk or severity of adverse effects can be increased when Cetuximab is combined with Sifalimumab."
                                },
                                {
                                    "Source Drug": "Cetuximab",
                                    "Interacting Drug": "Abituzumab",
                                    "Effect of Interaction": "The risk or severity of adverse effects can be increased when Cetuximab is combined with Abituzumab."
                                },
                                {
                                    "Source Drug": "Cetuximab",
                                    "Interacting Drug": "Ecromeximab",
                                    "Effect of Interaction": "The risk or severity of adverse effects can be increased when Cetuximab is combined with Ecromeximab."
                                },
                                {
                                    "Source Drug": "Cetuximab",
                                    "Interacting Drug": "Naptumomab estafenatox",
                                    "Effect of Interaction": "The risk or severity of adverse effects can be increased when Cetuximab is combined with Naptumomab estafenatox."
                                },
                                {
                                    "Source Drug": "Cetuximab",
                                    "Interacting Drug": "Crotedumab",
                                    "Effect of Interaction": "The risk or severity of adverse effects can be increased when Cetuximab is combined with Crotedumab."
                                },
                                {
                                    "Source Drug": "Cetuximab",
                                    "Interacting Drug": "Concizumab",
                                    "Effect of Interaction": "The risk or severity of adverse effects can be increased when Cetuximab is combined with Concizumab."
                                },
                                {
                                    "Source Drug": "Cetuximab",
                                    "Interacting Drug": "Depatuxizumab",
                                    "Effect of Interaction": "The risk or severity of adverse effects can be increased when Cetuximab is combined with Depatuxizumab."
                                },
                                {
                                    "Source Drug": "Cetuximab",
                                    "Interacting Drug": "Rontalizumab",
                                    "Effect of Interaction": "The risk or severity of adverse effects can be increased when Cetuximab is combined with Rontalizumab."
                                },
                                {
                                    "Source Drug": "Cetuximab",
                                    "Interacting Drug": "Amatuximab",
                                    "Effect of Interaction": "The risk or severity of adverse effects can be increased when Cetuximab is combined with Amatuximab."
                                },
                                {
                                    "Source Drug": "Cetuximab",
                                    "Interacting Drug": "Clazakizumab",
                                    "Effect of Interaction": "The risk or severity of adverse effects can be increased when Cetuximab is combined with Clazakizumab."
                                },
                                {
                                    "Source Drug": "Cetuximab",
                                    "Interacting Drug": "Ozanezumab",
                                    "Effect of Interaction": "The risk or severity of adverse effects can be increased when Cetuximab is combined with Ozanezumab."
                                },
                                {
                                    "Source Drug": "Cetuximab",
                                    "Interacting Drug": "Sacituzumab govitecan",
                                    "Effect of Interaction": "The risk or severity of adverse effects can be increased when Cetuximab is combined with Sacituzumab govitecan."
                                },
                                {
                                    "Source Drug": "Cetuximab",
                                    "Interacting Drug": "Bimekizumab",
                                    "Effect of Interaction": "The risk or severity of adverse effects can be increased when Cetuximab is combined with Bimekizumab."
                                },
                                {
                                    "Source Drug": "Cetuximab",
                                    "Interacting Drug": "Milatuzumab",
                                    "Effect of Interaction": "The risk or severity of adverse effects can be increased when Cetuximab is combined with Milatuzumab."
                                },
                                {
                                    "Source Drug": "Cetuximab",
                                    "Interacting Drug": "Robatumumab",
                                    "Effect of Interaction": "The risk or severity of adverse effects can be increased when Cetuximab is combined with Robatumumab."
                                },
                                {
                                    "Source Drug": "Cetuximab",
                                    "Interacting Drug": "Rovalpituzumab tesirine",
                                    "Effect of Interaction": "The risk or severity of adverse effects can be increased when Cetuximab is combined with Rovalpituzumab tesirine."
                                },
                                {
                                    "Source Drug": "Cetuximab",
                                    "Interacting Drug": "Namilumab",
                                    "Effect of Interaction": "The risk or severity of adverse effects can be increased when Cetuximab is combined with Namilumab."
                                },
                                {
                                    "Source Drug": "Cetuximab",
                                    "Interacting Drug": "Racotumomab",
                                    "Effect of Interaction": "The risk or severity of adverse effects can be increased when Cetuximab is combined with Racotumomab."
                                },
                                {
                                    "Source Drug": "Cetuximab",
                                    "Interacting Drug": "Tregalizumab",
                                    "Effect of Interaction": "The risk or severity of adverse effects can be increased when Cetuximab is combined with Tregalizumab."
                                },
                                {
                                    "Source Drug": "Cetuximab",
                                    "Interacting Drug": "Olokizumab",
                                    "Effect of Interaction": "The risk or severity of adverse effects can be increased when Cetuximab is combined with Olokizumab."
                                },
                                {
                                    "Source Drug": "Cetuximab",
                                    "Interacting Drug": "Bezlotoxumab",
                                    "Effect of Interaction": "The risk or severity of adverse effects can be increased when Cetuximab is combined with Bezlotoxumab."
                                },
                                {
                                    "Source Drug": "Cetuximab",
                                    "Interacting Drug": "Edrecolomab",
                                    "Effect of Interaction": "The risk or severity of adverse effects can be increased when Cetuximab is combined with Edrecolomab."
                                },
                                {
                                    "Source Drug": "Cetuximab",
                                    "Interacting Drug": "Nebacumab",
                                    "Effect of Interaction": "The risk or severity of adverse effects can be increased when Cetuximab is combined with Nebacumab."
                                },
                                {
                                    "Source Drug": "Cetuximab",
                                    "Interacting Drug": "Human cytomegalovirus immune globulin",
                                    "Effect of Interaction": "The risk or severity of adverse effects can be increased when Cetuximab is combined with Human cytomegalovirus immune globulin."
                                },
                                {
                                    "Source Drug": "Cetuximab",
                                    "Interacting Drug": "Emicizumab",
                                    "Effect of Interaction": "The risk or severity of adverse effects can be increased when Cetuximab is combined with Emicizumab."
                                },
                                {
                                    "Source Drug": "Cetuximab",
                                    "Interacting Drug": "Sulesomab",
                                    "Effect of Interaction": "The risk or severity of adverse effects can be increased when Cetuximab is combined with Sulesomab."
                                },
                                {
                                    "Source Drug": "Cetuximab",
                                    "Interacting Drug": "Besilesomab",
                                    "Effect of Interaction": "The risk or severity of adverse effects can be increased when Cetuximab is combined with Besilesomab."
                                },
                                {
                                    "Source Drug": "Cetuximab",
                                    "Interacting Drug": "Tildrakizumab",
                                    "Effect of Interaction": "The risk or severity of adverse effects can be increased when Cetuximab is combined with Tildrakizumab."
                                },
                                {
                                    "Source Drug": "Cetuximab",
                                    "Interacting Drug": "Burosumab",
                                    "Effect of Interaction": "The risk or severity of adverse effects can be increased when Cetuximab is combined with Burosumab."
                                },
                                {
                                    "Source Drug": "Cetuximab",
                                    "Interacting Drug": "Erenumab",
                                    "Effect of Interaction": "The risk or severity of adverse effects can be increased when Cetuximab is combined with Erenumab."
                                },
                                {
                                    "Source Drug": "Cetuximab",
                                    "Interacting Drug": "Eptinezumab",
                                    "Effect of Interaction": "The risk or severity of adverse effects can be increased when Cetuximab is combined with Eptinezumab."
                                },
                                {
                                    "Source Drug": "Cetuximab",
                                    "Interacting Drug": "Fremanezumab",
                                    "Effect of Interaction": "The risk or severity of adverse effects can be increased when Cetuximab is combined with Fremanezumab."
                                },
                                {
                                    "Source Drug": "Cetuximab",
                                    "Interacting Drug": "Galcanezumab",
                                    "Effect of Interaction": "The risk or severity of adverse effects can be increased when Cetuximab is combined with Galcanezumab."
                                },
                                {
                                    "Source Drug": "Cetuximab",
                                    "Interacting Drug": "Fanolesomab",
                                    "Effect of Interaction": "The risk or severity of adverse effects can be increased when Cetuximab is combined with Fanolesomab."
                                },
                                {
                                    "Source Drug": "Cetuximab",
                                    "Interacting Drug": "Lecanemab",
                                    "Effect of Interaction": "The risk or severity of adverse effects can be increased when Cetuximab is combined with Lecanemab."
                                },
                                {
                                    "Source Drug": "Cetuximab",
                                    "Interacting Drug": "Lanadelumab",
                                    "Effect of Interaction": "The risk or severity of adverse effects can be increased when Cetuximab is combined with Lanadelumab."
                                },
                                {
                                    "Source Drug": "Cetuximab",
                                    "Interacting Drug": "Cemiplimab",
                                    "Effect of Interaction": "The risk or severity of adverse effects can be increased when Cetuximab is combined with Cemiplimab."
                                },
                                {
                                    "Source Drug": "Cetuximab",
                                    "Interacting Drug": "Emapalumab",
                                    "Effect of Interaction": "The risk or severity of adverse effects can be increased when Cetuximab is combined with Emapalumab."
                                },
                                {
                                    "Source Drug": "Cetuximab",
                                    "Interacting Drug": "Risankizumab",
                                    "Effect of Interaction": "The risk or severity of adverse effects can be increased when Cetuximab is combined with Risankizumab."
                                },
                                {
                                    "Source Drug": "Cetuximab",
                                    "Interacting Drug": "Camrelizumab",
                                    "Effect of Interaction": "The risk or severity of adverse effects can be increased when Cetuximab is combined with Camrelizumab."
                                },
                                {
                                    "Source Drug": "Cetuximab",
                                    "Interacting Drug": "Setrusumab",
                                    "Effect of Interaction": "The risk or severity of adverse effects can be increased when Cetuximab is combined with Setrusumab."
                                },
                                {
                                    "Source Drug": "Cetuximab",
                                    "Interacting Drug": "Gancotamab",
                                    "Effect of Interaction": "The risk or severity of adverse effects can be increased when Cetuximab is combined with Gancotamab."
                                },
                                {
                                    "Source Drug": "Cetuximab",
                                    "Interacting Drug": "Anetumab ravtansine",
                                    "Effect of Interaction": "The risk or severity of adverse effects can be increased when Cetuximab is combined with Anetumab ravtansine."
                                },
                                {
                                    "Source Drug": "Cetuximab",
                                    "Interacting Drug": "Isatuximab",
                                    "Effect of Interaction": "The risk or severity of adverse effects can be increased when Cetuximab is combined with Isatuximab."
                                },
                                {
                                    "Source Drug": "Cetuximab",
                                    "Interacting Drug": "Icrucumab",
                                    "Effect of Interaction": "The risk or severity of adverse effects can be increased when Cetuximab is combined with Icrucumab."
                                },
                                {
                                    "Source Drug": "Cetuximab",
                                    "Interacting Drug": "Codrituzumab",
                                    "Effect of Interaction": "The risk or severity of adverse effects can be increased when Cetuximab is combined with Codrituzumab."
                                },
                                {
                                    "Source Drug": "Cetuximab",
                                    "Interacting Drug": "Brolucizumab",
                                    "Effect of Interaction": "The risk or severity of adverse effects can be increased when Cetuximab is combined with Brolucizumab."
                                },
                                {
                                    "Source Drug": "Cetuximab",
                                    "Interacting Drug": "Xentuzumab",
                                    "Effect of Interaction": "The risk or severity of adverse effects can be increased when Cetuximab is combined with Xentuzumab."
                                },
                                {
                                    "Source Drug": "Cetuximab",
                                    "Interacting Drug": "Lintuzumab",
                                    "Effect of Interaction": "The risk or severity of adverse effects can be increased when Cetuximab is combined with Lintuzumab."
                                },
                                {
                                    "Source Drug": "Cetuximab",
                                    "Interacting Drug": "Vobarilizumab",
                                    "Effect of Interaction": "The risk or severity of adverse effects can be increased when Cetuximab is combined with Vobarilizumab."
                                },
                                {
                                    "Source Drug": "Cetuximab",
                                    "Interacting Drug": "Parsatuzumab",
                                    "Effect of Interaction": "The risk or severity of adverse effects can be increased when Cetuximab is combined with Parsatuzumab."
                                },
                                {
                                    "Source Drug": "Cetuximab",
                                    "Interacting Drug": "Emactuzumab",
                                    "Effect of Interaction": "The risk or severity of adverse effects can be increased when Cetuximab is combined with Emactuzumab."
                                },
                                {
                                    "Source Drug": "Cetuximab",
                                    "Interacting Drug": "Bevacizumab zirconium Zr-89",
                                    "Effect of Interaction": "The risk or severity of adverse effects can be increased when Cetuximab is combined with Bevacizumab zirconium Zr-89."
                                },
                                {
                                    "Source Drug": "Cetuximab",
                                    "Interacting Drug": "Refanezumab",
                                    "Effect of Interaction": "The risk or severity of adverse effects can be increased when Cetuximab is combined with Refanezumab."
                                },
                                {
                                    "Source Drug": "Cetuximab",
                                    "Interacting Drug": "Rozanolixizumab",
                                    "Effect of Interaction": "The risk or severity of adverse effects can be increased when Cetuximab is combined with Rozanolixizumab."
                                },
                                {
                                    "Source Drug": "Cetuximab",
                                    "Interacting Drug": "Bermekimab",
                                    "Effect of Interaction": "The risk or severity of adverse effects can be increased when Cetuximab is combined with Bermekimab."
                                },
                                {
                                    "Source Drug": "Cetuximab",
                                    "Interacting Drug": "Pamrevlumab",
                                    "Effect of Interaction": "The risk or severity of adverse effects can be increased when Cetuximab is combined with Pamrevlumab."
                                },
                                {
                                    "Source Drug": "Cetuximab",
                                    "Interacting Drug": "Opicinumab",
                                    "Effect of Interaction": "The risk or severity of adverse effects can be increased when Cetuximab is combined with Opicinumab."
                                },
                                {
                                    "Source Drug": "Cetuximab",
                                    "Interacting Drug": "Trastuzumab deruxtecan",
                                    "Effect of Interaction": "The risk or severity of adverse effects can be increased when Cetuximab is combined with Trastuzumab deruxtecan."
                                },
                                {
                                    "Source Drug": "Cetuximab",
                                    "Interacting Drug": "Margetuximab",
                                    "Effect of Interaction": "The risk or severity of adverse effects can be increased when Cetuximab is combined with Margetuximab."
                                },
                                {
                                    "Source Drug": "Cetuximab",
                                    "Interacting Drug": "Dalantercept",
                                    "Effect of Interaction": "The risk or severity of adverse effects can be increased when Cetuximab is combined with Dalantercept."
                                },
                                {
                                    "Source Drug": "Cetuximab",
                                    "Interacting Drug": "Pateclizumab",
                                    "Effect of Interaction": "The risk or severity of adverse effects can be increased when Cetuximab is combined with Pateclizumab."
                                },
                                {
                                    "Source Drug": "Cetuximab",
                                    "Interacting Drug": "Gremubamab",
                                    "Effect of Interaction": "The risk or severity of adverse effects can be increased when Cetuximab is combined with Gremubamab."
                                },
                                {
                                    "Source Drug": "Cetuximab",
                                    "Interacting Drug": "Apomab",
                                    "Effect of Interaction": "The risk or severity of adverse effects can be increased when Cetuximab is combined with Apomab."
                                },
                                {
                                    "Source Drug": "Cetuximab",
                                    "Interacting Drug": "Tafasitamab",
                                    "Effect of Interaction": "The risk or severity of adverse effects can be increased when Cetuximab is combined with Tafasitamab."
                                },
                                {
                                    "Source Drug": "Cetuximab",
                                    "Interacting Drug": "Ipafricept",
                                    "Effect of Interaction": "The risk or severity of adverse effects can be increased when Cetuximab is combined with Ipafricept."
                                },
                                {
                                    "Source Drug": "Cetuximab",
                                    "Interacting Drug": "Abrilumab",
                                    "Effect of Interaction": "The risk or severity of adverse effects can be increased when Cetuximab is combined with Abrilumab."
                                },
                                {
                                    "Source Drug": "Cetuximab",
                                    "Interacting Drug": "Frovocimab",
                                    "Effect of Interaction": "The risk or severity of adverse effects can be increased when Cetuximab is combined with Frovocimab."
                                },
                                {
                                    "Source Drug": "Cetuximab",
                                    "Interacting Drug": "Tezepelumab",
                                    "Effect of Interaction": "The risk or severity of adverse effects can be increased when Cetuximab is combined with Tezepelumab."
                                },
                                {
                                    "Source Drug": "Cetuximab",
                                    "Interacting Drug": "Tigatuzumab",
                                    "Effect of Interaction": "The risk or severity of adverse effects can be increased when Cetuximab is combined with Tigatuzumab."
                                },
                                {
                                    "Source Drug": "Cetuximab",
                                    "Interacting Drug": "Telisotuzumab vedotin",
                                    "Effect of Interaction": "The risk or severity of adverse effects can be increased when Cetuximab is combined with Telisotuzumab vedotin."
                                },
                                {
                                    "Source Drug": "Cetuximab",
                                    "Interacting Drug": "Utomilumab",
                                    "Effect of Interaction": "The risk or severity of adverse effects can be increased when Cetuximab is combined with Utomilumab."
                                },
                                {
                                    "Source Drug": "Cetuximab",
                                    "Interacting Drug": "Zolbetuximab",
                                    "Effect of Interaction": "The risk or severity of adverse effects can be increased when Cetuximab is combined with Zolbetuximab."
                                },
                                {
                                    "Source Drug": "Cetuximab",
                                    "Interacting Drug": "Ponezumab",
                                    "Effect of Interaction": "The risk or severity of adverse effects can be increased when Cetuximab is combined with Ponezumab."
                                },
                                {
                                    "Source Drug": "Cetuximab",
                                    "Interacting Drug": "Asunercept",
                                    "Effect of Interaction": "The risk or severity of adverse effects can be increased when Cetuximab is combined with Asunercept."
                                },
                                {
                                    "Source Drug": "Cetuximab",
                                    "Interacting Drug": "Suvratoxumab",
                                    "Effect of Interaction": "The risk or severity of adverse effects can be increased when Cetuximab is combined with Suvratoxumab."
                                },
                                {
                                    "Source Drug": "Cetuximab",
                                    "Interacting Drug": "Mitazalimab",
                                    "Effect of Interaction": "The risk or severity of adverse effects can be increased when Cetuximab is combined with Mitazalimab."
                                },
                                {
                                    "Source Drug": "Cetuximab",
                                    "Interacting Drug": "Nemolizumab",
                                    "Effect of Interaction": "The risk or severity of adverse effects can be increased when Cetuximab is combined with Nemolizumab."
                                },
                                {
                                    "Source Drug": "Cetuximab",
                                    "Interacting Drug": "Bleselumab",
                                    "Effect of Interaction": "The risk or severity of adverse effects can be increased when Cetuximab is combined with Bleselumab."
                                },
                                {
                                    "Source Drug": "Cetuximab",
                                    "Interacting Drug": "Gedivumab",
                                    "Effect of Interaction": "The risk or severity of adverse effects can be increased when Cetuximab is combined with Gedivumab."
                                },
                                {
                                    "Source Drug": "Cetuximab",
                                    "Interacting Drug": "Valanafusp alfa",
                                    "Effect of Interaction": "The risk or severity of adverse effects can be increased when Cetuximab is combined with Valanafusp alfa."
                                },
                                {
                                    "Source Drug": "Cetuximab",
                                    "Interacting Drug": "Sofituzumab vedotin",
                                    "Effect of Interaction": "The risk or severity of adverse effects can be increased when Cetuximab is combined with Sofituzumab vedotin."
                                },
                                {
                                    "Source Drug": "Cetuximab",
                                    "Interacting Drug": "Istiratumab",
                                    "Effect of Interaction": "The risk or severity of adverse effects can be increased when Cetuximab is combined with Istiratumab."
                                },
                                {
                                    "Source Drug": "Cetuximab",
                                    "Interacting Drug": "Pidilizumab",
                                    "Effect of Interaction": "The risk or severity of adverse effects can be increased when Cetuximab is combined with Pidilizumab."
                                },
                                {
                                    "Source Drug": "Cetuximab",
                                    "Interacting Drug": "GMA-161",
                                    "Effect of Interaction": "The risk or severity of adverse effects can be increased when Cetuximab is combined with GMA-161."
                                },
                                {
                                    "Source Drug": "Cetuximab",
                                    "Interacting Drug": "Ladiratuzumab vedotin",
                                    "Effect of Interaction": "The risk or severity of adverse effects can be increased when Cetuximab is combined with Ladiratuzumab vedotin."
                                },
                                {
                                    "Source Drug": "Cetuximab",
                                    "Interacting Drug": "Tomaralimab",
                                    "Effect of Interaction": "The risk or severity of adverse effects can be increased when Cetuximab is combined with Tomaralimab."
                                },
                                {
                                    "Source Drug": "Cetuximab",
                                    "Interacting Drug": "Vesencumab",
                                    "Effect of Interaction": "The risk or severity of adverse effects can be increased when Cetuximab is combined with Vesencumab."
                                },
                                {
                                    "Source Drug": "Cetuximab",
                                    "Interacting Drug": "Pinatuzumab vedotin",
                                    "Effect of Interaction": "The risk or severity of adverse effects can be increased when Cetuximab is combined with Pinatuzumab vedotin."
                                },
                                {
                                    "Source Drug": "Cetuximab",
                                    "Interacting Drug": "Lulizumab pegol",
                                    "Effect of Interaction": "The risk or severity of adverse effects can be increased when Cetuximab is combined with Lulizumab pegol."
                                },
                                {
                                    "Source Drug": "Cetuximab",
                                    "Interacting Drug": "Lorukafusp alfa",
                                    "Effect of Interaction": "The risk or severity of adverse effects can be increased when Cetuximab is combined with Lorukafusp alfa."
                                },
                                {
                                    "Source Drug": "Cetuximab",
                                    "Interacting Drug": "Naratuximab emtansine",
                                    "Effect of Interaction": "The risk or severity of adverse effects can be increased when Cetuximab is combined with Naratuximab emtansine."
                                },
                                {
                                    "Source Drug": "Cetuximab",
                                    "Interacting Drug": "Zenocutuzumab",
                                    "Effect of Interaction": "The risk or severity of adverse effects can be increased when Cetuximab is combined with Zenocutuzumab."
                                },
                                {
                                    "Source Drug": "Cetuximab",
                                    "Interacting Drug": "Atoltivimab",
                                    "Effect of Interaction": "The risk or severity of adverse effects can be increased when Cetuximab is combined with Atoltivimab."
                                },
                                {
                                    "Source Drug": "Cetuximab",
                                    "Interacting Drug": "Maftivimab",
                                    "Effect of Interaction": "The risk or severity of adverse effects can be increased when Cetuximab is combined with Maftivimab."
                                },
                                {
                                    "Source Drug": "Cetuximab",
                                    "Interacting Drug": "Odesivimab",
                                    "Effect of Interaction": "The risk or severity of adverse effects can be increased when Cetuximab is combined with Odesivimab."
                                },
                                {
                                    "Source Drug": "Cetuximab",
                                    "Interacting Drug": "Belantamab mafodotin",
                                    "Effect of Interaction": "The risk or severity of adverse effects can be increased when Cetuximab is combined with Belantamab mafodotin."
                                },
                                {
                                    "Source Drug": "Cetuximab",
                                    "Interacting Drug": "Ansuvimab",
                                    "Effect of Interaction": "The risk or severity of adverse effects can be increased when Cetuximab is combined with Ansuvimab."
                                },
                                {
                                    "Source Drug": "Cetuximab",
                                    "Interacting Drug": "Bamlanivimab",
                                    "Effect of Interaction": "The risk or severity of adverse effects can be increased when Cetuximab is combined with Bamlanivimab."
                                },
                                {
                                    "Source Drug": "Cetuximab",
                                    "Interacting Drug": "Hepatitis B immune globulin",
                                    "Effect of Interaction": "The risk or severity of adverse effects can be increased when Cetuximab is combined with Hepatitis B immune globulin."
                                },
                                {
                                    "Source Drug": "Cetuximab",
                                    "Interacting Drug": "Human Rho(D) immune globulin",
                                    "Effect of Interaction": "The risk or severity of adverse effects can be increased when Cetuximab is combined with Human Rho(D) immune globulin."
                                },
                                {
                                    "Source Drug": "Cetuximab",
                                    "Interacting Drug": "Dostarlimab",
                                    "Effect of Interaction": "The risk or severity of adverse effects can be increased when Cetuximab is combined with Dostarlimab."
                                },
                                {
                                    "Source Drug": "Cetuximab",
                                    "Interacting Drug": "Certolizumab pegol",
                                    "Effect of Interaction": "The risk or severity of adverse effects can be increased when Cetuximab is combined with Certolizumab pegol."
                                },
                                {
                                    "Source Drug": "Cetuximab",
                                    "Interacting Drug": "Inolimomab",
                                    "Effect of Interaction": "The risk or severity of adverse effects can be increased when Cetuximab is combined with Inolimomab."
                                },
                                {
                                    "Source Drug": "Cetuximab",
                                    "Interacting Drug": "Pentaglobin",
                                    "Effect of Interaction": "The risk or severity of adverse effects can be increased when Cetuximab is combined with Pentaglobin."
                                },
                                {
                                    "Source Drug": "Cetuximab",
                                    "Interacting Drug": "Abagovomab",
                                    "Effect of Interaction": "The risk or severity of adverse effects can be increased when Cetuximab is combined with Abagovomab."
                                },
                                {
                                    "Source Drug": "Cetuximab",
                                    "Interacting Drug": "Efungumab",
                                    "Effect of Interaction": "The risk or severity of adverse effects can be increased when Cetuximab is combined with Efungumab."
                                },
                                {
                                    "Source Drug": "Cetuximab",
                                    "Interacting Drug": "Foralumab",
                                    "Effect of Interaction": "The risk or severity of adverse effects can be increased when Cetuximab is combined with Foralumab."
                                },
                                {
                                    "Source Drug": "Cetuximab",
                                    "Interacting Drug": "Indatuximab ravtansine",
                                    "Effect of Interaction": "The risk or severity of adverse effects can be increased when Cetuximab is combined with Indatuximab ravtansine."
                                },
                                {
                                    "Source Drug": "Cetuximab",
                                    "Interacting Drug": "Magrolimab",
                                    "Effect of Interaction": "The risk or severity of adverse effects can be increased when Cetuximab is combined with Magrolimab."
                                },
                                {
                                    "Source Drug": "Cetuximab",
                                    "Interacting Drug": "Olinvacimab",
                                    "Effect of Interaction": "The risk or severity of adverse effects can be increased when Cetuximab is combined with Olinvacimab."
                                },
                                {
                                    "Source Drug": "Cetuximab",
                                    "Interacting Drug": "Actoxumab",
                                    "Effect of Interaction": "The risk or severity of adverse effects can be increased when Cetuximab is combined with Actoxumab."
                                },
                                {
                                    "Source Drug": "Cetuximab",
                                    "Interacting Drug": "Volagidemab",
                                    "Effect of Interaction": "The risk or severity of adverse effects can be increased when Cetuximab is combined with Volagidemab."
                                },
                                {
                                    "Source Drug": "Cetuximab",
                                    "Interacting Drug": "Bentracimab",
                                    "Effect of Interaction": "The risk or severity of adverse effects can be increased when Cetuximab is combined with Bentracimab."
                                },
                                {
                                    "Source Drug": "Cetuximab",
                                    "Interacting Drug": "Amivantamab",
                                    "Effect of Interaction": "The risk or severity of adverse effects can be increased when Cetuximab is combined with Amivantamab."
                                },
                                {
                                    "Source Drug": "Cetuximab",
                                    "Interacting Drug": "Ebola Zaire vaccine (live, attenuated)",
                                    "Effect of Interaction": "The therapeutic efficacy of Ebola Zaire vaccine (live, attenuated) can be decreased when used in combination with Cetuximab."
                                },
                                {
                                    "Source Drug": "Cetuximab",
                                    "Interacting Drug": "Imlifidase",
                                    "Effect of Interaction": "The therapeutic efficacy of Cetuximab can be decreased when used in combination with Imlifidase."
                                },
                                {
                                    "Source Drug": "Cetuximab",
                                    "Interacting Drug": "Darbepoetin alfa",
                                    "Effect of Interaction": "The risk or severity of Thrombosis can be increased when Darbepoetin alfa is combined with Cetuximab."
                                },
                                {
                                    "Source Drug": "Cetuximab",
                                    "Interacting Drug": "Erythropoietin",
                                    "Effect of Interaction": "The risk or severity of Thrombosis can be increased when Erythropoietin is combined with Cetuximab."
                                },
                                {
                                    "Source Drug": "Cetuximab",
                                    "Interacting Drug": "Peginesatide",
                                    "Effect of Interaction": "The risk or severity of Thrombosis can be increased when Peginesatide is combined with Cetuximab."
                                },
                                {
                                    "Source Drug": "Cetuximab",
                                    "Interacting Drug": "Methoxy polyethylene glycol-epoetin beta",
                                    "Effect of Interaction": "The risk or severity of Thrombosis can be increased when Methoxy polyethylene glycol-epoetin beta is combined with Cetuximab."
                                },
                                {
                                    "Source Drug": "Cetuximab",
                                    "Interacting Drug": "Imdevimab",
                                    "Effect of Interaction": "The risk or severity of adverse effects can be increased when Cetuximab is combined with Imdevimab."
                                },
                                {
                                    "Source Drug": "Cetuximab",
                                    "Interacting Drug": "Casirivimab",
                                    "Effect of Interaction": "The risk or severity of adverse effects can be increased when Cetuximab is combined with Casirivimab."
                                },
                                {
                                    "Source Drug": "Cetuximab",
                                    "Interacting Drug": "Cilgavimab",
                                    "Effect of Interaction": "The risk or severity of adverse effects can be increased when Cetuximab is combined with Cilgavimab."
                                },
                                {
                                    "Source Drug": "Cetuximab",
                                    "Interacting Drug": "Tixagevimab",
                                    "Effect of Interaction": "The risk or severity of adverse effects can be increased when Cetuximab is combined with Tixagevimab."
                                },
                                {
                                    "Source Drug": "Cetuximab",
                                    "Interacting Drug": "Sotrovimab",
                                    "Effect of Interaction": "The risk or severity of adverse effects can be increased when Cetuximab is combined with Sotrovimab."
                                },
                                {
                                    "Source Drug": "Cetuximab",
                                    "Interacting Drug": "Loncastuximab tesirine",
                                    "Effect of Interaction": "The risk or severity of adverse effects can be increased when Cetuximab is combined with Loncastuximab tesirine."
                                },
                                {
                                    "Source Drug": "Cetuximab",
                                    "Interacting Drug": "Tisotumab vedotin",
                                    "Effect of Interaction": "The risk or severity of adverse effects can be increased when Cetuximab is combined with Tisotumab vedotin."
                                },
                                {
                                    "Source Drug": "Cetuximab",
                                    "Interacting Drug": "Sutimlimab",
                                    "Effect of Interaction": "The risk or severity of adverse effects can be increased when Cetuximab is combined with Sutimlimab."
                                },
                                {
                                    "Source Drug": "Cetuximab",
                                    "Interacting Drug": "Bebtelovimab",
                                    "Effect of Interaction": "The risk or severity of adverse effects can be increased when Cetuximab is combined with Bebtelovimab."
                                },
                                {
                                    "Source Drug": "Cetuximab",
                                    "Interacting Drug": "Mosunetuzumab",
                                    "Effect of Interaction": "The risk or severity of adverse effects can be increased when Cetuximab is combined with Mosunetuzumab."
                                },
                                {
                                    "Source Drug": "Cetuximab",
                                    "Interacting Drug": "Spesolimab",
                                    "Effect of Interaction": "The risk or severity of adverse effects can be increased when Cetuximab is combined with Spesolimab."
                                },
                                {
                                    "Source Drug": "Cetuximab",
                                    "Interacting Drug": "Eflapegrastim",
                                    "Effect of Interaction": "The risk or severity of adverse effects can be increased when Cetuximab is combined with Eflapegrastim."
                                },
                                {
                                    "Source Drug": "Cetuximab",
                                    "Interacting Drug": "Lidocaine",
                                    "Effect of Interaction": "The risk or severity of methemoglobinemia can be increased when Cetuximab is combined with Lidocaine."
                                },
                                {
                                    "Source Drug": "Cetuximab",
                                    "Interacting Drug": "Ropivacaine",
                                    "Effect of Interaction": "The risk or severity of methemoglobinemia can be increased when Cetuximab is combined with Ropivacaine."
                                },
                                {
                                    "Source Drug": "Cetuximab",
                                    "Interacting Drug": "Bupivacaine",
                                    "Effect of Interaction": "The risk or severity of methemoglobinemia can be increased when Cetuximab is combined with Bupivacaine."
                                },
                                {
                                    "Source Drug": "Cetuximab",
                                    "Interacting Drug": "Cinchocaine",
                                    "Effect of Interaction": "The risk or severity of methemoglobinemia can be increased when Cetuximab is combined with Cinchocaine."
                                },
                                {
                                    "Source Drug": "Cetuximab",
                                    "Interacting Drug": "Dyclonine",
                                    "Effect of Interaction": "The risk or severity of methemoglobinemia can be increased when Cetuximab is combined with Dyclonine."
                                },
                                {
                                    "Source Drug": "Cetuximab",
                                    "Interacting Drug": "Procaine",
                                    "Effect of Interaction": "The risk or severity of methemoglobinemia can be increased when Cetuximab is combined with Procaine."
                                },
                                {
                                    "Source Drug": "Cetuximab",
                                    "Interacting Drug": "Prilocaine",
                                    "Effect of Interaction": "The risk or severity of methemoglobinemia can be increased when Cetuximab is combined with Prilocaine."
                                },
                                {
                                    "Source Drug": "Cetuximab",
                                    "Interacting Drug": "Proparacaine",
                                    "Effect of Interaction": "The risk or severity of methemoglobinemia can be increased when Cetuximab is combined with Proparacaine."
                                },
                                {
                                    "Source Drug": "Cetuximab",
                                    "Interacting Drug": "Meloxicam",
                                    "Effect of Interaction": "The risk or severity of methemoglobinemia can be increased when Cetuximab is combined with Meloxicam."
                                },
                                {
                                    "Source Drug": "Cetuximab",
                                    "Interacting Drug": "Oxybuprocaine",
                                    "Effect of Interaction": "The risk or severity of methemoglobinemia can be increased when Cetuximab is combined with Oxybuprocaine."
                                },
                                {
                                    "Source Drug": "Cetuximab",
                                    "Interacting Drug": "Cocaine",
                                    "Effect of Interaction": "The risk or severity of methemoglobinemia can be increased when Cetuximab is combined with Cocaine."
                                },
                                {
                                    "Source Drug": "Cetuximab",
                                    "Interacting Drug": "Mepivacaine",
                                    "Effect of Interaction": "The risk or severity of methemoglobinemia can be increased when Cetuximab is combined with Mepivacaine."
                                },
                                {
                                    "Source Drug": "Cetuximab",
                                    "Interacting Drug": "Levobupivacaine",
                                    "Effect of Interaction": "The risk or severity of methemoglobinemia can be increased when Cetuximab is combined with Levobupivacaine."
                                },
                                {
                                    "Source Drug": "Cetuximab",
                                    "Interacting Drug": "Diphenhydramine",
                                    "Effect of Interaction": "The risk or severity of methemoglobinemia can be increased when Cetuximab is combined with Diphenhydramine."
                                },
                                {
                                    "Source Drug": "Cetuximab",
                                    "Interacting Drug": "Benzocaine",
                                    "Effect of Interaction": "The risk or severity of methemoglobinemia can be increased when Cetuximab is combined with Benzocaine."
                                },
                                {
                                    "Source Drug": "Cetuximab",
                                    "Interacting Drug": "Chloroprocaine",
                                    "Effect of Interaction": "The risk or severity of methemoglobinemia can be increased when Cetuximab is combined with Chloroprocaine."
                                },
                                {
                                    "Source Drug": "Cetuximab",
                                    "Interacting Drug": "Phenol",
                                    "Effect of Interaction": "The risk or severity of methemoglobinemia can be increased when Cetuximab is combined with Phenol."
                                },
                                {
                                    "Source Drug": "Cetuximab",
                                    "Interacting Drug": "Tetrodotoxin",
                                    "Effect of Interaction": "The risk or severity of methemoglobinemia can be increased when Cetuximab is combined with Tetrodotoxin."
                                },
                                {
                                    "Source Drug": "Cetuximab",
                                    "Interacting Drug": "Benzyl alcohol",
                                    "Effect of Interaction": "The risk or severity of methemoglobinemia can be increased when Cetuximab is combined with Benzyl alcohol."
                                },
                                {
                                    "Source Drug": "Cetuximab",
                                    "Interacting Drug": "Capsaicin",
                                    "Effect of Interaction": "The risk or severity of methemoglobinemia can be increased when Cetuximab is combined with Capsaicin."
                                },
                                {
                                    "Source Drug": "Cetuximab",
                                    "Interacting Drug": "Etidocaine",
                                    "Effect of Interaction": "The risk or severity of methemoglobinemia can be increased when Cetuximab is combined with Etidocaine."
                                },
                                {
                                    "Source Drug": "Cetuximab",
                                    "Interacting Drug": "Articaine",
                                    "Effect of Interaction": "The risk or severity of methemoglobinemia can be increased when Cetuximab is combined with Articaine."
                                },
                                {
                                    "Source Drug": "Cetuximab",
                                    "Interacting Drug": "Tetracaine",
                                    "Effect of Interaction": "The risk or severity of methemoglobinemia can be increased when Cetuximab is combined with Tetracaine."
                                },
                                {
                                    "Source Drug": "Cetuximab",
                                    "Interacting Drug": "Propoxycaine",
                                    "Effect of Interaction": "The risk or severity of methemoglobinemia can be increased when Cetuximab is combined with Propoxycaine."
                                },
                                {
                                    "Source Drug": "Cetuximab",
                                    "Interacting Drug": "Pramocaine",
                                    "Effect of Interaction": "The risk or severity of methemoglobinemia can be increased when Cetuximab is combined with Pramocaine."
                                },
                                {
                                    "Source Drug": "Cetuximab",
                                    "Interacting Drug": "Butamben",
                                    "Effect of Interaction": "The risk or severity of methemoglobinemia can be increased when Cetuximab is combined with Butamben."
                                },
                                {
                                    "Source Drug": "Cetuximab",
                                    "Interacting Drug": "Butacaine",
                                    "Effect of Interaction": "The risk or severity of methemoglobinemia can be increased when Cetuximab is combined with Butacaine."
                                },
                                {
                                    "Source Drug": "Cetuximab",
                                    "Interacting Drug": "Oxetacaine",
                                    "Effect of Interaction": "The risk or severity of methemoglobinemia can be increased when Cetuximab is combined with Oxetacaine."
                                },
                                {
                                    "Source Drug": "Cetuximab",
                                    "Interacting Drug": "Ethyl chloride",
                                    "Effect of Interaction": "The risk or severity of methemoglobinemia can be increased when Cetuximab is combined with Ethyl chloride."
                                },
                                {
                                    "Source Drug": "Cetuximab",
                                    "Interacting Drug": "Butanilicaine",
                                    "Effect of Interaction": "The risk or severity of methemoglobinemia can be increased when Cetuximab is combined with Butanilicaine."
                                },
                                {
                                    "Source Drug": "Cetuximab",
                                    "Interacting Drug": "Metabutethamine",
                                    "Effect of Interaction": "The risk or severity of methemoglobinemia can be increased when Cetuximab is combined with Metabutethamine."
                                },
                                {
                                    "Source Drug": "Cetuximab",
                                    "Interacting Drug": "Quinisocaine",
                                    "Effect of Interaction": "The risk or severity of methemoglobinemia can be increased when Cetuximab is combined with Quinisocaine."
                                }
                            ]
                        },
                        "text/html": [
                            "<table>",
                            "<tr><th>Source Drug</th><th>Interacting Drug</th><th>Effect of Interaction</th></tr>",
                            "<tr><td>Cetuximab</td><td>Diethylstilbestrol</td><td>Diethylstilbestrol may increase the thrombogenic activities of Cetuximab.</td></tr>",
                            "<tr><td>Cetuximab</td><td>Chlorotrianisene</td><td>Chlorotrianisene may increase the thrombogenic activities of Cetuximab.</td></tr>",
                            "<tr><td>Cetuximab</td><td>Conjugated estrogens</td><td>Conjugated estrogens may increase the thrombogenic activities of Cetuximab.</td></tr>",
                            "<tr><td>Cetuximab</td><td>Estrone</td><td>Estrone may increase the thrombogenic activities of Cetuximab.</td></tr>",
                            "<tr><td>Cetuximab</td><td>Estradiol</td><td>Estradiol may increase the thrombogenic activities of Cetuximab.</td></tr>",
                            "<tr><td>Cetuximab</td><td>Dienestrol</td><td>Dienestrol may increase the thrombogenic activities of Cetuximab.</td></tr>",
                            "<tr><td>Cetuximab</td><td>Ethinylestradiol</td><td>Ethinylestradiol may increase the thrombogenic activities of Cetuximab.</td></tr>",
                            "<tr><td>Cetuximab</td><td>Mestranol</td><td>Mestranol may increase the thrombogenic activities of Cetuximab.</td></tr>",
                            "<tr><td>Cetuximab</td><td>Estriol</td><td>Estriol may increase the thrombogenic activities of Cetuximab.</td></tr>",
                            "<tr><td>Cetuximab</td><td>Estrone sulfate</td><td>Estrone sulfate may increase the thrombogenic activities of Cetuximab.</td></tr>",
                            "<tr><td>Cetuximab</td><td>Quinestrol</td><td>Quinestrol may increase the thrombogenic activities of Cetuximab.</td></tr>",
                            "<tr><td>Cetuximab</td><td>Estradiol benzoate</td><td>Estradiol benzoate may increase the thrombogenic activities of Cetuximab.</td></tr>",
                            "<tr><td>Cetuximab</td><td>Estradiol cypionate</td><td>Estradiol cypionate may increase the thrombogenic activities of Cetuximab.</td></tr>",
                            "<tr><td>Cetuximab</td><td>Estradiol valerate</td><td>Estradiol valerate may increase the thrombogenic activities of Cetuximab.</td></tr>",
                            "<tr><td>Cetuximab</td><td>Biochanin A</td><td>Biochanin A may increase the thrombogenic activities of Cetuximab.</td></tr>",
                            "<tr><td>Cetuximab</td><td>Formononetin</td><td>Formononetin may increase the thrombogenic activities of Cetuximab.</td></tr>",
                            "<tr><td>Cetuximab</td><td>Estetrol</td><td>Estetrol may increase the thrombogenic activities of Cetuximab.</td></tr>",
                            "<tr><td>Cetuximab</td><td>Human immunoglobulin G</td><td>The risk or severity of adverse effects can be increased when Cetuximab is combined with Human immunoglobulin G.</td></tr>",
                            "<tr><td>Cetuximab</td><td>Omalizumab</td><td>The risk or severity of adverse effects can be increased when Cetuximab is combined with Omalizumab.</td></tr>",
                            "<tr><td>Cetuximab</td><td>Adalimumab</td><td>The risk or severity of adverse effects can be increased when Cetuximab is combined with Adalimumab.</td></tr>",
                            "<tr><td>Cetuximab</td><td>Abciximab</td><td>The risk or severity of adverse effects can be increased when Cetuximab is combined with Abciximab.</td></tr>",
                            "<tr><td>Cetuximab</td><td>Gemtuzumab ozogamicin</td><td>The risk or severity of adverse effects can be increased when Cetuximab is combined with Gemtuzumab ozogamicin.</td></tr>",
                            "<tr><td>Cetuximab</td><td>Indium In-111 satumomab pendetide</td><td>The risk or severity of adverse effects can be increased when Cetuximab is combined with Indium In-111 satumomab pendetide.</td></tr>",
                            "<tr><td>Cetuximab</td><td>Infliximab</td><td>The risk or severity of adverse effects can be increased when Cetuximab is combined with Infliximab.</td></tr>",
                            "<tr><td>Cetuximab</td><td>Trastuzumab</td><td>The risk or severity of adverse effects can be increased when Cetuximab is combined with Trastuzumab.</td></tr>",
                            "<tr><td>Cetuximab</td><td>Rituximab</td><td>The risk or severity of adverse effects can be increased when Cetuximab is combined with Rituximab.</td></tr>",
                            "<tr><td>Cetuximab</td><td>Basiliximab</td><td>The risk or severity of adverse effects can be increased when Cetuximab is combined with Basiliximab.</td></tr>",
                            "<tr><td>Cetuximab</td><td>Muromonab</td><td>The risk or severity of adverse effects can be increased when Cetuximab is combined with Muromonab.</td></tr>",
                            "<tr><td>Cetuximab</td><td>Digoxin Immune Fab (Ovine)</td><td>The risk or severity of adverse effects can be increased when Cetuximab is combined with Digoxin Immune Fab (Ovine).</td></tr>",
                            "<tr><td>Cetuximab</td><td>Ibritumomab tiuxetan</td><td>The risk or severity of adverse effects can be increased when Cetuximab is combined with Ibritumomab tiuxetan.</td></tr>",
                            "<tr><td>Cetuximab</td><td>Tositumomab</td><td>The risk or severity of adverse effects can be increased when Cetuximab is combined with Tositumomab.</td></tr>",
                            "<tr><td>Cetuximab</td><td>Alemtuzumab</td><td>The risk or severity of adverse effects can be increased when Cetuximab is combined with Alemtuzumab.</td></tr>",
                            "<tr><td>Cetuximab</td><td>Capromab pendetide</td><td>The risk or severity of adverse effects can be increased when Cetuximab is combined with Capromab pendetide.</td></tr>",
                            "<tr><td>Cetuximab</td><td>Efalizumab</td><td>The risk or severity of adverse effects can be increased when Cetuximab is combined with Efalizumab.</td></tr>",
                            "<tr><td>Cetuximab</td><td>Antithymocyte immunoglobulin (rabbit)</td><td>The risk or severity of adverse effects can be increased when Cetuximab is combined with Antithymocyte immunoglobulin (rabbit).</td></tr>",
                            "<tr><td>Cetuximab</td><td>Natalizumab</td><td>The risk or severity of adverse effects can be increased when Cetuximab is combined with Natalizumab.</td></tr>",
                            "<tr><td>Cetuximab</td><td>Palivizumab</td><td>The risk or severity of adverse effects can be increased when Cetuximab is combined with Palivizumab.</td></tr>",
                            "<tr><td>Cetuximab</td><td>Daclizumab</td><td>The risk or severity of adverse effects can be increased when Cetuximab is combined with Daclizumab.</td></tr>",
                            "<tr><td>Cetuximab</td><td>Bevacizumab</td><td>The risk or severity of adverse effects can be increased when Cetuximab is combined with Bevacizumab.</td></tr>",
                            "<tr><td>Cetuximab</td><td>Technetium Tc-99m arcitumomab</td><td>The risk or severity of adverse effects can be increased when Cetuximab is combined with Technetium Tc-99m arcitumomab.</td></tr>",
                            "<tr><td>Cetuximab</td><td>Eculizumab</td><td>The risk or severity of adverse effects can be increased when Cetuximab is combined with Eculizumab.</td></tr>",
                            "<tr><td>Cetuximab</td><td>Panitumumab</td><td>The risk or severity of adverse effects can be increased when Cetuximab is combined with Panitumumab.</td></tr>",
                            "<tr><td>Cetuximab</td><td>Ranibizumab</td><td>The risk or severity of adverse effects can be increased when Cetuximab is combined with Ranibizumab.</td></tr>",
                            "<tr><td>Cetuximab</td><td>Galiximab</td><td>The risk or severity of adverse effects can be increased when Cetuximab is combined with Galiximab.</td></tr>",
                            "<tr><td>Cetuximab</td><td>Estradiol acetate</td><td>Estradiol acetate may increase the thrombogenic activities of Cetuximab.</td></tr>",
                            "<tr><td>Cetuximab</td><td>Moxestrol</td><td>Moxestrol may increase the thrombogenic activities of Cetuximab.</td></tr>",
                            "<tr><td>Cetuximab</td><td>Epimestrol</td><td>Epimestrol may increase the thrombogenic activities of Cetuximab.</td></tr>",
                            "<tr><td>Cetuximab</td><td>Methallenestril</td><td>Methallenestril may increase the thrombogenic activities of Cetuximab.</td></tr>",
                            "<tr><td>Cetuximab</td><td>Promestriene</td><td>Promestriene may increase the thrombogenic activities of Cetuximab.</td></tr>",
                            "<tr><td>Cetuximab</td><td>Equol</td><td>Equol may increase the thrombogenic activities of Cetuximab.</td></tr>",
                            "<tr><td>Cetuximab</td><td>Zeranol</td><td>Zeranol may increase the thrombogenic activities of Cetuximab.</td></tr>",
                            "<tr><td>Cetuximab</td><td>Esterified estrogens</td><td>Esterified estrogens may increase the thrombogenic activities of Cetuximab.</td></tr>",
                            "<tr><td>Cetuximab</td><td>Polyestradiol phosphate</td><td>Polyestradiol phosphate may increase the thrombogenic activities of Cetuximab.</td></tr>",
                            "<tr><td>Cetuximab</td><td>Synthetic Conjugated Estrogens, B</td><td>Synthetic Conjugated Estrogens, B may increase the thrombogenic activities of Cetuximab.</td></tr>",
                            "<tr><td>Cetuximab</td><td>Synthetic Conjugated Estrogens, A</td><td>Synthetic Conjugated Estrogens, A may increase the thrombogenic activities of Cetuximab.</td></tr>",
                            "<tr><td>Cetuximab</td><td>Tibolone</td><td>Tibolone may increase the thrombogenic activities of Cetuximab.</td></tr>",
                            "<tr><td>Cetuximab</td><td>Hexestrol</td><td>Hexestrol may increase the thrombogenic activities of Cetuximab.</td></tr>",
                            "<tr><td>Cetuximab</td><td>Pexelizumab</td><td>The risk or severity of adverse effects can be increased when Cetuximab is combined with Pexelizumab.</td></tr>",
                            "<tr><td>Cetuximab</td><td>Afelimomab</td><td>The risk or severity of adverse effects can be increased when Cetuximab is combined with Afelimomab.</td></tr>",
                            "<tr><td>Cetuximab</td><td>Epratuzumab</td><td>The risk or severity of adverse effects can be increased when Cetuximab is combined with Epratuzumab.</td></tr>",
                            "<tr><td>Cetuximab</td><td>Bectumomab</td><td>The risk or severity of adverse effects can be increased when Cetuximab is combined with Bectumomab.</td></tr>",
                            "<tr><td>Cetuximab</td><td>Oregovomab</td><td>The risk or severity of adverse effects can be increased when Cetuximab is combined with Oregovomab.</td></tr>",
                            "<tr><td>Cetuximab</td><td>IGN311</td><td>The risk or severity of adverse effects can be increased when Cetuximab is combined with IGN311.</td></tr>",
                            "<tr><td>Cetuximab</td><td>Adecatumumab</td><td>The risk or severity of adverse effects can be increased when Cetuximab is combined with Adecatumumab.</td></tr>",
                            "<tr><td>Cetuximab</td><td>Labetuzumab</td><td>The risk or severity of adverse effects can be increased when Cetuximab is combined with Labetuzumab.</td></tr>",
                            "<tr><td>Cetuximab</td><td>Matuzumab</td><td>The risk or severity of adverse effects can be increased when Cetuximab is combined with Matuzumab.</td></tr>",
                            "<tr><td>Cetuximab</td><td>Fontolizumab</td><td>The risk or severity of adverse effects can be increased when Cetuximab is combined with Fontolizumab.</td></tr>",
                            "<tr><td>Cetuximab</td><td>Bavituximab</td><td>The risk or severity of adverse effects can be increased when Cetuximab is combined with Bavituximab.</td></tr>",
                            "<tr><td>Cetuximab</td><td>CR002</td><td>The risk or severity of adverse effects can be increased when Cetuximab is combined with CR002.</td></tr>",
                            "<tr><td>Cetuximab</td><td>Rozrolimupab</td><td>The risk or severity of adverse effects can be increased when Cetuximab is combined with Rozrolimupab.</td></tr>",
                            "<tr><td>Cetuximab</td><td>Girentuximab</td><td>The risk or severity of adverse effects can be increased when Cetuximab is combined with Girentuximab.</td></tr>",
                            "<tr><td>Cetuximab</td><td>Obiltoxaximab</td><td>The risk or severity of adverse effects can be increased when Cetuximab is combined with Obiltoxaximab.</td></tr>",
                            "<tr><td>Cetuximab</td><td>XTL-001</td><td>The risk or severity of adverse effects can be increased when Cetuximab is combined with XTL-001.</td></tr>",
                            "<tr><td>Cetuximab</td><td>NAV 1800</td><td>The risk or severity of adverse effects can be increased when Cetuximab is combined with NAV 1800.</td></tr>",
                            "<tr><td>Cetuximab</td><td>Briakinumab</td><td>The risk or severity of adverse effects can be increased when Cetuximab is combined with Briakinumab.</td></tr>",
                            "<tr><td>Cetuximab</td><td>Otelixizumab</td><td>The risk or severity of adverse effects can be increased when Cetuximab is combined with Otelixizumab.</td></tr>",
                            "<tr><td>Cetuximab</td><td>AMG 108</td><td>The risk or severity of adverse effects can be increased when Cetuximab is combined with AMG 108.</td></tr>",
                            "<tr><td>Cetuximab</td><td>Iratumumab</td><td>The risk or severity of adverse effects can be increased when Cetuximab is combined with Iratumumab.</td></tr>",
                            "<tr><td>Cetuximab</td><td>Enokizumab</td><td>The risk or severity of adverse effects can be increased when Cetuximab is combined with Enokizumab.</td></tr>",
                            "<tr><td>Cetuximab</td><td>Ramucirumab</td><td>The risk or severity of adverse effects can be increased when Cetuximab is combined with Ramucirumab.</td></tr>",
                            "<tr><td>Cetuximab</td><td>Farletuzumab</td><td>The risk or severity of adverse effects can be increased when Cetuximab is combined with Farletuzumab.</td></tr>",
                            "<tr><td>Cetuximab</td><td>Veltuzumab</td><td>The risk or severity of adverse effects can be increased when Cetuximab is combined with Veltuzumab.</td></tr>",
                            "<tr><td>Cetuximab</td><td>Ustekinumab</td><td>The risk or severity of adverse effects can be increased when Cetuximab is combined with Ustekinumab.</td></tr>",
                            "<tr><td>Cetuximab</td><td>Trastuzumab emtansine</td><td>The risk or severity of adverse effects can be increased when Cetuximab is combined with Trastuzumab emtansine.</td></tr>",
                            "<tr><td>Cetuximab</td><td>PRO-542</td><td>The risk or severity of adverse effects can be increased when Cetuximab is combined with PRO-542.</td></tr>",
                            "<tr><td>Cetuximab</td><td>TNX-901</td><td>The risk or severity of adverse effects can be increased when Cetuximab is combined with TNX-901.</td></tr>",
                            "<tr><td>Cetuximab</td><td>Inotuzumab ozogamicin</td><td>The risk or severity of adverse effects can be increased when Cetuximab is combined with Inotuzumab ozogamicin.</td></tr>",
                            "<tr><td>Cetuximab</td><td>RI 624</td><td>The risk or severity of adverse effects can be increased when Cetuximab is combined with RI 624.</td></tr>",
                            "<tr><td>Cetuximab</td><td>Stamulumab</td><td>The risk or severity of adverse effects can be increased when Cetuximab is combined with MYO-029.</td></tr>",
                            "<tr><td>Cetuximab</td><td>CT-011</td><td>The risk or severity of adverse effects can be increased when Cetuximab is combined with CT-011.</td></tr>",
                            "<tr><td>Cetuximab</td><td>Leronlimab</td><td>The risk or severity of adverse effects can be increased when Cetuximab is combined with Leronlimab.</td></tr>",
                            "<tr><td>Cetuximab</td><td>Glembatumumab vedotin</td><td>The risk or severity of adverse effects can be increased when Cetuximab is combined with Glembatumumab vedotin.</td></tr>",
                            "<tr><td>Cetuximab</td><td>Olaratumab</td><td>The risk or severity of adverse effects can be increased when Cetuximab is combined with Olaratumab.</td></tr>",
                            "<tr><td>Cetuximab</td><td>IPH 2101</td><td>The risk or severity of adverse effects can be increased when Cetuximab is combined with IPH 2101.</td></tr>",
                            "<tr><td>Cetuximab</td><td>TB-402</td><td>The risk or severity of adverse effects can be increased when Cetuximab is combined with TB-402.</td></tr>",
                            "<tr><td>Cetuximab</td><td>Caplacizumab</td><td>The risk or severity of adverse effects can be increased when Cetuximab is combined with Caplacizumab.</td></tr>",
                            "<tr><td>Cetuximab</td><td>IMC-1C11</td><td>The risk or severity of adverse effects can be increased when Cetuximab is combined with IMC-1C11.</td></tr>",
                            "<tr><td>Cetuximab</td><td>Eldelumab</td><td>The risk or severity of adverse effects can be increased when Cetuximab is combined with Eldelumab.</td></tr>",
                            "<tr><td>Cetuximab</td><td>Lumiliximab</td><td>The risk or severity of adverse effects can be increased when Cetuximab is combined with Lumiliximab.</td></tr>",
                            "<tr><td>Cetuximab</td><td>Canakinumab</td><td>The risk or severity of adverse effects can be increased when Cetuximab is combined with Canakinumab.</td></tr>",
                            "<tr><td>Cetuximab</td><td>Ipilimumab</td><td>The risk or severity of adverse effects can be increased when Cetuximab is combined with Ipilimumab.</td></tr>",
                            "<tr><td>Cetuximab</td><td>Nimotuzumab</td><td>The risk or severity of adverse effects can be increased when Cetuximab is combined with Nimotuzumab.</td></tr>",
                            "<tr><td>Cetuximab</td><td>Clenoliximab</td><td>The risk or severity of adverse effects can be increased when Cetuximab is combined with Clenoliximab.</td></tr>",
                            "<tr><td>Cetuximab</td><td>Tocilizumab</td><td>The risk or severity of adverse effects can be increased when Cetuximab is combined with Tocilizumab.</td></tr>",
                            "<tr><td>Cetuximab</td><td>BIIB015</td><td>The risk or severity of adverse effects can be increased when Cetuximab is combined with BIIB015.</td></tr>",
                            "<tr><td>Cetuximab</td><td>Sonepcizumab</td><td>The risk or severity of adverse effects can be increased when Cetuximab is combined with Sonepcizumab.</td></tr>",
                            "<tr><td>Cetuximab</td><td>Motavizumab</td><td>The risk or severity of adverse effects can be increased when Cetuximab is combined with Motavizumab.</td></tr>",
                            "<tr><td>Cetuximab</td><td>Elotuzumab</td><td>The risk or severity of adverse effects can be increased when Cetuximab is combined with Elotuzumab.</td></tr>",
                            "<tr><td>Cetuximab</td><td>AVE9633</td><td>The risk or severity of adverse effects can be increased when Cetuximab is combined with AVE9633.</td></tr>",
                            "<tr><td>Cetuximab</td><td>Carotuximab</td><td>The risk or severity of adverse effects can be increased when Cetuximab is combined with Carotuximab.</td></tr>",
                            "<tr><td>Cetuximab</td><td>XmAb 2513</td><td>The risk or severity of adverse effects can be increased when Cetuximab is combined with XmAb 2513.</td></tr>",
                            "<tr><td>Cetuximab</td><td>Coltuximab ravtansine</td><td>The risk or severity of adverse effects can be increased when Cetuximab is combined with Coltuximab ravtansine.</td></tr>",
                            "<tr><td>Cetuximab</td><td>Lucatumumab</td><td>The risk or severity of adverse effects can be increased when Cetuximab is combined with Lucatumumab.</td></tr>",
                            "<tr><td>Cetuximab</td><td>Pertuzumab</td><td>The risk or severity of adverse effects can be increased when Cetuximab is combined with Pertuzumab.</td></tr>",
                            "<tr><td>Cetuximab</td><td>Siplizumab</td><td>The risk or severity of adverse effects can be increased when Cetuximab is combined with Siplizumab.</td></tr>",
                            "<tr><td>Cetuximab</td><td>Apolizumab</td><td>The risk or severity of adverse effects can be increased when Cetuximab is combined with Apolizumab.</td></tr>",
                            "<tr><td>Cetuximab</td><td>Sibrotuzumab</td><td>The risk or severity of adverse effects can be increased when Cetuximab is combined with Sibrotuzumab.</td></tr>",
                            "<tr><td>Cetuximab</td><td>Bivatuzumab</td><td>The risk or severity of adverse effects can be increased when Cetuximab is combined with Bivatuzumab.</td></tr>",
                            "<tr><td>Cetuximab</td><td>Lerdelimumab</td><td>The risk or severity of adverse effects can be increased when Cetuximab is combined with Lerdelimumab.</td></tr>",
                            "<tr><td>Cetuximab</td><td>Lexatumumab</td><td>The risk or severity of adverse effects can be increased when Cetuximab is combined with Lexatumumab.</td></tr>",
                            "<tr><td>Cetuximab</td><td>Reslizumab</td><td>The risk or severity of adverse effects can be increased when Cetuximab is combined with Reslizumab.</td></tr>",
                            "<tr><td>Cetuximab</td><td>Teplizumab</td><td>The risk or severity of adverse effects can be increased when Cetuximab is combined with Teplizumab.</td></tr>",
                            "<tr><td>Cetuximab</td><td>Catumaxomab</td><td>The risk or severity of adverse effects can be increased when Cetuximab is combined with Catumaxomab.</td></tr>",
                            "<tr><td>Cetuximab</td><td>Mepolizumab</td><td>The risk or severity of adverse effects can be increased when Cetuximab is combined with Mepolizumab.</td></tr>",
                            "<tr><td>Cetuximab</td><td>Denosumab</td><td>The risk or severity of adverse effects can be increased when Cetuximab is combined with Denosumab.</td></tr>",
                            "<tr><td>Cetuximab</td><td>Volociximab</td><td>The risk or severity of adverse effects can be increased when Cetuximab is combined with Volociximab.</td></tr>",
                            "<tr><td>Cetuximab</td><td>Ofatumumab</td><td>The risk or severity of adverse effects can be increased when Cetuximab is combined with Ofatumumab.</td></tr>",
                            "<tr><td>Cetuximab</td><td>Golimumab</td><td>The risk or severity of adverse effects can be increased when Cetuximab is combined with Golimumab.</td></tr>",
                            "<tr><td>Cetuximab</td><td>Brentuximab vedotin</td><td>The risk or severity of adverse effects can be increased when Cetuximab is combined with Brentuximab vedotin.</td></tr>",
                            "<tr><td>Cetuximab</td><td>Belimumab</td><td>The risk or severity of adverse effects can be increased when Cetuximab is combined with Belimumab.</td></tr>",
                            "<tr><td>Cetuximab</td><td>Raxibacumab</td><td>The risk or severity of adverse effects can be increased when Cetuximab is combined with Raxibacumab.</td></tr>",
                            "<tr><td>Cetuximab</td><td>Obinutuzumab</td><td>The risk or severity of adverse effects can be increased when Cetuximab is combined with Obinutuzumab.</td></tr>",
                            "<tr><td>Cetuximab</td><td>Secukinumab</td><td>The risk or severity of adverse effects can be increased when Cetuximab is combined with Secukinumab.</td></tr>",
                            "<tr><td>Cetuximab</td><td>Vedolizumab</td><td>The risk or severity of adverse effects can be increased when Cetuximab is combined with Vedolizumab.</td></tr>",
                            "<tr><td>Cetuximab</td><td>Nivolumab</td><td>The risk or severity of adverse effects can be increased when Cetuximab is combined with Nivolumab.</td></tr>",
                            "<tr><td>Cetuximab</td><td>Siltuximab</td><td>The risk or severity of adverse effects can be increased when Cetuximab is combined with Siltuximab.</td></tr>",
                            "<tr><td>Cetuximab</td><td>Pembrolizumab</td><td>The risk or severity of adverse effects can be increased when Cetuximab is combined with Pembrolizumab.</td></tr>",
                            "<tr><td>Cetuximab</td><td>Dulaglutide</td><td>The risk or severity of adverse effects can be increased when Cetuximab is combined with Dulaglutide.</td></tr>",
                            "<tr><td>Cetuximab</td><td>Blinatumomab</td><td>The risk or severity of adverse effects can be increased when Cetuximab is combined with Blinatumomab.</td></tr>",
                            "<tr><td>Cetuximab</td><td>Anthrax immune globulin human</td><td>The risk or severity of adverse effects can be increased when Cetuximab is combined with Anthrax immune globulin human.</td></tr>",
                            "<tr><td>Cetuximab</td><td>Dinutuximab</td><td>The risk or severity of adverse effects can be increased when Cetuximab is combined with Dinutuximab.</td></tr>",
                            "<tr><td>Cetuximab</td><td>Asfotase alfa</td><td>The risk or severity of adverse effects can be increased when Cetuximab is combined with Asfotase alfa.</td></tr>",
                            "<tr><td>Cetuximab</td><td>Idarucizumab</td><td>The risk or severity of adverse effects can be increased when Cetuximab is combined with Idarucizumab.</td></tr>",
                            "<tr><td>Cetuximab</td><td>Alirocumab</td><td>The risk or severity of adverse effects can be increased when Cetuximab is combined with Alirocumab.</td></tr>",
                            "<tr><td>Cetuximab</td><td>Evolocumab</td><td>The risk or severity of adverse effects can be increased when Cetuximab is combined with Evolocumab.</td></tr>",
                            "<tr><td>Cetuximab</td><td>Antilymphocyte immunoglobulin (horse)</td><td>The risk or severity of adverse effects can be increased when Cetuximab is combined with Antilymphocyte immunoglobulin (horse).</td></tr>",
                            "<tr><td>Cetuximab</td><td>Daratumumab</td><td>The risk or severity of adverse effects can be increased when Cetuximab is combined with Daratumumab.</td></tr>",
                            "<tr><td>Cetuximab</td><td>Necitumumab</td><td>The risk or severity of adverse effects can be increased when Cetuximab is combined with Necitumumab.</td></tr>",
                            "<tr><td>Cetuximab</td><td>Ixekizumab</td><td>The risk or severity of adverse effects can be increased when Cetuximab is combined with Ixekizumab.</td></tr>",
                            "<tr><td>Cetuximab</td><td>Ravulizumab</td><td>The risk or severity of adverse effects can be increased when Cetuximab is combined with Ravulizumab.</td></tr>",
                            "<tr><td>Cetuximab</td><td>Atezolizumab</td><td>The risk or severity of adverse effects can be increased when Cetuximab is combined with Atezolizumab.</td></tr>",
                            "<tr><td>Cetuximab</td><td>Tetanus immune globulin, human</td><td>The risk or severity of adverse effects can be increased when Cetuximab is combined with Tetanus immune globulin, human.</td></tr>",
                            "<tr><td>Cetuximab</td><td>Eftrenonacog alfa</td><td>The risk or severity of adverse effects can be increased when Cetuximab is combined with Eftrenonacog alfa.</td></tr>",
                            "<tr><td>Cetuximab</td><td>Human varicella-zoster immune globulin</td><td>The risk or severity of adverse effects can be increased when Cetuximab is combined with Human varicella-zoster immune globulin.</td></tr>",
                            "<tr><td>Cetuximab</td><td>Conatumumab</td><td>The risk or severity of adverse effects can be increased when Cetuximab is combined with Conatumumab.</td></tr>",
                            "<tr><td>Cetuximab</td><td>Tabalumab</td><td>The risk or severity of adverse effects can be increased when Cetuximab is combined with Tabalumab.</td></tr>",
                            "<tr><td>Cetuximab</td><td>Ficlatuzumab</td><td>The risk or severity of adverse effects can be increased when Cetuximab is combined with Ficlatuzumab.</td></tr>",
                            "<tr><td>Cetuximab</td><td>Figitumumab</td><td>The risk or severity of adverse effects can be increased when Cetuximab is combined with Figitumumab.</td></tr>",
                            "<tr><td>Cetuximab</td><td>Durvalumab</td><td>The risk or severity of adverse effects can be increased when Cetuximab is combined with Durvalumab.</td></tr>",
                            "<tr><td>Cetuximab</td><td>Bapineuzumab</td><td>The risk or severity of adverse effects can be increased when Cetuximab is combined with Bapineuzumab.</td></tr>",
                            "<tr><td>Cetuximab</td><td>Depatuxizumab mafodotin</td><td>The risk or severity of adverse effects can be increased when Cetuximab is combined with Depatuxizumab mafodotin.</td></tr>",
                            "<tr><td>Cetuximab</td><td>Onartuzumab</td><td>The risk or severity of adverse effects can be increased when Cetuximab is combined with Onartuzumab.</td></tr>",
                            "<tr><td>Cetuximab</td><td>Solanezumab</td><td>The risk or severity of adverse effects can be increased when Cetuximab is combined with Solanezumab.</td></tr>",
                            "<tr><td>Cetuximab</td><td>Sarilumab</td><td>The risk or severity of adverse effects can be increased when Cetuximab is combined with Sarilumab.</td></tr>",
                            "<tr><td>Cetuximab</td><td>Tremelimumab</td><td>The risk or severity of adverse effects can be increased when Cetuximab is combined with Tremelimumab.</td></tr>",
                            "<tr><td>Cetuximab</td><td>Brodalumab</td><td>The risk or severity of adverse effects can be increased when Cetuximab is combined with Brodalumab.</td></tr>",
                            "<tr><td>Cetuximab</td><td>Sirukumab</td><td>The risk or severity of adverse effects can be increased when Cetuximab is combined with Sirukumab.</td></tr>",
                            "<tr><td>Cetuximab</td><td>Lampalizumab</td><td>The risk or severity of adverse effects can be increased when Cetuximab is combined with Lampalizumab.</td></tr>",
                            "<tr><td>Cetuximab</td><td>Guselkumab</td><td>The risk or severity of adverse effects can be increased when Cetuximab is combined with Guselkumab.</td></tr>",
                            "<tr><td>Cetuximab</td><td>Dalotuzumab</td><td>The risk or severity of adverse effects can be increased when Cetuximab is combined with Dalotuzumab.</td></tr>",
                            "<tr><td>Cetuximab</td><td>Emibetuzumab</td><td>The risk or severity of adverse effects can be increased when Cetuximab is combined with Emibetuzumab.</td></tr>",
                            "<tr><td>Cetuximab</td><td>Ublituximab</td><td>The risk or severity of adverse effects can be increased when Cetuximab is combined with Ublituximab.</td></tr>",
                            "<tr><td>Cetuximab</td><td>Ligelizumab</td><td>The risk or severity of adverse effects can be increased when Cetuximab is combined with Ligelizumab.</td></tr>",
                            "<tr><td>Cetuximab</td><td>Seribantumab</td><td>The risk or severity of adverse effects can be increased when Cetuximab is combined with Seribantumab.</td></tr>",
                            "<tr><td>Cetuximab</td><td>Landogrozumab</td><td>The risk or severity of adverse effects can be increased when Cetuximab is combined with Landogrozumab.</td></tr>",
                            "<tr><td>Cetuximab</td><td>Romosozumab</td><td>The risk or severity of adverse effects can be increased when Cetuximab is combined with Romosozumab.</td></tr>",
                            "<tr><td>Cetuximab</td><td>Vadastuximab talirine</td><td>The risk or severity of adverse effects can be increased when Cetuximab is combined with Vadastuximab talirine.</td></tr>",
                            "<tr><td>Cetuximab</td><td>Lebrikizumab</td><td>The risk or severity of adverse effects can be increased when Cetuximab is combined with Lebrikizumab.</td></tr>",
                            "<tr><td>Cetuximab</td><td>Varlilumab</td><td>The risk or severity of adverse effects can be increased when Cetuximab is combined with Varlilumab.</td></tr>",
                            "<tr><td>Cetuximab</td><td>Avelumab</td><td>The risk or severity of adverse effects can be increased when Cetuximab is combined with Avelumab.</td></tr>",
                            "<tr><td>Cetuximab</td><td>Crenezumab</td><td>The risk or severity of adverse effects can be increased when Cetuximab is combined with Crenezumab.</td></tr>",
                            "<tr><td>Cetuximab</td><td>Rilotumumab</td><td>The risk or severity of adverse effects can be increased when Cetuximab is combined with Rilotumumab.</td></tr>",
                            "<tr><td>Cetuximab</td><td>Anifrolumab</td><td>The risk or severity of adverse effects can be increased when Cetuximab is combined with Anifrolumab.</td></tr>",
                            "<tr><td>Cetuximab</td><td>Ocrelizumab</td><td>The risk or severity of adverse effects can be increased when Cetuximab is combined with Ocrelizumab.</td></tr>",
                            "<tr><td>Cetuximab</td><td>Benralizumab</td><td>The risk or severity of adverse effects can be increased when Cetuximab is combined with Benralizumab.</td></tr>",
                            "<tr><td>Cetuximab</td><td>Gantenerumab</td><td>The risk or severity of adverse effects can be increased when Cetuximab is combined with Gantenerumab.</td></tr>",
                            "<tr><td>Cetuximab</td><td>Visilizumab</td><td>The risk or severity of adverse effects can be increased when Cetuximab is combined with Visilizumab.</td></tr>",
                            "<tr><td>Cetuximab</td><td>Urelumab</td><td>The risk or severity of adverse effects can be increased when Cetuximab is combined with Urelumab.</td></tr>",
                            "<tr><td>Cetuximab</td><td>Lorvotuzumab mertansine</td><td>The risk or severity of adverse effects can be increased when Cetuximab is combined with Lorvotuzumab mertansine.</td></tr>",
                            "<tr><td>Cetuximab</td><td>Patritumab</td><td>The risk or severity of adverse effects can be increased when Cetuximab is combined with Patritumab.</td></tr>",
                            "<tr><td>Cetuximab</td><td>Fulranumab</td><td>The risk or severity of adverse effects can be increased when Cetuximab is combined with Fulranumab.</td></tr>",
                            "<tr><td>Cetuximab</td><td>Tarextumab</td><td>The risk or severity of adverse effects can be increased when Cetuximab is combined with Tarextumab.</td></tr>",
                            "<tr><td>Cetuximab</td><td>Sotatercept</td><td>The risk or severity of adverse effects can be increased when Cetuximab is combined with Sotatercept.</td></tr>",
                            "<tr><td>Cetuximab</td><td>Gevokizumab</td><td>The risk or severity of adverse effects can be increased when Cetuximab is combined with Gevokizumab.</td></tr>",
                            "<tr><td>Cetuximab</td><td>Duligotuzumab</td><td>The risk or severity of adverse effects can be increased when Cetuximab is combined with Duligotuzumab.</td></tr>",
                            "<tr><td>Cetuximab</td><td>Simtuzumab</td><td>The risk or severity of adverse effects can be increased when Cetuximab is combined with Simtuzumab.</td></tr>",
                            "<tr><td>Cetuximab</td><td>Fasinumab</td><td>The risk or severity of adverse effects can be increased when Cetuximab is combined with Fasinumab.</td></tr>",
                            "<tr><td>Cetuximab</td><td>Dupilumab</td><td>The risk or severity of adverse effects can be increased when Cetuximab is combined with Dupilumab.</td></tr>",
                            "<tr><td>Cetuximab</td><td>Tralokinumab</td><td>The risk or severity of adverse effects can be increased when Cetuximab is combined with Tralokinumab.</td></tr>",
                            "<tr><td>Cetuximab</td><td>Etrolizumab</td><td>The risk or severity of adverse effects can be increased when Cetuximab is combined with Etrolizumab.</td></tr>",
                            "<tr><td>Cetuximab</td><td>Zalutumumab</td><td>The risk or severity of adverse effects can be increased when Cetuximab is combined with Zalutumumab.</td></tr>",
                            "<tr><td>Cetuximab</td><td>Ganitumab</td><td>The risk or severity of adverse effects can be increased when Cetuximab is combined with Ganitumab.</td></tr>",
                            "<tr><td>Cetuximab</td><td>Etaracizumab</td><td>The risk or severity of adverse effects can be increased when Cetuximab is combined with Etaracizumab.</td></tr>",
                            "<tr><td>Cetuximab</td><td>Polatuzumab vedotin</td><td>The risk or severity of adverse effects can be increased when Cetuximab is combined with Polatuzumab vedotin.</td></tr>",
                            "<tr><td>Cetuximab</td><td>Inclacumab</td><td>The risk or severity of adverse effects can be increased when Cetuximab is combined with Inclacumab.</td></tr>",
                            "<tr><td>Cetuximab</td><td>Cixutumumab</td><td>The risk or severity of adverse effects can be increased when Cetuximab is combined with Cixutumumab.</td></tr>",
                            "<tr><td>Cetuximab</td><td>Ascrinvacumab</td><td>The risk or severity of adverse effects can be increased when Cetuximab is combined with Ascrinvacumab.</td></tr>",
                            "<tr><td>Cetuximab</td><td>Aducanumab</td><td>The risk or severity of adverse effects can be increased when Cetuximab is combined with Aducanumab.</td></tr>",
                            "<tr><td>Cetuximab</td><td>GS-5745</td><td>The risk or severity of adverse effects can be increased when Cetuximab is combined with GS-5745.</td></tr>",
                            "<tr><td>Cetuximab</td><td>Vanucizumab</td><td>The risk or severity of adverse effects can be increased when Cetuximab is combined with Vanucizumab.</td></tr>",
                            "<tr><td>Cetuximab</td><td>Labetuzumab govitecan</td><td>The risk or severity of adverse effects can be increased when Cetuximab is combined with Labetuzumab govitecan.</td></tr>",
                            "<tr><td>Cetuximab</td><td>Tanezumab</td><td>The risk or severity of adverse effects can be increased when Cetuximab is combined with Tanezumab.</td></tr>",
                            "<tr><td>Cetuximab</td><td>Ensituximab</td><td>The risk or severity of adverse effects can be increased when Cetuximab is combined with Ensituximab.</td></tr>",
                            "<tr><td>Cetuximab</td><td>Fezakinumab</td><td>The risk or severity of adverse effects can be increased when Cetuximab is combined with Fezakinumab.</td></tr>",
                            "<tr><td>Cetuximab</td><td>Dusigitumab</td><td>The risk or severity of adverse effects can be increased when Cetuximab is combined with Dusigitumab.</td></tr>",
                            "<tr><td>Cetuximab</td><td>Fresolimumab</td><td>The risk or severity of adverse effects can be increased when Cetuximab is combined with Fresolimumab.</td></tr>",
                            "<tr><td>Cetuximab</td><td>Indusatumab vedotin</td><td>The risk or severity of adverse effects can be increased when Cetuximab is combined with Indusatumab vedotin.</td></tr>",
                            "<tr><td>Cetuximab</td><td>Bococizumab</td><td>The risk or severity of adverse effects can be increased when Cetuximab is combined with Bococizumab.</td></tr>",
                            "<tr><td>Cetuximab</td><td>Mirvetuximab soravtansine</td><td>The risk or severity of adverse effects can be increased when Cetuximab is combined with Mirvetuximab Soravtansine.</td></tr>",
                            "<tr><td>Cetuximab</td><td>Mogamulizumab</td><td>The risk or severity of adverse effects can be increased when Cetuximab is combined with Mogamulizumab.</td></tr>",
                            "<tr><td>Cetuximab</td><td>Plozalizumab</td><td>The risk or severity of adverse effects can be increased when Cetuximab is combined with Plozalizumab.</td></tr>",
                            "<tr><td>Cetuximab</td><td>Inebilizumab</td><td>The risk or severity of adverse effects can be increased when Cetuximab is combined with Inebilizumab.</td></tr>",
                            "<tr><td>Cetuximab</td><td>Mavrilimumab</td><td>The risk or severity of adverse effects can be increased when Cetuximab is combined with Mavrilimumab.</td></tr>",
                            "<tr><td>Cetuximab</td><td>Blosozumab</td><td>The risk or severity of adverse effects can be increased when Cetuximab is combined with Blosozumab.</td></tr>",
                            "<tr><td>Cetuximab</td><td>Bimagrumab</td><td>The risk or severity of adverse effects can be increased when Cetuximab is combined with Bimagrumab.</td></tr>",
                            "<tr><td>Cetuximab</td><td>Dacetuzumab</td><td>The risk or severity of adverse effects can be increased when Cetuximab is combined with Dacetuzumab.</td></tr>",
                            "<tr><td>Cetuximab</td><td>Tovetumab</td><td>The risk or severity of adverse effects can be increased when Cetuximab is combined with Tovetumab.</td></tr>",
                            "<tr><td>Cetuximab</td><td>Lumretuzumab</td><td>The risk or severity of adverse effects can be increased when Cetuximab is combined with Lumretuzumab.</td></tr>",
                            "<tr><td>Cetuximab</td><td>Ibalizumab</td><td>The risk or severity of adverse effects can be increased when Cetuximab is combined with Ibalizumab.</td></tr>",
                            "<tr><td>Cetuximab</td><td>Intetumumab</td><td>The risk or severity of adverse effects can be increased when Cetuximab is combined with Intetumumab.</td></tr>",
                            "<tr><td>Cetuximab</td><td>Carlumab</td><td>The risk or severity of adverse effects can be increased when Cetuximab is combined with Carlumab.</td></tr>",
                            "<tr><td>Cetuximab</td><td>Demcizumab</td><td>The risk or severity of adverse effects can be increased when Cetuximab is combined with Demcizumab.</td></tr>",
                            "<tr><td>Cetuximab</td><td>Sifalimumab</td><td>The risk or severity of adverse effects can be increased when Cetuximab is combined with Sifalimumab.</td></tr>",
                            "<tr><td>Cetuximab</td><td>Abituzumab</td><td>The risk or severity of adverse effects can be increased when Cetuximab is combined with Abituzumab.</td></tr>",
                            "<tr><td>Cetuximab</td><td>Ecromeximab</td><td>The risk or severity of adverse effects can be increased when Cetuximab is combined with Ecromeximab.</td></tr>",
                            "<tr><td>Cetuximab</td><td>Naptumomab estafenatox</td><td>The risk or severity of adverse effects can be increased when Cetuximab is combined with Naptumomab estafenatox.</td></tr>",
                            "<tr><td>Cetuximab</td><td>Crotedumab</td><td>The risk or severity of adverse effects can be increased when Cetuximab is combined with Crotedumab.</td></tr>",
                            "<tr><td>Cetuximab</td><td>Concizumab</td><td>The risk or severity of adverse effects can be increased when Cetuximab is combined with Concizumab.</td></tr>",
                            "<tr><td>Cetuximab</td><td>Depatuxizumab</td><td>The risk or severity of adverse effects can be increased when Cetuximab is combined with Depatuxizumab.</td></tr>",
                            "<tr><td>Cetuximab</td><td>Rontalizumab</td><td>The risk or severity of adverse effects can be increased when Cetuximab is combined with Rontalizumab.</td></tr>",
                            "<tr><td>Cetuximab</td><td>Amatuximab</td><td>The risk or severity of adverse effects can be increased when Cetuximab is combined with Amatuximab.</td></tr>",
                            "<tr><td>Cetuximab</td><td>Clazakizumab</td><td>The risk or severity of adverse effects can be increased when Cetuximab is combined with Clazakizumab.</td></tr>",
                            "<tr><td>Cetuximab</td><td>Ozanezumab</td><td>The risk or severity of adverse effects can be increased when Cetuximab is combined with Ozanezumab.</td></tr>",
                            "<tr><td>Cetuximab</td><td>Sacituzumab govitecan</td><td>The risk or severity of adverse effects can be increased when Cetuximab is combined with Sacituzumab govitecan.</td></tr>",
                            "<tr><td>Cetuximab</td><td>Bimekizumab</td><td>The risk or severity of adverse effects can be increased when Cetuximab is combined with Bimekizumab.</td></tr>",
                            "<tr><td>Cetuximab</td><td>Milatuzumab</td><td>The risk or severity of adverse effects can be increased when Cetuximab is combined with Milatuzumab.</td></tr>",
                            "<tr><td>Cetuximab</td><td>Robatumumab</td><td>The risk or severity of adverse effects can be increased when Cetuximab is combined with Robatumumab.</td></tr>",
                            "<tr><td>Cetuximab</td><td>Rovalpituzumab tesirine</td><td>The risk or severity of adverse effects can be increased when Cetuximab is combined with Rovalpituzumab tesirine.</td></tr>",
                            "<tr><td>Cetuximab</td><td>Namilumab</td><td>The risk or severity of adverse effects can be increased when Cetuximab is combined with Namilumab.</td></tr>",
                            "<tr><td>Cetuximab</td><td>Racotumomab</td><td>The risk or severity of adverse effects can be increased when Cetuximab is combined with Racotumomab.</td></tr>",
                            "<tr><td>Cetuximab</td><td>Tregalizumab</td><td>The risk or severity of adverse effects can be increased when Cetuximab is combined with Tregalizumab.</td></tr>",
                            "<tr><td>Cetuximab</td><td>Olokizumab</td><td>The risk or severity of adverse effects can be increased when Cetuximab is combined with Olokizumab.</td></tr>",
                            "<tr><td>Cetuximab</td><td>Bezlotoxumab</td><td>The risk or severity of adverse effects can be increased when Cetuximab is combined with Bezlotoxumab.</td></tr>",
                            "<tr><td>Cetuximab</td><td>Edrecolomab</td><td>The risk or severity of adverse effects can be increased when Cetuximab is combined with Edrecolomab.</td></tr>",
                            "<tr><td>Cetuximab</td><td>Nebacumab</td><td>The risk or severity of adverse effects can be increased when Cetuximab is combined with Nebacumab.</td></tr>",
                            "<tr><td>Cetuximab</td><td>Human cytomegalovirus immune globulin</td><td>The risk or severity of adverse effects can be increased when Cetuximab is combined with Human cytomegalovirus immune globulin.</td></tr>",
                            "<tr><td>Cetuximab</td><td>Emicizumab</td><td>The risk or severity of adverse effects can be increased when Cetuximab is combined with Emicizumab.</td></tr>",
                            "<tr><td>Cetuximab</td><td>Sulesomab</td><td>The risk or severity of adverse effects can be increased when Cetuximab is combined with Sulesomab.</td></tr>",
                            "<tr><td>Cetuximab</td><td>Besilesomab</td><td>The risk or severity of adverse effects can be increased when Cetuximab is combined with Besilesomab.</td></tr>",
                            "<tr><td>Cetuximab</td><td>Tildrakizumab</td><td>The risk or severity of adverse effects can be increased when Cetuximab is combined with Tildrakizumab.</td></tr>",
                            "<tr><td>Cetuximab</td><td>Burosumab</td><td>The risk or severity of adverse effects can be increased when Cetuximab is combined with Burosumab.</td></tr>",
                            "<tr><td>Cetuximab</td><td>Erenumab</td><td>The risk or severity of adverse effects can be increased when Cetuximab is combined with Erenumab.</td></tr>",
                            "<tr><td>Cetuximab</td><td>Eptinezumab</td><td>The risk or severity of adverse effects can be increased when Cetuximab is combined with Eptinezumab.</td></tr>",
                            "<tr><td>Cetuximab</td><td>Fremanezumab</td><td>The risk or severity of adverse effects can be increased when Cetuximab is combined with Fremanezumab.</td></tr>",
                            "<tr><td>Cetuximab</td><td>Galcanezumab</td><td>The risk or severity of adverse effects can be increased when Cetuximab is combined with Galcanezumab.</td></tr>",
                            "<tr><td>Cetuximab</td><td>Fanolesomab</td><td>The risk or severity of adverse effects can be increased when Cetuximab is combined with Fanolesomab.</td></tr>",
                            "<tr><td>Cetuximab</td><td>Lecanemab</td><td>The risk or severity of adverse effects can be increased when Cetuximab is combined with Lecanemab.</td></tr>",
                            "<tr><td>Cetuximab</td><td>Lanadelumab</td><td>The risk or severity of adverse effects can be increased when Cetuximab is combined with Lanadelumab.</td></tr>",
                            "<tr><td>Cetuximab</td><td>Cemiplimab</td><td>The risk or severity of adverse effects can be increased when Cetuximab is combined with Cemiplimab.</td></tr>",
                            "<tr><td>Cetuximab</td><td>Emapalumab</td><td>The risk or severity of adverse effects can be increased when Cetuximab is combined with Emapalumab.</td></tr>",
                            "<tr><td>Cetuximab</td><td>Risankizumab</td><td>The risk or severity of adverse effects can be increased when Cetuximab is combined with Risankizumab.</td></tr>",
                            "<tr><td>Cetuximab</td><td>Camrelizumab</td><td>The risk or severity of adverse effects can be increased when Cetuximab is combined with Camrelizumab.</td></tr>",
                            "<tr><td>Cetuximab</td><td>Setrusumab</td><td>The risk or severity of adverse effects can be increased when Cetuximab is combined with Setrusumab.</td></tr>",
                            "<tr><td>Cetuximab</td><td>Gancotamab</td><td>The risk or severity of adverse effects can be increased when Cetuximab is combined with Gancotamab.</td></tr>",
                            "<tr><td>Cetuximab</td><td>Anetumab ravtansine</td><td>The risk or severity of adverse effects can be increased when Cetuximab is combined with Anetumab ravtansine.</td></tr>",
                            "<tr><td>Cetuximab</td><td>Isatuximab</td><td>The risk or severity of adverse effects can be increased when Cetuximab is combined with Isatuximab.</td></tr>",
                            "<tr><td>Cetuximab</td><td>Icrucumab</td><td>The risk or severity of adverse effects can be increased when Cetuximab is combined with Icrucumab.</td></tr>",
                            "<tr><td>Cetuximab</td><td>Codrituzumab</td><td>The risk or severity of adverse effects can be increased when Cetuximab is combined with Codrituzumab.</td></tr>",
                            "<tr><td>Cetuximab</td><td>Brolucizumab</td><td>The risk or severity of adverse effects can be increased when Cetuximab is combined with Brolucizumab.</td></tr>",
                            "<tr><td>Cetuximab</td><td>Xentuzumab</td><td>The risk or severity of adverse effects can be increased when Cetuximab is combined with Xentuzumab.</td></tr>",
                            "<tr><td>Cetuximab</td><td>Lintuzumab</td><td>The risk or severity of adverse effects can be increased when Cetuximab is combined with Lintuzumab.</td></tr>",
                            "<tr><td>Cetuximab</td><td>Vobarilizumab</td><td>The risk or severity of adverse effects can be increased when Cetuximab is combined with Vobarilizumab.</td></tr>",
                            "<tr><td>Cetuximab</td><td>Parsatuzumab</td><td>The risk or severity of adverse effects can be increased when Cetuximab is combined with Parsatuzumab.</td></tr>",
                            "<tr><td>Cetuximab</td><td>Emactuzumab</td><td>The risk or severity of adverse effects can be increased when Cetuximab is combined with Emactuzumab.</td></tr>",
                            "<tr><td>Cetuximab</td><td>Bevacizumab zirconium Zr-89</td><td>The risk or severity of adverse effects can be increased when Cetuximab is combined with Bevacizumab zirconium Zr-89.</td></tr>",
                            "<tr><td>Cetuximab</td><td>Refanezumab</td><td>The risk or severity of adverse effects can be increased when Cetuximab is combined with Refanezumab.</td></tr>",
                            "<tr><td>Cetuximab</td><td>Rozanolixizumab</td><td>The risk or severity of adverse effects can be increased when Cetuximab is combined with Rozanolixizumab.</td></tr>",
                            "<tr><td>Cetuximab</td><td>Bermekimab</td><td>The risk or severity of adverse effects can be increased when Cetuximab is combined with Bermekimab.</td></tr>",
                            "<tr><td>Cetuximab</td><td>Pamrevlumab</td><td>The risk or severity of adverse effects can be increased when Cetuximab is combined with Pamrevlumab.</td></tr>",
                            "<tr><td>Cetuximab</td><td>Opicinumab</td><td>The risk or severity of adverse effects can be increased when Cetuximab is combined with Opicinumab.</td></tr>",
                            "<tr><td>Cetuximab</td><td>Trastuzumab deruxtecan</td><td>The risk or severity of adverse effects can be increased when Cetuximab is combined with Trastuzumab deruxtecan.</td></tr>",
                            "<tr><td>Cetuximab</td><td>Margetuximab</td><td>The risk or severity of adverse effects can be increased when Cetuximab is combined with Margetuximab.</td></tr>",
                            "<tr><td>Cetuximab</td><td>Dalantercept</td><td>The risk or severity of adverse effects can be increased when Cetuximab is combined with Dalantercept.</td></tr>",
                            "<tr><td>Cetuximab</td><td>Pateclizumab</td><td>The risk or severity of adverse effects can be increased when Cetuximab is combined with Pateclizumab.</td></tr>",
                            "<tr><td>Cetuximab</td><td>Gremubamab</td><td>The risk or severity of adverse effects can be increased when Cetuximab is combined with Gremubamab.</td></tr>",
                            "<tr><td>Cetuximab</td><td>Apomab</td><td>The risk or severity of adverse effects can be increased when Cetuximab is combined with Apomab.</td></tr>",
                            "<tr><td>Cetuximab</td><td>Tafasitamab</td><td>The risk or severity of adverse effects can be increased when Cetuximab is combined with Tafasitamab.</td></tr>",
                            "<tr><td>Cetuximab</td><td>Ipafricept</td><td>The risk or severity of adverse effects can be increased when Cetuximab is combined with Ipafricept.</td></tr>",
                            "<tr><td>Cetuximab</td><td>Abrilumab</td><td>The risk or severity of adverse effects can be increased when Cetuximab is combined with Abrilumab.</td></tr>",
                            "<tr><td>Cetuximab</td><td>Frovocimab</td><td>The risk or severity of adverse effects can be increased when Cetuximab is combined with Frovocimab.</td></tr>",
                            "<tr><td>Cetuximab</td><td>Tezepelumab</td><td>The risk or severity of adverse effects can be increased when Cetuximab is combined with Tezepelumab.</td></tr>",
                            "<tr><td>Cetuximab</td><td>Tigatuzumab</td><td>The risk or severity of adverse effects can be increased when Cetuximab is combined with Tigatuzumab.</td></tr>",
                            "<tr><td>Cetuximab</td><td>Telisotuzumab vedotin</td><td>The risk or severity of adverse effects can be increased when Cetuximab is combined with Telisotuzumab vedotin.</td></tr>",
                            "<tr><td>Cetuximab</td><td>Utomilumab</td><td>The risk or severity of adverse effects can be increased when Cetuximab is combined with Utomilumab.</td></tr>",
                            "<tr><td>Cetuximab</td><td>Zolbetuximab</td><td>The risk or severity of adverse effects can be increased when Cetuximab is combined with Zolbetuximab.</td></tr>",
                            "<tr><td>Cetuximab</td><td>Ponezumab</td><td>The risk or severity of adverse effects can be increased when Cetuximab is combined with Ponezumab.</td></tr>",
                            "<tr><td>Cetuximab</td><td>Asunercept</td><td>The risk or severity of adverse effects can be increased when Cetuximab is combined with Asunercept.</td></tr>",
                            "<tr><td>Cetuximab</td><td>Suvratoxumab</td><td>The risk or severity of adverse effects can be increased when Cetuximab is combined with Suvratoxumab.</td></tr>",
                            "<tr><td>Cetuximab</td><td>Mitazalimab</td><td>The risk or severity of adverse effects can be increased when Cetuximab is combined with Mitazalimab.</td></tr>",
                            "<tr><td>Cetuximab</td><td>Nemolizumab</td><td>The risk or severity of adverse effects can be increased when Cetuximab is combined with Nemolizumab.</td></tr>",
                            "<tr><td>Cetuximab</td><td>Bleselumab</td><td>The risk or severity of adverse effects can be increased when Cetuximab is combined with Bleselumab.</td></tr>",
                            "<tr><td>Cetuximab</td><td>Gedivumab</td><td>The risk or severity of adverse effects can be increased when Cetuximab is combined with Gedivumab.</td></tr>",
                            "<tr><td>Cetuximab</td><td>Valanafusp alfa</td><td>The risk or severity of adverse effects can be increased when Cetuximab is combined with Valanafusp alfa.</td></tr>",
                            "<tr><td>Cetuximab</td><td>Sofituzumab vedotin</td><td>The risk or severity of adverse effects can be increased when Cetuximab is combined with Sofituzumab vedotin.</td></tr>",
                            "<tr><td>Cetuximab</td><td>Istiratumab</td><td>The risk or severity of adverse effects can be increased when Cetuximab is combined with Istiratumab.</td></tr>",
                            "<tr><td>Cetuximab</td><td>Pidilizumab</td><td>The risk or severity of adverse effects can be increased when Cetuximab is combined with Pidilizumab.</td></tr>",
                            "<tr><td>Cetuximab</td><td>GMA-161</td><td>The risk or severity of adverse effects can be increased when Cetuximab is combined with GMA-161.</td></tr>",
                            "<tr><td>Cetuximab</td><td>Ladiratuzumab vedotin</td><td>The risk or severity of adverse effects can be increased when Cetuximab is combined with Ladiratuzumab vedotin.</td></tr>",
                            "<tr><td>Cetuximab</td><td>Tomaralimab</td><td>The risk or severity of adverse effects can be increased when Cetuximab is combined with Tomaralimab.</td></tr>",
                            "<tr><td>Cetuximab</td><td>Vesencumab</td><td>The risk or severity of adverse effects can be increased when Cetuximab is combined with Vesencumab.</td></tr>",
                            "<tr><td>Cetuximab</td><td>Pinatuzumab vedotin</td><td>The risk or severity of adverse effects can be increased when Cetuximab is combined with Pinatuzumab vedotin.</td></tr>",
                            "<tr><td>Cetuximab</td><td>Lulizumab pegol</td><td>The risk or severity of adverse effects can be increased when Cetuximab is combined with Lulizumab pegol.</td></tr>",
                            "<tr><td>Cetuximab</td><td>Lorukafusp alfa</td><td>The risk or severity of adverse effects can be increased when Cetuximab is combined with Lorukafusp alfa.</td></tr>",
                            "<tr><td>Cetuximab</td><td>Naratuximab emtansine</td><td>The risk or severity of adverse effects can be increased when Cetuximab is combined with Naratuximab emtansine.</td></tr>",
                            "<tr><td>Cetuximab</td><td>Zenocutuzumab</td><td>The risk or severity of adverse effects can be increased when Cetuximab is combined with Zenocutuzumab.</td></tr>",
                            "<tr><td>Cetuximab</td><td>Atoltivimab</td><td>The risk or severity of adverse effects can be increased when Cetuximab is combined with Atoltivimab.</td></tr>",
                            "<tr><td>Cetuximab</td><td>Maftivimab</td><td>The risk or severity of adverse effects can be increased when Cetuximab is combined with Maftivimab.</td></tr>",
                            "<tr><td>Cetuximab</td><td>Odesivimab</td><td>The risk or severity of adverse effects can be increased when Cetuximab is combined with Odesivimab.</td></tr>",
                            "<tr><td>Cetuximab</td><td>Belantamab mafodotin</td><td>The risk or severity of adverse effects can be increased when Cetuximab is combined with Belantamab mafodotin.</td></tr>",
                            "<tr><td>Cetuximab</td><td>Ansuvimab</td><td>The risk or severity of adverse effects can be increased when Cetuximab is combined with Ansuvimab.</td></tr>",
                            "<tr><td>Cetuximab</td><td>Bamlanivimab</td><td>The risk or severity of adverse effects can be increased when Cetuximab is combined with Bamlanivimab.</td></tr>",
                            "<tr><td>Cetuximab</td><td>Hepatitis B immune globulin</td><td>The risk or severity of adverse effects can be increased when Cetuximab is combined with Hepatitis B immune globulin.</td></tr>",
                            "<tr><td>Cetuximab</td><td>Human Rho(D) immune globulin</td><td>The risk or severity of adverse effects can be increased when Cetuximab is combined with Human Rho(D) immune globulin.</td></tr>",
                            "<tr><td>Cetuximab</td><td>Dostarlimab</td><td>The risk or severity of adverse effects can be increased when Cetuximab is combined with Dostarlimab.</td></tr>",
                            "<tr><td>Cetuximab</td><td>Certolizumab pegol</td><td>The risk or severity of adverse effects can be increased when Cetuximab is combined with Certolizumab pegol.</td></tr>",
                            "<tr><td>Cetuximab</td><td>Inolimomab</td><td>The risk or severity of adverse effects can be increased when Cetuximab is combined with Inolimomab.</td></tr>",
                            "<tr><td>Cetuximab</td><td>Pentaglobin</td><td>The risk or severity of adverse effects can be increased when Cetuximab is combined with Pentaglobin.</td></tr>",
                            "<tr><td>Cetuximab</td><td>Abagovomab</td><td>The risk or severity of adverse effects can be increased when Cetuximab is combined with Abagovomab.</td></tr>",
                            "<tr><td>Cetuximab</td><td>Efungumab</td><td>The risk or severity of adverse effects can be increased when Cetuximab is combined with Efungumab.</td></tr>",
                            "<tr><td>Cetuximab</td><td>Foralumab</td><td>The risk or severity of adverse effects can be increased when Cetuximab is combined with Foralumab.</td></tr>",
                            "<tr><td>Cetuximab</td><td>Indatuximab ravtansine</td><td>The risk or severity of adverse effects can be increased when Cetuximab is combined with Indatuximab ravtansine.</td></tr>",
                            "<tr><td>Cetuximab</td><td>Magrolimab</td><td>The risk or severity of adverse effects can be increased when Cetuximab is combined with Magrolimab.</td></tr>",
                            "<tr><td>Cetuximab</td><td>Olinvacimab</td><td>The risk or severity of adverse effects can be increased when Cetuximab is combined with Olinvacimab.</td></tr>",
                            "<tr><td>Cetuximab</td><td>Actoxumab</td><td>The risk or severity of adverse effects can be increased when Cetuximab is combined with Actoxumab.</td></tr>",
                            "<tr><td>Cetuximab</td><td>Volagidemab</td><td>The risk or severity of adverse effects can be increased when Cetuximab is combined with Volagidemab.</td></tr>",
                            "<tr><td>Cetuximab</td><td>Bentracimab</td><td>The risk or severity of adverse effects can be increased when Cetuximab is combined with Bentracimab.</td></tr>",
                            "<tr><td>Cetuximab</td><td>Amivantamab</td><td>The risk or severity of adverse effects can be increased when Cetuximab is combined with Amivantamab.</td></tr>",
                            "<tr><td>Cetuximab</td><td>Ebola Zaire vaccine (live, attenuated)</td><td>The therapeutic efficacy of Ebola Zaire vaccine (live, attenuated) can be decreased when used in combination with Cetuximab.</td></tr>",
                            "<tr><td>Cetuximab</td><td>Imlifidase</td><td>The therapeutic efficacy of Cetuximab can be decreased when used in combination with Imlifidase.</td></tr>",
                            "<tr><td>Cetuximab</td><td>Darbepoetin alfa</td><td>The risk or severity of Thrombosis can be increased when Darbepoetin alfa is combined with Cetuximab.</td></tr>",
                            "<tr><td>Cetuximab</td><td>Erythropoietin</td><td>The risk or severity of Thrombosis can be increased when Erythropoietin is combined with Cetuximab.</td></tr>",
                            "<tr><td>Cetuximab</td><td>Peginesatide</td><td>The risk or severity of Thrombosis can be increased when Peginesatide is combined with Cetuximab.</td></tr>",
                            "<tr><td>Cetuximab</td><td>Methoxy polyethylene glycol-epoetin beta</td><td>The risk or severity of Thrombosis can be increased when Methoxy polyethylene glycol-epoetin beta is combined with Cetuximab.</td></tr>",
                            "<tr><td>Cetuximab</td><td>Imdevimab</td><td>The risk or severity of adverse effects can be increased when Cetuximab is combined with Imdevimab.</td></tr>",
                            "<tr><td>Cetuximab</td><td>Casirivimab</td><td>The risk or severity of adverse effects can be increased when Cetuximab is combined with Casirivimab.</td></tr>",
                            "<tr><td>Cetuximab</td><td>Cilgavimab</td><td>The risk or severity of adverse effects can be increased when Cetuximab is combined with Cilgavimab.</td></tr>",
                            "<tr><td>Cetuximab</td><td>Tixagevimab</td><td>The risk or severity of adverse effects can be increased when Cetuximab is combined with Tixagevimab.</td></tr>",
                            "<tr><td>Cetuximab</td><td>Sotrovimab</td><td>The risk or severity of adverse effects can be increased when Cetuximab is combined with Sotrovimab.</td></tr>",
                            "<tr><td>Cetuximab</td><td>Loncastuximab tesirine</td><td>The risk or severity of adverse effects can be increased when Cetuximab is combined with Loncastuximab tesirine.</td></tr>",
                            "<tr><td>Cetuximab</td><td>Tisotumab vedotin</td><td>The risk or severity of adverse effects can be increased when Cetuximab is combined with Tisotumab vedotin.</td></tr>",
                            "<tr><td>Cetuximab</td><td>Sutimlimab</td><td>The risk or severity of adverse effects can be increased when Cetuximab is combined with Sutimlimab.</td></tr>",
                            "<tr><td>Cetuximab</td><td>Bebtelovimab</td><td>The risk or severity of adverse effects can be increased when Cetuximab is combined with Bebtelovimab.</td></tr>",
                            "<tr><td>Cetuximab</td><td>Mosunetuzumab</td><td>The risk or severity of adverse effects can be increased when Cetuximab is combined with Mosunetuzumab.</td></tr>",
                            "<tr><td>Cetuximab</td><td>Spesolimab</td><td>The risk or severity of adverse effects can be increased when Cetuximab is combined with Spesolimab.</td></tr>",
                            "<tr><td>Cetuximab</td><td>Eflapegrastim</td><td>The risk or severity of adverse effects can be increased when Cetuximab is combined with Eflapegrastim.</td></tr>",
                            "<tr><td>Cetuximab</td><td>Lidocaine</td><td>The risk or severity of methemoglobinemia can be increased when Cetuximab is combined with Lidocaine.</td></tr>",
                            "<tr><td>Cetuximab</td><td>Ropivacaine</td><td>The risk or severity of methemoglobinemia can be increased when Cetuximab is combined with Ropivacaine.</td></tr>",
                            "<tr><td>Cetuximab</td><td>Bupivacaine</td><td>The risk or severity of methemoglobinemia can be increased when Cetuximab is combined with Bupivacaine.</td></tr>",
                            "<tr><td>Cetuximab</td><td>Cinchocaine</td><td>The risk or severity of methemoglobinemia can be increased when Cetuximab is combined with Cinchocaine.</td></tr>",
                            "<tr><td>Cetuximab</td><td>Dyclonine</td><td>The risk or severity of methemoglobinemia can be increased when Cetuximab is combined with Dyclonine.</td></tr>",
                            "<tr><td>Cetuximab</td><td>Procaine</td><td>The risk or severity of methemoglobinemia can be increased when Cetuximab is combined with Procaine.</td></tr>",
                            "<tr><td>Cetuximab</td><td>Prilocaine</td><td>The risk or severity of methemoglobinemia can be increased when Cetuximab is combined with Prilocaine.</td></tr>",
                            "<tr><td>Cetuximab</td><td>Proparacaine</td><td>The risk or severity of methemoglobinemia can be increased when Cetuximab is combined with Proparacaine.</td></tr>",
                            "<tr><td>Cetuximab</td><td>Meloxicam</td><td>The risk or severity of methemoglobinemia can be increased when Cetuximab is combined with Meloxicam.</td></tr>",
                            "<tr><td>Cetuximab</td><td>Oxybuprocaine</td><td>The risk or severity of methemoglobinemia can be increased when Cetuximab is combined with Oxybuprocaine.</td></tr>",
                            "<tr><td>Cetuximab</td><td>Cocaine</td><td>The risk or severity of methemoglobinemia can be increased when Cetuximab is combined with Cocaine.</td></tr>",
                            "<tr><td>Cetuximab</td><td>Mepivacaine</td><td>The risk or severity of methemoglobinemia can be increased when Cetuximab is combined with Mepivacaine.</td></tr>",
                            "<tr><td>Cetuximab</td><td>Levobupivacaine</td><td>The risk or severity of methemoglobinemia can be increased when Cetuximab is combined with Levobupivacaine.</td></tr>",
                            "<tr><td>Cetuximab</td><td>Diphenhydramine</td><td>The risk or severity of methemoglobinemia can be increased when Cetuximab is combined with Diphenhydramine.</td></tr>",
                            "<tr><td>Cetuximab</td><td>Benzocaine</td><td>The risk or severity of methemoglobinemia can be increased when Cetuximab is combined with Benzocaine.</td></tr>",
                            "<tr><td>Cetuximab</td><td>Chloroprocaine</td><td>The risk or severity of methemoglobinemia can be increased when Cetuximab is combined with Chloroprocaine.</td></tr>",
                            "<tr><td>Cetuximab</td><td>Phenol</td><td>The risk or severity of methemoglobinemia can be increased when Cetuximab is combined with Phenol.</td></tr>",
                            "<tr><td>Cetuximab</td><td>Tetrodotoxin</td><td>The risk or severity of methemoglobinemia can be increased when Cetuximab is combined with Tetrodotoxin.</td></tr>",
                            "<tr><td>Cetuximab</td><td>Benzyl alcohol</td><td>The risk or severity of methemoglobinemia can be increased when Cetuximab is combined with Benzyl alcohol.</td></tr>",
                            "<tr><td>Cetuximab</td><td>Capsaicin</td><td>The risk or severity of methemoglobinemia can be increased when Cetuximab is combined with Capsaicin.</td></tr>",
                            "<tr><td>Cetuximab</td><td>Etidocaine</td><td>The risk or severity of methemoglobinemia can be increased when Cetuximab is combined with Etidocaine.</td></tr>",
                            "<tr><td>Cetuximab</td><td>Articaine</td><td>The risk or severity of methemoglobinemia can be increased when Cetuximab is combined with Articaine.</td></tr>",
                            "<tr><td>Cetuximab</td><td>Tetracaine</td><td>The risk or severity of methemoglobinemia can be increased when Cetuximab is combined with Tetracaine.</td></tr>",
                            "<tr><td>Cetuximab</td><td>Propoxycaine</td><td>The risk or severity of methemoglobinemia can be increased when Cetuximab is combined with Propoxycaine.</td></tr>",
                            "<tr><td>Cetuximab</td><td>Pramocaine</td><td>The risk or severity of methemoglobinemia can be increased when Cetuximab is combined with Pramocaine.</td></tr>",
                            "<tr><td>Cetuximab</td><td>Butamben</td><td>The risk or severity of methemoglobinemia can be increased when Cetuximab is combined with Butamben.</td></tr>",
                            "<tr><td>Cetuximab</td><td>Butacaine</td><td>The risk or severity of methemoglobinemia can be increased when Cetuximab is combined with Butacaine.</td></tr>",
                            "<tr><td>Cetuximab</td><td>Oxetacaine</td><td>The risk or severity of methemoglobinemia can be increased when Cetuximab is combined with Oxetacaine.</td></tr>",
                            "<tr><td>Cetuximab</td><td>Ethyl chloride</td><td>The risk or severity of methemoglobinemia can be increased when Cetuximab is combined with Ethyl chloride.</td></tr>",
                            "<tr><td>Cetuximab</td><td>Butanilicaine</td><td>The risk or severity of methemoglobinemia can be increased when Cetuximab is combined with Butanilicaine.</td></tr>",
                            "<tr><td>Cetuximab</td><td>Metabutethamine</td><td>The risk or severity of methemoglobinemia can be increased when Cetuximab is combined with Metabutethamine.</td></tr>",
                            "<tr><td>Cetuximab</td><td>Quinisocaine</td><td>The risk or severity of methemoglobinemia can be increased when Cetuximab is combined with Quinisocaine.</td></tr>",
                            "</table>"
                        ]
                    }
                }
            ],
            "execution_count": 2
        },
        {
            "cell_type": "markdown",
            "source": [
                "## 2\\. Drug-pair interaction checker\r\n",
                "\r\n",
                "Find all known drug interactions in literature for a given pair of drugs. \r\n",
                "Suppose, in this case, we take Heparin (atc: B01AB51) and Cyclosporine (atc: L04AD01)"
            ],
            "metadata": {
                "language": "sql",
                "azdata_cell_guid": "2bda2b8f-c310-4d46-87cb-d9f378297c9c"
            },
            "attachments": {}
        },
        {
            "cell_type": "code",
            "source": [
                "SELECT Drug1.name AS 'Source Drug', Drug2.name AS 'Interacting Drug', [dbo].[drug_drug_edges].[desc] AS 'Effect of Interaction'\r\n",
                "FROM drug_nodes Drug1, drug_drug_edges, drug_nodes Drug2\r\n",
                "WHERE MATCH(Drug1-(drug_drug_edges)->Drug2)\r\n",
                "AND Drug1.atc = 'B01AB51'\r\n",
                "AND Drug2.atc = 'L04AD01'"
            ],
            "metadata": {
                "language": "sql",
                "azdata_cell_guid": "81109ee0-a729-489f-a2bf-e365426e1ca5",
                "tags": []
            },
            "outputs": [
                {
                    "output_type": "display_data",
                    "data": {
                        "text/html": "(1 row affected)"
                    },
                    "metadata": {}
                },
                {
                    "output_type": "display_data",
                    "data": {
                        "text/html": "Total execution time: 00:00:00.316"
                    },
                    "metadata": {}
                },
                {
                    "output_type": "execute_result",
                    "metadata": {},
                    "execution_count": 3,
                    "data": {
                        "application/vnd.dataresource+json": {
                            "schema": {
                                "fields": [
                                    {
                                        "name": "Source Drug"
                                    },
                                    {
                                        "name": "Interacting Drug"
                                    },
                                    {
                                        "name": "Effect of Interaction"
                                    }
                                ]
                            },
                            "data": [
                                {
                                    "Source Drug": "Heparin",
                                    "Interacting Drug": "Cyclosporine",
                                    "Effect of Interaction": "The risk or severity of hyperkalemia can be increased when Cyclosporine is combined with Heparin."
                                }
                            ]
                        },
                        "text/html": [
                            "<table>",
                            "<tr><th>Source Drug</th><th>Interacting Drug</th><th>Effect of Interaction</th></tr>",
                            "<tr><td>Heparin</td><td>Cyclosporine</td><td>The risk or severity of hyperkalemia can be increased when Cyclosporine is combined with Heparin.</td></tr>",
                            "</table>"
                        ]
                    }
                }
            ],
            "execution_count": 3
        },
        {
            "cell_type": "markdown",
            "source": [
                "## 3\\. Drug-set interaction checker\n",
                "\n",
                "Find all known drug interactions in literature for a given set of drugs used in combination.\n",
                "The following is an example in Neurologie. \n",
                ""
            ],
            "metadata": {
                "language": "sql",
                "azdata_cell_guid": "866040a3-ca90-47aa-8831-16dad5e1ba43"
            },
            "attachments": {}
        },
        {
            "cell_type": "code",
            "source": [
                "DECLARE @drugSet_neurologie TABLE ([atc] NVARCHAR(8))\r\n",
                "INSERT INTO @drugSet_neurologie VALUES ('C10AA05'),('A11DA01'),('A11HA02'),('B01AC06'),('N05BA09')\r\n",
                "\r\n",
                "DROP TABLE IF EXISTS #DDI_temp\r\n",
                "\r\n",
                "SELECT ROW_NUMBER() OVER(Partition BY Drug2.name ORDER BY Drug2.name) as RowNum, Drug1.name AS 'Source Drug', Drug2.name AS 'Interacting Drug', [dbo].[drug_drug_edges].[desc] AS 'Effect of Interaction'\r\n",
                "INTO #DDI_temp\r\n",
                "FROM drug_nodes Drug1, drug_drug_edges, drug_nodes Drug2\r\n",
                "WHERE MATCH(Drug1-(drug_drug_edges)->Drug2)\r\n",
                "AND Drug1.atc IN (SELECT atc FROM @drugSet_neurologie)\r\n",
                "AND Drug2.atc IN (SELECT atc FROM @drugSet_neurologie)\r\n",
                "\r\n",
                "SELECT [Source Drug],[Interacting Drug],[Effect of Interaction] FROM #DDI_temp WHERE RowNum=1"
            ],
            "metadata": {
                "language": "sql",
                "azdata_cell_guid": "0790add8-77b9-4015-a48e-f0f2d2b7349a",
                "tags": []
            },
            "outputs": [
                {
                    "output_type": "display_data",
                    "data": {
                        "text/html": "(5 rows affected)"
                    },
                    "metadata": {}
                },
                {
                    "output_type": "display_data",
                    "data": {
                        "text/html": "(2 rows affected)"
                    },
                    "metadata": {}
                },
                {
                    "output_type": "display_data",
                    "data": {
                        "text/html": "(2 rows affected)"
                    },
                    "metadata": {}
                },
                {
                    "output_type": "display_data",
                    "data": {
                        "text/html": "Total execution time: 00:00:01.151"
                    },
                    "metadata": {}
                },
                {
                    "output_type": "execute_result",
                    "metadata": {},
                    "execution_count": 4,
                    "data": {
                        "application/vnd.dataresource+json": {
                            "schema": {
                                "fields": [
                                    {
                                        "name": "Source Drug"
                                    },
                                    {
                                        "name": "Interacting Drug"
                                    },
                                    {
                                        "name": "Effect of Interaction"
                                    }
                                ]
                            },
                            "data": [
                                {
                                    "Source Drug": "Clobazam",
                                    "Interacting Drug": "Acetylsalicylic acid",
                                    "Effect of Interaction": "Acetylsalicylic acid may decrease the excretion rate of Clobazam which could result in a higher serum level."
                                },
                                {
                                    "Source Drug": "Acetylsalicylic acid",
                                    "Interacting Drug": "Clobazam",
                                    "Effect of Interaction": "Acetylsalicylic acid may decrease the excretion rate of Clobazam which could result in a higher serum level."
                                }
                            ]
                        },
                        "text/html": [
                            "<table>",
                            "<tr><th>Source Drug</th><th>Interacting Drug</th><th>Effect of Interaction</th></tr>",
                            "<tr><td>Clobazam</td><td>Acetylsalicylic acid</td><td>Acetylsalicylic acid may decrease the excretion rate of Clobazam which could result in a higher serum level.</td></tr>",
                            "<tr><td>Acetylsalicylic acid</td><td>Clobazam</td><td>Acetylsalicylic acid may decrease the excretion rate of Clobazam which could result in a higher serum level.</td></tr>",
                            "</table>"
                        ]
                    }
                }
            ],
            "execution_count": 4
        },
        {
            "cell_type": "markdown",
            "source": [
                "The following is an example in Hematologie."
            ],
            "metadata": {
                "language": "sql",
                "azdata_cell_guid": "11efe480-5de2-45e7-8a3d-48879ebcd3d6"
            },
            "attachments": {}
        },
        {
            "cell_type": "code",
            "source": [
                "DECLARE @drugSet_hematologie TABLE ([atc] NVARCHAR(8))\r\n",
                "INSERT INTO @drugSet_hematologie VALUES ('L04AD01'),('B02BA01'),('J01DE01'),('J02AC01'),('B05XA05')\r\n",
                "\r\n",
                "DROP TABLE IF EXISTS #DDI_temp\r\n",
                "\r\n",
                "SELECT ROW_NUMBER() OVER(Partition BY Drug2.name ORDER BY Drug2.name) as RowNum, Drug1.name AS 'Source Drug', Drug2.name AS 'Interacting Drug', [dbo].[drug_drug_edges].[desc] AS 'Effect of Interaction'\r\n",
                "INTO #DDI_temp\r\n",
                "FROM drug_nodes Drug1, drug_drug_edges, drug_nodes Drug2\r\n",
                "WHERE MATCH(Drug1-(drug_drug_edges)->Drug2)\r\n",
                "AND Drug1.atc IN (SELECT atc FROM @drugSet_hematologie)\r\n",
                "AND Drug2.atc IN (SELECT atc FROM @drugSet_hematologie)\r\n",
                "\r\n",
                "SELECT [Source Drug],[Interacting Drug],[Effect of Interaction] FROM #DDI_temp WHERE RowNum=1"
            ],
            "metadata": {
                "language": "sql",
                "azdata_cell_guid": "3fd266bd-396f-43b1-8199-8bf4e922e320",
                "tags": [
                    "hide_input"
                ]
            },
            "outputs": [
                {
                    "output_type": "display_data",
                    "data": {
                        "text/html": "(5 rows affected)"
                    },
                    "metadata": {}
                },
                {
                    "output_type": "display_data",
                    "data": {
                        "text/html": "(6 rows affected)"
                    },
                    "metadata": {}
                },
                {
                    "output_type": "display_data",
                    "data": {
                        "text/html": "(3 rows affected)"
                    },
                    "metadata": {}
                },
                {
                    "output_type": "display_data",
                    "data": {
                        "text/html": "Total execution time: 00:00:01.133"
                    },
                    "metadata": {}
                },
                {
                    "output_type": "execute_result",
                    "metadata": {},
                    "execution_count": 5,
                    "data": {
                        "application/vnd.dataresource+json": {
                            "schema": {
                                "fields": [
                                    {
                                        "name": "Source Drug"
                                    },
                                    {
                                        "name": "Interacting Drug"
                                    },
                                    {
                                        "name": "Effect of Interaction"
                                    }
                                ]
                            },
                            "data": [
                                {
                                    "Source Drug": "Cyclosporine",
                                    "Interacting Drug": "Cefepime",
                                    "Effect of Interaction": "The risk or severity of nephrotoxicity can be increased when Cyclosporine is combined with Cefepime."
                                },
                                {
                                    "Source Drug": "Cefepime",
                                    "Interacting Drug": "Cyclosporine",
                                    "Effect of Interaction": "The risk or severity of nephrotoxicity can be increased when Cyclosporine is combined with Cefepime."
                                },
                                {
                                    "Source Drug": "Cefepime",
                                    "Interacting Drug": "Phylloquinone",
                                    "Effect of Interaction": "Cefepime may decrease the excretion rate of Phylloquinone which could result in a higher serum level."
                                }
                            ]
                        },
                        "text/html": [
                            "<table>",
                            "<tr><th>Source Drug</th><th>Interacting Drug</th><th>Effect of Interaction</th></tr>",
                            "<tr><td>Cyclosporine</td><td>Cefepime</td><td>The risk or severity of nephrotoxicity can be increased when Cyclosporine is combined with Cefepime.</td></tr>",
                            "<tr><td>Cefepime</td><td>Cyclosporine</td><td>The risk or severity of nephrotoxicity can be increased when Cyclosporine is combined with Cefepime.</td></tr>",
                            "<tr><td>Cefepime</td><td>Phylloquinone</td><td>Cefepime may decrease the excretion rate of Phylloquinone which could result in a higher serum level.</td></tr>",
                            "</table>"
                        ]
                    }
                }
            ],
            "execution_count": 5
        },
        {
            "cell_type": "markdown",
            "source": [
                "Cardiologie"
            ],
            "metadata": {
                "language": "sql",
                "azdata_cell_guid": "838b9cd2-6632-47d1-8f49-c0f4c917ace3"
            },
            "attachments": {}
        },
        {
            "cell_type": "code",
            "source": [
                "DECLARE @drugSet_cardio TABLE ([atc] NVARCHAR(8))\r\n",
                "INSERT INTO @drugSet_cardio VALUES ('N02BE01'),('A02BC03'),('C03CA01'),('B01AC06'),('C07AB07')\r\n",
                "\r\n",
                "DROP TABLE IF EXISTS #DDI_temp\r\n",
                "\r\n",
                "SELECT ROW_NUMBER() OVER(Partition BY Drug2.name ORDER BY Drug2.name) as RowNum, Drug1.name AS 'Source Drug', Drug2.name AS 'Interacting Drug', [dbo].[drug_drug_edges].[desc] AS 'Effect of Interaction'\r\n",
                "INTO #DDI_temp\r\n",
                "FROM drug_nodes Drug1, drug_drug_edges, drug_nodes Drug2\r\n",
                "WHERE MATCH(Drug1-(drug_drug_edges)->Drug2)\r\n",
                "AND Drug1.atc IN (SELECT atc FROM @drugSet_cardio)\r\n",
                "AND Drug2.atc IN (SELECT atc FROM @drugSet_cardio)\r\n",
                "\r\n",
                "SELECT [Source Drug],[Interacting Drug],[Effect of Interaction] FROM #DDI_temp WHERE RowNum=1"
            ],
            "metadata": {
                "language": "sql",
                "azdata_cell_guid": "58e1b490-722c-4643-9bea-96349f273e5a",
                "tags": [
                    "hide_input"
                ]
            },
            "outputs": [
                {
                    "output_type": "display_data",
                    "data": {
                        "text/html": "(5 rows affected)"
                    },
                    "metadata": {}
                },
                {
                    "output_type": "display_data",
                    "data": {
                        "text/html": "(2 rows affected)"
                    },
                    "metadata": {}
                },
                {
                    "output_type": "display_data",
                    "data": {
                        "text/html": "(2 rows affected)"
                    },
                    "metadata": {}
                },
                {
                    "output_type": "display_data",
                    "data": {
                        "text/html": "Total execution time: 00:00:01.320"
                    },
                    "metadata": {}
                },
                {
                    "output_type": "execute_result",
                    "metadata": {},
                    "execution_count": 6,
                    "data": {
                        "application/vnd.dataresource+json": {
                            "schema": {
                                "fields": [
                                    {
                                        "name": "Source Drug"
                                    },
                                    {
                                        "name": "Interacting Drug"
                                    },
                                    {
                                        "name": "Effect of Interaction"
                                    }
                                ]
                            },
                            "data": [
                                {
                                    "Source Drug": "Lansoprazole",
                                    "Interacting Drug": "Acetylsalicylic acid",
                                    "Effect of Interaction": "The metabolism of Acetylsalicylic acid can be decreased when combined with Lansoprazole."
                                },
                                {
                                    "Source Drug": "Acetylsalicylic acid",
                                    "Interacting Drug": "Lansoprazole",
                                    "Effect of Interaction": "The metabolism of Acetylsalicylic acid can be decreased when combined with Lansoprazole."
                                }
                            ]
                        },
                        "text/html": [
                            "<table>",
                            "<tr><th>Source Drug</th><th>Interacting Drug</th><th>Effect of Interaction</th></tr>",
                            "<tr><td>Lansoprazole</td><td>Acetylsalicylic acid</td><td>The metabolism of Acetylsalicylic acid can be decreased when combined with Lansoprazole.</td></tr>",
                            "<tr><td>Acetylsalicylic acid</td><td>Lansoprazole</td><td>The metabolism of Acetylsalicylic acid can be decreased when combined with Lansoprazole.</td></tr>",
                            "</table>"
                        ]
                    }
                }
            ],
            "execution_count": 6
        },
        {
            "cell_type": "markdown",
            "source": [
                "Infectious diseases"
            ],
            "metadata": {
                "language": "sql",
                "azdata_cell_guid": "bb992de5-8acc-4ae9-aea0-e61f5310b1dd"
            },
            "attachments": {}
        },
        {
            "cell_type": "code",
            "source": [
                "DECLARE @drugSet_malinf TABLE ([atc] NVARCHAR(8))\r\n",
                "INSERT INTO @drugSet_malinf VALUES ('N02BE01'),('C03CA01'),('B01AF02'),('A12BA01'),('J01CA04')\r\n",
                "\r\n",
                "DROP TABLE IF EXISTS #DDI_temp\r\n",
                "\r\n",
                "SELECT ROW_NUMBER() OVER(Partition BY Drug2.name ORDER BY Drug2.name) as RowNum, Drug1.name AS 'Source Drug', Drug2.name AS 'Interacting Drug', [dbo].[drug_drug_edges].[desc] AS 'Effect of Interaction'\r\n",
                "INTO #DDI_temp\r\n",
                "FROM drug_nodes Drug1, drug_drug_edges, drug_nodes Drug2\r\n",
                "WHERE MATCH(Drug1-(drug_drug_edges)->Drug2)\r\n",
                "AND Drug1.atc IN (SELECT atc FROM @drugSet_malinf)\r\n",
                "AND Drug2.atc IN (SELECT atc FROM @drugSet_malinf)\r\n",
                "\r\n",
                "SELECT [Source Drug],[Interacting Drug],[Effect of Interaction] FROM #DDI_temp WHERE RowNum=1"
            ],
            "metadata": {
                "language": "sql",
                "azdata_cell_guid": "7f0b7874-a277-468e-aa3d-ed7c4fe01a06",
                "tags": [
                    "hide_input"
                ]
            },
            "outputs": [
                {
                    "output_type": "display_data",
                    "data": {
                        "text/html": "(5 rows affected)"
                    },
                    "metadata": {}
                },
                {
                    "output_type": "display_data",
                    "data": {
                        "text/html": "(0 rows affected)"
                    },
                    "metadata": {}
                },
                {
                    "output_type": "display_data",
                    "data": {
                        "text/html": "(0 rows affected)"
                    },
                    "metadata": {}
                },
                {
                    "output_type": "display_data",
                    "data": {
                        "text/html": "Total execution time: 00:00:01.332"
                    },
                    "metadata": {}
                },
                {
                    "output_type": "execute_result",
                    "metadata": {},
                    "execution_count": 7,
                    "data": {
                        "application/vnd.dataresource+json": {
                            "schema": {
                                "fields": [
                                    {
                                        "name": "Source Drug"
                                    },
                                    {
                                        "name": "Interacting Drug"
                                    },
                                    {
                                        "name": "Effect of Interaction"
                                    }
                                ]
                            },
                            "data": []
                        },
                        "text/html": [
                            "<table>",
                            "<tr><th>Source Drug</th><th>Interacting Drug</th><th>Effect of Interaction</th></tr>",
                            "</table>"
                        ]
                    }
                }
            ],
            "execution_count": 7
        },
        {
            "cell_type": "markdown",
            "source": [
                "## 4\\. Drug-gene interaction checker\n",
                "\n",
                "\n",
                "Find all known drug-gene interactions in literature for a given drug atc.\\\n",
                "Here, we again use Cyclosporine."
            ],
            "metadata": {
                "language": "",
                "azdata_cell_guid": "c9ea372b-6f07-4c1c-9307-36999b4bd0ad"
            },
            "attachments": {}
        },
        {
            "cell_type": "code",
            "source": [
                "SELECT Drug1.name AS [Drug 1], Genes.gene_names, drug_gene_edges.action\r\n",
                "FROM drug_nodes Drug1, drug_gene_edges, gene_nodes Genes\r\n",
                "WHERE MATCH(Drug1-(drug_gene_edges)->Genes)\r\n",
                "AND Drug1.atc = 'L04AD01'"
            ],
            "metadata": {
                "language": "sql",
                "azdata_cell_guid": "a755ddaa-90ee-4b27-b3a4-96e190a88e07"
            },
            "outputs": [
                {
                    "output_type": "display_data",
                    "data": {
                        "text/html": "(12 rows affected)"
                    },
                    "metadata": {}
                },
                {
                    "output_type": "display_data",
                    "data": {
                        "text/html": "Total execution time: 00:00:00.133"
                    },
                    "metadata": {}
                },
                {
                    "output_type": "execute_result",
                    "metadata": {},
                    "execution_count": 8,
                    "data": {
                        "application/vnd.dataresource+json": {
                            "schema": {
                                "fields": [
                                    {
                                        "name": "Drug 1"
                                    },
                                    {
                                        "name": "gene_names"
                                    },
                                    {
                                        "name": "action"
                                    }
                                ]
                            },
                            "data": [
                                {
                                    "Drug 1": "Cyclosporine",
                                    "gene_names": "CAMLG",
                                    "action": "binder"
                                },
                                {
                                    "Drug 1": "Cyclosporine",
                                    "gene_names": "CAML",
                                    "action": "binder"
                                },
                                {
                                    "Drug 1": "Cyclosporine",
                                    "gene_names": "GET2",
                                    "action": "binder"
                                },
                                {
                                    "Drug 1": "Cyclosporine",
                                    "gene_names": "PPP3R2",
                                    "action": "inhibitor"
                                },
                                {
                                    "Drug 1": "Cyclosporine",
                                    "gene_names": "CBLP",
                                    "action": "inhibitor"
                                },
                                {
                                    "Drug 1": "Cyclosporine",
                                    "gene_names": "PPP3RL",
                                    "action": "inhibitor"
                                },
                                {
                                    "Drug 1": "Cyclosporine",
                                    "gene_names": "PPIA",
                                    "action": "inhibitor"
                                },
                                {
                                    "Drug 1": "Cyclosporine",
                                    "gene_names": "CYPA",
                                    "action": "inhibitor"
                                },
                                {
                                    "Drug 1": "Cyclosporine",
                                    "gene_names": "PPIA",
                                    "action": "binder"
                                },
                                {
                                    "Drug 1": "Cyclosporine",
                                    "gene_names": "CYPA",
                                    "action": "binder"
                                },
                                {
                                    "Drug 1": "Cyclosporine",
                                    "gene_names": "PPIF",
                                    "action": "binder"
                                },
                                {
                                    "Drug 1": "Cyclosporine",
                                    "gene_names": "CYP3",
                                    "action": "binder"
                                }
                            ]
                        },
                        "text/html": [
                            "<table>",
                            "<tr><th>Drug 1</th><th>gene_names</th><th>action</th></tr>",
                            "<tr><td>Cyclosporine</td><td>CAMLG</td><td>binder</td></tr>",
                            "<tr><td>Cyclosporine</td><td>CAML</td><td>binder</td></tr>",
                            "<tr><td>Cyclosporine</td><td>GET2</td><td>binder</td></tr>",
                            "<tr><td>Cyclosporine</td><td>PPP3R2</td><td>inhibitor</td></tr>",
                            "<tr><td>Cyclosporine</td><td>CBLP</td><td>inhibitor</td></tr>",
                            "<tr><td>Cyclosporine</td><td>PPP3RL</td><td>inhibitor</td></tr>",
                            "<tr><td>Cyclosporine</td><td>PPIA</td><td>inhibitor</td></tr>",
                            "<tr><td>Cyclosporine</td><td>CYPA</td><td>inhibitor</td></tr>",
                            "<tr><td>Cyclosporine</td><td>PPIA</td><td>binder</td></tr>",
                            "<tr><td>Cyclosporine</td><td>CYPA</td><td>binder</td></tr>",
                            "<tr><td>Cyclosporine</td><td>PPIF</td><td>binder</td></tr>",
                            "<tr><td>Cyclosporine</td><td>CYP3</td><td>binder</td></tr>",
                            "</table>"
                        ]
                    }
                }
            ],
            "execution_count": 8
        },
        {
            "cell_type": "code",
            "source": [
                "SELECT Drug1.name AS [Drug 1], Genes.gene_names AS targets, Genes.uniprotkb_id,Drug2.name AS [Drug 2]\r\n",
                "FROM drug_nodes Drug1, drug_gene_edges dge1, gene_nodes Genes, drug_gene_edges dge2, drug_nodes Drug2\r\n",
                "WHERE MATCH(Drug1-(dge1)->Genes<-(dge2)-Drug2)\r\n",
                "AND Drug1.atc = 'L04AD01'\r\n",
                "AND Drug2.atc != Drug1.atc\r\n",
                "ORDER BY [targets] ASC"
            ],
            "metadata": {
                "language": "sql",
                "azdata_cell_guid": "9d867c20-a8e2-4d0f-bbc0-da3327e7c049"
            },
            "outputs": [
                {
                    "output_type": "display_data",
                    "data": {
                        "text/html": "(10 rows affected)"
                    },
                    "metadata": {}
                },
                {
                    "output_type": "display_data",
                    "data": {
                        "text/html": "Total execution time: 00:00:00.044"
                    },
                    "metadata": {}
                },
                {
                    "output_type": "execute_result",
                    "metadata": {},
                    "execution_count": 9,
                    "data": {
                        "application/vnd.dataresource+json": {
                            "schema": {
                                "fields": [
                                    {
                                        "name": "Drug 1"
                                    },
                                    {
                                        "name": "Action1"
                                    },
                                    {
                                        "name": "targets"
                                    },
                                    {
                                        "name": "uniprotkb_id"
                                    },
                                    {
                                        "name": "Action2"
                                    },
                                    {
                                        "name": "Drug 2"
                                    }
                                ]
                            },
                            "data": [
                                {
                                    "Drug 1": "Cyclosporine",
                                    "Action1": "binder",
                                    "targets": "CAML",
                                    "uniprotkb_id": "P49069",
                                    "Action2": "binder",
                                    "Drug 2": "Voclosporin"
                                },
                                {
                                    "Drug 1": "Cyclosporine",
                                    "Action1": "binder",
                                    "targets": "CAMLG",
                                    "uniprotkb_id": "P49069",
                                    "Action2": "binder",
                                    "Drug 2": "Voclosporin"
                                },
                                {
                                    "Drug 1": "Cyclosporine",
                                    "Action1": "inhibitor",
                                    "targets": "CBLP",
                                    "uniprotkb_id": "Q96LZ3",
                                    "Action2": "inhibitor",
                                    "Drug 2": "Voclosporin"
                                },
                                {
                                    "Drug 1": "Cyclosporine",
                                    "Action1": "inhibitor",
                                    "targets": "CYPA",
                                    "uniprotkb_id": "P62937",
                                    "Action2": "ligand",
                                    "Drug 2": "Artenimol"
                                },
                                {
                                    "Drug 1": "Cyclosporine",
                                    "Action1": "binder",
                                    "targets": "CYPA",
                                    "uniprotkb_id": "P62937",
                                    "Action2": "ligand",
                                    "Drug 2": "Artenimol"
                                },
                                {
                                    "Drug 1": "Cyclosporine",
                                    "Action1": "binder",
                                    "targets": "GET2",
                                    "uniprotkb_id": "P49069",
                                    "Action2": "binder",
                                    "Drug 2": "Voclosporin"
                                },
                                {
                                    "Drug 1": "Cyclosporine",
                                    "Action1": "inhibitor",
                                    "targets": "PPIA",
                                    "uniprotkb_id": "P62937",
                                    "Action2": "ligand",
                                    "Drug 2": "Artenimol"
                                },
                                {
                                    "Drug 1": "Cyclosporine",
                                    "Action1": "binder",
                                    "targets": "PPIA",
                                    "uniprotkb_id": "P62937",
                                    "Action2": "ligand",
                                    "Drug 2": "Artenimol"
                                },
                                {
                                    "Drug 1": "Cyclosporine",
                                    "Action1": "inhibitor",
                                    "targets": "PPP3R2",
                                    "uniprotkb_id": "Q96LZ3",
                                    "Action2": "inhibitor",
                                    "Drug 2": "Voclosporin"
                                },
                                {
                                    "Drug 1": "Cyclosporine",
                                    "Action1": "inhibitor",
                                    "targets": "PPP3RL",
                                    "uniprotkb_id": "Q96LZ3",
                                    "Action2": "inhibitor",
                                    "Drug 2": "Voclosporin"
                                }
                            ]
                        },
                        "text/html": [
                            "<table>",
                            "<tr><th>Drug 1</th><th>Action1</th><th>targets</th><th>uniprotkb_id</th><th>Action2</th><th>Drug 2</th></tr>",
                            "<tr><td>Cyclosporine</td><td>binder</td><td>CAML</td><td>P49069</td><td>binder</td><td>Voclosporin</td></tr>",
                            "<tr><td>Cyclosporine</td><td>binder</td><td>CAMLG</td><td>P49069</td><td>binder</td><td>Voclosporin</td></tr>",
                            "<tr><td>Cyclosporine</td><td>inhibitor</td><td>CBLP</td><td>Q96LZ3</td><td>inhibitor</td><td>Voclosporin</td></tr>",
                            "<tr><td>Cyclosporine</td><td>inhibitor</td><td>CYPA</td><td>P62937</td><td>ligand</td><td>Artenimol</td></tr>",
                            "<tr><td>Cyclosporine</td><td>binder</td><td>CYPA</td><td>P62937</td><td>ligand</td><td>Artenimol</td></tr>",
                            "<tr><td>Cyclosporine</td><td>binder</td><td>GET2</td><td>P49069</td><td>binder</td><td>Voclosporin</td></tr>",
                            "<tr><td>Cyclosporine</td><td>inhibitor</td><td>PPIA</td><td>P62937</td><td>ligand</td><td>Artenimol</td></tr>",
                            "<tr><td>Cyclosporine</td><td>binder</td><td>PPIA</td><td>P62937</td><td>ligand</td><td>Artenimol</td></tr>",
                            "<tr><td>Cyclosporine</td><td>inhibitor</td><td>PPP3R2</td><td>Q96LZ3</td><td>inhibitor</td><td>Voclosporin</td></tr>",
                            "<tr><td>Cyclosporine</td><td>inhibitor</td><td>PPP3RL</td><td>Q96LZ3</td><td>inhibitor</td><td>Voclosporin</td></tr>",
                            "</table>"
                        ]
                    }
                }
            ],
            "execution_count": 9
        },
        {
            "cell_type": "markdown",
            "source": [
                "Cyclosporine and Voclosporin can be explored here: [Voclosporin - LiverTox - NCBI Bookshelf (nih.gov)](https:\\www.ncbi.nlm.nih.gov\\books\\NBK574095\\#:~:text=Cyclosporine%20and%20voclosporin%20have%20potent%20immunosuppressive%20activity%2C%20acting,higher%20degree%20of%20selectivity%20and%20somewhat%20more%20potency.)\n",
                "\n",
                "The interaction of Cyclosporine and Artenimol is not present in Drug-drug interactions, but can be futher explored here: [Artemisinin can inhibit the calmodulin-mediated activation of phosphodiesterase in comparison with Cyclosporin A - ScienceDirect](https:\\www.sciencedirect.com\\science\\article\\abs\\pii\\S1567576908002464) and [Eurartesim, INN-piperaquine & INN artenimol](https:\\www.sciencedirect.com\\science\\article\\abs\\pii\\S1567576908002464)"
            ],
            "metadata": {
                "language": "sql",
                "azdata_cell_guid": "ed5296ef-fe51-4dfa-a6d0-757b0faac715"
            },
            "attachments": {}
        },
        {
            "cell_type": "markdown",
            "source": [
                "Let's have a look at the diseases that are associated with these genes."
            ],
            "metadata": {
                "language": "sql",
                "azdata_cell_guid": "f1fb3eac-82b2-4b13-bab1-4c65cd155ea1"
            },
            "attachments": {}
        },
        {
            "cell_type": "code",
            "source": [
                "DROP TABLE IF EXISTS #temptbl\r\n",
                "\r\n",
                "SELECT Drug1.name AS [Drug 1], dge1.action AS Action1, Genes.gene_names AS targets, Genes.uniprotkb_id, dge2.action AS Action2, Drug2.name AS [Drug 2]\r\n",
                "INTO #temptbl\r\n",
                "FROM drug_nodes Drug1, drug_gene_edges dge1, gene_nodes Genes, drug_gene_edges dge2, drug_nodes Drug2\r\n",
                "WHERE MATCH(Drug1-(dge1)->Genes<-(dge2)-Drug2)\r\n",
                "AND Drug1.atc = 'L04AD01'\r\n",
                "-- AND Drug2.atc != Drug1.atc\r\n",
                "\r\n",
                "-- SELECT * FROM #temptbl\r\n",
                "\r\n",
                "SELECT Disease.vocab_name AS [Disease Name], Disease.MeSH_heading, Genes.gene_names as [Associated Genes], disease_gene_edges.sentence\r\n",
                "FROM disease_nodes Disease, disease_gene_edges, gene_nodes Genes\r\n",
                "WHERE MATCH (Genes-(disease_gene_edges)->Disease)\r\n",
                "AND Genes.gene_names in (SELECT targets FROM #temptbl)\r\n",
                "ORDER BY [Associated Genes] ASC\r\n",
                ""
            ],
            "metadata": {
                "language": "sql",
                "azdata_cell_guid": "aa31086b-ea5f-4e65-a98a-55c1079cf8f0"
            },
            "outputs": [
                {
                    "output_type": "display_data",
                    "data": {
                        "text/html": "(30 rows affected)"
                    },
                    "metadata": {}
                },
                {
                    "output_type": "display_data",
                    "data": {
                        "text/html": "(435 rows affected)"
                    },
                    "metadata": {}
                },
                {
                    "output_type": "display_data",
                    "data": {
                        "text/html": "Total execution time: 00:00:01.166"
                    },
                    "metadata": {}
                },
                {
                    "output_type": "execute_result",
                    "metadata": {},
                    "execution_count": 12,
                    "data": {
                        "application/vnd.dataresource+json": {
                            "schema": {
                                "fields": [
                                    {
                                        "name": "Disease Name"
                                    },
                                    {
                                        "name": "MeSH_heading"
                                    },
                                    {
                                        "name": "Associated Genes"
                                    },
                                    {
                                        "name": "sentence"
                                    }
                                ]
                            },
                            "data": [
                                {
                                    "Disease Name": "Steatohepatitis",
                                    "MeSH_heading": "Digestive System Diseases",
                                    "Associated Genes": "CYP3",
                                    "sentence": "As such, CypD might be a new protective target against I/RI in fatty livers."
                                },
                                {
                                    "Disease Name": "Steatohepatitis",
                                    "MeSH_heading": "Digestive System Diseases",
                                    "Associated Genes": "CYP3",
                                    "sentence": "Cyclophilin D deficiency attenuates mitochondrial perturbation and ameliorates hepatic steatosis."
                                },
                                {
                                    "Disease Name": "X-linked adrenoleukodystrophy",
                                    "MeSH_heading": "Endocrine System Diseases",
                                    "Associated Genes": "CYP3",
                                    "sentence": "Thus, cyclophilin D could serve as a therapeutic target for the treatment of X-ALD and cyclophilin D-dependent neurodegenerative and non-neurodegenerative diseases."
                                },
                                {
                                    "Disease Name": "Glioblastoma",
                                    "MeSH_heading": "Neoplasms",
                                    "Associated Genes": "CYP3",
                                    "sentence": "Significantly, we provide evidence that CYPD-mediated opening of the mPTP is required for gossypol-induced mitochondrial dysfunction, autophagy and cell death during organismic aging of P. anserina and in glioblastoma cells."
                                },
                                {
                                    "Disease Name": "Mitochondrial myopathy",
                                    "MeSH_heading": "Nutritional and Metabolic Diseases",
                                    "Associated Genes": "CYP3",
                                    "sentence": "Here we show that the Tfam KO mice have increased CypD levels, and we demonstrate that this increase is a common feature in patients with mitochondrial myopathy."
                                },
                                {
                                    "Disease Name": "Ureteral Obstruction",
                                    "MeSH_heading": "Female Urogenital Diseases and Pregnancy Complications",
                                    "Associated Genes": "CYP3",
                                    "sentence": "The prominent accumulation of α-SMA+ myofibroblasts and interstitial collagen deposition seen in WT UUO was significantly reduced in CypD<sup>-/-</sup> UUO on day 12, but not day 7."
                                },
                                {
                                    "Disease Name": "Glial tumor",
                                    "MeSH_heading": "Neoplasms",
                                    "Associated Genes": "CYP3",
                                    "sentence": "Blockade of Cyp-D by siRNA-mediated depletion or pharmacological inhibitors (cyclosporin A and sanglifehrin A) significantly suppressed salinomycin-induced glioma cell necrosis."
                                },
                                {
                                    "Disease Name": "urinary tract disorder",
                                    "MeSH_heading": "Pathological Conditions, Signs and Symptoms",
                                    "Associated Genes": "CYP3",
                                    "sentence": "Pharmacologic targeting or genetic deletion of mitochondrial cyclophilin D protects from NSAID-induced small intestinal ulceration in mice."
                                },
                                {
                                    "Disease Name": "Primary Malignant Neoplasm",
                                    "MeSH_heading": "Neoplasms",
                                    "Associated Genes": "CYP3",
                                    "sentence": "The mitochondrial pepdidyl-prolyl isomerase cyclophilin D (CypD) is an important regulator of the mitochondrial permeability transition and a key player in mitochondria physiology; however, its role in cancer is still unclear."
                                },
                                {
                                    "Disease Name": "Tuberculosis",
                                    "MeSH_heading": "Infections",
                                    "Associated Genes": "CYP3",
                                    "sentence": "Mitochondrial cyclophilin D regulates T cell metabolic responses and disease tolerance to tuberculosis."
                                },
                                {
                                    "Disease Name": "Heart Failure",
                                    "MeSH_heading": "Cardiovascular Diseases",
                                    "Associated Genes": "CYP3",
                                    "sentence": "Since obesity and metabolic syndrome decrease SIRT3 activity and expression, we tested the hypothesis that CypD hyperacetylation promotes mitochondrial dysfunction under this pathophysiological state, which is associated with ventricular dysfunction and heart failure."
                                },
                                {
                                    "Disease Name": "Tuberculosis",
                                    "MeSH_heading": "Infections",
                                    "Associated Genes": "CYP3",
                                    "sentence": "Similarly, the cyclophilin D-inhibiting drug alisporivir and the acid sphingomyelinase-inactivating drug, desipramine, synergize to reverse susceptibility, suggesting the therapeutic potential of these orally active drugs against tuberculosis and possibly other TNF-mediated diseases."
                                },
                                {
                                    "Disease Name": "Cardiac Failure Congestive",
                                    "MeSH_heading": "Cardiovascular Diseases",
                                    "Associated Genes": "CYP3",
                                    "sentence": "Since obesity and metabolic syndrome decrease SIRT3 activity and expression, we tested the hypothesis that CypD hyperacetylation promotes mitochondrial dysfunction under this pathophysiological state, which is associated with ventricular dysfunction and heart failure."
                                },
                                {
                                    "Disease Name": "STROKE, ISCHEMIC",
                                    "MeSH_heading": "Cardiovascular Diseases",
                                    "Associated Genes": "CYP3",
                                    "sentence": "Neutrophil depletion in wildtype mice conferred protection from ischemic stroke similarly to mice with CypD-deficient platelets."
                                },
                                {
                                    "Disease Name": "STROKE, ISCHEMIC",
                                    "MeSH_heading": "Cardiovascular Diseases",
                                    "Associated Genes": "CYP3",
                                    "sentence": "Our study firstly identifies ERK-CypD axis is one of the cornerstones of the cell death pathways following ischemic stroke, and confirms GA is a novel inhibitor of MPTP, which inhibits apoptosis depending on regulating the ERK-CypD axis."
                                },
                                {
                                    "Disease Name": "Tumor Progression",
                                    "MeSH_heading": "Pathological Conditions, Signs and Symptoms",
                                    "Associated Genes": "CYP3",
                                    "sentence": "Using cellular and in vivo mouse models, we demonstrated that CypD protein upregulation induced by oncogenic Ras through the Raf-1/MEK/ERK pathway has a deterministic role in tumor progression."
                                },
                                {
                                    "Disease Name": "Rare cardiomyopathy",
                                    "MeSH_heading": "Cardiovascular Diseases",
                                    "Associated Genes": "CYP3",
                                    "sentence": "Impaired NF-κB signalling underlies cyclophilin D-mediated mitochondrial permeability transition pore opening in doxorubicin cardiomyopathy."
                                },
                                {
                                    "Disease Name": "Cockayne syndrome type 1",
                                    "MeSH_heading": "Nutritional and Metabolic Diseases",
                                    "Associated Genes": "CYP3",
                                    "sentence": "Blockade of CypD by pharmaceutical inhibitor cyclosporine A (CsA) significantly protected against Dex-induced oxidative stress accumulation in gingival tissue."
                                },
                                {
                                    "Disease Name": "Ovarian Carcinoma",
                                    "MeSH_heading": "Digestive System Diseases",
                                    "Associated Genes": "CYP3",
                                    "sentence": "This study aims to assess the effects of GAD on the energy metabolism of colon cancer through the regulation of SIRT3 expression and whether this effect is related to acetylated cyclophilin D. The results demonstrated that GAD inhibits the energy reprogramming of colon cancer cells including glucose uptake, lactate production, pyruvate and acetyl-coenzyme production in colon cancer cells."
                                },
                                {
                                    "Disease Name": "MITOCHONDRIAL COMPLEX I DEFICIENCY, MITOCHONDRIAL TYPE 3",
                                    "MeSH_heading": "Nervous System Diseases",
                                    "Associated Genes": "CYP3",
                                    "sentence": "In conclusion, these results suggest Cyp1 and its human homolog CypD as putative molecular targets for the treatment of DJ-1 deficiency-associated diseases, including Parkinson's disease."
                                },
                                {
                                    "Disease Name": "MITOCHONDRIAL COMPLEX I DEFICIENCY, MITOCHONDRIAL TYPE 3",
                                    "MeSH_heading": "Nervous System Diseases",
                                    "Associated Genes": "CYP3",
                                    "sentence": "We investigated the role of CYPD in a mouse model of MPTP (1-methyl-4-phenyl-1,2,3,6-tetrahydropyridine)-induced PD."
                                },
                                {
                                    "Disease Name": "LUNG CANCER",
                                    "MeSH_heading": "Respiratory Tract Diseases",
                                    "Associated Genes": "CYP3",
                                    "sentence": "Thus, cinobufotalin mainly induces Cyp-D-dependent non-apoptotic death in cultured lung cancer cells."
                                },
                                {
                                    "Disease Name": "Muscle hypotrophy",
                                    "MeSH_heading": "Musculoskeletal Diseases",
                                    "Associated Genes": "CYP3",
                                    "sentence": "Using a Caenorhabditis elegans model for DMD as a pharmacologic and genetic tool, we found that cyclosporine A (CsA) reduces muscle degeneration at low dose and acts, at least in part, through a mitochondrial cyclophilin D, CYN-1."
                                },
                                {
                                    "Disease Name": "Ovarian Carcinoma",
                                    "MeSH_heading": "Digestive System Diseases",
                                    "Associated Genes": "CYP3",
                                    "sentence": "In particular, the pathway involving enhanced interaction of cyclophilin D with ATP synthase mediates L-arginine-induced pancreatitis, a model of severe AP the pathogenesis of which has remained unknown."
                                },
                                {
                                    "Disease Name": "Ovarian Carcinoma",
                                    "MeSH_heading": "Digestive System Diseases",
                                    "Associated Genes": "CYP3",
                                    "sentence": "•Pancreatitis-inducing factors open the membrane transition pore (mPTP) channel via cyclophilin D activation in acinar cells, causing calcium overload and cell death; genetic or pharmacological inhibition of mPTP improves the outcome of acute pancreatitis in animal models."
                                },
                                {
                                    "Disease Name": "Rare carcinoma of pancreas",
                                    "MeSH_heading": "Endocrine System Diseases",
                                    "Associated Genes": "CYP3",
                                    "sentence": "Gemcitabine-induced pancreatic cancer cell death is associated with MST1/cyclophilin D mitochondrial complexation."
                                },
                                {
                                    "Disease Name": "Hyperglycemia",
                                    "MeSH_heading": "Nutritional and Metabolic Diseases",
                                    "Associated Genes": "CYP3",
                                    "sentence": "Hyperglycemia exacerbated the upregulation of CypD, mitochondrial defects, synaptic injury, and cognitive dysfunction in the brains of transgenic AD mice overexpressing amyloid-β as shown by decreased mitochondrial respiratory complex I and IV enzyme activity and greatly decreased mitochondrial respiratory rate."
                                },
                                {
                                    "Disease Name": "Rare malignant breast tumor",
                                    "MeSH_heading": "Skin and Connective Tissue Diseases",
                                    "Associated Genes": "CYP3",
                                    "sentence": "Oroxylin A induces dissociation of hexokinase II from the mitochondria and inhibits glycolysis by SIRT3-mediated deacetylation of cyclophilin D in breast carcinoma."
                                },
                                {
                                    "Disease Name": "Rare malignant breast tumor",
                                    "MeSH_heading": "Skin and Connective Tissue Diseases",
                                    "Associated Genes": "CYP3",
                                    "sentence": "Coupling of low RRM2B and high CypD expression is associated with aggressive manifestations of breast cancer."
                                },
                                {
                                    "Disease Name": "LEANNESS",
                                    "MeSH_heading": "Pathological Conditions, Signs and Symptoms",
                                    "Associated Genes": "CYP3",
                                    "sentence": "Our results indicate that obesity reduces SIRT3 expression and that CypD hyperacetylation increases mPTP opening, suggesting that the activation of SIRT3 might be a potential target to decrease ventricular dysfunction and slow the progression of heart failure."
                                },
                                {
                                    "Disease Name": "Nephrotic Syndrome",
                                    "MeSH_heading": "Female Urogenital Diseases and Pregnancy Complications",
                                    "Associated Genes": "CYP3",
                                    "sentence": "Effect of CYP3 A4, CYP3 A5 and ABCB1 gene polymorphisms on the clinical efficacy of tacrolimus in the treatment of nephrotic syndrome."
                                },
                                {
                                    "Disease Name": "Malignant Lung Tumor",
                                    "MeSH_heading": "Respiratory Tract Diseases",
                                    "Associated Genes": "CYP3",
                                    "sentence": "Thus, cinobufotalin mainly induces Cyp-D-dependent non-apoptotic death in cultured lung cancer cells."
                                },
                                {
                                    "Disease Name": "Rare intestinal disease",
                                    "MeSH_heading": "Digestive System Diseases",
                                    "Associated Genes": "CYP3",
                                    "sentence": "We then targeted mitochondrial cyclophilin D (CypD), a key regulator of the mPT, in a mouse model of NSAID enteropathy."
                                },
                                {
                                    "Disease Name": "Acute Kidney Injury",
                                    "MeSH_heading": "Female Urogenital Diseases and Pregnancy Complications",
                                    "Associated Genes": "CYP3",
                                    "sentence": "Mitochondrial translocation of PPARα, its binding to cyclophilin D, and sequestration led to inhibition of its nuclear translocation and transcription of PPARα-regulated fatty acid oxidation genes during cisplatin-induced acute kidney injury."
                                },
                                {
                                    "Disease Name": "Acute Kidney Injury",
                                    "MeSH_heading": "Female Urogenital Diseases and Pregnancy Complications",
                                    "Associated Genes": "CYP3",
                                    "sentence": "p53-cyclophilin D mediates renal tubular cell apoptosis in ischemia-reperfusion-induced acute kidney injury."
                                },
                                {
                                    "Disease Name": "Acute Kidney Injury",
                                    "MeSH_heading": "Female Urogenital Diseases and Pregnancy Complications",
                                    "Associated Genes": "CYP3",
                                    "sentence": "Cyclophilin D (CypD) is an important component in mitochondrial-dependent tubular cell death in acute kidney injury."
                                },
                                {
                                    "Disease Name": "Carcinogenesis",
                                    "MeSH_heading": "Pathological Conditions, Signs and Symptoms",
                                    "Associated Genes": "CYP3",
                                    "sentence": "Cyclophilin D counteracts P53-mediated growth arrest and promotes Ras tumorigenesis."
                                },
                                {
                                    "Disease Name": "Acute lymphoblastic leukemia",
                                    "MeSH_heading": "Immune System Diseases",
                                    "Associated Genes": "CYP3",
                                    "sentence": "CYP3 genotypes may not significantly modify the risk of relapse in childhood ALL, but may modify the risk of toxicity."
                                },
                                {
                                    "Disease Name": "Rare neurodegenerative disease",
                                    "MeSH_heading": "Nervous System Diseases",
                                    "Associated Genes": "CYP3",
                                    "sentence": "Thus, cyclophilin D could serve as a therapeutic target for the treatment of X-ALD and cyclophilin D-dependent neurodegenerative and non-neurodegenerative diseases."
                                },
                                {
                                    "Disease Name": "ABDOMINAL OBESITY-METABOLIC SYNDROME 1",
                                    "MeSH_heading": "Nutritional and Metabolic Diseases",
                                    "Associated Genes": "CYP3",
                                    "sentence": "Since obesity and metabolic syndrome decrease SIRT3 activity and expression, we tested the hypothesis that CypD hyperacetylation promotes mitochondrial dysfunction under this pathophysiological state, which is associated with ventricular dysfunction and heart failure."
                                },
                                {
                                    "Disease Name": "APNEA, CENTRAL SLEEP",
                                    "MeSH_heading": "Nervous System Diseases",
                                    "Associated Genes": "CYP3",
                                    "sentence": "Blockade of CypD by pharmaceutical inhibitor cyclosporine A (CsA) significantly protected against Dex-induced oxidative stress accumulation in gingival tissue."
                                },
                                {
                                    "Disease Name": "Ovarian Carcinoma",
                                    "MeSH_heading": "Digestive System Diseases",
                                    "Associated Genes": "CYP3",
                                    "sentence": "Its deficiency induces ER stress by suppressing Cyp-D ubiquitination, a key regulator of the mitochondrial Ca<sup>2+</sup> conductance channel mPTP, and results in hepatic steatosis. mGPDH may be a potential therapeutic target for the treatment of NAFLD."
                                },
                                {
                                    "Disease Name": "Sepsis-Associated Encephalopathy",
                                    "MeSH_heading": "Nervous System Diseases",
                                    "Associated Genes": "CYP3",
                                    "sentence": "The levels of CypD and acetylation of CypD increased in the hippocampus induced by SAE."
                                },
                                {
                                    "Disease Name": "Adult Meningioma",
                                    "MeSH_heading": "Nervous System Diseases",
                                    "Associated Genes": "CYP3",
                                    "sentence": "We report that cyclophilin D levels were upregulated in all grades of human meningioma compared to control meninges."
                                },
                                {
                                    "Disease Name": "Rare carcinoma of pancreas",
                                    "MeSH_heading": "Endocrine System Diseases",
                                    "Associated Genes": "CYP3",
                                    "sentence": "Gemcitabine-induced pancreatic cancer cell death is associated with MST1/cyclophilin D mitochondrial complexation."
                                },
                                {
                                    "Disease Name": "Familial dilated cardiomyopathy",
                                    "MeSH_heading": "Cardiovascular Diseases",
                                    "Associated Genes": "CYP3",
                                    "sentence": "Since it is encoded by a gene located within this FDCM critical region, PPIF was considered a potential candidate gene for FDCM."
                                },
                                {
                                    "Disease Name": "Meningioma",
                                    "MeSH_heading": "Nervous System Diseases",
                                    "Associated Genes": "CYP3",
                                    "sentence": "We report that cyclophilin D levels were upregulated in all grades of human meningioma compared to control meninges."
                                },
                                {
                                    "Disease Name": "GLAUCOMA, PRIMARY OPEN ANGLE",
                                    "MeSH_heading": "Eye Diseases",
                                    "Associated Genes": "CYP3",
                                    "sentence": "There was increased [Ca(2+)](c), [Ca(2+)](m), mCICR, MPTP opening, and expression of cyclophilin D and decreased DeltaPsim in POAG TM cells compared with control cells."
                                },
                                {
                                    "Disease Name": "Skeletal muscle disease",
                                    "MeSH_heading": "Nervous System Diseases",
                                    "Associated Genes": "CYP3",
                                    "sentence": "These findings (i) demonstrate that lack of Cyp-D is equivalent to its inhibition with CsA at curing the mouse dystrophic phenotype; (ii) establish a cause-effect relationship between Cyp-D-dependent PTP regulation and pathogenesis of the ColVI muscular dystrophy and (iii) validate Cyp-D and the PTP as pharmacological targets for the therapy of human ColVI myopathies."
                                },
                                {
                                    "Disease Name": "Muscular dystrophy",
                                    "MeSH_heading": "Congenital, Hereditary, and Neonatal Diseases and Abnormalities",
                                    "Associated Genes": "CYP3",
                                    "sentence": "Here we show that deletion of the gene encoding cyclophilin D (Ppif) rendered mitochondria largely insensitive to the calcium overload-induced swelling associated with a defective sarcolemma, thus reducing myofiber necrosis in two distinct models of muscular dystrophy."
                                },
                                {
                                    "Disease Name": "Cognitive Dysfunction",
                                    "MeSH_heading": "Mental Disorders",
                                    "Associated Genes": "CYP3",
                                    "sentence": "Regulation of Sirtuin 3-Mediated Deacetylation of Cyclophilin D Attenuated Cognitive Dysfunction Induced by Sepsis-Associated Encephalopathy in Mice."
                                },
                                {
                                    "Disease Name": "Myocardial Infarction",
                                    "MeSH_heading": "Pathological Conditions, Signs and Symptoms",
                                    "Associated Genes": "CYP3",
                                    "sentence": "Most animal studies demonstrated cardioprotective effects of PTP inhibition; however, a recent large clinical trial conducted by international groups demonstrated that cyclosporine A, a cyclophilin D inhibitor, failed to protect the heart in patients with myocardial infarction."
                                },
                                {
                                    "Disease Name": "Cognitive Dysfunction",
                                    "MeSH_heading": "Mental Disorders",
                                    "Associated Genes": "CYP3",
                                    "sentence": "Hyperglycemia exacerbated the upregulation of CypD, mitochondrial defects, synaptic injury, and cognitive dysfunction in the brains of transgenic AD mice overexpressing amyloid-β as shown by decreased mitochondrial respiratory complex I and IV enzyme activity and greatly decreased mitochondrial respiratory rate."
                                },
                                {
                                    "Disease Name": "Adult Glioblastoma Multiforme",
                                    "MeSH_heading": "Neoplasms",
                                    "Associated Genes": "CYP3",
                                    "sentence": "Significantly, we provide evidence that CYPD-mediated opening of the mPTP is required for gossypol-induced mitochondrial dysfunction, autophagy and cell death during organismic aging of P. anserina and in glioblastoma cells."
                                },
                                {
                                    "Disease Name": "Childhood Glioblastoma",
                                    "MeSH_heading": "Neoplasms",
                                    "Associated Genes": "CYP3",
                                    "sentence": "Significantly, we provide evidence that CYPD-mediated opening of the mPTP is required for gossypol-induced mitochondrial dysfunction, autophagy and cell death during organismic aging of P. anserina and in glioblastoma cells."
                                },
                                {
                                    "Disease Name": "Ovarian Carcinoma",
                                    "MeSH_heading": "Neoplasms",
                                    "Associated Genes": "CYP3",
                                    "sentence": "Among its distribution Hsp90 is also localized within mitochondria of neoplastic cells of various origin, interacting with another chaperone, TRAP1 (Tumor necrosis factor type 1 receptor-associated protein or Heat-shock-protein 75) to antagonize the cell death promoting properties of the matrix protein, Cyclophilin-D. Several preclinical studies, including in vivo studies in both orthotopic and genetic animal models, have confirmed that targeting mitochondrial Hsp90 may be a novel efficient treatment method for highly recalcitrant tumors."
                                },
                                {
                                    "Disease Name": "Amyotrophic lateral sclerosis",
                                    "MeSH_heading": "Nutritional and Metabolic Diseases",
                                    "Associated Genes": "CYP3",
                                    "sentence": "In mice expressing three different ALS-causing SOD1 mutants, we now test the contribution of the loss of mitochondrial Ca(2+)-buffering capacity to disease mechanism(s) by eliminating ubiquitous expression of cyclophilin D, a critical regulator of Ca(2+)-mediated opening of the mitochondrial permeability transition pore that determines mitochondrial Ca(2+) content."
                                },
                                {
                                    "Disease Name": "Amyloidosis",
                                    "MeSH_heading": "Nutritional and Metabolic Diseases",
                                    "Associated Genes": "CYP3",
                                    "sentence": "Several recent studies have found that CypD promotes the formation of the mPTP upon binding to β amyloid (Aβ) peptides inside brain mitochondria, suggesting that neuronal CypD has a potential to be a promising therapeutic target for Alzheimer's disease (AD)."
                                },
                                {
                                    "Disease Name": "renal fibrosis",
                                    "MeSH_heading": "Pathological Conditions, Signs and Symptoms",
                                    "Associated Genes": "CYP3",
                                    "sentence": "Activation of several pro-fibrotic signalling pathways (p38 MAPK, JNK and Smad3) was unaltered in CypD<sup>-/-</sup> UUO, arguing that CypD acts independently to promote renal fibrosis."
                                },
                                {
                                    "Disease Name": "diabetes mellitus (disease)",
                                    "MeSH_heading": "Endocrine System Diseases",
                                    "Associated Genes": "CYP3",
                                    "sentence": "We tested the hypothesis of whether NMDA-R1 mediates Ca<sup>2+</sup> influx causing CypD activation and MPTP opening leading to oxidative stress and renal injury in diabetes."
                                },
                                {
                                    "Disease Name": "diabetes mellitus (disease)",
                                    "MeSH_heading": "Endocrine System Diseases",
                                    "Associated Genes": "CYP3",
                                    "sentence": "Brains from mice with STZ-induced diabetes revealed a significant increase of cyclophilin D (CypD) expression, reduced respiratory function, and decreased hippocampal long-term potentiation (LTP); these animals had impaired spatial learning and memory."
                                },
                                {
                                    "Disease Name": "Hepatocellular carcinoma",
                                    "MeSH_heading": "Digestive System Diseases",
                                    "Associated Genes": "CYP3",
                                    "sentence": "For CYP3 family, the expression of PXR was decreased 60% in HCC, together with decreases in CYP3A4, CYP3A5, and CYP3A7."
                                },
                                {
                                    "Disease Name": "diabetes mellitus (disease)",
                                    "MeSH_heading": "Endocrine System Diseases",
                                    "Associated Genes": "CYP3",
                                    "sentence": "Targeting cyclophilin D and the mitochondrial permeability transition enhances beta-cell survival and prevents diabetes in Pdx1 deficiency."
                                },
                                {
                                    "Disease Name": "Cardiovascular Disease (CVD)",
                                    "MeSH_heading": "Cardiovascular Diseases",
                                    "Associated Genes": "CYP3",
                                    "sentence": "A greater understanding of the physiologic functions of the MPTP and its regulation by CypD will likely suggest novel therapeutic approaches for cardiovascular disease, both dependent and independent of programmed necrotic cell death mechanisms."
                                },
                                {
                                    "Disease Name": "PRESENILE AND SENILE DEMENTIA",
                                    "MeSH_heading": "Mental Disorders",
                                    "Associated Genes": "CYP3",
                                    "sentence": "It has been hypothesized that 17β-HSD10 interacts with cypD preventing it from opening mitochondrial permeability transition pores and that its regulation during AD may be affected by the accumulation of Aβ."
                                },
                                {
                                    "Disease Name": "Ovarian Carcinoma",
                                    "MeSH_heading": "Neoplasms",
                                    "Associated Genes": "CYP3",
                                    "sentence": "The mitochondrial pepdidyl-prolyl isomerase cyclophilin D (CypD) is an important regulator of the mitochondrial permeability transition and a key player in mitochondria physiology; however, its role in cancer is still unclear."
                                },
                                {
                                    "Disease Name": "microcystic meningioma",
                                    "MeSH_heading": "Nervous System Diseases",
                                    "Associated Genes": "CYP3",
                                    "sentence": "We report that cyclophilin D levels were upregulated in all grades of human meningioma compared to control meninges."
                                },
                                {
                                    "Disease Name": "PRESENILE AND SENILE DEMENTIA",
                                    "MeSH_heading": "Mental Disorders",
                                    "Associated Genes": "CYP3",
                                    "sentence": "We therefore set out to perform a proof of concept study to determine whether anesthesia and surgery can have different effects in male and female AD transgenic (Tg) mice, and in female AD Tg plus Cyclophilin D knockout (CypD KO) mice."
                                },
                                {
                                    "Disease Name": "Rare diabetes mellitus",
                                    "MeSH_heading": "Endocrine System Diseases",
                                    "Associated Genes": "CYP3",
                                    "sentence": "Targeting cyclophilin D and the mitochondrial permeability transition enhances beta-cell survival and prevents diabetes in Pdx1 deficiency."
                                },
                                {
                                    "Disease Name": "Ovarian Carcinoma",
                                    "MeSH_heading": "Neoplasms",
                                    "Associated Genes": "CYP3",
                                    "sentence": "The opening of the mitochondrial permeability transition pore (PTP), which is regulated by the matrix protein cyclophilin D (CypD), plays a key role in the pathophysiology of post-cardiac arrest (CA) syndrome."
                                },
                                {
                                    "Disease Name": "Rare diabetes mellitus",
                                    "MeSH_heading": "Endocrine System Diseases",
                                    "Associated Genes": "CYP3",
                                    "sentence": "Brains from mice with STZ-induced diabetes revealed a significant increase of cyclophilin D (CypD) expression, reduced respiratory function, and decreased hippocampal long-term potentiation (LTP); these animals had impaired spatial learning and memory."
                                },
                                {
                                    "Disease Name": "Rare diabetes mellitus",
                                    "MeSH_heading": "Endocrine System Diseases",
                                    "Associated Genes": "CYP3",
                                    "sentence": "We tested the hypothesis of whether NMDA-R1 mediates Ca<sup>2+</sup> influx causing CypD activation and MPTP opening leading to oxidative stress and renal injury in diabetes."
                                },
                                {
                                    "Disease Name": "PRESENILE AND SENILE DEMENTIA",
                                    "MeSH_heading": "Mental Disorders",
                                    "Associated Genes": "CYP3",
                                    "sentence": "These data demonstrate that abrogation of CypD results in persistent life-long protection against Aβ toxicity in an Alzheimer's disease mouse model, thereby suggesting that blockade of CypD may be of benefit for Alzheimer disease treatment."
                                },
                                {
                                    "Disease Name": "PRESENILE AND SENILE DEMENTIA",
                                    "MeSH_heading": "Mental Disorders",
                                    "Associated Genes": "CYP3",
                                    "sentence": "Moreover, the ablation of CypD also attenuates OSCP/Aβ interaction in AD mice."
                                },
                                {
                                    "Disease Name": "Glioblastoma",
                                    "MeSH_heading": "Neoplasms",
                                    "Associated Genes": "CYP3",
                                    "sentence": "Significantly, we provide evidence that CYPD-mediated opening of the mPTP is required for gossypol-induced mitochondrial dysfunction, autophagy and cell death during organismic aging of P. anserina and in glioblastoma cells."
                                },
                                {
                                    "Disease Name": "Liver Steatosis",
                                    "MeSH_heading": "Digestive System Diseases",
                                    "Associated Genes": "CYP3",
                                    "sentence": "Cyclophilin D deficiency attenuates mitochondrial perturbation and ameliorates hepatic steatosis."
                                },
                                {
                                    "Disease Name": "PRESENILE AND SENILE DEMENTIA",
                                    "MeSH_heading": "Mental Disorders",
                                    "Associated Genes": "CYP3",
                                    "sentence": "Several recent studies have found that CypD promotes the formation of the mPTP upon binding to β amyloid (Aβ) peptides inside brain mitochondria, suggesting that neuronal CypD has a potential to be a promising therapeutic target for Alzheimer's disease (AD)."
                                },
                                {
                                    "Disease Name": "PRESENILE AND SENILE DEMENTIA",
                                    "MeSH_heading": "Mental Disorders",
                                    "Associated Genes": "CYP3",
                                    "sentence": "In addition, in view of CypD and F1FO ATP synthase alterations seen in AD brains, the results further suggest that CypD-mediated F1FO ATP synthase deregulation is a shared mechanism linking mitochondrial deficits in brain aging and AD."
                                },
                                {
                                    "Disease Name": "Ischemic Heart Disease",
                                    "MeSH_heading": "Cardiovascular Diseases",
                                    "Associated Genes": "CYP3",
                                    "sentence": "Mitochondrial permeability transition in cardiac ischemia-reperfusion: whether cyclophilin D is a viable target for cardioprotection?"
                                },
                                {
                                    "Disease Name": "Memory Dysfunction",
                                    "MeSH_heading": "Mental Disorders",
                                    "Associated Genes": "CYP3",
                                    "sentence": "Activating SIRT3-mediated deacetylation of CypD attenuated learning and memory dysfunction induced by SAE."
                                },
                                {
                                    "Disease Name": "Rare breast tumor",
                                    "MeSH_heading": "Skin and Connective Tissue Diseases",
                                    "Associated Genes": "CYP3",
                                    "sentence": "Two genes (EEF1A2 and PPIF) could similarly separate ER+, TAM-treated breast tumors by DMFS, and their protein levels were measured in an ER+ breast cancer cell line model with exogenous ERRγ."
                                },
                                {
                                    "Disease Name": "Duchenne muscular dystrophy",
                                    "MeSH_heading": "Congenital, Hereditary, and Neonatal Diseases and Abnormalities",
                                    "Associated Genes": "CYP3",
                                    "sentence": "Using a Caenorhabditis elegans model for DMD as a pharmacologic and genetic tool, we found that cyclosporine A (CsA) reduces muscle degeneration at low dose and acts, at least in part, through a mitochondrial cyclophilin D, CYN-1."
                                },
                                {
                                    "Disease Name": "Acute Pancreatitis",
                                    "MeSH_heading": "Digestive System Diseases",
                                    "Associated Genes": "CYP3",
                                    "sentence": "•Pancreatitis-inducing factors open the membrane transition pore (mPTP) channel via cyclophilin D activation in acinar cells, causing calcium overload and cell death; genetic or pharmacological inhibition of mPTP improves the outcome of acute pancreatitis in animal models."
                                },
                                {
                                    "Disease Name": "Coronary Atherosclerosis",
                                    "MeSH_heading": "Cardiovascular Diseases",
                                    "Associated Genes": "CYP3",
                                    "sentence": "Mitochondrial permeability transition in cardiac ischemia-reperfusion: whether cyclophilin D is a viable target for cardioprotection?"
                                },
                                {
                                    "Disease Name": "Malignant Tumor of Colon",
                                    "MeSH_heading": "Digestive System Diseases",
                                    "Associated Genes": "CYP3",
                                    "sentence": "This study aims to assess the effects of GAD on the energy metabolism of colon cancer through the regulation of SIRT3 expression and whether this effect is related to acetylated cyclophilin D. The results demonstrated that GAD inhibits the energy reprogramming of colon cancer cells including glucose uptake, lactate production, pyruvate and acetyl-coenzyme production in colon cancer cells."
                                },
                                {
                                    "Disease Name": "Rare malignant breast tumor",
                                    "MeSH_heading": "Skin and Connective Tissue Diseases",
                                    "Associated Genes": "CYP3",
                                    "sentence": "Coupling of low RRM2B and high CypD expression is associated with aggressive manifestations of breast cancer."
                                },
                                {
                                    "Disease Name": "Encephalomyelitis",
                                    "MeSH_heading": "Nervous System Diseases",
                                    "Associated Genes": "CYP3",
                                    "sentence": "Analysis of mitochondrial calcium retention capacity and the course of EAE in cyclophilin D knockout mice indicated that the effect of NIM811 on EAE was not entirely cyclophilin D-dependent."
                                },
                                {
                                    "Disease Name": "Malignant Lung Tumor",
                                    "MeSH_heading": "Respiratory Tract Diseases",
                                    "Associated Genes": "CYPA",
                                    "sentence": "The current study focused on evaluating the potential of CyPA and MIF as prognostic markers in patients with a new diagnosis of lung cancer for rapid translation into clinical practice."
                                },
                                {
                                    "Disease Name": "Ovarian Carcinoma",
                                    "MeSH_heading": "Neoplasms",
                                    "Associated Genes": "CYPA",
                                    "sentence": "CYPA has been implicated in several pathological processes, including cancer, inflammatory diseases, and HIV-1 infection."
                                },
                                {
                                    "Disease Name": "Ovarian Carcinoma",
                                    "MeSH_heading": "Neoplasms",
                                    "Associated Genes": "CYPA",
                                    "sentence": "For example, CypA protein displays an unusually high expression in several cancer types and correlates with poor outcome of the patients."
                                },
                                {
                                    "Disease Name": "Ovarian Carcinoma",
                                    "MeSH_heading": "Neoplasms",
                                    "Associated Genes": "CYPA",
                                    "sentence": "In this study, A549 and H1299 cell lines with downregulated and overexpressed CypA, respectively, were constructed by lentivirus transfection of NSCLC cells. in vitro experiments, including wound healing and transwell assays and Western blotting, showed that CypA promoted cancer cell migration and epithelial-mesenchymal transition in NSCLC."
                                },
                                {
                                    "Disease Name": "Ovarian Carcinoma",
                                    "MeSH_heading": "Neoplasms",
                                    "Associated Genes": "CYPA",
                                    "sentence": "The expression level of PPIA was significantly associated with levels of basigin and signal transducer and activator of transcription 3, which may be major effectors of PPIA in the progression of the cancer."
                                },
                                {
                                    "Disease Name": "Ovarian Carcinoma",
                                    "MeSH_heading": "Neoplasms",
                                    "Associated Genes": "CYPA",
                                    "sentence": "Overexpressed cyclophilin A in cancer cells renders resistance to hypoxia- and cisplatin-induced cell death."
                                },
                                {
                                    "Disease Name": "Ovarian Carcinoma",
                                    "MeSH_heading": "Neoplasms",
                                    "Associated Genes": "CYPA",
                                    "sentence": "In response to tumor hypoxia, cyclophilin A (CypA) is over-expressed in various cancer types, and is associated with cell apoptosis, tumor invasion, metastasis, and chemoresistance in PDAC."
                                },
                                {
                                    "Disease Name": "Malignant Lung Tumor",
                                    "MeSH_heading": "Respiratory Tract Diseases",
                                    "Associated Genes": "CYPA",
                                    "sentence": "Here, we studied the expression of CypA and its receptor CD147 in several kinds of lung cancer cells as well as a normal lung cell and found that in H446 cell, a kind of small cell lung cancer cell, the expression are the highest."
                                },
                                {
                                    "Disease Name": "Systemic Inflammatory Response Syndrome",
                                    "MeSH_heading": "Pathological Conditions, Signs and Symptoms",
                                    "Associated Genes": "CYPA",
                                    "sentence": "Extracellular CyPA plays a prominent role in the pathological processes of inflammatory diseases, acting as a proinflammatory mediator, exerting chemotactic effects, promoting apoptosis of endothelial cells and amplifying ROS generation, thus being considered as a potential treatment target of sepsis, a systemic inflammatory response syndrome."
                                },
                                {
                                    "Disease Name": "Ovarian Carcinoma",
                                    "MeSH_heading": "Neoplasms",
                                    "Associated Genes": "CYPA",
                                    "sentence": "Many studies have provided compelling evidence supporting critical roles of CyPA in immune and infectious diseases and malignant tumours."
                                },
                                {
                                    "Disease Name": "Ovarian Carcinoma",
                                    "MeSH_heading": "Neoplasms",
                                    "Associated Genes": "CYPA",
                                    "sentence": "These results demonstrate an important role for CypA in the regulation of Jak2/Stat5-mediated biology in mammary epithelium, identifying this isomerase as a novel target for therapeutic intervention.<b>Significance:</b> These findings reveal cyclophilin A functions in normal mammary epithelial development and ErbB2-driven mammary tumorigenesis and suggest therapies targeting cyclophilin A may be efficacious for breast cancer treatment.<b>Graphical Abstract:</b> http://cancerres.aacrjournals.org/content/canres/78/14/3877/F1.large.jpg <i></i>."
                                },
                                {
                                    "Disease Name": "Ovarian Carcinoma",
                                    "MeSH_heading": "Neoplasms",
                                    "Associated Genes": "CYPA",
                                    "sentence": "Although overexpression of cyclophilin A (CypA) is associated with several types of cancer, its role in pancreatic cancer has not been studied."
                                },
                                {
                                    "Disease Name": "Severe Sepsis",
                                    "MeSH_heading": "Pathological Conditions, Signs and Symptoms",
                                    "Associated Genes": "CYPA",
                                    "sentence": "In this study, we explored whether CsCyPA immunization could prevent or ameliorate mice sepsis induced by cecum ligation puncture (CLP)."
                                },
                                {
                                    "Disease Name": "Aortic ectasia",
                                    "MeSH_heading": "Cardiovascular Diseases",
                                    "Associated Genes": "CYPA",
                                    "sentence": "The expression analysis of these 32 genes by RT-qPCR showed that EIF2B1, ELF1, and PPIA remained constant in their expression levels in the different specimen groups, thus being insensitive to aortic valve morphology, aortic dilatation, hypertension, and medication with ACE inhibitors or AT1 receptor antagonists."
                                },
                                {
                                    "Disease Name": "Endometriotic Cyst of the Ovary",
                                    "MeSH_heading": "Female Urogenital Diseases and Pregnancy Complications",
                                    "Associated Genes": "CYPA",
                                    "sentence": "Finally, the relationship between CyPA immunoreactivity and the clinicopathological findings related to endometrioma were evaluated."
                                },
                                {
                                    "Disease Name": "Ovarian Carcinoma",
                                    "MeSH_heading": "Neoplasms",
                                    "Associated Genes": "CYPA",
                                    "sentence": "We apply our approach to elucidate the allosteric mechanism in cyclophilin A (CypA), a peptidyl-prolyl cis-trans isomerase known to participate in diverse biological processes and be associated with many diseases including cancer."
                                },
                                {
                                    "Disease Name": "Ovarian Carcinoma",
                                    "MeSH_heading": "Neoplasms",
                                    "Associated Genes": "CYPA",
                                    "sentence": "Due to its promotive effects on GICs, CypA is a potential target for future glioma therapy.<i></i>."
                                },
                                {
                                    "Disease Name": "Rare malignant breast tumor",
                                    "MeSH_heading": "Skin and Connective Tissue Diseases",
                                    "Associated Genes": "CYPA",
                                    "sentence": "Using MDA-MB-231 as a model breast cancer cell line, we provide evidence that PFN1 overexpression is associated with alterations in the expression of proteins that have been functionally linked to cell proliferation (FKPB1A, HDGF, MIF, PRDX1, TXNRD1, LGALS1, STMN1, LASP1, S100A11, S100A6), survival (HSPE1, HSPB1, HSPD1, HSPA5 and PPIA, YWHAZ, CFL1, NME1) and motility (CFL1, CORO1B, PFN2, PLS3, FLNA, FLNB, NME2, ARHGDIB)."
                                },
                                {
                                    "Disease Name": "Rare malignant breast tumor",
                                    "MeSH_heading": "Skin and Connective Tissue Diseases",
                                    "Associated Genes": "CYPA",
                                    "sentence": "The prolyl isomerase cyclophilin A (CypA) regulates the Jak2/Stat5 pathway, which is necessary for mammary differentiation and the pathogenesis of breast cancer."
                                },
                                {
                                    "Disease Name": "Rare malignant breast tumor",
                                    "MeSH_heading": "Skin and Connective Tissue Diseases",
                                    "Associated Genes": "CYPA",
                                    "sentence": "Luciferase assay validated that PPIA was a direct target of miR-192-5p. miR-192-5p sensitizes breast cancer cells to DOX by targeting PPIA, suggesting that miR-192-5p might serve as a novel target for reversing DOX resistance and controlling breast tumor growth."
                                },
                                {
                                    "Disease Name": "Rare malignant breast tumor",
                                    "MeSH_heading": "Skin and Connective Tissue Diseases",
                                    "Associated Genes": "CYPA",
                                    "sentence": "We report that the peptidyl-prolyl isomerase (PPI) cyclophilin A (CypA), which is implicated in the regulation of protein conformation, is necessary for the prolactin (PRL)-induced activation of Jak2 and the progression of human breast cancer."
                                },
                                {
                                    "Disease Name": "Rare malignant breast tumor",
                                    "MeSH_heading": "Skin and Connective Tissue Diseases",
                                    "Associated Genes": "CYPA",
                                    "sentence": "Cyclophilin A (CypA) and ribosomal protein L17 (RPL17) were overexpressed in breast cancer-associated brain metastases, whereas tumor protein 63 (TP63) and von Willebrand factor A domain-containing 8 (VWA8) were significantly downregulated in breast cancer brain metastases."
                                },
                                {
                                    "Disease Name": "Adult Glioblastoma Multiforme",
                                    "MeSH_heading": "Neoplasms",
                                    "Associated Genes": "CYPA",
                                    "sentence": "These results not only establish the relevance of CypA to glioblastoma growth in vitro and in vivo, but also suggest that small interfering RNA-based CypA knockdown could be an effective therapeutic approach against glioblastomas."
                                },
                                {
                                    "Disease Name": "Adult Glioblastoma Multiforme",
                                    "MeSH_heading": "Neoplasms",
                                    "Associated Genes": "CYPA",
                                    "sentence": "Tumor-Associated Fibronectin Targeted Liposomal Nanoplatform for Cyclophilin A siRNA Delivery and Targeted Malignant Glioblastoma Therapy."
                                },
                                {
                                    "Disease Name": "Squamous cell carcinoma of the esophagus",
                                    "MeSH_heading": "Digestive System Diseases",
                                    "Associated Genes": "CYPA",
                                    "sentence": "This study analyzed the correlation of cyclophilin A (CypA) and matrix metalloproteinase 9 (MMP9) in ESCC and their relationships to clinicopathological features and survival."
                                },
                                {
                                    "Disease Name": "Malignant Lung Tumor",
                                    "MeSH_heading": "Respiratory Tract Diseases",
                                    "Associated Genes": "CYPA",
                                    "sentence": "Cyclophilin A (CypA) is associated with metastasis in diverse cancers; however, its role in lung cancer metastasis and the underlying mechanisms remain poorly understood."
                                },
                                {
                                    "Disease Name": "Ovarian Carcinoma",
                                    "MeSH_heading": "Neoplasms",
                                    "Associated Genes": "CYPA",
                                    "sentence": "Although the interaction between cyclophilin A and CD147 is well established in inflammatory disease, that of cyclophilin B (CypB) with CD147 has not been fully explored, especially in cancer cell biology, and the exact molecular mechanism underlying such an association is poorly understood."
                                },
                                {
                                    "Disease Name": "Rare dyslipidemia",
                                    "MeSH_heading": "Nutritional and Metabolic Diseases",
                                    "Associated Genes": "CYPA",
                                    "sentence": "AP-CAV-1 enhanced CAV-1 expression by ˃15%, inhibited CypA expression by ˃50% (P < 0.05) and significantly improved dyslipidemia, thus reducing neutral lipid peroxidation."
                                },
                                {
                                    "Disease Name": "Facioscapulohumeral dystrophy",
                                    "MeSH_heading": "Congenital, Hereditary, and Neonatal Diseases and Abnormalities",
                                    "Associated Genes": "CYPA",
                                    "sentence": "To understand better the role of nonstructural protein 2B of the causative agent FMD virus (FMDV) in the process of virus replication, we identified a porcine host protein, cyclophilin A (CypA), which interacts with FMDV 2B."
                                },
                                {
                                    "Disease Name": "Gestational Diabetes",
                                    "MeSH_heading": "Endocrine System Diseases",
                                    "Associated Genes": "CYPA",
                                    "sentence": "Serum CyPA and body mass index were independently associated with the development of complicated pregnancy as pre-eclampsia, GH or GDM."
                                },
                                {
                                    "Disease Name": "Gestational Diabetes",
                                    "MeSH_heading": "Endocrine System Diseases",
                                    "Associated Genes": "CYPA",
                                    "sentence": "The roles of PPIA in obesity were observed on a high-fat diet obesity model and a gestational diabetes obesity model."
                                },
                                {
                                    "Disease Name": "Rare carcinoma of pancreas",
                                    "MeSH_heading": "Endocrine System Diseases",
                                    "Associated Genes": "CYPA",
                                    "sentence": "Thus, soluble CypA may affect cell growth of pancreatic cancer."
                                },
                                {
                                    "Disease Name": "Rare carcinoma of pancreas",
                                    "MeSH_heading": "Endocrine System Diseases",
                                    "Associated Genes": "CYPA",
                                    "sentence": "In this study the expression of CypA and its receptor CD147 on pancreatic cancer was determined as well as the effect of exogenous CypA on pancreatic cancer cell proliferation."
                                },
                                {
                                    "Disease Name": "Hepatitis E",
                                    "MeSH_heading": "Digestive System Diseases",
                                    "Associated Genes": "CYPA",
                                    "sentence": "We further modified this line to rescue expression of CYPA before terminal differentiation to HLCs and performed HEV infection studies."
                                },
                                {
                                    "Disease Name": "Left Ventricular Hypertrophy",
                                    "MeSH_heading": "Pathological Conditions, Signs and Symptoms",
                                    "Associated Genes": "CYPA",
                                    "sentence": "High CyPA levels and low melatonin levels are independent risk factors for LVH (p = 0.000)."
                                },
                                {
                                    "Disease Name": "Small cell lung cancer",
                                    "MeSH_heading": "Respiratory Tract Diseases",
                                    "Associated Genes": "CYPA",
                                    "sentence": "Elucidation of the precise role of CypA in these pathways may lead to new targeted therapies for small cell lung cancer."
                                },
                                {
                                    "Disease Name": "Aggravated Arthritis",
                                    "MeSH_heading": "Musculoskeletal Diseases",
                                    "Associated Genes": "CYPA",
                                    "sentence": "Our findings provide evidence that PPIase CypA promoted macrophages polarization toward pro-inflammatory M1 phenotype via transcriptional activating NF-κB, thus leading to aggravated arthritis."
                                },
                                {
                                    "Disease Name": "Small cell lung cancer",
                                    "MeSH_heading": "Respiratory Tract Diseases",
                                    "Associated Genes": "CYPA",
                                    "sentence": "Elucidation of the precise role of CypA in these pathways may lead to new targeted therapies for small cell lung cancer."
                                },
                                {
                                    "Disease Name": "tuberculosis",
                                    "MeSH_heading": "Infections",
                                    "Associated Genes": "CYPA",
                                    "sentence": "Earlier, in our immunoproteomic analysis, we found that peptidyl-prolyl cis-trans isomerase A (PpiA) protein-containing fractions induced significantly higher interferon-gamma (IFN-γ) response in LTBI than in PTB."
                                },
                                {
                                    "Disease Name": "Congenital contractural arachnodactyly",
                                    "MeSH_heading": "Congenital, Hereditary, and Neonatal Diseases and Abnormalities",
                                    "Associated Genes": "CYPA",
                                    "sentence": "The effect of silencing CypA on CCA tumor growth was determined in nude mice."
                                },
                                {
                                    "Disease Name": "Congenital contractural arachnodactyly",
                                    "MeSH_heading": "Congenital, Hereditary, and Neonatal Diseases and Abnormalities",
                                    "Associated Genes": "CYPA",
                                    "sentence": "Cell proliferation, cell cycle, ERK1/2, p38 MAPK, NF-κB, and STAT3 activities were examined by MTS assay, flow cytometry, and Western blot. sCypA was detected in CM from MMNK1 (an immortalized human cholangiocyte cell line) and six CCA cell lines."
                                },
                                {
                                    "Disease Name": "Brain Metastasis",
                                    "MeSH_heading": "Pathological Conditions, Signs and Symptoms",
                                    "Associated Genes": "CYPA",
                                    "sentence": "Furthermore, the expression of CypA and RPL17 in brain metastases were significantly increased compared with that in primary breast tumors, and the expression of TP63 and VWA8 in brain metastases were significantly decreased."
                                },
                                {
                                    "Disease Name": "Cholangiocarcinoma",
                                    "MeSH_heading": "Neoplasms",
                                    "Associated Genes": "CYPA",
                                    "sentence": "Cyclophilin A (CypA) was shown to be upregulated in human cholangiocarcinoma (CCA) tissues."
                                },
                                {
                                    "Disease Name": "Cholangiocarcinoma",
                                    "MeSH_heading": "Neoplasms",
                                    "Associated Genes": "CYPA",
                                    "sentence": "However, the role and mechanisms of CypA in liver fluke-associated cholangiocarcinoma (CCA) are not presently known."
                                },
                                {
                                    "Disease Name": "Tumor Progression",
                                    "MeSH_heading": "Pathological Conditions, Signs and Symptoms",
                                    "Associated Genes": "CYPA",
                                    "sentence": "Recently, various of studies indicated that CYPA has critical impact on cancer progression."
                                },
                                {
                                    "Disease Name": "Tumor Progression",
                                    "MeSH_heading": "Pathological Conditions, Signs and Symptoms",
                                    "Associated Genes": "CYPA",
                                    "sentence": "The mechanism by which CypA contributes to cancer progression appears to involve a complex interplay of proteins and pathways including membrane receptor for CypA, CD147, and CypA binding partners inside the cells."
                                },
                                {
                                    "Disease Name": "Hypoxia-Ischemia, Brain",
                                    "MeSH_heading": "Cardiovascular Diseases",
                                    "Associated Genes": "CYPA",
                                    "sentence": "The Cyclophilin A (CypA)/Apoptosis Inducing Factor (AIF) complex is implicated in the DNA degradation in response to various cellular stress conditions, such as oxidative stress, cerebral hypoxia-ischemia and traumatic brain injury."
                                },
                                {
                                    "Disease Name": "INFLAMMATORY DISEASES OF THE CENTRAL NERVOUS SYSTEM",
                                    "MeSH_heading": "Nervous System Diseases",
                                    "Associated Genes": "CYPA",
                                    "sentence": "The contribution of cyclophilin A to immune-mediated central nervous system inflammation."
                                },
                                {
                                    "Disease Name": "Familial abdominal aortic aneurysm",
                                    "MeSH_heading": "Cardiovascular Diseases",
                                    "Associated Genes": "CYPA",
                                    "sentence": "The AAA wall tissue from simvastatin-treated patients had significantly lower CyPA gene expression and protein levels (P = 0.0018, P = 0.0083, respectively)."
                                },
                                {
                                    "Disease Name": "Right Ventricular Hypertrophy",
                                    "MeSH_heading": "Pathological Conditions, Signs and Symptoms",
                                    "Associated Genes": "CYPA",
                                    "sentence": "In contrast, CyPA(±) and Bsg(±) mice exposed to hypoxia for 4 weeks revealed significantly reduced right ventricular systolic pressure, pulmonary artery remodeling, and right ventricular hypertrophy compared with their littermate controls."
                                },
                                {
                                    "Disease Name": "FAMILIAL ATYPICAL MOLE-MALIGNANT MELANOMA SYNDROME",
                                    "MeSH_heading": "Skin and Connective Tissue Diseases",
                                    "Associated Genes": "CYPA",
                                    "sentence": "High expression levels of PPIA were associated with decreased overall survival in low grade glioma, acute myeloid leukemia, lung adenocarcinoma, skin cutaneous melanoma and liver hepatocellular carcinoma (LIHC)."
                                },
                                {
                                    "Disease Name": "Human prion disease",
                                    "MeSH_heading": "Nervous System Diseases",
                                    "Associated Genes": "CYPA",
                                    "sentence": "This suggests that CypA contributes to dampening the pro-inflammatory microglial response during the early stage of RML-induced prion disease."
                                },
                                {
                                    "Disease Name": "LUNG CANCER",
                                    "MeSH_heading": "Neoplasms",
                                    "Associated Genes": "CYPA",
                                    "sentence": "Here we investigated the implications of CypA expression for outcome in patients with lung adenocarcinoma."
                                },
                                {
                                    "Disease Name": "Acute Myocardial Infarction",
                                    "MeSH_heading": "Pathological Conditions, Signs and Symptoms",
                                    "Associated Genes": "CYPA",
                                    "sentence": "Interestingly, in patients with acute myocardial infarction (AMI) platelet-bound CyPA was significantly decreased compared with patients with stable CAD."
                                },
                                {
                                    "Disease Name": "Acute Myocardial Infarction",
                                    "MeSH_heading": "Pathological Conditions, Signs and Symptoms",
                                    "Associated Genes": "CYPA",
                                    "sentence": "In patients with acute myocardial infarction CyPA platelet surface expression is significantly decreased."
                                },
                                {
                                    "Disease Name": "Metastatic Tumor to the Lung",
                                    "MeSH_heading": "Respiratory Tract Diseases",
                                    "Associated Genes": "CYPA",
                                    "sentence": "Lung metastasis mouse models were used for the first time to confirm that CypA promoted NSCLC metastasis in vivo."
                                },
                                {
                                    "Disease Name": "Cancer of Brain",
                                    "MeSH_heading": "Nervous System Diseases",
                                    "Associated Genes": "CYPA",
                                    "sentence": "After systemic administration of these new siRNA delivery NPs, they can target the glioma cells and efficiently inhibit the GBM tumor growth by silencing the expression of cyclophilin A (CypA), which is up-regulated in brain cancer and plays an important role in malignant transformation of brain cancer and maintaining glioma cell stemness."
                                },
                                {
                                    "Disease Name": "Malignant Oral Neoplasm",
                                    "MeSH_heading": "Stomatognathic Diseases",
                                    "Associated Genes": "CYPA",
                                    "sentence": "Proteomics of buccal squamous cell carcinoma: the involvement of multiple pathways in tumorigenesis."
                                },
                                {
                                    "Disease Name": "Primary Malignant Neoplasm",
                                    "MeSH_heading": "Neoplasms",
                                    "Associated Genes": "CYPA",
                                    "sentence": "In this study, A549 and H1299 cell lines with downregulated and overexpressed CypA, respectively, were constructed by lentivirus transfection of NSCLC cells. in vitro experiments, including wound healing and transwell assays and Western blotting, showed that CypA promoted cancer cell migration and epithelial-mesenchymal transition in NSCLC."
                                },
                                {
                                    "Disease Name": "Primary Malignant Neoplasm",
                                    "MeSH_heading": "Neoplasms",
                                    "Associated Genes": "CYPA",
                                    "sentence": "Although the interaction between cyclophilin A and CD147 is well established in inflammatory disease, that of cyclophilin B (CypB) with CD147 has not been fully explored, especially in cancer cell biology, and the exact molecular mechanism underlying such an association is poorly understood."
                                },
                                {
                                    "Disease Name": "Primary Malignant Neoplasm",
                                    "MeSH_heading": "Neoplasms",
                                    "Associated Genes": "CYPA",
                                    "sentence": "Due to its promotive effects on GICs, CypA is a potential target for future glioma therapy.<i></i>."
                                },
                                {
                                    "Disease Name": "Primary Malignant Neoplasm",
                                    "MeSH_heading": "Neoplasms",
                                    "Associated Genes": "CYPA",
                                    "sentence": "In response to tumor hypoxia, cyclophilin A (CypA) is over-expressed in various cancer types, and is associated with cell apoptosis, tumor invasion, metastasis, and chemoresistance in PDAC."
                                },
                                {
                                    "Disease Name": "Primary Malignant Neoplasm",
                                    "MeSH_heading": "Neoplasms",
                                    "Associated Genes": "CYPA",
                                    "sentence": "These results demonstrate an important role for CypA in the regulation of Jak2/Stat5-mediated biology in mammary epithelium, identifying this isomerase as a novel target for therapeutic intervention.<b>Significance:</b> These findings reveal cyclophilin A functions in normal mammary epithelial development and ErbB2-driven mammary tumorigenesis and suggest therapies targeting cyclophilin A may be efficacious for breast cancer treatment.<b>Graphical Abstract:</b> http://cancerres.aacrjournals.org/content/canres/78/14/3877/F1.large.jpg <i></i>."
                                },
                                {
                                    "Disease Name": "Primary Malignant Neoplasm",
                                    "MeSH_heading": "Neoplasms",
                                    "Associated Genes": "CYPA",
                                    "sentence": "CYPA has been implicated in several pathological processes, including cancer, inflammatory diseases, and HIV-1 infection."
                                },
                                {
                                    "Disease Name": "Adult Lymphoma",
                                    "MeSH_heading": "Immune System Diseases",
                                    "Associated Genes": "CYPA",
                                    "sentence": "Loss of expression of B2M, and gain of expression of PRDX1 and PPIA was confirmed in the cell lines and primary lymphoma tissue."
                                },
                                {
                                    "Disease Name": "Pediatric Lymphoma",
                                    "MeSH_heading": "Immune System Diseases",
                                    "Associated Genes": "CYPA",
                                    "sentence": "Loss of expression of B2M, and gain of expression of PRDX1 and PPIA was confirmed in the cell lines and primary lymphoma tissue."
                                },
                                {
                                    "Disease Name": "Rare breast tumor",
                                    "MeSH_heading": "Skin and Connective Tissue Diseases",
                                    "Associated Genes": "CYPA",
                                    "sentence": "Prolyl isomerase cyclophilin A regulation of Janus-activated kinase 2 and the progression of human breast cancer."
                                },
                                {
                                    "Disease Name": "Smoking, Tobacco and Cancer-Behavior",
                                    "MeSH_heading": "Behavior and Behavior Mechanisms",
                                    "Associated Genes": "CYPA",
                                    "sentence": "Mercapturic Acids Derived from the Toxicants Acrolein and Crotonaldehyde in the Urine of Cigarette Smokers from Five Ethnic Groups with Differing Risks for Lung Cancer."
                                },
                                {
                                    "Disease Name": "ST Elevation Myocardial Infarction",
                                    "MeSH_heading": "Pathological Conditions, Signs and Symptoms",
                                    "Associated Genes": "CYPA",
                                    "sentence": "Inflammatory biomarkers - pentraxin-3 (PTX3), cyclophilin A (CypA) and heparin-binding epidermal growth factor-like growth factor (HB-EGF) were examined in patients with ST-segment elevation myocardial infarction (STEMI) undergoing revascularization with primary percutaneous coronary intervention (pPCI) and stent implanting."
                                },
                                {
                                    "Disease Name": "Tuberculosis Infection",
                                    "MeSH_heading": "Infections",
                                    "Associated Genes": "CYPA",
                                    "sentence": "Earlier, in our immunoproteomic analysis, we found that peptidyl-prolyl cis-trans isomerase A (PpiA) protein-containing fractions induced significantly higher interferon-gamma (IFN-γ) response in LTBI than in PTB."
                                },
                                {
                                    "Disease Name": "Glioblastoma",
                                    "MeSH_heading": "Neoplasms",
                                    "Associated Genes": "CYPA",
                                    "sentence": "After systemic administration of these new siRNA delivery NPs, they can target the glioma cells and efficiently inhibit the GBM tumor growth by silencing the expression of cyclophilin A (CypA), which is up-regulated in brain cancer and plays an important role in malignant transformation of brain cancer and maintaining glioma cell stemness."
                                },
                                {
                                    "Disease Name": "Glioblastoma",
                                    "MeSH_heading": "Neoplasms",
                                    "Associated Genes": "CYPA",
                                    "sentence": "These results not only establish the relevance of CypA to glioblastoma growth in vitro and in vivo, but also suggest that small interfering RNA-based CypA knockdown could be an effective therapeutic approach against glioblastomas."
                                },
                                {
                                    "Disease Name": "Hereditary diffuse gastric cancer",
                                    "MeSH_heading": "Digestive System Diseases",
                                    "Associated Genes": "CYPA",
                                    "sentence": "Two-dimensional differential in-gel electrophoresis for identification of gastric cancer-specific protein markers."
                                },
                                {
                                    "Disease Name": "Matthew-Wood syndrome",
                                    "MeSH_heading": "Congenital, Hereditary, and Neonatal Diseases and Abnormalities",
                                    "Associated Genes": "CYPA",
                                    "sentence": "Consistent with other studies, HIF-1α and CypA promoted PDAC cell proliferation and invasion, and suppressed apoptosis in vitro."
                                },
                                {
                                    "Disease Name": "CAD",
                                    "MeSH_heading": "Cardiovascular Diseases",
                                    "Associated Genes": "CYPA",
                                    "sentence": "The results indicate that plasma CyPA levels can be used to predict all-cause death, rehospitalization, and coronary revascularization in patients with coronary artery disease and that when combined with other biomarkers (hsCRP and brain natriuretic peptide levels), the CyPA levels have further enhanced prognostic impacts in those patients."
                                },
                                {
                                    "Disease Name": "CAD",
                                    "MeSH_heading": "Cardiovascular Diseases",
                                    "Associated Genes": "CYPA",
                                    "sentence": "Using an <i>ex vivo</i> model of cultured macrophages isolated from patients with type 2 diabetes with and without coronary artery disease (CAD), we measured the effect of metformin on cyclophilin A expression, lipid accumulation, expression of scavenger receptors, plasma cytokine levels and AMP-activated protein kinase (AMPK) activity in macrophages."
                                },
                                {
                                    "Disease Name": "CAD",
                                    "MeSH_heading": "Cardiovascular Diseases",
                                    "Associated Genes": "CYPA",
                                    "sentence": "Welchs two-sample t test indicated an association of SNP rs6850: A > G, located at the 5' UTR region with increased plasma levels of cyclophilin A in patients with coronary artery disease and with coronary artery disease associated with diabetes."
                                },
                                {
                                    "Disease Name": "CAD",
                                    "MeSH_heading": "Cardiovascular Diseases",
                                    "Associated Genes": "CYPA",
                                    "sentence": "Moreover, plasma CyPA levels can predict all-cause death in patients with coronary artery disease and pulmonary hypertension."
                                },
                                {
                                    "Disease Name": "CAD",
                                    "MeSH_heading": "Cardiovascular Diseases",
                                    "Associated Genes": "CYPA",
                                    "sentence": "Genotyping for CyPA PPIA rs6850 was performed in 752 patients with symptomatic CAD."
                                },
                                {
                                    "Disease Name": "CAD",
                                    "MeSH_heading": "Cardiovascular Diseases",
                                    "Associated Genes": "CYPA",
                                    "sentence": "Interestingly, in patients with acute myocardial infarction (AMI) platelet-bound CyPA was significantly decreased compared with patients with stable CAD."
                                },
                                {
                                    "Disease Name": "Low Grade Glioma",
                                    "MeSH_heading": "Neoplasms",
                                    "Associated Genes": "CYPA",
                                    "sentence": "High expression levels of PPIA were associated with decreased overall survival in low grade glioma, acute myeloid leukemia, lung adenocarcinoma, skin cutaneous melanoma and liver hepatocellular carcinoma (LIHC)."
                                },
                                {
                                    "Disease Name": "Hepatocellular carcinoma",
                                    "MeSH_heading": "Digestive System Diseases",
                                    "Associated Genes": "CYPA",
                                    "sentence": "Mechanistically, cyclophilin A (CypA) was identified as an important molecule for USP4-mediated oncogenic activity in HCC."
                                },
                                {
                                    "Disease Name": "Hepatocellular carcinoma",
                                    "MeSH_heading": "Digestive System Diseases",
                                    "Associated Genes": "CYPA",
                                    "sentence": "Positivity for CypA was significantly higher in stage III and IV HCC than in stage I and II (p<0.05)."
                                },
                                {
                                    "Disease Name": "Hepatocellular carcinoma",
                                    "MeSH_heading": "Digestive System Diseases",
                                    "Associated Genes": "CYPA",
                                    "sentence": "Our results indicate that PPIA levels were significantly higher in the HCC tissues compared to the matched peritumoral tissues."
                                },
                                {
                                    "Disease Name": "Hepatocellular carcinoma",
                                    "MeSH_heading": "Digestive System Diseases",
                                    "Associated Genes": "CYPA",
                                    "sentence": "High expression level of peptidylprolyl isomerase A is correlated with poor prognosis of liver hepatocellular carcinoma."
                                },
                                {
                                    "Disease Name": "Hepatocellular carcinoma",
                                    "MeSH_heading": "Digestive System Diseases",
                                    "Associated Genes": "CYPA",
                                    "sentence": "Finally, overexpression of CypA was observed in human HCC tissues."
                                },
                                {
                                    "Disease Name": "Hepatocellular carcinoma",
                                    "MeSH_heading": "Digestive System Diseases",
                                    "Associated Genes": "CYPA",
                                    "sentence": "Taken together, our data suggest that CypA promotes HCC cell metastasis at least partially through up-regulation of MMP3 and MMP9."
                                },
                                {
                                    "Disease Name": "Hepatocellular carcinoma",
                                    "MeSH_heading": "Digestive System Diseases",
                                    "Associated Genes": "CYPA",
                                    "sentence": "Up-regulation of CYPA has been found to be a common phenomenon in several tumor types, including in hepatocellular carcinoma (HCC)."
                                },
                                {
                                    "Disease Name": "Chronic thromboembolic pulmonary hypertension",
                                    "MeSH_heading": "Cardiovascular Diseases",
                                    "Associated Genes": "CYPA",
                                    "sentence": "Cyclophilin A as a biomarker for the therapeutic effect of balloon angioplasty in chronic thromboembolic pulmonary hypertension."
                                },
                                {
                                    "Disease Name": "Acute Pulmonary Embolism",
                                    "MeSH_heading": "Cardiovascular Diseases",
                                    "Associated Genes": "CYPA",
                                    "sentence": "We conclude that the cyclophilin A-CD147 interaction may represent a potential therapeutic target for managing APE."
                                },
                                {
                                    "Disease Name": "Nasopharyngeal carcinoma",
                                    "MeSH_heading": "Otorhinolaryngologic Diseases",
                                    "Associated Genes": "CYPA",
                                    "sentence": "In our previous study, five different secretory proteins, including GSN, ADAMTSL4, CALR, PPIA and TXN, have been identified to be associated with the nasopharyngeal carcinoma (NPC) metastasis.In this work, the 5 proteins were further investigated."
                                },
                                {
                                    "Disease Name": "Nasopharyngeal carcinoma",
                                    "MeSH_heading": "Otorhinolaryngologic Diseases",
                                    "Associated Genes": "CYPA",
                                    "sentence": "Whether CYPA can be detected in sera of nasopharyngeal carcinoma (NPC) patients remains to be explored."
                                },
                                {
                                    "Disease Name": "Peri-Implantitis",
                                    "MeSH_heading": "Stomatognathic Diseases",
                                    "Associated Genes": "CYPA",
                                    "sentence": "The aim of this split-mouth animal study was to describe variable trends of biomarkers during the progression of peri-implantitis and to define relationships among CyPA, Emmprin, and peri-implantitis."
                                },
                                {
                                    "Disease Name": "Metastatic Cancer",
                                    "MeSH_heading": "Pathological Conditions, Signs and Symptoms",
                                    "Associated Genes": "CYPA",
                                    "sentence": "Additionally, data indicated that knockdown of CYPA by its shRNA dramatically reduces migration and invasion capacity of SOC cells in vitro and blocks tumor metastasis in vivo."
                                },
                                {
                                    "Disease Name": "Pulmonary arterial hypertension",
                                    "MeSH_heading": "Cardiovascular Diseases",
                                    "Associated Genes": "CYPA",
                                    "sentence": "Cyclophilin A (CyPA) can be secreted from cells in response to hypoxia and oxidative stress, which are involved in inducing autophagy and regulating the function of endothelial cells in pulmonary arterial hypertension."
                                },
                                {
                                    "Disease Name": "Idiopathic/heritable pulmonary arterial hypertension",
                                    "MeSH_heading": "Respiratory Tract Diseases",
                                    "Associated Genes": "CYPA",
                                    "sentence": "Cyclophilin A (CyPA) can be secreted from cells in response to hypoxia and oxidative stress, which are involved in inducing autophagy and regulating the function of endothelial cells in pulmonary arterial hypertension."
                                },
                                {
                                    "Disease Name": "Idiopathic/heritable pulmonary arterial hypertension",
                                    "MeSH_heading": "Respiratory Tract Diseases",
                                    "Associated Genes": "CYPA",
                                    "sentence": "In transgenic mice that express high levels of CypA in EC specifically, a PAH phenotype was observed at 3 months including increased right ventricular systolic pressure, α-smooth muscle actin expression in small arterioles, and CD45-positive cells in the lungs."
                                },
                                {
                                    "Disease Name": "Middle East Respiratory Syndrome",
                                    "MeSH_heading": "Infections",
                                    "Associated Genes": "CYPA",
                                    "sentence": "Here, we investigated the CypA dependence of three distantly related nidoviruses that can all replicate in Huh7 cells: the arterivirus equine arteritis virus (EAV), the alphacoronavirus human coronavirus 229E (HCoV-229E), and the betacoronavirus Middle East respiratory syndrome coronavirus (MERS-CoV)."
                                },
                                {
                                    "Disease Name": "Infection",
                                    "MeSH_heading": "Infections",
                                    "Associated Genes": "CYPA",
                                    "sentence": "Requirement for cyclophilin A for the replication of vesicular stomatitis virus New Jersey serotype."
                                },
                                {
                                    "Disease Name": "Infection",
                                    "MeSH_heading": "Infections",
                                    "Associated Genes": "CYPA",
                                    "sentence": "Polymorphisms in the regulatory region of the Cyclophilin A gene influence the susceptibility for HIV-1 infection."
                                },
                                {
                                    "Disease Name": "Skin Erosion",
                                    "MeSH_heading": "Skin and Connective Tissue Diseases",
                                    "Associated Genes": "CYPA",
                                    "sentence": "In vivo experiments found that the cartilage erosion scores in CypA injection group were significantly higher than those in control group (P < 0.05)."
                                },
                                {
                                    "Disease Name": "CERVICAL CANCER",
                                    "MeSH_heading": "Female Urogenital Diseases and Pregnancy Complications",
                                    "Associated Genes": "CYPA",
                                    "sentence": "Annexin profiling suggested that cell death could be due to necrosis as observed by upregulation of necrotic markers such as LDH A, Rip-1, and Cyclophilin A. Necrosis appears to be a better therapeutic response as it could further activate pro-inflammatory cytokines to attract immune cells to eliminate HPV-integrated cells and therefore TALEN editing strategy has the potential to be a promising tool as an adjuvant therapy in cervical cancer along with surgery."
                                },
                                {
                                    "Disease Name": "FRONTOMETAPHYSEAL DYSPLASIA 1",
                                    "MeSH_heading": "Congenital, Hereditary, and Neonatal Diseases and Abnormalities",
                                    "Associated Genes": "CYPA",
                                    "sentence": "To understand better the role of nonstructural protein 2B of the causative agent FMD virus (FMDV) in the process of virus replication, we identified a porcine host protein, cyclophilin A (CypA), which interacts with FMDV 2B."
                                },
                                {
                                    "Disease Name": "Ovarian Carcinoma",
                                    "MeSH_heading": "Endocrine System Diseases",
                                    "Associated Genes": "CYPA",
                                    "sentence": "Further, CYPA was significantly associated with clinical stage and lymphnode metastasis of SOC patients."
                                },
                                {
                                    "Disease Name": "Clear cell renal carcinoma",
                                    "MeSH_heading": "Female Urogenital Diseases and Pregnancy Complications",
                                    "Associated Genes": "CYPA",
                                    "sentence": "Our study demonstrated the suitability of the two housekeeping genes PPIA and TBP as endogenous reference genes when comparing malignant tissue samples with adjacent normal tissue samples from clear cell renal cell carcinoma."
                                },
                                {
                                    "Disease Name": "Solid Neoplasm",
                                    "MeSH_heading": "Neoplasms",
                                    "Associated Genes": "CYPA",
                                    "sentence": "Cyclophilin A (CypA) has been reported to be overexpressed in cancer cells, especially in solid tumors."
                                },
                                {
                                    "Disease Name": "Solid Neoplasm",
                                    "MeSH_heading": "Neoplasms",
                                    "Associated Genes": "CYPA",
                                    "sentence": "Although cyclophilin A (CypA) has been reported to be over-expressed in cancer cells and solid tumors, its expression and role in glioblastomas have not been studied."
                                },
                                {
                                    "Disease Name": "Childhood Glioblastoma",
                                    "MeSH_heading": "Neoplasms",
                                    "Associated Genes": "CYPA",
                                    "sentence": "Tumor-Associated Fibronectin Targeted Liposomal Nanoplatform for Cyclophilin A siRNA Delivery and Targeted Malignant Glioblastoma Therapy."
                                },
                                {
                                    "Disease Name": "Childhood Glioblastoma",
                                    "MeSH_heading": "Neoplasms",
                                    "Associated Genes": "CYPA",
                                    "sentence": "These results not only establish the relevance of CypA to glioblastoma growth in vitro and in vivo, but also suggest that small interfering RNA-based CypA knockdown could be an effective therapeutic approach against glioblastomas."
                                },
                                {
                                    "Disease Name": "Rare cancer of cervix uteri",
                                    "MeSH_heading": "Female Urogenital Diseases and Pregnancy Complications",
                                    "Associated Genes": "CYPA",
                                    "sentence": "Annexin profiling suggested that cell death could be due to necrosis as observed by upregulation of necrotic markers such as LDH A, Rip-1, and Cyclophilin A. Necrosis appears to be a better therapeutic response as it could further activate pro-inflammatory cytokines to attract immune cells to eliminate HPV-integrated cells and therefore TALEN editing strategy has the potential to be a promising tool as an adjuvant therapy in cervical cancer along with surgery."
                                },
                                {
                                    "Disease Name": "Rare carcinoma of pancreas",
                                    "MeSH_heading": "Endocrine System Diseases",
                                    "Associated Genes": "CYPA",
                                    "sentence": "In this study the expression of CypA and its receptor CD147 on pancreatic cancer was determined as well as the effect of exogenous CypA on pancreatic cancer cell proliferation."
                                },
                                {
                                    "Disease Name": "Rare carcinoma of pancreas",
                                    "MeSH_heading": "Endocrine System Diseases",
                                    "Associated Genes": "CYPA",
                                    "sentence": "Thus, soluble CypA may affect cell growth of pancreatic cancer."
                                },
                                {
                                    "Disease Name": "Surface Gastric Cancer",
                                    "MeSH_heading": "Digestive System Diseases",
                                    "Associated Genes": "CYPA",
                                    "sentence": "Cyclophilin A Enhances Cell Proliferation and Xenografted Tumor Growth of Early Gastric Cancer."
                                },
                                {
                                    "Disease Name": "PROSTATE CANCER",
                                    "MeSH_heading": "Male Urogenital Diseases",
                                    "Associated Genes": "CYPA",
                                    "sentence": "Here, we have shown that induction of CypA is associated with hypoxia in a variety of cells, including DU145 human prostate cancer cell line."
                                },
                                {
                                    "Disease Name": "ENDOMETRIAL CANCER",
                                    "MeSH_heading": "Female Urogenital Diseases and Pregnancy Complications",
                                    "Associated Genes": "CYPA",
                                    "sentence": "These data suggest that cyclophilin A may serve as a novel prognostic factor and possibly an attractive therapeutic target for endometrial carcinoma."
                                },
                                {
                                    "Disease Name": "ENDOMETRIAL CANCER",
                                    "MeSH_heading": "Female Urogenital Diseases and Pregnancy Complications",
                                    "Associated Genes": "CYPA",
                                    "sentence": "Down-regulation of focal adhesion signaling in response to cyclophilin A knockdown in human endometrial cancer cells, implicated by cDNA microarray analysis."
                                },
                                {
                                    "Disease Name": "Rare neurodegenerative disease",
                                    "MeSH_heading": "Nervous System Diseases",
                                    "Associated Genes": "CYPA",
                                    "sentence": "Our data point toward distinct CypA structural determinants governing the inhibitor selectivity and the differential biological effects of AIF and CsA, and provide new structural insights for designing CypA/AIF selective inhibitors with therapeutic relevance in neurodegenerative diseases."
                                },
                                {
                                    "Disease Name": "Carcinogenesis",
                                    "MeSH_heading": "Pathological Conditions, Signs and Symptoms",
                                    "Associated Genes": "CYPA",
                                    "sentence": "Role of cyclophilin a during oncogenesis."
                                },
                                {
                                    "Disease Name": "Carcinogenesis",
                                    "MeSH_heading": "Pathological Conditions, Signs and Symptoms",
                                    "Associated Genes": "CYPA",
                                    "sentence": "Cyclophilin A (CypA) is a cytosolic protein involved in multiple biological functions, such as inflammation, tissue remodeling, tumorigenesis, and vascular diseases."
                                },
                                {
                                    "Disease Name": "Carcinogenesis",
                                    "MeSH_heading": "Pathological Conditions, Signs and Symptoms",
                                    "Associated Genes": "CYPA",
                                    "sentence": "These results suggest that CypA is important in tumorigenesis, especially in tumor apoptosis."
                                },
                                {
                                    "Disease Name": "Carcinogenesis",
                                    "MeSH_heading": "Pathological Conditions, Signs and Symptoms",
                                    "Associated Genes": "CYPA",
                                    "sentence": "The suppression of CypA expression was correlated with decreased NSCLC cell tumorigenesis and metastasis."
                                },
                                {
                                    "Disease Name": "Carcinogenesis",
                                    "MeSH_heading": "Pathological Conditions, Signs and Symptoms",
                                    "Associated Genes": "CYPA",
                                    "sentence": "These results indicate a special function mode for CypA of playing more important roles in the early stage of gastric tumorigenesis and suggest CypA as a new molecular target of diagnosis and treatment for GC patients."
                                },
                                {
                                    "Disease Name": "Ovarian Carcinoma",
                                    "MeSH_heading": "Male Urogenital Diseases",
                                    "Associated Genes": "CYPA",
                                    "sentence": "Here, we have shown that induction of CypA is associated with hypoxia in a variety of cells, including DU145 human prostate cancer cell line."
                                },
                                {
                                    "Disease Name": "Ovarian Carcinoma",
                                    "MeSH_heading": "Male Urogenital Diseases",
                                    "Associated Genes": "CYPA",
                                    "sentence": "Up-regulated expression of mammary tumor 8 kDa protein (MAT-8), complement component C1S (C1S), ferritin heavy chain (FTH1), peptidyl-prolyl cis-trans isomerase A (PPIA), RNA-binding protein regulatory subunit DJ-1 protein (DJ-1) and vacuolar ATP synthase subunit F (ATP6V1F) was determined in prostate carcinoma and confirmed by using quantitative real-time RT-PCR analyses."
                                },
                                {
                                    "Disease Name": "Refractory Cancer",
                                    "MeSH_heading": "Neoplasms",
                                    "Associated Genes": "CYPA",
                                    "sentence": "We postulate that the over-expression of CYPA in tumors may play a role in clinical resistance to chemotherapy."
                                },
                                {
                                    "Disease Name": "Rare malignant breast tumor",
                                    "MeSH_heading": "Skin and Connective Tissue Diseases",
                                    "Associated Genes": "CYPA",
                                    "sentence": "The prolyl isomerase cyclophilin A (CypA) regulates the Jak2/Stat5 pathway, which is necessary for mammary differentiation and the pathogenesis of breast cancer."
                                },
                                {
                                    "Disease Name": "Rare malignant breast tumor",
                                    "MeSH_heading": "Skin and Connective Tissue Diseases",
                                    "Associated Genes": "CYPA",
                                    "sentence": "Luciferase assay validated that PPIA was a direct target of miR-192-5p. miR-192-5p sensitizes breast cancer cells to DOX by targeting PPIA, suggesting that miR-192-5p might serve as a novel target for reversing DOX resistance and controlling breast tumor growth."
                                },
                                {
                                    "Disease Name": "Rare malignant breast tumor",
                                    "MeSH_heading": "Skin and Connective Tissue Diseases",
                                    "Associated Genes": "CYPA",
                                    "sentence": "Cyclophilin A (CypA) and ribosomal protein L17 (RPL17) were overexpressed in breast cancer-associated brain metastases, whereas tumor protein 63 (TP63) and von Willebrand factor A domain-containing 8 (VWA8) were significantly downregulated in breast cancer brain metastases."
                                },
                                {
                                    "Disease Name": "Rare malignant breast tumor",
                                    "MeSH_heading": "Skin and Connective Tissue Diseases",
                                    "Associated Genes": "CYPA",
                                    "sentence": "We report that the peptidyl-prolyl isomerase (PPI) cyclophilin A (CypA), which is implicated in the regulation of protein conformation, is necessary for the prolactin (PRL)-induced activation of Jak2 and the progression of human breast cancer."
                                },
                                {
                                    "Disease Name": "Rare malignant breast tumor",
                                    "MeSH_heading": "Skin and Connective Tissue Diseases",
                                    "Associated Genes": "CYPA",
                                    "sentence": "Using MDA-MB-231 as a model breast cancer cell line, we provide evidence that PFN1 overexpression is associated with alterations in the expression of proteins that have been functionally linked to cell proliferation (FKPB1A, HDGF, MIF, PRDX1, TXNRD1, LGALS1, STMN1, LASP1, S100A11, S100A6), survival (HSPE1, HSPB1, HSPD1, HSPA5 and PPIA, YWHAZ, CFL1, NME1) and motility (CFL1, CORO1B, PFN2, PLS3, FLNA, FLNB, NME2, ARHGDIB)."
                                },
                                {
                                    "Disease Name": "LUNG CANCER",
                                    "MeSH_heading": "Respiratory Tract Diseases",
                                    "Associated Genes": "CYPA",
                                    "sentence": "The current study focused on evaluating the potential of CyPA and MIF as prognostic markers in patients with a new diagnosis of lung cancer for rapid translation into clinical practice."
                                },
                                {
                                    "Disease Name": "LUNG CANCER",
                                    "MeSH_heading": "Respiratory Tract Diseases",
                                    "Associated Genes": "CYPA",
                                    "sentence": "Here, we studied the expression of CypA and its receptor CD147 in several kinds of lung cancer cells as well as a normal lung cell and found that in H446 cell, a kind of small cell lung cancer cell, the expression are the highest."
                                },
                                {
                                    "Disease Name": "LUNG CANCER",
                                    "MeSH_heading": "Respiratory Tract Diseases",
                                    "Associated Genes": "CYPA",
                                    "sentence": "Cyclophilin A (CypA) is associated with metastasis in diverse cancers; however, its role in lung cancer metastasis and the underlying mechanisms remain poorly understood."
                                },
                                {
                                    "Disease Name": "Metastases to Lymph Nodes",
                                    "MeSH_heading": "Pathological Conditions, Signs and Symptoms",
                                    "Associated Genes": "CYPA",
                                    "sentence": "In this study, we showed that both HIF-1α and CypA expression were significantly associated with lymph node metastasis and tumor stage."
                                },
                                {
                                    "Disease Name": "Rare carcinoma of stomach",
                                    "MeSH_heading": "Digestive System Diseases",
                                    "Associated Genes": "CYPA",
                                    "sentence": "Transient suppression of CypA reduced the proliferation of BGC-823 and SGC-7901 GC cell lines."
                                },
                                {
                                    "Disease Name": "ACS",
                                    "MeSH_heading": "Congenital, Hereditary, and Neonatal Diseases and Abnormalities",
                                    "Associated Genes": "CYPA",
                                    "sentence": "We screened participants of the ACS for the C1604G and A1650G polymorphisms in the regulatory regions of CypA."
                                },
                                {
                                    "Disease Name": "Acute Cerebrovascular Accidents",
                                    "MeSH_heading": "Cardiovascular Diseases",
                                    "Associated Genes": "CYPA",
                                    "sentence": "Plasma concentration of Cyclophilin A was measured on admission in 66 consecutive patients who had been hospitalized for acute cerebral stroke and in 52 case-control subjects without a history of acute stroke."
                                },
                                {
                                    "Disease Name": "Preeclampsia",
                                    "MeSH_heading": "Cardiovascular Diseases",
                                    "Associated Genes": "CYPA",
                                    "sentence": "Serum CyPA and body mass index were independently associated with the development of complicated pregnancy as pre-eclampsia, GH or GDM."
                                },
                                {
                                    "Disease Name": "Rare cardiomyopathy",
                                    "MeSH_heading": "Cardiovascular Diseases",
                                    "Associated Genes": "CYPA",
                                    "sentence": "Thus, we first evaluated CyPA expression levels in the right ventricle (RV) tissue specimens obtained from ACM patients and healthy controls (HC) by immunohistochemistry."
                                },
                                {
                                    "Disease Name": "Ovarian Neoplasm",
                                    "MeSH_heading": "Endocrine System Diseases",
                                    "Associated Genes": "CYPA",
                                    "sentence": "Further, CYPA was significantly associated with clinical stage and lymphnode metastasis of SOC patients."
                                },
                                {
                                    "Disease Name": "STROKE, ISCHEMIC",
                                    "MeSH_heading": "Cardiovascular Diseases",
                                    "Associated Genes": "CYPA",
                                    "sentence": "Increased plasma Cyclophilin A levels might be involved in the pathophysiology of acute ischemic stroke and Cyclophilin A might serve as a biomarker in risk assessment of acute stroke patients."
                                },
                                {
                                    "Disease Name": "Ovarian cancer",
                                    "MeSH_heading": "Endocrine System Diseases",
                                    "Associated Genes": "CYPA",
                                    "sentence": "Further, CYPA was significantly associated with clinical stage and lymphnode metastasis of SOC patients."
                                },
                                {
                                    "Disease Name": "Acute respiratory coronavirus infection",
                                    "MeSH_heading": "Respiratory Tract Diseases",
                                    "Associated Genes": "CYPA",
                                    "sentence": "Nucleocapsid protein of SARS coronavirus tightly binds to human cyclophilin A."
                                },
                                {
                                    "Disease Name": "ATTENTION DEFICIT-HYPERACTIVITY DISORDER",
                                    "MeSH_heading": "Mental Disorders",
                                    "Associated Genes": "CYPA",
                                    "sentence": "Specifically, the globalEVT method is able to detect genes related to Cyclophilin A like domain proteins which is known to play an important role in the mechanisms of ADHD development."
                                },
                                {
                                    "Disease Name": "Inflammatory Disease",
                                    "MeSH_heading": "Pathological Conditions, Signs and Symptoms",
                                    "Associated Genes": "CYPA",
                                    "sentence": "Although the interaction between cyclophilin A and CD147 is well established in inflammatory disease, that of cyclophilin B (CypB) with CD147 has not been fully explored, especially in cancer cell biology, and the exact molecular mechanism underlying such an association is poorly understood."
                                },
                                {
                                    "Disease Name": "Primary Malignant Neoplasm",
                                    "MeSH_heading": "Neoplasms",
                                    "Associated Genes": "CYPA",
                                    "sentence": "The expression level of PPIA was significantly associated with levels of basigin and signal transducer and activator of transcription 3, which may be major effectors of PPIA in the progression of the cancer."
                                },
                                {
                                    "Disease Name": "Primary Malignant Neoplasm",
                                    "MeSH_heading": "Neoplasms",
                                    "Associated Genes": "CYPA",
                                    "sentence": "Overexpressed cyclophilin A in cancer cells renders resistance to hypoxia- and cisplatin-induced cell death."
                                },
                                {
                                    "Disease Name": "Primary Malignant Neoplasm",
                                    "MeSH_heading": "Neoplasms",
                                    "Associated Genes": "CYPA",
                                    "sentence": "For example, CypA protein displays an unusually high expression in several cancer types and correlates with poor outcome of the patients."
                                },
                                {
                                    "Disease Name": "Primary Malignant Neoplasm",
                                    "MeSH_heading": "Neoplasms",
                                    "Associated Genes": "CYPA",
                                    "sentence": "Although overexpression of cyclophilin A (CypA) is associated with several types of cancer, its role in pancreatic cancer has not been studied."
                                },
                                {
                                    "Disease Name": "Primary Malignant Neoplasm",
                                    "MeSH_heading": "Neoplasms",
                                    "Associated Genes": "CYPA",
                                    "sentence": "We apply our approach to elucidate the allosteric mechanism in cyclophilin A (CypA), a peptidyl-prolyl cis-trans isomerase known to participate in diverse biological processes and be associated with many diseases including cancer."
                                },
                                {
                                    "Disease Name": "Ovarian Carcinoma",
                                    "MeSH_heading": "Female Urogenital Diseases and Pregnancy Complications",
                                    "Associated Genes": "CYPA",
                                    "sentence": "In conclusion, our results recommend the use of PPIA as a single reference gene to be considered for improved reliability of normalization in gene expression studies involving endometrial tumor samples at different tumor degrees."
                                },
                                {
                                    "Disease Name": "Rare epilepsy",
                                    "MeSH_heading": "Nervous System Diseases",
                                    "Associated Genes": "CYPA",
                                    "sentence": "Uncaria rhynchophylla upregulates the expression of MIF and cyclophilin A in kainic acid-induced epilepsy rats: A proteomic analysis."
                                },
                                {
                                    "Disease Name": "FIBROMUSCULAR DYSPLASIA",
                                    "MeSH_heading": "Cardiovascular Diseases",
                                    "Associated Genes": "CYPA",
                                    "sentence": "To understand better the role of nonstructural protein 2B of the causative agent FMD virus (FMDV) in the process of virus replication, we identified a porcine host protein, cyclophilin A (CypA), which interacts with FMDV 2B."
                                },
                                {
                                    "Disease Name": "Foot-and-Mouth Disease",
                                    "MeSH_heading": "Animal Diseases",
                                    "Associated Genes": "CYPA",
                                    "sentence": "Foot-and-mouth disease virus nonstructural protein 2B interacts with cyclophilin A, modulating virus replication."
                                },
                                {
                                    "Disease Name": "Glioblastoma",
                                    "MeSH_heading": "Neoplasms",
                                    "Associated Genes": "CYPA",
                                    "sentence": "After systemic administration of these new siRNA delivery NPs, they can target the glioma cells and efficiently inhibit the GBM tumor growth by silencing the expression of cyclophilin A (CypA), which is up-regulated in brain cancer and plays an important role in malignant transformation of brain cancer and maintaining glioma cell stemness."
                                },
                                {
                                    "Disease Name": "Glioblastoma",
                                    "MeSH_heading": "Neoplasms",
                                    "Associated Genes": "CYPA",
                                    "sentence": "These results not only establish the relevance of CypA to glioblastoma growth in vitro and in vivo, but also suggest that small interfering RNA-based CypA knockdown could be an effective therapeutic approach against glioblastomas."
                                },
                                {
                                    "Disease Name": "Glial tumor",
                                    "MeSH_heading": "Neoplasms",
                                    "Associated Genes": "CYPA",
                                    "sentence": "After systemic administration of these new siRNA delivery NPs, they can target the glioma cells and efficiently inhibit the GBM tumor growth by silencing the expression of cyclophilin A (CypA), which is up-regulated in brain cancer and plays an important role in malignant transformation of brain cancer and maintaining glioma cell stemness."
                                },
                                {
                                    "Disease Name": "Glial tumor",
                                    "MeSH_heading": "Neoplasms",
                                    "Associated Genes": "CYPA",
                                    "sentence": "Cyclophilin A Maintains Glioma-Initiating Cell Stemness by Regulating Wnt/β-Catenin Signaling."
                                },
                                {
                                    "Disease Name": "Cowden syndrome",
                                    "MeSH_heading": "Congenital, Hereditary, and Neonatal Diseases and Abnormalities",
                                    "Associated Genes": "CYPA",
                                    "sentence": "This study analyzes the correlation between cyclophilin A, matrix metalloproteinase (MMP)-9, and tissue inhibitor of MMP (TIMP)/MMP-9 complexes in the inflamed and non-inflamed colon mucosa of UC and CD patients."
                                },
                                {
                                    "Disease Name": "Seasonal Allergic Rhinitis",
                                    "MeSH_heading": "Immune System Diseases",
                                    "Associated Genes": "CYPA",
                                    "sentence": "Eight Ole e 15-PPIA chimeras were produced in E. coli, purified and tested with 20 sera from Ole e 15-sensitized patients with olive pollen allergy by ELISA experiments."
                                },
                                {
                                    "Disease Name": "Heart Failure",
                                    "MeSH_heading": "Cardiovascular Diseases",
                                    "Associated Genes": "CYPA",
                                    "sentence": "Importantly, plasma CyPA levels are increased in patients with coronary artery disease, abdominal aortic aneurysms, pulmonary hypertension, and heart failure."
                                },
                                {
                                    "Disease Name": "Heart Failure",
                                    "MeSH_heading": "Cardiovascular Diseases",
                                    "Associated Genes": "CYPA",
                                    "sentence": "Here, we review the potential roles of CyPA and CD147 in cardiac remodelling and their implications for the development of novel pharmacological therapies for heart failure."
                                },
                                {
                                    "Disease Name": "Heart Failure",
                                    "MeSH_heading": "Cardiovascular Diseases",
                                    "Associated Genes": "CYPA",
                                    "sentence": "The events triggered by CyPA cause a decline of diastolic and systolic function and finally lead to the occurrence of heart failure."
                                },
                                {
                                    "Disease Name": "Cardiac Failure Congestive",
                                    "MeSH_heading": "Cardiovascular Diseases",
                                    "Associated Genes": "CYPA",
                                    "sentence": "The events triggered by CyPA cause a decline of diastolic and systolic function and finally lead to the occurrence of heart failure."
                                },
                                {
                                    "Disease Name": "Cardiac Failure Congestive",
                                    "MeSH_heading": "Cardiovascular Diseases",
                                    "Associated Genes": "CYPA",
                                    "sentence": "Importantly, plasma CyPA levels are increased in patients with coronary artery disease, abdominal aortic aneurysms, pulmonary hypertension, and heart failure."
                                },
                                {
                                    "Disease Name": "Cardiac Failure Congestive",
                                    "MeSH_heading": "Cardiovascular Diseases",
                                    "Associated Genes": "CYPA",
                                    "sentence": "Here, we review the potential roles of CyPA and CD147 in cardiac remodelling and their implications for the development of novel pharmacological therapies for heart failure."
                                },
                                {
                                    "Disease Name": "Ovarian Carcinoma",
                                    "MeSH_heading": "Digestive System Diseases",
                                    "Associated Genes": "CYPA",
                                    "sentence": "Proteomic analysis of hepatitis B surface antigen positive transgenic mouse liver and decrease of cyclophilin A."
                                },
                                {
                                    "Disease Name": "Ovarian Carcinoma",
                                    "MeSH_heading": "Digestive System Diseases",
                                    "Associated Genes": "CYPA",
                                    "sentence": "A number of reports have demonstrated that CyPA plays a critical role in the successful replication of viruses such as human immunodeficiency virus (HIV), hepatitis C virus (HCV), hepatitis B virus (HBV), etc."
                                },
                                {
                                    "Disease Name": "Ovarian Carcinoma",
                                    "MeSH_heading": "Digestive System Diseases",
                                    "Associated Genes": "CYPA",
                                    "sentence": "Interestingly, the hepatitis C virus (HCV) non-structural 5A (NS5A) protein, which is known to modulate the IFN response, competes with IRF9 for CypA binding and can prevent the formation of IRF9-CypA complexes."
                                },
                                {
                                    "Disease Name": "Ovarian Carcinoma",
                                    "MeSH_heading": "Digestive System Diseases",
                                    "Associated Genes": "CYPA",
                                    "sentence": "Different mechanisms of hepatitis C virus RNA polymerase activation by cyclophilin A and B in vitro."
                                },
                                {
                                    "Disease Name": "Ovarian Carcinoma",
                                    "MeSH_heading": "Digestive System Diseases",
                                    "Associated Genes": "CYPA",
                                    "sentence": "A number of reports have demonstrated that CyPA plays a critical role in the successful replication of viruses such as human immunodeficiency virus (HIV), hepatitis C virus (HCV), hepatitis B virus (HBV), etc."
                                },
                                {
                                    "Disease Name": "Ovarian Carcinoma",
                                    "MeSH_heading": "Digestive System Diseases",
                                    "Associated Genes": "CYPA",
                                    "sentence": "We thus compared the ability of CypA from mouse, tree shrew, and seven non-human primate species to support HCV replication, finding that murine CypA only partially rescued viral replication in Huh7.5-shRNA CypA cells."
                                },
                                {
                                    "Disease Name": "Ovarian Carcinoma",
                                    "MeSH_heading": "Digestive System Diseases",
                                    "Associated Genes": "CYPA",
                                    "sentence": "Engineering the mutations into wild-type HCV fully recapitulated the CyPA-independent and CsA-resistant phenotype and four putative proline substrates of CyPA were mapped to the vicinity of the DY motif."
                                },
                                {
                                    "Disease Name": "Ovarian Carcinoma",
                                    "MeSH_heading": "Digestive System Diseases",
                                    "Associated Genes": "CYPA",
                                    "sentence": "We also investigated the effect of D2 mutations conferring resistance of HCV replication to cyclophilin A (CypA) inhibitors on the structure of the recombinant D2 Con1 mutants and their binding to CypA."
                                },
                                {
                                    "Disease Name": "Ovarian Carcinoma",
                                    "MeSH_heading": "Digestive System Diseases",
                                    "Associated Genes": "CYPA",
                                    "sentence": "They include second-wave, first-generation, and second-generation NS3-4A protease inhibitors, nucleoside/nucleotide analogue inhibitors, and non-nucleoside inhibitors of HCV RNA-dependent RNA polymerase, inhibitors of nonstructural protein 5A and host-targeted agents, such as cyclophilin A inhibitors and microRNA-122 antagonists."
                                },
                                {
                                    "Disease Name": "Ovarian Carcinoma",
                                    "MeSH_heading": "Digestive System Diseases",
                                    "Associated Genes": "CYPA",
                                    "sentence": "Using shRNAs, we showed that CypA was required for replication of HCV in Huh-7.5 cells and identified 3 SNPs in PPIA that protected cells from HCV entry or replication."
                                },
                                {
                                    "Disease Name": "Ovarian Carcinoma",
                                    "MeSH_heading": "Digestive System Diseases",
                                    "Associated Genes": "CYPA",
                                    "sentence": "No direct molecular interaction has been detected by NMR spectroscopy between HCV NS5B(Δ21) and host CypA."
                                },
                                {
                                    "Disease Name": "Ovarian Carcinoma",
                                    "MeSH_heading": "Digestive System Diseases",
                                    "Associated Genes": "CYPA",
                                    "sentence": "Interactions of the Disordered Domain II of Hepatitis C Virus NS5A with Cyclophilin A, NS5B, and Viral RNA Show Extensive Overlap."
                                },
                                {
                                    "Disease Name": "Ovarian Carcinoma",
                                    "MeSH_heading": "Digestive System Diseases",
                                    "Associated Genes": "CYPA",
                                    "sentence": "Cyclophilin A allows the allosteric regulation of a structural motif in the disordered domain 2 of NS5A and thereby fine-tunes HCV RNA replication."
                                },
                                {
                                    "Disease Name": "Ovarian Carcinoma",
                                    "MeSH_heading": "Digestive System Diseases",
                                    "Associated Genes": "CYPA",
                                    "sentence": "Our data further show that MxB interacts with the HCV protein NS5A, thereby impairing NS5A interaction with CypA and NS5A localization to the endoplasmic reticulum, two events essential for HCV RNA replication."
                                },
                                {
                                    "Disease Name": "B Virus Infection",
                                    "MeSH_heading": "Infections",
                                    "Associated Genes": "CYPA",
                                    "sentence": "The stability of PPIA is in line with other studies investigating different herpesvirus infections whereas the finding that HHV-6B significantly upregulates TBP is novel and most likely specific to HHV-6B."
                                },
                                {
                                    "Disease Name": "HIV Infection",
                                    "MeSH_heading": "Immune System Diseases",
                                    "Associated Genes": "CYPA",
                                    "sentence": "However, we find that CypA is not required for the decreased infection observed in SUN2-silenced cells and, conversely, that endogenous SUN2 is not required for the well-documented positive modulation of HIV infection by CypA."
                                },
                                {
                                    "Disease Name": "Hypercholesterolemia",
                                    "MeSH_heading": "Nutritional and Metabolic Diseases",
                                    "Associated Genes": "CYPA",
                                    "sentence": "The analysis of classical risk factors for atherosclerosis revealed that patients with hypertension and hypercholesterolemia had significantly enhanced platelet-bound CyPA, whereas diabetes and smoking were not associated with enhanced CyPA-binding to the platelet surface."
                                },
                                {
                                    "Disease Name": "Hypercholesterolemia",
                                    "MeSH_heading": "Nutritional and Metabolic Diseases",
                                    "Associated Genes": "CYPA",
                                    "sentence": "Enhanced CyPA platelet surface expression is associated with hypertension and hypercholesterolemia in patients with stable coronary artery disease (CAD)."
                                },
                                {
                                    "Disease Name": "Hypercholesterolemia",
                                    "MeSH_heading": "Nutritional and Metabolic Diseases",
                                    "Associated Genes": "CYPA",
                                    "sentence": "In the present study, we tested the hypothesis that CAV-1 improves dyslipidemia, inhibits cyclophilin A (CypA)- mediated ROS production, prevents mitochondrial compensatory action and attenuates oxidative stress responses in cholesterol-induced hypercholesterolemia."
                                },
                                {
                                    "Disease Name": "Hyperglycemia",
                                    "MeSH_heading": "Nutritional and Metabolic Diseases",
                                    "Associated Genes": "CYPA",
                                    "sentence": "Our findings confirm that HPRT1, GUSB and PPIA are the most suitable reference genes for RPE cell gene expression experiments subjected to hypoxia and/or hyperglycemia."
                                },
                                {
                                    "Disease Name": "urinary tract disorder",
                                    "MeSH_heading": "Cardiovascular Diseases",
                                    "Associated Genes": "CYPA",
                                    "sentence": "Serum CyPA levels and the expression kinetics of CyPA‑associated signaling pathways were examined following simvastatin treatment in rat thoracic aortas during hypertension."
                                },
                                {
                                    "Disease Name": "urinary tract disorder",
                                    "MeSH_heading": "Cardiovascular Diseases",
                                    "Associated Genes": "CYPA",
                                    "sentence": "Enhanced CyPA platelet surface expression is associated with hypertension and hypercholesterolemia in patients with stable coronary artery disease (CAD)."
                                },
                                {
                                    "Disease Name": "urinary tract disorder",
                                    "MeSH_heading": "Cardiovascular Diseases",
                                    "Associated Genes": "CYPA",
                                    "sentence": "Moreover, plasma CyPA levels can predict all-cause death in patients with coronary artery disease and pulmonary hypertension."
                                },
                                {
                                    "Disease Name": "urinary tract disorder",
                                    "MeSH_heading": "Cardiovascular Diseases",
                                    "Associated Genes": "CYPA",
                                    "sentence": "Among the risk factors for cerebral stroke examined in this study, only hypertension was significantly associated with plasma Cyclophilin A level."
                                },
                                {
                                    "Disease Name": "urinary tract disorder",
                                    "MeSH_heading": "Cardiovascular Diseases",
                                    "Associated Genes": "CYPA",
                                    "sentence": "Enhanced platelet-bound CyPA is associated with hypertension and hypercholesterolemia in stable CAD patients."
                                },
                                {
                                    "Disease Name": "Rare inflammatory bowel disease",
                                    "MeSH_heading": "Digestive System Diseases",
                                    "Associated Genes": "CYPA",
                                    "sentence": "However, further studies are necessary to verify the role of CyPA in IBD development."
                                },
                                {
                                    "Disease Name": "Influenza",
                                    "MeSH_heading": "Respiratory Tract Diseases",
                                    "Associated Genes": "CYPA",
                                    "sentence": "This review briefly summarizes recent advances in understanding the roles of CypA during influenza virus infection."
                                },
                                {
                                    "Disease Name": "Influenza",
                                    "MeSH_heading": "Respiratory Tract Diseases",
                                    "Associated Genes": "CYPA",
                                    "sentence": "ChCypA protein was shown to be able to specifically interact with influenza virus M1 protein."
                                },
                                {
                                    "Disease Name": "urinary tract disorder",
                                    "MeSH_heading": "Female Urogenital Diseases and Pregnancy Complications",
                                    "Associated Genes": "CYPA",
                                    "sentence": "Albuminuria is the currently accepted marker for detection of DN.This study aims to evaluate the urinary level of two novel renal tubular proteins (cyclophilin A and periostin) in patients with T2DM and among different nephropathy stages and also to validate the diagnostic accuracy of both cyclophilin A and periostin as potential markers for early prediction of DN relative to albuminuria.This cross-sectional study recruited 137 patients with T2DM, and they were divided based on their urinary albumin:creatinine ratio into T2DM with normoalbuminuria (<i>group II</i>), incipient T2DN with microalbuminuria (<i>group III</i>) and overt T2DN with macroalbuminuria (<i>group</i><i>IV</i>) beside 41 healthy subjects as <i>group I</i> Cyclophilin A and periostin were measured in the urine using ELISA."
                                },
                                {
                                    "Disease Name": "Acute megakaryoblastic leukemia",
                                    "MeSH_heading": "Neoplasms",
                                    "Associated Genes": "CYPA",
                                    "sentence": "We determined the expression of alphaSMA and megakaryoblastic leukemia-1 (MKL1), a transcriptional regulator of alphaSMA, by quantitative real-time PCR using three common internal controls, glyceraldehyde-3-phosphate dehydrogenase (GAPDH), cyclophilin A and 18S rRNA."
                                },
                                {
                                    "Disease Name": "Acute myeloid leukemia with recurrent genetic anomaly",
                                    "MeSH_heading": "Neoplasms",
                                    "Associated Genes": "CYPA",
                                    "sentence": "High expression levels of PPIA were associated with decreased overall survival in low grade glioma, acute myeloid leukemia, lung adenocarcinoma, skin cutaneous melanoma and liver hepatocellular carcinoma (LIHC)."
                                },
                                {
                                    "Disease Name": "Ovarian Carcinoma",
                                    "MeSH_heading": "Neoplasms",
                                    "Associated Genes": "CYPA",
                                    "sentence": "Novel combinational treatment of cisplatin with cyclophilin A inhibitors in human heptocellular carcinomas."
                                },
                                {
                                    "Disease Name": "Malignant Endometrial Neoplasm",
                                    "MeSH_heading": "Female Urogenital Diseases and Pregnancy Complications",
                                    "Associated Genes": "CYPA",
                                    "sentence": "Down-regulation of focal adhesion signaling in response to cyclophilin A knockdown in human endometrial cancer cells, implicated by cDNA microarray analysis."
                                },
                                {
                                    "Disease Name": "Skin Neoplasm, Malignant",
                                    "MeSH_heading": "Skin and Connective Tissue Diseases",
                                    "Associated Genes": "CYPA",
                                    "sentence": "Surgery combined with local 5-aminolevulinic acid-photodynamic therapy on skin cancer and its effect on the expression of cyclophilin A, cyclophilin B and CD147."
                                },
                                {
                                    "Disease Name": "LUNG CANCER",
                                    "MeSH_heading": "Respiratory Tract Diseases",
                                    "Associated Genes": "CYPA",
                                    "sentence": "Protein expression profiling identifies macrophage migration inhibitory factor and cyclophilin a as potential molecular targets in non-small cell lung cancer."
                                },
                                {
                                    "Disease Name": "LUNG CANCER",
                                    "MeSH_heading": "Respiratory Tract Diseases",
                                    "Associated Genes": "CYPA",
                                    "sentence": "The present study aimed to examine 10 housekeeping genes (HKGs), including 18s ribosomal RNA (18S), glyceraldehyde‑3‑phosphate dehydrogenase (GAPDH), ribosomal protein large P0 (RPLP0), β‑actin (ACTB), peptidylprolyl isomerase A (PPIA), phosphoglycerate kinase‑1 (PGK1), β‑2‑microglobulin (B2M), ribosomal protein LI3a (RPL13A), hypoxanthine phosphoribosyl transferase‑1 (HPRT1) and TATA box binding protein (TBP) in order to identify the most stable and suitable reference genes for use in expression studies in non‑small cell lung cancer."
                                },
                                {
                                    "Disease Name": "LUNG CANCER",
                                    "MeSH_heading": "Respiratory Tract Diseases",
                                    "Associated Genes": "CYPA",
                                    "sentence": "Significantly, we show for the first time that CypA increased NSCLC cell invasion by regulating the activity of secreted matrix metallopeptidase 9 (MMP9)."
                                },
                                {
                                    "Disease Name": "LUNG CANCER",
                                    "MeSH_heading": "Respiratory Tract Diseases",
                                    "Associated Genes": "CYPA",
                                    "sentence": "Two hundred and thirty-four primary NSCLC specimens reflecting a broad range of histologies and stages were examined for CyPA and MIF reactivity by tissue microarray immunohistochemistry (TMA-IHC)."
                                },
                                {
                                    "Disease Name": "LUNG CANCER",
                                    "MeSH_heading": "Respiratory Tract Diseases",
                                    "Associated Genes": "CYPA",
                                    "sentence": "The p38 inhibitor SB203580 was used to show that p38 MAPK is involved in CypA-mediated NSCLC metastasis."
                                },
                                {
                                    "Disease Name": "LUNG CANCER",
                                    "MeSH_heading": "Respiratory Tract Diseases",
                                    "Associated Genes": "CYPA",
                                    "sentence": "Collectively, this study demonstrates that pharmacologic inhibition of CypA offers a potential therapeutic strategy via specific activation of p53-72R in NSCLC."
                                },
                                {
                                    "Disease Name": "Ovarian Carcinoma",
                                    "MeSH_heading": "Neoplasms",
                                    "Associated Genes": "CYPA",
                                    "sentence": "At least, SCC antigen, G protein, glutathione S-transferase, manganese superoxide dismutase, annexins, voltage-dependent anion channel, cyclophilin A, stratifin and galectin 7 are candidates for targeted proteins."
                                },
                                {
                                    "Disease Name": "Cardiovascular Disease (CVD)",
                                    "MeSH_heading": "Cardiovascular Diseases",
                                    "Associated Genes": "CYPA",
                                    "sentence": "Cyclophilin A (CypA) is secreted in response to oxidative stress and promotes inflammation and cardiovascular disease."
                                },
                                {
                                    "Disease Name": "Cardiovascular Disease (CVD)",
                                    "MeSH_heading": "Cardiovascular Diseases",
                                    "Associated Genes": "CYPA",
                                    "sentence": "The aim of this study was to investigate possible associations of CyPA platelet surface expression and a clinically relevant CyPA single-nucleotide polymorphism (CyPA PPIA rs6850) with prognosis in patients with symptomatic cardiovascular disease."
                                },
                                {
                                    "Disease Name": "Cardiovascular Disease (CVD)",
                                    "MeSH_heading": "Cardiovascular Diseases",
                                    "Associated Genes": "CYPA",
                                    "sentence": "Based on accumulating evidence, both CyPA and melatonin play important roles in cardiovascular diseases."
                                },
                                {
                                    "Disease Name": "Cardiovascular Disease (CVD)",
                                    "MeSH_heading": "Cardiovascular Diseases",
                                    "Associated Genes": "CYPA",
                                    "sentence": "This review discusses recently available data about CyPA in cardiovascular diseases, viral infections, neurodegeneration, cancer, rheumatoid arthritis, sepsis, asthma, periodontitis and aging."
                                },
                                {
                                    "Disease Name": "Cardiovascular Disease (CVD)",
                                    "MeSH_heading": "Cardiovascular Diseases",
                                    "Associated Genes": "CYPA",
                                    "sentence": "Additionally, plasma soluble Bsg levels are increased and predict all-cause death in patients with heart failure, suggesting that CyPA and Bsg are novel biomarkers for cardiovascular diseases."
                                },
                                {
                                    "Disease Name": "Cardiovascular Disease (CVD)",
                                    "MeSH_heading": "Cardiovascular Diseases",
                                    "Associated Genes": "CYPA",
                                    "sentence": "Cyclophilin A (CyPA) is involved in the pathophysiology of several inflammatory and cardiovascular diseases."
                                },
                                {
                                    "Disease Name": "Carotid Artery Stenosis",
                                    "MeSH_heading": "Cardiovascular Diseases",
                                    "Associated Genes": "CYPA",
                                    "sentence": "Cyclophilin A: A Predictive Biomarker of Carotid Stenosis in Cerebral Ischemic Stroke."
                                },
                                {
                                    "Disease Name": "Carotid Artery Stenosis",
                                    "MeSH_heading": "Cardiovascular Diseases",
                                    "Associated Genes": "CYPA",
                                    "sentence": "Cyclophilin A (CypA), secreted from vascular smooth muscle cells and inflammatory cells in response to oxidative stress, promotes vascular atherosclerosis and development of carotid stenosis."
                                },
                                {
                                    "Disease Name": "STROKE, ISCHEMIC",
                                    "MeSH_heading": "Pathological Conditions, Signs and Symptoms",
                                    "Associated Genes": "CYPA",
                                    "sentence": "Increased concentration of plasma CypA in acute cerebral infarction was demonstrated clinically."
                                },
                                {
                                    "Disease Name": "Rare cancer of cervix uteri",
                                    "MeSH_heading": "Female Urogenital Diseases and Pregnancy Complications",
                                    "Associated Genes": "CYPA",
                                    "sentence": "Annexin profiling suggested that cell death could be due to necrosis as observed by upregulation of necrotic markers such as LDH A, Rip-1, and Cyclophilin A. Necrosis appears to be a better therapeutic response as it could further activate pro-inflammatory cytokines to attract immune cells to eliminate HPV-integrated cells and therefore TALEN editing strategy has the potential to be a promising tool as an adjuvant therapy in cervical cancer along with surgery."
                                },
                                {
                                    "Disease Name": "COLORECTAL CANCER",
                                    "MeSH_heading": "Digestive System Diseases",
                                    "Associated Genes": "CYPA",
                                    "sentence": "The pair PPIA/RPLP0 is a common optimal reference for studies encompassing tissues sampled from colorectal cancer and IBD patients.Using ACTB or B2M is not recommended."
                                },
                                {
                                    "Disease Name": "Coronary Atherosclerosis",
                                    "MeSH_heading": "Cardiovascular Diseases",
                                    "Associated Genes": "CYPA",
                                    "sentence": "Moreover, plasma CyPA levels can predict all-cause death in patients with coronary artery disease and pulmonary hypertension."
                                },
                                {
                                    "Disease Name": "Coronary Atherosclerosis",
                                    "MeSH_heading": "Cardiovascular Diseases",
                                    "Associated Genes": "CYPA",
                                    "sentence": "The results indicate that plasma CyPA levels can be used to predict all-cause death, rehospitalization, and coronary revascularization in patients with coronary artery disease and that when combined with other biomarkers (hsCRP and brain natriuretic peptide levels), the CyPA levels have further enhanced prognostic impacts in those patients."
                                },
                                {
                                    "Disease Name": "Coronary Atherosclerosis",
                                    "MeSH_heading": "Cardiovascular Diseases",
                                    "Associated Genes": "CYPA",
                                    "sentence": "Platelet surface expression of cyclophilin A is associated with increased mortality in patients with symptomatic coronary artery disease."
                                },
                                {
                                    "Disease Name": "Coronary Atherosclerosis",
                                    "MeSH_heading": "Cardiovascular Diseases",
                                    "Associated Genes": "CYPA",
                                    "sentence": "Platelet-bound cyclophilin A in patients with stable coronary artery disease and acute myocardial infarction."
                                },
                                {
                                    "Disease Name": "Coronary Atherosclerosis",
                                    "MeSH_heading": "Cardiovascular Diseases",
                                    "Associated Genes": "CYPA",
                                    "sentence": "Welchs two-sample t test indicated an association of SNP rs6850: A > G, located at the 5' UTR region with increased plasma levels of cyclophilin A in patients with coronary artery disease and with coronary artery disease associated with diabetes."
                                },
                                {
                                    "Disease Name": "Coronary Disease",
                                    "MeSH_heading": "Cardiovascular Diseases",
                                    "Associated Genes": "CYPA",
                                    "sentence": "Moreover, plasma CyPA levels can predict all-cause death in patients with coronary artery disease and pulmonary hypertension."
                                },
                                {
                                    "Disease Name": "Coronary Disease",
                                    "MeSH_heading": "Cardiovascular Diseases",
                                    "Associated Genes": "CYPA",
                                    "sentence": "Platelet-bound cyclophilin A in patients with stable coronary artery disease and acute myocardial infarction."
                                },
                                {
                                    "Disease Name": "Coronary Disease",
                                    "MeSH_heading": "Cardiovascular Diseases",
                                    "Associated Genes": "CYPA",
                                    "sentence": "Welchs two-sample t test indicated an association of SNP rs6850: A > G, located at the 5' UTR region with increased plasma levels of cyclophilin A in patients with coronary artery disease and with coronary artery disease associated with diabetes."
                                },
                                {
                                    "Disease Name": "Coronary Disease",
                                    "MeSH_heading": "Cardiovascular Diseases",
                                    "Associated Genes": "CYPA",
                                    "sentence": "The results indicate that plasma CyPA levels can be used to predict all-cause death, rehospitalization, and coronary revascularization in patients with coronary artery disease and that when combined with other biomarkers (hsCRP and brain natriuretic peptide levels), the CyPA levels have further enhanced prognostic impacts in those patients."
                                },
                                {
                                    "Disease Name": "Coronary Disease",
                                    "MeSH_heading": "Cardiovascular Diseases",
                                    "Associated Genes": "CYPA",
                                    "sentence": "Platelet surface expression of cyclophilin A is associated with increased mortality in patients with symptomatic coronary artery disease."
                                },
                                {
                                    "Disease Name": "DERMATITIS, ATOPIC",
                                    "MeSH_heading": "Immune System Diseases",
                                    "Associated Genes": "CYPA",
                                    "sentence": "Furthermore, KLK7 (1.8-fold) and PPIA (0.65-fold) proteins were differentially expressed in lesional biopsy specimens from patients with AE relative to normal skin."
                                },
                                {
                                    "Disease Name": "diabetes mellitus (disease)",
                                    "MeSH_heading": "Endocrine System Diseases",
                                    "Associated Genes": "CYPA",
                                    "sentence": "Cyclophilin A was also detected in the plasma of patients with diabetes."
                                },
                                {
                                    "Disease Name": "diabetes mellitus (disease)",
                                    "MeSH_heading": "Endocrine System Diseases",
                                    "Associated Genes": "CYPA",
                                    "sentence": "Welchs two-sample t test indicated an association of SNP rs6850: A > G, located at the 5' UTR region with increased plasma levels of cyclophilin A in patients with coronary artery disease and with coronary artery disease associated with diabetes."
                                },
                                {
                                    "Disease Name": "diabetes mellitus (disease)",
                                    "MeSH_heading": "Endocrine System Diseases",
                                    "Associated Genes": "CYPA",
                                    "sentence": "The means by which cyclophilin A contributes to vascular lesion development in diabetes is however largely unknown."
                                },
                                {
                                    "Disease Name": "Rare diabetes mellitus",
                                    "MeSH_heading": "Endocrine System Diseases",
                                    "Associated Genes": "CYPA",
                                    "sentence": "The means by which cyclophilin A contributes to vascular lesion development in diabetes is however largely unknown."
                                },
                                {
                                    "Disease Name": "Rare diabetes mellitus",
                                    "MeSH_heading": "Endocrine System Diseases",
                                    "Associated Genes": "CYPA",
                                    "sentence": "Cyclophilin A was also detected in the plasma of patients with diabetes."
                                },
                                {
                                    "Disease Name": "Rare diabetes mellitus",
                                    "MeSH_heading": "Endocrine System Diseases",
                                    "Associated Genes": "CYPA",
                                    "sentence": "Welchs two-sample t test indicated an association of SNP rs6850: A > G, located at the 5' UTR region with increased plasma levels of cyclophilin A in patients with coronary artery disease and with coronary artery disease associated with diabetes."
                                },
                                {
                                    "Disease Name": "Rare diabetes mellitus type 2",
                                    "MeSH_heading": "Endocrine System Diseases",
                                    "Associated Genes": "CYPA",
                                    "sentence": "The association of SNPs with known blood markers of type 2 diabetes and coronary artery disease such as HbA1c, low- and high-density lipoproteins, triglycerides, fasting and postprandial blood sugar levels, and cyclophilin A were probed."
                                },
                                {
                                    "Disease Name": "Rare diabetes mellitus type 2",
                                    "MeSH_heading": "Endocrine System Diseases",
                                    "Associated Genes": "CYPA",
                                    "sentence": "Proteomic profiling of high glucose primed monocytes identifies cyclophilin A as a potential secretory marker of inflammation in type 2 diabetes."
                                },
                                {
                                    "Disease Name": "Rare diabetes mellitus type 2",
                                    "MeSH_heading": "Endocrine System Diseases",
                                    "Associated Genes": "CYPA",
                                    "sentence": "Diagnostic accuracy of both markers was determined for prediction of DN via receiver operating characteristic curve analyses.Urinary cyclophilin A and periostin levels were significantly higher in DN groups when compared with T2DM with normoalbuminuria group."
                                },
                                {
                                    "Disease Name": "Diabetic Vascular Disorder",
                                    "MeSH_heading": "Endocrine System Diseases",
                                    "Associated Genes": "CYPA",
                                    "sentence": "Increasing clinical evidence supports a role for the secretory protein, cyclophilin A in diabetic vascular disease."
                                },
                                {
                                    "Disease Name": "Diabetic Kidney Disease",
                                    "MeSH_heading": "Endocrine System Diseases",
                                    "Associated Genes": "CYPA",
                                    "sentence": "Periostin exhibits a higher diagnostic accuracy than urinary cyclophilin A specifically in overt DN stage."
                                },
                                {
                                    "Disease Name": "Diabetic Kidney Disease",
                                    "MeSH_heading": "Endocrine System Diseases",
                                    "Associated Genes": "CYPA",
                                    "sentence": "Cyclophilin A and CD147 associate with progression of diabetic nephropathy."
                                },
                                {
                                    "Disease Name": "Dysmenorrhea",
                                    "MeSH_heading": "Pathological Conditions, Signs and Symptoms",
                                    "Associated Genes": "CYPA",
                                    "sentence": "However, stromal and vascular endothelial CyPA expression were correlated with dysmenorrhea recurrence (p = 0.0023 and p = 0.0003, respectively)."
                                },
                                {
                                    "Disease Name": "Encephalomyelitis",
                                    "MeSH_heading": "Nervous System Diseases",
                                    "Associated Genes": "CYPA",
                                    "sentence": "These results showed that the loss of cyclophilin A results in altered peripheral immune activation and CNS leukocyte infiltration, but these changes did not result in a substantial change in the clinical course of EAE."
                                },
                                {
                                    "Disease Name": "Ovarian Carcinoma",
                                    "MeSH_heading": "Female Urogenital Diseases and Pregnancy Complications",
                                    "Associated Genes": "CYPA",
                                    "sentence": "Proteomics identification of cyclophilin a as a potential prognostic factor and therapeutic target in endometrial carcinoma."
                                },
                                {
                                    "Disease Name": "SCHIZOPHRENIA",
                                    "MeSH_heading": "Mental Disorders",
                                    "Associated Genes": "CYPA",
                                    "sentence": "The results show that people with schizophrenia had significantly less PPIA and SDHA mRNA and tended to have less GUSB and B2M mRNA, suggesting that these control genes may not be good candidates for normalization."
                                },
                                {
                                    "Disease Name": "Sepsis",
                                    "MeSH_heading": "Pathological Conditions, Signs and Symptoms",
                                    "Associated Genes": "CYPA",
                                    "sentence": "In this study, we explored whether CsCyPA immunization could prevent or ameliorate mice sepsis induced by cecum ligation puncture (CLP)."
                                },
                                {
                                    "Disease Name": "Smoking",
                                    "MeSH_heading": "Behavior and Behavior Mechanisms",
                                    "Associated Genes": "CYPA",
                                    "sentence": "Mercapturic Acids Derived from the Toxicants Acrolein and Crotonaldehyde in the Urine of Cigarette Smokers from Five Ethnic Groups with Differing Risks for Lung Cancer."
                                },
                                {
                                    "Disease Name": "Ovarian Carcinoma",
                                    "MeSH_heading": "Digestive System Diseases",
                                    "Associated Genes": "CYPA",
                                    "sentence": "Two-dimensional differential in-gel electrophoresis for identification of gastric cancer-specific protein markers."
                                },
                                {
                                    "Disease Name": "STROKE, ISCHEMIC",
                                    "MeSH_heading": "Cardiovascular Diseases",
                                    "Associated Genes": "CYPA",
                                    "sentence": "Our study revealed higher circulating serum levels of CypA in the hypertensive stroke group than in the non-hypertensive stroke group."
                                },
                                {
                                    "Disease Name": "STROKE, ISCHEMIC",
                                    "MeSH_heading": "Cardiovascular Diseases",
                                    "Associated Genes": "CYPA",
                                    "sentence": "Increasted serum cyclophilin A concentrations are highly associated with stroke severity and prognosis after hemorrhagic stroke."
                                },
                                {
                                    "Disease Name": "Toxoplasmosis, Ocular",
                                    "MeSH_heading": "Eye Diseases",
                                    "Associated Genes": "CYPA",
                                    "sentence": "A validated PPIA assay may have a role in the diagnosis of the atypical OT patient before more invasive anterior chamber or vitreous tap is performed for PCR analysis or for Goldmann-Witner coefficient calculations."
                                },
                                {
                                    "Disease Name": "Tuberculosis",
                                    "MeSH_heading": "Infections",
                                    "Associated Genes": "CYPA",
                                    "sentence": "Earlier, in our immunoproteomic analysis, we found that peptidyl-prolyl cis-trans isomerase A (PpiA) protein-containing fractions induced significantly higher interferon-gamma (IFN-γ) response in LTBI than in PTB."
                                },
                                {
                                    "Disease Name": "Uveitis",
                                    "MeSH_heading": "Eye Diseases",
                                    "Associated Genes": "CYPA",
                                    "sentence": "PPIA can identify the patient with active recurrent OT from acute OT, other forms of uveitis and other parasitic infections."
                                },
                                {
                                    "Disease Name": "Rare vascular disease",
                                    "MeSH_heading": "Cardiovascular Diseases",
                                    "Associated Genes": "CYPA",
                                    "sentence": "Cyclophilin A as a novel biphasic mediator of endothelial activation and dysfunction."
                                },
                                {
                                    "Disease Name": "Rare vascular disease",
                                    "MeSH_heading": "Cardiovascular Diseases",
                                    "Associated Genes": "CYPA",
                                    "sentence": "We examined the effect of single-nucleotide polymorphisms (SNPs) within the PPIA gene on plasma levels of cyclophilin A and coupled this with status of vascular disease in patients with and without type 2 diabetes in 212 South Indian subjects."
                                },
                                {
                                    "Disease Name": "Rare vascular disease",
                                    "MeSH_heading": "Cardiovascular Diseases",
                                    "Associated Genes": "CYPA",
                                    "sentence": "Cyclophilin A enhances macrophage differentiation and lipid uptake in high glucose conditions: a cellular mechanism for accelerated macro vascular disease in diabetes mellitus."
                                },
                                {
                                    "Disease Name": "Rare viral disease",
                                    "MeSH_heading": "Infections",
                                    "Associated Genes": "CYPA",
                                    "sentence": "Several coding and non-coding genetic variants in the PPIA gene encoding for CypA have been described, but there is only limited information about their influence on the course of viral infection."
                                },
                                {
                                    "Disease Name": "Rare viral disease",
                                    "MeSH_heading": "Infections",
                                    "Associated Genes": "CYPA",
                                    "sentence": "It has been reported that human cellular cyclophilin A (CypA) impaired influenza virus infection in 293T cells."
                                },
                                {
                                    "Disease Name": "Rare viral disease",
                                    "MeSH_heading": "Infections",
                                    "Associated Genes": "CYPA",
                                    "sentence": "Together, these evidences showed diverse roles of CyPA in viral infection."
                                },
                                {
                                    "Disease Name": "Rare viral disease",
                                    "MeSH_heading": "Infections",
                                    "Associated Genes": "CYPA",
                                    "sentence": "This review briefly summarizes recent advances in understanding the roles of CypA during influenza virus infection."
                                },
                                {
                                    "Disease Name": "Acute Pancreatitis",
                                    "MeSH_heading": "Digestive System Diseases",
                                    "Associated Genes": "CYPA",
                                    "sentence": "Serum CypA concentrations were significantly lower in controls than in AP group."
                                },
                                {
                                    "Disease Name": "LUNG CANCER",
                                    "MeSH_heading": "Respiratory Tract Diseases",
                                    "Associated Genes": "CYPA",
                                    "sentence": "Proteomic analysis of secreted proteins of non-small cell lung cancer."
                                },
                                {
                                    "Disease Name": "Alopecia",
                                    "MeSH_heading": "Pathological Conditions, Signs and Symptoms",
                                    "Associated Genes": "CYPA",
                                    "sentence": "The molecular chaperone CypA stimulates hair follicle and HDP cells through Wnt/β-catenin signaling pathway, suggesting that it might be a key molecule for hair loss disorder therapy."
                                },
                                {
                                    "Disease Name": "PRESENILE AND SENILE DEMENTIA",
                                    "MeSH_heading": "Mental Disorders",
                                    "Associated Genes": "CYPA",
                                    "sentence": "The CD147 protein interacts with other proteins such as cyclophilin A (CyPA), Cyclophilin B (CyPB), sterol carrier protein (SCP), caveolin-1 and integrins, and can influence amyloid-β (Aβ) peptide levels, a protein that is central to Alzheimer's disease (AD) pathogenesis."
                                },
                                {
                                    "Disease Name": "PRESENILE AND SENILE DEMENTIA",
                                    "MeSH_heading": "Mental Disorders",
                                    "Associated Genes": "CYPA",
                                    "sentence": "Subsequently, using PPIA and UBE2D2 as ERGs for normalization, the mRNA levels of paraoxonase 1 (PON1) and paraoxonase 2 (PON2) were quantified in the frontal cortex of AD and control cases (n=80) and analyzed using the REST 2009 program."
                                },
                                {
                                    "Disease Name": "Amyotrophic lateral sclerosis",
                                    "MeSH_heading": "Nutritional and Metabolic Diseases",
                                    "Associated Genes": "CYPA",
                                    "sentence": "Therefore, in the present study, we investigated the process of motor neuron degeneration as the disease progresses and to determine whether the CypA-AIF complex would play a role in inducing motor neuronal cell death in mutant superoxide dismutase 1 (SOD1)(G93A) ALS model mice."
                                },
                                {
                                    "Disease Name": "Amyotrophic lateral sclerosis",
                                    "MeSH_heading": "Nutritional and Metabolic Diseases",
                                    "Associated Genes": "CYPA",
                                    "sentence": "Our results indicates that extracellular PPIA is a promising druggable target for ALS and support further studies to develop a therapy to arrest or slow the progression of the disease in patients.<b>SIGNIFICANCE STATEMENT</b> We provide evidence that extracellular cyclophilin A, also known as peptidylprolyl cis-/trans-isomerase A (PPIA), is a mediator of the neuroinflammatory reaction in amyotrophic lateral sclerosis (ALS) and is toxic for motor neurons."
                                },
                                {
                                    "Disease Name": "Arteriosclerosis",
                                    "MeSH_heading": "Cardiovascular Diseases",
                                    "Associated Genes": "CYPA",
                                    "sentence": "The analysis of classical risk factors for atherosclerosis revealed that patients with hypertension and hypercholesterolemia had significantly enhanced platelet-bound CyPA, whereas diabetes and smoking were not associated with enhanced CyPA-binding to the platelet surface."
                                },
                                {
                                    "Disease Name": "Arteriosclerosis",
                                    "MeSH_heading": "Cardiovascular Diseases",
                                    "Associated Genes": "CYPA",
                                    "sentence": "Our data indicate that CyPA has proinflammatory effects on EC and may play an important role in the pathogenesis of inflammatory diseases, such as atherosclerosis."
                                },
                                {
                                    "Disease Name": "Arteriosclerosis",
                                    "MeSH_heading": "Cardiovascular Diseases",
                                    "Associated Genes": "CYPA",
                                    "sentence": "Cyclophilin A plays a pathogenic role in the development and progression of atherosclerosis, which can be assessed by measuring carotid intima-media thickness."
                                },
                                {
                                    "Disease Name": "Arteriosclerosis",
                                    "MeSH_heading": "Cardiovascular Diseases",
                                    "Associated Genes": "CYPA",
                                    "sentence": "We hypothesized that the genetic variation at the cyclophilin A gene (PPIA) could affect the risk for developing atherosclerosis and myocardial infarction."
                                },
                                {
                                    "Disease Name": "Arteriosclerosis",
                                    "MeSH_heading": "Cardiovascular Diseases",
                                    "Associated Genes": "CYPA",
                                    "sentence": "Using immunohistochemistry, we showed that REGγ was highly expressed in these plaques, and the result of RNA-seq in Human umbilical vein endothelial cells (HUVECs), led us to explore and indentify that REGγ significantly promoted cyclophilin A (CyPA) expression, which is a proinflammatory and proapoptotic molecule in atherosclerosis progression."
                                },
                                {
                                    "Disease Name": "Arteriosclerosis",
                                    "MeSH_heading": "Cardiovascular Diseases",
                                    "Associated Genes": "CYPA",
                                    "sentence": "Growing evidence implicates cyclophilin A secreted by vascular wall cells and monocytes as a key mediator in atherosclerosis."
                                },
                                {
                                    "Disease Name": "Arteriosclerosis",
                                    "MeSH_heading": "Cardiovascular Diseases",
                                    "Associated Genes": "CYPA",
                                    "sentence": "Given the paracrine and autocrine actions of cyclophilin A, the secreted immunophilin could be significant for progression of atherosclerosis in type 2 diabetes."
                                },
                                {
                                    "Disease Name": "Arteriosclerosis",
                                    "MeSH_heading": "Cardiovascular Diseases",
                                    "Associated Genes": "CYPA",
                                    "sentence": "Cyclophilin A (CypA), secreted from vascular smooth muscle cells and inflammatory cells in response to oxidative stress, promotes vascular atherosclerosis and development of carotid stenosis."
                                },
                                {
                                    "Disease Name": "Arteriosclerosis",
                                    "MeSH_heading": "Cardiovascular Diseases",
                                    "Associated Genes": "CYPA",
                                    "sentence": "Cyclophilin A (CyPA) is a major ROS-induced factor in atherosclerosis."
                                },
                                {
                                    "Disease Name": "RHEUMATOID ARTHRITIS",
                                    "MeSH_heading": "Immune System Diseases",
                                    "Associated Genes": "CYPA",
                                    "sentence": "Cyclophilin A up-regulates MMP-9 expression and adhesion of monocytes/macrophages via CD147 signalling pathway in rheumatoid arthritis."
                                },
                                {
                                    "Disease Name": "RHEUMATOID ARTHRITIS",
                                    "MeSH_heading": "Immune System Diseases",
                                    "Associated Genes": "CYPA",
                                    "sentence": "Contribution of cyclophilin A to the regulation of inflammatory processes in rheumatoid arthritis."
                                },
                                {
                                    "Disease Name": "RHEUMATOID ARTHRITIS",
                                    "MeSH_heading": "Immune System Diseases",
                                    "Associated Genes": "CYPA",
                                    "sentence": "Our study demonstrates that the increased expression of CD147 on neutrophils in RA may be responsible for CyPA-mediated neutrophil migration into the joints, elevated MMPs secretion and cell invasion of synoviocytes, all of which may contribute to the cartilage invasion and bone destruction of RA."
                                },
                                {
                                    "Disease Name": "Ovarian Carcinoma",
                                    "MeSH_heading": "Immune System Diseases",
                                    "Associated Genes": "CYPA",
                                    "sentence": "The suitability of using the PPIA gene as the HKG for such studies was questioned due to its low expression in asthmatics."
                                },
                                {
                                    "Disease Name": "Atherosclerotic Cardiovascular Disease",
                                    "MeSH_heading": "Cardiovascular Diseases",
                                    "Associated Genes": "CYPA",
                                    "sentence": "Pure, active, and uncontaminated CyPA does not induce endothelial TF or VCAM-1 expression; instead, it acts as a potent monocyte chemoattractant and induces monocyte Il-6 release, implying a role for extracellular CyPA in the pathogenesis of atherosclerosis via activation of monocytes rather than endothelial cells."
                                },
                                {
                                    "Disease Name": "Atherosclerotic Cardiovascular Disease",
                                    "MeSH_heading": "Cardiovascular Diseases",
                                    "Associated Genes": "CYPA",
                                    "sentence": "Growing evidence implicates cyclophilin A secreted by vascular wall cells and monocytes as a key mediator in atherosclerosis."
                                },
                                {
                                    "Disease Name": "Atherosclerotic Cardiovascular Disease",
                                    "MeSH_heading": "Cardiovascular Diseases",
                                    "Associated Genes": "CYPA",
                                    "sentence": "Given the paracrine and autocrine actions of cyclophilin A, the secreted immunophilin could be significant for progression of atherosclerosis in type 2 diabetes."
                                },
                                {
                                    "Disease Name": "Atherosclerotic Cardiovascular Disease",
                                    "MeSH_heading": "Cardiovascular Diseases",
                                    "Associated Genes": "CYPA",
                                    "sentence": "We hypothesized that the genetic variation at the cyclophilin A gene (PPIA) could affect the risk for developing atherosclerosis and myocardial infarction."
                                },
                                {
                                    "Disease Name": "Atherosclerotic Cardiovascular Disease",
                                    "MeSH_heading": "Cardiovascular Diseases",
                                    "Associated Genes": "CYPA",
                                    "sentence": "Cyclophilin A (CypA), secreted from vascular smooth muscle cells and inflammatory cells in response to oxidative stress, promotes vascular atherosclerosis and development of carotid stenosis."
                                },
                                {
                                    "Disease Name": "Atherosclerotic Cardiovascular Disease",
                                    "MeSH_heading": "Cardiovascular Diseases",
                                    "Associated Genes": "CYPA",
                                    "sentence": "Using immunohistochemistry, we showed that REGγ was highly expressed in these plaques, and the result of RNA-seq in Human umbilical vein endothelial cells (HUVECs), led us to explore and indentify that REGγ significantly promoted cyclophilin A (CyPA) expression, which is a proinflammatory and proapoptotic molecule in atherosclerosis progression."
                                },
                                {
                                    "Disease Name": "Atherosclerotic Cardiovascular Disease",
                                    "MeSH_heading": "Cardiovascular Diseases",
                                    "Associated Genes": "CYPA",
                                    "sentence": "The analysis of classical risk factors for atherosclerosis revealed that patients with hypertension and hypercholesterolemia had significantly enhanced platelet-bound CyPA, whereas diabetes and smoking were not associated with enhanced CyPA-binding to the platelet surface."
                                },
                                {
                                    "Disease Name": "Atherosclerotic Cardiovascular Disease",
                                    "MeSH_heading": "Cardiovascular Diseases",
                                    "Associated Genes": "CYPA",
                                    "sentence": "Cyclophilin A plays a pathogenic role in the development and progression of atherosclerosis, which can be assessed by measuring carotid intima-media thickness."
                                },
                                {
                                    "Disease Name": "Atherosclerotic Cardiovascular Disease",
                                    "MeSH_heading": "Cardiovascular Diseases",
                                    "Associated Genes": "CYPA",
                                    "sentence": "Cyclophilin A (CyPA) is a major ROS-induced factor in atherosclerosis."
                                },
                                {
                                    "Disease Name": "Atherosclerotic Cardiovascular Disease",
                                    "MeSH_heading": "Cardiovascular Diseases",
                                    "Associated Genes": "CYPA",
                                    "sentence": "Our data indicate that CyPA has proinflammatory effects on EC and may play an important role in the pathogenesis of inflammatory diseases, such as atherosclerosis."
                                },
                                {
                                    "Disease Name": "Rare bacterial infectious disease",
                                    "MeSH_heading": "Infections",
                                    "Associated Genes": "CYPA",
                                    "sentence": "Our findings further establish CypA as a component of dynamic actin-rich structures formed during bacterial infections and within cells in general.Anat Rec, 301:2086-2094, 2018."
                                },
                                {
                                    "Disease Name": "Ovarian Carcinoma",
                                    "MeSH_heading": "Nervous System Diseases",
                                    "Associated Genes": "CYPA",
                                    "sentence": "After systemic administration of these new siRNA delivery NPs, they can target the glioma cells and efficiently inhibit the GBM tumor growth by silencing the expression of cyclophilin A (CypA), which is up-regulated in brain cancer and plays an important role in malignant transformation of brain cancer and maintaining glioma cell stemness."
                                },
                                {
                                    "Disease Name": "Listeriosis",
                                    "MeSH_heading": "Infections",
                                    "Associated Genes": "CYPA",
                                    "sentence": "Our results demonstrate a crucial role for CypA during Listeria infections."
                                },
                                {
                                    "Disease Name": "COPD, SEVERE EARLY-ONSET",
                                    "MeSH_heading": "Respiratory Tract Diseases",
                                    "Associated Genes": "CYPA",
                                    "sentence": "Serum CyPA positively correlated with serum interleukin-6, matrix metalloproteinase-9 and high-sensitivity C-reactive protein in both the exacerbation and convalescence phases of COPD."
                                },
                                {
                                    "Disease Name": "Lung Neoplasms",
                                    "MeSH_heading": "Respiratory Tract Diseases",
                                    "Associated Genes": "CYPA",
                                    "sentence": "Cyclophilin A is upregulated in small cell lung cancer and activates ERK1/2 signal."
                                },
                                {
                                    "Disease Name": "Lung Neoplasms",
                                    "MeSH_heading": "Respiratory Tract Diseases",
                                    "Associated Genes": "CYPA",
                                    "sentence": "Two differentially expressed protein peaks at m/z 12338 and 17882 in the MALDI-TOF spectra were identified in lung tumor specimens as macrophage migration inhibitory factor and cyclophilin A, respectively."
                                },
                                {
                                    "Disease Name": "Systemic lupus erythematosus",
                                    "MeSH_heading": "Immune System Diseases",
                                    "Associated Genes": "CYPA",
                                    "sentence": "Autoantibodies against cyclophilin, a cyclosporin A binding protein, were detected in sera of 29 of 46 (63%) patients with systemic lupus erythematosus and 14 of 40 (35%) Lyme disease patients."
                                },
                                {
                                    "Disease Name": "Lymphoma",
                                    "MeSH_heading": "Immune System Diseases",
                                    "Associated Genes": "CYPA",
                                    "sentence": "Loss of expression of B2M, and gain of expression of PRDX1 and PPIA was confirmed in the cell lines and primary lymphoma tissue."
                                },
                                {
                                    "Disease Name": "Rare epithelial tumor of stomach",
                                    "MeSH_heading": "Digestive System Diseases",
                                    "Associated Genes": "CYPA",
                                    "sentence": "Two-dimensional differential in-gel electrophoresis for identification of gastric cancer-specific protein markers."
                                },
                                {
                                    "Disease Name": "Rare epithelial tumor of stomach",
                                    "MeSH_heading": "Digestive System Diseases",
                                    "Associated Genes": "CYPA",
                                    "sentence": "Transient suppression of CypA reduced the proliferation of BGC-823 and SGC-7901 GC cell lines."
                                },
                                {
                                    "Disease Name": "Ovarian Carcinoma",
                                    "MeSH_heading": "Neoplasms",
                                    "Associated Genes": "CYPA",
                                    "sentence": "High expression levels of PPIA were associated with decreased overall survival in low grade glioma, acute myeloid leukemia, lung adenocarcinoma, skin cutaneous melanoma and liver hepatocellular carcinoma (LIHC)."
                                },
                                {
                                    "Disease Name": "Lip and Oral Cavity Neoplasm",
                                    "MeSH_heading": "Stomatognathic Diseases",
                                    "Associated Genes": "CYPA",
                                    "sentence": "Proteomics of buccal squamous cell carcinoma: the involvement of multiple pathways in tumorigenesis."
                                },
                                {
                                    "Disease Name": "Mycoplasma Infections",
                                    "MeSH_heading": "Infections",
                                    "Associated Genes": "CYPA",
                                    "sentence": "Cyclophilin A is the potential receptor of the Mycoplasma genitalium adhesion protein."
                                },
                                {
                                    "Disease Name": "Myocardial Infarction",
                                    "MeSH_heading": "Pathological Conditions, Signs and Symptoms",
                                    "Associated Genes": "CYPA",
                                    "sentence": "We hypothesized that the genetic variation at the cyclophilin A gene (PPIA) could affect the risk for developing atherosclerosis and myocardial infarction."
                                },
                                {
                                    "Disease Name": "Myocardial Infarction",
                                    "MeSH_heading": "Pathological Conditions, Signs and Symptoms",
                                    "Associated Genes": "CYPA",
                                    "sentence": "The CyPA platelet surface expression is associated with mortality whereas CyPA PPIA rs6850 is associated with recurrent MI in patients with symptomatic CAD."
                                },
                                {
                                    "Disease Name": "Ovarian Carcinoma",
                                    "MeSH_heading": "Pathological Conditions, Signs and Symptoms",
                                    "Associated Genes": "CYPA",
                                    "sentence": "Cyclophilin A-EMMPRIN interaction induces invasion of head and neck             squamous cell carcinoma."
                                },
                                {
                                    "Disease Name": "Ovarian Carcinoma",
                                    "MeSH_heading": "Pathological Conditions, Signs and Symptoms",
                                    "Associated Genes": "CYPA",
                                    "sentence": "The suppression of CypA expression was correlated with decreased NSCLC cell tumorigenesis and metastasis."
                                },
                                {
                                    "Disease Name": "Ovarian Carcinoma",
                                    "MeSH_heading": "Pathological Conditions, Signs and Symptoms",
                                    "Associated Genes": "CYPA",
                                    "sentence": "Twenty-one genes related to metastasis were altered by CypA over-expression."
                                },
                                {
                                    "Disease Name": "Ovarian Carcinoma",
                                    "MeSH_heading": "Pathological Conditions, Signs and Symptoms",
                                    "Associated Genes": "CYPA",
                                    "sentence": "Further, CYPA was significantly associated with clinical stage and lymphnode metastasis of SOC patients."
                                },
                                {
                                    "Disease Name": "Ovarian Carcinoma",
                                    "MeSH_heading": "Pathological Conditions, Signs and Symptoms",
                                    "Associated Genes": "CYPA",
                                    "sentence": "Overexpression of CypA and metastasis were significantly associated with shorter progression free survival times in univariate analysis."
                                },
                                {
                                    "Disease Name": "Ovarian Carcinoma",
                                    "MeSH_heading": "Pathological Conditions, Signs and Symptoms",
                                    "Associated Genes": "CYPA",
                                    "sentence": "Lung metastasis mouse models were used for the first time to confirm that CypA promoted NSCLC metastasis in vivo."
                                },
                                {
                                    "Disease Name": "Ovarian Carcinoma",
                                    "MeSH_heading": "Neoplasms",
                                    "Associated Genes": "CYPA",
                                    "sentence": "A novel synergy of anti-GM3 antibody and cyclophilin A inhibitor was found to mimic the very low pHe-mediated GM3 supraclustered conformation that elevated the surface rigidity and mechano-remodeled the tumor cell into a differentiated phenotype which eventually succumbed to the anoikis type of cell death, thereby eradicating the tumorigenic niches."
                                },
                                {
                                    "Disease Name": "Ovarian Carcinoma",
                                    "MeSH_heading": "Neoplasms",
                                    "Associated Genes": "CYPA",
                                    "sentence": "Knockdown of cyclophilin A expression by RNA interference led to the significant suppression of the cell growth and the induction of apoptosis in endometrial carcinoma HEC-1-B cells in vitro (p < 0.01) and the inhibition of tumor growth in vivo (p < 0.01)."
                                },
                                {
                                    "Disease Name": "Ovarian Carcinoma",
                                    "MeSH_heading": "Neoplasms",
                                    "Associated Genes": "CYPA",
                                    "sentence": "In this study, we investigate the functions of CypA and its mechanism of action in GICs' development.<b>Experimental Design:</b> We analyzed differences in CypA expression between primary tumors and neurospheres from the GDS database, both before and after GIC differentiation."
                                },
                                {
                                    "Disease Name": "Ovarian Carcinoma",
                                    "MeSH_heading": "Neoplasms",
                                    "Associated Genes": "CYPA",
                                    "sentence": "Suppression of CypA expression decreases proliferation of CCA cell lines in vitro and reduces tumor growth in the nude mouse model."
                                },
                                {
                                    "Disease Name": "Ovarian Carcinoma",
                                    "MeSH_heading": "Neoplasms",
                                    "Associated Genes": "CYPA",
                                    "sentence": "As the stable expression of HPRT1 and PPIA between normal and tumor endometrial samples fulfill the basic requirement of a reference gene to be used for normalization purposes, HPRT1 expression showed significant differences between samples from low-grade and high-grade tumors."
                                },
                                {
                                    "Disease Name": "Ovarian Carcinoma",
                                    "MeSH_heading": "Neoplasms",
                                    "Associated Genes": "CYPA",
                                    "sentence": "Furthermore, a literature review shows that Heat shock protein 10 (Hsp10), single-stranded DNA-binding protein (SSBP1), and peptidyl-prolyl cis-trans isomerase A (PPIA), which were identified as being increased in the tumor samples in this study, may be closely related to protein folding and translation."
                                },
                                {
                                    "Disease Name": "Ovarian Carcinoma",
                                    "MeSH_heading": "Neoplasms",
                                    "Associated Genes": "CYPA",
                                    "sentence": "An elevated expression of CypA in GC tissues compared with normal gastric mucosa was observed, especially in TNM stage-I and intestinal type of tumor."
                                },
                                {
                                    "Disease Name": "Ovarian Carcinoma",
                                    "MeSH_heading": "Neoplasms",
                                    "Associated Genes": "CYPA",
                                    "sentence": "Surprisingly, HL001 selectively suppresses tumor growth in p53 wild-type NSCLC harboring Arg72 homozygous alleles (p53-72R) through disrupting interaction between MDM2 and p53-72R in a CypA-dependent manner."
                                },
                                {
                                    "Disease Name": "Ovarian Carcinoma",
                                    "MeSH_heading": "Neoplasms",
                                    "Associated Genes": "CYPA",
                                    "sentence": "The prognostic effect of PPIA expression in LIHC was independent of tumor grade."
                                },
                                {
                                    "Disease Name": "Ovarian Carcinoma",
                                    "MeSH_heading": "Neoplasms",
                                    "Associated Genes": "CYPA",
                                    "sentence": "Significant correlations were only found in high level of CypA and MMP9 expression with tumor differentiation and lymph node status."
                                },
                                {
                                    "Disease Name": "Ovarian Carcinoma",
                                    "MeSH_heading": "Neoplasms",
                                    "Associated Genes": "CYPA",
                                    "sentence": "In this study, we showed that both HIF-1α and CypA expression were significantly associated with lymph node metastasis and tumor stage."
                                },
                                {
                                    "Disease Name": "Ovarian Carcinoma",
                                    "MeSH_heading": "Neoplasms",
                                    "Associated Genes": "CYPA",
                                    "sentence": "Recently, correlations of CypA with tumor pathogenesis have been studied."
                                },
                                {
                                    "Disease Name": "Ovarian Carcinoma",
                                    "MeSH_heading": "Neoplasms",
                                    "Associated Genes": "CYPA",
                                    "sentence": "Moreover, PPIA expression was significantly associated with tumor size in these tissues."
                                },
                                {
                                    "Disease Name": "Ovarian Carcinoma",
                                    "MeSH_heading": "Neoplasms",
                                    "Associated Genes": "CYPA",
                                    "sentence": "The overall analysis obtained by the comprehensive ranking showed that RPS18 and PPIA are appropriate internal reference genes for tumor neovascularization studies where it is necessary to analyze both systems at the same time."
                                },
                                {
                                    "Disease Name": "LEANNESS",
                                    "MeSH_heading": "Pathological Conditions, Signs and Symptoms",
                                    "Associated Genes": "CYPA",
                                    "sentence": "The roles of PPIA in obesity were observed on a high-fat diet obesity model and a gestational diabetes obesity model."
                                },
                                {
                                    "Disease Name": "Oral submucous fibrosis",
                                    "MeSH_heading": "Stomatognathic Diseases",
                                    "Associated Genes": "CYPA",
                                    "sentence": "Proteomic identification of cyclophilin A as a potential biomarker and therapeutic target in oral submucous fibrosis."
                                },
                                {
                                    "Disease Name": "Oral submucous fibrosis",
                                    "MeSH_heading": "Stomatognathic Diseases",
                                    "Associated Genes": "CYPA",
                                    "sentence": "From the proteomic analysis, 94 of the 182 selected spots with differential expression were identified by MS analysis and Cyclophilin A (CYPA) was determined to be the OSF-associated protein candidate."
                                },
                                {
                                    "Disease Name": "Rare parasitic disease",
                                    "MeSH_heading": "Infections",
                                    "Associated Genes": "CYPA",
                                    "sentence": "PPIA can identify the patient with active recurrent OT from acute OT, other forms of uveitis and other parasitic infections."
                                },
                                {
                                    "Disease Name": "Periodontitis",
                                    "MeSH_heading": "Stomatognathic Diseases",
                                    "Associated Genes": "CYPA",
                                    "sentence": "This study is to observe the expression and distribution of CyPA and CD68<sup>+</sup> cells in the histopathogenesis of rat ligation-induced experimental periodontitis, and assess the role of CyPA in CD68<sup>+</sup> cell infiltration in rat experimental periodontitis."
                                },
                                {
                                    "Disease Name": "Clear cell renal carcinoma",
                                    "MeSH_heading": "Female Urogenital Diseases and Pregnancy Complications",
                                    "Associated Genes": "CYPA",
                                    "sentence": "These data suggest that CypA may serve as a novel prognostic factor for ccRCC."
                                },
                                {
                                    "Disease Name": "Schistosomiasis",
                                    "MeSH_heading": "Infections",
                                    "Associated Genes": "CYPA",
                                    "sentence": "The Schistosoma mansoni cyclophilin A epitope 107-121 induces a protective immune response against schistosomiasis."
                                },
                                {
                                    "Disease Name": "SCHIZOPHRENIA",
                                    "MeSH_heading": "Mental Disorders",
                                    "Associated Genes": "CYPA",
                                    "sentence": "The results show that people with schizophrenia had significantly less PPIA and SDHA mRNA and tended to have less GUSB and B2M mRNA, suggesting that these control genes may not be good candidates for normalization."
                                },
                                {
                                    "Disease Name": "Ovarian Carcinoma",
                                    "MeSH_heading": "Pathological Conditions, Signs and Symptoms",
                                    "Associated Genes": "GET2",
                                    "sentence": "In this study, we demonstrate that the endoplasmic reticulum (ER)-associated protein calcium-modulating cyclophilin ligand (CAML) is bound to Basigin, a widely expressed integral plasma membrane glycoprotein and extracellular matrix metalloproteinase inducer (EMMPRIN, or CD147) implicated in melanoma proliferation, invasiveness, and metastasis."
                                },
                                {
                                    "Disease Name": "Rare malignant breast tumor",
                                    "MeSH_heading": "Skin and Connective Tissue Diseases",
                                    "Associated Genes": "GET2",
                                    "sentence": "These results suggest a new role for CAML in breast cancer development."
                                },
                                {
                                    "Disease Name": "Common variable immunodeficiency",
                                    "MeSH_heading": "Immune System Diseases",
                                    "Associated Genes": "GET2",
                                    "sentence": "Transmembrane activator and calcium-modulating cyclophilin ligand interactor mutations in common variable immunodeficiency: clinical and immunologic outcomes in heterozygotes."
                                },
                                {
                                    "Disease Name": "Pediatric Lymphoma",
                                    "MeSH_heading": "Immune System Diseases",
                                    "Associated Genes": "GET2",
                                    "sentence": "A proliferation-inducing ligand (APRIL), as well as its receptors transmembrane activator and calcium-modulating cyclophilin ligand (CAML) interactor (TACI) and B-cell maturation antigen (BCMA), has been shown to be important in B-cell biology, and overexpression of APRIL in mice results in development of lymphoma."
                                },
                                {
                                    "Disease Name": "Ovarian Carcinoma",
                                    "MeSH_heading": "Neoplasms",
                                    "Associated Genes": "GET2",
                                    "sentence": "In this study, we demonstrate that the endoplasmic reticulum (ER)-associated protein calcium-modulating cyclophilin ligand (CAML) is bound to Basigin, a widely expressed integral plasma membrane glycoprotein and extracellular matrix metalloproteinase inducer (EMMPRIN, or CD147) implicated in melanoma proliferation, invasiveness, and metastasis."
                                },
                                {
                                    "Disease Name": "Childhood Leukemia",
                                    "MeSH_heading": "Neoplasms",
                                    "Associated Genes": "GET2",
                                    "sentence": "Breast cancer cell lines were found to express CAML at higher levels than cell lines originating from leukemia and other cancers."
                                },
                                {
                                    "Disease Name": "Adult Lymphoma",
                                    "MeSH_heading": "Immune System Diseases",
                                    "Associated Genes": "GET2",
                                    "sentence": "A proliferation-inducing ligand (APRIL), as well as its receptors transmembrane activator and calcium-modulating cyclophilin ligand (CAML) interactor (TACI) and B-cell maturation antigen (BCMA), has been shown to be important in B-cell biology, and overexpression of APRIL in mice results in development of lymphoma."
                                },
                                {
                                    "Disease Name": "Common Variable Immunodeficiency",
                                    "MeSH_heading": "Immune System Diseases",
                                    "Associated Genes": "GET2",
                                    "sentence": "Transmembrane activator and calcium-modulating cyclophilin ligand interactor mutations in common variable immunodeficiency: clinical and immunologic outcomes in heterozygotes."
                                },
                                {
                                    "Disease Name": "Lymphoma",
                                    "MeSH_heading": "Immune System Diseases",
                                    "Associated Genes": "GET2",
                                    "sentence": "A proliferation-inducing ligand (APRIL), as well as its receptors transmembrane activator and calcium-modulating cyclophilin ligand (CAML) interactor (TACI) and B-cell maturation antigen (BCMA), has been shown to be important in B-cell biology, and overexpression of APRIL in mice results in development of lymphoma."
                                },
                                {
                                    "Disease Name": "Rare malignant breast tumor",
                                    "MeSH_heading": "Skin and Connective Tissue Diseases",
                                    "Associated Genes": "GET2",
                                    "sentence": "These results suggest a new role for CAML in breast cancer development."
                                },
                                {
                                    "Disease Name": "Ovarian Carcinoma",
                                    "MeSH_heading": "Neoplasms",
                                    "Associated Genes": "GET2",
                                    "sentence": "Breast cancer cell lines were found to express CAML at higher levels than cell lines originating from leukemia and other cancers."
                                },
                                {
                                    "Disease Name": "Discomfort",
                                    "MeSH_heading": "Pathological Conditions, Signs and Symptoms",
                                    "Associated Genes": "GET2",
                                    "sentence": "Classical Swine Fever Virus p7 Protein Interacts with Host Protein CAMLG and Regulates Calcium Permeability at the Endoplasmic Reticulum."
                                },
                                {
                                    "Disease Name": "Acute myeloid leukemia with recurrent genetic anomaly",
                                    "MeSH_heading": "Neoplasms",
                                    "Associated Genes": "GET2",
                                    "sentence": "Overexpression of translocation-associated fusion genes of FGFRI, MYC, NPMI, and DEK, but absence of the translocations in acute myeloid leukemia. A microarray analysis."
                                },
                                {
                                    "Disease Name": "Osteoarthritis",
                                    "MeSH_heading": "Musculoskeletal Diseases",
                                    "Associated Genes": "PPP3RL",
                                    "sentence": "Moreover, we found that surgical-induced OA mice treated with a miR-146a inhibitor significantly alleviated the destruction of articular cartilage via targeting Camk2d and Ppp3r2."
                                },
                                {
                                    "Disease Name": "Asthenozoospermia",
                                    "MeSH_heading": "Male Urogenital Diseases",
                                    "Associated Genes": "PPP3RL",
                                    "sentence": "We demonstrate herein that male mice lacking Ppp3cc or Ppp3r2 genes (knockout mice) are infertile, with reduced sperm motility owing to an inflexible midpiece."
                                }
                            ]
                        },
                        "text/html": [
                            "<table>",
                            "<tr><th>Disease Name</th><th>MeSH_heading</th><th>Associated Genes</th><th>sentence</th></tr>",
                            "<tr><td>Steatohepatitis</td><td>Digestive System Diseases</td><td>CYP3</td><td>As such, CypD might be a new protective target against I/RI in fatty livers.</td></tr>",
                            "<tr><td>Steatohepatitis</td><td>Digestive System Diseases</td><td>CYP3</td><td>Cyclophilin D deficiency attenuates mitochondrial perturbation and ameliorates hepatic steatosis.</td></tr>",
                            "<tr><td>X-linked adrenoleukodystrophy</td><td>Endocrine System Diseases</td><td>CYP3</td><td>Thus, cyclophilin D could serve as a therapeutic target for the treatment of X-ALD and cyclophilin D-dependent neurodegenerative and non-neurodegenerative diseases.</td></tr>",
                            "<tr><td>Glioblastoma</td><td>Neoplasms</td><td>CYP3</td><td>Significantly, we provide evidence that CYPD-mediated opening of the mPTP is required for gossypol-induced mitochondrial dysfunction, autophagy and cell death during organismic aging of P. anserina and in glioblastoma cells.</td></tr>",
                            "<tr><td>Mitochondrial myopathy</td><td>Nutritional and Metabolic Diseases</td><td>CYP3</td><td>Here we show that the Tfam KO mice have increased CypD levels, and we demonstrate that this increase is a common feature in patients with mitochondrial myopathy.</td></tr>",
                            "<tr><td>Ureteral Obstruction</td><td>Female Urogenital Diseases and Pregnancy Complications</td><td>CYP3</td><td>The prominent accumulation of α-SMA+ myofibroblasts and interstitial collagen deposition seen in WT UUO was significantly reduced in CypD&lt;sup&gt;-/-&lt;/sup&gt; UUO on day 12, but not day 7.</td></tr>",
                            "<tr><td>Glial tumor</td><td>Neoplasms</td><td>CYP3</td><td>Blockade of Cyp-D by siRNA-mediated depletion or pharmacological inhibitors (cyclosporin A and sanglifehrin A) significantly suppressed salinomycin-induced glioma cell necrosis.</td></tr>",
                            "<tr><td>urinary tract disorder</td><td>Pathological Conditions, Signs and Symptoms</td><td>CYP3</td><td>Pharmacologic targeting or genetic deletion of mitochondrial cyclophilin D protects from NSAID-induced small intestinal ulceration in mice.</td></tr>",
                            "<tr><td>Primary Malignant Neoplasm</td><td>Neoplasms</td><td>CYP3</td><td>The mitochondrial pepdidyl-prolyl isomerase cyclophilin D (CypD) is an important regulator of the mitochondrial permeability transition and a key player in mitochondria physiology; however, its role in cancer is still unclear.</td></tr>",
                            "<tr><td>Tuberculosis</td><td>Infections</td><td>CYP3</td><td>Mitochondrial cyclophilin D regulates T cell metabolic responses and disease tolerance to tuberculosis.</td></tr>",
                            "<tr><td>Heart Failure</td><td>Cardiovascular Diseases</td><td>CYP3</td><td>Since obesity and metabolic syndrome decrease SIRT3 activity and expression, we tested the hypothesis that CypD hyperacetylation promotes mitochondrial dysfunction under this pathophysiological state, which is associated with ventricular dysfunction and heart failure.</td></tr>",
                            "<tr><td>Tuberculosis</td><td>Infections</td><td>CYP3</td><td>Similarly, the cyclophilin D-inhibiting drug alisporivir and the acid sphingomyelinase-inactivating drug, desipramine, synergize to reverse susceptibility, suggesting the therapeutic potential of these orally active drugs against tuberculosis and possibly other TNF-mediated diseases.</td></tr>",
                            "<tr><td>Cardiac Failure Congestive</td><td>Cardiovascular Diseases</td><td>CYP3</td><td>Since obesity and metabolic syndrome decrease SIRT3 activity and expression, we tested the hypothesis that CypD hyperacetylation promotes mitochondrial dysfunction under this pathophysiological state, which is associated with ventricular dysfunction and heart failure.</td></tr>",
                            "<tr><td>STROKE, ISCHEMIC</td><td>Cardiovascular Diseases</td><td>CYP3</td><td>Neutrophil depletion in wildtype mice conferred protection from ischemic stroke similarly to mice with CypD-deficient platelets.</td></tr>",
                            "<tr><td>STROKE, ISCHEMIC</td><td>Cardiovascular Diseases</td><td>CYP3</td><td>Our study firstly identifies ERK-CypD axis is one of the cornerstones of the cell death pathways following ischemic stroke, and confirms GA is a novel inhibitor of MPTP, which inhibits apoptosis depending on regulating the ERK-CypD axis.</td></tr>",
                            "<tr><td>Tumor Progression</td><td>Pathological Conditions, Signs and Symptoms</td><td>CYP3</td><td>Using cellular and in vivo mouse models, we demonstrated that CypD protein upregulation induced by oncogenic Ras through the Raf-1/MEK/ERK pathway has a deterministic role in tumor progression.</td></tr>",
                            "<tr><td>Rare cardiomyopathy</td><td>Cardiovascular Diseases</td><td>CYP3</td><td>Impaired NF-κB signalling underlies cyclophilin D-mediated mitochondrial permeability transition pore opening in doxorubicin cardiomyopathy.</td></tr>",
                            "<tr><td>Cockayne syndrome type 1</td><td>Nutritional and Metabolic Diseases</td><td>CYP3</td><td>Blockade of CypD by pharmaceutical inhibitor cyclosporine A (CsA) significantly protected against Dex-induced oxidative stress accumulation in gingival tissue.</td></tr>",
                            "<tr><td>Ovarian Carcinoma</td><td>Digestive System Diseases</td><td>CYP3</td><td>This study aims to assess the effects of GAD on the energy metabolism of colon cancer through the regulation of SIRT3 expression and whether this effect is related to acetylated cyclophilin D. The results demonstrated that GAD inhibits the energy reprogramming of colon cancer cells including glucose uptake, lactate production, pyruvate and acetyl-coenzyme production in colon cancer cells.</td></tr>",
                            "<tr><td>MITOCHONDRIAL COMPLEX I DEFICIENCY, MITOCHONDRIAL TYPE 3</td><td>Nervous System Diseases</td><td>CYP3</td><td>In conclusion, these results suggest Cyp1 and its human homolog CypD as putative molecular targets for the treatment of DJ-1 deficiency-associated diseases, including Parkinson's disease.</td></tr>",
                            "<tr><td>MITOCHONDRIAL COMPLEX I DEFICIENCY, MITOCHONDRIAL TYPE 3</td><td>Nervous System Diseases</td><td>CYP3</td><td>We investigated the role of CYPD in a mouse model of MPTP (1-methyl-4-phenyl-1,2,3,6-tetrahydropyridine)-induced PD.</td></tr>",
                            "<tr><td>LUNG CANCER</td><td>Respiratory Tract Diseases</td><td>CYP3</td><td>Thus, cinobufotalin mainly induces Cyp-D-dependent non-apoptotic death in cultured lung cancer cells.</td></tr>",
                            "<tr><td>Muscle hypotrophy</td><td>Musculoskeletal Diseases</td><td>CYP3</td><td>Using a Caenorhabditis elegans model for DMD as a pharmacologic and genetic tool, we found that cyclosporine A (CsA) reduces muscle degeneration at low dose and acts, at least in part, through a mitochondrial cyclophilin D, CYN-1.</td></tr>",
                            "<tr><td>Ovarian Carcinoma</td><td>Digestive System Diseases</td><td>CYP3</td><td>In particular, the pathway involving enhanced interaction of cyclophilin D with ATP synthase mediates L-arginine-induced pancreatitis, a model of severe AP the pathogenesis of which has remained unknown.</td></tr>",
                            "<tr><td>Ovarian Carcinoma</td><td>Digestive System Diseases</td><td>CYP3</td><td>•Pancreatitis-inducing factors open the membrane transition pore (mPTP) channel via cyclophilin D activation in acinar cells, causing calcium overload and cell death; genetic or pharmacological inhibition of mPTP improves the outcome of acute pancreatitis in animal models.</td></tr>",
                            "<tr><td>Rare carcinoma of pancreas</td><td>Endocrine System Diseases</td><td>CYP3</td><td>Gemcitabine-induced pancreatic cancer cell death is associated with MST1/cyclophilin D mitochondrial complexation.</td></tr>",
                            "<tr><td>Hyperglycemia</td><td>Nutritional and Metabolic Diseases</td><td>CYP3</td><td>Hyperglycemia exacerbated the upregulation of CypD, mitochondrial defects, synaptic injury, and cognitive dysfunction in the brains of transgenic AD mice overexpressing amyloid-β as shown by decreased mitochondrial respiratory complex I and IV enzyme activity and greatly decreased mitochondrial respiratory rate.</td></tr>",
                            "<tr><td>Rare malignant breast tumor</td><td>Skin and Connective Tissue Diseases</td><td>CYP3</td><td>Oroxylin A induces dissociation of hexokinase II from the mitochondria and inhibits glycolysis by SIRT3-mediated deacetylation of cyclophilin D in breast carcinoma.</td></tr>",
                            "<tr><td>Rare malignant breast tumor</td><td>Skin and Connective Tissue Diseases</td><td>CYP3</td><td>Coupling of low RRM2B and high CypD expression is associated with aggressive manifestations of breast cancer.</td></tr>",
                            "<tr><td>LEANNESS</td><td>Pathological Conditions, Signs and Symptoms</td><td>CYP3</td><td>Our results indicate that obesity reduces SIRT3 expression and that CypD hyperacetylation increases mPTP opening, suggesting that the activation of SIRT3 might be a potential target to decrease ventricular dysfunction and slow the progression of heart failure.</td></tr>",
                            "<tr><td>Nephrotic Syndrome</td><td>Female Urogenital Diseases and Pregnancy Complications</td><td>CYP3</td><td>Effect of CYP3 A4, CYP3 A5 and ABCB1 gene polymorphisms on the clinical efficacy of tacrolimus in the treatment of nephrotic syndrome.</td></tr>",
                            "<tr><td>Malignant Lung Tumor</td><td>Respiratory Tract Diseases</td><td>CYP3</td><td>Thus, cinobufotalin mainly induces Cyp-D-dependent non-apoptotic death in cultured lung cancer cells.</td></tr>",
                            "<tr><td>Rare intestinal disease</td><td>Digestive System Diseases</td><td>CYP3</td><td>We then targeted mitochondrial cyclophilin D (CypD), a key regulator of the mPT, in a mouse model of NSAID enteropathy.</td></tr>",
                            "<tr><td>Acute Kidney Injury</td><td>Female Urogenital Diseases and Pregnancy Complications</td><td>CYP3</td><td>Mitochondrial translocation of PPARα, its binding to cyclophilin D, and sequestration led to inhibition of its nuclear translocation and transcription of PPARα-regulated fatty acid oxidation genes during cisplatin-induced acute kidney injury.</td></tr>",
                            "<tr><td>Acute Kidney Injury</td><td>Female Urogenital Diseases and Pregnancy Complications</td><td>CYP3</td><td>p53-cyclophilin D mediates renal tubular cell apoptosis in ischemia-reperfusion-induced acute kidney injury.</td></tr>",
                            "<tr><td>Acute Kidney Injury</td><td>Female Urogenital Diseases and Pregnancy Complications</td><td>CYP3</td><td>Cyclophilin D (CypD) is an important component in mitochondrial-dependent tubular cell death in acute kidney injury.</td></tr>",
                            "<tr><td>Carcinogenesis</td><td>Pathological Conditions, Signs and Symptoms</td><td>CYP3</td><td>Cyclophilin D counteracts P53-mediated growth arrest and promotes Ras tumorigenesis.</td></tr>",
                            "<tr><td>Acute lymphoblastic leukemia</td><td>Immune System Diseases</td><td>CYP3</td><td>CYP3 genotypes may not significantly modify the risk of relapse in childhood ALL, but may modify the risk of toxicity.</td></tr>",
                            "<tr><td>Rare neurodegenerative disease</td><td>Nervous System Diseases</td><td>CYP3</td><td>Thus, cyclophilin D could serve as a therapeutic target for the treatment of X-ALD and cyclophilin D-dependent neurodegenerative and non-neurodegenerative diseases.</td></tr>",
                            "<tr><td>ABDOMINAL OBESITY-METABOLIC SYNDROME 1</td><td>Nutritional and Metabolic Diseases</td><td>CYP3</td><td>Since obesity and metabolic syndrome decrease SIRT3 activity and expression, we tested the hypothesis that CypD hyperacetylation promotes mitochondrial dysfunction under this pathophysiological state, which is associated with ventricular dysfunction and heart failure.</td></tr>",
                            "<tr><td>APNEA, CENTRAL SLEEP</td><td>Nervous System Diseases</td><td>CYP3</td><td>Blockade of CypD by pharmaceutical inhibitor cyclosporine A (CsA) significantly protected against Dex-induced oxidative stress accumulation in gingival tissue.</td></tr>",
                            "<tr><td>Ovarian Carcinoma</td><td>Digestive System Diseases</td><td>CYP3</td><td>Its deficiency induces ER stress by suppressing Cyp-D ubiquitination, a key regulator of the mitochondrial Ca&lt;sup&gt;2+&lt;/sup&gt; conductance channel mPTP, and results in hepatic steatosis. mGPDH may be a potential therapeutic target for the treatment of NAFLD.</td></tr>",
                            "<tr><td>Sepsis-Associated Encephalopathy</td><td>Nervous System Diseases</td><td>CYP3</td><td>The levels of CypD and acetylation of CypD increased in the hippocampus induced by SAE.</td></tr>",
                            "<tr><td>Adult Meningioma</td><td>Nervous System Diseases</td><td>CYP3</td><td>We report that cyclophilin D levels were upregulated in all grades of human meningioma compared to control meninges.</td></tr>",
                            "<tr><td>Rare carcinoma of pancreas</td><td>Endocrine System Diseases</td><td>CYP3</td><td>Gemcitabine-induced pancreatic cancer cell death is associated with MST1/cyclophilin D mitochondrial complexation.</td></tr>",
                            "<tr><td>Familial dilated cardiomyopathy</td><td>Cardiovascular Diseases</td><td>CYP3</td><td>Since it is encoded by a gene located within this FDCM critical region, PPIF was considered a potential candidate gene for FDCM.</td></tr>",
                            "<tr><td>Meningioma</td><td>Nervous System Diseases</td><td>CYP3</td><td>We report that cyclophilin D levels were upregulated in all grades of human meningioma compared to control meninges.</td></tr>",
                            "<tr><td>GLAUCOMA, PRIMARY OPEN ANGLE</td><td>Eye Diseases</td><td>CYP3</td><td>There was increased [Ca(2+)](c), [Ca(2+)](m), mCICR, MPTP opening, and expression of cyclophilin D and decreased DeltaPsim in POAG TM cells compared with control cells.</td></tr>",
                            "<tr><td>Skeletal muscle disease</td><td>Nervous System Diseases</td><td>CYP3</td><td>These findings (i) demonstrate that lack of Cyp-D is equivalent to its inhibition with CsA at curing the mouse dystrophic phenotype; (ii) establish a cause-effect relationship between Cyp-D-dependent PTP regulation and pathogenesis of the ColVI muscular dystrophy and (iii) validate Cyp-D and the PTP as pharmacological targets for the therapy of human ColVI myopathies.</td></tr>",
                            "<tr><td>Muscular dystrophy</td><td>Congenital, Hereditary, and Neonatal Diseases and Abnormalities</td><td>CYP3</td><td>Here we show that deletion of the gene encoding cyclophilin D (Ppif) rendered mitochondria largely insensitive to the calcium overload-induced swelling associated with a defective sarcolemma, thus reducing myofiber necrosis in two distinct models of muscular dystrophy.</td></tr>",
                            "<tr><td>Cognitive Dysfunction</td><td>Mental Disorders</td><td>CYP3</td><td>Regulation of Sirtuin 3-Mediated Deacetylation of Cyclophilin D Attenuated Cognitive Dysfunction Induced by Sepsis-Associated Encephalopathy in Mice.</td></tr>",
                            "<tr><td>Myocardial Infarction</td><td>Pathological Conditions, Signs and Symptoms</td><td>CYP3</td><td>Most animal studies demonstrated cardioprotective effects of PTP inhibition; however, a recent large clinical trial conducted by international groups demonstrated that cyclosporine A, a cyclophilin D inhibitor, failed to protect the heart in patients with myocardial infarction.</td></tr>",
                            "<tr><td>Cognitive Dysfunction</td><td>Mental Disorders</td><td>CYP3</td><td>Hyperglycemia exacerbated the upregulation of CypD, mitochondrial defects, synaptic injury, and cognitive dysfunction in the brains of transgenic AD mice overexpressing amyloid-β as shown by decreased mitochondrial respiratory complex I and IV enzyme activity and greatly decreased mitochondrial respiratory rate.</td></tr>",
                            "<tr><td>Adult Glioblastoma Multiforme</td><td>Neoplasms</td><td>CYP3</td><td>Significantly, we provide evidence that CYPD-mediated opening of the mPTP is required for gossypol-induced mitochondrial dysfunction, autophagy and cell death during organismic aging of P. anserina and in glioblastoma cells.</td></tr>",
                            "<tr><td>Childhood Glioblastoma</td><td>Neoplasms</td><td>CYP3</td><td>Significantly, we provide evidence that CYPD-mediated opening of the mPTP is required for gossypol-induced mitochondrial dysfunction, autophagy and cell death during organismic aging of P. anserina and in glioblastoma cells.</td></tr>",
                            "<tr><td>Ovarian Carcinoma</td><td>Neoplasms</td><td>CYP3</td><td>Among its distribution Hsp90 is also localized within mitochondria of neoplastic cells of various origin, interacting with another chaperone, TRAP1 (Tumor necrosis factor type 1 receptor-associated protein or Heat-shock-protein 75) to antagonize the cell death promoting properties of the matrix protein, Cyclophilin-D. Several preclinical studies, including in vivo studies in both orthotopic and genetic animal models, have confirmed that targeting mitochondrial Hsp90 may be a novel efficient treatment method for highly recalcitrant tumors.</td></tr>",
                            "<tr><td>Amyotrophic lateral sclerosis</td><td>Nutritional and Metabolic Diseases</td><td>CYP3</td><td>In mice expressing three different ALS-causing SOD1 mutants, we now test the contribution of the loss of mitochondrial Ca(2+)-buffering capacity to disease mechanism(s) by eliminating ubiquitous expression of cyclophilin D, a critical regulator of Ca(2+)-mediated opening of the mitochondrial permeability transition pore that determines mitochondrial Ca(2+) content.</td></tr>",
                            "<tr><td>Amyloidosis</td><td>Nutritional and Metabolic Diseases</td><td>CYP3</td><td>Several recent studies have found that CypD promotes the formation of the mPTP upon binding to β amyloid (Aβ) peptides inside brain mitochondria, suggesting that neuronal CypD has a potential to be a promising therapeutic target for Alzheimer's disease (AD).</td></tr>",
                            "<tr><td>renal fibrosis</td><td>Pathological Conditions, Signs and Symptoms</td><td>CYP3</td><td>Activation of several pro-fibrotic signalling pathways (p38 MAPK, JNK and Smad3) was unaltered in CypD&lt;sup&gt;-/-&lt;/sup&gt; UUO, arguing that CypD acts independently to promote renal fibrosis.</td></tr>",
                            "<tr><td>diabetes mellitus (disease)</td><td>Endocrine System Diseases</td><td>CYP3</td><td>We tested the hypothesis of whether NMDA-R1 mediates Ca&lt;sup&gt;2+&lt;/sup&gt; influx causing CypD activation and MPTP opening leading to oxidative stress and renal injury in diabetes.</td></tr>",
                            "<tr><td>diabetes mellitus (disease)</td><td>Endocrine System Diseases</td><td>CYP3</td><td>Brains from mice with STZ-induced diabetes revealed a significant increase of cyclophilin D (CypD) expression, reduced respiratory function, and decreased hippocampal long-term potentiation (LTP); these animals had impaired spatial learning and memory.</td></tr>",
                            "<tr><td>Hepatocellular carcinoma</td><td>Digestive System Diseases</td><td>CYP3</td><td>For CYP3 family, the expression of PXR was decreased 60% in HCC, together with decreases in CYP3A4, CYP3A5, and CYP3A7.</td></tr>",
                            "<tr><td>diabetes mellitus (disease)</td><td>Endocrine System Diseases</td><td>CYP3</td><td>Targeting cyclophilin D and the mitochondrial permeability transition enhances beta-cell survival and prevents diabetes in Pdx1 deficiency.</td></tr>",
                            "<tr><td>Cardiovascular Disease (CVD)</td><td>Cardiovascular Diseases</td><td>CYP3</td><td>A greater understanding of the physiologic functions of the MPTP and its regulation by CypD will likely suggest novel therapeutic approaches for cardiovascular disease, both dependent and independent of programmed necrotic cell death mechanisms.</td></tr>",
                            "<tr><td>PRESENILE AND SENILE DEMENTIA</td><td>Mental Disorders</td><td>CYP3</td><td>It has been hypothesized that 17β-HSD10 interacts with cypD preventing it from opening mitochondrial permeability transition pores and that its regulation during AD may be affected by the accumulation of Aβ.</td></tr>",
                            "<tr><td>Ovarian Carcinoma</td><td>Neoplasms</td><td>CYP3</td><td>The mitochondrial pepdidyl-prolyl isomerase cyclophilin D (CypD) is an important regulator of the mitochondrial permeability transition and a key player in mitochondria physiology; however, its role in cancer is still unclear.</td></tr>",
                            "<tr><td>microcystic meningioma</td><td>Nervous System Diseases</td><td>CYP3</td><td>We report that cyclophilin D levels were upregulated in all grades of human meningioma compared to control meninges.</td></tr>",
                            "<tr><td>PRESENILE AND SENILE DEMENTIA</td><td>Mental Disorders</td><td>CYP3</td><td>We therefore set out to perform a proof of concept study to determine whether anesthesia and surgery can have different effects in male and female AD transgenic (Tg) mice, and in female AD Tg plus Cyclophilin D knockout (CypD KO) mice.</td></tr>",
                            "<tr><td>Rare diabetes mellitus</td><td>Endocrine System Diseases</td><td>CYP3</td><td>Targeting cyclophilin D and the mitochondrial permeability transition enhances beta-cell survival and prevents diabetes in Pdx1 deficiency.</td></tr>",
                            "<tr><td>Ovarian Carcinoma</td><td>Neoplasms</td><td>CYP3</td><td>The opening of the mitochondrial permeability transition pore (PTP), which is regulated by the matrix protein cyclophilin D (CypD), plays a key role in the pathophysiology of post-cardiac arrest (CA) syndrome.</td></tr>",
                            "<tr><td>Rare diabetes mellitus</td><td>Endocrine System Diseases</td><td>CYP3</td><td>Brains from mice with STZ-induced diabetes revealed a significant increase of cyclophilin D (CypD) expression, reduced respiratory function, and decreased hippocampal long-term potentiation (LTP); these animals had impaired spatial learning and memory.</td></tr>",
                            "<tr><td>Rare diabetes mellitus</td><td>Endocrine System Diseases</td><td>CYP3</td><td>We tested the hypothesis of whether NMDA-R1 mediates Ca&lt;sup&gt;2+&lt;/sup&gt; influx causing CypD activation and MPTP opening leading to oxidative stress and renal injury in diabetes.</td></tr>",
                            "<tr><td>PRESENILE AND SENILE DEMENTIA</td><td>Mental Disorders</td><td>CYP3</td><td>These data demonstrate that abrogation of CypD results in persistent life-long protection against Aβ toxicity in an Alzheimer's disease mouse model, thereby suggesting that blockade of CypD may be of benefit for Alzheimer disease treatment.</td></tr>",
                            "<tr><td>PRESENILE AND SENILE DEMENTIA</td><td>Mental Disorders</td><td>CYP3</td><td>Moreover, the ablation of CypD also attenuates OSCP/Aβ interaction in AD mice.</td></tr>",
                            "<tr><td>Glioblastoma</td><td>Neoplasms</td><td>CYP3</td><td>Significantly, we provide evidence that CYPD-mediated opening of the mPTP is required for gossypol-induced mitochondrial dysfunction, autophagy and cell death during organismic aging of P. anserina and in glioblastoma cells.</td></tr>",
                            "<tr><td>Liver Steatosis</td><td>Digestive System Diseases</td><td>CYP3</td><td>Cyclophilin D deficiency attenuates mitochondrial perturbation and ameliorates hepatic steatosis.</td></tr>",
                            "<tr><td>PRESENILE AND SENILE DEMENTIA</td><td>Mental Disorders</td><td>CYP3</td><td>Several recent studies have found that CypD promotes the formation of the mPTP upon binding to β amyloid (Aβ) peptides inside brain mitochondria, suggesting that neuronal CypD has a potential to be a promising therapeutic target for Alzheimer's disease (AD).</td></tr>",
                            "<tr><td>PRESENILE AND SENILE DEMENTIA</td><td>Mental Disorders</td><td>CYP3</td><td>In addition, in view of CypD and F1FO ATP synthase alterations seen in AD brains, the results further suggest that CypD-mediated F1FO ATP synthase deregulation is a shared mechanism linking mitochondrial deficits in brain aging and AD.</td></tr>",
                            "<tr><td>Ischemic Heart Disease</td><td>Cardiovascular Diseases</td><td>CYP3</td><td>Mitochondrial permeability transition in cardiac ischemia-reperfusion: whether cyclophilin D is a viable target for cardioprotection?</td></tr>",
                            "<tr><td>Memory Dysfunction</td><td>Mental Disorders</td><td>CYP3</td><td>Activating SIRT3-mediated deacetylation of CypD attenuated learning and memory dysfunction induced by SAE.</td></tr>",
                            "<tr><td>Rare breast tumor</td><td>Skin and Connective Tissue Diseases</td><td>CYP3</td><td>Two genes (EEF1A2 and PPIF) could similarly separate ER+, TAM-treated breast tumors by DMFS, and their protein levels were measured in an ER+ breast cancer cell line model with exogenous ERRγ.</td></tr>",
                            "<tr><td>Duchenne muscular dystrophy</td><td>Congenital, Hereditary, and Neonatal Diseases and Abnormalities</td><td>CYP3</td><td>Using a Caenorhabditis elegans model for DMD as a pharmacologic and genetic tool, we found that cyclosporine A (CsA) reduces muscle degeneration at low dose and acts, at least in part, through a mitochondrial cyclophilin D, CYN-1.</td></tr>",
                            "<tr><td>Acute Pancreatitis</td><td>Digestive System Diseases</td><td>CYP3</td><td>•Pancreatitis-inducing factors open the membrane transition pore (mPTP) channel via cyclophilin D activation in acinar cells, causing calcium overload and cell death; genetic or pharmacological inhibition of mPTP improves the outcome of acute pancreatitis in animal models.</td></tr>",
                            "<tr><td>Coronary Atherosclerosis</td><td>Cardiovascular Diseases</td><td>CYP3</td><td>Mitochondrial permeability transition in cardiac ischemia-reperfusion: whether cyclophilin D is a viable target for cardioprotection?</td></tr>",
                            "<tr><td>Malignant Tumor of Colon</td><td>Digestive System Diseases</td><td>CYP3</td><td>This study aims to assess the effects of GAD on the energy metabolism of colon cancer through the regulation of SIRT3 expression and whether this effect is related to acetylated cyclophilin D. The results demonstrated that GAD inhibits the energy reprogramming of colon cancer cells including glucose uptake, lactate production, pyruvate and acetyl-coenzyme production in colon cancer cells.</td></tr>",
                            "<tr><td>Rare malignant breast tumor</td><td>Skin and Connective Tissue Diseases</td><td>CYP3</td><td>Coupling of low RRM2B and high CypD expression is associated with aggressive manifestations of breast cancer.</td></tr>",
                            "<tr><td>Encephalomyelitis</td><td>Nervous System Diseases</td><td>CYP3</td><td>Analysis of mitochondrial calcium retention capacity and the course of EAE in cyclophilin D knockout mice indicated that the effect of NIM811 on EAE was not entirely cyclophilin D-dependent.</td></tr>",
                            "<tr><td>Malignant Lung Tumor</td><td>Respiratory Tract Diseases</td><td>CYPA</td><td>The current study focused on evaluating the potential of CyPA and MIF as prognostic markers in patients with a new diagnosis of lung cancer for rapid translation into clinical practice.</td></tr>",
                            "<tr><td>Ovarian Carcinoma</td><td>Neoplasms</td><td>CYPA</td><td>CYPA has been implicated in several pathological processes, including cancer, inflammatory diseases, and HIV-1 infection.</td></tr>",
                            "<tr><td>Ovarian Carcinoma</td><td>Neoplasms</td><td>CYPA</td><td>For example, CypA protein displays an unusually high expression in several cancer types and correlates with poor outcome of the patients.</td></tr>",
                            "<tr><td>Ovarian Carcinoma</td><td>Neoplasms</td><td>CYPA</td><td>In this study, A549 and H1299 cell lines with downregulated and overexpressed CypA, respectively, were constructed by lentivirus transfection of NSCLC cells. in vitro experiments, including wound healing and transwell assays and Western blotting, showed that CypA promoted cancer cell migration and epithelial-mesenchymal transition in NSCLC.</td></tr>",
                            "<tr><td>Ovarian Carcinoma</td><td>Neoplasms</td><td>CYPA</td><td>The expression level of PPIA was significantly associated with levels of basigin and signal transducer and activator of transcription 3, which may be major effectors of PPIA in the progression of the cancer.</td></tr>",
                            "<tr><td>Ovarian Carcinoma</td><td>Neoplasms</td><td>CYPA</td><td>Overexpressed cyclophilin A in cancer cells renders resistance to hypoxia- and cisplatin-induced cell death.</td></tr>",
                            "<tr><td>Ovarian Carcinoma</td><td>Neoplasms</td><td>CYPA</td><td>In response to tumor hypoxia, cyclophilin A (CypA) is over-expressed in various cancer types, and is associated with cell apoptosis, tumor invasion, metastasis, and chemoresistance in PDAC.</td></tr>",
                            "<tr><td>Malignant Lung Tumor</td><td>Respiratory Tract Diseases</td><td>CYPA</td><td>Here, we studied the expression of CypA and its receptor CD147 in several kinds of lung cancer cells as well as a normal lung cell and found that in H446 cell, a kind of small cell lung cancer cell, the expression are the highest.</td></tr>",
                            "<tr><td>Systemic Inflammatory Response Syndrome</td><td>Pathological Conditions, Signs and Symptoms</td><td>CYPA</td><td>Extracellular CyPA plays a prominent role in the pathological processes of inflammatory diseases, acting as a proinflammatory mediator, exerting chemotactic effects, promoting apoptosis of endothelial cells and amplifying ROS generation, thus being considered as a potential treatment target of sepsis, a systemic inflammatory response syndrome.</td></tr>",
                            "<tr><td>Ovarian Carcinoma</td><td>Neoplasms</td><td>CYPA</td><td>Many studies have provided compelling evidence supporting critical roles of CyPA in immune and infectious diseases and malignant tumours.</td></tr>",
                            "<tr><td>Ovarian Carcinoma</td><td>Neoplasms</td><td>CYPA</td><td>These results demonstrate an important role for CypA in the regulation of Jak2/Stat5-mediated biology in mammary epithelium, identifying this isomerase as a novel target for therapeutic intervention.&lt;b&gt;Significance:&lt;/b&gt; These findings reveal cyclophilin A functions in normal mammary epithelial development and ErbB2-driven mammary tumorigenesis and suggest therapies targeting cyclophilin A may be efficacious for breast cancer treatment.&lt;b&gt;Graphical Abstract:&lt;/b&gt; http://cancerres.aacrjournals.org/content/canres/78/14/3877/F1.large.jpg &lt;i&gt;&lt;/i&gt;.</td></tr>",
                            "<tr><td>Ovarian Carcinoma</td><td>Neoplasms</td><td>CYPA</td><td>Although overexpression of cyclophilin A (CypA) is associated with several types of cancer, its role in pancreatic cancer has not been studied.</td></tr>",
                            "<tr><td>Severe Sepsis</td><td>Pathological Conditions, Signs and Symptoms</td><td>CYPA</td><td>In this study, we explored whether CsCyPA immunization could prevent or ameliorate mice sepsis induced by cecum ligation puncture (CLP).</td></tr>",
                            "<tr><td>Aortic ectasia</td><td>Cardiovascular Diseases</td><td>CYPA</td><td>The expression analysis of these 32 genes by RT-qPCR showed that EIF2B1, ELF1, and PPIA remained constant in their expression levels in the different specimen groups, thus being insensitive to aortic valve morphology, aortic dilatation, hypertension, and medication with ACE inhibitors or AT1 receptor antagonists.</td></tr>",
                            "<tr><td>Endometriotic Cyst of the Ovary</td><td>Female Urogenital Diseases and Pregnancy Complications</td><td>CYPA</td><td>Finally, the relationship between CyPA immunoreactivity and the clinicopathological findings related to endometrioma were evaluated.</td></tr>",
                            "<tr><td>Ovarian Carcinoma</td><td>Neoplasms</td><td>CYPA</td><td>We apply our approach to elucidate the allosteric mechanism in cyclophilin A (CypA), a peptidyl-prolyl cis-trans isomerase known to participate in diverse biological processes and be associated with many diseases including cancer.</td></tr>",
                            "<tr><td>Ovarian Carcinoma</td><td>Neoplasms</td><td>CYPA</td><td>Due to its promotive effects on GICs, CypA is a potential target for future glioma therapy.&lt;i&gt;&lt;/i&gt;.</td></tr>",
                            "<tr><td>Rare malignant breast tumor</td><td>Skin and Connective Tissue Diseases</td><td>CYPA</td><td>Using MDA-MB-231 as a model breast cancer cell line, we provide evidence that PFN1 overexpression is associated with alterations in the expression of proteins that have been functionally linked to cell proliferation (FKPB1A, HDGF, MIF, PRDX1, TXNRD1, LGALS1, STMN1, LASP1, S100A11, S100A6), survival (HSPE1, HSPB1, HSPD1, HSPA5 and PPIA, YWHAZ, CFL1, NME1) and motility (CFL1, CORO1B, PFN2, PLS3, FLNA, FLNB, NME2, ARHGDIB).</td></tr>",
                            "<tr><td>Rare malignant breast tumor</td><td>Skin and Connective Tissue Diseases</td><td>CYPA</td><td>The prolyl isomerase cyclophilin A (CypA) regulates the Jak2/Stat5 pathway, which is necessary for mammary differentiation and the pathogenesis of breast cancer.</td></tr>",
                            "<tr><td>Rare malignant breast tumor</td><td>Skin and Connective Tissue Diseases</td><td>CYPA</td><td>Luciferase assay validated that PPIA was a direct target of miR-192-5p. miR-192-5p sensitizes breast cancer cells to DOX by targeting PPIA, suggesting that miR-192-5p might serve as a novel target for reversing DOX resistance and controlling breast tumor growth.</td></tr>",
                            "<tr><td>Rare malignant breast tumor</td><td>Skin and Connective Tissue Diseases</td><td>CYPA</td><td>We report that the peptidyl-prolyl isomerase (PPI) cyclophilin A (CypA), which is implicated in the regulation of protein conformation, is necessary for the prolactin (PRL)-induced activation of Jak2 and the progression of human breast cancer.</td></tr>",
                            "<tr><td>Rare malignant breast tumor</td><td>Skin and Connective Tissue Diseases</td><td>CYPA</td><td>Cyclophilin A (CypA) and ribosomal protein L17 (RPL17) were overexpressed in breast cancer-associated brain metastases, whereas tumor protein 63 (TP63) and von Willebrand factor A domain-containing 8 (VWA8) were significantly downregulated in breast cancer brain metastases.</td></tr>",
                            "<tr><td>Adult Glioblastoma Multiforme</td><td>Neoplasms</td><td>CYPA</td><td>These results not only establish the relevance of CypA to glioblastoma growth in vitro and in vivo, but also suggest that small interfering RNA-based CypA knockdown could be an effective therapeutic approach against glioblastomas.</td></tr>",
                            "<tr><td>Adult Glioblastoma Multiforme</td><td>Neoplasms</td><td>CYPA</td><td>Tumor-Associated Fibronectin Targeted Liposomal Nanoplatform for Cyclophilin A siRNA Delivery and Targeted Malignant Glioblastoma Therapy.</td></tr>",
                            "<tr><td>Squamous cell carcinoma of the esophagus</td><td>Digestive System Diseases</td><td>CYPA</td><td>This study analyzed the correlation of cyclophilin A (CypA) and matrix metalloproteinase 9 (MMP9) in ESCC and their relationships to clinicopathological features and survival.</td></tr>",
                            "<tr><td>Malignant Lung Tumor</td><td>Respiratory Tract Diseases</td><td>CYPA</td><td>Cyclophilin A (CypA) is associated with metastasis in diverse cancers; however, its role in lung cancer metastasis and the underlying mechanisms remain poorly understood.</td></tr>",
                            "<tr><td>Ovarian Carcinoma</td><td>Neoplasms</td><td>CYPA</td><td>Although the interaction between cyclophilin A and CD147 is well established in inflammatory disease, that of cyclophilin B (CypB) with CD147 has not been fully explored, especially in cancer cell biology, and the exact molecular mechanism underlying such an association is poorly understood.</td></tr>",
                            "<tr><td>Rare dyslipidemia</td><td>Nutritional and Metabolic Diseases</td><td>CYPA</td><td>AP-CAV-1 enhanced CAV-1 expression by ˃15%, inhibited CypA expression by ˃50% (P &lt; 0.05) and significantly improved dyslipidemia, thus reducing neutral lipid peroxidation.</td></tr>",
                            "<tr><td>Facioscapulohumeral dystrophy</td><td>Congenital, Hereditary, and Neonatal Diseases and Abnormalities</td><td>CYPA</td><td>To understand better the role of nonstructural protein 2B of the causative agent FMD virus (FMDV) in the process of virus replication, we identified a porcine host protein, cyclophilin A (CypA), which interacts with FMDV 2B.</td></tr>",
                            "<tr><td>Gestational Diabetes</td><td>Endocrine System Diseases</td><td>CYPA</td><td>Serum CyPA and body mass index were independently associated with the development of complicated pregnancy as pre-eclampsia, GH or GDM.</td></tr>",
                            "<tr><td>Gestational Diabetes</td><td>Endocrine System Diseases</td><td>CYPA</td><td>The roles of PPIA in obesity were observed on a high-fat diet obesity model and a gestational diabetes obesity model.</td></tr>",
                            "<tr><td>Rare carcinoma of pancreas</td><td>Endocrine System Diseases</td><td>CYPA</td><td>Thus, soluble CypA may affect cell growth of pancreatic cancer.</td></tr>",
                            "<tr><td>Rare carcinoma of pancreas</td><td>Endocrine System Diseases</td><td>CYPA</td><td>In this study the expression of CypA and its receptor CD147 on pancreatic cancer was determined as well as the effect of exogenous CypA on pancreatic cancer cell proliferation.</td></tr>",
                            "<tr><td>Hepatitis E</td><td>Digestive System Diseases</td><td>CYPA</td><td>We further modified this line to rescue expression of CYPA before terminal differentiation to HLCs and performed HEV infection studies.</td></tr>",
                            "<tr><td>Left Ventricular Hypertrophy</td><td>Pathological Conditions, Signs and Symptoms</td><td>CYPA</td><td>High CyPA levels and low melatonin levels are independent risk factors for LVH (p = 0.000).</td></tr>",
                            "<tr><td>Small cell lung cancer</td><td>Respiratory Tract Diseases</td><td>CYPA</td><td>Elucidation of the precise role of CypA in these pathways may lead to new targeted therapies for small cell lung cancer.</td></tr>",
                            "<tr><td>Aggravated Arthritis</td><td>Musculoskeletal Diseases</td><td>CYPA</td><td>Our findings provide evidence that PPIase CypA promoted macrophages polarization toward pro-inflammatory M1 phenotype via transcriptional activating NF-κB, thus leading to aggravated arthritis.</td></tr>",
                            "<tr><td>Small cell lung cancer</td><td>Respiratory Tract Diseases</td><td>CYPA</td><td>Elucidation of the precise role of CypA in these pathways may lead to new targeted therapies for small cell lung cancer.</td></tr>",
                            "<tr><td>tuberculosis</td><td>Infections</td><td>CYPA</td><td>Earlier, in our immunoproteomic analysis, we found that peptidyl-prolyl cis-trans isomerase A (PpiA) protein-containing fractions induced significantly higher interferon-gamma (IFN-γ) response in LTBI than in PTB.</td></tr>",
                            "<tr><td>Congenital contractural arachnodactyly</td><td>Congenital, Hereditary, and Neonatal Diseases and Abnormalities</td><td>CYPA</td><td>The effect of silencing CypA on CCA tumor growth was determined in nude mice.</td></tr>",
                            "<tr><td>Congenital contractural arachnodactyly</td><td>Congenital, Hereditary, and Neonatal Diseases and Abnormalities</td><td>CYPA</td><td>Cell proliferation, cell cycle, ERK1/2, p38 MAPK, NF-κB, and STAT3 activities were examined by MTS assay, flow cytometry, and Western blot. sCypA was detected in CM from MMNK1 (an immortalized human cholangiocyte cell line) and six CCA cell lines.</td></tr>",
                            "<tr><td>Brain Metastasis</td><td>Pathological Conditions, Signs and Symptoms</td><td>CYPA</td><td>Furthermore, the expression of CypA and RPL17 in brain metastases were significantly increased compared with that in primary breast tumors, and the expression of TP63 and VWA8 in brain metastases were significantly decreased.</td></tr>",
                            "<tr><td>Cholangiocarcinoma</td><td>Neoplasms</td><td>CYPA</td><td>Cyclophilin A (CypA) was shown to be upregulated in human cholangiocarcinoma (CCA) tissues.</td></tr>",
                            "<tr><td>Cholangiocarcinoma</td><td>Neoplasms</td><td>CYPA</td><td>However, the role and mechanisms of CypA in liver fluke-associated cholangiocarcinoma (CCA) are not presently known.</td></tr>",
                            "<tr><td>Tumor Progression</td><td>Pathological Conditions, Signs and Symptoms</td><td>CYPA</td><td>Recently, various of studies indicated that CYPA has critical impact on cancer progression.</td></tr>",
                            "<tr><td>Tumor Progression</td><td>Pathological Conditions, Signs and Symptoms</td><td>CYPA</td><td>The mechanism by which CypA contributes to cancer progression appears to involve a complex interplay of proteins and pathways including membrane receptor for CypA, CD147, and CypA binding partners inside the cells.</td></tr>",
                            "<tr><td>Hypoxia-Ischemia, Brain</td><td>Cardiovascular Diseases</td><td>CYPA</td><td>The Cyclophilin A (CypA)/Apoptosis Inducing Factor (AIF) complex is implicated in the DNA degradation in response to various cellular stress conditions, such as oxidative stress, cerebral hypoxia-ischemia and traumatic brain injury.</td></tr>",
                            "<tr><td>INFLAMMATORY DISEASES OF THE CENTRAL NERVOUS SYSTEM</td><td>Nervous System Diseases</td><td>CYPA</td><td>The contribution of cyclophilin A to immune-mediated central nervous system inflammation.</td></tr>",
                            "<tr><td>Familial abdominal aortic aneurysm</td><td>Cardiovascular Diseases</td><td>CYPA</td><td>The AAA wall tissue from simvastatin-treated patients had significantly lower CyPA gene expression and protein levels (P = 0.0018, P = 0.0083, respectively).</td></tr>",
                            "<tr><td>Right Ventricular Hypertrophy</td><td>Pathological Conditions, Signs and Symptoms</td><td>CYPA</td><td>In contrast, CyPA(±) and Bsg(±) mice exposed to hypoxia for 4 weeks revealed significantly reduced right ventricular systolic pressure, pulmonary artery remodeling, and right ventricular hypertrophy compared with their littermate controls.</td></tr>",
                            "<tr><td>FAMILIAL ATYPICAL MOLE-MALIGNANT MELANOMA SYNDROME</td><td>Skin and Connective Tissue Diseases</td><td>CYPA</td><td>High expression levels of PPIA were associated with decreased overall survival in low grade glioma, acute myeloid leukemia, lung adenocarcinoma, skin cutaneous melanoma and liver hepatocellular carcinoma (LIHC).</td></tr>",
                            "<tr><td>Human prion disease</td><td>Nervous System Diseases</td><td>CYPA</td><td>This suggests that CypA contributes to dampening the pro-inflammatory microglial response during the early stage of RML-induced prion disease.</td></tr>",
                            "<tr><td>LUNG CANCER</td><td>Neoplasms</td><td>CYPA</td><td>Here we investigated the implications of CypA expression for outcome in patients with lung adenocarcinoma.</td></tr>",
                            "<tr><td>Acute Myocardial Infarction</td><td>Pathological Conditions, Signs and Symptoms</td><td>CYPA</td><td>Interestingly, in patients with acute myocardial infarction (AMI) platelet-bound CyPA was significantly decreased compared with patients with stable CAD.</td></tr>",
                            "<tr><td>Acute Myocardial Infarction</td><td>Pathological Conditions, Signs and Symptoms</td><td>CYPA</td><td>In patients with acute myocardial infarction CyPA platelet surface expression is significantly decreased.</td></tr>",
                            "<tr><td>Metastatic Tumor to the Lung</td><td>Respiratory Tract Diseases</td><td>CYPA</td><td>Lung metastasis mouse models were used for the first time to confirm that CypA promoted NSCLC metastasis in vivo.</td></tr>",
                            "<tr><td>Cancer of Brain</td><td>Nervous System Diseases</td><td>CYPA</td><td>After systemic administration of these new siRNA delivery NPs, they can target the glioma cells and efficiently inhibit the GBM tumor growth by silencing the expression of cyclophilin A (CypA), which is up-regulated in brain cancer and plays an important role in malignant transformation of brain cancer and maintaining glioma cell stemness.</td></tr>",
                            "<tr><td>Malignant Oral Neoplasm</td><td>Stomatognathic Diseases</td><td>CYPA</td><td>Proteomics of buccal squamous cell carcinoma: the involvement of multiple pathways in tumorigenesis.</td></tr>",
                            "<tr><td>Primary Malignant Neoplasm</td><td>Neoplasms</td><td>CYPA</td><td>In this study, A549 and H1299 cell lines with downregulated and overexpressed CypA, respectively, were constructed by lentivirus transfection of NSCLC cells. in vitro experiments, including wound healing and transwell assays and Western blotting, showed that CypA promoted cancer cell migration and epithelial-mesenchymal transition in NSCLC.</td></tr>",
                            "<tr><td>Primary Malignant Neoplasm</td><td>Neoplasms</td><td>CYPA</td><td>Although the interaction between cyclophilin A and CD147 is well established in inflammatory disease, that of cyclophilin B (CypB) with CD147 has not been fully explored, especially in cancer cell biology, and the exact molecular mechanism underlying such an association is poorly understood.</td></tr>",
                            "<tr><td>Primary Malignant Neoplasm</td><td>Neoplasms</td><td>CYPA</td><td>Due to its promotive effects on GICs, CypA is a potential target for future glioma therapy.&lt;i&gt;&lt;/i&gt;.</td></tr>",
                            "<tr><td>Primary Malignant Neoplasm</td><td>Neoplasms</td><td>CYPA</td><td>In response to tumor hypoxia, cyclophilin A (CypA) is over-expressed in various cancer types, and is associated with cell apoptosis, tumor invasion, metastasis, and chemoresistance in PDAC.</td></tr>",
                            "<tr><td>Primary Malignant Neoplasm</td><td>Neoplasms</td><td>CYPA</td><td>These results demonstrate an important role for CypA in the regulation of Jak2/Stat5-mediated biology in mammary epithelium, identifying this isomerase as a novel target for therapeutic intervention.&lt;b&gt;Significance:&lt;/b&gt; These findings reveal cyclophilin A functions in normal mammary epithelial development and ErbB2-driven mammary tumorigenesis and suggest therapies targeting cyclophilin A may be efficacious for breast cancer treatment.&lt;b&gt;Graphical Abstract:&lt;/b&gt; http://cancerres.aacrjournals.org/content/canres/78/14/3877/F1.large.jpg &lt;i&gt;&lt;/i&gt;.</td></tr>",
                            "<tr><td>Primary Malignant Neoplasm</td><td>Neoplasms</td><td>CYPA</td><td>CYPA has been implicated in several pathological processes, including cancer, inflammatory diseases, and HIV-1 infection.</td></tr>",
                            "<tr><td>Adult Lymphoma</td><td>Immune System Diseases</td><td>CYPA</td><td>Loss of expression of B2M, and gain of expression of PRDX1 and PPIA was confirmed in the cell lines and primary lymphoma tissue.</td></tr>",
                            "<tr><td>Pediatric Lymphoma</td><td>Immune System Diseases</td><td>CYPA</td><td>Loss of expression of B2M, and gain of expression of PRDX1 and PPIA was confirmed in the cell lines and primary lymphoma tissue.</td></tr>",
                            "<tr><td>Rare breast tumor</td><td>Skin and Connective Tissue Diseases</td><td>CYPA</td><td>Prolyl isomerase cyclophilin A regulation of Janus-activated kinase 2 and the progression of human breast cancer.</td></tr>",
                            "<tr><td>Smoking, Tobacco and Cancer-Behavior</td><td>Behavior and Behavior Mechanisms</td><td>CYPA</td><td>Mercapturic Acids Derived from the Toxicants Acrolein and Crotonaldehyde in the Urine of Cigarette Smokers from Five Ethnic Groups with Differing Risks for Lung Cancer.</td></tr>",
                            "<tr><td>ST Elevation Myocardial Infarction</td><td>Pathological Conditions, Signs and Symptoms</td><td>CYPA</td><td>Inflammatory biomarkers - pentraxin-3 (PTX3), cyclophilin A (CypA) and heparin-binding epidermal growth factor-like growth factor (HB-EGF) were examined in patients with ST-segment elevation myocardial infarction (STEMI) undergoing revascularization with primary percutaneous coronary intervention (pPCI) and stent implanting.</td></tr>",
                            "<tr><td>Tuberculosis Infection</td><td>Infections</td><td>CYPA</td><td>Earlier, in our immunoproteomic analysis, we found that peptidyl-prolyl cis-trans isomerase A (PpiA) protein-containing fractions induced significantly higher interferon-gamma (IFN-γ) response in LTBI than in PTB.</td></tr>",
                            "<tr><td>Glioblastoma</td><td>Neoplasms</td><td>CYPA</td><td>After systemic administration of these new siRNA delivery NPs, they can target the glioma cells and efficiently inhibit the GBM tumor growth by silencing the expression of cyclophilin A (CypA), which is up-regulated in brain cancer and plays an important role in malignant transformation of brain cancer and maintaining glioma cell stemness.</td></tr>",
                            "<tr><td>Glioblastoma</td><td>Neoplasms</td><td>CYPA</td><td>These results not only establish the relevance of CypA to glioblastoma growth in vitro and in vivo, but also suggest that small interfering RNA-based CypA knockdown could be an effective therapeutic approach against glioblastomas.</td></tr>",
                            "<tr><td>Hereditary diffuse gastric cancer</td><td>Digestive System Diseases</td><td>CYPA</td><td>Two-dimensional differential in-gel electrophoresis for identification of gastric cancer-specific protein markers.</td></tr>",
                            "<tr><td>Matthew-Wood syndrome</td><td>Congenital, Hereditary, and Neonatal Diseases and Abnormalities</td><td>CYPA</td><td>Consistent with other studies, HIF-1α and CypA promoted PDAC cell proliferation and invasion, and suppressed apoptosis in vitro.</td></tr>",
                            "<tr><td>CAD</td><td>Cardiovascular Diseases</td><td>CYPA</td><td>The results indicate that plasma CyPA levels can be used to predict all-cause death, rehospitalization, and coronary revascularization in patients with coronary artery disease and that when combined with other biomarkers (hsCRP and brain natriuretic peptide levels), the CyPA levels have further enhanced prognostic impacts in those patients.</td></tr>",
                            "<tr><td>CAD</td><td>Cardiovascular Diseases</td><td>CYPA</td><td>Using an &lt;i&gt;ex vivo&lt;/i&gt; model of cultured macrophages isolated from patients with type 2 diabetes with and without coronary artery disease (CAD), we measured the effect of metformin on cyclophilin A expression, lipid accumulation, expression of scavenger receptors, plasma cytokine levels and AMP-activated protein kinase (AMPK) activity in macrophages.</td></tr>",
                            "<tr><td>CAD</td><td>Cardiovascular Diseases</td><td>CYPA</td><td>Welchs two-sample t test indicated an association of SNP rs6850: A &gt; G, located at the 5' UTR region with increased plasma levels of cyclophilin A in patients with coronary artery disease and with coronary artery disease associated with diabetes.</td></tr>",
                            "<tr><td>CAD</td><td>Cardiovascular Diseases</td><td>CYPA</td><td>Moreover, plasma CyPA levels can predict all-cause death in patients with coronary artery disease and pulmonary hypertension.</td></tr>",
                            "<tr><td>CAD</td><td>Cardiovascular Diseases</td><td>CYPA</td><td>Genotyping for CyPA PPIA rs6850 was performed in 752 patients with symptomatic CAD.</td></tr>",
                            "<tr><td>CAD</td><td>Cardiovascular Diseases</td><td>CYPA</td><td>Interestingly, in patients with acute myocardial infarction (AMI) platelet-bound CyPA was significantly decreased compared with patients with stable CAD.</td></tr>",
                            "<tr><td>Low Grade Glioma</td><td>Neoplasms</td><td>CYPA</td><td>High expression levels of PPIA were associated with decreased overall survival in low grade glioma, acute myeloid leukemia, lung adenocarcinoma, skin cutaneous melanoma and liver hepatocellular carcinoma (LIHC).</td></tr>",
                            "<tr><td>Hepatocellular carcinoma</td><td>Digestive System Diseases</td><td>CYPA</td><td>Mechanistically, cyclophilin A (CypA) was identified as an important molecule for USP4-mediated oncogenic activity in HCC.</td></tr>",
                            "<tr><td>Hepatocellular carcinoma</td><td>Digestive System Diseases</td><td>CYPA</td><td>Positivity for CypA was significantly higher in stage III and IV HCC than in stage I and II (p&lt;0.05).</td></tr>",
                            "<tr><td>Hepatocellular carcinoma</td><td>Digestive System Diseases</td><td>CYPA</td><td>Our results indicate that PPIA levels were significantly higher in the HCC tissues compared to the matched peritumoral tissues.</td></tr>",
                            "<tr><td>Hepatocellular carcinoma</td><td>Digestive System Diseases</td><td>CYPA</td><td>High expression level of peptidylprolyl isomerase A is correlated with poor prognosis of liver hepatocellular carcinoma.</td></tr>",
                            "<tr><td>Hepatocellular carcinoma</td><td>Digestive System Diseases</td><td>CYPA</td><td>Finally, overexpression of CypA was observed in human HCC tissues.</td></tr>",
                            "<tr><td>Hepatocellular carcinoma</td><td>Digestive System Diseases</td><td>CYPA</td><td>Taken together, our data suggest that CypA promotes HCC cell metastasis at least partially through up-regulation of MMP3 and MMP9.</td></tr>",
                            "<tr><td>Hepatocellular carcinoma</td><td>Digestive System Diseases</td><td>CYPA</td><td>Up-regulation of CYPA has been found to be a common phenomenon in several tumor types, including in hepatocellular carcinoma (HCC).</td></tr>",
                            "<tr><td>Chronic thromboembolic pulmonary hypertension</td><td>Cardiovascular Diseases</td><td>CYPA</td><td>Cyclophilin A as a biomarker for the therapeutic effect of balloon angioplasty in chronic thromboembolic pulmonary hypertension.</td></tr>",
                            "<tr><td>Acute Pulmonary Embolism</td><td>Cardiovascular Diseases</td><td>CYPA</td><td>We conclude that the cyclophilin A-CD147 interaction may represent a potential therapeutic target for managing APE.</td></tr>",
                            "<tr><td>Nasopharyngeal carcinoma</td><td>Otorhinolaryngologic Diseases</td><td>CYPA</td><td>In our previous study, five different secretory proteins, including GSN, ADAMTSL4, CALR, PPIA and TXN, have been identified to be associated with the nasopharyngeal carcinoma (NPC) metastasis.In this work, the 5 proteins were further investigated.</td></tr>",
                            "<tr><td>Nasopharyngeal carcinoma</td><td>Otorhinolaryngologic Diseases</td><td>CYPA</td><td>Whether CYPA can be detected in sera of nasopharyngeal carcinoma (NPC) patients remains to be explored.</td></tr>",
                            "<tr><td>Peri-Implantitis</td><td>Stomatognathic Diseases</td><td>CYPA</td><td>The aim of this split-mouth animal study was to describe variable trends of biomarkers during the progression of peri-implantitis and to define relationships among CyPA, Emmprin, and peri-implantitis.</td></tr>",
                            "<tr><td>Metastatic Cancer</td><td>Pathological Conditions, Signs and Symptoms</td><td>CYPA</td><td>Additionally, data indicated that knockdown of CYPA by its shRNA dramatically reduces migration and invasion capacity of SOC cells in vitro and blocks tumor metastasis in vivo.</td></tr>",
                            "<tr><td>Pulmonary arterial hypertension</td><td>Cardiovascular Diseases</td><td>CYPA</td><td>Cyclophilin A (CyPA) can be secreted from cells in response to hypoxia and oxidative stress, which are involved in inducing autophagy and regulating the function of endothelial cells in pulmonary arterial hypertension.</td></tr>",
                            "<tr><td>Idiopathic/heritable pulmonary arterial hypertension</td><td>Respiratory Tract Diseases</td><td>CYPA</td><td>Cyclophilin A (CyPA) can be secreted from cells in response to hypoxia and oxidative stress, which are involved in inducing autophagy and regulating the function of endothelial cells in pulmonary arterial hypertension.</td></tr>",
                            "<tr><td>Idiopathic/heritable pulmonary arterial hypertension</td><td>Respiratory Tract Diseases</td><td>CYPA</td><td>In transgenic mice that express high levels of CypA in EC specifically, a PAH phenotype was observed at 3 months including increased right ventricular systolic pressure, α-smooth muscle actin expression in small arterioles, and CD45-positive cells in the lungs.</td></tr>",
                            "<tr><td>Middle East Respiratory Syndrome</td><td>Infections</td><td>CYPA</td><td>Here, we investigated the CypA dependence of three distantly related nidoviruses that can all replicate in Huh7 cells: the arterivirus equine arteritis virus (EAV), the alphacoronavirus human coronavirus 229E (HCoV-229E), and the betacoronavirus Middle East respiratory syndrome coronavirus (MERS-CoV).</td></tr>",
                            "<tr><td>Infection</td><td>Infections</td><td>CYPA</td><td>Requirement for cyclophilin A for the replication of vesicular stomatitis virus New Jersey serotype.</td></tr>",
                            "<tr><td>Infection</td><td>Infections</td><td>CYPA</td><td>Polymorphisms in the regulatory region of the Cyclophilin A gene influence the susceptibility for HIV-1 infection.</td></tr>",
                            "<tr><td>Skin Erosion</td><td>Skin and Connective Tissue Diseases</td><td>CYPA</td><td>In vivo experiments found that the cartilage erosion scores in CypA injection group were significantly higher than those in control group (P &lt; 0.05).</td></tr>",
                            "<tr><td>CERVICAL CANCER</td><td>Female Urogenital Diseases and Pregnancy Complications</td><td>CYPA</td><td>Annexin profiling suggested that cell death could be due to necrosis as observed by upregulation of necrotic markers such as LDH A, Rip-1, and Cyclophilin A. Necrosis appears to be a better therapeutic response as it could further activate pro-inflammatory cytokines to attract immune cells to eliminate HPV-integrated cells and therefore TALEN editing strategy has the potential to be a promising tool as an adjuvant therapy in cervical cancer along with surgery.</td></tr>",
                            "<tr><td>FRONTOMETAPHYSEAL DYSPLASIA 1</td><td>Congenital, Hereditary, and Neonatal Diseases and Abnormalities</td><td>CYPA</td><td>To understand better the role of nonstructural protein 2B of the causative agent FMD virus (FMDV) in the process of virus replication, we identified a porcine host protein, cyclophilin A (CypA), which interacts with FMDV 2B.</td></tr>",
                            "<tr><td>Ovarian Carcinoma</td><td>Endocrine System Diseases</td><td>CYPA</td><td>Further, CYPA was significantly associated with clinical stage and lymphnode metastasis of SOC patients.</td></tr>",
                            "<tr><td>Clear cell renal carcinoma</td><td>Female Urogenital Diseases and Pregnancy Complications</td><td>CYPA</td><td>Our study demonstrated the suitability of the two housekeeping genes PPIA and TBP as endogenous reference genes when comparing malignant tissue samples with adjacent normal tissue samples from clear cell renal cell carcinoma.</td></tr>",
                            "<tr><td>Solid Neoplasm</td><td>Neoplasms</td><td>CYPA</td><td>Cyclophilin A (CypA) has been reported to be overexpressed in cancer cells, especially in solid tumors.</td></tr>",
                            "<tr><td>Solid Neoplasm</td><td>Neoplasms</td><td>CYPA</td><td>Although cyclophilin A (CypA) has been reported to be over-expressed in cancer cells and solid tumors, its expression and role in glioblastomas have not been studied.</td></tr>",
                            "<tr><td>Childhood Glioblastoma</td><td>Neoplasms</td><td>CYPA</td><td>Tumor-Associated Fibronectin Targeted Liposomal Nanoplatform for Cyclophilin A siRNA Delivery and Targeted Malignant Glioblastoma Therapy.</td></tr>",
                            "<tr><td>Childhood Glioblastoma</td><td>Neoplasms</td><td>CYPA</td><td>These results not only establish the relevance of CypA to glioblastoma growth in vitro and in vivo, but also suggest that small interfering RNA-based CypA knockdown could be an effective therapeutic approach against glioblastomas.</td></tr>",
                            "<tr><td>Rare cancer of cervix uteri</td><td>Female Urogenital Diseases and Pregnancy Complications</td><td>CYPA</td><td>Annexin profiling suggested that cell death could be due to necrosis as observed by upregulation of necrotic markers such as LDH A, Rip-1, and Cyclophilin A. Necrosis appears to be a better therapeutic response as it could further activate pro-inflammatory cytokines to attract immune cells to eliminate HPV-integrated cells and therefore TALEN editing strategy has the potential to be a promising tool as an adjuvant therapy in cervical cancer along with surgery.</td></tr>",
                            "<tr><td>Rare carcinoma of pancreas</td><td>Endocrine System Diseases</td><td>CYPA</td><td>In this study the expression of CypA and its receptor CD147 on pancreatic cancer was determined as well as the effect of exogenous CypA on pancreatic cancer cell proliferation.</td></tr>",
                            "<tr><td>Rare carcinoma of pancreas</td><td>Endocrine System Diseases</td><td>CYPA</td><td>Thus, soluble CypA may affect cell growth of pancreatic cancer.</td></tr>",
                            "<tr><td>Surface Gastric Cancer</td><td>Digestive System Diseases</td><td>CYPA</td><td>Cyclophilin A Enhances Cell Proliferation and Xenografted Tumor Growth of Early Gastric Cancer.</td></tr>",
                            "<tr><td>PROSTATE CANCER</td><td>Male Urogenital Diseases</td><td>CYPA</td><td>Here, we have shown that induction of CypA is associated with hypoxia in a variety of cells, including DU145 human prostate cancer cell line.</td></tr>",
                            "<tr><td>ENDOMETRIAL CANCER</td><td>Female Urogenital Diseases and Pregnancy Complications</td><td>CYPA</td><td>These data suggest that cyclophilin A may serve as a novel prognostic factor and possibly an attractive therapeutic target for endometrial carcinoma.</td></tr>",
                            "<tr><td>ENDOMETRIAL CANCER</td><td>Female Urogenital Diseases and Pregnancy Complications</td><td>CYPA</td><td>Down-regulation of focal adhesion signaling in response to cyclophilin A knockdown in human endometrial cancer cells, implicated by cDNA microarray analysis.</td></tr>",
                            "<tr><td>Rare neurodegenerative disease</td><td>Nervous System Diseases</td><td>CYPA</td><td>Our data point toward distinct CypA structural determinants governing the inhibitor selectivity and the differential biological effects of AIF and CsA, and provide new structural insights for designing CypA/AIF selective inhibitors with therapeutic relevance in neurodegenerative diseases.</td></tr>",
                            "<tr><td>Carcinogenesis</td><td>Pathological Conditions, Signs and Symptoms</td><td>CYPA</td><td>Role of cyclophilin a during oncogenesis.</td></tr>",
                            "<tr><td>Carcinogenesis</td><td>Pathological Conditions, Signs and Symptoms</td><td>CYPA</td><td>Cyclophilin A (CypA) is a cytosolic protein involved in multiple biological functions, such as inflammation, tissue remodeling, tumorigenesis, and vascular diseases.</td></tr>",
                            "<tr><td>Carcinogenesis</td><td>Pathological Conditions, Signs and Symptoms</td><td>CYPA</td><td>These results suggest that CypA is important in tumorigenesis, especially in tumor apoptosis.</td></tr>",
                            "<tr><td>Carcinogenesis</td><td>Pathological Conditions, Signs and Symptoms</td><td>CYPA</td><td>The suppression of CypA expression was correlated with decreased NSCLC cell tumorigenesis and metastasis.</td></tr>",
                            "<tr><td>Carcinogenesis</td><td>Pathological Conditions, Signs and Symptoms</td><td>CYPA</td><td>These results indicate a special function mode for CypA of playing more important roles in the early stage of gastric tumorigenesis and suggest CypA as a new molecular target of diagnosis and treatment for GC patients.</td></tr>",
                            "<tr><td>Ovarian Carcinoma</td><td>Male Urogenital Diseases</td><td>CYPA</td><td>Here, we have shown that induction of CypA is associated with hypoxia in a variety of cells, including DU145 human prostate cancer cell line.</td></tr>",
                            "<tr><td>Ovarian Carcinoma</td><td>Male Urogenital Diseases</td><td>CYPA</td><td>Up-regulated expression of mammary tumor 8 kDa protein (MAT-8), complement component C1S (C1S), ferritin heavy chain (FTH1), peptidyl-prolyl cis-trans isomerase A (PPIA), RNA-binding protein regulatory subunit DJ-1 protein (DJ-1) and vacuolar ATP synthase subunit F (ATP6V1F) was determined in prostate carcinoma and confirmed by using quantitative real-time RT-PCR analyses.</td></tr>",
                            "<tr><td>Refractory Cancer</td><td>Neoplasms</td><td>CYPA</td><td>We postulate that the over-expression of CYPA in tumors may play a role in clinical resistance to chemotherapy.</td></tr>",
                            "<tr><td>Rare malignant breast tumor</td><td>Skin and Connective Tissue Diseases</td><td>CYPA</td><td>The prolyl isomerase cyclophilin A (CypA) regulates the Jak2/Stat5 pathway, which is necessary for mammary differentiation and the pathogenesis of breast cancer.</td></tr>",
                            "<tr><td>Rare malignant breast tumor</td><td>Skin and Connective Tissue Diseases</td><td>CYPA</td><td>Luciferase assay validated that PPIA was a direct target of miR-192-5p. miR-192-5p sensitizes breast cancer cells to DOX by targeting PPIA, suggesting that miR-192-5p might serve as a novel target for reversing DOX resistance and controlling breast tumor growth.</td></tr>",
                            "<tr><td>Rare malignant breast tumor</td><td>Skin and Connective Tissue Diseases</td><td>CYPA</td><td>Cyclophilin A (CypA) and ribosomal protein L17 (RPL17) were overexpressed in breast cancer-associated brain metastases, whereas tumor protein 63 (TP63) and von Willebrand factor A domain-containing 8 (VWA8) were significantly downregulated in breast cancer brain metastases.</td></tr>",
                            "<tr><td>Rare malignant breast tumor</td><td>Skin and Connective Tissue Diseases</td><td>CYPA</td><td>We report that the peptidyl-prolyl isomerase (PPI) cyclophilin A (CypA), which is implicated in the regulation of protein conformation, is necessary for the prolactin (PRL)-induced activation of Jak2 and the progression of human breast cancer.</td></tr>",
                            "<tr><td>Rare malignant breast tumor</td><td>Skin and Connective Tissue Diseases</td><td>CYPA</td><td>Using MDA-MB-231 as a model breast cancer cell line, we provide evidence that PFN1 overexpression is associated with alterations in the expression of proteins that have been functionally linked to cell proliferation (FKPB1A, HDGF, MIF, PRDX1, TXNRD1, LGALS1, STMN1, LASP1, S100A11, S100A6), survival (HSPE1, HSPB1, HSPD1, HSPA5 and PPIA, YWHAZ, CFL1, NME1) and motility (CFL1, CORO1B, PFN2, PLS3, FLNA, FLNB, NME2, ARHGDIB).</td></tr>",
                            "<tr><td>LUNG CANCER</td><td>Respiratory Tract Diseases</td><td>CYPA</td><td>The current study focused on evaluating the potential of CyPA and MIF as prognostic markers in patients with a new diagnosis of lung cancer for rapid translation into clinical practice.</td></tr>",
                            "<tr><td>LUNG CANCER</td><td>Respiratory Tract Diseases</td><td>CYPA</td><td>Here, we studied the expression of CypA and its receptor CD147 in several kinds of lung cancer cells as well as a normal lung cell and found that in H446 cell, a kind of small cell lung cancer cell, the expression are the highest.</td></tr>",
                            "<tr><td>LUNG CANCER</td><td>Respiratory Tract Diseases</td><td>CYPA</td><td>Cyclophilin A (CypA) is associated with metastasis in diverse cancers; however, its role in lung cancer metastasis and the underlying mechanisms remain poorly understood.</td></tr>",
                            "<tr><td>Metastases to Lymph Nodes</td><td>Pathological Conditions, Signs and Symptoms</td><td>CYPA</td><td>In this study, we showed that both HIF-1α and CypA expression were significantly associated with lymph node metastasis and tumor stage.</td></tr>",
                            "<tr><td>Rare carcinoma of stomach</td><td>Digestive System Diseases</td><td>CYPA</td><td>Transient suppression of CypA reduced the proliferation of BGC-823 and SGC-7901 GC cell lines.</td></tr>",
                            "<tr><td>ACS</td><td>Congenital, Hereditary, and Neonatal Diseases and Abnormalities</td><td>CYPA</td><td>We screened participants of the ACS for the C1604G and A1650G polymorphisms in the regulatory regions of CypA.</td></tr>",
                            "<tr><td>Acute Cerebrovascular Accidents</td><td>Cardiovascular Diseases</td><td>CYPA</td><td>Plasma concentration of Cyclophilin A was measured on admission in 66 consecutive patients who had been hospitalized for acute cerebral stroke and in 52 case-control subjects without a history of acute stroke.</td></tr>",
                            "<tr><td>Preeclampsia</td><td>Cardiovascular Diseases</td><td>CYPA</td><td>Serum CyPA and body mass index were independently associated with the development of complicated pregnancy as pre-eclampsia, GH or GDM.</td></tr>",
                            "<tr><td>Rare cardiomyopathy</td><td>Cardiovascular Diseases</td><td>CYPA</td><td>Thus, we first evaluated CyPA expression levels in the right ventricle (RV) tissue specimens obtained from ACM patients and healthy controls (HC) by immunohistochemistry.</td></tr>",
                            "<tr><td>Ovarian Neoplasm</td><td>Endocrine System Diseases</td><td>CYPA</td><td>Further, CYPA was significantly associated with clinical stage and lymphnode metastasis of SOC patients.</td></tr>",
                            "<tr><td>STROKE, ISCHEMIC</td><td>Cardiovascular Diseases</td><td>CYPA</td><td>Increased plasma Cyclophilin A levels might be involved in the pathophysiology of acute ischemic stroke and Cyclophilin A might serve as a biomarker in risk assessment of acute stroke patients.</td></tr>",
                            "<tr><td>Ovarian cancer</td><td>Endocrine System Diseases</td><td>CYPA</td><td>Further, CYPA was significantly associated with clinical stage and lymphnode metastasis of SOC patients.</td></tr>",
                            "<tr><td>Acute respiratory coronavirus infection</td><td>Respiratory Tract Diseases</td><td>CYPA</td><td>Nucleocapsid protein of SARS coronavirus tightly binds to human cyclophilin A.</td></tr>",
                            "<tr><td>ATTENTION DEFICIT-HYPERACTIVITY DISORDER</td><td>Mental Disorders</td><td>CYPA</td><td>Specifically, the globalEVT method is able to detect genes related to Cyclophilin A like domain proteins which is known to play an important role in the mechanisms of ADHD development.</td></tr>",
                            "<tr><td>Inflammatory Disease</td><td>Pathological Conditions, Signs and Symptoms</td><td>CYPA</td><td>Although the interaction between cyclophilin A and CD147 is well established in inflammatory disease, that of cyclophilin B (CypB) with CD147 has not been fully explored, especially in cancer cell biology, and the exact molecular mechanism underlying such an association is poorly understood.</td></tr>",
                            "<tr><td>Primary Malignant Neoplasm</td><td>Neoplasms</td><td>CYPA</td><td>The expression level of PPIA was significantly associated with levels of basigin and signal transducer and activator of transcription 3, which may be major effectors of PPIA in the progression of the cancer.</td></tr>",
                            "<tr><td>Primary Malignant Neoplasm</td><td>Neoplasms</td><td>CYPA</td><td>Overexpressed cyclophilin A in cancer cells renders resistance to hypoxia- and cisplatin-induced cell death.</td></tr>",
                            "<tr><td>Primary Malignant Neoplasm</td><td>Neoplasms</td><td>CYPA</td><td>For example, CypA protein displays an unusually high expression in several cancer types and correlates with poor outcome of the patients.</td></tr>",
                            "<tr><td>Primary Malignant Neoplasm</td><td>Neoplasms</td><td>CYPA</td><td>Although overexpression of cyclophilin A (CypA) is associated with several types of cancer, its role in pancreatic cancer has not been studied.</td></tr>",
                            "<tr><td>Primary Malignant Neoplasm</td><td>Neoplasms</td><td>CYPA</td><td>We apply our approach to elucidate the allosteric mechanism in cyclophilin A (CypA), a peptidyl-prolyl cis-trans isomerase known to participate in diverse biological processes and be associated with many diseases including cancer.</td></tr>",
                            "<tr><td>Ovarian Carcinoma</td><td>Female Urogenital Diseases and Pregnancy Complications</td><td>CYPA</td><td>In conclusion, our results recommend the use of PPIA as a single reference gene to be considered for improved reliability of normalization in gene expression studies involving endometrial tumor samples at different tumor degrees.</td></tr>",
                            "<tr><td>Rare epilepsy</td><td>Nervous System Diseases</td><td>CYPA</td><td>Uncaria rhynchophylla upregulates the expression of MIF and cyclophilin A in kainic acid-induced epilepsy rats: A proteomic analysis.</td></tr>",
                            "<tr><td>FIBROMUSCULAR DYSPLASIA</td><td>Cardiovascular Diseases</td><td>CYPA</td><td>To understand better the role of nonstructural protein 2B of the causative agent FMD virus (FMDV) in the process of virus replication, we identified a porcine host protein, cyclophilin A (CypA), which interacts with FMDV 2B.</td></tr>",
                            "<tr><td>Foot-and-Mouth Disease</td><td>Animal Diseases</td><td>CYPA</td><td>Foot-and-mouth disease virus nonstructural protein 2B interacts with cyclophilin A, modulating virus replication.</td></tr>",
                            "<tr><td>Glioblastoma</td><td>Neoplasms</td><td>CYPA</td><td>After systemic administration of these new siRNA delivery NPs, they can target the glioma cells and efficiently inhibit the GBM tumor growth by silencing the expression of cyclophilin A (CypA), which is up-regulated in brain cancer and plays an important role in malignant transformation of brain cancer and maintaining glioma cell stemness.</td></tr>",
                            "<tr><td>Glioblastoma</td><td>Neoplasms</td><td>CYPA</td><td>These results not only establish the relevance of CypA to glioblastoma growth in vitro and in vivo, but also suggest that small interfering RNA-based CypA knockdown could be an effective therapeutic approach against glioblastomas.</td></tr>",
                            "<tr><td>Glial tumor</td><td>Neoplasms</td><td>CYPA</td><td>After systemic administration of these new siRNA delivery NPs, they can target the glioma cells and efficiently inhibit the GBM tumor growth by silencing the expression of cyclophilin A (CypA), which is up-regulated in brain cancer and plays an important role in malignant transformation of brain cancer and maintaining glioma cell stemness.</td></tr>",
                            "<tr><td>Glial tumor</td><td>Neoplasms</td><td>CYPA</td><td>Cyclophilin A Maintains Glioma-Initiating Cell Stemness by Regulating Wnt/β-Catenin Signaling.</td></tr>",
                            "<tr><td>Cowden syndrome</td><td>Congenital, Hereditary, and Neonatal Diseases and Abnormalities</td><td>CYPA</td><td>This study analyzes the correlation between cyclophilin A, matrix metalloproteinase (MMP)-9, and tissue inhibitor of MMP (TIMP)/MMP-9 complexes in the inflamed and non-inflamed colon mucosa of UC and CD patients.</td></tr>",
                            "<tr><td>Seasonal Allergic Rhinitis</td><td>Immune System Diseases</td><td>CYPA</td><td>Eight Ole e 15-PPIA chimeras were produced in E. coli, purified and tested with 20 sera from Ole e 15-sensitized patients with olive pollen allergy by ELISA experiments.</td></tr>",
                            "<tr><td>Heart Failure</td><td>Cardiovascular Diseases</td><td>CYPA</td><td>Importantly, plasma CyPA levels are increased in patients with coronary artery disease, abdominal aortic aneurysms, pulmonary hypertension, and heart failure.</td></tr>",
                            "<tr><td>Heart Failure</td><td>Cardiovascular Diseases</td><td>CYPA</td><td>Here, we review the potential roles of CyPA and CD147 in cardiac remodelling and their implications for the development of novel pharmacological therapies for heart failure.</td></tr>",
                            "<tr><td>Heart Failure</td><td>Cardiovascular Diseases</td><td>CYPA</td><td>The events triggered by CyPA cause a decline of diastolic and systolic function and finally lead to the occurrence of heart failure.</td></tr>",
                            "<tr><td>Cardiac Failure Congestive</td><td>Cardiovascular Diseases</td><td>CYPA</td><td>The events triggered by CyPA cause a decline of diastolic and systolic function and finally lead to the occurrence of heart failure.</td></tr>",
                            "<tr><td>Cardiac Failure Congestive</td><td>Cardiovascular Diseases</td><td>CYPA</td><td>Importantly, plasma CyPA levels are increased in patients with coronary artery disease, abdominal aortic aneurysms, pulmonary hypertension, and heart failure.</td></tr>",
                            "<tr><td>Cardiac Failure Congestive</td><td>Cardiovascular Diseases</td><td>CYPA</td><td>Here, we review the potential roles of CyPA and CD147 in cardiac remodelling and their implications for the development of novel pharmacological therapies for heart failure.</td></tr>",
                            "<tr><td>Ovarian Carcinoma</td><td>Digestive System Diseases</td><td>CYPA</td><td>Proteomic analysis of hepatitis B surface antigen positive transgenic mouse liver and decrease of cyclophilin A.</td></tr>",
                            "<tr><td>Ovarian Carcinoma</td><td>Digestive System Diseases</td><td>CYPA</td><td>A number of reports have demonstrated that CyPA plays a critical role in the successful replication of viruses such as human immunodeficiency virus (HIV), hepatitis C virus (HCV), hepatitis B virus (HBV), etc.</td></tr>",
                            "<tr><td>Ovarian Carcinoma</td><td>Digestive System Diseases</td><td>CYPA</td><td>Interestingly, the hepatitis C virus (HCV) non-structural 5A (NS5A) protein, which is known to modulate the IFN response, competes with IRF9 for CypA binding and can prevent the formation of IRF9-CypA complexes.</td></tr>",
                            "<tr><td>Ovarian Carcinoma</td><td>Digestive System Diseases</td><td>CYPA</td><td>Different mechanisms of hepatitis C virus RNA polymerase activation by cyclophilin A and B in vitro.</td></tr>",
                            "<tr><td>Ovarian Carcinoma</td><td>Digestive System Diseases</td><td>CYPA</td><td>A number of reports have demonstrated that CyPA plays a critical role in the successful replication of viruses such as human immunodeficiency virus (HIV), hepatitis C virus (HCV), hepatitis B virus (HBV), etc.</td></tr>",
                            "<tr><td>Ovarian Carcinoma</td><td>Digestive System Diseases</td><td>CYPA</td><td>We thus compared the ability of CypA from mouse, tree shrew, and seven non-human primate species to support HCV replication, finding that murine CypA only partially rescued viral replication in Huh7.5-shRNA CypA cells.</td></tr>",
                            "<tr><td>Ovarian Carcinoma</td><td>Digestive System Diseases</td><td>CYPA</td><td>Engineering the mutations into wild-type HCV fully recapitulated the CyPA-independent and CsA-resistant phenotype and four putative proline substrates of CyPA were mapped to the vicinity of the DY motif.</td></tr>",
                            "<tr><td>Ovarian Carcinoma</td><td>Digestive System Diseases</td><td>CYPA</td><td>We also investigated the effect of D2 mutations conferring resistance of HCV replication to cyclophilin A (CypA) inhibitors on the structure of the recombinant D2 Con1 mutants and their binding to CypA.</td></tr>",
                            "<tr><td>Ovarian Carcinoma</td><td>Digestive System Diseases</td><td>CYPA</td><td>They include second-wave, first-generation, and second-generation NS3-4A protease inhibitors, nucleoside/nucleotide analogue inhibitors, and non-nucleoside inhibitors of HCV RNA-dependent RNA polymerase, inhibitors of nonstructural protein 5A and host-targeted agents, such as cyclophilin A inhibitors and microRNA-122 antagonists.</td></tr>",
                            "<tr><td>Ovarian Carcinoma</td><td>Digestive System Diseases</td><td>CYPA</td><td>Using shRNAs, we showed that CypA was required for replication of HCV in Huh-7.5 cells and identified 3 SNPs in PPIA that protected cells from HCV entry or replication.</td></tr>",
                            "<tr><td>Ovarian Carcinoma</td><td>Digestive System Diseases</td><td>CYPA</td><td>No direct molecular interaction has been detected by NMR spectroscopy between HCV NS5B(Δ21) and host CypA.</td></tr>",
                            "<tr><td>Ovarian Carcinoma</td><td>Digestive System Diseases</td><td>CYPA</td><td>Interactions of the Disordered Domain II of Hepatitis C Virus NS5A with Cyclophilin A, NS5B, and Viral RNA Show Extensive Overlap.</td></tr>",
                            "<tr><td>Ovarian Carcinoma</td><td>Digestive System Diseases</td><td>CYPA</td><td>Cyclophilin A allows the allosteric regulation of a structural motif in the disordered domain 2 of NS5A and thereby fine-tunes HCV RNA replication.</td></tr>",
                            "<tr><td>Ovarian Carcinoma</td><td>Digestive System Diseases</td><td>CYPA</td><td>Our data further show that MxB interacts with the HCV protein NS5A, thereby impairing NS5A interaction with CypA and NS5A localization to the endoplasmic reticulum, two events essential for HCV RNA replication.</td></tr>",
                            "<tr><td>B Virus Infection</td><td>Infections</td><td>CYPA</td><td>The stability of PPIA is in line with other studies investigating different herpesvirus infections whereas the finding that HHV-6B significantly upregulates TBP is novel and most likely specific to HHV-6B.</td></tr>",
                            "<tr><td>HIV Infection</td><td>Immune System Diseases</td><td>CYPA</td><td>However, we find that CypA is not required for the decreased infection observed in SUN2-silenced cells and, conversely, that endogenous SUN2 is not required for the well-documented positive modulation of HIV infection by CypA.</td></tr>",
                            "<tr><td>Hypercholesterolemia</td><td>Nutritional and Metabolic Diseases</td><td>CYPA</td><td>The analysis of classical risk factors for atherosclerosis revealed that patients with hypertension and hypercholesterolemia had significantly enhanced platelet-bound CyPA, whereas diabetes and smoking were not associated with enhanced CyPA-binding to the platelet surface.</td></tr>",
                            "<tr><td>Hypercholesterolemia</td><td>Nutritional and Metabolic Diseases</td><td>CYPA</td><td>Enhanced CyPA platelet surface expression is associated with hypertension and hypercholesterolemia in patients with stable coronary artery disease (CAD).</td></tr>",
                            "<tr><td>Hypercholesterolemia</td><td>Nutritional and Metabolic Diseases</td><td>CYPA</td><td>In the present study, we tested the hypothesis that CAV-1 improves dyslipidemia, inhibits cyclophilin A (CypA)- mediated ROS production, prevents mitochondrial compensatory action and attenuates oxidative stress responses in cholesterol-induced hypercholesterolemia.</td></tr>",
                            "<tr><td>Hyperglycemia</td><td>Nutritional and Metabolic Diseases</td><td>CYPA</td><td>Our findings confirm that HPRT1, GUSB and PPIA are the most suitable reference genes for RPE cell gene expression experiments subjected to hypoxia and/or hyperglycemia.</td></tr>",
                            "<tr><td>urinary tract disorder</td><td>Cardiovascular Diseases</td><td>CYPA</td><td>Serum CyPA levels and the expression kinetics of CyPA‑associated signaling pathways were examined following simvastatin treatment in rat thoracic aortas during hypertension.</td></tr>",
                            "<tr><td>urinary tract disorder</td><td>Cardiovascular Diseases</td><td>CYPA</td><td>Enhanced CyPA platelet surface expression is associated with hypertension and hypercholesterolemia in patients with stable coronary artery disease (CAD).</td></tr>",
                            "<tr><td>urinary tract disorder</td><td>Cardiovascular Diseases</td><td>CYPA</td><td>Moreover, plasma CyPA levels can predict all-cause death in patients with coronary artery disease and pulmonary hypertension.</td></tr>",
                            "<tr><td>urinary tract disorder</td><td>Cardiovascular Diseases</td><td>CYPA</td><td>Among the risk factors for cerebral stroke examined in this study, only hypertension was significantly associated with plasma Cyclophilin A level.</td></tr>",
                            "<tr><td>urinary tract disorder</td><td>Cardiovascular Diseases</td><td>CYPA</td><td>Enhanced platelet-bound CyPA is associated with hypertension and hypercholesterolemia in stable CAD patients.</td></tr>",
                            "<tr><td>Rare inflammatory bowel disease</td><td>Digestive System Diseases</td><td>CYPA</td><td>However, further studies are necessary to verify the role of CyPA in IBD development.</td></tr>",
                            "<tr><td>Influenza</td><td>Respiratory Tract Diseases</td><td>CYPA</td><td>This review briefly summarizes recent advances in understanding the roles of CypA during influenza virus infection.</td></tr>",
                            "<tr><td>Influenza</td><td>Respiratory Tract Diseases</td><td>CYPA</td><td>ChCypA protein was shown to be able to specifically interact with influenza virus M1 protein.</td></tr>",
                            "<tr><td>urinary tract disorder</td><td>Female Urogenital Diseases and Pregnancy Complications</td><td>CYPA</td><td>Albuminuria is the currently accepted marker for detection of DN.This study aims to evaluate the urinary level of two novel renal tubular proteins (cyclophilin A and periostin) in patients with T2DM and among different nephropathy stages and also to validate the diagnostic accuracy of both cyclophilin A and periostin as potential markers for early prediction of DN relative to albuminuria.This cross-sectional study recruited 137 patients with T2DM, and they were divided based on their urinary albumin:creatinine ratio into T2DM with normoalbuminuria (&lt;i&gt;group II&lt;/i&gt;), incipient T2DN with microalbuminuria (&lt;i&gt;group III&lt;/i&gt;) and overt T2DN with macroalbuminuria (&lt;i&gt;group&lt;/i&gt;&lt;i&gt;IV&lt;/i&gt;) beside 41 healthy subjects as &lt;i&gt;group I&lt;/i&gt; Cyclophilin A and periostin were measured in the urine using ELISA.</td></tr>",
                            "<tr><td>Acute megakaryoblastic leukemia</td><td>Neoplasms</td><td>CYPA</td><td>We determined the expression of alphaSMA and megakaryoblastic leukemia-1 (MKL1), a transcriptional regulator of alphaSMA, by quantitative real-time PCR using three common internal controls, glyceraldehyde-3-phosphate dehydrogenase (GAPDH), cyclophilin A and 18S rRNA.</td></tr>",
                            "<tr><td>Acute myeloid leukemia with recurrent genetic anomaly</td><td>Neoplasms</td><td>CYPA</td><td>High expression levels of PPIA were associated with decreased overall survival in low grade glioma, acute myeloid leukemia, lung adenocarcinoma, skin cutaneous melanoma and liver hepatocellular carcinoma (LIHC).</td></tr>",
                            "<tr><td>Ovarian Carcinoma</td><td>Neoplasms</td><td>CYPA</td><td>Novel combinational treatment of cisplatin with cyclophilin A inhibitors in human heptocellular carcinomas.</td></tr>",
                            "<tr><td>Malignant Endometrial Neoplasm</td><td>Female Urogenital Diseases and Pregnancy Complications</td><td>CYPA</td><td>Down-regulation of focal adhesion signaling in response to cyclophilin A knockdown in human endometrial cancer cells, implicated by cDNA microarray analysis.</td></tr>",
                            "<tr><td>Skin Neoplasm, Malignant</td><td>Skin and Connective Tissue Diseases</td><td>CYPA</td><td>Surgery combined with local 5-aminolevulinic acid-photodynamic therapy on skin cancer and its effect on the expression of cyclophilin A, cyclophilin B and CD147.</td></tr>",
                            "<tr><td>LUNG CANCER</td><td>Respiratory Tract Diseases</td><td>CYPA</td><td>Protein expression profiling identifies macrophage migration inhibitory factor and cyclophilin a as potential molecular targets in non-small cell lung cancer.</td></tr>",
                            "<tr><td>LUNG CANCER</td><td>Respiratory Tract Diseases</td><td>CYPA</td><td>The present study aimed to examine 10 housekeeping genes (HKGs), including 18s ribosomal RNA (18S), glyceraldehyde‑3‑phosphate dehydrogenase (GAPDH), ribosomal protein large P0 (RPLP0), β‑actin (ACTB), peptidylprolyl isomerase A (PPIA), phosphoglycerate kinase‑1 (PGK1), β‑2‑microglobulin (B2M), ribosomal protein LI3a (RPL13A), hypoxanthine phosphoribosyl transferase‑1 (HPRT1) and TATA box binding protein (TBP) in order to identify the most stable and suitable reference genes for use in expression studies in non‑small cell lung cancer.</td></tr>",
                            "<tr><td>LUNG CANCER</td><td>Respiratory Tract Diseases</td><td>CYPA</td><td>Significantly, we show for the first time that CypA increased NSCLC cell invasion by regulating the activity of secreted matrix metallopeptidase 9 (MMP9).</td></tr>",
                            "<tr><td>LUNG CANCER</td><td>Respiratory Tract Diseases</td><td>CYPA</td><td>Two hundred and thirty-four primary NSCLC specimens reflecting a broad range of histologies and stages were examined for CyPA and MIF reactivity by tissue microarray immunohistochemistry (TMA-IHC).</td></tr>",
                            "<tr><td>LUNG CANCER</td><td>Respiratory Tract Diseases</td><td>CYPA</td><td>The p38 inhibitor SB203580 was used to show that p38 MAPK is involved in CypA-mediated NSCLC metastasis.</td></tr>",
                            "<tr><td>LUNG CANCER</td><td>Respiratory Tract Diseases</td><td>CYPA</td><td>Collectively, this study demonstrates that pharmacologic inhibition of CypA offers a potential therapeutic strategy via specific activation of p53-72R in NSCLC.</td></tr>",
                            "<tr><td>Ovarian Carcinoma</td><td>Neoplasms</td><td>CYPA</td><td>At least, SCC antigen, G protein, glutathione S-transferase, manganese superoxide dismutase, annexins, voltage-dependent anion channel, cyclophilin A, stratifin and galectin 7 are candidates for targeted proteins.</td></tr>",
                            "<tr><td>Cardiovascular Disease (CVD)</td><td>Cardiovascular Diseases</td><td>CYPA</td><td>Cyclophilin A (CypA) is secreted in response to oxidative stress and promotes inflammation and cardiovascular disease.</td></tr>",
                            "<tr><td>Cardiovascular Disease (CVD)</td><td>Cardiovascular Diseases</td><td>CYPA</td><td>The aim of this study was to investigate possible associations of CyPA platelet surface expression and a clinically relevant CyPA single-nucleotide polymorphism (CyPA PPIA rs6850) with prognosis in patients with symptomatic cardiovascular disease.</td></tr>",
                            "<tr><td>Cardiovascular Disease (CVD)</td><td>Cardiovascular Diseases</td><td>CYPA</td><td>Based on accumulating evidence, both CyPA and melatonin play important roles in cardiovascular diseases.</td></tr>",
                            "<tr><td>Cardiovascular Disease (CVD)</td><td>Cardiovascular Diseases</td><td>CYPA</td><td>This review discusses recently available data about CyPA in cardiovascular diseases, viral infections, neurodegeneration, cancer, rheumatoid arthritis, sepsis, asthma, periodontitis and aging.</td></tr>",
                            "<tr><td>Cardiovascular Disease (CVD)</td><td>Cardiovascular Diseases</td><td>CYPA</td><td>Additionally, plasma soluble Bsg levels are increased and predict all-cause death in patients with heart failure, suggesting that CyPA and Bsg are novel biomarkers for cardiovascular diseases.</td></tr>",
                            "<tr><td>Cardiovascular Disease (CVD)</td><td>Cardiovascular Diseases</td><td>CYPA</td><td>Cyclophilin A (CyPA) is involved in the pathophysiology of several inflammatory and cardiovascular diseases.</td></tr>",
                            "<tr><td>Carotid Artery Stenosis</td><td>Cardiovascular Diseases</td><td>CYPA</td><td>Cyclophilin A: A Predictive Biomarker of Carotid Stenosis in Cerebral Ischemic Stroke.</td></tr>",
                            "<tr><td>Carotid Artery Stenosis</td><td>Cardiovascular Diseases</td><td>CYPA</td><td>Cyclophilin A (CypA), secreted from vascular smooth muscle cells and inflammatory cells in response to oxidative stress, promotes vascular atherosclerosis and development of carotid stenosis.</td></tr>",
                            "<tr><td>STROKE, ISCHEMIC</td><td>Pathological Conditions, Signs and Symptoms</td><td>CYPA</td><td>Increased concentration of plasma CypA in acute cerebral infarction was demonstrated clinically.</td></tr>",
                            "<tr><td>Rare cancer of cervix uteri</td><td>Female Urogenital Diseases and Pregnancy Complications</td><td>CYPA</td><td>Annexin profiling suggested that cell death could be due to necrosis as observed by upregulation of necrotic markers such as LDH A, Rip-1, and Cyclophilin A. Necrosis appears to be a better therapeutic response as it could further activate pro-inflammatory cytokines to attract immune cells to eliminate HPV-integrated cells and therefore TALEN editing strategy has the potential to be a promising tool as an adjuvant therapy in cervical cancer along with surgery.</td></tr>",
                            "<tr><td>COLORECTAL CANCER</td><td>Digestive System Diseases</td><td>CYPA</td><td>The pair PPIA/RPLP0 is a common optimal reference for studies encompassing tissues sampled from colorectal cancer and IBD patients.Using ACTB or B2M is not recommended.</td></tr>",
                            "<tr><td>Coronary Atherosclerosis</td><td>Cardiovascular Diseases</td><td>CYPA</td><td>Moreover, plasma CyPA levels can predict all-cause death in patients with coronary artery disease and pulmonary hypertension.</td></tr>",
                            "<tr><td>Coronary Atherosclerosis</td><td>Cardiovascular Diseases</td><td>CYPA</td><td>The results indicate that plasma CyPA levels can be used to predict all-cause death, rehospitalization, and coronary revascularization in patients with coronary artery disease and that when combined with other biomarkers (hsCRP and brain natriuretic peptide levels), the CyPA levels have further enhanced prognostic impacts in those patients.</td></tr>",
                            "<tr><td>Coronary Atherosclerosis</td><td>Cardiovascular Diseases</td><td>CYPA</td><td>Platelet surface expression of cyclophilin A is associated with increased mortality in patients with symptomatic coronary artery disease.</td></tr>",
                            "<tr><td>Coronary Atherosclerosis</td><td>Cardiovascular Diseases</td><td>CYPA</td><td>Platelet-bound cyclophilin A in patients with stable coronary artery disease and acute myocardial infarction.</td></tr>",
                            "<tr><td>Coronary Atherosclerosis</td><td>Cardiovascular Diseases</td><td>CYPA</td><td>Welchs two-sample t test indicated an association of SNP rs6850: A &gt; G, located at the 5' UTR region with increased plasma levels of cyclophilin A in patients with coronary artery disease and with coronary artery disease associated with diabetes.</td></tr>",
                            "<tr><td>Coronary Disease</td><td>Cardiovascular Diseases</td><td>CYPA</td><td>Moreover, plasma CyPA levels can predict all-cause death in patients with coronary artery disease and pulmonary hypertension.</td></tr>",
                            "<tr><td>Coronary Disease</td><td>Cardiovascular Diseases</td><td>CYPA</td><td>Platelet-bound cyclophilin A in patients with stable coronary artery disease and acute myocardial infarction.</td></tr>",
                            "<tr><td>Coronary Disease</td><td>Cardiovascular Diseases</td><td>CYPA</td><td>Welchs two-sample t test indicated an association of SNP rs6850: A &gt; G, located at the 5' UTR region with increased plasma levels of cyclophilin A in patients with coronary artery disease and with coronary artery disease associated with diabetes.</td></tr>",
                            "<tr><td>Coronary Disease</td><td>Cardiovascular Diseases</td><td>CYPA</td><td>The results indicate that plasma CyPA levels can be used to predict all-cause death, rehospitalization, and coronary revascularization in patients with coronary artery disease and that when combined with other biomarkers (hsCRP and brain natriuretic peptide levels), the CyPA levels have further enhanced prognostic impacts in those patients.</td></tr>",
                            "<tr><td>Coronary Disease</td><td>Cardiovascular Diseases</td><td>CYPA</td><td>Platelet surface expression of cyclophilin A is associated with increased mortality in patients with symptomatic coronary artery disease.</td></tr>",
                            "<tr><td>DERMATITIS, ATOPIC</td><td>Immune System Diseases</td><td>CYPA</td><td>Furthermore, KLK7 (1.8-fold) and PPIA (0.65-fold) proteins were differentially expressed in lesional biopsy specimens from patients with AE relative to normal skin.</td></tr>",
                            "<tr><td>diabetes mellitus (disease)</td><td>Endocrine System Diseases</td><td>CYPA</td><td>Cyclophilin A was also detected in the plasma of patients with diabetes.</td></tr>",
                            "<tr><td>diabetes mellitus (disease)</td><td>Endocrine System Diseases</td><td>CYPA</td><td>Welchs two-sample t test indicated an association of SNP rs6850: A &gt; G, located at the 5' UTR region with increased plasma levels of cyclophilin A in patients with coronary artery disease and with coronary artery disease associated with diabetes.</td></tr>",
                            "<tr><td>diabetes mellitus (disease)</td><td>Endocrine System Diseases</td><td>CYPA</td><td>The means by which cyclophilin A contributes to vascular lesion development in diabetes is however largely unknown.</td></tr>",
                            "<tr><td>Rare diabetes mellitus</td><td>Endocrine System Diseases</td><td>CYPA</td><td>The means by which cyclophilin A contributes to vascular lesion development in diabetes is however largely unknown.</td></tr>",
                            "<tr><td>Rare diabetes mellitus</td><td>Endocrine System Diseases</td><td>CYPA</td><td>Cyclophilin A was also detected in the plasma of patients with diabetes.</td></tr>",
                            "<tr><td>Rare diabetes mellitus</td><td>Endocrine System Diseases</td><td>CYPA</td><td>Welchs two-sample t test indicated an association of SNP rs6850: A &gt; G, located at the 5' UTR region with increased plasma levels of cyclophilin A in patients with coronary artery disease and with coronary artery disease associated with diabetes.</td></tr>",
                            "<tr><td>Rare diabetes mellitus type 2</td><td>Endocrine System Diseases</td><td>CYPA</td><td>The association of SNPs with known blood markers of type 2 diabetes and coronary artery disease such as HbA1c, low- and high-density lipoproteins, triglycerides, fasting and postprandial blood sugar levels, and cyclophilin A were probed.</td></tr>",
                            "<tr><td>Rare diabetes mellitus type 2</td><td>Endocrine System Diseases</td><td>CYPA</td><td>Proteomic profiling of high glucose primed monocytes identifies cyclophilin A as a potential secretory marker of inflammation in type 2 diabetes.</td></tr>",
                            "<tr><td>Rare diabetes mellitus type 2</td><td>Endocrine System Diseases</td><td>CYPA</td><td>Diagnostic accuracy of both markers was determined for prediction of DN via receiver operating characteristic curve analyses.Urinary cyclophilin A and periostin levels were significantly higher in DN groups when compared with T2DM with normoalbuminuria group.</td></tr>",
                            "<tr><td>Diabetic Vascular Disorder</td><td>Endocrine System Diseases</td><td>CYPA</td><td>Increasing clinical evidence supports a role for the secretory protein, cyclophilin A in diabetic vascular disease.</td></tr>",
                            "<tr><td>Diabetic Kidney Disease</td><td>Endocrine System Diseases</td><td>CYPA</td><td>Periostin exhibits a higher diagnostic accuracy than urinary cyclophilin A specifically in overt DN stage.</td></tr>",
                            "<tr><td>Diabetic Kidney Disease</td><td>Endocrine System Diseases</td><td>CYPA</td><td>Cyclophilin A and CD147 associate with progression of diabetic nephropathy.</td></tr>",
                            "<tr><td>Dysmenorrhea</td><td>Pathological Conditions, Signs and Symptoms</td><td>CYPA</td><td>However, stromal and vascular endothelial CyPA expression were correlated with dysmenorrhea recurrence (p = 0.0023 and p = 0.0003, respectively).</td></tr>",
                            "<tr><td>Encephalomyelitis</td><td>Nervous System Diseases</td><td>CYPA</td><td>These results showed that the loss of cyclophilin A results in altered peripheral immune activation and CNS leukocyte infiltration, but these changes did not result in a substantial change in the clinical course of EAE.</td></tr>",
                            "<tr><td>Ovarian Carcinoma</td><td>Female Urogenital Diseases and Pregnancy Complications</td><td>CYPA</td><td>Proteomics identification of cyclophilin a as a potential prognostic factor and therapeutic target in endometrial carcinoma.</td></tr>",
                            "<tr><td>SCHIZOPHRENIA</td><td>Mental Disorders</td><td>CYPA</td><td>The results show that people with schizophrenia had significantly less PPIA and SDHA mRNA and tended to have less GUSB and B2M mRNA, suggesting that these control genes may not be good candidates for normalization.</td></tr>",
                            "<tr><td>Sepsis</td><td>Pathological Conditions, Signs and Symptoms</td><td>CYPA</td><td>In this study, we explored whether CsCyPA immunization could prevent or ameliorate mice sepsis induced by cecum ligation puncture (CLP).</td></tr>",
                            "<tr><td>Smoking</td><td>Behavior and Behavior Mechanisms</td><td>CYPA</td><td>Mercapturic Acids Derived from the Toxicants Acrolein and Crotonaldehyde in the Urine of Cigarette Smokers from Five Ethnic Groups with Differing Risks for Lung Cancer.</td></tr>",
                            "<tr><td>Ovarian Carcinoma</td><td>Digestive System Diseases</td><td>CYPA</td><td>Two-dimensional differential in-gel electrophoresis for identification of gastric cancer-specific protein markers.</td></tr>",
                            "<tr><td>STROKE, ISCHEMIC</td><td>Cardiovascular Diseases</td><td>CYPA</td><td>Our study revealed higher circulating serum levels of CypA in the hypertensive stroke group than in the non-hypertensive stroke group.</td></tr>",
                            "<tr><td>STROKE, ISCHEMIC</td><td>Cardiovascular Diseases</td><td>CYPA</td><td>Increasted serum cyclophilin A concentrations are highly associated with stroke severity and prognosis after hemorrhagic stroke.</td></tr>",
                            "<tr><td>Toxoplasmosis, Ocular</td><td>Eye Diseases</td><td>CYPA</td><td>A validated PPIA assay may have a role in the diagnosis of the atypical OT patient before more invasive anterior chamber or vitreous tap is performed for PCR analysis or for Goldmann-Witner coefficient calculations.</td></tr>",
                            "<tr><td>Tuberculosis</td><td>Infections</td><td>CYPA</td><td>Earlier, in our immunoproteomic analysis, we found that peptidyl-prolyl cis-trans isomerase A (PpiA) protein-containing fractions induced significantly higher interferon-gamma (IFN-γ) response in LTBI than in PTB.</td></tr>",
                            "<tr><td>Uveitis</td><td>Eye Diseases</td><td>CYPA</td><td>PPIA can identify the patient with active recurrent OT from acute OT, other forms of uveitis and other parasitic infections.</td></tr>",
                            "<tr><td>Rare vascular disease</td><td>Cardiovascular Diseases</td><td>CYPA</td><td>Cyclophilin A as a novel biphasic mediator of endothelial activation and dysfunction.</td></tr>",
                            "<tr><td>Rare vascular disease</td><td>Cardiovascular Diseases</td><td>CYPA</td><td>We examined the effect of single-nucleotide polymorphisms (SNPs) within the PPIA gene on plasma levels of cyclophilin A and coupled this with status of vascular disease in patients with and without type 2 diabetes in 212 South Indian subjects.</td></tr>",
                            "<tr><td>Rare vascular disease</td><td>Cardiovascular Diseases</td><td>CYPA</td><td>Cyclophilin A enhances macrophage differentiation and lipid uptake in high glucose conditions: a cellular mechanism for accelerated macro vascular disease in diabetes mellitus.</td></tr>",
                            "<tr><td>Rare viral disease</td><td>Infections</td><td>CYPA</td><td>Several coding and non-coding genetic variants in the PPIA gene encoding for CypA have been described, but there is only limited information about their influence on the course of viral infection.</td></tr>",
                            "<tr><td>Rare viral disease</td><td>Infections</td><td>CYPA</td><td>It has been reported that human cellular cyclophilin A (CypA) impaired influenza virus infection in 293T cells.</td></tr>",
                            "<tr><td>Rare viral disease</td><td>Infections</td><td>CYPA</td><td>Together, these evidences showed diverse roles of CyPA in viral infection.</td></tr>",
                            "<tr><td>Rare viral disease</td><td>Infections</td><td>CYPA</td><td>This review briefly summarizes recent advances in understanding the roles of CypA during influenza virus infection.</td></tr>",
                            "<tr><td>Acute Pancreatitis</td><td>Digestive System Diseases</td><td>CYPA</td><td>Serum CypA concentrations were significantly lower in controls than in AP group.</td></tr>",
                            "<tr><td>LUNG CANCER</td><td>Respiratory Tract Diseases</td><td>CYPA</td><td>Proteomic analysis of secreted proteins of non-small cell lung cancer.</td></tr>",
                            "<tr><td>Alopecia</td><td>Pathological Conditions, Signs and Symptoms</td><td>CYPA</td><td>The molecular chaperone CypA stimulates hair follicle and HDP cells through Wnt/β-catenin signaling pathway, suggesting that it might be a key molecule for hair loss disorder therapy.</td></tr>",
                            "<tr><td>PRESENILE AND SENILE DEMENTIA</td><td>Mental Disorders</td><td>CYPA</td><td>The CD147 protein interacts with other proteins such as cyclophilin A (CyPA), Cyclophilin B (CyPB), sterol carrier protein (SCP), caveolin-1 and integrins, and can influence amyloid-β (Aβ) peptide levels, a protein that is central to Alzheimer's disease (AD) pathogenesis.</td></tr>",
                            "<tr><td>PRESENILE AND SENILE DEMENTIA</td><td>Mental Disorders</td><td>CYPA</td><td>Subsequently, using PPIA and UBE2D2 as ERGs for normalization, the mRNA levels of paraoxonase 1 (PON1) and paraoxonase 2 (PON2) were quantified in the frontal cortex of AD and control cases (n=80) and analyzed using the REST 2009 program.</td></tr>",
                            "<tr><td>Amyotrophic lateral sclerosis</td><td>Nutritional and Metabolic Diseases</td><td>CYPA</td><td>Therefore, in the present study, we investigated the process of motor neuron degeneration as the disease progresses and to determine whether the CypA-AIF complex would play a role in inducing motor neuronal cell death in mutant superoxide dismutase 1 (SOD1)(G93A) ALS model mice.</td></tr>",
                            "<tr><td>Amyotrophic lateral sclerosis</td><td>Nutritional and Metabolic Diseases</td><td>CYPA</td><td>Our results indicates that extracellular PPIA is a promising druggable target for ALS and support further studies to develop a therapy to arrest or slow the progression of the disease in patients.&lt;b&gt;SIGNIFICANCE STATEMENT&lt;/b&gt; We provide evidence that extracellular cyclophilin A, also known as peptidylprolyl cis-/trans-isomerase A (PPIA), is a mediator of the neuroinflammatory reaction in amyotrophic lateral sclerosis (ALS) and is toxic for motor neurons.</td></tr>",
                            "<tr><td>Arteriosclerosis</td><td>Cardiovascular Diseases</td><td>CYPA</td><td>The analysis of classical risk factors for atherosclerosis revealed that patients with hypertension and hypercholesterolemia had significantly enhanced platelet-bound CyPA, whereas diabetes and smoking were not associated with enhanced CyPA-binding to the platelet surface.</td></tr>",
                            "<tr><td>Arteriosclerosis</td><td>Cardiovascular Diseases</td><td>CYPA</td><td>Our data indicate that CyPA has proinflammatory effects on EC and may play an important role in the pathogenesis of inflammatory diseases, such as atherosclerosis.</td></tr>",
                            "<tr><td>Arteriosclerosis</td><td>Cardiovascular Diseases</td><td>CYPA</td><td>Cyclophilin A plays a pathogenic role in the development and progression of atherosclerosis, which can be assessed by measuring carotid intima-media thickness.</td></tr>",
                            "<tr><td>Arteriosclerosis</td><td>Cardiovascular Diseases</td><td>CYPA</td><td>We hypothesized that the genetic variation at the cyclophilin A gene (PPIA) could affect the risk for developing atherosclerosis and myocardial infarction.</td></tr>",
                            "<tr><td>Arteriosclerosis</td><td>Cardiovascular Diseases</td><td>CYPA</td><td>Using immunohistochemistry, we showed that REGγ was highly expressed in these plaques, and the result of RNA-seq in Human umbilical vein endothelial cells (HUVECs), led us to explore and indentify that REGγ significantly promoted cyclophilin A (CyPA) expression, which is a proinflammatory and proapoptotic molecule in atherosclerosis progression.</td></tr>",
                            "<tr><td>Arteriosclerosis</td><td>Cardiovascular Diseases</td><td>CYPA</td><td>Growing evidence implicates cyclophilin A secreted by vascular wall cells and monocytes as a key mediator in atherosclerosis.</td></tr>",
                            "<tr><td>Arteriosclerosis</td><td>Cardiovascular Diseases</td><td>CYPA</td><td>Given the paracrine and autocrine actions of cyclophilin A, the secreted immunophilin could be significant for progression of atherosclerosis in type 2 diabetes.</td></tr>",
                            "<tr><td>Arteriosclerosis</td><td>Cardiovascular Diseases</td><td>CYPA</td><td>Cyclophilin A (CypA), secreted from vascular smooth muscle cells and inflammatory cells in response to oxidative stress, promotes vascular atherosclerosis and development of carotid stenosis.</td></tr>",
                            "<tr><td>Arteriosclerosis</td><td>Cardiovascular Diseases</td><td>CYPA</td><td>Cyclophilin A (CyPA) is a major ROS-induced factor in atherosclerosis.</td></tr>",
                            "<tr><td>RHEUMATOID ARTHRITIS</td><td>Immune System Diseases</td><td>CYPA</td><td>Cyclophilin A up-regulates MMP-9 expression and adhesion of monocytes/macrophages via CD147 signalling pathway in rheumatoid arthritis.</td></tr>",
                            "<tr><td>RHEUMATOID ARTHRITIS</td><td>Immune System Diseases</td><td>CYPA</td><td>Contribution of cyclophilin A to the regulation of inflammatory processes in rheumatoid arthritis.</td></tr>",
                            "<tr><td>RHEUMATOID ARTHRITIS</td><td>Immune System Diseases</td><td>CYPA</td><td>Our study demonstrates that the increased expression of CD147 on neutrophils in RA may be responsible for CyPA-mediated neutrophil migration into the joints, elevated MMPs secretion and cell invasion of synoviocytes, all of which may contribute to the cartilage invasion and bone destruction of RA.</td></tr>",
                            "<tr><td>Ovarian Carcinoma</td><td>Immune System Diseases</td><td>CYPA</td><td>The suitability of using the PPIA gene as the HKG for such studies was questioned due to its low expression in asthmatics.</td></tr>",
                            "<tr><td>Atherosclerotic Cardiovascular Disease</td><td>Cardiovascular Diseases</td><td>CYPA</td><td>Pure, active, and uncontaminated CyPA does not induce endothelial TF or VCAM-1 expression; instead, it acts as a potent monocyte chemoattractant and induces monocyte Il-6 release, implying a role for extracellular CyPA in the pathogenesis of atherosclerosis via activation of monocytes rather than endothelial cells.</td></tr>",
                            "<tr><td>Atherosclerotic Cardiovascular Disease</td><td>Cardiovascular Diseases</td><td>CYPA</td><td>Growing evidence implicates cyclophilin A secreted by vascular wall cells and monocytes as a key mediator in atherosclerosis.</td></tr>",
                            "<tr><td>Atherosclerotic Cardiovascular Disease</td><td>Cardiovascular Diseases</td><td>CYPA</td><td>Given the paracrine and autocrine actions of cyclophilin A, the secreted immunophilin could be significant for progression of atherosclerosis in type 2 diabetes.</td></tr>",
                            "<tr><td>Atherosclerotic Cardiovascular Disease</td><td>Cardiovascular Diseases</td><td>CYPA</td><td>We hypothesized that the genetic variation at the cyclophilin A gene (PPIA) could affect the risk for developing atherosclerosis and myocardial infarction.</td></tr>",
                            "<tr><td>Atherosclerotic Cardiovascular Disease</td><td>Cardiovascular Diseases</td><td>CYPA</td><td>Cyclophilin A (CypA), secreted from vascular smooth muscle cells and inflammatory cells in response to oxidative stress, promotes vascular atherosclerosis and development of carotid stenosis.</td></tr>",
                            "<tr><td>Atherosclerotic Cardiovascular Disease</td><td>Cardiovascular Diseases</td><td>CYPA</td><td>Using immunohistochemistry, we showed that REGγ was highly expressed in these plaques, and the result of RNA-seq in Human umbilical vein endothelial cells (HUVECs), led us to explore and indentify that REGγ significantly promoted cyclophilin A (CyPA) expression, which is a proinflammatory and proapoptotic molecule in atherosclerosis progression.</td></tr>",
                            "<tr><td>Atherosclerotic Cardiovascular Disease</td><td>Cardiovascular Diseases</td><td>CYPA</td><td>The analysis of classical risk factors for atherosclerosis revealed that patients with hypertension and hypercholesterolemia had significantly enhanced platelet-bound CyPA, whereas diabetes and smoking were not associated with enhanced CyPA-binding to the platelet surface.</td></tr>",
                            "<tr><td>Atherosclerotic Cardiovascular Disease</td><td>Cardiovascular Diseases</td><td>CYPA</td><td>Cyclophilin A plays a pathogenic role in the development and progression of atherosclerosis, which can be assessed by measuring carotid intima-media thickness.</td></tr>",
                            "<tr><td>Atherosclerotic Cardiovascular Disease</td><td>Cardiovascular Diseases</td><td>CYPA</td><td>Cyclophilin A (CyPA) is a major ROS-induced factor in atherosclerosis.</td></tr>",
                            "<tr><td>Atherosclerotic Cardiovascular Disease</td><td>Cardiovascular Diseases</td><td>CYPA</td><td>Our data indicate that CyPA has proinflammatory effects on EC and may play an important role in the pathogenesis of inflammatory diseases, such as atherosclerosis.</td></tr>",
                            "<tr><td>Rare bacterial infectious disease</td><td>Infections</td><td>CYPA</td><td>Our findings further establish CypA as a component of dynamic actin-rich structures formed during bacterial infections and within cells in general.Anat Rec, 301:2086-2094, 2018.</td></tr>",
                            "<tr><td>Ovarian Carcinoma</td><td>Nervous System Diseases</td><td>CYPA</td><td>After systemic administration of these new siRNA delivery NPs, they can target the glioma cells and efficiently inhibit the GBM tumor growth by silencing the expression of cyclophilin A (CypA), which is up-regulated in brain cancer and plays an important role in malignant transformation of brain cancer and maintaining glioma cell stemness.</td></tr>",
                            "<tr><td>Listeriosis</td><td>Infections</td><td>CYPA</td><td>Our results demonstrate a crucial role for CypA during Listeria infections.</td></tr>",
                            "<tr><td>COPD, SEVERE EARLY-ONSET</td><td>Respiratory Tract Diseases</td><td>CYPA</td><td>Serum CyPA positively correlated with serum interleukin-6, matrix metalloproteinase-9 and high-sensitivity C-reactive protein in both the exacerbation and convalescence phases of COPD.</td></tr>",
                            "<tr><td>Lung Neoplasms</td><td>Respiratory Tract Diseases</td><td>CYPA</td><td>Cyclophilin A is upregulated in small cell lung cancer and activates ERK1/2 signal.</td></tr>",
                            "<tr><td>Lung Neoplasms</td><td>Respiratory Tract Diseases</td><td>CYPA</td><td>Two differentially expressed protein peaks at m/z 12338 and 17882 in the MALDI-TOF spectra were identified in lung tumor specimens as macrophage migration inhibitory factor and cyclophilin A, respectively.</td></tr>",
                            "<tr><td>Systemic lupus erythematosus</td><td>Immune System Diseases</td><td>CYPA</td><td>Autoantibodies against cyclophilin, a cyclosporin A binding protein, were detected in sera of 29 of 46 (63%) patients with systemic lupus erythematosus and 14 of 40 (35%) Lyme disease patients.</td></tr>",
                            "<tr><td>Lymphoma</td><td>Immune System Diseases</td><td>CYPA</td><td>Loss of expression of B2M, and gain of expression of PRDX1 and PPIA was confirmed in the cell lines and primary lymphoma tissue.</td></tr>",
                            "<tr><td>Rare epithelial tumor of stomach</td><td>Digestive System Diseases</td><td>CYPA</td><td>Two-dimensional differential in-gel electrophoresis for identification of gastric cancer-specific protein markers.</td></tr>",
                            "<tr><td>Rare epithelial tumor of stomach</td><td>Digestive System Diseases</td><td>CYPA</td><td>Transient suppression of CypA reduced the proliferation of BGC-823 and SGC-7901 GC cell lines.</td></tr>",
                            "<tr><td>Ovarian Carcinoma</td><td>Neoplasms</td><td>CYPA</td><td>High expression levels of PPIA were associated with decreased overall survival in low grade glioma, acute myeloid leukemia, lung adenocarcinoma, skin cutaneous melanoma and liver hepatocellular carcinoma (LIHC).</td></tr>",
                            "<tr><td>Lip and Oral Cavity Neoplasm</td><td>Stomatognathic Diseases</td><td>CYPA</td><td>Proteomics of buccal squamous cell carcinoma: the involvement of multiple pathways in tumorigenesis.</td></tr>",
                            "<tr><td>Mycoplasma Infections</td><td>Infections</td><td>CYPA</td><td>Cyclophilin A is the potential receptor of the Mycoplasma genitalium adhesion protein.</td></tr>",
                            "<tr><td>Myocardial Infarction</td><td>Pathological Conditions, Signs and Symptoms</td><td>CYPA</td><td>We hypothesized that the genetic variation at the cyclophilin A gene (PPIA) could affect the risk for developing atherosclerosis and myocardial infarction.</td></tr>",
                            "<tr><td>Myocardial Infarction</td><td>Pathological Conditions, Signs and Symptoms</td><td>CYPA</td><td>The CyPA platelet surface expression is associated with mortality whereas CyPA PPIA rs6850 is associated with recurrent MI in patients with symptomatic CAD.</td></tr>",
                            "<tr><td>Ovarian Carcinoma</td><td>Pathological Conditions, Signs and Symptoms</td><td>CYPA</td><td>Cyclophilin A-EMMPRIN interaction induces invasion of head and neck             squamous cell carcinoma.</td></tr>",
                            "<tr><td>Ovarian Carcinoma</td><td>Pathological Conditions, Signs and Symptoms</td><td>CYPA</td><td>The suppression of CypA expression was correlated with decreased NSCLC cell tumorigenesis and metastasis.</td></tr>",
                            "<tr><td>Ovarian Carcinoma</td><td>Pathological Conditions, Signs and Symptoms</td><td>CYPA</td><td>Twenty-one genes related to metastasis were altered by CypA over-expression.</td></tr>",
                            "<tr><td>Ovarian Carcinoma</td><td>Pathological Conditions, Signs and Symptoms</td><td>CYPA</td><td>Further, CYPA was significantly associated with clinical stage and lymphnode metastasis of SOC patients.</td></tr>",
                            "<tr><td>Ovarian Carcinoma</td><td>Pathological Conditions, Signs and Symptoms</td><td>CYPA</td><td>Overexpression of CypA and metastasis were significantly associated with shorter progression free survival times in univariate analysis.</td></tr>",
                            "<tr><td>Ovarian Carcinoma</td><td>Pathological Conditions, Signs and Symptoms</td><td>CYPA</td><td>Lung metastasis mouse models were used for the first time to confirm that CypA promoted NSCLC metastasis in vivo.</td></tr>",
                            "<tr><td>Ovarian Carcinoma</td><td>Neoplasms</td><td>CYPA</td><td>A novel synergy of anti-GM3 antibody and cyclophilin A inhibitor was found to mimic the very low pHe-mediated GM3 supraclustered conformation that elevated the surface rigidity and mechano-remodeled the tumor cell into a differentiated phenotype which eventually succumbed to the anoikis type of cell death, thereby eradicating the tumorigenic niches.</td></tr>",
                            "<tr><td>Ovarian Carcinoma</td><td>Neoplasms</td><td>CYPA</td><td>Knockdown of cyclophilin A expression by RNA interference led to the significant suppression of the cell growth and the induction of apoptosis in endometrial carcinoma HEC-1-B cells in vitro (p &lt; 0.01) and the inhibition of tumor growth in vivo (p &lt; 0.01).</td></tr>",
                            "<tr><td>Ovarian Carcinoma</td><td>Neoplasms</td><td>CYPA</td><td>In this study, we investigate the functions of CypA and its mechanism of action in GICs' development.&lt;b&gt;Experimental Design:&lt;/b&gt; We analyzed differences in CypA expression between primary tumors and neurospheres from the GDS database, both before and after GIC differentiation.</td></tr>",
                            "<tr><td>Ovarian Carcinoma</td><td>Neoplasms</td><td>CYPA</td><td>Suppression of CypA expression decreases proliferation of CCA cell lines in vitro and reduces tumor growth in the nude mouse model.</td></tr>",
                            "<tr><td>Ovarian Carcinoma</td><td>Neoplasms</td><td>CYPA</td><td>As the stable expression of HPRT1 and PPIA between normal and tumor endometrial samples fulfill the basic requirement of a reference gene to be used for normalization purposes, HPRT1 expression showed significant differences between samples from low-grade and high-grade tumors.</td></tr>",
                            "<tr><td>Ovarian Carcinoma</td><td>Neoplasms</td><td>CYPA</td><td>Furthermore, a literature review shows that Heat shock protein 10 (Hsp10), single-stranded DNA-binding protein (SSBP1), and peptidyl-prolyl cis-trans isomerase A (PPIA), which were identified as being increased in the tumor samples in this study, may be closely related to protein folding and translation.</td></tr>",
                            "<tr><td>Ovarian Carcinoma</td><td>Neoplasms</td><td>CYPA</td><td>An elevated expression of CypA in GC tissues compared with normal gastric mucosa was observed, especially in TNM stage-I and intestinal type of tumor.</td></tr>",
                            "<tr><td>Ovarian Carcinoma</td><td>Neoplasms</td><td>CYPA</td><td>Surprisingly, HL001 selectively suppresses tumor growth in p53 wild-type NSCLC harboring Arg72 homozygous alleles (p53-72R) through disrupting interaction between MDM2 and p53-72R in a CypA-dependent manner.</td></tr>",
                            "<tr><td>Ovarian Carcinoma</td><td>Neoplasms</td><td>CYPA</td><td>The prognostic effect of PPIA expression in LIHC was independent of tumor grade.</td></tr>",
                            "<tr><td>Ovarian Carcinoma</td><td>Neoplasms</td><td>CYPA</td><td>Significant correlations were only found in high level of CypA and MMP9 expression with tumor differentiation and lymph node status.</td></tr>",
                            "<tr><td>Ovarian Carcinoma</td><td>Neoplasms</td><td>CYPA</td><td>In this study, we showed that both HIF-1α and CypA expression were significantly associated with lymph node metastasis and tumor stage.</td></tr>",
                            "<tr><td>Ovarian Carcinoma</td><td>Neoplasms</td><td>CYPA</td><td>Recently, correlations of CypA with tumor pathogenesis have been studied.</td></tr>",
                            "<tr><td>Ovarian Carcinoma</td><td>Neoplasms</td><td>CYPA</td><td>Moreover, PPIA expression was significantly associated with tumor size in these tissues.</td></tr>",
                            "<tr><td>Ovarian Carcinoma</td><td>Neoplasms</td><td>CYPA</td><td>The overall analysis obtained by the comprehensive ranking showed that RPS18 and PPIA are appropriate internal reference genes for tumor neovascularization studies where it is necessary to analyze both systems at the same time.</td></tr>",
                            "<tr><td>LEANNESS</td><td>Pathological Conditions, Signs and Symptoms</td><td>CYPA</td><td>The roles of PPIA in obesity were observed on a high-fat diet obesity model and a gestational diabetes obesity model.</td></tr>",
                            "<tr><td>Oral submucous fibrosis</td><td>Stomatognathic Diseases</td><td>CYPA</td><td>Proteomic identification of cyclophilin A as a potential biomarker and therapeutic target in oral submucous fibrosis.</td></tr>",
                            "<tr><td>Oral submucous fibrosis</td><td>Stomatognathic Diseases</td><td>CYPA</td><td>From the proteomic analysis, 94 of the 182 selected spots with differential expression were identified by MS analysis and Cyclophilin A (CYPA) was determined to be the OSF-associated protein candidate.</td></tr>",
                            "<tr><td>Rare parasitic disease</td><td>Infections</td><td>CYPA</td><td>PPIA can identify the patient with active recurrent OT from acute OT, other forms of uveitis and other parasitic infections.</td></tr>",
                            "<tr><td>Periodontitis</td><td>Stomatognathic Diseases</td><td>CYPA</td><td>This study is to observe the expression and distribution of CyPA and CD68&lt;sup&gt;+&lt;/sup&gt; cells in the histopathogenesis of rat ligation-induced experimental periodontitis, and assess the role of CyPA in CD68&lt;sup&gt;+&lt;/sup&gt; cell infiltration in rat experimental periodontitis.</td></tr>",
                            "<tr><td>Clear cell renal carcinoma</td><td>Female Urogenital Diseases and Pregnancy Complications</td><td>CYPA</td><td>These data suggest that CypA may serve as a novel prognostic factor for ccRCC.</td></tr>",
                            "<tr><td>Schistosomiasis</td><td>Infections</td><td>CYPA</td><td>The Schistosoma mansoni cyclophilin A epitope 107-121 induces a protective immune response against schistosomiasis.</td></tr>",
                            "<tr><td>SCHIZOPHRENIA</td><td>Mental Disorders</td><td>CYPA</td><td>The results show that people with schizophrenia had significantly less PPIA and SDHA mRNA and tended to have less GUSB and B2M mRNA, suggesting that these control genes may not be good candidates for normalization.</td></tr>",
                            "<tr><td>Ovarian Carcinoma</td><td>Pathological Conditions, Signs and Symptoms</td><td>GET2</td><td>In this study, we demonstrate that the endoplasmic reticulum (ER)-associated protein calcium-modulating cyclophilin ligand (CAML) is bound to Basigin, a widely expressed integral plasma membrane glycoprotein and extracellular matrix metalloproteinase inducer (EMMPRIN, or CD147) implicated in melanoma proliferation, invasiveness, and metastasis.</td></tr>",
                            "<tr><td>Rare malignant breast tumor</td><td>Skin and Connective Tissue Diseases</td><td>GET2</td><td>These results suggest a new role for CAML in breast cancer development.</td></tr>",
                            "<tr><td>Common variable immunodeficiency</td><td>Immune System Diseases</td><td>GET2</td><td>Transmembrane activator and calcium-modulating cyclophilin ligand interactor mutations in common variable immunodeficiency: clinical and immunologic outcomes in heterozygotes.</td></tr>",
                            "<tr><td>Pediatric Lymphoma</td><td>Immune System Diseases</td><td>GET2</td><td>A proliferation-inducing ligand (APRIL), as well as its receptors transmembrane activator and calcium-modulating cyclophilin ligand (CAML) interactor (TACI) and B-cell maturation antigen (BCMA), has been shown to be important in B-cell biology, and overexpression of APRIL in mice results in development of lymphoma.</td></tr>",
                            "<tr><td>Ovarian Carcinoma</td><td>Neoplasms</td><td>GET2</td><td>In this study, we demonstrate that the endoplasmic reticulum (ER)-associated protein calcium-modulating cyclophilin ligand (CAML) is bound to Basigin, a widely expressed integral plasma membrane glycoprotein and extracellular matrix metalloproteinase inducer (EMMPRIN, or CD147) implicated in melanoma proliferation, invasiveness, and metastasis.</td></tr>",
                            "<tr><td>Childhood Leukemia</td><td>Neoplasms</td><td>GET2</td><td>Breast cancer cell lines were found to express CAML at higher levels than cell lines originating from leukemia and other cancers.</td></tr>",
                            "<tr><td>Adult Lymphoma</td><td>Immune System Diseases</td><td>GET2</td><td>A proliferation-inducing ligand (APRIL), as well as its receptors transmembrane activator and calcium-modulating cyclophilin ligand (CAML) interactor (TACI) and B-cell maturation antigen (BCMA), has been shown to be important in B-cell biology, and overexpression of APRIL in mice results in development of lymphoma.</td></tr>",
                            "<tr><td>Common Variable Immunodeficiency</td><td>Immune System Diseases</td><td>GET2</td><td>Transmembrane activator and calcium-modulating cyclophilin ligand interactor mutations in common variable immunodeficiency: clinical and immunologic outcomes in heterozygotes.</td></tr>",
                            "<tr><td>Lymphoma</td><td>Immune System Diseases</td><td>GET2</td><td>A proliferation-inducing ligand (APRIL), as well as its receptors transmembrane activator and calcium-modulating cyclophilin ligand (CAML) interactor (TACI) and B-cell maturation antigen (BCMA), has been shown to be important in B-cell biology, and overexpression of APRIL in mice results in development of lymphoma.</td></tr>",
                            "<tr><td>Rare malignant breast tumor</td><td>Skin and Connective Tissue Diseases</td><td>GET2</td><td>These results suggest a new role for CAML in breast cancer development.</td></tr>",
                            "<tr><td>Ovarian Carcinoma</td><td>Neoplasms</td><td>GET2</td><td>Breast cancer cell lines were found to express CAML at higher levels than cell lines originating from leukemia and other cancers.</td></tr>",
                            "<tr><td>Discomfort</td><td>Pathological Conditions, Signs and Symptoms</td><td>GET2</td><td>Classical Swine Fever Virus p7 Protein Interacts with Host Protein CAMLG and Regulates Calcium Permeability at the Endoplasmic Reticulum.</td></tr>",
                            "<tr><td>Acute myeloid leukemia with recurrent genetic anomaly</td><td>Neoplasms</td><td>GET2</td><td>Overexpression of translocation-associated fusion genes of FGFRI, MYC, NPMI, and DEK, but absence of the translocations in acute myeloid leukemia. A microarray analysis.</td></tr>",
                            "<tr><td>Osteoarthritis</td><td>Musculoskeletal Diseases</td><td>PPP3RL</td><td>Moreover, we found that surgical-induced OA mice treated with a miR-146a inhibitor significantly alleviated the destruction of articular cartilage via targeting Camk2d and Ppp3r2.</td></tr>",
                            "<tr><td>Asthenozoospermia</td><td>Male Urogenital Diseases</td><td>PPP3RL</td><td>We demonstrate herein that male mice lacking Ppp3cc or Ppp3r2 genes (knockout mice) are infertile, with reduced sperm motility owing to an inflexible midpiece.</td></tr>",
                            "</table>"
                        ]
                    }
                }
            ],
            "execution_count": 12
        }
    ]
}
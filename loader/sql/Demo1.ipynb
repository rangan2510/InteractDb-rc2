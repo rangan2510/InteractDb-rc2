{
    "metadata": {
        "kernelspec": {
            "name": "SQL",
            "display_name": "SQL",
            "language": "sql"
        },
        "language_info": {
            "name": "sql",
            "version": ""
        }
    },
    "nbformat_minor": 2,
    "nbformat": 4,
    "cells": [
        {
            "cell_type": "markdown",
            "source": [
                "# Demo Notebook"
            ],
            "metadata": {
                "azdata_cell_guid": "8eb20848-179e-4933-b12d-613d5b05f4fe"
            },
            "attachments": {}
        },
        {
            "cell_type": "code",
            "source": [
                "USE InteractDb_rc2"
            ],
            "metadata": {
                "azdata_cell_guid": "e04d015f-9acf-4a0f-b4b8-ae17e1223c77",
                "language": "sql"
            },
            "outputs": [
                {
                    "output_type": "display_data",
                    "data": {
                        "text/html": "Commands completed successfully."
                    },
                    "metadata": {}
                },
                {
                    "output_type": "display_data",
                    "data": {
                        "text/html": "Total execution time: 00:00:00"
                    },
                    "metadata": {}
                }
            ],
            "execution_count": 3
        },
        {
            "cell_type": "markdown",
            "source": [
                "## 1\\. Simple drug-pair interaction checker\n",
                "\n",
                "Find all known drug interactions in literature for a given drug."
            ],
            "metadata": {
                "azdata_cell_guid": "0bd84935-547b-4227-a6a9-9fd4252863ea"
            },
            "attachments": {}
        },
        {
            "cell_type": "code",
            "source": [
                "SELECT Drug1.name AS 'Source Drug', Drug2.name AS 'Interacting Drug', [dbo].[drug_drug_edges].[desc] AS 'Effect of Interaction'\r\n",
                "FROM drug_nodes Drug1, drug_drug_edges, drug_nodes Drug2\r\n",
                "WHERE MATCH(Drug1-(drug_drug_edges)->Drug2)\r\n",
                "AND Drug1.name = 'Cetuximab'"
            ],
            "metadata": {
                "azdata_cell_guid": "5287332d-83ef-4e9a-883b-f7f11b352dfa",
                "language": "sql",
                "tags": []
            },
            "outputs": [
                {
                    "output_type": "display_data",
                    "data": {
                        "text/html": "(397 rows affected)"
                    },
                    "metadata": {}
                },
                {
                    "output_type": "display_data",
                    "data": {
                        "text/html": "Total execution time: 00:00:00.499"
                    },
                    "metadata": {}
                },
                {
                    "output_type": "execute_result",
                    "metadata": {},
                    "execution_count": 27,
                    "data": {
                        "application/vnd.dataresource+json": {
                            "schema": {
                                "fields": [
                                    {
                                        "name": "Source Drug"
                                    },
                                    {
                                        "name": "Interacting Drug"
                                    },
                                    {
                                        "name": "Effect of Interaction"
                                    }
                                ]
                            },
                            "data": [
                                {
                                    "Source Drug": "Cetuximab",
                                    "Interacting Drug": "Diethylstilbestrol",
                                    "Effect of Interaction": "Diethylstilbestrol may increase the thrombogenic activities of Cetuximab."
                                },
                                {
                                    "Source Drug": "Cetuximab",
                                    "Interacting Drug": "Chlorotrianisene",
                                    "Effect of Interaction": "Chlorotrianisene may increase the thrombogenic activities of Cetuximab."
                                },
                                {
                                    "Source Drug": "Cetuximab",
                                    "Interacting Drug": "Conjugated estrogens",
                                    "Effect of Interaction": "Conjugated estrogens may increase the thrombogenic activities of Cetuximab."
                                },
                                {
                                    "Source Drug": "Cetuximab",
                                    "Interacting Drug": "Estrone",
                                    "Effect of Interaction": "Estrone may increase the thrombogenic activities of Cetuximab."
                                },
                                {
                                    "Source Drug": "Cetuximab",
                                    "Interacting Drug": "Estradiol",
                                    "Effect of Interaction": "Estradiol may increase the thrombogenic activities of Cetuximab."
                                },
                                {
                                    "Source Drug": "Cetuximab",
                                    "Interacting Drug": "Dienestrol",
                                    "Effect of Interaction": "Dienestrol may increase the thrombogenic activities of Cetuximab."
                                },
                                {
                                    "Source Drug": "Cetuximab",
                                    "Interacting Drug": "Ethinylestradiol",
                                    "Effect of Interaction": "Ethinylestradiol may increase the thrombogenic activities of Cetuximab."
                                },
                                {
                                    "Source Drug": "Cetuximab",
                                    "Interacting Drug": "Mestranol",
                                    "Effect of Interaction": "Mestranol may increase the thrombogenic activities of Cetuximab."
                                },
                                {
                                    "Source Drug": "Cetuximab",
                                    "Interacting Drug": "Estriol",
                                    "Effect of Interaction": "Estriol may increase the thrombogenic activities of Cetuximab."
                                },
                                {
                                    "Source Drug": "Cetuximab",
                                    "Interacting Drug": "Estrone sulfate",
                                    "Effect of Interaction": "Estrone sulfate may increase the thrombogenic activities of Cetuximab."
                                },
                                {
                                    "Source Drug": "Cetuximab",
                                    "Interacting Drug": "Quinestrol",
                                    "Effect of Interaction": "Quinestrol may increase the thrombogenic activities of Cetuximab."
                                },
                                {
                                    "Source Drug": "Cetuximab",
                                    "Interacting Drug": "Hexestrol",
                                    "Effect of Interaction": "Hexestrol may increase the thrombogenic activities of Cetuximab."
                                },
                                {
                                    "Source Drug": "Cetuximab",
                                    "Interacting Drug": "Tibolone",
                                    "Effect of Interaction": "Tibolone may increase the thrombogenic activities of Cetuximab."
                                },
                                {
                                    "Source Drug": "Cetuximab",
                                    "Interacting Drug": "Synthetic Conjugated Estrogens, A",
                                    "Effect of Interaction": "Synthetic Conjugated Estrogens, A may increase the thrombogenic activities of Cetuximab."
                                },
                                {
                                    "Source Drug": "Cetuximab",
                                    "Interacting Drug": "Synthetic Conjugated Estrogens, B",
                                    "Effect of Interaction": "Synthetic Conjugated Estrogens, B may increase the thrombogenic activities of Cetuximab."
                                },
                                {
                                    "Source Drug": "Cetuximab",
                                    "Interacting Drug": "Polyestradiol phosphate",
                                    "Effect of Interaction": "Polyestradiol phosphate may increase the thrombogenic activities of Cetuximab."
                                },
                                {
                                    "Source Drug": "Cetuximab",
                                    "Interacting Drug": "Esterified estrogens",
                                    "Effect of Interaction": "Esterified estrogens may increase the thrombogenic activities of Cetuximab."
                                },
                                {
                                    "Source Drug": "Cetuximab",
                                    "Interacting Drug": "Zeranol",
                                    "Effect of Interaction": "Zeranol may increase the thrombogenic activities of Cetuximab."
                                },
                                {
                                    "Source Drug": "Cetuximab",
                                    "Interacting Drug": "Equol",
                                    "Effect of Interaction": "Equol may increase the thrombogenic activities of Cetuximab."
                                },
                                {
                                    "Source Drug": "Cetuximab",
                                    "Interacting Drug": "Promestriene",
                                    "Effect of Interaction": "Promestriene may increase the thrombogenic activities of Cetuximab."
                                },
                                {
                                    "Source Drug": "Cetuximab",
                                    "Interacting Drug": "Methallenestril",
                                    "Effect of Interaction": "Methallenestril may increase the thrombogenic activities of Cetuximab."
                                },
                                {
                                    "Source Drug": "Cetuximab",
                                    "Interacting Drug": "Epimestrol",
                                    "Effect of Interaction": "Epimestrol may increase the thrombogenic activities of Cetuximab."
                                },
                                {
                                    "Source Drug": "Cetuximab",
                                    "Interacting Drug": "Moxestrol",
                                    "Effect of Interaction": "Moxestrol may increase the thrombogenic activities of Cetuximab."
                                },
                                {
                                    "Source Drug": "Cetuximab",
                                    "Interacting Drug": "Estradiol acetate",
                                    "Effect of Interaction": "Estradiol acetate may increase the thrombogenic activities of Cetuximab."
                                },
                                {
                                    "Source Drug": "Cetuximab",
                                    "Interacting Drug": "Estradiol benzoate",
                                    "Effect of Interaction": "Estradiol benzoate may increase the thrombogenic activities of Cetuximab."
                                },
                                {
                                    "Source Drug": "Cetuximab",
                                    "Interacting Drug": "Estradiol cypionate",
                                    "Effect of Interaction": "Estradiol cypionate may increase the thrombogenic activities of Cetuximab."
                                },
                                {
                                    "Source Drug": "Cetuximab",
                                    "Interacting Drug": "Estradiol valerate",
                                    "Effect of Interaction": "Estradiol valerate may increase the thrombogenic activities of Cetuximab."
                                },
                                {
                                    "Source Drug": "Cetuximab",
                                    "Interacting Drug": "Biochanin A",
                                    "Effect of Interaction": "Biochanin A may increase the thrombogenic activities of Cetuximab."
                                },
                                {
                                    "Source Drug": "Cetuximab",
                                    "Interacting Drug": "Formononetin",
                                    "Effect of Interaction": "Formononetin may increase the thrombogenic activities of Cetuximab."
                                },
                                {
                                    "Source Drug": "Cetuximab",
                                    "Interacting Drug": "Estetrol",
                                    "Effect of Interaction": "Estetrol may increase the thrombogenic activities of Cetuximab."
                                },
                                {
                                    "Source Drug": "Cetuximab",
                                    "Interacting Drug": "Human immunoglobulin G",
                                    "Effect of Interaction": "The risk or severity of adverse effects can be increased when Cetuximab is combined with Human immunoglobulin G."
                                },
                                {
                                    "Source Drug": "Cetuximab",
                                    "Interacting Drug": "Omalizumab",
                                    "Effect of Interaction": "The risk or severity of adverse effects can be increased when Cetuximab is combined with Omalizumab."
                                },
                                {
                                    "Source Drug": "Cetuximab",
                                    "Interacting Drug": "Adalimumab",
                                    "Effect of Interaction": "The risk or severity of adverse effects can be increased when Cetuximab is combined with Adalimumab."
                                },
                                {
                                    "Source Drug": "Cetuximab",
                                    "Interacting Drug": "Abciximab",
                                    "Effect of Interaction": "The risk or severity of adverse effects can be increased when Cetuximab is combined with Abciximab."
                                },
                                {
                                    "Source Drug": "Cetuximab",
                                    "Interacting Drug": "Gemtuzumab ozogamicin",
                                    "Effect of Interaction": "The risk or severity of adverse effects can be increased when Cetuximab is combined with Gemtuzumab ozogamicin."
                                },
                                {
                                    "Source Drug": "Cetuximab",
                                    "Interacting Drug": "Indium In-111 satumomab pendetide",
                                    "Effect of Interaction": "The risk or severity of adverse effects can be increased when Cetuximab is combined with Indium In-111 satumomab pendetide."
                                },
                                {
                                    "Source Drug": "Cetuximab",
                                    "Interacting Drug": "Infliximab",
                                    "Effect of Interaction": "The risk or severity of adverse effects can be increased when Cetuximab is combined with Infliximab."
                                },
                                {
                                    "Source Drug": "Cetuximab",
                                    "Interacting Drug": "Trastuzumab",
                                    "Effect of Interaction": "The risk or severity of adverse effects can be increased when Cetuximab is combined with Trastuzumab."
                                },
                                {
                                    "Source Drug": "Cetuximab",
                                    "Interacting Drug": "Rituximab",
                                    "Effect of Interaction": "The risk or severity of adverse effects can be increased when Cetuximab is combined with Rituximab."
                                },
                                {
                                    "Source Drug": "Cetuximab",
                                    "Interacting Drug": "Basiliximab",
                                    "Effect of Interaction": "The risk or severity of adverse effects can be increased when Cetuximab is combined with Basiliximab."
                                },
                                {
                                    "Source Drug": "Cetuximab",
                                    "Interacting Drug": "Muromonab",
                                    "Effect of Interaction": "The risk or severity of adverse effects can be increased when Cetuximab is combined with Muromonab."
                                },
                                {
                                    "Source Drug": "Cetuximab",
                                    "Interacting Drug": "Digoxin Immune Fab (Ovine)",
                                    "Effect of Interaction": "The risk or severity of adverse effects can be increased when Cetuximab is combined with Digoxin Immune Fab (Ovine)."
                                },
                                {
                                    "Source Drug": "Cetuximab",
                                    "Interacting Drug": "Ibritumomab tiuxetan",
                                    "Effect of Interaction": "The risk or severity of adverse effects can be increased when Cetuximab is combined with Ibritumomab tiuxetan."
                                },
                                {
                                    "Source Drug": "Cetuximab",
                                    "Interacting Drug": "Tositumomab",
                                    "Effect of Interaction": "The risk or severity of adverse effects can be increased when Cetuximab is combined with Tositumomab."
                                },
                                {
                                    "Source Drug": "Cetuximab",
                                    "Interacting Drug": "Alemtuzumab",
                                    "Effect of Interaction": "The risk or severity of adverse effects can be increased when Cetuximab is combined with Alemtuzumab."
                                },
                                {
                                    "Source Drug": "Cetuximab",
                                    "Interacting Drug": "Capromab pendetide",
                                    "Effect of Interaction": "The risk or severity of adverse effects can be increased when Cetuximab is combined with Capromab pendetide."
                                },
                                {
                                    "Source Drug": "Cetuximab",
                                    "Interacting Drug": "Efalizumab",
                                    "Effect of Interaction": "The risk or severity of adverse effects can be increased when Cetuximab is combined with Efalizumab."
                                },
                                {
                                    "Source Drug": "Cetuximab",
                                    "Interacting Drug": "Antithymocyte immunoglobulin (rabbit)",
                                    "Effect of Interaction": "The risk or severity of adverse effects can be increased when Cetuximab is combined with Antithymocyte immunoglobulin (rabbit)."
                                },
                                {
                                    "Source Drug": "Cetuximab",
                                    "Interacting Drug": "Natalizumab",
                                    "Effect of Interaction": "The risk or severity of adverse effects can be increased when Cetuximab is combined with Natalizumab."
                                },
                                {
                                    "Source Drug": "Cetuximab",
                                    "Interacting Drug": "Palivizumab",
                                    "Effect of Interaction": "The risk or severity of adverse effects can be increased when Cetuximab is combined with Palivizumab."
                                },
                                {
                                    "Source Drug": "Cetuximab",
                                    "Interacting Drug": "Daclizumab",
                                    "Effect of Interaction": "The risk or severity of adverse effects can be increased when Cetuximab is combined with Daclizumab."
                                },
                                {
                                    "Source Drug": "Cetuximab",
                                    "Interacting Drug": "Bevacizumab",
                                    "Effect of Interaction": "The risk or severity of adverse effects can be increased when Cetuximab is combined with Bevacizumab."
                                },
                                {
                                    "Source Drug": "Cetuximab",
                                    "Interacting Drug": "Technetium Tc-99m arcitumomab",
                                    "Effect of Interaction": "The risk or severity of adverse effects can be increased when Cetuximab is combined with Technetium Tc-99m arcitumomab."
                                },
                                {
                                    "Source Drug": "Cetuximab",
                                    "Interacting Drug": "Eculizumab",
                                    "Effect of Interaction": "The risk or severity of adverse effects can be increased when Cetuximab is combined with Eculizumab."
                                },
                                {
                                    "Source Drug": "Cetuximab",
                                    "Interacting Drug": "Panitumumab",
                                    "Effect of Interaction": "The risk or severity of adverse effects can be increased when Cetuximab is combined with Panitumumab."
                                },
                                {
                                    "Source Drug": "Cetuximab",
                                    "Interacting Drug": "Ranibizumab",
                                    "Effect of Interaction": "The risk or severity of adverse effects can be increased when Cetuximab is combined with Ranibizumab."
                                },
                                {
                                    "Source Drug": "Cetuximab",
                                    "Interacting Drug": "Galiximab",
                                    "Effect of Interaction": "The risk or severity of adverse effects can be increased when Cetuximab is combined with Galiximab."
                                },
                                {
                                    "Source Drug": "Cetuximab",
                                    "Interacting Drug": "Pexelizumab",
                                    "Effect of Interaction": "The risk or severity of adverse effects can be increased when Cetuximab is combined with Pexelizumab."
                                },
                                {
                                    "Source Drug": "Cetuximab",
                                    "Interacting Drug": "Afelimomab",
                                    "Effect of Interaction": "The risk or severity of adverse effects can be increased when Cetuximab is combined with Afelimomab."
                                },
                                {
                                    "Source Drug": "Cetuximab",
                                    "Interacting Drug": "Epratuzumab",
                                    "Effect of Interaction": "The risk or severity of adverse effects can be increased when Cetuximab is combined with Epratuzumab."
                                },
                                {
                                    "Source Drug": "Cetuximab",
                                    "Interacting Drug": "Bectumomab",
                                    "Effect of Interaction": "The risk or severity of adverse effects can be increased when Cetuximab is combined with Bectumomab."
                                },
                                {
                                    "Source Drug": "Cetuximab",
                                    "Interacting Drug": "Oregovomab",
                                    "Effect of Interaction": "The risk or severity of adverse effects can be increased when Cetuximab is combined with Oregovomab."
                                },
                                {
                                    "Source Drug": "Cetuximab",
                                    "Interacting Drug": "IGN311",
                                    "Effect of Interaction": "The risk or severity of adverse effects can be increased when Cetuximab is combined with IGN311."
                                },
                                {
                                    "Source Drug": "Cetuximab",
                                    "Interacting Drug": "Adecatumumab",
                                    "Effect of Interaction": "The risk or severity of adverse effects can be increased when Cetuximab is combined with Adecatumumab."
                                },
                                {
                                    "Source Drug": "Cetuximab",
                                    "Interacting Drug": "Labetuzumab",
                                    "Effect of Interaction": "The risk or severity of adverse effects can be increased when Cetuximab is combined with Labetuzumab."
                                },
                                {
                                    "Source Drug": "Cetuximab",
                                    "Interacting Drug": "Matuzumab",
                                    "Effect of Interaction": "The risk or severity of adverse effects can be increased when Cetuximab is combined with Matuzumab."
                                },
                                {
                                    "Source Drug": "Cetuximab",
                                    "Interacting Drug": "Fontolizumab",
                                    "Effect of Interaction": "The risk or severity of adverse effects can be increased when Cetuximab is combined with Fontolizumab."
                                },
                                {
                                    "Source Drug": "Cetuximab",
                                    "Interacting Drug": "Bavituximab",
                                    "Effect of Interaction": "The risk or severity of adverse effects can be increased when Cetuximab is combined with Bavituximab."
                                },
                                {
                                    "Source Drug": "Cetuximab",
                                    "Interacting Drug": "CR002",
                                    "Effect of Interaction": "The risk or severity of adverse effects can be increased when Cetuximab is combined with CR002."
                                },
                                {
                                    "Source Drug": "Cetuximab",
                                    "Interacting Drug": "Rozrolimupab",
                                    "Effect of Interaction": "The risk or severity of adverse effects can be increased when Cetuximab is combined with Rozrolimupab."
                                },
                                {
                                    "Source Drug": "Cetuximab",
                                    "Interacting Drug": "Girentuximab",
                                    "Effect of Interaction": "The risk or severity of adverse effects can be increased when Cetuximab is combined with Girentuximab."
                                },
                                {
                                    "Source Drug": "Cetuximab",
                                    "Interacting Drug": "Obiltoxaximab",
                                    "Effect of Interaction": "The risk or severity of adverse effects can be increased when Cetuximab is combined with Obiltoxaximab."
                                },
                                {
                                    "Source Drug": "Cetuximab",
                                    "Interacting Drug": "XTL-001",
                                    "Effect of Interaction": "The risk or severity of adverse effects can be increased when Cetuximab is combined with XTL-001."
                                },
                                {
                                    "Source Drug": "Cetuximab",
                                    "Interacting Drug": "NAV 1800",
                                    "Effect of Interaction": "The risk or severity of adverse effects can be increased when Cetuximab is combined with NAV 1800."
                                },
                                {
                                    "Source Drug": "Cetuximab",
                                    "Interacting Drug": "Briakinumab",
                                    "Effect of Interaction": "The risk or severity of adverse effects can be increased when Cetuximab is combined with Briakinumab."
                                },
                                {
                                    "Source Drug": "Cetuximab",
                                    "Interacting Drug": "Otelixizumab",
                                    "Effect of Interaction": "The risk or severity of adverse effects can be increased when Cetuximab is combined with Otelixizumab."
                                },
                                {
                                    "Source Drug": "Cetuximab",
                                    "Interacting Drug": "AMG 108",
                                    "Effect of Interaction": "The risk or severity of adverse effects can be increased when Cetuximab is combined with AMG 108."
                                },
                                {
                                    "Source Drug": "Cetuximab",
                                    "Interacting Drug": "Iratumumab",
                                    "Effect of Interaction": "The risk or severity of adverse effects can be increased when Cetuximab is combined with Iratumumab."
                                },
                                {
                                    "Source Drug": "Cetuximab",
                                    "Interacting Drug": "Enokizumab",
                                    "Effect of Interaction": "The risk or severity of adverse effects can be increased when Cetuximab is combined with Enokizumab."
                                },
                                {
                                    "Source Drug": "Cetuximab",
                                    "Interacting Drug": "Ramucirumab",
                                    "Effect of Interaction": "The risk or severity of adverse effects can be increased when Cetuximab is combined with Ramucirumab."
                                },
                                {
                                    "Source Drug": "Cetuximab",
                                    "Interacting Drug": "Farletuzumab",
                                    "Effect of Interaction": "The risk or severity of adverse effects can be increased when Cetuximab is combined with Farletuzumab."
                                },
                                {
                                    "Source Drug": "Cetuximab",
                                    "Interacting Drug": "Veltuzumab",
                                    "Effect of Interaction": "The risk or severity of adverse effects can be increased when Cetuximab is combined with Veltuzumab."
                                },
                                {
                                    "Source Drug": "Cetuximab",
                                    "Interacting Drug": "Ustekinumab",
                                    "Effect of Interaction": "The risk or severity of adverse effects can be increased when Cetuximab is combined with Ustekinumab."
                                },
                                {
                                    "Source Drug": "Cetuximab",
                                    "Interacting Drug": "Trastuzumab emtansine",
                                    "Effect of Interaction": "The risk or severity of adverse effects can be increased when Cetuximab is combined with Trastuzumab emtansine."
                                },
                                {
                                    "Source Drug": "Cetuximab",
                                    "Interacting Drug": "PRO-542",
                                    "Effect of Interaction": "The risk or severity of adverse effects can be increased when Cetuximab is combined with PRO-542."
                                },
                                {
                                    "Source Drug": "Cetuximab",
                                    "Interacting Drug": "TNX-901",
                                    "Effect of Interaction": "The risk or severity of adverse effects can be increased when Cetuximab is combined with TNX-901."
                                },
                                {
                                    "Source Drug": "Cetuximab",
                                    "Interacting Drug": "Inotuzumab ozogamicin",
                                    "Effect of Interaction": "The risk or severity of adverse effects can be increased when Cetuximab is combined with Inotuzumab ozogamicin."
                                },
                                {
                                    "Source Drug": "Cetuximab",
                                    "Interacting Drug": "RI 624",
                                    "Effect of Interaction": "The risk or severity of adverse effects can be increased when Cetuximab is combined with RI 624."
                                },
                                {
                                    "Source Drug": "Cetuximab",
                                    "Interacting Drug": "Stamulumab",
                                    "Effect of Interaction": "The risk or severity of adverse effects can be increased when Cetuximab is combined with MYO-029."
                                },
                                {
                                    "Source Drug": "Cetuximab",
                                    "Interacting Drug": "CT-011",
                                    "Effect of Interaction": "The risk or severity of adverse effects can be increased when Cetuximab is combined with CT-011."
                                },
                                {
                                    "Source Drug": "Cetuximab",
                                    "Interacting Drug": "Leronlimab",
                                    "Effect of Interaction": "The risk or severity of adverse effects can be increased when Cetuximab is combined with Leronlimab."
                                },
                                {
                                    "Source Drug": "Cetuximab",
                                    "Interacting Drug": "Glembatumumab vedotin",
                                    "Effect of Interaction": "The risk or severity of adverse effects can be increased when Cetuximab is combined with Glembatumumab vedotin."
                                },
                                {
                                    "Source Drug": "Cetuximab",
                                    "Interacting Drug": "Olaratumab",
                                    "Effect of Interaction": "The risk or severity of adverse effects can be increased when Cetuximab is combined with Olaratumab."
                                },
                                {
                                    "Source Drug": "Cetuximab",
                                    "Interacting Drug": "IPH 2101",
                                    "Effect of Interaction": "The risk or severity of adverse effects can be increased when Cetuximab is combined with IPH 2101."
                                },
                                {
                                    "Source Drug": "Cetuximab",
                                    "Interacting Drug": "TB-402",
                                    "Effect of Interaction": "The risk or severity of adverse effects can be increased when Cetuximab is combined with TB-402."
                                },
                                {
                                    "Source Drug": "Cetuximab",
                                    "Interacting Drug": "Caplacizumab",
                                    "Effect of Interaction": "The risk or severity of adverse effects can be increased when Cetuximab is combined with Caplacizumab."
                                },
                                {
                                    "Source Drug": "Cetuximab",
                                    "Interacting Drug": "IMC-1C11",
                                    "Effect of Interaction": "The risk or severity of adverse effects can be increased when Cetuximab is combined with IMC-1C11."
                                },
                                {
                                    "Source Drug": "Cetuximab",
                                    "Interacting Drug": "Eldelumab",
                                    "Effect of Interaction": "The risk or severity of adverse effects can be increased when Cetuximab is combined with Eldelumab."
                                },
                                {
                                    "Source Drug": "Cetuximab",
                                    "Interacting Drug": "Lumiliximab",
                                    "Effect of Interaction": "The risk or severity of adverse effects can be increased when Cetuximab is combined with Lumiliximab."
                                },
                                {
                                    "Source Drug": "Cetuximab",
                                    "Interacting Drug": "Canakinumab",
                                    "Effect of Interaction": "The risk or severity of adverse effects can be increased when Cetuximab is combined with Canakinumab."
                                },
                                {
                                    "Source Drug": "Cetuximab",
                                    "Interacting Drug": "Ipilimumab",
                                    "Effect of Interaction": "The risk or severity of adverse effects can be increased when Cetuximab is combined with Ipilimumab."
                                },
                                {
                                    "Source Drug": "Cetuximab",
                                    "Interacting Drug": "Nimotuzumab",
                                    "Effect of Interaction": "The risk or severity of adverse effects can be increased when Cetuximab is combined with Nimotuzumab."
                                },
                                {
                                    "Source Drug": "Cetuximab",
                                    "Interacting Drug": "Clenoliximab",
                                    "Effect of Interaction": "The risk or severity of adverse effects can be increased when Cetuximab is combined with Clenoliximab."
                                },
                                {
                                    "Source Drug": "Cetuximab",
                                    "Interacting Drug": "Tocilizumab",
                                    "Effect of Interaction": "The risk or severity of adverse effects can be increased when Cetuximab is combined with Tocilizumab."
                                },
                                {
                                    "Source Drug": "Cetuximab",
                                    "Interacting Drug": "BIIB015",
                                    "Effect of Interaction": "The risk or severity of adverse effects can be increased when Cetuximab is combined with BIIB015."
                                },
                                {
                                    "Source Drug": "Cetuximab",
                                    "Interacting Drug": "Sonepcizumab",
                                    "Effect of Interaction": "The risk or severity of adverse effects can be increased when Cetuximab is combined with Sonepcizumab."
                                },
                                {
                                    "Source Drug": "Cetuximab",
                                    "Interacting Drug": "Motavizumab",
                                    "Effect of Interaction": "The risk or severity of adverse effects can be increased when Cetuximab is combined with Motavizumab."
                                },
                                {
                                    "Source Drug": "Cetuximab",
                                    "Interacting Drug": "Elotuzumab",
                                    "Effect of Interaction": "The risk or severity of adverse effects can be increased when Cetuximab is combined with Elotuzumab."
                                },
                                {
                                    "Source Drug": "Cetuximab",
                                    "Interacting Drug": "AVE9633",
                                    "Effect of Interaction": "The risk or severity of adverse effects can be increased when Cetuximab is combined with AVE9633."
                                },
                                {
                                    "Source Drug": "Cetuximab",
                                    "Interacting Drug": "Carotuximab",
                                    "Effect of Interaction": "The risk or severity of adverse effects can be increased when Cetuximab is combined with Carotuximab."
                                },
                                {
                                    "Source Drug": "Cetuximab",
                                    "Interacting Drug": "XmAb 2513",
                                    "Effect of Interaction": "The risk or severity of adverse effects can be increased when Cetuximab is combined with XmAb 2513."
                                },
                                {
                                    "Source Drug": "Cetuximab",
                                    "Interacting Drug": "Coltuximab ravtansine",
                                    "Effect of Interaction": "The risk or severity of adverse effects can be increased when Cetuximab is combined with Coltuximab ravtansine."
                                },
                                {
                                    "Source Drug": "Cetuximab",
                                    "Interacting Drug": "Lucatumumab",
                                    "Effect of Interaction": "The risk or severity of adverse effects can be increased when Cetuximab is combined with Lucatumumab."
                                },
                                {
                                    "Source Drug": "Cetuximab",
                                    "Interacting Drug": "Pertuzumab",
                                    "Effect of Interaction": "The risk or severity of adverse effects can be increased when Cetuximab is combined with Pertuzumab."
                                },
                                {
                                    "Source Drug": "Cetuximab",
                                    "Interacting Drug": "Siplizumab",
                                    "Effect of Interaction": "The risk or severity of adverse effects can be increased when Cetuximab is combined with Siplizumab."
                                },
                                {
                                    "Source Drug": "Cetuximab",
                                    "Interacting Drug": "Apolizumab",
                                    "Effect of Interaction": "The risk or severity of adverse effects can be increased when Cetuximab is combined with Apolizumab."
                                },
                                {
                                    "Source Drug": "Cetuximab",
                                    "Interacting Drug": "Sibrotuzumab",
                                    "Effect of Interaction": "The risk or severity of adverse effects can be increased when Cetuximab is combined with Sibrotuzumab."
                                },
                                {
                                    "Source Drug": "Cetuximab",
                                    "Interacting Drug": "Bivatuzumab",
                                    "Effect of Interaction": "The risk or severity of adverse effects can be increased when Cetuximab is combined with Bivatuzumab."
                                },
                                {
                                    "Source Drug": "Cetuximab",
                                    "Interacting Drug": "Lerdelimumab",
                                    "Effect of Interaction": "The risk or severity of adverse effects can be increased when Cetuximab is combined with Lerdelimumab."
                                },
                                {
                                    "Source Drug": "Cetuximab",
                                    "Interacting Drug": "Lexatumumab",
                                    "Effect of Interaction": "The risk or severity of adverse effects can be increased when Cetuximab is combined with Lexatumumab."
                                },
                                {
                                    "Source Drug": "Cetuximab",
                                    "Interacting Drug": "Reslizumab",
                                    "Effect of Interaction": "The risk or severity of adverse effects can be increased when Cetuximab is combined with Reslizumab."
                                },
                                {
                                    "Source Drug": "Cetuximab",
                                    "Interacting Drug": "Teplizumab",
                                    "Effect of Interaction": "The risk or severity of adverse effects can be increased when Cetuximab is combined with Teplizumab."
                                },
                                {
                                    "Source Drug": "Cetuximab",
                                    "Interacting Drug": "Catumaxomab",
                                    "Effect of Interaction": "The risk or severity of adverse effects can be increased when Cetuximab is combined with Catumaxomab."
                                },
                                {
                                    "Source Drug": "Cetuximab",
                                    "Interacting Drug": "Mepolizumab",
                                    "Effect of Interaction": "The risk or severity of adverse effects can be increased when Cetuximab is combined with Mepolizumab."
                                },
                                {
                                    "Source Drug": "Cetuximab",
                                    "Interacting Drug": "Denosumab",
                                    "Effect of Interaction": "The risk or severity of adverse effects can be increased when Cetuximab is combined with Denosumab."
                                },
                                {
                                    "Source Drug": "Cetuximab",
                                    "Interacting Drug": "Volociximab",
                                    "Effect of Interaction": "The risk or severity of adverse effects can be increased when Cetuximab is combined with Volociximab."
                                },
                                {
                                    "Source Drug": "Cetuximab",
                                    "Interacting Drug": "Ofatumumab",
                                    "Effect of Interaction": "The risk or severity of adverse effects can be increased when Cetuximab is combined with Ofatumumab."
                                },
                                {
                                    "Source Drug": "Cetuximab",
                                    "Interacting Drug": "Golimumab",
                                    "Effect of Interaction": "The risk or severity of adverse effects can be increased when Cetuximab is combined with Golimumab."
                                },
                                {
                                    "Source Drug": "Cetuximab",
                                    "Interacting Drug": "Brentuximab vedotin",
                                    "Effect of Interaction": "The risk or severity of adverse effects can be increased when Cetuximab is combined with Brentuximab vedotin."
                                },
                                {
                                    "Source Drug": "Cetuximab",
                                    "Interacting Drug": "Belimumab",
                                    "Effect of Interaction": "The risk or severity of adverse effects can be increased when Cetuximab is combined with Belimumab."
                                },
                                {
                                    "Source Drug": "Cetuximab",
                                    "Interacting Drug": "Raxibacumab",
                                    "Effect of Interaction": "The risk or severity of adverse effects can be increased when Cetuximab is combined with Raxibacumab."
                                },
                                {
                                    "Source Drug": "Cetuximab",
                                    "Interacting Drug": "Obinutuzumab",
                                    "Effect of Interaction": "The risk or severity of adverse effects can be increased when Cetuximab is combined with Obinutuzumab."
                                },
                                {
                                    "Source Drug": "Cetuximab",
                                    "Interacting Drug": "Secukinumab",
                                    "Effect of Interaction": "The risk or severity of adverse effects can be increased when Cetuximab is combined with Secukinumab."
                                },
                                {
                                    "Source Drug": "Cetuximab",
                                    "Interacting Drug": "Vedolizumab",
                                    "Effect of Interaction": "The risk or severity of adverse effects can be increased when Cetuximab is combined with Vedolizumab."
                                },
                                {
                                    "Source Drug": "Cetuximab",
                                    "Interacting Drug": "Nivolumab",
                                    "Effect of Interaction": "The risk or severity of adverse effects can be increased when Cetuximab is combined with Nivolumab."
                                },
                                {
                                    "Source Drug": "Cetuximab",
                                    "Interacting Drug": "Siltuximab",
                                    "Effect of Interaction": "The risk or severity of adverse effects can be increased when Cetuximab is combined with Siltuximab."
                                },
                                {
                                    "Source Drug": "Cetuximab",
                                    "Interacting Drug": "Pembrolizumab",
                                    "Effect of Interaction": "The risk or severity of adverse effects can be increased when Cetuximab is combined with Pembrolizumab."
                                },
                                {
                                    "Source Drug": "Cetuximab",
                                    "Interacting Drug": "Dulaglutide",
                                    "Effect of Interaction": "The risk or severity of adverse effects can be increased when Cetuximab is combined with Dulaglutide."
                                },
                                {
                                    "Source Drug": "Cetuximab",
                                    "Interacting Drug": "Blinatumomab",
                                    "Effect of Interaction": "The risk or severity of adverse effects can be increased when Cetuximab is combined with Blinatumomab."
                                },
                                {
                                    "Source Drug": "Cetuximab",
                                    "Interacting Drug": "Anthrax immune globulin human",
                                    "Effect of Interaction": "The risk or severity of adverse effects can be increased when Cetuximab is combined with Anthrax immune globulin human."
                                },
                                {
                                    "Source Drug": "Cetuximab",
                                    "Interacting Drug": "Dinutuximab",
                                    "Effect of Interaction": "The risk or severity of adverse effects can be increased when Cetuximab is combined with Dinutuximab."
                                },
                                {
                                    "Source Drug": "Cetuximab",
                                    "Interacting Drug": "Asfotase alfa",
                                    "Effect of Interaction": "The risk or severity of adverse effects can be increased when Cetuximab is combined with Asfotase alfa."
                                },
                                {
                                    "Source Drug": "Cetuximab",
                                    "Interacting Drug": "Idarucizumab",
                                    "Effect of Interaction": "The risk or severity of adverse effects can be increased when Cetuximab is combined with Idarucizumab."
                                },
                                {
                                    "Source Drug": "Cetuximab",
                                    "Interacting Drug": "Alirocumab",
                                    "Effect of Interaction": "The risk or severity of adverse effects can be increased when Cetuximab is combined with Alirocumab."
                                },
                                {
                                    "Source Drug": "Cetuximab",
                                    "Interacting Drug": "Evolocumab",
                                    "Effect of Interaction": "The risk or severity of adverse effects can be increased when Cetuximab is combined with Evolocumab."
                                },
                                {
                                    "Source Drug": "Cetuximab",
                                    "Interacting Drug": "Antilymphocyte immunoglobulin (horse)",
                                    "Effect of Interaction": "The risk or severity of adverse effects can be increased when Cetuximab is combined with Antilymphocyte immunoglobulin (horse)."
                                },
                                {
                                    "Source Drug": "Cetuximab",
                                    "Interacting Drug": "Daratumumab",
                                    "Effect of Interaction": "The risk or severity of adverse effects can be increased when Cetuximab is combined with Daratumumab."
                                },
                                {
                                    "Source Drug": "Cetuximab",
                                    "Interacting Drug": "Necitumumab",
                                    "Effect of Interaction": "The risk or severity of adverse effects can be increased when Cetuximab is combined with Necitumumab."
                                },
                                {
                                    "Source Drug": "Cetuximab",
                                    "Interacting Drug": "Ixekizumab",
                                    "Effect of Interaction": "The risk or severity of adverse effects can be increased when Cetuximab is combined with Ixekizumab."
                                },
                                {
                                    "Source Drug": "Cetuximab",
                                    "Interacting Drug": "Ravulizumab",
                                    "Effect of Interaction": "The risk or severity of adverse effects can be increased when Cetuximab is combined with Ravulizumab."
                                },
                                {
                                    "Source Drug": "Cetuximab",
                                    "Interacting Drug": "Atezolizumab",
                                    "Effect of Interaction": "The risk or severity of adverse effects can be increased when Cetuximab is combined with Atezolizumab."
                                },
                                {
                                    "Source Drug": "Cetuximab",
                                    "Interacting Drug": "Tetanus immune globulin, human",
                                    "Effect of Interaction": "The risk or severity of adverse effects can be increased when Cetuximab is combined with Tetanus immune globulin, human."
                                },
                                {
                                    "Source Drug": "Cetuximab",
                                    "Interacting Drug": "Eftrenonacog alfa",
                                    "Effect of Interaction": "The risk or severity of adverse effects can be increased when Cetuximab is combined with Eftrenonacog alfa."
                                },
                                {
                                    "Source Drug": "Cetuximab",
                                    "Interacting Drug": "Human varicella-zoster immune globulin",
                                    "Effect of Interaction": "The risk or severity of adverse effects can be increased when Cetuximab is combined with Human varicella-zoster immune globulin."
                                },
                                {
                                    "Source Drug": "Cetuximab",
                                    "Interacting Drug": "Conatumumab",
                                    "Effect of Interaction": "The risk or severity of adverse effects can be increased when Cetuximab is combined with Conatumumab."
                                },
                                {
                                    "Source Drug": "Cetuximab",
                                    "Interacting Drug": "Tabalumab",
                                    "Effect of Interaction": "The risk or severity of adverse effects can be increased when Cetuximab is combined with Tabalumab."
                                },
                                {
                                    "Source Drug": "Cetuximab",
                                    "Interacting Drug": "Ficlatuzumab",
                                    "Effect of Interaction": "The risk or severity of adverse effects can be increased when Cetuximab is combined with Ficlatuzumab."
                                },
                                {
                                    "Source Drug": "Cetuximab",
                                    "Interacting Drug": "Figitumumab",
                                    "Effect of Interaction": "The risk or severity of adverse effects can be increased when Cetuximab is combined with Figitumumab."
                                },
                                {
                                    "Source Drug": "Cetuximab",
                                    "Interacting Drug": "Durvalumab",
                                    "Effect of Interaction": "The risk or severity of adverse effects can be increased when Cetuximab is combined with Durvalumab."
                                },
                                {
                                    "Source Drug": "Cetuximab",
                                    "Interacting Drug": "Bapineuzumab",
                                    "Effect of Interaction": "The risk or severity of adverse effects can be increased when Cetuximab is combined with Bapineuzumab."
                                },
                                {
                                    "Source Drug": "Cetuximab",
                                    "Interacting Drug": "Depatuxizumab mafodotin",
                                    "Effect of Interaction": "The risk or severity of adverse effects can be increased when Cetuximab is combined with Depatuxizumab mafodotin."
                                },
                                {
                                    "Source Drug": "Cetuximab",
                                    "Interacting Drug": "Onartuzumab",
                                    "Effect of Interaction": "The risk or severity of adverse effects can be increased when Cetuximab is combined with Onartuzumab."
                                },
                                {
                                    "Source Drug": "Cetuximab",
                                    "Interacting Drug": "Solanezumab",
                                    "Effect of Interaction": "The risk or severity of adverse effects can be increased when Cetuximab is combined with Solanezumab."
                                },
                                {
                                    "Source Drug": "Cetuximab",
                                    "Interacting Drug": "Sarilumab",
                                    "Effect of Interaction": "The risk or severity of adverse effects can be increased when Cetuximab is combined with Sarilumab."
                                },
                                {
                                    "Source Drug": "Cetuximab",
                                    "Interacting Drug": "Tremelimumab",
                                    "Effect of Interaction": "The risk or severity of adverse effects can be increased when Cetuximab is combined with Tremelimumab."
                                },
                                {
                                    "Source Drug": "Cetuximab",
                                    "Interacting Drug": "Brodalumab",
                                    "Effect of Interaction": "The risk or severity of adverse effects can be increased when Cetuximab is combined with Brodalumab."
                                },
                                {
                                    "Source Drug": "Cetuximab",
                                    "Interacting Drug": "Sirukumab",
                                    "Effect of Interaction": "The risk or severity of adverse effects can be increased when Cetuximab is combined with Sirukumab."
                                },
                                {
                                    "Source Drug": "Cetuximab",
                                    "Interacting Drug": "Lampalizumab",
                                    "Effect of Interaction": "The risk or severity of adverse effects can be increased when Cetuximab is combined with Lampalizumab."
                                },
                                {
                                    "Source Drug": "Cetuximab",
                                    "Interacting Drug": "Guselkumab",
                                    "Effect of Interaction": "The risk or severity of adverse effects can be increased when Cetuximab is combined with Guselkumab."
                                },
                                {
                                    "Source Drug": "Cetuximab",
                                    "Interacting Drug": "Dalotuzumab",
                                    "Effect of Interaction": "The risk or severity of adverse effects can be increased when Cetuximab is combined with Dalotuzumab."
                                },
                                {
                                    "Source Drug": "Cetuximab",
                                    "Interacting Drug": "Emibetuzumab",
                                    "Effect of Interaction": "The risk or severity of adverse effects can be increased when Cetuximab is combined with Emibetuzumab."
                                },
                                {
                                    "Source Drug": "Cetuximab",
                                    "Interacting Drug": "Ublituximab",
                                    "Effect of Interaction": "The risk or severity of adverse effects can be increased when Cetuximab is combined with Ublituximab."
                                },
                                {
                                    "Source Drug": "Cetuximab",
                                    "Interacting Drug": "Ligelizumab",
                                    "Effect of Interaction": "The risk or severity of adverse effects can be increased when Cetuximab is combined with Ligelizumab."
                                },
                                {
                                    "Source Drug": "Cetuximab",
                                    "Interacting Drug": "Seribantumab",
                                    "Effect of Interaction": "The risk or severity of adverse effects can be increased when Cetuximab is combined with Seribantumab."
                                },
                                {
                                    "Source Drug": "Cetuximab",
                                    "Interacting Drug": "Landogrozumab",
                                    "Effect of Interaction": "The risk or severity of adverse effects can be increased when Cetuximab is combined with Landogrozumab."
                                },
                                {
                                    "Source Drug": "Cetuximab",
                                    "Interacting Drug": "Romosozumab",
                                    "Effect of Interaction": "The risk or severity of adverse effects can be increased when Cetuximab is combined with Romosozumab."
                                },
                                {
                                    "Source Drug": "Cetuximab",
                                    "Interacting Drug": "Vadastuximab talirine",
                                    "Effect of Interaction": "The risk or severity of adverse effects can be increased when Cetuximab is combined with Vadastuximab talirine."
                                },
                                {
                                    "Source Drug": "Cetuximab",
                                    "Interacting Drug": "Lebrikizumab",
                                    "Effect of Interaction": "The risk or severity of adverse effects can be increased when Cetuximab is combined with Lebrikizumab."
                                },
                                {
                                    "Source Drug": "Cetuximab",
                                    "Interacting Drug": "Varlilumab",
                                    "Effect of Interaction": "The risk or severity of adverse effects can be increased when Cetuximab is combined with Varlilumab."
                                },
                                {
                                    "Source Drug": "Cetuximab",
                                    "Interacting Drug": "Avelumab",
                                    "Effect of Interaction": "The risk or severity of adverse effects can be increased when Cetuximab is combined with Avelumab."
                                },
                                {
                                    "Source Drug": "Cetuximab",
                                    "Interacting Drug": "Crenezumab",
                                    "Effect of Interaction": "The risk or severity of adverse effects can be increased when Cetuximab is combined with Crenezumab."
                                },
                                {
                                    "Source Drug": "Cetuximab",
                                    "Interacting Drug": "Rilotumumab",
                                    "Effect of Interaction": "The risk or severity of adverse effects can be increased when Cetuximab is combined with Rilotumumab."
                                },
                                {
                                    "Source Drug": "Cetuximab",
                                    "Interacting Drug": "Anifrolumab",
                                    "Effect of Interaction": "The risk or severity of adverse effects can be increased when Cetuximab is combined with Anifrolumab."
                                },
                                {
                                    "Source Drug": "Cetuximab",
                                    "Interacting Drug": "Ocrelizumab",
                                    "Effect of Interaction": "The risk or severity of adverse effects can be increased when Cetuximab is combined with Ocrelizumab."
                                },
                                {
                                    "Source Drug": "Cetuximab",
                                    "Interacting Drug": "Benralizumab",
                                    "Effect of Interaction": "The risk or severity of adverse effects can be increased when Cetuximab is combined with Benralizumab."
                                },
                                {
                                    "Source Drug": "Cetuximab",
                                    "Interacting Drug": "Gantenerumab",
                                    "Effect of Interaction": "The risk or severity of adverse effects can be increased when Cetuximab is combined with Gantenerumab."
                                },
                                {
                                    "Source Drug": "Cetuximab",
                                    "Interacting Drug": "Visilizumab",
                                    "Effect of Interaction": "The risk or severity of adverse effects can be increased when Cetuximab is combined with Visilizumab."
                                },
                                {
                                    "Source Drug": "Cetuximab",
                                    "Interacting Drug": "Urelumab",
                                    "Effect of Interaction": "The risk or severity of adverse effects can be increased when Cetuximab is combined with Urelumab."
                                },
                                {
                                    "Source Drug": "Cetuximab",
                                    "Interacting Drug": "Lorvotuzumab mertansine",
                                    "Effect of Interaction": "The risk or severity of adverse effects can be increased when Cetuximab is combined with Lorvotuzumab mertansine."
                                },
                                {
                                    "Source Drug": "Cetuximab",
                                    "Interacting Drug": "Patritumab",
                                    "Effect of Interaction": "The risk or severity of adverse effects can be increased when Cetuximab is combined with Patritumab."
                                },
                                {
                                    "Source Drug": "Cetuximab",
                                    "Interacting Drug": "Fulranumab",
                                    "Effect of Interaction": "The risk or severity of adverse effects can be increased when Cetuximab is combined with Fulranumab."
                                },
                                {
                                    "Source Drug": "Cetuximab",
                                    "Interacting Drug": "Tarextumab",
                                    "Effect of Interaction": "The risk or severity of adverse effects can be increased when Cetuximab is combined with Tarextumab."
                                },
                                {
                                    "Source Drug": "Cetuximab",
                                    "Interacting Drug": "Sotatercept",
                                    "Effect of Interaction": "The risk or severity of adverse effects can be increased when Cetuximab is combined with Sotatercept."
                                },
                                {
                                    "Source Drug": "Cetuximab",
                                    "Interacting Drug": "Gevokizumab",
                                    "Effect of Interaction": "The risk or severity of adverse effects can be increased when Cetuximab is combined with Gevokizumab."
                                },
                                {
                                    "Source Drug": "Cetuximab",
                                    "Interacting Drug": "Duligotuzumab",
                                    "Effect of Interaction": "The risk or severity of adverse effects can be increased when Cetuximab is combined with Duligotuzumab."
                                },
                                {
                                    "Source Drug": "Cetuximab",
                                    "Interacting Drug": "Simtuzumab",
                                    "Effect of Interaction": "The risk or severity of adverse effects can be increased when Cetuximab is combined with Simtuzumab."
                                },
                                {
                                    "Source Drug": "Cetuximab",
                                    "Interacting Drug": "Fasinumab",
                                    "Effect of Interaction": "The risk or severity of adverse effects can be increased when Cetuximab is combined with Fasinumab."
                                },
                                {
                                    "Source Drug": "Cetuximab",
                                    "Interacting Drug": "Dupilumab",
                                    "Effect of Interaction": "The risk or severity of adverse effects can be increased when Cetuximab is combined with Dupilumab."
                                },
                                {
                                    "Source Drug": "Cetuximab",
                                    "Interacting Drug": "Tralokinumab",
                                    "Effect of Interaction": "The risk or severity of adverse effects can be increased when Cetuximab is combined with Tralokinumab."
                                },
                                {
                                    "Source Drug": "Cetuximab",
                                    "Interacting Drug": "Etrolizumab",
                                    "Effect of Interaction": "The risk or severity of adverse effects can be increased when Cetuximab is combined with Etrolizumab."
                                },
                                {
                                    "Source Drug": "Cetuximab",
                                    "Interacting Drug": "Zalutumumab",
                                    "Effect of Interaction": "The risk or severity of adverse effects can be increased when Cetuximab is combined with Zalutumumab."
                                },
                                {
                                    "Source Drug": "Cetuximab",
                                    "Interacting Drug": "Ganitumab",
                                    "Effect of Interaction": "The risk or severity of adverse effects can be increased when Cetuximab is combined with Ganitumab."
                                },
                                {
                                    "Source Drug": "Cetuximab",
                                    "Interacting Drug": "Etaracizumab",
                                    "Effect of Interaction": "The risk or severity of adverse effects can be increased when Cetuximab is combined with Etaracizumab."
                                },
                                {
                                    "Source Drug": "Cetuximab",
                                    "Interacting Drug": "Polatuzumab vedotin",
                                    "Effect of Interaction": "The risk or severity of adverse effects can be increased when Cetuximab is combined with Polatuzumab vedotin."
                                },
                                {
                                    "Source Drug": "Cetuximab",
                                    "Interacting Drug": "Inclacumab",
                                    "Effect of Interaction": "The risk or severity of adverse effects can be increased when Cetuximab is combined with Inclacumab."
                                },
                                {
                                    "Source Drug": "Cetuximab",
                                    "Interacting Drug": "Cixutumumab",
                                    "Effect of Interaction": "The risk or severity of adverse effects can be increased when Cetuximab is combined with Cixutumumab."
                                },
                                {
                                    "Source Drug": "Cetuximab",
                                    "Interacting Drug": "Ascrinvacumab",
                                    "Effect of Interaction": "The risk or severity of adverse effects can be increased when Cetuximab is combined with Ascrinvacumab."
                                },
                                {
                                    "Source Drug": "Cetuximab",
                                    "Interacting Drug": "Aducanumab",
                                    "Effect of Interaction": "The risk or severity of adverse effects can be increased when Cetuximab is combined with Aducanumab."
                                },
                                {
                                    "Source Drug": "Cetuximab",
                                    "Interacting Drug": "GS-5745",
                                    "Effect of Interaction": "The risk or severity of adverse effects can be increased when Cetuximab is combined with GS-5745."
                                },
                                {
                                    "Source Drug": "Cetuximab",
                                    "Interacting Drug": "Vanucizumab",
                                    "Effect of Interaction": "The risk or severity of adverse effects can be increased when Cetuximab is combined with Vanucizumab."
                                },
                                {
                                    "Source Drug": "Cetuximab",
                                    "Interacting Drug": "Labetuzumab govitecan",
                                    "Effect of Interaction": "The risk or severity of adverse effects can be increased when Cetuximab is combined with Labetuzumab govitecan."
                                },
                                {
                                    "Source Drug": "Cetuximab",
                                    "Interacting Drug": "Tanezumab",
                                    "Effect of Interaction": "The risk or severity of adverse effects can be increased when Cetuximab is combined with Tanezumab."
                                },
                                {
                                    "Source Drug": "Cetuximab",
                                    "Interacting Drug": "Ensituximab",
                                    "Effect of Interaction": "The risk or severity of adverse effects can be increased when Cetuximab is combined with Ensituximab."
                                },
                                {
                                    "Source Drug": "Cetuximab",
                                    "Interacting Drug": "Fezakinumab",
                                    "Effect of Interaction": "The risk or severity of adverse effects can be increased when Cetuximab is combined with Fezakinumab."
                                },
                                {
                                    "Source Drug": "Cetuximab",
                                    "Interacting Drug": "Dusigitumab",
                                    "Effect of Interaction": "The risk or severity of adverse effects can be increased when Cetuximab is combined with Dusigitumab."
                                },
                                {
                                    "Source Drug": "Cetuximab",
                                    "Interacting Drug": "Fresolimumab",
                                    "Effect of Interaction": "The risk or severity of adverse effects can be increased when Cetuximab is combined with Fresolimumab."
                                },
                                {
                                    "Source Drug": "Cetuximab",
                                    "Interacting Drug": "Indusatumab vedotin",
                                    "Effect of Interaction": "The risk or severity of adverse effects can be increased when Cetuximab is combined with Indusatumab vedotin."
                                },
                                {
                                    "Source Drug": "Cetuximab",
                                    "Interacting Drug": "Bococizumab",
                                    "Effect of Interaction": "The risk or severity of adverse effects can be increased when Cetuximab is combined with Bococizumab."
                                },
                                {
                                    "Source Drug": "Cetuximab",
                                    "Interacting Drug": "Mirvetuximab soravtansine",
                                    "Effect of Interaction": "The risk or severity of adverse effects can be increased when Cetuximab is combined with Mirvetuximab Soravtansine."
                                },
                                {
                                    "Source Drug": "Cetuximab",
                                    "Interacting Drug": "Mogamulizumab",
                                    "Effect of Interaction": "The risk or severity of adverse effects can be increased when Cetuximab is combined with Mogamulizumab."
                                },
                                {
                                    "Source Drug": "Cetuximab",
                                    "Interacting Drug": "Plozalizumab",
                                    "Effect of Interaction": "The risk or severity of adverse effects can be increased when Cetuximab is combined with Plozalizumab."
                                },
                                {
                                    "Source Drug": "Cetuximab",
                                    "Interacting Drug": "Inebilizumab",
                                    "Effect of Interaction": "The risk or severity of adverse effects can be increased when Cetuximab is combined with Inebilizumab."
                                },
                                {
                                    "Source Drug": "Cetuximab",
                                    "Interacting Drug": "Mavrilimumab",
                                    "Effect of Interaction": "The risk or severity of adverse effects can be increased when Cetuximab is combined with Mavrilimumab."
                                },
                                {
                                    "Source Drug": "Cetuximab",
                                    "Interacting Drug": "Blosozumab",
                                    "Effect of Interaction": "The risk or severity of adverse effects can be increased when Cetuximab is combined with Blosozumab."
                                },
                                {
                                    "Source Drug": "Cetuximab",
                                    "Interacting Drug": "Bimagrumab",
                                    "Effect of Interaction": "The risk or severity of adverse effects can be increased when Cetuximab is combined with Bimagrumab."
                                },
                                {
                                    "Source Drug": "Cetuximab",
                                    "Interacting Drug": "Dacetuzumab",
                                    "Effect of Interaction": "The risk or severity of adverse effects can be increased when Cetuximab is combined with Dacetuzumab."
                                },
                                {
                                    "Source Drug": "Cetuximab",
                                    "Interacting Drug": "Tovetumab",
                                    "Effect of Interaction": "The risk or severity of adverse effects can be increased when Cetuximab is combined with Tovetumab."
                                },
                                {
                                    "Source Drug": "Cetuximab",
                                    "Interacting Drug": "Lumretuzumab",
                                    "Effect of Interaction": "The risk or severity of adverse effects can be increased when Cetuximab is combined with Lumretuzumab."
                                },
                                {
                                    "Source Drug": "Cetuximab",
                                    "Interacting Drug": "Ibalizumab",
                                    "Effect of Interaction": "The risk or severity of adverse effects can be increased when Cetuximab is combined with Ibalizumab."
                                },
                                {
                                    "Source Drug": "Cetuximab",
                                    "Interacting Drug": "Intetumumab",
                                    "Effect of Interaction": "The risk or severity of adverse effects can be increased when Cetuximab is combined with Intetumumab."
                                },
                                {
                                    "Source Drug": "Cetuximab",
                                    "Interacting Drug": "Carlumab",
                                    "Effect of Interaction": "The risk or severity of adverse effects can be increased when Cetuximab is combined with Carlumab."
                                },
                                {
                                    "Source Drug": "Cetuximab",
                                    "Interacting Drug": "Demcizumab",
                                    "Effect of Interaction": "The risk or severity of adverse effects can be increased when Cetuximab is combined with Demcizumab."
                                },
                                {
                                    "Source Drug": "Cetuximab",
                                    "Interacting Drug": "Sifalimumab",
                                    "Effect of Interaction": "The risk or severity of adverse effects can be increased when Cetuximab is combined with Sifalimumab."
                                },
                                {
                                    "Source Drug": "Cetuximab",
                                    "Interacting Drug": "Abituzumab",
                                    "Effect of Interaction": "The risk or severity of adverse effects can be increased when Cetuximab is combined with Abituzumab."
                                },
                                {
                                    "Source Drug": "Cetuximab",
                                    "Interacting Drug": "Ecromeximab",
                                    "Effect of Interaction": "The risk or severity of adverse effects can be increased when Cetuximab is combined with Ecromeximab."
                                },
                                {
                                    "Source Drug": "Cetuximab",
                                    "Interacting Drug": "Naptumomab estafenatox",
                                    "Effect of Interaction": "The risk or severity of adverse effects can be increased when Cetuximab is combined with Naptumomab estafenatox."
                                },
                                {
                                    "Source Drug": "Cetuximab",
                                    "Interacting Drug": "Crotedumab",
                                    "Effect of Interaction": "The risk or severity of adverse effects can be increased when Cetuximab is combined with Crotedumab."
                                },
                                {
                                    "Source Drug": "Cetuximab",
                                    "Interacting Drug": "Concizumab",
                                    "Effect of Interaction": "The risk or severity of adverse effects can be increased when Cetuximab is combined with Concizumab."
                                },
                                {
                                    "Source Drug": "Cetuximab",
                                    "Interacting Drug": "Depatuxizumab",
                                    "Effect of Interaction": "The risk or severity of adverse effects can be increased when Cetuximab is combined with Depatuxizumab."
                                },
                                {
                                    "Source Drug": "Cetuximab",
                                    "Interacting Drug": "Rontalizumab",
                                    "Effect of Interaction": "The risk or severity of adverse effects can be increased when Cetuximab is combined with Rontalizumab."
                                },
                                {
                                    "Source Drug": "Cetuximab",
                                    "Interacting Drug": "Amatuximab",
                                    "Effect of Interaction": "The risk or severity of adverse effects can be increased when Cetuximab is combined with Amatuximab."
                                },
                                {
                                    "Source Drug": "Cetuximab",
                                    "Interacting Drug": "Clazakizumab",
                                    "Effect of Interaction": "The risk or severity of adverse effects can be increased when Cetuximab is combined with Clazakizumab."
                                },
                                {
                                    "Source Drug": "Cetuximab",
                                    "Interacting Drug": "Ozanezumab",
                                    "Effect of Interaction": "The risk or severity of adverse effects can be increased when Cetuximab is combined with Ozanezumab."
                                },
                                {
                                    "Source Drug": "Cetuximab",
                                    "Interacting Drug": "Sacituzumab govitecan",
                                    "Effect of Interaction": "The risk or severity of adverse effects can be increased when Cetuximab is combined with Sacituzumab govitecan."
                                },
                                {
                                    "Source Drug": "Cetuximab",
                                    "Interacting Drug": "Bimekizumab",
                                    "Effect of Interaction": "The risk or severity of adverse effects can be increased when Cetuximab is combined with Bimekizumab."
                                },
                                {
                                    "Source Drug": "Cetuximab",
                                    "Interacting Drug": "Milatuzumab",
                                    "Effect of Interaction": "The risk or severity of adverse effects can be increased when Cetuximab is combined with Milatuzumab."
                                },
                                {
                                    "Source Drug": "Cetuximab",
                                    "Interacting Drug": "Robatumumab",
                                    "Effect of Interaction": "The risk or severity of adverse effects can be increased when Cetuximab is combined with Robatumumab."
                                },
                                {
                                    "Source Drug": "Cetuximab",
                                    "Interacting Drug": "Rovalpituzumab tesirine",
                                    "Effect of Interaction": "The risk or severity of adverse effects can be increased when Cetuximab is combined with Rovalpituzumab tesirine."
                                },
                                {
                                    "Source Drug": "Cetuximab",
                                    "Interacting Drug": "Namilumab",
                                    "Effect of Interaction": "The risk or severity of adverse effects can be increased when Cetuximab is combined with Namilumab."
                                },
                                {
                                    "Source Drug": "Cetuximab",
                                    "Interacting Drug": "Racotumomab",
                                    "Effect of Interaction": "The risk or severity of adverse effects can be increased when Cetuximab is combined with Racotumomab."
                                },
                                {
                                    "Source Drug": "Cetuximab",
                                    "Interacting Drug": "Tregalizumab",
                                    "Effect of Interaction": "The risk or severity of adverse effects can be increased when Cetuximab is combined with Tregalizumab."
                                },
                                {
                                    "Source Drug": "Cetuximab",
                                    "Interacting Drug": "Olokizumab",
                                    "Effect of Interaction": "The risk or severity of adverse effects can be increased when Cetuximab is combined with Olokizumab."
                                },
                                {
                                    "Source Drug": "Cetuximab",
                                    "Interacting Drug": "Bezlotoxumab",
                                    "Effect of Interaction": "The risk or severity of adverse effects can be increased when Cetuximab is combined with Bezlotoxumab."
                                },
                                {
                                    "Source Drug": "Cetuximab",
                                    "Interacting Drug": "Edrecolomab",
                                    "Effect of Interaction": "The risk or severity of adverse effects can be increased when Cetuximab is combined with Edrecolomab."
                                },
                                {
                                    "Source Drug": "Cetuximab",
                                    "Interacting Drug": "Nebacumab",
                                    "Effect of Interaction": "The risk or severity of adverse effects can be increased when Cetuximab is combined with Nebacumab."
                                },
                                {
                                    "Source Drug": "Cetuximab",
                                    "Interacting Drug": "Human cytomegalovirus immune globulin",
                                    "Effect of Interaction": "The risk or severity of adverse effects can be increased when Cetuximab is combined with Human cytomegalovirus immune globulin."
                                },
                                {
                                    "Source Drug": "Cetuximab",
                                    "Interacting Drug": "Emicizumab",
                                    "Effect of Interaction": "The risk or severity of adverse effects can be increased when Cetuximab is combined with Emicizumab."
                                },
                                {
                                    "Source Drug": "Cetuximab",
                                    "Interacting Drug": "Sulesomab",
                                    "Effect of Interaction": "The risk or severity of adverse effects can be increased when Cetuximab is combined with Sulesomab."
                                },
                                {
                                    "Source Drug": "Cetuximab",
                                    "Interacting Drug": "Besilesomab",
                                    "Effect of Interaction": "The risk or severity of adverse effects can be increased when Cetuximab is combined with Besilesomab."
                                },
                                {
                                    "Source Drug": "Cetuximab",
                                    "Interacting Drug": "Tildrakizumab",
                                    "Effect of Interaction": "The risk or severity of adverse effects can be increased when Cetuximab is combined with Tildrakizumab."
                                },
                                {
                                    "Source Drug": "Cetuximab",
                                    "Interacting Drug": "Burosumab",
                                    "Effect of Interaction": "The risk or severity of adverse effects can be increased when Cetuximab is combined with Burosumab."
                                },
                                {
                                    "Source Drug": "Cetuximab",
                                    "Interacting Drug": "Erenumab",
                                    "Effect of Interaction": "The risk or severity of adverse effects can be increased when Cetuximab is combined with Erenumab."
                                },
                                {
                                    "Source Drug": "Cetuximab",
                                    "Interacting Drug": "Eptinezumab",
                                    "Effect of Interaction": "The risk or severity of adverse effects can be increased when Cetuximab is combined with Eptinezumab."
                                },
                                {
                                    "Source Drug": "Cetuximab",
                                    "Interacting Drug": "Fremanezumab",
                                    "Effect of Interaction": "The risk or severity of adverse effects can be increased when Cetuximab is combined with Fremanezumab."
                                },
                                {
                                    "Source Drug": "Cetuximab",
                                    "Interacting Drug": "Galcanezumab",
                                    "Effect of Interaction": "The risk or severity of adverse effects can be increased when Cetuximab is combined with Galcanezumab."
                                },
                                {
                                    "Source Drug": "Cetuximab",
                                    "Interacting Drug": "Fanolesomab",
                                    "Effect of Interaction": "The risk or severity of adverse effects can be increased when Cetuximab is combined with Fanolesomab."
                                },
                                {
                                    "Source Drug": "Cetuximab",
                                    "Interacting Drug": "Lecanemab",
                                    "Effect of Interaction": "The risk or severity of adverse effects can be increased when Cetuximab is combined with Lecanemab."
                                },
                                {
                                    "Source Drug": "Cetuximab",
                                    "Interacting Drug": "Lanadelumab",
                                    "Effect of Interaction": "The risk or severity of adverse effects can be increased when Cetuximab is combined with Lanadelumab."
                                },
                                {
                                    "Source Drug": "Cetuximab",
                                    "Interacting Drug": "Cemiplimab",
                                    "Effect of Interaction": "The risk or severity of adverse effects can be increased when Cetuximab is combined with Cemiplimab."
                                },
                                {
                                    "Source Drug": "Cetuximab",
                                    "Interacting Drug": "Emapalumab",
                                    "Effect of Interaction": "The risk or severity of adverse effects can be increased when Cetuximab is combined with Emapalumab."
                                },
                                {
                                    "Source Drug": "Cetuximab",
                                    "Interacting Drug": "Risankizumab",
                                    "Effect of Interaction": "The risk or severity of adverse effects can be increased when Cetuximab is combined with Risankizumab."
                                },
                                {
                                    "Source Drug": "Cetuximab",
                                    "Interacting Drug": "Camrelizumab",
                                    "Effect of Interaction": "The risk or severity of adverse effects can be increased when Cetuximab is combined with Camrelizumab."
                                },
                                {
                                    "Source Drug": "Cetuximab",
                                    "Interacting Drug": "Setrusumab",
                                    "Effect of Interaction": "The risk or severity of adverse effects can be increased when Cetuximab is combined with Setrusumab."
                                },
                                {
                                    "Source Drug": "Cetuximab",
                                    "Interacting Drug": "Gancotamab",
                                    "Effect of Interaction": "The risk or severity of adverse effects can be increased when Cetuximab is combined with Gancotamab."
                                },
                                {
                                    "Source Drug": "Cetuximab",
                                    "Interacting Drug": "Anetumab ravtansine",
                                    "Effect of Interaction": "The risk or severity of adverse effects can be increased when Cetuximab is combined with Anetumab ravtansine."
                                },
                                {
                                    "Source Drug": "Cetuximab",
                                    "Interacting Drug": "Isatuximab",
                                    "Effect of Interaction": "The risk or severity of adverse effects can be increased when Cetuximab is combined with Isatuximab."
                                },
                                {
                                    "Source Drug": "Cetuximab",
                                    "Interacting Drug": "Icrucumab",
                                    "Effect of Interaction": "The risk or severity of adverse effects can be increased when Cetuximab is combined with Icrucumab."
                                },
                                {
                                    "Source Drug": "Cetuximab",
                                    "Interacting Drug": "Codrituzumab",
                                    "Effect of Interaction": "The risk or severity of adverse effects can be increased when Cetuximab is combined with Codrituzumab."
                                },
                                {
                                    "Source Drug": "Cetuximab",
                                    "Interacting Drug": "Brolucizumab",
                                    "Effect of Interaction": "The risk or severity of adverse effects can be increased when Cetuximab is combined with Brolucizumab."
                                },
                                {
                                    "Source Drug": "Cetuximab",
                                    "Interacting Drug": "Xentuzumab",
                                    "Effect of Interaction": "The risk or severity of adverse effects can be increased when Cetuximab is combined with Xentuzumab."
                                },
                                {
                                    "Source Drug": "Cetuximab",
                                    "Interacting Drug": "Lintuzumab",
                                    "Effect of Interaction": "The risk or severity of adverse effects can be increased when Cetuximab is combined with Lintuzumab."
                                },
                                {
                                    "Source Drug": "Cetuximab",
                                    "Interacting Drug": "Vobarilizumab",
                                    "Effect of Interaction": "The risk or severity of adverse effects can be increased when Cetuximab is combined with Vobarilizumab."
                                },
                                {
                                    "Source Drug": "Cetuximab",
                                    "Interacting Drug": "Parsatuzumab",
                                    "Effect of Interaction": "The risk or severity of adverse effects can be increased when Cetuximab is combined with Parsatuzumab."
                                },
                                {
                                    "Source Drug": "Cetuximab",
                                    "Interacting Drug": "Emactuzumab",
                                    "Effect of Interaction": "The risk or severity of adverse effects can be increased when Cetuximab is combined with Emactuzumab."
                                },
                                {
                                    "Source Drug": "Cetuximab",
                                    "Interacting Drug": "Bevacizumab zirconium Zr-89",
                                    "Effect of Interaction": "The risk or severity of adverse effects can be increased when Cetuximab is combined with Bevacizumab zirconium Zr-89."
                                },
                                {
                                    "Source Drug": "Cetuximab",
                                    "Interacting Drug": "Refanezumab",
                                    "Effect of Interaction": "The risk or severity of adverse effects can be increased when Cetuximab is combined with Refanezumab."
                                },
                                {
                                    "Source Drug": "Cetuximab",
                                    "Interacting Drug": "Rozanolixizumab",
                                    "Effect of Interaction": "The risk or severity of adverse effects can be increased when Cetuximab is combined with Rozanolixizumab."
                                },
                                {
                                    "Source Drug": "Cetuximab",
                                    "Interacting Drug": "Bermekimab",
                                    "Effect of Interaction": "The risk or severity of adverse effects can be increased when Cetuximab is combined with Bermekimab."
                                },
                                {
                                    "Source Drug": "Cetuximab",
                                    "Interacting Drug": "Pamrevlumab",
                                    "Effect of Interaction": "The risk or severity of adverse effects can be increased when Cetuximab is combined with Pamrevlumab."
                                },
                                {
                                    "Source Drug": "Cetuximab",
                                    "Interacting Drug": "Opicinumab",
                                    "Effect of Interaction": "The risk or severity of adverse effects can be increased when Cetuximab is combined with Opicinumab."
                                },
                                {
                                    "Source Drug": "Cetuximab",
                                    "Interacting Drug": "Trastuzumab deruxtecan",
                                    "Effect of Interaction": "The risk or severity of adverse effects can be increased when Cetuximab is combined with Trastuzumab deruxtecan."
                                },
                                {
                                    "Source Drug": "Cetuximab",
                                    "Interacting Drug": "Margetuximab",
                                    "Effect of Interaction": "The risk or severity of adverse effects can be increased when Cetuximab is combined with Margetuximab."
                                },
                                {
                                    "Source Drug": "Cetuximab",
                                    "Interacting Drug": "Dalantercept",
                                    "Effect of Interaction": "The risk or severity of adverse effects can be increased when Cetuximab is combined with Dalantercept."
                                },
                                {
                                    "Source Drug": "Cetuximab",
                                    "Interacting Drug": "Pateclizumab",
                                    "Effect of Interaction": "The risk or severity of adverse effects can be increased when Cetuximab is combined with Pateclizumab."
                                },
                                {
                                    "Source Drug": "Cetuximab",
                                    "Interacting Drug": "Gremubamab",
                                    "Effect of Interaction": "The risk or severity of adverse effects can be increased when Cetuximab is combined with Gremubamab."
                                },
                                {
                                    "Source Drug": "Cetuximab",
                                    "Interacting Drug": "Apomab",
                                    "Effect of Interaction": "The risk or severity of adverse effects can be increased when Cetuximab is combined with Apomab."
                                },
                                {
                                    "Source Drug": "Cetuximab",
                                    "Interacting Drug": "Tafasitamab",
                                    "Effect of Interaction": "The risk or severity of adverse effects can be increased when Cetuximab is combined with Tafasitamab."
                                },
                                {
                                    "Source Drug": "Cetuximab",
                                    "Interacting Drug": "Ipafricept",
                                    "Effect of Interaction": "The risk or severity of adverse effects can be increased when Cetuximab is combined with Ipafricept."
                                },
                                {
                                    "Source Drug": "Cetuximab",
                                    "Interacting Drug": "Abrilumab",
                                    "Effect of Interaction": "The risk or severity of adverse effects can be increased when Cetuximab is combined with Abrilumab."
                                },
                                {
                                    "Source Drug": "Cetuximab",
                                    "Interacting Drug": "Frovocimab",
                                    "Effect of Interaction": "The risk or severity of adverse effects can be increased when Cetuximab is combined with Frovocimab."
                                },
                                {
                                    "Source Drug": "Cetuximab",
                                    "Interacting Drug": "Tezepelumab",
                                    "Effect of Interaction": "The risk or severity of adverse effects can be increased when Cetuximab is combined with Tezepelumab."
                                },
                                {
                                    "Source Drug": "Cetuximab",
                                    "Interacting Drug": "Tigatuzumab",
                                    "Effect of Interaction": "The risk or severity of adverse effects can be increased when Cetuximab is combined with Tigatuzumab."
                                },
                                {
                                    "Source Drug": "Cetuximab",
                                    "Interacting Drug": "Telisotuzumab vedotin",
                                    "Effect of Interaction": "The risk or severity of adverse effects can be increased when Cetuximab is combined with Telisotuzumab vedotin."
                                },
                                {
                                    "Source Drug": "Cetuximab",
                                    "Interacting Drug": "Utomilumab",
                                    "Effect of Interaction": "The risk or severity of adverse effects can be increased when Cetuximab is combined with Utomilumab."
                                },
                                {
                                    "Source Drug": "Cetuximab",
                                    "Interacting Drug": "Zolbetuximab",
                                    "Effect of Interaction": "The risk or severity of adverse effects can be increased when Cetuximab is combined with Zolbetuximab."
                                },
                                {
                                    "Source Drug": "Cetuximab",
                                    "Interacting Drug": "Ponezumab",
                                    "Effect of Interaction": "The risk or severity of adverse effects can be increased when Cetuximab is combined with Ponezumab."
                                },
                                {
                                    "Source Drug": "Cetuximab",
                                    "Interacting Drug": "Asunercept",
                                    "Effect of Interaction": "The risk or severity of adverse effects can be increased when Cetuximab is combined with Asunercept."
                                },
                                {
                                    "Source Drug": "Cetuximab",
                                    "Interacting Drug": "Suvratoxumab",
                                    "Effect of Interaction": "The risk or severity of adverse effects can be increased when Cetuximab is combined with Suvratoxumab."
                                },
                                {
                                    "Source Drug": "Cetuximab",
                                    "Interacting Drug": "Mitazalimab",
                                    "Effect of Interaction": "The risk or severity of adverse effects can be increased when Cetuximab is combined with Mitazalimab."
                                },
                                {
                                    "Source Drug": "Cetuximab",
                                    "Interacting Drug": "Nemolizumab",
                                    "Effect of Interaction": "The risk or severity of adverse effects can be increased when Cetuximab is combined with Nemolizumab."
                                },
                                {
                                    "Source Drug": "Cetuximab",
                                    "Interacting Drug": "Bleselumab",
                                    "Effect of Interaction": "The risk or severity of adverse effects can be increased when Cetuximab is combined with Bleselumab."
                                },
                                {
                                    "Source Drug": "Cetuximab",
                                    "Interacting Drug": "Gedivumab",
                                    "Effect of Interaction": "The risk or severity of adverse effects can be increased when Cetuximab is combined with Gedivumab."
                                },
                                {
                                    "Source Drug": "Cetuximab",
                                    "Interacting Drug": "Valanafusp alfa",
                                    "Effect of Interaction": "The risk or severity of adverse effects can be increased when Cetuximab is combined with Valanafusp alfa."
                                },
                                {
                                    "Source Drug": "Cetuximab",
                                    "Interacting Drug": "Sofituzumab vedotin",
                                    "Effect of Interaction": "The risk or severity of adverse effects can be increased when Cetuximab is combined with Sofituzumab vedotin."
                                },
                                {
                                    "Source Drug": "Cetuximab",
                                    "Interacting Drug": "Istiratumab",
                                    "Effect of Interaction": "The risk or severity of adverse effects can be increased when Cetuximab is combined with Istiratumab."
                                },
                                {
                                    "Source Drug": "Cetuximab",
                                    "Interacting Drug": "Pidilizumab",
                                    "Effect of Interaction": "The risk or severity of adverse effects can be increased when Cetuximab is combined with Pidilizumab."
                                },
                                {
                                    "Source Drug": "Cetuximab",
                                    "Interacting Drug": "GMA-161",
                                    "Effect of Interaction": "The risk or severity of adverse effects can be increased when Cetuximab is combined with GMA-161."
                                },
                                {
                                    "Source Drug": "Cetuximab",
                                    "Interacting Drug": "Ladiratuzumab vedotin",
                                    "Effect of Interaction": "The risk or severity of adverse effects can be increased when Cetuximab is combined with Ladiratuzumab vedotin."
                                },
                                {
                                    "Source Drug": "Cetuximab",
                                    "Interacting Drug": "Tomaralimab",
                                    "Effect of Interaction": "The risk or severity of adverse effects can be increased when Cetuximab is combined with Tomaralimab."
                                },
                                {
                                    "Source Drug": "Cetuximab",
                                    "Interacting Drug": "Vesencumab",
                                    "Effect of Interaction": "The risk or severity of adverse effects can be increased when Cetuximab is combined with Vesencumab."
                                },
                                {
                                    "Source Drug": "Cetuximab",
                                    "Interacting Drug": "Pinatuzumab vedotin",
                                    "Effect of Interaction": "The risk or severity of adverse effects can be increased when Cetuximab is combined with Pinatuzumab vedotin."
                                },
                                {
                                    "Source Drug": "Cetuximab",
                                    "Interacting Drug": "Lulizumab pegol",
                                    "Effect of Interaction": "The risk or severity of adverse effects can be increased when Cetuximab is combined with Lulizumab pegol."
                                },
                                {
                                    "Source Drug": "Cetuximab",
                                    "Interacting Drug": "Lorukafusp alfa",
                                    "Effect of Interaction": "The risk or severity of adverse effects can be increased when Cetuximab is combined with Lorukafusp alfa."
                                },
                                {
                                    "Source Drug": "Cetuximab",
                                    "Interacting Drug": "Naratuximab emtansine",
                                    "Effect of Interaction": "The risk or severity of adverse effects can be increased when Cetuximab is combined with Naratuximab emtansine."
                                },
                                {
                                    "Source Drug": "Cetuximab",
                                    "Interacting Drug": "Zenocutuzumab",
                                    "Effect of Interaction": "The risk or severity of adverse effects can be increased when Cetuximab is combined with Zenocutuzumab."
                                },
                                {
                                    "Source Drug": "Cetuximab",
                                    "Interacting Drug": "Atoltivimab",
                                    "Effect of Interaction": "The risk or severity of adverse effects can be increased when Cetuximab is combined with Atoltivimab."
                                },
                                {
                                    "Source Drug": "Cetuximab",
                                    "Interacting Drug": "Maftivimab",
                                    "Effect of Interaction": "The risk or severity of adverse effects can be increased when Cetuximab is combined with Maftivimab."
                                },
                                {
                                    "Source Drug": "Cetuximab",
                                    "Interacting Drug": "Odesivimab",
                                    "Effect of Interaction": "The risk or severity of adverse effects can be increased when Cetuximab is combined with Odesivimab."
                                },
                                {
                                    "Source Drug": "Cetuximab",
                                    "Interacting Drug": "Belantamab mafodotin",
                                    "Effect of Interaction": "The risk or severity of adverse effects can be increased when Cetuximab is combined with Belantamab mafodotin."
                                },
                                {
                                    "Source Drug": "Cetuximab",
                                    "Interacting Drug": "Ansuvimab",
                                    "Effect of Interaction": "The risk or severity of adverse effects can be increased when Cetuximab is combined with Ansuvimab."
                                },
                                {
                                    "Source Drug": "Cetuximab",
                                    "Interacting Drug": "Bamlanivimab",
                                    "Effect of Interaction": "The risk or severity of adverse effects can be increased when Cetuximab is combined with Bamlanivimab."
                                },
                                {
                                    "Source Drug": "Cetuximab",
                                    "Interacting Drug": "Hepatitis B immune globulin",
                                    "Effect of Interaction": "The risk or severity of adverse effects can be increased when Cetuximab is combined with Hepatitis B immune globulin."
                                },
                                {
                                    "Source Drug": "Cetuximab",
                                    "Interacting Drug": "Human Rho(D) immune globulin",
                                    "Effect of Interaction": "The risk or severity of adverse effects can be increased when Cetuximab is combined with Human Rho(D) immune globulin."
                                },
                                {
                                    "Source Drug": "Cetuximab",
                                    "Interacting Drug": "Dostarlimab",
                                    "Effect of Interaction": "The risk or severity of adverse effects can be increased when Cetuximab is combined with Dostarlimab."
                                },
                                {
                                    "Source Drug": "Cetuximab",
                                    "Interacting Drug": "Certolizumab pegol",
                                    "Effect of Interaction": "The risk or severity of adverse effects can be increased when Cetuximab is combined with Certolizumab pegol."
                                },
                                {
                                    "Source Drug": "Cetuximab",
                                    "Interacting Drug": "Inolimomab",
                                    "Effect of Interaction": "The risk or severity of adverse effects can be increased when Cetuximab is combined with Inolimomab."
                                },
                                {
                                    "Source Drug": "Cetuximab",
                                    "Interacting Drug": "Pentaglobin",
                                    "Effect of Interaction": "The risk or severity of adverse effects can be increased when Cetuximab is combined with Pentaglobin."
                                },
                                {
                                    "Source Drug": "Cetuximab",
                                    "Interacting Drug": "Abagovomab",
                                    "Effect of Interaction": "The risk or severity of adverse effects can be increased when Cetuximab is combined with Abagovomab."
                                },
                                {
                                    "Source Drug": "Cetuximab",
                                    "Interacting Drug": "Efungumab",
                                    "Effect of Interaction": "The risk or severity of adverse effects can be increased when Cetuximab is combined with Efungumab."
                                },
                                {
                                    "Source Drug": "Cetuximab",
                                    "Interacting Drug": "Foralumab",
                                    "Effect of Interaction": "The risk or severity of adverse effects can be increased when Cetuximab is combined with Foralumab."
                                },
                                {
                                    "Source Drug": "Cetuximab",
                                    "Interacting Drug": "Indatuximab ravtansine",
                                    "Effect of Interaction": "The risk or severity of adverse effects can be increased when Cetuximab is combined with Indatuximab ravtansine."
                                },
                                {
                                    "Source Drug": "Cetuximab",
                                    "Interacting Drug": "Magrolimab",
                                    "Effect of Interaction": "The risk or severity of adverse effects can be increased when Cetuximab is combined with Magrolimab."
                                },
                                {
                                    "Source Drug": "Cetuximab",
                                    "Interacting Drug": "Olinvacimab",
                                    "Effect of Interaction": "The risk or severity of adverse effects can be increased when Cetuximab is combined with Olinvacimab."
                                },
                                {
                                    "Source Drug": "Cetuximab",
                                    "Interacting Drug": "Actoxumab",
                                    "Effect of Interaction": "The risk or severity of adverse effects can be increased when Cetuximab is combined with Actoxumab."
                                },
                                {
                                    "Source Drug": "Cetuximab",
                                    "Interacting Drug": "Volagidemab",
                                    "Effect of Interaction": "The risk or severity of adverse effects can be increased when Cetuximab is combined with Volagidemab."
                                },
                                {
                                    "Source Drug": "Cetuximab",
                                    "Interacting Drug": "Bentracimab",
                                    "Effect of Interaction": "The risk or severity of adverse effects can be increased when Cetuximab is combined with Bentracimab."
                                },
                                {
                                    "Source Drug": "Cetuximab",
                                    "Interacting Drug": "Amivantamab",
                                    "Effect of Interaction": "The risk or severity of adverse effects can be increased when Cetuximab is combined with Amivantamab."
                                },
                                {
                                    "Source Drug": "Cetuximab",
                                    "Interacting Drug": "Ebola Zaire vaccine (live, attenuated)",
                                    "Effect of Interaction": "The therapeutic efficacy of Ebola Zaire vaccine (live, attenuated) can be decreased when used in combination with Cetuximab."
                                },
                                {
                                    "Source Drug": "Cetuximab",
                                    "Interacting Drug": "Imlifidase",
                                    "Effect of Interaction": "The therapeutic efficacy of Cetuximab can be decreased when used in combination with Imlifidase."
                                },
                                {
                                    "Source Drug": "Cetuximab",
                                    "Interacting Drug": "Darbepoetin alfa",
                                    "Effect of Interaction": "The risk or severity of Thrombosis can be increased when Darbepoetin alfa is combined with Cetuximab."
                                },
                                {
                                    "Source Drug": "Cetuximab",
                                    "Interacting Drug": "Erythropoietin",
                                    "Effect of Interaction": "The risk or severity of Thrombosis can be increased when Erythropoietin is combined with Cetuximab."
                                },
                                {
                                    "Source Drug": "Cetuximab",
                                    "Interacting Drug": "Peginesatide",
                                    "Effect of Interaction": "The risk or severity of Thrombosis can be increased when Peginesatide is combined with Cetuximab."
                                },
                                {
                                    "Source Drug": "Cetuximab",
                                    "Interacting Drug": "Methoxy polyethylene glycol-epoetin beta",
                                    "Effect of Interaction": "The risk or severity of Thrombosis can be increased when Methoxy polyethylene glycol-epoetin beta is combined with Cetuximab."
                                },
                                {
                                    "Source Drug": "Cetuximab",
                                    "Interacting Drug": "Imdevimab",
                                    "Effect of Interaction": "The risk or severity of adverse effects can be increased when Cetuximab is combined with Imdevimab."
                                },
                                {
                                    "Source Drug": "Cetuximab",
                                    "Interacting Drug": "Casirivimab",
                                    "Effect of Interaction": "The risk or severity of adverse effects can be increased when Cetuximab is combined with Casirivimab."
                                },
                                {
                                    "Source Drug": "Cetuximab",
                                    "Interacting Drug": "Cilgavimab",
                                    "Effect of Interaction": "The risk or severity of adverse effects can be increased when Cetuximab is combined with Cilgavimab."
                                },
                                {
                                    "Source Drug": "Cetuximab",
                                    "Interacting Drug": "Tixagevimab",
                                    "Effect of Interaction": "The risk or severity of adverse effects can be increased when Cetuximab is combined with Tixagevimab."
                                },
                                {
                                    "Source Drug": "Cetuximab",
                                    "Interacting Drug": "Sotrovimab",
                                    "Effect of Interaction": "The risk or severity of adverse effects can be increased when Cetuximab is combined with Sotrovimab."
                                },
                                {
                                    "Source Drug": "Cetuximab",
                                    "Interacting Drug": "Loncastuximab tesirine",
                                    "Effect of Interaction": "The risk or severity of adverse effects can be increased when Cetuximab is combined with Loncastuximab tesirine."
                                },
                                {
                                    "Source Drug": "Cetuximab",
                                    "Interacting Drug": "Tisotumab vedotin",
                                    "Effect of Interaction": "The risk or severity of adverse effects can be increased when Cetuximab is combined with Tisotumab vedotin."
                                },
                                {
                                    "Source Drug": "Cetuximab",
                                    "Interacting Drug": "Sutimlimab",
                                    "Effect of Interaction": "The risk or severity of adverse effects can be increased when Cetuximab is combined with Sutimlimab."
                                },
                                {
                                    "Source Drug": "Cetuximab",
                                    "Interacting Drug": "Bebtelovimab",
                                    "Effect of Interaction": "The risk or severity of adverse effects can be increased when Cetuximab is combined with Bebtelovimab."
                                },
                                {
                                    "Source Drug": "Cetuximab",
                                    "Interacting Drug": "Mosunetuzumab",
                                    "Effect of Interaction": "The risk or severity of adverse effects can be increased when Cetuximab is combined with Mosunetuzumab."
                                },
                                {
                                    "Source Drug": "Cetuximab",
                                    "Interacting Drug": "Spesolimab",
                                    "Effect of Interaction": "The risk or severity of adverse effects can be increased when Cetuximab is combined with Spesolimab."
                                },
                                {
                                    "Source Drug": "Cetuximab",
                                    "Interacting Drug": "Eflapegrastim",
                                    "Effect of Interaction": "The risk or severity of adverse effects can be increased when Cetuximab is combined with Eflapegrastim."
                                },
                                {
                                    "Source Drug": "Cetuximab",
                                    "Interacting Drug": "Lidocaine",
                                    "Effect of Interaction": "The risk or severity of methemoglobinemia can be increased when Cetuximab is combined with Lidocaine."
                                },
                                {
                                    "Source Drug": "Cetuximab",
                                    "Interacting Drug": "Ropivacaine",
                                    "Effect of Interaction": "The risk or severity of methemoglobinemia can be increased when Cetuximab is combined with Ropivacaine."
                                },
                                {
                                    "Source Drug": "Cetuximab",
                                    "Interacting Drug": "Bupivacaine",
                                    "Effect of Interaction": "The risk or severity of methemoglobinemia can be increased when Cetuximab is combined with Bupivacaine."
                                },
                                {
                                    "Source Drug": "Cetuximab",
                                    "Interacting Drug": "Cinchocaine",
                                    "Effect of Interaction": "The risk or severity of methemoglobinemia can be increased when Cetuximab is combined with Cinchocaine."
                                },
                                {
                                    "Source Drug": "Cetuximab",
                                    "Interacting Drug": "Dyclonine",
                                    "Effect of Interaction": "The risk or severity of methemoglobinemia can be increased when Cetuximab is combined with Dyclonine."
                                },
                                {
                                    "Source Drug": "Cetuximab",
                                    "Interacting Drug": "Procaine",
                                    "Effect of Interaction": "The risk or severity of methemoglobinemia can be increased when Cetuximab is combined with Procaine."
                                },
                                {
                                    "Source Drug": "Cetuximab",
                                    "Interacting Drug": "Prilocaine",
                                    "Effect of Interaction": "The risk or severity of methemoglobinemia can be increased when Cetuximab is combined with Prilocaine."
                                },
                                {
                                    "Source Drug": "Cetuximab",
                                    "Interacting Drug": "Proparacaine",
                                    "Effect of Interaction": "The risk or severity of methemoglobinemia can be increased when Cetuximab is combined with Proparacaine."
                                },
                                {
                                    "Source Drug": "Cetuximab",
                                    "Interacting Drug": "Meloxicam",
                                    "Effect of Interaction": "The risk or severity of methemoglobinemia can be increased when Cetuximab is combined with Meloxicam."
                                },
                                {
                                    "Source Drug": "Cetuximab",
                                    "Interacting Drug": "Oxybuprocaine",
                                    "Effect of Interaction": "The risk or severity of methemoglobinemia can be increased when Cetuximab is combined with Oxybuprocaine."
                                },
                                {
                                    "Source Drug": "Cetuximab",
                                    "Interacting Drug": "Cocaine",
                                    "Effect of Interaction": "The risk or severity of methemoglobinemia can be increased when Cetuximab is combined with Cocaine."
                                },
                                {
                                    "Source Drug": "Cetuximab",
                                    "Interacting Drug": "Mepivacaine",
                                    "Effect of Interaction": "The risk or severity of methemoglobinemia can be increased when Cetuximab is combined with Mepivacaine."
                                },
                                {
                                    "Source Drug": "Cetuximab",
                                    "Interacting Drug": "Levobupivacaine",
                                    "Effect of Interaction": "The risk or severity of methemoglobinemia can be increased when Cetuximab is combined with Levobupivacaine."
                                },
                                {
                                    "Source Drug": "Cetuximab",
                                    "Interacting Drug": "Diphenhydramine",
                                    "Effect of Interaction": "The risk or severity of methemoglobinemia can be increased when Cetuximab is combined with Diphenhydramine."
                                },
                                {
                                    "Source Drug": "Cetuximab",
                                    "Interacting Drug": "Benzocaine",
                                    "Effect of Interaction": "The risk or severity of methemoglobinemia can be increased when Cetuximab is combined with Benzocaine."
                                },
                                {
                                    "Source Drug": "Cetuximab",
                                    "Interacting Drug": "Chloroprocaine",
                                    "Effect of Interaction": "The risk or severity of methemoglobinemia can be increased when Cetuximab is combined with Chloroprocaine."
                                },
                                {
                                    "Source Drug": "Cetuximab",
                                    "Interacting Drug": "Phenol",
                                    "Effect of Interaction": "The risk or severity of methemoglobinemia can be increased when Cetuximab is combined with Phenol."
                                },
                                {
                                    "Source Drug": "Cetuximab",
                                    "Interacting Drug": "Tetrodotoxin",
                                    "Effect of Interaction": "The risk or severity of methemoglobinemia can be increased when Cetuximab is combined with Tetrodotoxin."
                                },
                                {
                                    "Source Drug": "Cetuximab",
                                    "Interacting Drug": "Benzyl alcohol",
                                    "Effect of Interaction": "The risk or severity of methemoglobinemia can be increased when Cetuximab is combined with Benzyl alcohol."
                                },
                                {
                                    "Source Drug": "Cetuximab",
                                    "Interacting Drug": "Capsaicin",
                                    "Effect of Interaction": "The risk or severity of methemoglobinemia can be increased when Cetuximab is combined with Capsaicin."
                                },
                                {
                                    "Source Drug": "Cetuximab",
                                    "Interacting Drug": "Etidocaine",
                                    "Effect of Interaction": "The risk or severity of methemoglobinemia can be increased when Cetuximab is combined with Etidocaine."
                                },
                                {
                                    "Source Drug": "Cetuximab",
                                    "Interacting Drug": "Articaine",
                                    "Effect of Interaction": "The risk or severity of methemoglobinemia can be increased when Cetuximab is combined with Articaine."
                                },
                                {
                                    "Source Drug": "Cetuximab",
                                    "Interacting Drug": "Tetracaine",
                                    "Effect of Interaction": "The risk or severity of methemoglobinemia can be increased when Cetuximab is combined with Tetracaine."
                                },
                                {
                                    "Source Drug": "Cetuximab",
                                    "Interacting Drug": "Propoxycaine",
                                    "Effect of Interaction": "The risk or severity of methemoglobinemia can be increased when Cetuximab is combined with Propoxycaine."
                                },
                                {
                                    "Source Drug": "Cetuximab",
                                    "Interacting Drug": "Pramocaine",
                                    "Effect of Interaction": "The risk or severity of methemoglobinemia can be increased when Cetuximab is combined with Pramocaine."
                                },
                                {
                                    "Source Drug": "Cetuximab",
                                    "Interacting Drug": "Butamben",
                                    "Effect of Interaction": "The risk or severity of methemoglobinemia can be increased when Cetuximab is combined with Butamben."
                                },
                                {
                                    "Source Drug": "Cetuximab",
                                    "Interacting Drug": "Butacaine",
                                    "Effect of Interaction": "The risk or severity of methemoglobinemia can be increased when Cetuximab is combined with Butacaine."
                                },
                                {
                                    "Source Drug": "Cetuximab",
                                    "Interacting Drug": "Oxetacaine",
                                    "Effect of Interaction": "The risk or severity of methemoglobinemia can be increased when Cetuximab is combined with Oxetacaine."
                                },
                                {
                                    "Source Drug": "Cetuximab",
                                    "Interacting Drug": "Ethyl chloride",
                                    "Effect of Interaction": "The risk or severity of methemoglobinemia can be increased when Cetuximab is combined with Ethyl chloride."
                                },
                                {
                                    "Source Drug": "Cetuximab",
                                    "Interacting Drug": "Butanilicaine",
                                    "Effect of Interaction": "The risk or severity of methemoglobinemia can be increased when Cetuximab is combined with Butanilicaine."
                                },
                                {
                                    "Source Drug": "Cetuximab",
                                    "Interacting Drug": "Metabutethamine",
                                    "Effect of Interaction": "The risk or severity of methemoglobinemia can be increased when Cetuximab is combined with Metabutethamine."
                                },
                                {
                                    "Source Drug": "Cetuximab",
                                    "Interacting Drug": "Quinisocaine",
                                    "Effect of Interaction": "The risk or severity of methemoglobinemia can be increased when Cetuximab is combined with Quinisocaine."
                                }
                            ]
                        },
                        "text/html": [
                            "<table>",
                            "<tr><th>Source Drug</th><th>Interacting Drug</th><th>Effect of Interaction</th></tr>",
                            "<tr><td>Cetuximab</td><td>Diethylstilbestrol</td><td>Diethylstilbestrol may increase the thrombogenic activities of Cetuximab.</td></tr>",
                            "<tr><td>Cetuximab</td><td>Chlorotrianisene</td><td>Chlorotrianisene may increase the thrombogenic activities of Cetuximab.</td></tr>",
                            "<tr><td>Cetuximab</td><td>Conjugated estrogens</td><td>Conjugated estrogens may increase the thrombogenic activities of Cetuximab.</td></tr>",
                            "<tr><td>Cetuximab</td><td>Estrone</td><td>Estrone may increase the thrombogenic activities of Cetuximab.</td></tr>",
                            "<tr><td>Cetuximab</td><td>Estradiol</td><td>Estradiol may increase the thrombogenic activities of Cetuximab.</td></tr>",
                            "<tr><td>Cetuximab</td><td>Dienestrol</td><td>Dienestrol may increase the thrombogenic activities of Cetuximab.</td></tr>",
                            "<tr><td>Cetuximab</td><td>Ethinylestradiol</td><td>Ethinylestradiol may increase the thrombogenic activities of Cetuximab.</td></tr>",
                            "<tr><td>Cetuximab</td><td>Mestranol</td><td>Mestranol may increase the thrombogenic activities of Cetuximab.</td></tr>",
                            "<tr><td>Cetuximab</td><td>Estriol</td><td>Estriol may increase the thrombogenic activities of Cetuximab.</td></tr>",
                            "<tr><td>Cetuximab</td><td>Estrone sulfate</td><td>Estrone sulfate may increase the thrombogenic activities of Cetuximab.</td></tr>",
                            "<tr><td>Cetuximab</td><td>Quinestrol</td><td>Quinestrol may increase the thrombogenic activities of Cetuximab.</td></tr>",
                            "<tr><td>Cetuximab</td><td>Hexestrol</td><td>Hexestrol may increase the thrombogenic activities of Cetuximab.</td></tr>",
                            "<tr><td>Cetuximab</td><td>Tibolone</td><td>Tibolone may increase the thrombogenic activities of Cetuximab.</td></tr>",
                            "<tr><td>Cetuximab</td><td>Synthetic Conjugated Estrogens, A</td><td>Synthetic Conjugated Estrogens, A may increase the thrombogenic activities of Cetuximab.</td></tr>",
                            "<tr><td>Cetuximab</td><td>Synthetic Conjugated Estrogens, B</td><td>Synthetic Conjugated Estrogens, B may increase the thrombogenic activities of Cetuximab.</td></tr>",
                            "<tr><td>Cetuximab</td><td>Polyestradiol phosphate</td><td>Polyestradiol phosphate may increase the thrombogenic activities of Cetuximab.</td></tr>",
                            "<tr><td>Cetuximab</td><td>Esterified estrogens</td><td>Esterified estrogens may increase the thrombogenic activities of Cetuximab.</td></tr>",
                            "<tr><td>Cetuximab</td><td>Zeranol</td><td>Zeranol may increase the thrombogenic activities of Cetuximab.</td></tr>",
                            "<tr><td>Cetuximab</td><td>Equol</td><td>Equol may increase the thrombogenic activities of Cetuximab.</td></tr>",
                            "<tr><td>Cetuximab</td><td>Promestriene</td><td>Promestriene may increase the thrombogenic activities of Cetuximab.</td></tr>",
                            "<tr><td>Cetuximab</td><td>Methallenestril</td><td>Methallenestril may increase the thrombogenic activities of Cetuximab.</td></tr>",
                            "<tr><td>Cetuximab</td><td>Epimestrol</td><td>Epimestrol may increase the thrombogenic activities of Cetuximab.</td></tr>",
                            "<tr><td>Cetuximab</td><td>Moxestrol</td><td>Moxestrol may increase the thrombogenic activities of Cetuximab.</td></tr>",
                            "<tr><td>Cetuximab</td><td>Estradiol acetate</td><td>Estradiol acetate may increase the thrombogenic activities of Cetuximab.</td></tr>",
                            "<tr><td>Cetuximab</td><td>Estradiol benzoate</td><td>Estradiol benzoate may increase the thrombogenic activities of Cetuximab.</td></tr>",
                            "<tr><td>Cetuximab</td><td>Estradiol cypionate</td><td>Estradiol cypionate may increase the thrombogenic activities of Cetuximab.</td></tr>",
                            "<tr><td>Cetuximab</td><td>Estradiol valerate</td><td>Estradiol valerate may increase the thrombogenic activities of Cetuximab.</td></tr>",
                            "<tr><td>Cetuximab</td><td>Biochanin A</td><td>Biochanin A may increase the thrombogenic activities of Cetuximab.</td></tr>",
                            "<tr><td>Cetuximab</td><td>Formononetin</td><td>Formononetin may increase the thrombogenic activities of Cetuximab.</td></tr>",
                            "<tr><td>Cetuximab</td><td>Estetrol</td><td>Estetrol may increase the thrombogenic activities of Cetuximab.</td></tr>",
                            "<tr><td>Cetuximab</td><td>Human immunoglobulin G</td><td>The risk or severity of adverse effects can be increased when Cetuximab is combined with Human immunoglobulin G.</td></tr>",
                            "<tr><td>Cetuximab</td><td>Omalizumab</td><td>The risk or severity of adverse effects can be increased when Cetuximab is combined with Omalizumab.</td></tr>",
                            "<tr><td>Cetuximab</td><td>Adalimumab</td><td>The risk or severity of adverse effects can be increased when Cetuximab is combined with Adalimumab.</td></tr>",
                            "<tr><td>Cetuximab</td><td>Abciximab</td><td>The risk or severity of adverse effects can be increased when Cetuximab is combined with Abciximab.</td></tr>",
                            "<tr><td>Cetuximab</td><td>Gemtuzumab ozogamicin</td><td>The risk or severity of adverse effects can be increased when Cetuximab is combined with Gemtuzumab ozogamicin.</td></tr>",
                            "<tr><td>Cetuximab</td><td>Indium In-111 satumomab pendetide</td><td>The risk or severity of adverse effects can be increased when Cetuximab is combined with Indium In-111 satumomab pendetide.</td></tr>",
                            "<tr><td>Cetuximab</td><td>Infliximab</td><td>The risk or severity of adverse effects can be increased when Cetuximab is combined with Infliximab.</td></tr>",
                            "<tr><td>Cetuximab</td><td>Trastuzumab</td><td>The risk or severity of adverse effects can be increased when Cetuximab is combined with Trastuzumab.</td></tr>",
                            "<tr><td>Cetuximab</td><td>Rituximab</td><td>The risk or severity of adverse effects can be increased when Cetuximab is combined with Rituximab.</td></tr>",
                            "<tr><td>Cetuximab</td><td>Basiliximab</td><td>The risk or severity of adverse effects can be increased when Cetuximab is combined with Basiliximab.</td></tr>",
                            "<tr><td>Cetuximab</td><td>Muromonab</td><td>The risk or severity of adverse effects can be increased when Cetuximab is combined with Muromonab.</td></tr>",
                            "<tr><td>Cetuximab</td><td>Digoxin Immune Fab (Ovine)</td><td>The risk or severity of adverse effects can be increased when Cetuximab is combined with Digoxin Immune Fab (Ovine).</td></tr>",
                            "<tr><td>Cetuximab</td><td>Ibritumomab tiuxetan</td><td>The risk or severity of adverse effects can be increased when Cetuximab is combined with Ibritumomab tiuxetan.</td></tr>",
                            "<tr><td>Cetuximab</td><td>Tositumomab</td><td>The risk or severity of adverse effects can be increased when Cetuximab is combined with Tositumomab.</td></tr>",
                            "<tr><td>Cetuximab</td><td>Alemtuzumab</td><td>The risk or severity of adverse effects can be increased when Cetuximab is combined with Alemtuzumab.</td></tr>",
                            "<tr><td>Cetuximab</td><td>Capromab pendetide</td><td>The risk or severity of adverse effects can be increased when Cetuximab is combined with Capromab pendetide.</td></tr>",
                            "<tr><td>Cetuximab</td><td>Efalizumab</td><td>The risk or severity of adverse effects can be increased when Cetuximab is combined with Efalizumab.</td></tr>",
                            "<tr><td>Cetuximab</td><td>Antithymocyte immunoglobulin (rabbit)</td><td>The risk or severity of adverse effects can be increased when Cetuximab is combined with Antithymocyte immunoglobulin (rabbit).</td></tr>",
                            "<tr><td>Cetuximab</td><td>Natalizumab</td><td>The risk or severity of adverse effects can be increased when Cetuximab is combined with Natalizumab.</td></tr>",
                            "<tr><td>Cetuximab</td><td>Palivizumab</td><td>The risk or severity of adverse effects can be increased when Cetuximab is combined with Palivizumab.</td></tr>",
                            "<tr><td>Cetuximab</td><td>Daclizumab</td><td>The risk or severity of adverse effects can be increased when Cetuximab is combined with Daclizumab.</td></tr>",
                            "<tr><td>Cetuximab</td><td>Bevacizumab</td><td>The risk or severity of adverse effects can be increased when Cetuximab is combined with Bevacizumab.</td></tr>",
                            "<tr><td>Cetuximab</td><td>Technetium Tc-99m arcitumomab</td><td>The risk or severity of adverse effects can be increased when Cetuximab is combined with Technetium Tc-99m arcitumomab.</td></tr>",
                            "<tr><td>Cetuximab</td><td>Eculizumab</td><td>The risk or severity of adverse effects can be increased when Cetuximab is combined with Eculizumab.</td></tr>",
                            "<tr><td>Cetuximab</td><td>Panitumumab</td><td>The risk or severity of adverse effects can be increased when Cetuximab is combined with Panitumumab.</td></tr>",
                            "<tr><td>Cetuximab</td><td>Ranibizumab</td><td>The risk or severity of adverse effects can be increased when Cetuximab is combined with Ranibizumab.</td></tr>",
                            "<tr><td>Cetuximab</td><td>Galiximab</td><td>The risk or severity of adverse effects can be increased when Cetuximab is combined with Galiximab.</td></tr>",
                            "<tr><td>Cetuximab</td><td>Pexelizumab</td><td>The risk or severity of adverse effects can be increased when Cetuximab is combined with Pexelizumab.</td></tr>",
                            "<tr><td>Cetuximab</td><td>Afelimomab</td><td>The risk or severity of adverse effects can be increased when Cetuximab is combined with Afelimomab.</td></tr>",
                            "<tr><td>Cetuximab</td><td>Epratuzumab</td><td>The risk or severity of adverse effects can be increased when Cetuximab is combined with Epratuzumab.</td></tr>",
                            "<tr><td>Cetuximab</td><td>Bectumomab</td><td>The risk or severity of adverse effects can be increased when Cetuximab is combined with Bectumomab.</td></tr>",
                            "<tr><td>Cetuximab</td><td>Oregovomab</td><td>The risk or severity of adverse effects can be increased when Cetuximab is combined with Oregovomab.</td></tr>",
                            "<tr><td>Cetuximab</td><td>IGN311</td><td>The risk or severity of adverse effects can be increased when Cetuximab is combined with IGN311.</td></tr>",
                            "<tr><td>Cetuximab</td><td>Adecatumumab</td><td>The risk or severity of adverse effects can be increased when Cetuximab is combined with Adecatumumab.</td></tr>",
                            "<tr><td>Cetuximab</td><td>Labetuzumab</td><td>The risk or severity of adverse effects can be increased when Cetuximab is combined with Labetuzumab.</td></tr>",
                            "<tr><td>Cetuximab</td><td>Matuzumab</td><td>The risk or severity of adverse effects can be increased when Cetuximab is combined with Matuzumab.</td></tr>",
                            "<tr><td>Cetuximab</td><td>Fontolizumab</td><td>The risk or severity of adverse effects can be increased when Cetuximab is combined with Fontolizumab.</td></tr>",
                            "<tr><td>Cetuximab</td><td>Bavituximab</td><td>The risk or severity of adverse effects can be increased when Cetuximab is combined with Bavituximab.</td></tr>",
                            "<tr><td>Cetuximab</td><td>CR002</td><td>The risk or severity of adverse effects can be increased when Cetuximab is combined with CR002.</td></tr>",
                            "<tr><td>Cetuximab</td><td>Rozrolimupab</td><td>The risk or severity of adverse effects can be increased when Cetuximab is combined with Rozrolimupab.</td></tr>",
                            "<tr><td>Cetuximab</td><td>Girentuximab</td><td>The risk or severity of adverse effects can be increased when Cetuximab is combined with Girentuximab.</td></tr>",
                            "<tr><td>Cetuximab</td><td>Obiltoxaximab</td><td>The risk or severity of adverse effects can be increased when Cetuximab is combined with Obiltoxaximab.</td></tr>",
                            "<tr><td>Cetuximab</td><td>XTL-001</td><td>The risk or severity of adverse effects can be increased when Cetuximab is combined with XTL-001.</td></tr>",
                            "<tr><td>Cetuximab</td><td>NAV 1800</td><td>The risk or severity of adverse effects can be increased when Cetuximab is combined with NAV 1800.</td></tr>",
                            "<tr><td>Cetuximab</td><td>Briakinumab</td><td>The risk or severity of adverse effects can be increased when Cetuximab is combined with Briakinumab.</td></tr>",
                            "<tr><td>Cetuximab</td><td>Otelixizumab</td><td>The risk or severity of adverse effects can be increased when Cetuximab is combined with Otelixizumab.</td></tr>",
                            "<tr><td>Cetuximab</td><td>AMG 108</td><td>The risk or severity of adverse effects can be increased when Cetuximab is combined with AMG 108.</td></tr>",
                            "<tr><td>Cetuximab</td><td>Iratumumab</td><td>The risk or severity of adverse effects can be increased when Cetuximab is combined with Iratumumab.</td></tr>",
                            "<tr><td>Cetuximab</td><td>Enokizumab</td><td>The risk or severity of adverse effects can be increased when Cetuximab is combined with Enokizumab.</td></tr>",
                            "<tr><td>Cetuximab</td><td>Ramucirumab</td><td>The risk or severity of adverse effects can be increased when Cetuximab is combined with Ramucirumab.</td></tr>",
                            "<tr><td>Cetuximab</td><td>Farletuzumab</td><td>The risk or severity of adverse effects can be increased when Cetuximab is combined with Farletuzumab.</td></tr>",
                            "<tr><td>Cetuximab</td><td>Veltuzumab</td><td>The risk or severity of adverse effects can be increased when Cetuximab is combined with Veltuzumab.</td></tr>",
                            "<tr><td>Cetuximab</td><td>Ustekinumab</td><td>The risk or severity of adverse effects can be increased when Cetuximab is combined with Ustekinumab.</td></tr>",
                            "<tr><td>Cetuximab</td><td>Trastuzumab emtansine</td><td>The risk or severity of adverse effects can be increased when Cetuximab is combined with Trastuzumab emtansine.</td></tr>",
                            "<tr><td>Cetuximab</td><td>PRO-542</td><td>The risk or severity of adverse effects can be increased when Cetuximab is combined with PRO-542.</td></tr>",
                            "<tr><td>Cetuximab</td><td>TNX-901</td><td>The risk or severity of adverse effects can be increased when Cetuximab is combined with TNX-901.</td></tr>",
                            "<tr><td>Cetuximab</td><td>Inotuzumab ozogamicin</td><td>The risk or severity of adverse effects can be increased when Cetuximab is combined with Inotuzumab ozogamicin.</td></tr>",
                            "<tr><td>Cetuximab</td><td>RI 624</td><td>The risk or severity of adverse effects can be increased when Cetuximab is combined with RI 624.</td></tr>",
                            "<tr><td>Cetuximab</td><td>Stamulumab</td><td>The risk or severity of adverse effects can be increased when Cetuximab is combined with MYO-029.</td></tr>",
                            "<tr><td>Cetuximab</td><td>CT-011</td><td>The risk or severity of adverse effects can be increased when Cetuximab is combined with CT-011.</td></tr>",
                            "<tr><td>Cetuximab</td><td>Leronlimab</td><td>The risk or severity of adverse effects can be increased when Cetuximab is combined with Leronlimab.</td></tr>",
                            "<tr><td>Cetuximab</td><td>Glembatumumab vedotin</td><td>The risk or severity of adverse effects can be increased when Cetuximab is combined with Glembatumumab vedotin.</td></tr>",
                            "<tr><td>Cetuximab</td><td>Olaratumab</td><td>The risk or severity of adverse effects can be increased when Cetuximab is combined with Olaratumab.</td></tr>",
                            "<tr><td>Cetuximab</td><td>IPH 2101</td><td>The risk or severity of adverse effects can be increased when Cetuximab is combined with IPH 2101.</td></tr>",
                            "<tr><td>Cetuximab</td><td>TB-402</td><td>The risk or severity of adverse effects can be increased when Cetuximab is combined with TB-402.</td></tr>",
                            "<tr><td>Cetuximab</td><td>Caplacizumab</td><td>The risk or severity of adverse effects can be increased when Cetuximab is combined with Caplacizumab.</td></tr>",
                            "<tr><td>Cetuximab</td><td>IMC-1C11</td><td>The risk or severity of adverse effects can be increased when Cetuximab is combined with IMC-1C11.</td></tr>",
                            "<tr><td>Cetuximab</td><td>Eldelumab</td><td>The risk or severity of adverse effects can be increased when Cetuximab is combined with Eldelumab.</td></tr>",
                            "<tr><td>Cetuximab</td><td>Lumiliximab</td><td>The risk or severity of adverse effects can be increased when Cetuximab is combined with Lumiliximab.</td></tr>",
                            "<tr><td>Cetuximab</td><td>Canakinumab</td><td>The risk or severity of adverse effects can be increased when Cetuximab is combined with Canakinumab.</td></tr>",
                            "<tr><td>Cetuximab</td><td>Ipilimumab</td><td>The risk or severity of adverse effects can be increased when Cetuximab is combined with Ipilimumab.</td></tr>",
                            "<tr><td>Cetuximab</td><td>Nimotuzumab</td><td>The risk or severity of adverse effects can be increased when Cetuximab is combined with Nimotuzumab.</td></tr>",
                            "<tr><td>Cetuximab</td><td>Clenoliximab</td><td>The risk or severity of adverse effects can be increased when Cetuximab is combined with Clenoliximab.</td></tr>",
                            "<tr><td>Cetuximab</td><td>Tocilizumab</td><td>The risk or severity of adverse effects can be increased when Cetuximab is combined with Tocilizumab.</td></tr>",
                            "<tr><td>Cetuximab</td><td>BIIB015</td><td>The risk or severity of adverse effects can be increased when Cetuximab is combined with BIIB015.</td></tr>",
                            "<tr><td>Cetuximab</td><td>Sonepcizumab</td><td>The risk or severity of adverse effects can be increased when Cetuximab is combined with Sonepcizumab.</td></tr>",
                            "<tr><td>Cetuximab</td><td>Motavizumab</td><td>The risk or severity of adverse effects can be increased when Cetuximab is combined with Motavizumab.</td></tr>",
                            "<tr><td>Cetuximab</td><td>Elotuzumab</td><td>The risk or severity of adverse effects can be increased when Cetuximab is combined with Elotuzumab.</td></tr>",
                            "<tr><td>Cetuximab</td><td>AVE9633</td><td>The risk or severity of adverse effects can be increased when Cetuximab is combined with AVE9633.</td></tr>",
                            "<tr><td>Cetuximab</td><td>Carotuximab</td><td>The risk or severity of adverse effects can be increased when Cetuximab is combined with Carotuximab.</td></tr>",
                            "<tr><td>Cetuximab</td><td>XmAb 2513</td><td>The risk or severity of adverse effects can be increased when Cetuximab is combined with XmAb 2513.</td></tr>",
                            "<tr><td>Cetuximab</td><td>Coltuximab ravtansine</td><td>The risk or severity of adverse effects can be increased when Cetuximab is combined with Coltuximab ravtansine.</td></tr>",
                            "<tr><td>Cetuximab</td><td>Lucatumumab</td><td>The risk or severity of adverse effects can be increased when Cetuximab is combined with Lucatumumab.</td></tr>",
                            "<tr><td>Cetuximab</td><td>Pertuzumab</td><td>The risk or severity of adverse effects can be increased when Cetuximab is combined with Pertuzumab.</td></tr>",
                            "<tr><td>Cetuximab</td><td>Siplizumab</td><td>The risk or severity of adverse effects can be increased when Cetuximab is combined with Siplizumab.</td></tr>",
                            "<tr><td>Cetuximab</td><td>Apolizumab</td><td>The risk or severity of adverse effects can be increased when Cetuximab is combined with Apolizumab.</td></tr>",
                            "<tr><td>Cetuximab</td><td>Sibrotuzumab</td><td>The risk or severity of adverse effects can be increased when Cetuximab is combined with Sibrotuzumab.</td></tr>",
                            "<tr><td>Cetuximab</td><td>Bivatuzumab</td><td>The risk or severity of adverse effects can be increased when Cetuximab is combined with Bivatuzumab.</td></tr>",
                            "<tr><td>Cetuximab</td><td>Lerdelimumab</td><td>The risk or severity of adverse effects can be increased when Cetuximab is combined with Lerdelimumab.</td></tr>",
                            "<tr><td>Cetuximab</td><td>Lexatumumab</td><td>The risk or severity of adverse effects can be increased when Cetuximab is combined with Lexatumumab.</td></tr>",
                            "<tr><td>Cetuximab</td><td>Reslizumab</td><td>The risk or severity of adverse effects can be increased when Cetuximab is combined with Reslizumab.</td></tr>",
                            "<tr><td>Cetuximab</td><td>Teplizumab</td><td>The risk or severity of adverse effects can be increased when Cetuximab is combined with Teplizumab.</td></tr>",
                            "<tr><td>Cetuximab</td><td>Catumaxomab</td><td>The risk or severity of adverse effects can be increased when Cetuximab is combined with Catumaxomab.</td></tr>",
                            "<tr><td>Cetuximab</td><td>Mepolizumab</td><td>The risk or severity of adverse effects can be increased when Cetuximab is combined with Mepolizumab.</td></tr>",
                            "<tr><td>Cetuximab</td><td>Denosumab</td><td>The risk or severity of adverse effects can be increased when Cetuximab is combined with Denosumab.</td></tr>",
                            "<tr><td>Cetuximab</td><td>Volociximab</td><td>The risk or severity of adverse effects can be increased when Cetuximab is combined with Volociximab.</td></tr>",
                            "<tr><td>Cetuximab</td><td>Ofatumumab</td><td>The risk or severity of adverse effects can be increased when Cetuximab is combined with Ofatumumab.</td></tr>",
                            "<tr><td>Cetuximab</td><td>Golimumab</td><td>The risk or severity of adverse effects can be increased when Cetuximab is combined with Golimumab.</td></tr>",
                            "<tr><td>Cetuximab</td><td>Brentuximab vedotin</td><td>The risk or severity of adverse effects can be increased when Cetuximab is combined with Brentuximab vedotin.</td></tr>",
                            "<tr><td>Cetuximab</td><td>Belimumab</td><td>The risk or severity of adverse effects can be increased when Cetuximab is combined with Belimumab.</td></tr>",
                            "<tr><td>Cetuximab</td><td>Raxibacumab</td><td>The risk or severity of adverse effects can be increased when Cetuximab is combined with Raxibacumab.</td></tr>",
                            "<tr><td>Cetuximab</td><td>Obinutuzumab</td><td>The risk or severity of adverse effects can be increased when Cetuximab is combined with Obinutuzumab.</td></tr>",
                            "<tr><td>Cetuximab</td><td>Secukinumab</td><td>The risk or severity of adverse effects can be increased when Cetuximab is combined with Secukinumab.</td></tr>",
                            "<tr><td>Cetuximab</td><td>Vedolizumab</td><td>The risk or severity of adverse effects can be increased when Cetuximab is combined with Vedolizumab.</td></tr>",
                            "<tr><td>Cetuximab</td><td>Nivolumab</td><td>The risk or severity of adverse effects can be increased when Cetuximab is combined with Nivolumab.</td></tr>",
                            "<tr><td>Cetuximab</td><td>Siltuximab</td><td>The risk or severity of adverse effects can be increased when Cetuximab is combined with Siltuximab.</td></tr>",
                            "<tr><td>Cetuximab</td><td>Pembrolizumab</td><td>The risk or severity of adverse effects can be increased when Cetuximab is combined with Pembrolizumab.</td></tr>",
                            "<tr><td>Cetuximab</td><td>Dulaglutide</td><td>The risk or severity of adverse effects can be increased when Cetuximab is combined with Dulaglutide.</td></tr>",
                            "<tr><td>Cetuximab</td><td>Blinatumomab</td><td>The risk or severity of adverse effects can be increased when Cetuximab is combined with Blinatumomab.</td></tr>",
                            "<tr><td>Cetuximab</td><td>Anthrax immune globulin human</td><td>The risk or severity of adverse effects can be increased when Cetuximab is combined with Anthrax immune globulin human.</td></tr>",
                            "<tr><td>Cetuximab</td><td>Dinutuximab</td><td>The risk or severity of adverse effects can be increased when Cetuximab is combined with Dinutuximab.</td></tr>",
                            "<tr><td>Cetuximab</td><td>Asfotase alfa</td><td>The risk or severity of adverse effects can be increased when Cetuximab is combined with Asfotase alfa.</td></tr>",
                            "<tr><td>Cetuximab</td><td>Idarucizumab</td><td>The risk or severity of adverse effects can be increased when Cetuximab is combined with Idarucizumab.</td></tr>",
                            "<tr><td>Cetuximab</td><td>Alirocumab</td><td>The risk or severity of adverse effects can be increased when Cetuximab is combined with Alirocumab.</td></tr>",
                            "<tr><td>Cetuximab</td><td>Evolocumab</td><td>The risk or severity of adverse effects can be increased when Cetuximab is combined with Evolocumab.</td></tr>",
                            "<tr><td>Cetuximab</td><td>Antilymphocyte immunoglobulin (horse)</td><td>The risk or severity of adverse effects can be increased when Cetuximab is combined with Antilymphocyte immunoglobulin (horse).</td></tr>",
                            "<tr><td>Cetuximab</td><td>Daratumumab</td><td>The risk or severity of adverse effects can be increased when Cetuximab is combined with Daratumumab.</td></tr>",
                            "<tr><td>Cetuximab</td><td>Necitumumab</td><td>The risk or severity of adverse effects can be increased when Cetuximab is combined with Necitumumab.</td></tr>",
                            "<tr><td>Cetuximab</td><td>Ixekizumab</td><td>The risk or severity of adverse effects can be increased when Cetuximab is combined with Ixekizumab.</td></tr>",
                            "<tr><td>Cetuximab</td><td>Ravulizumab</td><td>The risk or severity of adverse effects can be increased when Cetuximab is combined with Ravulizumab.</td></tr>",
                            "<tr><td>Cetuximab</td><td>Atezolizumab</td><td>The risk or severity of adverse effects can be increased when Cetuximab is combined with Atezolizumab.</td></tr>",
                            "<tr><td>Cetuximab</td><td>Tetanus immune globulin, human</td><td>The risk or severity of adverse effects can be increased when Cetuximab is combined with Tetanus immune globulin, human.</td></tr>",
                            "<tr><td>Cetuximab</td><td>Eftrenonacog alfa</td><td>The risk or severity of adverse effects can be increased when Cetuximab is combined with Eftrenonacog alfa.</td></tr>",
                            "<tr><td>Cetuximab</td><td>Human varicella-zoster immune globulin</td><td>The risk or severity of adverse effects can be increased when Cetuximab is combined with Human varicella-zoster immune globulin.</td></tr>",
                            "<tr><td>Cetuximab</td><td>Conatumumab</td><td>The risk or severity of adverse effects can be increased when Cetuximab is combined with Conatumumab.</td></tr>",
                            "<tr><td>Cetuximab</td><td>Tabalumab</td><td>The risk or severity of adverse effects can be increased when Cetuximab is combined with Tabalumab.</td></tr>",
                            "<tr><td>Cetuximab</td><td>Ficlatuzumab</td><td>The risk or severity of adverse effects can be increased when Cetuximab is combined with Ficlatuzumab.</td></tr>",
                            "<tr><td>Cetuximab</td><td>Figitumumab</td><td>The risk or severity of adverse effects can be increased when Cetuximab is combined with Figitumumab.</td></tr>",
                            "<tr><td>Cetuximab</td><td>Durvalumab</td><td>The risk or severity of adverse effects can be increased when Cetuximab is combined with Durvalumab.</td></tr>",
                            "<tr><td>Cetuximab</td><td>Bapineuzumab</td><td>The risk or severity of adverse effects can be increased when Cetuximab is combined with Bapineuzumab.</td></tr>",
                            "<tr><td>Cetuximab</td><td>Depatuxizumab mafodotin</td><td>The risk or severity of adverse effects can be increased when Cetuximab is combined with Depatuxizumab mafodotin.</td></tr>",
                            "<tr><td>Cetuximab</td><td>Onartuzumab</td><td>The risk or severity of adverse effects can be increased when Cetuximab is combined with Onartuzumab.</td></tr>",
                            "<tr><td>Cetuximab</td><td>Solanezumab</td><td>The risk or severity of adverse effects can be increased when Cetuximab is combined with Solanezumab.</td></tr>",
                            "<tr><td>Cetuximab</td><td>Sarilumab</td><td>The risk or severity of adverse effects can be increased when Cetuximab is combined with Sarilumab.</td></tr>",
                            "<tr><td>Cetuximab</td><td>Tremelimumab</td><td>The risk or severity of adverse effects can be increased when Cetuximab is combined with Tremelimumab.</td></tr>",
                            "<tr><td>Cetuximab</td><td>Brodalumab</td><td>The risk or severity of adverse effects can be increased when Cetuximab is combined with Brodalumab.</td></tr>",
                            "<tr><td>Cetuximab</td><td>Sirukumab</td><td>The risk or severity of adverse effects can be increased when Cetuximab is combined with Sirukumab.</td></tr>",
                            "<tr><td>Cetuximab</td><td>Lampalizumab</td><td>The risk or severity of adverse effects can be increased when Cetuximab is combined with Lampalizumab.</td></tr>",
                            "<tr><td>Cetuximab</td><td>Guselkumab</td><td>The risk or severity of adverse effects can be increased when Cetuximab is combined with Guselkumab.</td></tr>",
                            "<tr><td>Cetuximab</td><td>Dalotuzumab</td><td>The risk or severity of adverse effects can be increased when Cetuximab is combined with Dalotuzumab.</td></tr>",
                            "<tr><td>Cetuximab</td><td>Emibetuzumab</td><td>The risk or severity of adverse effects can be increased when Cetuximab is combined with Emibetuzumab.</td></tr>",
                            "<tr><td>Cetuximab</td><td>Ublituximab</td><td>The risk or severity of adverse effects can be increased when Cetuximab is combined with Ublituximab.</td></tr>",
                            "<tr><td>Cetuximab</td><td>Ligelizumab</td><td>The risk or severity of adverse effects can be increased when Cetuximab is combined with Ligelizumab.</td></tr>",
                            "<tr><td>Cetuximab</td><td>Seribantumab</td><td>The risk or severity of adverse effects can be increased when Cetuximab is combined with Seribantumab.</td></tr>",
                            "<tr><td>Cetuximab</td><td>Landogrozumab</td><td>The risk or severity of adverse effects can be increased when Cetuximab is combined with Landogrozumab.</td></tr>",
                            "<tr><td>Cetuximab</td><td>Romosozumab</td><td>The risk or severity of adverse effects can be increased when Cetuximab is combined with Romosozumab.</td></tr>",
                            "<tr><td>Cetuximab</td><td>Vadastuximab talirine</td><td>The risk or severity of adverse effects can be increased when Cetuximab is combined with Vadastuximab talirine.</td></tr>",
                            "<tr><td>Cetuximab</td><td>Lebrikizumab</td><td>The risk or severity of adverse effects can be increased when Cetuximab is combined with Lebrikizumab.</td></tr>",
                            "<tr><td>Cetuximab</td><td>Varlilumab</td><td>The risk or severity of adverse effects can be increased when Cetuximab is combined with Varlilumab.</td></tr>",
                            "<tr><td>Cetuximab</td><td>Avelumab</td><td>The risk or severity of adverse effects can be increased when Cetuximab is combined with Avelumab.</td></tr>",
                            "<tr><td>Cetuximab</td><td>Crenezumab</td><td>The risk or severity of adverse effects can be increased when Cetuximab is combined with Crenezumab.</td></tr>",
                            "<tr><td>Cetuximab</td><td>Rilotumumab</td><td>The risk or severity of adverse effects can be increased when Cetuximab is combined with Rilotumumab.</td></tr>",
                            "<tr><td>Cetuximab</td><td>Anifrolumab</td><td>The risk or severity of adverse effects can be increased when Cetuximab is combined with Anifrolumab.</td></tr>",
                            "<tr><td>Cetuximab</td><td>Ocrelizumab</td><td>The risk or severity of adverse effects can be increased when Cetuximab is combined with Ocrelizumab.</td></tr>",
                            "<tr><td>Cetuximab</td><td>Benralizumab</td><td>The risk or severity of adverse effects can be increased when Cetuximab is combined with Benralizumab.</td></tr>",
                            "<tr><td>Cetuximab</td><td>Gantenerumab</td><td>The risk or severity of adverse effects can be increased when Cetuximab is combined with Gantenerumab.</td></tr>",
                            "<tr><td>Cetuximab</td><td>Visilizumab</td><td>The risk or severity of adverse effects can be increased when Cetuximab is combined with Visilizumab.</td></tr>",
                            "<tr><td>Cetuximab</td><td>Urelumab</td><td>The risk or severity of adverse effects can be increased when Cetuximab is combined with Urelumab.</td></tr>",
                            "<tr><td>Cetuximab</td><td>Lorvotuzumab mertansine</td><td>The risk or severity of adverse effects can be increased when Cetuximab is combined with Lorvotuzumab mertansine.</td></tr>",
                            "<tr><td>Cetuximab</td><td>Patritumab</td><td>The risk or severity of adverse effects can be increased when Cetuximab is combined with Patritumab.</td></tr>",
                            "<tr><td>Cetuximab</td><td>Fulranumab</td><td>The risk or severity of adverse effects can be increased when Cetuximab is combined with Fulranumab.</td></tr>",
                            "<tr><td>Cetuximab</td><td>Tarextumab</td><td>The risk or severity of adverse effects can be increased when Cetuximab is combined with Tarextumab.</td></tr>",
                            "<tr><td>Cetuximab</td><td>Sotatercept</td><td>The risk or severity of adverse effects can be increased when Cetuximab is combined with Sotatercept.</td></tr>",
                            "<tr><td>Cetuximab</td><td>Gevokizumab</td><td>The risk or severity of adverse effects can be increased when Cetuximab is combined with Gevokizumab.</td></tr>",
                            "<tr><td>Cetuximab</td><td>Duligotuzumab</td><td>The risk or severity of adverse effects can be increased when Cetuximab is combined with Duligotuzumab.</td></tr>",
                            "<tr><td>Cetuximab</td><td>Simtuzumab</td><td>The risk or severity of adverse effects can be increased when Cetuximab is combined with Simtuzumab.</td></tr>",
                            "<tr><td>Cetuximab</td><td>Fasinumab</td><td>The risk or severity of adverse effects can be increased when Cetuximab is combined with Fasinumab.</td></tr>",
                            "<tr><td>Cetuximab</td><td>Dupilumab</td><td>The risk or severity of adverse effects can be increased when Cetuximab is combined with Dupilumab.</td></tr>",
                            "<tr><td>Cetuximab</td><td>Tralokinumab</td><td>The risk or severity of adverse effects can be increased when Cetuximab is combined with Tralokinumab.</td></tr>",
                            "<tr><td>Cetuximab</td><td>Etrolizumab</td><td>The risk or severity of adverse effects can be increased when Cetuximab is combined with Etrolizumab.</td></tr>",
                            "<tr><td>Cetuximab</td><td>Zalutumumab</td><td>The risk or severity of adverse effects can be increased when Cetuximab is combined with Zalutumumab.</td></tr>",
                            "<tr><td>Cetuximab</td><td>Ganitumab</td><td>The risk or severity of adverse effects can be increased when Cetuximab is combined with Ganitumab.</td></tr>",
                            "<tr><td>Cetuximab</td><td>Etaracizumab</td><td>The risk or severity of adverse effects can be increased when Cetuximab is combined with Etaracizumab.</td></tr>",
                            "<tr><td>Cetuximab</td><td>Polatuzumab vedotin</td><td>The risk or severity of adverse effects can be increased when Cetuximab is combined with Polatuzumab vedotin.</td></tr>",
                            "<tr><td>Cetuximab</td><td>Inclacumab</td><td>The risk or severity of adverse effects can be increased when Cetuximab is combined with Inclacumab.</td></tr>",
                            "<tr><td>Cetuximab</td><td>Cixutumumab</td><td>The risk or severity of adverse effects can be increased when Cetuximab is combined with Cixutumumab.</td></tr>",
                            "<tr><td>Cetuximab</td><td>Ascrinvacumab</td><td>The risk or severity of adverse effects can be increased when Cetuximab is combined with Ascrinvacumab.</td></tr>",
                            "<tr><td>Cetuximab</td><td>Aducanumab</td><td>The risk or severity of adverse effects can be increased when Cetuximab is combined with Aducanumab.</td></tr>",
                            "<tr><td>Cetuximab</td><td>GS-5745</td><td>The risk or severity of adverse effects can be increased when Cetuximab is combined with GS-5745.</td></tr>",
                            "<tr><td>Cetuximab</td><td>Vanucizumab</td><td>The risk or severity of adverse effects can be increased when Cetuximab is combined with Vanucizumab.</td></tr>",
                            "<tr><td>Cetuximab</td><td>Labetuzumab govitecan</td><td>The risk or severity of adverse effects can be increased when Cetuximab is combined with Labetuzumab govitecan.</td></tr>",
                            "<tr><td>Cetuximab</td><td>Tanezumab</td><td>The risk or severity of adverse effects can be increased when Cetuximab is combined with Tanezumab.</td></tr>",
                            "<tr><td>Cetuximab</td><td>Ensituximab</td><td>The risk or severity of adverse effects can be increased when Cetuximab is combined with Ensituximab.</td></tr>",
                            "<tr><td>Cetuximab</td><td>Fezakinumab</td><td>The risk or severity of adverse effects can be increased when Cetuximab is combined with Fezakinumab.</td></tr>",
                            "<tr><td>Cetuximab</td><td>Dusigitumab</td><td>The risk or severity of adverse effects can be increased when Cetuximab is combined with Dusigitumab.</td></tr>",
                            "<tr><td>Cetuximab</td><td>Fresolimumab</td><td>The risk or severity of adverse effects can be increased when Cetuximab is combined with Fresolimumab.</td></tr>",
                            "<tr><td>Cetuximab</td><td>Indusatumab vedotin</td><td>The risk or severity of adverse effects can be increased when Cetuximab is combined with Indusatumab vedotin.</td></tr>",
                            "<tr><td>Cetuximab</td><td>Bococizumab</td><td>The risk or severity of adverse effects can be increased when Cetuximab is combined with Bococizumab.</td></tr>",
                            "<tr><td>Cetuximab</td><td>Mirvetuximab soravtansine</td><td>The risk or severity of adverse effects can be increased when Cetuximab is combined with Mirvetuximab Soravtansine.</td></tr>",
                            "<tr><td>Cetuximab</td><td>Mogamulizumab</td><td>The risk or severity of adverse effects can be increased when Cetuximab is combined with Mogamulizumab.</td></tr>",
                            "<tr><td>Cetuximab</td><td>Plozalizumab</td><td>The risk or severity of adverse effects can be increased when Cetuximab is combined with Plozalizumab.</td></tr>",
                            "<tr><td>Cetuximab</td><td>Inebilizumab</td><td>The risk or severity of adverse effects can be increased when Cetuximab is combined with Inebilizumab.</td></tr>",
                            "<tr><td>Cetuximab</td><td>Mavrilimumab</td><td>The risk or severity of adverse effects can be increased when Cetuximab is combined with Mavrilimumab.</td></tr>",
                            "<tr><td>Cetuximab</td><td>Blosozumab</td><td>The risk or severity of adverse effects can be increased when Cetuximab is combined with Blosozumab.</td></tr>",
                            "<tr><td>Cetuximab</td><td>Bimagrumab</td><td>The risk or severity of adverse effects can be increased when Cetuximab is combined with Bimagrumab.</td></tr>",
                            "<tr><td>Cetuximab</td><td>Dacetuzumab</td><td>The risk or severity of adverse effects can be increased when Cetuximab is combined with Dacetuzumab.</td></tr>",
                            "<tr><td>Cetuximab</td><td>Tovetumab</td><td>The risk or severity of adverse effects can be increased when Cetuximab is combined with Tovetumab.</td></tr>",
                            "<tr><td>Cetuximab</td><td>Lumretuzumab</td><td>The risk or severity of adverse effects can be increased when Cetuximab is combined with Lumretuzumab.</td></tr>",
                            "<tr><td>Cetuximab</td><td>Ibalizumab</td><td>The risk or severity of adverse effects can be increased when Cetuximab is combined with Ibalizumab.</td></tr>",
                            "<tr><td>Cetuximab</td><td>Intetumumab</td><td>The risk or severity of adverse effects can be increased when Cetuximab is combined with Intetumumab.</td></tr>",
                            "<tr><td>Cetuximab</td><td>Carlumab</td><td>The risk or severity of adverse effects can be increased when Cetuximab is combined with Carlumab.</td></tr>",
                            "<tr><td>Cetuximab</td><td>Demcizumab</td><td>The risk or severity of adverse effects can be increased when Cetuximab is combined with Demcizumab.</td></tr>",
                            "<tr><td>Cetuximab</td><td>Sifalimumab</td><td>The risk or severity of adverse effects can be increased when Cetuximab is combined with Sifalimumab.</td></tr>",
                            "<tr><td>Cetuximab</td><td>Abituzumab</td><td>The risk or severity of adverse effects can be increased when Cetuximab is combined with Abituzumab.</td></tr>",
                            "<tr><td>Cetuximab</td><td>Ecromeximab</td><td>The risk or severity of adverse effects can be increased when Cetuximab is combined with Ecromeximab.</td></tr>",
                            "<tr><td>Cetuximab</td><td>Naptumomab estafenatox</td><td>The risk or severity of adverse effects can be increased when Cetuximab is combined with Naptumomab estafenatox.</td></tr>",
                            "<tr><td>Cetuximab</td><td>Crotedumab</td><td>The risk or severity of adverse effects can be increased when Cetuximab is combined with Crotedumab.</td></tr>",
                            "<tr><td>Cetuximab</td><td>Concizumab</td><td>The risk or severity of adverse effects can be increased when Cetuximab is combined with Concizumab.</td></tr>",
                            "<tr><td>Cetuximab</td><td>Depatuxizumab</td><td>The risk or severity of adverse effects can be increased when Cetuximab is combined with Depatuxizumab.</td></tr>",
                            "<tr><td>Cetuximab</td><td>Rontalizumab</td><td>The risk or severity of adverse effects can be increased when Cetuximab is combined with Rontalizumab.</td></tr>",
                            "<tr><td>Cetuximab</td><td>Amatuximab</td><td>The risk or severity of adverse effects can be increased when Cetuximab is combined with Amatuximab.</td></tr>",
                            "<tr><td>Cetuximab</td><td>Clazakizumab</td><td>The risk or severity of adverse effects can be increased when Cetuximab is combined with Clazakizumab.</td></tr>",
                            "<tr><td>Cetuximab</td><td>Ozanezumab</td><td>The risk or severity of adverse effects can be increased when Cetuximab is combined with Ozanezumab.</td></tr>",
                            "<tr><td>Cetuximab</td><td>Sacituzumab govitecan</td><td>The risk or severity of adverse effects can be increased when Cetuximab is combined with Sacituzumab govitecan.</td></tr>",
                            "<tr><td>Cetuximab</td><td>Bimekizumab</td><td>The risk or severity of adverse effects can be increased when Cetuximab is combined with Bimekizumab.</td></tr>",
                            "<tr><td>Cetuximab</td><td>Milatuzumab</td><td>The risk or severity of adverse effects can be increased when Cetuximab is combined with Milatuzumab.</td></tr>",
                            "<tr><td>Cetuximab</td><td>Robatumumab</td><td>The risk or severity of adverse effects can be increased when Cetuximab is combined with Robatumumab.</td></tr>",
                            "<tr><td>Cetuximab</td><td>Rovalpituzumab tesirine</td><td>The risk or severity of adverse effects can be increased when Cetuximab is combined with Rovalpituzumab tesirine.</td></tr>",
                            "<tr><td>Cetuximab</td><td>Namilumab</td><td>The risk or severity of adverse effects can be increased when Cetuximab is combined with Namilumab.</td></tr>",
                            "<tr><td>Cetuximab</td><td>Racotumomab</td><td>The risk or severity of adverse effects can be increased when Cetuximab is combined with Racotumomab.</td></tr>",
                            "<tr><td>Cetuximab</td><td>Tregalizumab</td><td>The risk or severity of adverse effects can be increased when Cetuximab is combined with Tregalizumab.</td></tr>",
                            "<tr><td>Cetuximab</td><td>Olokizumab</td><td>The risk or severity of adverse effects can be increased when Cetuximab is combined with Olokizumab.</td></tr>",
                            "<tr><td>Cetuximab</td><td>Bezlotoxumab</td><td>The risk or severity of adverse effects can be increased when Cetuximab is combined with Bezlotoxumab.</td></tr>",
                            "<tr><td>Cetuximab</td><td>Edrecolomab</td><td>The risk or severity of adverse effects can be increased when Cetuximab is combined with Edrecolomab.</td></tr>",
                            "<tr><td>Cetuximab</td><td>Nebacumab</td><td>The risk or severity of adverse effects can be increased when Cetuximab is combined with Nebacumab.</td></tr>",
                            "<tr><td>Cetuximab</td><td>Human cytomegalovirus immune globulin</td><td>The risk or severity of adverse effects can be increased when Cetuximab is combined with Human cytomegalovirus immune globulin.</td></tr>",
                            "<tr><td>Cetuximab</td><td>Emicizumab</td><td>The risk or severity of adverse effects can be increased when Cetuximab is combined with Emicizumab.</td></tr>",
                            "<tr><td>Cetuximab</td><td>Sulesomab</td><td>The risk or severity of adverse effects can be increased when Cetuximab is combined with Sulesomab.</td></tr>",
                            "<tr><td>Cetuximab</td><td>Besilesomab</td><td>The risk or severity of adverse effects can be increased when Cetuximab is combined with Besilesomab.</td></tr>",
                            "<tr><td>Cetuximab</td><td>Tildrakizumab</td><td>The risk or severity of adverse effects can be increased when Cetuximab is combined with Tildrakizumab.</td></tr>",
                            "<tr><td>Cetuximab</td><td>Burosumab</td><td>The risk or severity of adverse effects can be increased when Cetuximab is combined with Burosumab.</td></tr>",
                            "<tr><td>Cetuximab</td><td>Erenumab</td><td>The risk or severity of adverse effects can be increased when Cetuximab is combined with Erenumab.</td></tr>",
                            "<tr><td>Cetuximab</td><td>Eptinezumab</td><td>The risk or severity of adverse effects can be increased when Cetuximab is combined with Eptinezumab.</td></tr>",
                            "<tr><td>Cetuximab</td><td>Fremanezumab</td><td>The risk or severity of adverse effects can be increased when Cetuximab is combined with Fremanezumab.</td></tr>",
                            "<tr><td>Cetuximab</td><td>Galcanezumab</td><td>The risk or severity of adverse effects can be increased when Cetuximab is combined with Galcanezumab.</td></tr>",
                            "<tr><td>Cetuximab</td><td>Fanolesomab</td><td>The risk or severity of adverse effects can be increased when Cetuximab is combined with Fanolesomab.</td></tr>",
                            "<tr><td>Cetuximab</td><td>Lecanemab</td><td>The risk or severity of adverse effects can be increased when Cetuximab is combined with Lecanemab.</td></tr>",
                            "<tr><td>Cetuximab</td><td>Lanadelumab</td><td>The risk or severity of adverse effects can be increased when Cetuximab is combined with Lanadelumab.</td></tr>",
                            "<tr><td>Cetuximab</td><td>Cemiplimab</td><td>The risk or severity of adverse effects can be increased when Cetuximab is combined with Cemiplimab.</td></tr>",
                            "<tr><td>Cetuximab</td><td>Emapalumab</td><td>The risk or severity of adverse effects can be increased when Cetuximab is combined with Emapalumab.</td></tr>",
                            "<tr><td>Cetuximab</td><td>Risankizumab</td><td>The risk or severity of adverse effects can be increased when Cetuximab is combined with Risankizumab.</td></tr>",
                            "<tr><td>Cetuximab</td><td>Camrelizumab</td><td>The risk or severity of adverse effects can be increased when Cetuximab is combined with Camrelizumab.</td></tr>",
                            "<tr><td>Cetuximab</td><td>Setrusumab</td><td>The risk or severity of adverse effects can be increased when Cetuximab is combined with Setrusumab.</td></tr>",
                            "<tr><td>Cetuximab</td><td>Gancotamab</td><td>The risk or severity of adverse effects can be increased when Cetuximab is combined with Gancotamab.</td></tr>",
                            "<tr><td>Cetuximab</td><td>Anetumab ravtansine</td><td>The risk or severity of adverse effects can be increased when Cetuximab is combined with Anetumab ravtansine.</td></tr>",
                            "<tr><td>Cetuximab</td><td>Isatuximab</td><td>The risk or severity of adverse effects can be increased when Cetuximab is combined with Isatuximab.</td></tr>",
                            "<tr><td>Cetuximab</td><td>Icrucumab</td><td>The risk or severity of adverse effects can be increased when Cetuximab is combined with Icrucumab.</td></tr>",
                            "<tr><td>Cetuximab</td><td>Codrituzumab</td><td>The risk or severity of adverse effects can be increased when Cetuximab is combined with Codrituzumab.</td></tr>",
                            "<tr><td>Cetuximab</td><td>Brolucizumab</td><td>The risk or severity of adverse effects can be increased when Cetuximab is combined with Brolucizumab.</td></tr>",
                            "<tr><td>Cetuximab</td><td>Xentuzumab</td><td>The risk or severity of adverse effects can be increased when Cetuximab is combined with Xentuzumab.</td></tr>",
                            "<tr><td>Cetuximab</td><td>Lintuzumab</td><td>The risk or severity of adverse effects can be increased when Cetuximab is combined with Lintuzumab.</td></tr>",
                            "<tr><td>Cetuximab</td><td>Vobarilizumab</td><td>The risk or severity of adverse effects can be increased when Cetuximab is combined with Vobarilizumab.</td></tr>",
                            "<tr><td>Cetuximab</td><td>Parsatuzumab</td><td>The risk or severity of adverse effects can be increased when Cetuximab is combined with Parsatuzumab.</td></tr>",
                            "<tr><td>Cetuximab</td><td>Emactuzumab</td><td>The risk or severity of adverse effects can be increased when Cetuximab is combined with Emactuzumab.</td></tr>",
                            "<tr><td>Cetuximab</td><td>Bevacizumab zirconium Zr-89</td><td>The risk or severity of adverse effects can be increased when Cetuximab is combined with Bevacizumab zirconium Zr-89.</td></tr>",
                            "<tr><td>Cetuximab</td><td>Refanezumab</td><td>The risk or severity of adverse effects can be increased when Cetuximab is combined with Refanezumab.</td></tr>",
                            "<tr><td>Cetuximab</td><td>Rozanolixizumab</td><td>The risk or severity of adverse effects can be increased when Cetuximab is combined with Rozanolixizumab.</td></tr>",
                            "<tr><td>Cetuximab</td><td>Bermekimab</td><td>The risk or severity of adverse effects can be increased when Cetuximab is combined with Bermekimab.</td></tr>",
                            "<tr><td>Cetuximab</td><td>Pamrevlumab</td><td>The risk or severity of adverse effects can be increased when Cetuximab is combined with Pamrevlumab.</td></tr>",
                            "<tr><td>Cetuximab</td><td>Opicinumab</td><td>The risk or severity of adverse effects can be increased when Cetuximab is combined with Opicinumab.</td></tr>",
                            "<tr><td>Cetuximab</td><td>Trastuzumab deruxtecan</td><td>The risk or severity of adverse effects can be increased when Cetuximab is combined with Trastuzumab deruxtecan.</td></tr>",
                            "<tr><td>Cetuximab</td><td>Margetuximab</td><td>The risk or severity of adverse effects can be increased when Cetuximab is combined with Margetuximab.</td></tr>",
                            "<tr><td>Cetuximab</td><td>Dalantercept</td><td>The risk or severity of adverse effects can be increased when Cetuximab is combined with Dalantercept.</td></tr>",
                            "<tr><td>Cetuximab</td><td>Pateclizumab</td><td>The risk or severity of adverse effects can be increased when Cetuximab is combined with Pateclizumab.</td></tr>",
                            "<tr><td>Cetuximab</td><td>Gremubamab</td><td>The risk or severity of adverse effects can be increased when Cetuximab is combined with Gremubamab.</td></tr>",
                            "<tr><td>Cetuximab</td><td>Apomab</td><td>The risk or severity of adverse effects can be increased when Cetuximab is combined with Apomab.</td></tr>",
                            "<tr><td>Cetuximab</td><td>Tafasitamab</td><td>The risk or severity of adverse effects can be increased when Cetuximab is combined with Tafasitamab.</td></tr>",
                            "<tr><td>Cetuximab</td><td>Ipafricept</td><td>The risk or severity of adverse effects can be increased when Cetuximab is combined with Ipafricept.</td></tr>",
                            "<tr><td>Cetuximab</td><td>Abrilumab</td><td>The risk or severity of adverse effects can be increased when Cetuximab is combined with Abrilumab.</td></tr>",
                            "<tr><td>Cetuximab</td><td>Frovocimab</td><td>The risk or severity of adverse effects can be increased when Cetuximab is combined with Frovocimab.</td></tr>",
                            "<tr><td>Cetuximab</td><td>Tezepelumab</td><td>The risk or severity of adverse effects can be increased when Cetuximab is combined with Tezepelumab.</td></tr>",
                            "<tr><td>Cetuximab</td><td>Tigatuzumab</td><td>The risk or severity of adverse effects can be increased when Cetuximab is combined with Tigatuzumab.</td></tr>",
                            "<tr><td>Cetuximab</td><td>Telisotuzumab vedotin</td><td>The risk or severity of adverse effects can be increased when Cetuximab is combined with Telisotuzumab vedotin.</td></tr>",
                            "<tr><td>Cetuximab</td><td>Utomilumab</td><td>The risk or severity of adverse effects can be increased when Cetuximab is combined with Utomilumab.</td></tr>",
                            "<tr><td>Cetuximab</td><td>Zolbetuximab</td><td>The risk or severity of adverse effects can be increased when Cetuximab is combined with Zolbetuximab.</td></tr>",
                            "<tr><td>Cetuximab</td><td>Ponezumab</td><td>The risk or severity of adverse effects can be increased when Cetuximab is combined with Ponezumab.</td></tr>",
                            "<tr><td>Cetuximab</td><td>Asunercept</td><td>The risk or severity of adverse effects can be increased when Cetuximab is combined with Asunercept.</td></tr>",
                            "<tr><td>Cetuximab</td><td>Suvratoxumab</td><td>The risk or severity of adverse effects can be increased when Cetuximab is combined with Suvratoxumab.</td></tr>",
                            "<tr><td>Cetuximab</td><td>Mitazalimab</td><td>The risk or severity of adverse effects can be increased when Cetuximab is combined with Mitazalimab.</td></tr>",
                            "<tr><td>Cetuximab</td><td>Nemolizumab</td><td>The risk or severity of adverse effects can be increased when Cetuximab is combined with Nemolizumab.</td></tr>",
                            "<tr><td>Cetuximab</td><td>Bleselumab</td><td>The risk or severity of adverse effects can be increased when Cetuximab is combined with Bleselumab.</td></tr>",
                            "<tr><td>Cetuximab</td><td>Gedivumab</td><td>The risk or severity of adverse effects can be increased when Cetuximab is combined with Gedivumab.</td></tr>",
                            "<tr><td>Cetuximab</td><td>Valanafusp alfa</td><td>The risk or severity of adverse effects can be increased when Cetuximab is combined with Valanafusp alfa.</td></tr>",
                            "<tr><td>Cetuximab</td><td>Sofituzumab vedotin</td><td>The risk or severity of adverse effects can be increased when Cetuximab is combined with Sofituzumab vedotin.</td></tr>",
                            "<tr><td>Cetuximab</td><td>Istiratumab</td><td>The risk or severity of adverse effects can be increased when Cetuximab is combined with Istiratumab.</td></tr>",
                            "<tr><td>Cetuximab</td><td>Pidilizumab</td><td>The risk or severity of adverse effects can be increased when Cetuximab is combined with Pidilizumab.</td></tr>",
                            "<tr><td>Cetuximab</td><td>GMA-161</td><td>The risk or severity of adverse effects can be increased when Cetuximab is combined with GMA-161.</td></tr>",
                            "<tr><td>Cetuximab</td><td>Ladiratuzumab vedotin</td><td>The risk or severity of adverse effects can be increased when Cetuximab is combined with Ladiratuzumab vedotin.</td></tr>",
                            "<tr><td>Cetuximab</td><td>Tomaralimab</td><td>The risk or severity of adverse effects can be increased when Cetuximab is combined with Tomaralimab.</td></tr>",
                            "<tr><td>Cetuximab</td><td>Vesencumab</td><td>The risk or severity of adverse effects can be increased when Cetuximab is combined with Vesencumab.</td></tr>",
                            "<tr><td>Cetuximab</td><td>Pinatuzumab vedotin</td><td>The risk or severity of adverse effects can be increased when Cetuximab is combined with Pinatuzumab vedotin.</td></tr>",
                            "<tr><td>Cetuximab</td><td>Lulizumab pegol</td><td>The risk or severity of adverse effects can be increased when Cetuximab is combined with Lulizumab pegol.</td></tr>",
                            "<tr><td>Cetuximab</td><td>Lorukafusp alfa</td><td>The risk or severity of adverse effects can be increased when Cetuximab is combined with Lorukafusp alfa.</td></tr>",
                            "<tr><td>Cetuximab</td><td>Naratuximab emtansine</td><td>The risk or severity of adverse effects can be increased when Cetuximab is combined with Naratuximab emtansine.</td></tr>",
                            "<tr><td>Cetuximab</td><td>Zenocutuzumab</td><td>The risk or severity of adverse effects can be increased when Cetuximab is combined with Zenocutuzumab.</td></tr>",
                            "<tr><td>Cetuximab</td><td>Atoltivimab</td><td>The risk or severity of adverse effects can be increased when Cetuximab is combined with Atoltivimab.</td></tr>",
                            "<tr><td>Cetuximab</td><td>Maftivimab</td><td>The risk or severity of adverse effects can be increased when Cetuximab is combined with Maftivimab.</td></tr>",
                            "<tr><td>Cetuximab</td><td>Odesivimab</td><td>The risk or severity of adverse effects can be increased when Cetuximab is combined with Odesivimab.</td></tr>",
                            "<tr><td>Cetuximab</td><td>Belantamab mafodotin</td><td>The risk or severity of adverse effects can be increased when Cetuximab is combined with Belantamab mafodotin.</td></tr>",
                            "<tr><td>Cetuximab</td><td>Ansuvimab</td><td>The risk or severity of adverse effects can be increased when Cetuximab is combined with Ansuvimab.</td></tr>",
                            "<tr><td>Cetuximab</td><td>Bamlanivimab</td><td>The risk or severity of adverse effects can be increased when Cetuximab is combined with Bamlanivimab.</td></tr>",
                            "<tr><td>Cetuximab</td><td>Hepatitis B immune globulin</td><td>The risk or severity of adverse effects can be increased when Cetuximab is combined with Hepatitis B immune globulin.</td></tr>",
                            "<tr><td>Cetuximab</td><td>Human Rho(D) immune globulin</td><td>The risk or severity of adverse effects can be increased when Cetuximab is combined with Human Rho(D) immune globulin.</td></tr>",
                            "<tr><td>Cetuximab</td><td>Dostarlimab</td><td>The risk or severity of adverse effects can be increased when Cetuximab is combined with Dostarlimab.</td></tr>",
                            "<tr><td>Cetuximab</td><td>Certolizumab pegol</td><td>The risk or severity of adverse effects can be increased when Cetuximab is combined with Certolizumab pegol.</td></tr>",
                            "<tr><td>Cetuximab</td><td>Inolimomab</td><td>The risk or severity of adverse effects can be increased when Cetuximab is combined with Inolimomab.</td></tr>",
                            "<tr><td>Cetuximab</td><td>Pentaglobin</td><td>The risk or severity of adverse effects can be increased when Cetuximab is combined with Pentaglobin.</td></tr>",
                            "<tr><td>Cetuximab</td><td>Abagovomab</td><td>The risk or severity of adverse effects can be increased when Cetuximab is combined with Abagovomab.</td></tr>",
                            "<tr><td>Cetuximab</td><td>Efungumab</td><td>The risk or severity of adverse effects can be increased when Cetuximab is combined with Efungumab.</td></tr>",
                            "<tr><td>Cetuximab</td><td>Foralumab</td><td>The risk or severity of adverse effects can be increased when Cetuximab is combined with Foralumab.</td></tr>",
                            "<tr><td>Cetuximab</td><td>Indatuximab ravtansine</td><td>The risk or severity of adverse effects can be increased when Cetuximab is combined with Indatuximab ravtansine.</td></tr>",
                            "<tr><td>Cetuximab</td><td>Magrolimab</td><td>The risk or severity of adverse effects can be increased when Cetuximab is combined with Magrolimab.</td></tr>",
                            "<tr><td>Cetuximab</td><td>Olinvacimab</td><td>The risk or severity of adverse effects can be increased when Cetuximab is combined with Olinvacimab.</td></tr>",
                            "<tr><td>Cetuximab</td><td>Actoxumab</td><td>The risk or severity of adverse effects can be increased when Cetuximab is combined with Actoxumab.</td></tr>",
                            "<tr><td>Cetuximab</td><td>Volagidemab</td><td>The risk or severity of adverse effects can be increased when Cetuximab is combined with Volagidemab.</td></tr>",
                            "<tr><td>Cetuximab</td><td>Bentracimab</td><td>The risk or severity of adverse effects can be increased when Cetuximab is combined with Bentracimab.</td></tr>",
                            "<tr><td>Cetuximab</td><td>Amivantamab</td><td>The risk or severity of adverse effects can be increased when Cetuximab is combined with Amivantamab.</td></tr>",
                            "<tr><td>Cetuximab</td><td>Ebola Zaire vaccine (live, attenuated)</td><td>The therapeutic efficacy of Ebola Zaire vaccine (live, attenuated) can be decreased when used in combination with Cetuximab.</td></tr>",
                            "<tr><td>Cetuximab</td><td>Imlifidase</td><td>The therapeutic efficacy of Cetuximab can be decreased when used in combination with Imlifidase.</td></tr>",
                            "<tr><td>Cetuximab</td><td>Darbepoetin alfa</td><td>The risk or severity of Thrombosis can be increased when Darbepoetin alfa is combined with Cetuximab.</td></tr>",
                            "<tr><td>Cetuximab</td><td>Erythropoietin</td><td>The risk or severity of Thrombosis can be increased when Erythropoietin is combined with Cetuximab.</td></tr>",
                            "<tr><td>Cetuximab</td><td>Peginesatide</td><td>The risk or severity of Thrombosis can be increased when Peginesatide is combined with Cetuximab.</td></tr>",
                            "<tr><td>Cetuximab</td><td>Methoxy polyethylene glycol-epoetin beta</td><td>The risk or severity of Thrombosis can be increased when Methoxy polyethylene glycol-epoetin beta is combined with Cetuximab.</td></tr>",
                            "<tr><td>Cetuximab</td><td>Imdevimab</td><td>The risk or severity of adverse effects can be increased when Cetuximab is combined with Imdevimab.</td></tr>",
                            "<tr><td>Cetuximab</td><td>Casirivimab</td><td>The risk or severity of adverse effects can be increased when Cetuximab is combined with Casirivimab.</td></tr>",
                            "<tr><td>Cetuximab</td><td>Cilgavimab</td><td>The risk or severity of adverse effects can be increased when Cetuximab is combined with Cilgavimab.</td></tr>",
                            "<tr><td>Cetuximab</td><td>Tixagevimab</td><td>The risk or severity of adverse effects can be increased when Cetuximab is combined with Tixagevimab.</td></tr>",
                            "<tr><td>Cetuximab</td><td>Sotrovimab</td><td>The risk or severity of adverse effects can be increased when Cetuximab is combined with Sotrovimab.</td></tr>",
                            "<tr><td>Cetuximab</td><td>Loncastuximab tesirine</td><td>The risk or severity of adverse effects can be increased when Cetuximab is combined with Loncastuximab tesirine.</td></tr>",
                            "<tr><td>Cetuximab</td><td>Tisotumab vedotin</td><td>The risk or severity of adverse effects can be increased when Cetuximab is combined with Tisotumab vedotin.</td></tr>",
                            "<tr><td>Cetuximab</td><td>Sutimlimab</td><td>The risk or severity of adverse effects can be increased when Cetuximab is combined with Sutimlimab.</td></tr>",
                            "<tr><td>Cetuximab</td><td>Bebtelovimab</td><td>The risk or severity of adverse effects can be increased when Cetuximab is combined with Bebtelovimab.</td></tr>",
                            "<tr><td>Cetuximab</td><td>Mosunetuzumab</td><td>The risk or severity of adverse effects can be increased when Cetuximab is combined with Mosunetuzumab.</td></tr>",
                            "<tr><td>Cetuximab</td><td>Spesolimab</td><td>The risk or severity of adverse effects can be increased when Cetuximab is combined with Spesolimab.</td></tr>",
                            "<tr><td>Cetuximab</td><td>Eflapegrastim</td><td>The risk or severity of adverse effects can be increased when Cetuximab is combined with Eflapegrastim.</td></tr>",
                            "<tr><td>Cetuximab</td><td>Lidocaine</td><td>The risk or severity of methemoglobinemia can be increased when Cetuximab is combined with Lidocaine.</td></tr>",
                            "<tr><td>Cetuximab</td><td>Ropivacaine</td><td>The risk or severity of methemoglobinemia can be increased when Cetuximab is combined with Ropivacaine.</td></tr>",
                            "<tr><td>Cetuximab</td><td>Bupivacaine</td><td>The risk or severity of methemoglobinemia can be increased when Cetuximab is combined with Bupivacaine.</td></tr>",
                            "<tr><td>Cetuximab</td><td>Cinchocaine</td><td>The risk or severity of methemoglobinemia can be increased when Cetuximab is combined with Cinchocaine.</td></tr>",
                            "<tr><td>Cetuximab</td><td>Dyclonine</td><td>The risk or severity of methemoglobinemia can be increased when Cetuximab is combined with Dyclonine.</td></tr>",
                            "<tr><td>Cetuximab</td><td>Procaine</td><td>The risk or severity of methemoglobinemia can be increased when Cetuximab is combined with Procaine.</td></tr>",
                            "<tr><td>Cetuximab</td><td>Prilocaine</td><td>The risk or severity of methemoglobinemia can be increased when Cetuximab is combined with Prilocaine.</td></tr>",
                            "<tr><td>Cetuximab</td><td>Proparacaine</td><td>The risk or severity of methemoglobinemia can be increased when Cetuximab is combined with Proparacaine.</td></tr>",
                            "<tr><td>Cetuximab</td><td>Meloxicam</td><td>The risk or severity of methemoglobinemia can be increased when Cetuximab is combined with Meloxicam.</td></tr>",
                            "<tr><td>Cetuximab</td><td>Oxybuprocaine</td><td>The risk or severity of methemoglobinemia can be increased when Cetuximab is combined with Oxybuprocaine.</td></tr>",
                            "<tr><td>Cetuximab</td><td>Cocaine</td><td>The risk or severity of methemoglobinemia can be increased when Cetuximab is combined with Cocaine.</td></tr>",
                            "<tr><td>Cetuximab</td><td>Mepivacaine</td><td>The risk or severity of methemoglobinemia can be increased when Cetuximab is combined with Mepivacaine.</td></tr>",
                            "<tr><td>Cetuximab</td><td>Levobupivacaine</td><td>The risk or severity of methemoglobinemia can be increased when Cetuximab is combined with Levobupivacaine.</td></tr>",
                            "<tr><td>Cetuximab</td><td>Diphenhydramine</td><td>The risk or severity of methemoglobinemia can be increased when Cetuximab is combined with Diphenhydramine.</td></tr>",
                            "<tr><td>Cetuximab</td><td>Benzocaine</td><td>The risk or severity of methemoglobinemia can be increased when Cetuximab is combined with Benzocaine.</td></tr>",
                            "<tr><td>Cetuximab</td><td>Chloroprocaine</td><td>The risk or severity of methemoglobinemia can be increased when Cetuximab is combined with Chloroprocaine.</td></tr>",
                            "<tr><td>Cetuximab</td><td>Phenol</td><td>The risk or severity of methemoglobinemia can be increased when Cetuximab is combined with Phenol.</td></tr>",
                            "<tr><td>Cetuximab</td><td>Tetrodotoxin</td><td>The risk or severity of methemoglobinemia can be increased when Cetuximab is combined with Tetrodotoxin.</td></tr>",
                            "<tr><td>Cetuximab</td><td>Benzyl alcohol</td><td>The risk or severity of methemoglobinemia can be increased when Cetuximab is combined with Benzyl alcohol.</td></tr>",
                            "<tr><td>Cetuximab</td><td>Capsaicin</td><td>The risk or severity of methemoglobinemia can be increased when Cetuximab is combined with Capsaicin.</td></tr>",
                            "<tr><td>Cetuximab</td><td>Etidocaine</td><td>The risk or severity of methemoglobinemia can be increased when Cetuximab is combined with Etidocaine.</td></tr>",
                            "<tr><td>Cetuximab</td><td>Articaine</td><td>The risk or severity of methemoglobinemia can be increased when Cetuximab is combined with Articaine.</td></tr>",
                            "<tr><td>Cetuximab</td><td>Tetracaine</td><td>The risk or severity of methemoglobinemia can be increased when Cetuximab is combined with Tetracaine.</td></tr>",
                            "<tr><td>Cetuximab</td><td>Propoxycaine</td><td>The risk or severity of methemoglobinemia can be increased when Cetuximab is combined with Propoxycaine.</td></tr>",
                            "<tr><td>Cetuximab</td><td>Pramocaine</td><td>The risk or severity of methemoglobinemia can be increased when Cetuximab is combined with Pramocaine.</td></tr>",
                            "<tr><td>Cetuximab</td><td>Butamben</td><td>The risk or severity of methemoglobinemia can be increased when Cetuximab is combined with Butamben.</td></tr>",
                            "<tr><td>Cetuximab</td><td>Butacaine</td><td>The risk or severity of methemoglobinemia can be increased when Cetuximab is combined with Butacaine.</td></tr>",
                            "<tr><td>Cetuximab</td><td>Oxetacaine</td><td>The risk or severity of methemoglobinemia can be increased when Cetuximab is combined with Oxetacaine.</td></tr>",
                            "<tr><td>Cetuximab</td><td>Ethyl chloride</td><td>The risk or severity of methemoglobinemia can be increased when Cetuximab is combined with Ethyl chloride.</td></tr>",
                            "<tr><td>Cetuximab</td><td>Butanilicaine</td><td>The risk or severity of methemoglobinemia can be increased when Cetuximab is combined with Butanilicaine.</td></tr>",
                            "<tr><td>Cetuximab</td><td>Metabutethamine</td><td>The risk or severity of methemoglobinemia can be increased when Cetuximab is combined with Metabutethamine.</td></tr>",
                            "<tr><td>Cetuximab</td><td>Quinisocaine</td><td>The risk or severity of methemoglobinemia can be increased when Cetuximab is combined with Quinisocaine.</td></tr>",
                            "</table>"
                        ]
                    }
                }
            ],
            "execution_count": 27
        },
        {
            "cell_type": "markdown",
            "source": [
                "## 2\\. Drug-pair interaction checker\r\n",
                "\r\n",
                "Find all known drug interactions in literature for a given pair of drugs. \r\n",
                "Suppose, in this case, we take Heparin (atc: B01AB51) and Cyclosporine (atc: L04AD01)"
            ],
            "metadata": {
                "language": "sql",
                "azdata_cell_guid": "2bda2b8f-c310-4d46-87cb-d9f378297c9c"
            },
            "attachments": {}
        },
        {
            "cell_type": "code",
            "source": [
                "SELECT Drug1.name AS 'Source Drug', Drug2.name AS 'Interacting Drug', [dbo].[drug_drug_edges].[desc] AS 'Effect of Interaction'\r\n",
                "FROM drug_nodes Drug1, drug_drug_edges, drug_nodes Drug2\r\n",
                "WHERE MATCH(Drug1-(drug_drug_edges)->Drug2)\r\n",
                "AND Drug1.atc = 'B01AB51'\r\n",
                "AND Drug2.atc = 'L04AD01'"
            ],
            "metadata": {
                "language": "sql",
                "azdata_cell_guid": "81109ee0-a729-489f-a2bf-e365426e1ca5",
                "tags": []
            },
            "outputs": [
                {
                    "output_type": "display_data",
                    "data": {
                        "text/html": "(1 row affected)"
                    },
                    "metadata": {}
                },
                {
                    "output_type": "display_data",
                    "data": {
                        "text/html": "Total execution time: 00:00:00.101"
                    },
                    "metadata": {}
                },
                {
                    "output_type": "execute_result",
                    "metadata": {},
                    "execution_count": 5,
                    "data": {
                        "application/vnd.dataresource+json": {
                            "schema": {
                                "fields": [
                                    {
                                        "name": "Source Drug"
                                    },
                                    {
                                        "name": "Interacting Drug"
                                    },
                                    {
                                        "name": "Effect of Interaction"
                                    }
                                ]
                            },
                            "data": [
                                {
                                    "Source Drug": "Heparin",
                                    "Interacting Drug": "Cyclosporine",
                                    "Effect of Interaction": "The risk or severity of hyperkalemia can be increased when Cyclosporine is combined with Heparin."
                                }
                            ]
                        },
                        "text/html": [
                            "<table>",
                            "<tr><th>Source Drug</th><th>Interacting Drug</th><th>Effect of Interaction</th></tr>",
                            "<tr><td>Heparin</td><td>Cyclosporine</td><td>The risk or severity of hyperkalemia can be increased when Cyclosporine is combined with Heparin.</td></tr>",
                            "</table>"
                        ]
                    }
                }
            ],
            "execution_count": 5
        },
        {
            "cell_type": "markdown",
            "source": [
                "## 3\\. Drug-set interaction checker\n",
                "\n",
                "Find all known drug interactions in literature for a given set of drugs used in combination.\n",
                "The following is an example in Neurologie. \n",
                ""
            ],
            "metadata": {
                "language": "sql",
                "azdata_cell_guid": "866040a3-ca90-47aa-8831-16dad5e1ba43"
            },
            "attachments": {}
        },
        {
            "cell_type": "code",
            "source": [
                "DECLARE @drugSet_neurologie TABLE ([atc] NVARCHAR(8))\r\n",
                "INSERT INTO @drugSet_neurologie VALUES ('C10AA05'),('A11DA01'),('A11HA02'),('B01AC06'),('N05BA09')\r\n",
                "\r\n",
                "DROP TABLE IF EXISTS #DDI_temp\r\n",
                "\r\n",
                "SELECT ROW_NUMBER() OVER(Partition BY Drug2.name ORDER BY Drug2.name) as RowNum, Drug1.name AS 'Source Drug', Drug2.name AS 'Interacting Drug', [dbo].[drug_drug_edges].[desc] AS 'Effect of Interaction'\r\n",
                "INTO #DDI_temp\r\n",
                "FROM drug_nodes Drug1, drug_drug_edges, drug_nodes Drug2\r\n",
                "WHERE MATCH(Drug1-(drug_drug_edges)->Drug2)\r\n",
                "AND Drug1.atc IN (SELECT atc FROM @drugSet_neurologie)\r\n",
                "AND Drug2.atc IN (SELECT atc FROM @drugSet_neurologie)\r\n",
                "\r\n",
                "SELECT [Source Drug],[Interacting Drug],[Effect of Interaction] FROM #DDI_temp WHERE RowNum=1"
            ],
            "metadata": {
                "language": "sql",
                "azdata_cell_guid": "0790add8-77b9-4015-a48e-f0f2d2b7349a",
                "tags": [
                    "hide_input"
                ]
            },
            "outputs": [
                {
                    "output_type": "display_data",
                    "data": {
                        "text/html": "(5 rows affected)"
                    },
                    "metadata": {}
                },
                {
                    "output_type": "display_data",
                    "data": {
                        "text/html": "(2 rows affected)"
                    },
                    "metadata": {}
                },
                {
                    "output_type": "display_data",
                    "data": {
                        "text/html": "(2 rows affected)"
                    },
                    "metadata": {}
                },
                {
                    "output_type": "display_data",
                    "data": {
                        "text/html": "Total execution time: 00:00:00.505"
                    },
                    "metadata": {}
                },
                {
                    "output_type": "execute_result",
                    "metadata": {},
                    "execution_count": 6,
                    "data": {
                        "application/vnd.dataresource+json": {
                            "schema": {
                                "fields": [
                                    {
                                        "name": "Source Drug"
                                    },
                                    {
                                        "name": "Interacting Drug"
                                    },
                                    {
                                        "name": "Effect of Interaction"
                                    }
                                ]
                            },
                            "data": [
                                {
                                    "Source Drug": "Clobazam",
                                    "Interacting Drug": "Acetylsalicylic acid",
                                    "Effect of Interaction": "Acetylsalicylic acid may decrease the excretion rate of Clobazam which could result in a higher serum level."
                                },
                                {
                                    "Source Drug": "Acetylsalicylic acid",
                                    "Interacting Drug": "Clobazam",
                                    "Effect of Interaction": "Acetylsalicylic acid may decrease the excretion rate of Clobazam which could result in a higher serum level."
                                }
                            ]
                        },
                        "text/html": [
                            "<table>",
                            "<tr><th>Source Drug</th><th>Interacting Drug</th><th>Effect of Interaction</th></tr>",
                            "<tr><td>Clobazam</td><td>Acetylsalicylic acid</td><td>Acetylsalicylic acid may decrease the excretion rate of Clobazam which could result in a higher serum level.</td></tr>",
                            "<tr><td>Acetylsalicylic acid</td><td>Clobazam</td><td>Acetylsalicylic acid may decrease the excretion rate of Clobazam which could result in a higher serum level.</td></tr>",
                            "</table>"
                        ]
                    }
                }
            ],
            "execution_count": 6
        },
        {
            "cell_type": "markdown",
            "source": [
                "The following is an example in Hematologie."
            ],
            "metadata": {
                "language": "sql",
                "azdata_cell_guid": "11efe480-5de2-45e7-8a3d-48879ebcd3d6"
            },
            "attachments": {}
        },
        {
            "cell_type": "code",
            "source": [
                "DECLARE @drugSet_hematologie TABLE ([atc] NVARCHAR(8))\r\n",
                "INSERT INTO @drugSet_hematologie VALUES ('L04AD01'),('B02BA01'),('J01DE01'),('J02AC01'),('B05XA05')\r\n",
                "\r\n",
                "DROP TABLE IF EXISTS #DDI_temp\r\n",
                "\r\n",
                "SELECT ROW_NUMBER() OVER(Partition BY Drug2.name ORDER BY Drug2.name) as RowNum, Drug1.name AS 'Source Drug', Drug2.name AS 'Interacting Drug', [dbo].[drug_drug_edges].[desc] AS 'Effect of Interaction'\r\n",
                "INTO #DDI_temp\r\n",
                "FROM drug_nodes Drug1, drug_drug_edges, drug_nodes Drug2\r\n",
                "WHERE MATCH(Drug1-(drug_drug_edges)->Drug2)\r\n",
                "AND Drug1.atc IN (SELECT atc FROM @drugSet_hematologie)\r\n",
                "AND Drug2.atc IN (SELECT atc FROM @drugSet_hematologie)\r\n",
                "\r\n",
                "SELECT [Source Drug],[Interacting Drug],[Effect of Interaction] FROM #DDI_temp WHERE RowNum=1"
            ],
            "metadata": {
                "language": "sql",
                "azdata_cell_guid": "3fd266bd-396f-43b1-8199-8bf4e922e320",
                "tags": [
                    "hide_input"
                ]
            },
            "outputs": [
                {
                    "output_type": "display_data",
                    "data": {
                        "text/html": "(5 rows affected)"
                    },
                    "metadata": {}
                },
                {
                    "output_type": "display_data",
                    "data": {
                        "text/html": "(6 rows affected)"
                    },
                    "metadata": {}
                },
                {
                    "output_type": "display_data",
                    "data": {
                        "text/html": "(3 rows affected)"
                    },
                    "metadata": {}
                },
                {
                    "output_type": "display_data",
                    "data": {
                        "text/html": "Total execution time: 00:00:00.526"
                    },
                    "metadata": {}
                },
                {
                    "output_type": "execute_result",
                    "metadata": {},
                    "execution_count": 7,
                    "data": {
                        "application/vnd.dataresource+json": {
                            "schema": {
                                "fields": [
                                    {
                                        "name": "Source Drug"
                                    },
                                    {
                                        "name": "Interacting Drug"
                                    },
                                    {
                                        "name": "Effect of Interaction"
                                    }
                                ]
                            },
                            "data": [
                                {
                                    "Source Drug": "Cyclosporine",
                                    "Interacting Drug": "Cefepime",
                                    "Effect of Interaction": "The risk or severity of nephrotoxicity can be increased when Cyclosporine is combined with Cefepime."
                                },
                                {
                                    "Source Drug": "Cefepime",
                                    "Interacting Drug": "Cyclosporine",
                                    "Effect of Interaction": "The risk or severity of nephrotoxicity can be increased when Cyclosporine is combined with Cefepime."
                                },
                                {
                                    "Source Drug": "Cefepime",
                                    "Interacting Drug": "Phylloquinone",
                                    "Effect of Interaction": "Cefepime may decrease the excretion rate of Phylloquinone which could result in a higher serum level."
                                }
                            ]
                        },
                        "text/html": [
                            "<table>",
                            "<tr><th>Source Drug</th><th>Interacting Drug</th><th>Effect of Interaction</th></tr>",
                            "<tr><td>Cyclosporine</td><td>Cefepime</td><td>The risk or severity of nephrotoxicity can be increased when Cyclosporine is combined with Cefepime.</td></tr>",
                            "<tr><td>Cefepime</td><td>Cyclosporine</td><td>The risk or severity of nephrotoxicity can be increased when Cyclosporine is combined with Cefepime.</td></tr>",
                            "<tr><td>Cefepime</td><td>Phylloquinone</td><td>Cefepime may decrease the excretion rate of Phylloquinone which could result in a higher serum level.</td></tr>",
                            "</table>"
                        ]
                    }
                }
            ],
            "execution_count": 7
        },
        {
            "cell_type": "markdown",
            "source": [
                "Cardiologie"
            ],
            "metadata": {
                "language": "sql",
                "azdata_cell_guid": "838b9cd2-6632-47d1-8f49-c0f4c917ace3"
            },
            "attachments": {}
        },
        {
            "cell_type": "code",
            "source": [
                "DECLARE @drugSet_cardio TABLE ([atc] NVARCHAR(8))\r\n",
                "INSERT INTO @drugSet_cardio VALUES ('N02BE01'),('A02BC03'),('C03CA01'),('B01AC06'),('C07AB07')\r\n",
                "\r\n",
                "DROP TABLE IF EXISTS #DDI_temp\r\n",
                "\r\n",
                "SELECT ROW_NUMBER() OVER(Partition BY Drug2.name ORDER BY Drug2.name) as RowNum, Drug1.name AS 'Source Drug', Drug2.name AS 'Interacting Drug', [dbo].[drug_drug_edges].[desc] AS 'Effect of Interaction'\r\n",
                "INTO #DDI_temp\r\n",
                "FROM drug_nodes Drug1, drug_drug_edges, drug_nodes Drug2\r\n",
                "WHERE MATCH(Drug1-(drug_drug_edges)->Drug2)\r\n",
                "AND Drug1.atc IN (SELECT atc FROM @drugSet_cardio)\r\n",
                "AND Drug2.atc IN (SELECT atc FROM @drugSet_cardio)\r\n",
                "\r\n",
                "SELECT [Source Drug],[Interacting Drug],[Effect of Interaction] FROM #DDI_temp WHERE RowNum=1"
            ],
            "metadata": {
                "language": "sql",
                "azdata_cell_guid": "58e1b490-722c-4643-9bea-96349f273e5a",
                "tags": [
                    "hide_input"
                ]
            },
            "outputs": [
                {
                    "output_type": "display_data",
                    "data": {
                        "text/html": "(5 rows affected)"
                    },
                    "metadata": {}
                },
                {
                    "output_type": "display_data",
                    "data": {
                        "text/html": "(2 rows affected)"
                    },
                    "metadata": {}
                },
                {
                    "output_type": "display_data",
                    "data": {
                        "text/html": "(2 rows affected)"
                    },
                    "metadata": {}
                },
                {
                    "output_type": "display_data",
                    "data": {
                        "text/html": "Total execution time: 00:00:00.511"
                    },
                    "metadata": {}
                },
                {
                    "output_type": "execute_result",
                    "metadata": {},
                    "execution_count": 8,
                    "data": {
                        "application/vnd.dataresource+json": {
                            "schema": {
                                "fields": [
                                    {
                                        "name": "Source Drug"
                                    },
                                    {
                                        "name": "Interacting Drug"
                                    },
                                    {
                                        "name": "Effect of Interaction"
                                    }
                                ]
                            },
                            "data": [
                                {
                                    "Source Drug": "Lansoprazole",
                                    "Interacting Drug": "Acetylsalicylic acid",
                                    "Effect of Interaction": "The metabolism of Acetylsalicylic acid can be decreased when combined with Lansoprazole."
                                },
                                {
                                    "Source Drug": "Acetylsalicylic acid",
                                    "Interacting Drug": "Lansoprazole",
                                    "Effect of Interaction": "The metabolism of Acetylsalicylic acid can be decreased when combined with Lansoprazole."
                                }
                            ]
                        },
                        "text/html": [
                            "<table>",
                            "<tr><th>Source Drug</th><th>Interacting Drug</th><th>Effect of Interaction</th></tr>",
                            "<tr><td>Lansoprazole</td><td>Acetylsalicylic acid</td><td>The metabolism of Acetylsalicylic acid can be decreased when combined with Lansoprazole.</td></tr>",
                            "<tr><td>Acetylsalicylic acid</td><td>Lansoprazole</td><td>The metabolism of Acetylsalicylic acid can be decreased when combined with Lansoprazole.</td></tr>",
                            "</table>"
                        ]
                    }
                }
            ],
            "execution_count": 8
        },
        {
            "cell_type": "markdown",
            "source": [
                "Infectious diseases"
            ],
            "metadata": {
                "language": "sql",
                "azdata_cell_guid": "bb992de5-8acc-4ae9-aea0-e61f5310b1dd"
            },
            "attachments": {}
        },
        {
            "cell_type": "code",
            "source": [
                "DECLARE @drugSet_malinf TABLE ([atc] NVARCHAR(8))\r\n",
                "INSERT INTO @drugSet_malinf VALUES ('N02BE01'),('C03CA01'),('B01AF02'),('A12BA01'),('J01CA04')\r\n",
                "\r\n",
                "DROP TABLE IF EXISTS #DDI_temp\r\n",
                "\r\n",
                "SELECT ROW_NUMBER() OVER(Partition BY Drug2.name ORDER BY Drug2.name) as RowNum, Drug1.name AS 'Source Drug', Drug2.name AS 'Interacting Drug', [dbo].[drug_drug_edges].[desc] AS 'Effect of Interaction'\r\n",
                "INTO #DDI_temp\r\n",
                "FROM drug_nodes Drug1, drug_drug_edges, drug_nodes Drug2\r\n",
                "WHERE MATCH(Drug1-(drug_drug_edges)->Drug2)\r\n",
                "AND Drug1.atc IN (SELECT atc FROM @drugSet_malinf)\r\n",
                "AND Drug2.atc IN (SELECT atc FROM @drugSet_malinf)\r\n",
                "\r\n",
                "SELECT [Source Drug],[Interacting Drug],[Effect of Interaction] FROM #DDI_temp WHERE RowNum=1"
            ],
            "metadata": {
                "language": "sql",
                "azdata_cell_guid": "7f0b7874-a277-468e-aa3d-ed7c4fe01a06",
                "tags": [
                    "hide_input"
                ]
            },
            "outputs": [
                {
                    "output_type": "display_data",
                    "data": {
                        "text/html": "(5 rows affected)"
                    },
                    "metadata": {}
                },
                {
                    "output_type": "display_data",
                    "data": {
                        "text/html": "(0 rows affected)"
                    },
                    "metadata": {}
                },
                {
                    "output_type": "display_data",
                    "data": {
                        "text/html": "(0 rows affected)"
                    },
                    "metadata": {}
                },
                {
                    "output_type": "display_data",
                    "data": {
                        "text/html": "Total execution time: 00:00:00.505"
                    },
                    "metadata": {}
                },
                {
                    "output_type": "execute_result",
                    "metadata": {},
                    "execution_count": 9,
                    "data": {
                        "application/vnd.dataresource+json": {
                            "schema": {
                                "fields": [
                                    {
                                        "name": "Source Drug"
                                    },
                                    {
                                        "name": "Interacting Drug"
                                    },
                                    {
                                        "name": "Effect of Interaction"
                                    }
                                ]
                            },
                            "data": []
                        },
                        "text/html": [
                            "<table>",
                            "<tr><th>Source Drug</th><th>Interacting Drug</th><th>Effect of Interaction</th></tr>",
                            "</table>"
                        ]
                    }
                }
            ],
            "execution_count": 9
        },
        {
            "cell_type": "markdown",
            "source": [
                "## 4\\. Drug-gene interaction checker\n",
                "\n",
                "\n",
                "Find all known drug-gene interactions in literature for a given drug atc.\\\n",
                "Here, we again use Cyclosporine."
            ],
            "metadata": {
                "language": "",
                "azdata_cell_guid": "c9ea372b-6f07-4c1c-9307-36999b4bd0ad"
            },
            "attachments": {}
        },
        {
            "cell_type": "code",
            "source": [
                "SELECT Drug1.name AS [Drug 1], Genes.gene_names, drug_gene_edges.action\r\n",
                "FROM drug_nodes Drug1, drug_gene_edges, gene_nodes Genes\r\n",
                "WHERE MATCH(Drug1-(drug_gene_edges)->Genes)\r\n",
                "AND Drug1.atc = 'L04AD01'"
            ],
            "metadata": {
                "language": "sql",
                "azdata_cell_guid": "a755ddaa-90ee-4b27-b3a4-96e190a88e07"
            },
            "outputs": [
                {
                    "output_type": "display_data",
                    "data": {
                        "text/html": "(12 rows affected)"
                    },
                    "metadata": {}
                },
                {
                    "output_type": "display_data",
                    "data": {
                        "text/html": "Total execution time: 00:00:00.011"
                    },
                    "metadata": {}
                },
                {
                    "output_type": "execute_result",
                    "metadata": {},
                    "execution_count": 13,
                    "data": {
                        "application/vnd.dataresource+json": {
                            "schema": {
                                "fields": [
                                    {
                                        "name": "Drug 1"
                                    },
                                    {
                                        "name": "gene_names"
                                    },
                                    {
                                        "name": "action"
                                    }
                                ]
                            },
                            "data": [
                                {
                                    "Drug 1": "Cyclosporine",
                                    "gene_names": "CAMLG",
                                    "action": "binder"
                                },
                                {
                                    "Drug 1": "Cyclosporine",
                                    "gene_names": "CAML",
                                    "action": "binder"
                                },
                                {
                                    "Drug 1": "Cyclosporine",
                                    "gene_names": "GET2",
                                    "action": "binder"
                                },
                                {
                                    "Drug 1": "Cyclosporine",
                                    "gene_names": "PPP3R2",
                                    "action": "inhibitor"
                                },
                                {
                                    "Drug 1": "Cyclosporine",
                                    "gene_names": "CBLP",
                                    "action": "inhibitor"
                                },
                                {
                                    "Drug 1": "Cyclosporine",
                                    "gene_names": "PPP3RL",
                                    "action": "inhibitor"
                                },
                                {
                                    "Drug 1": "Cyclosporine",
                                    "gene_names": "PPIA",
                                    "action": "inhibitor"
                                },
                                {
                                    "Drug 1": "Cyclosporine",
                                    "gene_names": "CYPA",
                                    "action": "inhibitor"
                                },
                                {
                                    "Drug 1": "Cyclosporine",
                                    "gene_names": "PPIA",
                                    "action": "binder"
                                },
                                {
                                    "Drug 1": "Cyclosporine",
                                    "gene_names": "CYPA",
                                    "action": "binder"
                                },
                                {
                                    "Drug 1": "Cyclosporine",
                                    "gene_names": "PPIF",
                                    "action": "binder"
                                },
                                {
                                    "Drug 1": "Cyclosporine",
                                    "gene_names": "CYP3",
                                    "action": "binder"
                                }
                            ]
                        },
                        "text/html": [
                            "<table>",
                            "<tr><th>Drug 1</th><th>gene_names</th><th>action</th></tr>",
                            "<tr><td>Cyclosporine</td><td>CAMLG</td><td>binder</td></tr>",
                            "<tr><td>Cyclosporine</td><td>CAML</td><td>binder</td></tr>",
                            "<tr><td>Cyclosporine</td><td>GET2</td><td>binder</td></tr>",
                            "<tr><td>Cyclosporine</td><td>PPP3R2</td><td>inhibitor</td></tr>",
                            "<tr><td>Cyclosporine</td><td>CBLP</td><td>inhibitor</td></tr>",
                            "<tr><td>Cyclosporine</td><td>PPP3RL</td><td>inhibitor</td></tr>",
                            "<tr><td>Cyclosporine</td><td>PPIA</td><td>inhibitor</td></tr>",
                            "<tr><td>Cyclosporine</td><td>CYPA</td><td>inhibitor</td></tr>",
                            "<tr><td>Cyclosporine</td><td>PPIA</td><td>binder</td></tr>",
                            "<tr><td>Cyclosporine</td><td>CYPA</td><td>binder</td></tr>",
                            "<tr><td>Cyclosporine</td><td>PPIF</td><td>binder</td></tr>",
                            "<tr><td>Cyclosporine</td><td>CYP3</td><td>binder</td></tr>",
                            "</table>"
                        ]
                    }
                }
            ],
            "execution_count": 13
        },
        {
            "cell_type": "code",
            "source": [
                "SELECT Drug1.name AS [Drug 1], dge1.action AS Action1, Genes.gene_names AS targets, Genes.uniprotkb_id, dge2.action AS Action2, Drug2.name AS [Drug 2]\r\n",
                "FROM drug_nodes Drug1, drug_gene_edges dge1, gene_nodes Genes, drug_gene_edges dge2, drug_nodes Drug2\r\n",
                "WHERE MATCH(Drug1-(dge1)->Genes<-(dge2)-Drug2)\r\n",
                "AND Drug1.atc = 'L04AD01'\r\n",
                "AND Drug2.atc != Drug1.atc\r\n",
                "ORDER BY [targets] ASC"
            ],
            "metadata": {
                "language": "sql",
                "azdata_cell_guid": "9d867c20-a8e2-4d0f-bbc0-da3327e7c049"
            },
            "outputs": [
                {
                    "output_type": "display_data",
                    "data": {
                        "text/html": "(10 rows affected)"
                    },
                    "metadata": {}
                },
                {
                    "output_type": "display_data",
                    "data": {
                        "text/html": "Total execution time: 00:00:00.030"
                    },
                    "metadata": {}
                },
                {
                    "output_type": "execute_result",
                    "metadata": {},
                    "execution_count": 58,
                    "data": {
                        "application/vnd.dataresource+json": {
                            "schema": {
                                "fields": [
                                    {
                                        "name": "Drug 1"
                                    },
                                    {
                                        "name": "Action1"
                                    },
                                    {
                                        "name": "targets"
                                    },
                                    {
                                        "name": "uniprotkb_id"
                                    },
                                    {
                                        "name": "Action2"
                                    },
                                    {
                                        "name": "Drug 2"
                                    }
                                ]
                            },
                            "data": [
                                {
                                    "Drug 1": "Cyclosporine",
                                    "Action1": "binder",
                                    "targets": "CAML",
                                    "uniprotkb_id": "P49069",
                                    "Action2": "binder",
                                    "Drug 2": "Voclosporin"
                                },
                                {
                                    "Drug 1": "Cyclosporine",
                                    "Action1": "binder",
                                    "targets": "CAMLG",
                                    "uniprotkb_id": "P49069",
                                    "Action2": "binder",
                                    "Drug 2": "Voclosporin"
                                },
                                {
                                    "Drug 1": "Cyclosporine",
                                    "Action1": "inhibitor",
                                    "targets": "CBLP",
                                    "uniprotkb_id": "Q96LZ3",
                                    "Action2": "inhibitor",
                                    "Drug 2": "Voclosporin"
                                },
                                {
                                    "Drug 1": "Cyclosporine",
                                    "Action1": "inhibitor",
                                    "targets": "CYPA",
                                    "uniprotkb_id": "P62937",
                                    "Action2": "ligand",
                                    "Drug 2": "Artenimol"
                                },
                                {
                                    "Drug 1": "Cyclosporine",
                                    "Action1": "binder",
                                    "targets": "CYPA",
                                    "uniprotkb_id": "P62937",
                                    "Action2": "ligand",
                                    "Drug 2": "Artenimol"
                                },
                                {
                                    "Drug 1": "Cyclosporine",
                                    "Action1": "binder",
                                    "targets": "GET2",
                                    "uniprotkb_id": "P49069",
                                    "Action2": "binder",
                                    "Drug 2": "Voclosporin"
                                },
                                {
                                    "Drug 1": "Cyclosporine",
                                    "Action1": "inhibitor",
                                    "targets": "PPIA",
                                    "uniprotkb_id": "P62937",
                                    "Action2": "ligand",
                                    "Drug 2": "Artenimol"
                                },
                                {
                                    "Drug 1": "Cyclosporine",
                                    "Action1": "binder",
                                    "targets": "PPIA",
                                    "uniprotkb_id": "P62937",
                                    "Action2": "ligand",
                                    "Drug 2": "Artenimol"
                                },
                                {
                                    "Drug 1": "Cyclosporine",
                                    "Action1": "inhibitor",
                                    "targets": "PPP3R2",
                                    "uniprotkb_id": "Q96LZ3",
                                    "Action2": "inhibitor",
                                    "Drug 2": "Voclosporin"
                                },
                                {
                                    "Drug 1": "Cyclosporine",
                                    "Action1": "inhibitor",
                                    "targets": "PPP3RL",
                                    "uniprotkb_id": "Q96LZ3",
                                    "Action2": "inhibitor",
                                    "Drug 2": "Voclosporin"
                                }
                            ]
                        },
                        "text/html": [
                            "<table>",
                            "<tr><th>Drug 1</th><th>Action1</th><th>targets</th><th>uniprotkb_id</th><th>Action2</th><th>Drug 2</th></tr>",
                            "<tr><td>Cyclosporine</td><td>binder</td><td>CAML</td><td>P49069</td><td>binder</td><td>Voclosporin</td></tr>",
                            "<tr><td>Cyclosporine</td><td>binder</td><td>CAMLG</td><td>P49069</td><td>binder</td><td>Voclosporin</td></tr>",
                            "<tr><td>Cyclosporine</td><td>inhibitor</td><td>CBLP</td><td>Q96LZ3</td><td>inhibitor</td><td>Voclosporin</td></tr>",
                            "<tr><td>Cyclosporine</td><td>inhibitor</td><td>CYPA</td><td>P62937</td><td>ligand</td><td>Artenimol</td></tr>",
                            "<tr><td>Cyclosporine</td><td>binder</td><td>CYPA</td><td>P62937</td><td>ligand</td><td>Artenimol</td></tr>",
                            "<tr><td>Cyclosporine</td><td>binder</td><td>GET2</td><td>P49069</td><td>binder</td><td>Voclosporin</td></tr>",
                            "<tr><td>Cyclosporine</td><td>inhibitor</td><td>PPIA</td><td>P62937</td><td>ligand</td><td>Artenimol</td></tr>",
                            "<tr><td>Cyclosporine</td><td>binder</td><td>PPIA</td><td>P62937</td><td>ligand</td><td>Artenimol</td></tr>",
                            "<tr><td>Cyclosporine</td><td>inhibitor</td><td>PPP3R2</td><td>Q96LZ3</td><td>inhibitor</td><td>Voclosporin</td></tr>",
                            "<tr><td>Cyclosporine</td><td>inhibitor</td><td>PPP3RL</td><td>Q96LZ3</td><td>inhibitor</td><td>Voclosporin</td></tr>",
                            "</table>"
                        ]
                    }
                }
            ],
            "execution_count": 58
        },
        {
            "cell_type": "markdown",
            "source": [
                "Cyclosporine and Voclosporin can be explored here: [Voclosporin - LiverTox - NCBI Bookshelf (nih.gov)](https:\\www.ncbi.nlm.nih.gov\\books\\NBK574095\\#:~:text=Cyclosporine%20and%20voclosporin%20have%20potent%20immunosuppressive%20activity%2C%20acting,higher%20degree%20of%20selectivity%20and%20somewhat%20more%20potency.)\n",
                "\n",
                "The interaction of Cyclosporine and Artenimol is not present in Drug-drug interactions, but can be futher explored here: [Artemisinin can inhibit the calmodulin-mediated activation of phosphodiesterase in comparison with Cyclosporin A - ScienceDirect](https:\\www.sciencedirect.com\\science\\article\\abs\\pii\\S1567576908002464) and [Eurartesim, INN-piperaquine & INN artenimol](https:\\www.sciencedirect.com\\science\\article\\abs\\pii\\S1567576908002464)"
            ],
            "metadata": {
                "language": "sql",
                "azdata_cell_guid": "ed5296ef-fe51-4dfa-a6d0-757b0faac715"
            },
            "attachments": {}
        },
        {
            "cell_type": "code",
            "source": [
                "DROP TABLE IF EXISTS #temptbl\r\n",
                "\r\n",
                "SELECT Drug1.name AS [Drug 1], dge1.action AS Action1, Genes.gene_names AS targets, Genes.uniprotkb_id, dge2.action AS Action2, Drug2.name AS [Drug 2]\r\n",
                "INTO #temptbl\r\n",
                "FROM drug_nodes Drug1, drug_gene_edges dge1, gene_nodes Genes, drug_gene_edges dge2, drug_nodes Drug2\r\n",
                "WHERE MATCH(Drug1-(dge1)->Genes<-(dge2)-Drug2)\r\n",
                "AND Drug1.atc = 'L04AD01'\r\n",
                "-- AND Drug2.atc != Drug1.atc\r\n",
                "\r\n",
                "-- SELECT * FROM #temptbl\r\n",
                "\r\n",
                "SELECT Disease.vocab_name AS [Disease Name], Disease.MeSH_heading,  Genes.gene_names as [Associated Genes]\r\n",
                "FROM disease_nodes Disease, disease_gene_edges, gene_nodes Genes\r\n",
                "WHERE MATCH (Genes-(disease_gene_edges)->Disease)\r\n",
                "AND Genes.gene_names in (SELECT targets FROM #temptbl)\r\n",
                "ORDER BY [Associated Genes] ASC\r\n",
                ""
            ],
            "metadata": {
                "language": "sql",
                "azdata_cell_guid": "aa31086b-ea5f-4e65-a98a-55c1079cf8f0"
            },
            "outputs": [
                {
                    "output_type": "display_data",
                    "data": {
                        "text/html": "(30 rows affected)"
                    },
                    "metadata": {}
                },
                {
                    "output_type": "display_data",
                    "data": {
                        "text/html": "(30 rows affected)"
                    },
                    "metadata": {}
                },
                {
                    "output_type": "display_data",
                    "data": {
                        "text/html": "(435 rows affected)"
                    },
                    "metadata": {}
                },
                {
                    "output_type": "display_data",
                    "data": {
                        "text/html": "Total execution time: 00:00:00.116"
                    },
                    "metadata": {}
                },
                {
                    "output_type": "execute_result",
                    "metadata": {},
                    "execution_count": 55,
                    "data": {
                        "application/vnd.dataresource+json": {
                            "schema": {
                                "fields": [
                                    {
                                        "name": "Drug 1"
                                    },
                                    {
                                        "name": "Action1"
                                    },
                                    {
                                        "name": "targets"
                                    },
                                    {
                                        "name": "uniprotkb_id"
                                    },
                                    {
                                        "name": "Action2"
                                    },
                                    {
                                        "name": "Drug 2"
                                    }
                                ]
                            },
                            "data": [
                                {
                                    "Drug 1": "Cyclosporine",
                                    "Action1": "binder",
                                    "targets": "CAMLG",
                                    "uniprotkb_id": "P49069",
                                    "Action2": "binder",
                                    "Drug 2": "Cyclosporine"
                                },
                                {
                                    "Drug 1": "Cyclosporine",
                                    "Action1": "binder",
                                    "targets": "CAML",
                                    "uniprotkb_id": "P49069",
                                    "Action2": "binder",
                                    "Drug 2": "Cyclosporine"
                                },
                                {
                                    "Drug 1": "Cyclosporine",
                                    "Action1": "binder",
                                    "targets": "GET2",
                                    "uniprotkb_id": "P49069",
                                    "Action2": "binder",
                                    "Drug 2": "Cyclosporine"
                                },
                                {
                                    "Drug 1": "Cyclosporine",
                                    "Action1": "inhibitor",
                                    "targets": "PPP3R2",
                                    "uniprotkb_id": "Q96LZ3",
                                    "Action2": "inhibitor",
                                    "Drug 2": "Cyclosporine"
                                },
                                {
                                    "Drug 1": "Cyclosporine",
                                    "Action1": "inhibitor",
                                    "targets": "CBLP",
                                    "uniprotkb_id": "Q96LZ3",
                                    "Action2": "inhibitor",
                                    "Drug 2": "Cyclosporine"
                                },
                                {
                                    "Drug 1": "Cyclosporine",
                                    "Action1": "inhibitor",
                                    "targets": "PPP3RL",
                                    "uniprotkb_id": "Q96LZ3",
                                    "Action2": "inhibitor",
                                    "Drug 2": "Cyclosporine"
                                },
                                {
                                    "Drug 1": "Cyclosporine",
                                    "Action1": "inhibitor",
                                    "targets": "PPIA",
                                    "uniprotkb_id": "P62937",
                                    "Action2": "inhibitor",
                                    "Drug 2": "Cyclosporine"
                                },
                                {
                                    "Drug 1": "Cyclosporine",
                                    "Action1": "binder",
                                    "targets": "PPIA",
                                    "uniprotkb_id": "P62937",
                                    "Action2": "inhibitor",
                                    "Drug 2": "Cyclosporine"
                                },
                                {
                                    "Drug 1": "Cyclosporine",
                                    "Action1": "inhibitor",
                                    "targets": "CYPA",
                                    "uniprotkb_id": "P62937",
                                    "Action2": "inhibitor",
                                    "Drug 2": "Cyclosporine"
                                },
                                {
                                    "Drug 1": "Cyclosporine",
                                    "Action1": "binder",
                                    "targets": "CYPA",
                                    "uniprotkb_id": "P62937",
                                    "Action2": "inhibitor",
                                    "Drug 2": "Cyclosporine"
                                },
                                {
                                    "Drug 1": "Cyclosporine",
                                    "Action1": "inhibitor",
                                    "targets": "PPIA",
                                    "uniprotkb_id": "P62937",
                                    "Action2": "binder",
                                    "Drug 2": "Cyclosporine"
                                },
                                {
                                    "Drug 1": "Cyclosporine",
                                    "Action1": "binder",
                                    "targets": "PPIA",
                                    "uniprotkb_id": "P62937",
                                    "Action2": "binder",
                                    "Drug 2": "Cyclosporine"
                                },
                                {
                                    "Drug 1": "Cyclosporine",
                                    "Action1": "inhibitor",
                                    "targets": "CYPA",
                                    "uniprotkb_id": "P62937",
                                    "Action2": "binder",
                                    "Drug 2": "Cyclosporine"
                                },
                                {
                                    "Drug 1": "Cyclosporine",
                                    "Action1": "binder",
                                    "targets": "CYPA",
                                    "uniprotkb_id": "P62937",
                                    "Action2": "binder",
                                    "Drug 2": "Cyclosporine"
                                },
                                {
                                    "Drug 1": "Cyclosporine",
                                    "Action1": "binder",
                                    "targets": "PPIF",
                                    "uniprotkb_id": "P30405",
                                    "Action2": "binder",
                                    "Drug 2": "Cyclosporine"
                                },
                                {
                                    "Drug 1": "Cyclosporine",
                                    "Action1": "binder",
                                    "targets": "CYP3",
                                    "uniprotkb_id": "P30405",
                                    "Action2": "binder",
                                    "Drug 2": "Cyclosporine"
                                },
                                {
                                    "Drug 1": "Cyclosporine",
                                    "Action1": "inhibitor",
                                    "targets": "PPIA",
                                    "uniprotkb_id": "P62937",
                                    "Action2": "binder",
                                    "Drug 2": "Proline"
                                },
                                {
                                    "Drug 1": "Cyclosporine",
                                    "Action1": "binder",
                                    "targets": "PPIA",
                                    "uniprotkb_id": "P62937",
                                    "Action2": "binder",
                                    "Drug 2": "Proline"
                                },
                                {
                                    "Drug 1": "Cyclosporine",
                                    "Action1": "inhibitor",
                                    "targets": "CYPA",
                                    "uniprotkb_id": "P62937",
                                    "Action2": "binder",
                                    "Drug 2": "Proline"
                                },
                                {
                                    "Drug 1": "Cyclosporine",
                                    "Action1": "binder",
                                    "targets": "CYPA",
                                    "uniprotkb_id": "P62937",
                                    "Action2": "binder",
                                    "Drug 2": "Proline"
                                },
                                {
                                    "Drug 1": "Cyclosporine",
                                    "Action1": "inhibitor",
                                    "targets": "PPIA",
                                    "uniprotkb_id": "P62937",
                                    "Action2": "ligand",
                                    "Drug 2": "Artenimol"
                                },
                                {
                                    "Drug 1": "Cyclosporine",
                                    "Action1": "binder",
                                    "targets": "PPIA",
                                    "uniprotkb_id": "P62937",
                                    "Action2": "ligand",
                                    "Drug 2": "Artenimol"
                                },
                                {
                                    "Drug 1": "Cyclosporine",
                                    "Action1": "inhibitor",
                                    "targets": "CYPA",
                                    "uniprotkb_id": "P62937",
                                    "Action2": "ligand",
                                    "Drug 2": "Artenimol"
                                },
                                {
                                    "Drug 1": "Cyclosporine",
                                    "Action1": "binder",
                                    "targets": "CYPA",
                                    "uniprotkb_id": "P62937",
                                    "Action2": "ligand",
                                    "Drug 2": "Artenimol"
                                },
                                {
                                    "Drug 1": "Cyclosporine",
                                    "Action1": "binder",
                                    "targets": "CAMLG",
                                    "uniprotkb_id": "P49069",
                                    "Action2": "binder",
                                    "Drug 2": "Voclosporin"
                                },
                                {
                                    "Drug 1": "Cyclosporine",
                                    "Action1": "binder",
                                    "targets": "CAML",
                                    "uniprotkb_id": "P49069",
                                    "Action2": "binder",
                                    "Drug 2": "Voclosporin"
                                },
                                {
                                    "Drug 1": "Cyclosporine",
                                    "Action1": "binder",
                                    "targets": "GET2",
                                    "uniprotkb_id": "P49069",
                                    "Action2": "binder",
                                    "Drug 2": "Voclosporin"
                                },
                                {
                                    "Drug 1": "Cyclosporine",
                                    "Action1": "inhibitor",
                                    "targets": "PPP3R2",
                                    "uniprotkb_id": "Q96LZ3",
                                    "Action2": "inhibitor",
                                    "Drug 2": "Voclosporin"
                                },
                                {
                                    "Drug 1": "Cyclosporine",
                                    "Action1": "inhibitor",
                                    "targets": "CBLP",
                                    "uniprotkb_id": "Q96LZ3",
                                    "Action2": "inhibitor",
                                    "Drug 2": "Voclosporin"
                                },
                                {
                                    "Drug 1": "Cyclosporine",
                                    "Action1": "inhibitor",
                                    "targets": "PPP3RL",
                                    "uniprotkb_id": "Q96LZ3",
                                    "Action2": "inhibitor",
                                    "Drug 2": "Voclosporin"
                                }
                            ]
                        },
                        "text/html": [
                            "<table>",
                            "<tr><th>Drug 1</th><th>Action1</th><th>targets</th><th>uniprotkb_id</th><th>Action2</th><th>Drug 2</th></tr>",
                            "<tr><td>Cyclosporine</td><td>binder</td><td>CAMLG</td><td>P49069</td><td>binder</td><td>Cyclosporine</td></tr>",
                            "<tr><td>Cyclosporine</td><td>binder</td><td>CAML</td><td>P49069</td><td>binder</td><td>Cyclosporine</td></tr>",
                            "<tr><td>Cyclosporine</td><td>binder</td><td>GET2</td><td>P49069</td><td>binder</td><td>Cyclosporine</td></tr>",
                            "<tr><td>Cyclosporine</td><td>inhibitor</td><td>PPP3R2</td><td>Q96LZ3</td><td>inhibitor</td><td>Cyclosporine</td></tr>",
                            "<tr><td>Cyclosporine</td><td>inhibitor</td><td>CBLP</td><td>Q96LZ3</td><td>inhibitor</td><td>Cyclosporine</td></tr>",
                            "<tr><td>Cyclosporine</td><td>inhibitor</td><td>PPP3RL</td><td>Q96LZ3</td><td>inhibitor</td><td>Cyclosporine</td></tr>",
                            "<tr><td>Cyclosporine</td><td>inhibitor</td><td>PPIA</td><td>P62937</td><td>inhibitor</td><td>Cyclosporine</td></tr>",
                            "<tr><td>Cyclosporine</td><td>binder</td><td>PPIA</td><td>P62937</td><td>inhibitor</td><td>Cyclosporine</td></tr>",
                            "<tr><td>Cyclosporine</td><td>inhibitor</td><td>CYPA</td><td>P62937</td><td>inhibitor</td><td>Cyclosporine</td></tr>",
                            "<tr><td>Cyclosporine</td><td>binder</td><td>CYPA</td><td>P62937</td><td>inhibitor</td><td>Cyclosporine</td></tr>",
                            "<tr><td>Cyclosporine</td><td>inhibitor</td><td>PPIA</td><td>P62937</td><td>binder</td><td>Cyclosporine</td></tr>",
                            "<tr><td>Cyclosporine</td><td>binder</td><td>PPIA</td><td>P62937</td><td>binder</td><td>Cyclosporine</td></tr>",
                            "<tr><td>Cyclosporine</td><td>inhibitor</td><td>CYPA</td><td>P62937</td><td>binder</td><td>Cyclosporine</td></tr>",
                            "<tr><td>Cyclosporine</td><td>binder</td><td>CYPA</td><td>P62937</td><td>binder</td><td>Cyclosporine</td></tr>",
                            "<tr><td>Cyclosporine</td><td>binder</td><td>PPIF</td><td>P30405</td><td>binder</td><td>Cyclosporine</td></tr>",
                            "<tr><td>Cyclosporine</td><td>binder</td><td>CYP3</td><td>P30405</td><td>binder</td><td>Cyclosporine</td></tr>",
                            "<tr><td>Cyclosporine</td><td>inhibitor</td><td>PPIA</td><td>P62937</td><td>binder</td><td>Proline</td></tr>",
                            "<tr><td>Cyclosporine</td><td>binder</td><td>PPIA</td><td>P62937</td><td>binder</td><td>Proline</td></tr>",
                            "<tr><td>Cyclosporine</td><td>inhibitor</td><td>CYPA</td><td>P62937</td><td>binder</td><td>Proline</td></tr>",
                            "<tr><td>Cyclosporine</td><td>binder</td><td>CYPA</td><td>P62937</td><td>binder</td><td>Proline</td></tr>",
                            "<tr><td>Cyclosporine</td><td>inhibitor</td><td>PPIA</td><td>P62937</td><td>ligand</td><td>Artenimol</td></tr>",
                            "<tr><td>Cyclosporine</td><td>binder</td><td>PPIA</td><td>P62937</td><td>ligand</td><td>Artenimol</td></tr>",
                            "<tr><td>Cyclosporine</td><td>inhibitor</td><td>CYPA</td><td>P62937</td><td>ligand</td><td>Artenimol</td></tr>",
                            "<tr><td>Cyclosporine</td><td>binder</td><td>CYPA</td><td>P62937</td><td>ligand</td><td>Artenimol</td></tr>",
                            "<tr><td>Cyclosporine</td><td>binder</td><td>CAMLG</td><td>P49069</td><td>binder</td><td>Voclosporin</td></tr>",
                            "<tr><td>Cyclosporine</td><td>binder</td><td>CAML</td><td>P49069</td><td>binder</td><td>Voclosporin</td></tr>",
                            "<tr><td>Cyclosporine</td><td>binder</td><td>GET2</td><td>P49069</td><td>binder</td><td>Voclosporin</td></tr>",
                            "<tr><td>Cyclosporine</td><td>inhibitor</td><td>PPP3R2</td><td>Q96LZ3</td><td>inhibitor</td><td>Voclosporin</td></tr>",
                            "<tr><td>Cyclosporine</td><td>inhibitor</td><td>CBLP</td><td>Q96LZ3</td><td>inhibitor</td><td>Voclosporin</td></tr>",
                            "<tr><td>Cyclosporine</td><td>inhibitor</td><td>PPP3RL</td><td>Q96LZ3</td><td>inhibitor</td><td>Voclosporin</td></tr>",
                            "</table>"
                        ]
                    }
                },
                {
                    "output_type": "execute_result",
                    "metadata": {},
                    "execution_count": 55,
                    "data": {
                        "application/vnd.dataresource+json": {
                            "schema": {
                                "fields": [
                                    {
                                        "name": "Disease Name"
                                    },
                                    {
                                        "name": "MeSH_heading"
                                    },
                                    {
                                        "name": "Associated Genes"
                                    }
                                ]
                            },
                            "data": [
                                {
                                    "Disease Name": "Mitochondrial myopathy",
                                    "MeSH_heading": "Nutritional and Metabolic Diseases",
                                    "Associated Genes": "CYP3"
                                },
                                {
                                    "Disease Name": "APNEA, CENTRAL SLEEP",
                                    "MeSH_heading": "Nervous System Diseases",
                                    "Associated Genes": "CYP3"
                                },
                                {
                                    "Disease Name": "Meningioma",
                                    "MeSH_heading": "Nervous System Diseases",
                                    "Associated Genes": "CYP3"
                                },
                                {
                                    "Disease Name": "X-linked adrenoleukodystrophy",
                                    "MeSH_heading": "Endocrine System Diseases",
                                    "Associated Genes": "CYP3"
                                },
                                {
                                    "Disease Name": "Ovarian Carcinoma",
                                    "MeSH_heading": "Digestive System Diseases",
                                    "Associated Genes": "CYP3"
                                },
                                {
                                    "Disease Name": "Carcinogenesis",
                                    "MeSH_heading": "Pathological Conditions, Signs and Symptoms",
                                    "Associated Genes": "CYP3"
                                },
                                {
                                    "Disease Name": "Encephalomyelitis",
                                    "MeSH_heading": "Nervous System Diseases",
                                    "Associated Genes": "CYP3"
                                },
                                {
                                    "Disease Name": "Liver Steatosis",
                                    "MeSH_heading": "Digestive System Diseases",
                                    "Associated Genes": "CYP3"
                                },
                                {
                                    "Disease Name": "Acute Kidney Injury",
                                    "MeSH_heading": "Female Urogenital Diseases and Pregnancy Complications",
                                    "Associated Genes": "CYP3"
                                },
                                {
                                    "Disease Name": "Rare malignant breast tumor",
                                    "MeSH_heading": "Skin and Connective Tissue Diseases",
                                    "Associated Genes": "CYP3"
                                },
                                {
                                    "Disease Name": "Rare malignant breast tumor",
                                    "MeSH_heading": "Skin and Connective Tissue Diseases",
                                    "Associated Genes": "CYP3"
                                },
                                {
                                    "Disease Name": "Muscular dystrophy",
                                    "MeSH_heading": "Congenital, Hereditary, and Neonatal Diseases and Abnormalities",
                                    "Associated Genes": "CYP3"
                                },
                                {
                                    "Disease Name": "Amyotrophic lateral sclerosis",
                                    "MeSH_heading": "Nutritional and Metabolic Diseases",
                                    "Associated Genes": "CYP3"
                                },
                                {
                                    "Disease Name": "Glial tumor",
                                    "MeSH_heading": "Neoplasms",
                                    "Associated Genes": "CYP3"
                                },
                                {
                                    "Disease Name": "Nephrotic Syndrome",
                                    "MeSH_heading": "Female Urogenital Diseases and Pregnancy Complications",
                                    "Associated Genes": "CYP3"
                                },
                                {
                                    "Disease Name": "Glioblastoma",
                                    "MeSH_heading": "Neoplasms",
                                    "Associated Genes": "CYP3"
                                },
                                {
                                    "Disease Name": "Glioblastoma",
                                    "MeSH_heading": "Neoplasms",
                                    "Associated Genes": "CYP3"
                                },
                                {
                                    "Disease Name": "Adult Glioblastoma Multiforme",
                                    "MeSH_heading": "Neoplasms",
                                    "Associated Genes": "CYP3"
                                },
                                {
                                    "Disease Name": "Ovarian Carcinoma",
                                    "MeSH_heading": "Neoplasms",
                                    "Associated Genes": "CYP3"
                                },
                                {
                                    "Disease Name": "Ovarian Carcinoma",
                                    "MeSH_heading": "Neoplasms",
                                    "Associated Genes": "CYP3"
                                },
                                {
                                    "Disease Name": "Acute Kidney Injury",
                                    "MeSH_heading": "Female Urogenital Diseases and Pregnancy Complications",
                                    "Associated Genes": "CYP3"
                                },
                                {
                                    "Disease Name": "Acute Pancreatitis",
                                    "MeSH_heading": "Digestive System Diseases",
                                    "Associated Genes": "CYP3"
                                },
                                {
                                    "Disease Name": "Acute Kidney Injury",
                                    "MeSH_heading": "Female Urogenital Diseases and Pregnancy Complications",
                                    "Associated Genes": "CYP3"
                                },
                                {
                                    "Disease Name": "Acute lymphoblastic leukemia",
                                    "MeSH_heading": "Immune System Diseases",
                                    "Associated Genes": "CYP3"
                                },
                                {
                                    "Disease Name": "PRESENILE AND SENILE DEMENTIA",
                                    "MeSH_heading": "Mental Disorders",
                                    "Associated Genes": "CYP3"
                                },
                                {
                                    "Disease Name": "PRESENILE AND SENILE DEMENTIA",
                                    "MeSH_heading": "Mental Disorders",
                                    "Associated Genes": "CYP3"
                                },
                                {
                                    "Disease Name": "PRESENILE AND SENILE DEMENTIA",
                                    "MeSH_heading": "Mental Disorders",
                                    "Associated Genes": "CYP3"
                                },
                                {
                                    "Disease Name": "LUNG CANCER",
                                    "MeSH_heading": "Respiratory Tract Diseases",
                                    "Associated Genes": "CYP3"
                                },
                                {
                                    "Disease Name": "Cardiovascular Disease (CVD)",
                                    "MeSH_heading": "Cardiovascular Diseases",
                                    "Associated Genes": "CYP3"
                                },
                                {
                                    "Disease Name": "PRESENILE AND SENILE DEMENTIA",
                                    "MeSH_heading": "Mental Disorders",
                                    "Associated Genes": "CYP3"
                                },
                                {
                                    "Disease Name": "PRESENILE AND SENILE DEMENTIA",
                                    "MeSH_heading": "Mental Disorders",
                                    "Associated Genes": "CYP3"
                                },
                                {
                                    "Disease Name": "GLAUCOMA, PRIMARY OPEN ANGLE",
                                    "MeSH_heading": "Eye Diseases",
                                    "Associated Genes": "CYP3"
                                },
                                {
                                    "Disease Name": "Rare intestinal disease",
                                    "MeSH_heading": "Digestive System Diseases",
                                    "Associated Genes": "CYP3"
                                },
                                {
                                    "Disease Name": "MITOCHONDRIAL COMPLEX I DEFICIENCY, MITOCHONDRIAL TYPE 3",
                                    "MeSH_heading": "Nervous System Diseases",
                                    "Associated Genes": "CYP3"
                                },
                                {
                                    "Disease Name": "MITOCHONDRIAL COMPLEX I DEFICIENCY, MITOCHONDRIAL TYPE 3",
                                    "MeSH_heading": "Nervous System Diseases",
                                    "Associated Genes": "CYP3"
                                },
                                {
                                    "Disease Name": "Rare cardiomyopathy",
                                    "MeSH_heading": "Cardiovascular Diseases",
                                    "Associated Genes": "CYP3"
                                },
                                {
                                    "Disease Name": "microcystic meningioma",
                                    "MeSH_heading": "Nervous System Diseases",
                                    "Associated Genes": "CYP3"
                                },
                                {
                                    "Disease Name": "PRESENILE AND SENILE DEMENTIA",
                                    "MeSH_heading": "Mental Disorders",
                                    "Associated Genes": "CYP3"
                                },
                                {
                                    "Disease Name": "Malignant Lung Tumor",
                                    "MeSH_heading": "Respiratory Tract Diseases",
                                    "Associated Genes": "CYP3"
                                },
                                {
                                    "Disease Name": "Familial dilated cardiomyopathy",
                                    "MeSH_heading": "Cardiovascular Diseases",
                                    "Associated Genes": "CYP3"
                                },
                                {
                                    "Disease Name": "Hepatocellular carcinoma",
                                    "MeSH_heading": "Digestive System Diseases",
                                    "Associated Genes": "CYP3"
                                },
                                {
                                    "Disease Name": "Muscle hypotrophy",
                                    "MeSH_heading": "Musculoskeletal Diseases",
                                    "Associated Genes": "CYP3"
                                },
                                {
                                    "Disease Name": "Malignant Tumor of Colon",
                                    "MeSH_heading": "Digestive System Diseases",
                                    "Associated Genes": "CYP3"
                                },
                                {
                                    "Disease Name": "Ovarian Carcinoma",
                                    "MeSH_heading": "Digestive System Diseases",
                                    "Associated Genes": "CYP3"
                                },
                                {
                                    "Disease Name": "Ovarian Carcinoma",
                                    "MeSH_heading": "Digestive System Diseases",
                                    "Associated Genes": "CYP3"
                                },
                                {
                                    "Disease Name": "Rare malignant breast tumor",
                                    "MeSH_heading": "Skin and Connective Tissue Diseases",
                                    "Associated Genes": "CYP3"
                                },
                                {
                                    "Disease Name": "Amyloidosis",
                                    "MeSH_heading": "Nutritional and Metabolic Diseases",
                                    "Associated Genes": "CYP3"
                                },
                                {
                                    "Disease Name": "Duchenne muscular dystrophy",
                                    "MeSH_heading": "Congenital, Hereditary, and Neonatal Diseases and Abnormalities",
                                    "Associated Genes": "CYP3"
                                },
                                {
                                    "Disease Name": "STROKE, ISCHEMIC",
                                    "MeSH_heading": "Cardiovascular Diseases",
                                    "Associated Genes": "CYP3"
                                },
                                {
                                    "Disease Name": "STROKE, ISCHEMIC",
                                    "MeSH_heading": "Cardiovascular Diseases",
                                    "Associated Genes": "CYP3"
                                },
                                {
                                    "Disease Name": "Ureteral Obstruction",
                                    "MeSH_heading": "Female Urogenital Diseases and Pregnancy Complications",
                                    "Associated Genes": "CYP3"
                                },
                                {
                                    "Disease Name": "diabetes mellitus (disease)",
                                    "MeSH_heading": "Endocrine System Diseases",
                                    "Associated Genes": "CYP3"
                                },
                                {
                                    "Disease Name": "diabetes mellitus (disease)",
                                    "MeSH_heading": "Endocrine System Diseases",
                                    "Associated Genes": "CYP3"
                                },
                                {
                                    "Disease Name": "diabetes mellitus (disease)",
                                    "MeSH_heading": "Endocrine System Diseases",
                                    "Associated Genes": "CYP3"
                                },
                                {
                                    "Disease Name": "Steatohepatitis",
                                    "MeSH_heading": "Digestive System Diseases",
                                    "Associated Genes": "CYP3"
                                },
                                {
                                    "Disease Name": "Steatohepatitis",
                                    "MeSH_heading": "Digestive System Diseases",
                                    "Associated Genes": "CYP3"
                                },
                                {
                                    "Disease Name": "Cockayne syndrome type 1",
                                    "MeSH_heading": "Nutritional and Metabolic Diseases",
                                    "Associated Genes": "CYP3"
                                },
                                {
                                    "Disease Name": "renal fibrosis",
                                    "MeSH_heading": "Pathological Conditions, Signs and Symptoms",
                                    "Associated Genes": "CYP3"
                                },
                                {
                                    "Disease Name": "Primary Malignant Neoplasm",
                                    "MeSH_heading": "Neoplasms",
                                    "Associated Genes": "CYP3"
                                },
                                {
                                    "Disease Name": "LEANNESS",
                                    "MeSH_heading": "Pathological Conditions, Signs and Symptoms",
                                    "Associated Genes": "CYP3"
                                },
                                {
                                    "Disease Name": "Rare diabetes mellitus",
                                    "MeSH_heading": "Endocrine System Diseases",
                                    "Associated Genes": "CYP3"
                                },
                                {
                                    "Disease Name": "Rare diabetes mellitus",
                                    "MeSH_heading": "Endocrine System Diseases",
                                    "Associated Genes": "CYP3"
                                },
                                {
                                    "Disease Name": "Rare diabetes mellitus",
                                    "MeSH_heading": "Endocrine System Diseases",
                                    "Associated Genes": "CYP3"
                                },
                                {
                                    "Disease Name": "Skeletal muscle disease",
                                    "MeSH_heading": "Nervous System Diseases",
                                    "Associated Genes": "CYP3"
                                },
                                {
                                    "Disease Name": "Tumor Progression",
                                    "MeSH_heading": "Pathological Conditions, Signs and Symptoms",
                                    "Associated Genes": "CYP3"
                                },
                                {
                                    "Disease Name": "urinary tract disorder",
                                    "MeSH_heading": "Pathological Conditions, Signs and Symptoms",
                                    "Associated Genes": "CYP3"
                                },
                                {
                                    "Disease Name": "Myocardial Infarction",
                                    "MeSH_heading": "Pathological Conditions, Signs and Symptoms",
                                    "Associated Genes": "CYP3"
                                },
                                {
                                    "Disease Name": "Rare carcinoma of pancreas",
                                    "MeSH_heading": "Endocrine System Diseases",
                                    "Associated Genes": "CYP3"
                                },
                                {
                                    "Disease Name": "Cardiac Failure Congestive",
                                    "MeSH_heading": "Cardiovascular Diseases",
                                    "Associated Genes": "CYP3"
                                },
                                {
                                    "Disease Name": "Cognitive Dysfunction",
                                    "MeSH_heading": "Mental Disorders",
                                    "Associated Genes": "CYP3"
                                },
                                {
                                    "Disease Name": "Memory Dysfunction",
                                    "MeSH_heading": "Mental Disorders",
                                    "Associated Genes": "CYP3"
                                },
                                {
                                    "Disease Name": "Rare neurodegenerative disease",
                                    "MeSH_heading": "Nervous System Diseases",
                                    "Associated Genes": "CYP3"
                                },
                                {
                                    "Disease Name": "Cognitive Dysfunction",
                                    "MeSH_heading": "Mental Disorders",
                                    "Associated Genes": "CYP3"
                                },
                                {
                                    "Disease Name": "Ovarian Carcinoma",
                                    "MeSH_heading": "Neoplasms",
                                    "Associated Genes": "CYP3"
                                },
                                {
                                    "Disease Name": "Ischemic Heart Disease",
                                    "MeSH_heading": "Cardiovascular Diseases",
                                    "Associated Genes": "CYP3"
                                },
                                {
                                    "Disease Name": "Ovarian Carcinoma",
                                    "MeSH_heading": "Digestive System Diseases",
                                    "Associated Genes": "CYP3"
                                },
                                {
                                    "Disease Name": "Tuberculosis",
                                    "MeSH_heading": "Infections",
                                    "Associated Genes": "CYP3"
                                },
                                {
                                    "Disease Name": "Tuberculosis",
                                    "MeSH_heading": "Infections",
                                    "Associated Genes": "CYP3"
                                },
                                {
                                    "Disease Name": "ABDOMINAL OBESITY-METABOLIC SYNDROME 1",
                                    "MeSH_heading": "Nutritional and Metabolic Diseases",
                                    "Associated Genes": "CYP3"
                                },
                                {
                                    "Disease Name": "Coronary Atherosclerosis",
                                    "MeSH_heading": "Cardiovascular Diseases",
                                    "Associated Genes": "CYP3"
                                },
                                {
                                    "Disease Name": "Hyperglycemia",
                                    "MeSH_heading": "Nutritional and Metabolic Diseases",
                                    "Associated Genes": "CYP3"
                                },
                                {
                                    "Disease Name": "Sepsis-Associated Encephalopathy",
                                    "MeSH_heading": "Nervous System Diseases",
                                    "Associated Genes": "CYP3"
                                },
                                {
                                    "Disease Name": "Rare carcinoma of pancreas",
                                    "MeSH_heading": "Endocrine System Diseases",
                                    "Associated Genes": "CYP3"
                                },
                                {
                                    "Disease Name": "Heart Failure",
                                    "MeSH_heading": "Cardiovascular Diseases",
                                    "Associated Genes": "CYP3"
                                },
                                {
                                    "Disease Name": "Rare breast tumor",
                                    "MeSH_heading": "Skin and Connective Tissue Diseases",
                                    "Associated Genes": "CYP3"
                                },
                                {
                                    "Disease Name": "Adult Meningioma",
                                    "MeSH_heading": "Nervous System Diseases",
                                    "Associated Genes": "CYP3"
                                },
                                {
                                    "Disease Name": "Childhood Glioblastoma",
                                    "MeSH_heading": "Neoplasms",
                                    "Associated Genes": "CYP3"
                                },
                                {
                                    "Disease Name": "Primary Malignant Neoplasm",
                                    "MeSH_heading": "Neoplasms",
                                    "Associated Genes": "CYPA"
                                },
                                {
                                    "Disease Name": "Primary Malignant Neoplasm",
                                    "MeSH_heading": "Neoplasms",
                                    "Associated Genes": "CYPA"
                                },
                                {
                                    "Disease Name": "Primary Malignant Neoplasm",
                                    "MeSH_heading": "Neoplasms",
                                    "Associated Genes": "CYPA"
                                },
                                {
                                    "Disease Name": "Primary Malignant Neoplasm",
                                    "MeSH_heading": "Neoplasms",
                                    "Associated Genes": "CYPA"
                                },
                                {
                                    "Disease Name": "Rare carcinoma of pancreas",
                                    "MeSH_heading": "Endocrine System Diseases",
                                    "Associated Genes": "CYPA"
                                },
                                {
                                    "Disease Name": "Rare malignant breast tumor",
                                    "MeSH_heading": "Skin and Connective Tissue Diseases",
                                    "Associated Genes": "CYPA"
                                },
                                {
                                    "Disease Name": "Primary Malignant Neoplasm",
                                    "MeSH_heading": "Neoplasms",
                                    "Associated Genes": "CYPA"
                                },
                                {
                                    "Disease Name": "Rare carcinoma of pancreas",
                                    "MeSH_heading": "Endocrine System Diseases",
                                    "Associated Genes": "CYPA"
                                },
                                {
                                    "Disease Name": "Primary Malignant Neoplasm",
                                    "MeSH_heading": "Neoplasms",
                                    "Associated Genes": "CYPA"
                                },
                                {
                                    "Disease Name": "Rare malignant breast tumor",
                                    "MeSH_heading": "Skin and Connective Tissue Diseases",
                                    "Associated Genes": "CYPA"
                                },
                                {
                                    "Disease Name": "Rare malignant breast tumor",
                                    "MeSH_heading": "Skin and Connective Tissue Diseases",
                                    "Associated Genes": "CYPA"
                                },
                                {
                                    "Disease Name": "Primary Malignant Neoplasm",
                                    "MeSH_heading": "Neoplasms",
                                    "Associated Genes": "CYPA"
                                },
                                {
                                    "Disease Name": "Rare malignant breast tumor",
                                    "MeSH_heading": "Skin and Connective Tissue Diseases",
                                    "Associated Genes": "CYPA"
                                },
                                {
                                    "Disease Name": "Ovarian Carcinoma",
                                    "MeSH_heading": "Digestive System Diseases",
                                    "Associated Genes": "CYPA"
                                },
                                {
                                    "Disease Name": "Rare malignant breast tumor",
                                    "MeSH_heading": "Skin and Connective Tissue Diseases",
                                    "Associated Genes": "CYPA"
                                },
                                {
                                    "Disease Name": "Ovarian Carcinoma",
                                    "MeSH_heading": "Female Urogenital Diseases and Pregnancy Complications",
                                    "Associated Genes": "CYPA"
                                },
                                {
                                    "Disease Name": "Ovarian Carcinoma",
                                    "MeSH_heading": "Female Urogenital Diseases and Pregnancy Complications",
                                    "Associated Genes": "CYPA"
                                },
                                {
                                    "Disease Name": "Diabetic Vascular Disorder",
                                    "MeSH_heading": "Endocrine System Diseases",
                                    "Associated Genes": "CYPA"
                                },
                                {
                                    "Disease Name": "Ovarian Carcinoma",
                                    "MeSH_heading": "Digestive System Diseases",
                                    "Associated Genes": "CYPA"
                                },
                                {
                                    "Disease Name": "Ovarian Carcinoma",
                                    "MeSH_heading": "Digestive System Diseases",
                                    "Associated Genes": "CYPA"
                                },
                                {
                                    "Disease Name": "Primary Malignant Neoplasm",
                                    "MeSH_heading": "Neoplasms",
                                    "Associated Genes": "CYPA"
                                },
                                {
                                    "Disease Name": "Primary Malignant Neoplasm",
                                    "MeSH_heading": "Neoplasms",
                                    "Associated Genes": "CYPA"
                                },
                                {
                                    "Disease Name": "Ovarian Carcinoma",
                                    "MeSH_heading": "Digestive System Diseases",
                                    "Associated Genes": "CYPA"
                                },
                                {
                                    "Disease Name": "Ovarian Carcinoma",
                                    "MeSH_heading": "Digestive System Diseases",
                                    "Associated Genes": "CYPA"
                                },
                                {
                                    "Disease Name": "Ovarian Carcinoma",
                                    "MeSH_heading": "Digestive System Diseases",
                                    "Associated Genes": "CYPA"
                                },
                                {
                                    "Disease Name": "Ovarian Carcinoma",
                                    "MeSH_heading": "Digestive System Diseases",
                                    "Associated Genes": "CYPA"
                                },
                                {
                                    "Disease Name": "Ovarian Carcinoma",
                                    "MeSH_heading": "Digestive System Diseases",
                                    "Associated Genes": "CYPA"
                                },
                                {
                                    "Disease Name": "Ovarian Carcinoma",
                                    "MeSH_heading": "Digestive System Diseases",
                                    "Associated Genes": "CYPA"
                                },
                                {
                                    "Disease Name": "Ovarian Carcinoma",
                                    "MeSH_heading": "Digestive System Diseases",
                                    "Associated Genes": "CYPA"
                                },
                                {
                                    "Disease Name": "Ovarian Carcinoma",
                                    "MeSH_heading": "Digestive System Diseases",
                                    "Associated Genes": "CYPA"
                                },
                                {
                                    "Disease Name": "Ovarian Carcinoma",
                                    "MeSH_heading": "Digestive System Diseases",
                                    "Associated Genes": "CYPA"
                                },
                                {
                                    "Disease Name": "Ovarian Neoplasm",
                                    "MeSH_heading": "Endocrine System Diseases",
                                    "Associated Genes": "CYPA"
                                },
                                {
                                    "Disease Name": "Glioblastoma",
                                    "MeSH_heading": "Neoplasms",
                                    "Associated Genes": "CYPA"
                                },
                                {
                                    "Disease Name": "Congenital contractural arachnodactyly",
                                    "MeSH_heading": "Congenital, Hereditary, and Neonatal Diseases and Abnormalities",
                                    "Associated Genes": "CYPA"
                                },
                                {
                                    "Disease Name": "Glioblastoma",
                                    "MeSH_heading": "Neoplasms",
                                    "Associated Genes": "CYPA"
                                },
                                {
                                    "Disease Name": "Congenital contractural arachnodactyly",
                                    "MeSH_heading": "Congenital, Hereditary, and Neonatal Diseases and Abnormalities",
                                    "Associated Genes": "CYPA"
                                },
                                {
                                    "Disease Name": "Glioblastoma",
                                    "MeSH_heading": "Neoplasms",
                                    "Associated Genes": "CYPA"
                                },
                                {
                                    "Disease Name": "Glioblastoma",
                                    "MeSH_heading": "Neoplasms",
                                    "Associated Genes": "CYPA"
                                },
                                {
                                    "Disease Name": "Hepatocellular carcinoma",
                                    "MeSH_heading": "Digestive System Diseases",
                                    "Associated Genes": "CYPA"
                                },
                                {
                                    "Disease Name": "Hepatocellular carcinoma",
                                    "MeSH_heading": "Digestive System Diseases",
                                    "Associated Genes": "CYPA"
                                },
                                {
                                    "Disease Name": "Hepatocellular carcinoma",
                                    "MeSH_heading": "Digestive System Diseases",
                                    "Associated Genes": "CYPA"
                                },
                                {
                                    "Disease Name": "Hepatocellular carcinoma",
                                    "MeSH_heading": "Digestive System Diseases",
                                    "Associated Genes": "CYPA"
                                },
                                {
                                    "Disease Name": "Hepatocellular carcinoma",
                                    "MeSH_heading": "Digestive System Diseases",
                                    "Associated Genes": "CYPA"
                                },
                                {
                                    "Disease Name": "Hepatocellular carcinoma",
                                    "MeSH_heading": "Digestive System Diseases",
                                    "Associated Genes": "CYPA"
                                },
                                {
                                    "Disease Name": "Hepatocellular carcinoma",
                                    "MeSH_heading": "Digestive System Diseases",
                                    "Associated Genes": "CYPA"
                                },
                                {
                                    "Disease Name": "Clear cell renal carcinoma",
                                    "MeSH_heading": "Female Urogenital Diseases and Pregnancy Complications",
                                    "Associated Genes": "CYPA"
                                },
                                {
                                    "Disease Name": "Aggravated Arthritis",
                                    "MeSH_heading": "Musculoskeletal Diseases",
                                    "Associated Genes": "CYPA"
                                },
                                {
                                    "Disease Name": "Metastatic Cancer",
                                    "MeSH_heading": "Pathological Conditions, Signs and Symptoms",
                                    "Associated Genes": "CYPA"
                                },
                                {
                                    "Disease Name": "Pediatric Lymphoma",
                                    "MeSH_heading": "Immune System Diseases",
                                    "Associated Genes": "CYPA"
                                },
                                {
                                    "Disease Name": "Infection",
                                    "MeSH_heading": "Infections",
                                    "Associated Genes": "CYPA"
                                },
                                {
                                    "Disease Name": "Infection",
                                    "MeSH_heading": "Infections",
                                    "Associated Genes": "CYPA"
                                },
                                {
                                    "Disease Name": "Cardiac Failure Congestive",
                                    "MeSH_heading": "Cardiovascular Diseases",
                                    "Associated Genes": "CYPA"
                                },
                                {
                                    "Disease Name": "Cardiac Failure Congestive",
                                    "MeSH_heading": "Cardiovascular Diseases",
                                    "Associated Genes": "CYPA"
                                },
                                {
                                    "Disease Name": "Rare diabetes mellitus",
                                    "MeSH_heading": "Endocrine System Diseases",
                                    "Associated Genes": "CYPA"
                                },
                                {
                                    "Disease Name": "Rare diabetes mellitus",
                                    "MeSH_heading": "Endocrine System Diseases",
                                    "Associated Genes": "CYPA"
                                },
                                {
                                    "Disease Name": "Rare diabetes mellitus",
                                    "MeSH_heading": "Endocrine System Diseases",
                                    "Associated Genes": "CYPA"
                                },
                                {
                                    "Disease Name": "Cardiac Failure Congestive",
                                    "MeSH_heading": "Cardiovascular Diseases",
                                    "Associated Genes": "CYPA"
                                },
                                {
                                    "Disease Name": "Rare dyslipidemia",
                                    "MeSH_heading": "Nutritional and Metabolic Diseases",
                                    "Associated Genes": "CYPA"
                                },
                                {
                                    "Disease Name": "Tuberculosis",
                                    "MeSH_heading": "Infections",
                                    "Associated Genes": "CYPA"
                                },
                                {
                                    "Disease Name": "Low Grade Glioma",
                                    "MeSH_heading": "Neoplasms",
                                    "Associated Genes": "CYPA"
                                },
                                {
                                    "Disease Name": "Tuberculosis Infection",
                                    "MeSH_heading": "Infections",
                                    "Associated Genes": "CYPA"
                                },
                                {
                                    "Disease Name": "Cowden syndrome",
                                    "MeSH_heading": "Congenital, Hereditary, and Neonatal Diseases and Abnormalities",
                                    "Associated Genes": "CYPA"
                                },
                                {
                                    "Disease Name": "Lymphoma",
                                    "MeSH_heading": "Immune System Diseases",
                                    "Associated Genes": "CYPA"
                                },
                                {
                                    "Disease Name": "Hereditary diffuse gastric cancer",
                                    "MeSH_heading": "Digestive System Diseases",
                                    "Associated Genes": "CYPA"
                                },
                                {
                                    "Disease Name": "Preeclampsia",
                                    "MeSH_heading": "Cardiovascular Diseases",
                                    "Associated Genes": "CYPA"
                                },
                                {
                                    "Disease Name": "Listeriosis",
                                    "MeSH_heading": "Infections",
                                    "Associated Genes": "CYPA"
                                },
                                {
                                    "Disease Name": "Uveitis",
                                    "MeSH_heading": "Eye Diseases",
                                    "Associated Genes": "CYPA"
                                },
                                {
                                    "Disease Name": "Cardiovascular Disease (CVD)",
                                    "MeSH_heading": "Cardiovascular Diseases",
                                    "Associated Genes": "CYPA"
                                },
                                {
                                    "Disease Name": "Cardiovascular Disease (CVD)",
                                    "MeSH_heading": "Cardiovascular Diseases",
                                    "Associated Genes": "CYPA"
                                },
                                {
                                    "Disease Name": "Cardiovascular Disease (CVD)",
                                    "MeSH_heading": "Cardiovascular Diseases",
                                    "Associated Genes": "CYPA"
                                },
                                {
                                    "Disease Name": "Cardiovascular Disease (CVD)",
                                    "MeSH_heading": "Cardiovascular Diseases",
                                    "Associated Genes": "CYPA"
                                },
                                {
                                    "Disease Name": "Cardiovascular Disease (CVD)",
                                    "MeSH_heading": "Cardiovascular Diseases",
                                    "Associated Genes": "CYPA"
                                },
                                {
                                    "Disease Name": "Cardiovascular Disease (CVD)",
                                    "MeSH_heading": "Cardiovascular Diseases",
                                    "Associated Genes": "CYPA"
                                },
                                {
                                    "Disease Name": "LUNG CANCER",
                                    "MeSH_heading": "Respiratory Tract Diseases",
                                    "Associated Genes": "CYPA"
                                },
                                {
                                    "Disease Name": "LUNG CANCER",
                                    "MeSH_heading": "Respiratory Tract Diseases",
                                    "Associated Genes": "CYPA"
                                },
                                {
                                    "Disease Name": "LUNG CANCER",
                                    "MeSH_heading": "Respiratory Tract Diseases",
                                    "Associated Genes": "CYPA"
                                },
                                {
                                    "Disease Name": "LUNG CANCER",
                                    "MeSH_heading": "Neoplasms",
                                    "Associated Genes": "CYPA"
                                },
                                {
                                    "Disease Name": "Ovarian Carcinoma",
                                    "MeSH_heading": "Neoplasms",
                                    "Associated Genes": "CYPA"
                                },
                                {
                                    "Disease Name": "Coronary Disease",
                                    "MeSH_heading": "Cardiovascular Diseases",
                                    "Associated Genes": "CYPA"
                                },
                                {
                                    "Disease Name": "Coronary Disease",
                                    "MeSH_heading": "Cardiovascular Diseases",
                                    "Associated Genes": "CYPA"
                                },
                                {
                                    "Disease Name": "Coronary Disease",
                                    "MeSH_heading": "Cardiovascular Diseases",
                                    "Associated Genes": "CYPA"
                                },
                                {
                                    "Disease Name": "Coronary Disease",
                                    "MeSH_heading": "Cardiovascular Diseases",
                                    "Associated Genes": "CYPA"
                                },
                                {
                                    "Disease Name": "Coronary Disease",
                                    "MeSH_heading": "Cardiovascular Diseases",
                                    "Associated Genes": "CYPA"
                                },
                                {
                                    "Disease Name": "Rare cancer of cervix uteri",
                                    "MeSH_heading": "Female Urogenital Diseases and Pregnancy Complications",
                                    "Associated Genes": "CYPA"
                                },
                                {
                                    "Disease Name": "Acute respiratory coronavirus infection",
                                    "MeSH_heading": "Respiratory Tract Diseases",
                                    "Associated Genes": "CYPA"
                                },
                                {
                                    "Disease Name": "DERMATITIS, ATOPIC",
                                    "MeSH_heading": "Immune System Diseases",
                                    "Associated Genes": "CYPA"
                                },
                                {
                                    "Disease Name": "STROKE, ISCHEMIC",
                                    "MeSH_heading": "Cardiovascular Diseases",
                                    "Associated Genes": "CYPA"
                                },
                                {
                                    "Disease Name": "CERVICAL CANCER",
                                    "MeSH_heading": "Female Urogenital Diseases and Pregnancy Complications",
                                    "Associated Genes": "CYPA"
                                },
                                {
                                    "Disease Name": "Seasonal Allergic Rhinitis",
                                    "MeSH_heading": "Immune System Diseases",
                                    "Associated Genes": "CYPA"
                                },
                                {
                                    "Disease Name": "Acute myeloid leukemia with recurrent genetic anomaly",
                                    "MeSH_heading": "Neoplasms",
                                    "Associated Genes": "CYPA"
                                },
                                {
                                    "Disease Name": "Diabetic Kidney Disease",
                                    "MeSH_heading": "Endocrine System Diseases",
                                    "Associated Genes": "CYPA"
                                },
                                {
                                    "Disease Name": "Diabetic Kidney Disease",
                                    "MeSH_heading": "Endocrine System Diseases",
                                    "Associated Genes": "CYPA"
                                },
                                {
                                    "Disease Name": "Lip and Oral Cavity Neoplasm",
                                    "MeSH_heading": "Stomatognathic Diseases",
                                    "Associated Genes": "CYPA"
                                },
                                {
                                    "Disease Name": "Metastases to Lymph Nodes",
                                    "MeSH_heading": "Pathological Conditions, Signs and Symptoms",
                                    "Associated Genes": "CYPA"
                                },
                                {
                                    "Disease Name": "Foot-and-Mouth Disease",
                                    "MeSH_heading": "Animal Diseases",
                                    "Associated Genes": "CYPA"
                                },
                                {
                                    "Disease Name": "Hypercholesterolemia",
                                    "MeSH_heading": "Nutritional and Metabolic Diseases",
                                    "Associated Genes": "CYPA"
                                },
                                {
                                    "Disease Name": "Hypercholesterolemia",
                                    "MeSH_heading": "Nutritional and Metabolic Diseases",
                                    "Associated Genes": "CYPA"
                                },
                                {
                                    "Disease Name": "Hypercholesterolemia",
                                    "MeSH_heading": "Nutritional and Metabolic Diseases",
                                    "Associated Genes": "CYPA"
                                },
                                {
                                    "Disease Name": "Metastatic Tumor to the Lung",
                                    "MeSH_heading": "Respiratory Tract Diseases",
                                    "Associated Genes": "CYPA"
                                },
                                {
                                    "Disease Name": "tuberculosis",
                                    "MeSH_heading": "Infections",
                                    "Associated Genes": "CYPA"
                                },
                                {
                                    "Disease Name": "Refractory Cancer",
                                    "MeSH_heading": "Neoplasms",
                                    "Associated Genes": "CYPA"
                                },
                                {
                                    "Disease Name": "Acute Cerebrovascular Accidents",
                                    "MeSH_heading": "Cardiovascular Diseases",
                                    "Associated Genes": "CYPA"
                                },
                                {
                                    "Disease Name": "Primary Malignant Neoplasm",
                                    "MeSH_heading": "Neoplasms",
                                    "Associated Genes": "CYPA"
                                },
                                {
                                    "Disease Name": "Primary Malignant Neoplasm",
                                    "MeSH_heading": "Neoplasms",
                                    "Associated Genes": "CYPA"
                                },
                                {
                                    "Disease Name": "Rare cancer of cervix uteri",
                                    "MeSH_heading": "Female Urogenital Diseases and Pregnancy Complications",
                                    "Associated Genes": "CYPA"
                                },
                                {
                                    "Disease Name": "Ovarian Carcinoma",
                                    "MeSH_heading": "Neoplasms",
                                    "Associated Genes": "CYPA"
                                },
                                {
                                    "Disease Name": "Glial tumor",
                                    "MeSH_heading": "Neoplasms",
                                    "Associated Genes": "CYPA"
                                },
                                {
                                    "Disease Name": "Glial tumor",
                                    "MeSH_heading": "Neoplasms",
                                    "Associated Genes": "CYPA"
                                },
                                {
                                    "Disease Name": "Lung Neoplasms",
                                    "MeSH_heading": "Respiratory Tract Diseases",
                                    "Associated Genes": "CYPA"
                                },
                                {
                                    "Disease Name": "Lung Neoplasms",
                                    "MeSH_heading": "Respiratory Tract Diseases",
                                    "Associated Genes": "CYPA"
                                },
                                {
                                    "Disease Name": "SCHIZOPHRENIA",
                                    "MeSH_heading": "Mental Disorders",
                                    "Associated Genes": "CYPA"
                                },
                                {
                                    "Disease Name": "SCHIZOPHRENIA",
                                    "MeSH_heading": "Mental Disorders",
                                    "Associated Genes": "CYPA"
                                },
                                {
                                    "Disease Name": "Adult Lymphoma",
                                    "MeSH_heading": "Immune System Diseases",
                                    "Associated Genes": "CYPA"
                                },
                                {
                                    "Disease Name": "FAMILIAL ATYPICAL MOLE-MALIGNANT MELANOMA SYNDROME",
                                    "MeSH_heading": "Skin and Connective Tissue Diseases",
                                    "Associated Genes": "CYPA"
                                },
                                {
                                    "Disease Name": "Acute Pulmonary Embolism",
                                    "MeSH_heading": "Cardiovascular Diseases",
                                    "Associated Genes": "CYPA"
                                },
                                {
                                    "Disease Name": "Alopecia",
                                    "MeSH_heading": "Pathological Conditions, Signs and Symptoms",
                                    "Associated Genes": "CYPA"
                                },
                                {
                                    "Disease Name": "Left Ventricular Hypertrophy",
                                    "MeSH_heading": "Pathological Conditions, Signs and Symptoms",
                                    "Associated Genes": "CYPA"
                                },
                                {
                                    "Disease Name": "Smoking, Tobacco and Cancer-Behavior",
                                    "MeSH_heading": "Behavior and Behavior Mechanisms",
                                    "Associated Genes": "CYPA"
                                },
                                {
                                    "Disease Name": "Toxoplasmosis, Ocular",
                                    "MeSH_heading": "Eye Diseases",
                                    "Associated Genes": "CYPA"
                                },
                                {
                                    "Disease Name": "FIBROMUSCULAR DYSPLASIA",
                                    "MeSH_heading": "Cardiovascular Diseases",
                                    "Associated Genes": "CYPA"
                                },
                                {
                                    "Disease Name": "Peri-Implantitis",
                                    "MeSH_heading": "Stomatognathic Diseases",
                                    "Associated Genes": "CYPA"
                                },
                                {
                                    "Disease Name": "Systemic Inflammatory Response Syndrome",
                                    "MeSH_heading": "Pathological Conditions, Signs and Symptoms",
                                    "Associated Genes": "CYPA"
                                },
                                {
                                    "Disease Name": "Sepsis",
                                    "MeSH_heading": "Pathological Conditions, Signs and Symptoms",
                                    "Associated Genes": "CYPA"
                                },
                                {
                                    "Disease Name": "INFLAMMATORY DISEASES OF THE CENTRAL NERVOUS SYSTEM",
                                    "MeSH_heading": "Nervous System Diseases",
                                    "Associated Genes": "CYPA"
                                },
                                {
                                    "Disease Name": "Chronic thromboembolic pulmonary hypertension",
                                    "MeSH_heading": "Cardiovascular Diseases",
                                    "Associated Genes": "CYPA"
                                },
                                {
                                    "Disease Name": "Hypoxia-Ischemia, Brain",
                                    "MeSH_heading": "Cardiovascular Diseases",
                                    "Associated Genes": "CYPA"
                                },
                                {
                                    "Disease Name": "Rare inflammatory bowel disease",
                                    "MeSH_heading": "Digestive System Diseases",
                                    "Associated Genes": "CYPA"
                                },
                                {
                                    "Disease Name": "Ovarian Carcinoma",
                                    "MeSH_heading": "Digestive System Diseases",
                                    "Associated Genes": "CYPA"
                                },
                                {
                                    "Disease Name": "Acute Myocardial Infarction",
                                    "MeSH_heading": "Pathological Conditions, Signs and Symptoms",
                                    "Associated Genes": "CYPA"
                                },
                                {
                                    "Disease Name": "Acute Myocardial Infarction",
                                    "MeSH_heading": "Pathological Conditions, Signs and Symptoms",
                                    "Associated Genes": "CYPA"
                                },
                                {
                                    "Disease Name": "Malignant Endometrial Neoplasm",
                                    "MeSH_heading": "Female Urogenital Diseases and Pregnancy Complications",
                                    "Associated Genes": "CYPA"
                                },
                                {
                                    "Disease Name": "Idiopathic/heritable pulmonary arterial hypertension",
                                    "MeSH_heading": "Respiratory Tract Diseases",
                                    "Associated Genes": "CYPA"
                                },
                                {
                                    "Disease Name": "Idiopathic/heritable pulmonary arterial hypertension",
                                    "MeSH_heading": "Respiratory Tract Diseases",
                                    "Associated Genes": "CYPA"
                                },
                                {
                                    "Disease Name": "Rare vascular disease",
                                    "MeSH_heading": "Cardiovascular Diseases",
                                    "Associated Genes": "CYPA"
                                },
                                {
                                    "Disease Name": "Rare vascular disease",
                                    "MeSH_heading": "Cardiovascular Diseases",
                                    "Associated Genes": "CYPA"
                                },
                                {
                                    "Disease Name": "Rare vascular disease",
                                    "MeSH_heading": "Cardiovascular Diseases",
                                    "Associated Genes": "CYPA"
                                },
                                {
                                    "Disease Name": "Ovarian Carcinoma",
                                    "MeSH_heading": "Neoplasms",
                                    "Associated Genes": "CYPA"
                                },
                                {
                                    "Disease Name": "Acute Pancreatitis",
                                    "MeSH_heading": "Digestive System Diseases",
                                    "Associated Genes": "CYPA"
                                },
                                {
                                    "Disease Name": "Cholangiocarcinoma",
                                    "MeSH_heading": "Neoplasms",
                                    "Associated Genes": "CYPA"
                                },
                                {
                                    "Disease Name": "Cholangiocarcinoma",
                                    "MeSH_heading": "Neoplasms",
                                    "Associated Genes": "CYPA"
                                },
                                {
                                    "Disease Name": "Small cell lung cancer",
                                    "MeSH_heading": "Respiratory Tract Diseases",
                                    "Associated Genes": "CYPA"
                                },
                                {
                                    "Disease Name": "Small cell lung cancer",
                                    "MeSH_heading": "Respiratory Tract Diseases",
                                    "Associated Genes": "CYPA"
                                },
                                {
                                    "Disease Name": "diabetes mellitus (disease)",
                                    "MeSH_heading": "Endocrine System Diseases",
                                    "Associated Genes": "CYPA"
                                },
                                {
                                    "Disease Name": "diabetes mellitus (disease)",
                                    "MeSH_heading": "Endocrine System Diseases",
                                    "Associated Genes": "CYPA"
                                },
                                {
                                    "Disease Name": "diabetes mellitus (disease)",
                                    "MeSH_heading": "Endocrine System Diseases",
                                    "Associated Genes": "CYPA"
                                },
                                {
                                    "Disease Name": "Malignant Oral Neoplasm",
                                    "MeSH_heading": "Stomatognathic Diseases",
                                    "Associated Genes": "CYPA"
                                },
                                {
                                    "Disease Name": "B Virus Infection",
                                    "MeSH_heading": "Infections",
                                    "Associated Genes": "CYPA"
                                },
                                {
                                    "Disease Name": "Right Ventricular Hypertrophy",
                                    "MeSH_heading": "Pathological Conditions, Signs and Symptoms",
                                    "Associated Genes": "CYPA"
                                },
                                {
                                    "Disease Name": "Malignant Lung Tumor",
                                    "MeSH_heading": "Respiratory Tract Diseases",
                                    "Associated Genes": "CYPA"
                                },
                                {
                                    "Disease Name": "Malignant Lung Tumor",
                                    "MeSH_heading": "Respiratory Tract Diseases",
                                    "Associated Genes": "CYPA"
                                },
                                {
                                    "Disease Name": "Human prion disease",
                                    "MeSH_heading": "Nervous System Diseases",
                                    "Associated Genes": "CYPA"
                                },
                                {
                                    "Disease Name": "Influenza",
                                    "MeSH_heading": "Respiratory Tract Diseases",
                                    "Associated Genes": "CYPA"
                                },
                                {
                                    "Disease Name": "Influenza",
                                    "MeSH_heading": "Respiratory Tract Diseases",
                                    "Associated Genes": "CYPA"
                                },
                                {
                                    "Disease Name": "Systemic lupus erythematosus",
                                    "MeSH_heading": "Immune System Diseases",
                                    "Associated Genes": "CYPA"
                                },
                                {
                                    "Disease Name": "Nasopharyngeal carcinoma",
                                    "MeSH_heading": "Otorhinolaryngologic Diseases",
                                    "Associated Genes": "CYPA"
                                },
                                {
                                    "Disease Name": "Nasopharyngeal carcinoma",
                                    "MeSH_heading": "Otorhinolaryngologic Diseases",
                                    "Associated Genes": "CYPA"
                                },
                                {
                                    "Disease Name": "Rare viral disease",
                                    "MeSH_heading": "Infections",
                                    "Associated Genes": "CYPA"
                                },
                                {
                                    "Disease Name": "Rare viral disease",
                                    "MeSH_heading": "Infections",
                                    "Associated Genes": "CYPA"
                                },
                                {
                                    "Disease Name": "Rare viral disease",
                                    "MeSH_heading": "Infections",
                                    "Associated Genes": "CYPA"
                                },
                                {
                                    "Disease Name": "Rare viral disease",
                                    "MeSH_heading": "Infections",
                                    "Associated Genes": "CYPA"
                                },
                                {
                                    "Disease Name": "Rare diabetes mellitus type 2",
                                    "MeSH_heading": "Endocrine System Diseases",
                                    "Associated Genes": "CYPA"
                                },
                                {
                                    "Disease Name": "Rare diabetes mellitus type 2",
                                    "MeSH_heading": "Endocrine System Diseases",
                                    "Associated Genes": "CYPA"
                                },
                                {
                                    "Disease Name": "Rare diabetes mellitus type 2",
                                    "MeSH_heading": "Endocrine System Diseases",
                                    "Associated Genes": "CYPA"
                                },
                                {
                                    "Disease Name": "LEANNESS",
                                    "MeSH_heading": "Pathological Conditions, Signs and Symptoms",
                                    "Associated Genes": "CYPA"
                                },
                                {
                                    "Disease Name": "Rare parasitic disease",
                                    "MeSH_heading": "Infections",
                                    "Associated Genes": "CYPA"
                                },
                                {
                                    "Disease Name": "Skin Erosion",
                                    "MeSH_heading": "Skin and Connective Tissue Diseases",
                                    "Associated Genes": "CYPA"
                                },
                                {
                                    "Disease Name": "Mycoplasma Infections",
                                    "MeSH_heading": "Infections",
                                    "Associated Genes": "CYPA"
                                },
                                {
                                    "Disease Name": "ST Elevation Myocardial Infarction",
                                    "MeSH_heading": "Pathological Conditions, Signs and Symptoms",
                                    "Associated Genes": "CYPA"
                                },
                                {
                                    "Disease Name": "Childhood Glioblastoma",
                                    "MeSH_heading": "Neoplasms",
                                    "Associated Genes": "CYPA"
                                },
                                {
                                    "Disease Name": "Childhood Glioblastoma",
                                    "MeSH_heading": "Neoplasms",
                                    "Associated Genes": "CYPA"
                                },
                                {
                                    "Disease Name": "Rare cardiomyopathy",
                                    "MeSH_heading": "Cardiovascular Diseases",
                                    "Associated Genes": "CYPA"
                                },
                                {
                                    "Disease Name": "COLORECTAL CANCER",
                                    "MeSH_heading": "Digestive System Diseases",
                                    "Associated Genes": "CYPA"
                                },
                                {
                                    "Disease Name": "LUNG CANCER",
                                    "MeSH_heading": "Respiratory Tract Diseases",
                                    "Associated Genes": "CYPA"
                                },
                                {
                                    "Disease Name": "Rare breast tumor",
                                    "MeSH_heading": "Skin and Connective Tissue Diseases",
                                    "Associated Genes": "CYPA"
                                },
                                {
                                    "Disease Name": "Ovarian Carcinoma",
                                    "MeSH_heading": "Neoplasms",
                                    "Associated Genes": "CYPA"
                                },
                                {
                                    "Disease Name": "Ovarian Carcinoma",
                                    "MeSH_heading": "Neoplasms",
                                    "Associated Genes": "CYPA"
                                },
                                {
                                    "Disease Name": "Ovarian Carcinoma",
                                    "MeSH_heading": "Neoplasms",
                                    "Associated Genes": "CYPA"
                                },
                                {
                                    "Disease Name": "Ovarian Carcinoma",
                                    "MeSH_heading": "Neoplasms",
                                    "Associated Genes": "CYPA"
                                },
                                {
                                    "Disease Name": "Ovarian Carcinoma",
                                    "MeSH_heading": "Neoplasms",
                                    "Associated Genes": "CYPA"
                                },
                                {
                                    "Disease Name": "Ovarian Carcinoma",
                                    "MeSH_heading": "Neoplasms",
                                    "Associated Genes": "CYPA"
                                },
                                {
                                    "Disease Name": "Ovarian Carcinoma",
                                    "MeSH_heading": "Neoplasms",
                                    "Associated Genes": "CYPA"
                                },
                                {
                                    "Disease Name": "Ovarian Carcinoma",
                                    "MeSH_heading": "Neoplasms",
                                    "Associated Genes": "CYPA"
                                },
                                {
                                    "Disease Name": "Ovarian Carcinoma",
                                    "MeSH_heading": "Neoplasms",
                                    "Associated Genes": "CYPA"
                                },
                                {
                                    "Disease Name": "Ovarian Carcinoma",
                                    "MeSH_heading": "Neoplasms",
                                    "Associated Genes": "CYPA"
                                },
                                {
                                    "Disease Name": "Ovarian Carcinoma",
                                    "MeSH_heading": "Neoplasms",
                                    "Associated Genes": "CYPA"
                                },
                                {
                                    "Disease Name": "Ovarian Carcinoma",
                                    "MeSH_heading": "Neoplasms",
                                    "Associated Genes": "CYPA"
                                },
                                {
                                    "Disease Name": "Ovarian Carcinoma",
                                    "MeSH_heading": "Neoplasms",
                                    "Associated Genes": "CYPA"
                                },
                                {
                                    "Disease Name": "Ovarian Carcinoma",
                                    "MeSH_heading": "Neoplasms",
                                    "Associated Genes": "CYPA"
                                },
                                {
                                    "Disease Name": "Atherosclerotic Cardiovascular Disease",
                                    "MeSH_heading": "Cardiovascular Diseases",
                                    "Associated Genes": "CYPA"
                                },
                                {
                                    "Disease Name": "Atherosclerotic Cardiovascular Disease",
                                    "MeSH_heading": "Cardiovascular Diseases",
                                    "Associated Genes": "CYPA"
                                },
                                {
                                    "Disease Name": "Atherosclerotic Cardiovascular Disease",
                                    "MeSH_heading": "Cardiovascular Diseases",
                                    "Associated Genes": "CYPA"
                                },
                                {
                                    "Disease Name": "Atherosclerotic Cardiovascular Disease",
                                    "MeSH_heading": "Cardiovascular Diseases",
                                    "Associated Genes": "CYPA"
                                },
                                {
                                    "Disease Name": "Atherosclerotic Cardiovascular Disease",
                                    "MeSH_heading": "Cardiovascular Diseases",
                                    "Associated Genes": "CYPA"
                                },
                                {
                                    "Disease Name": "Atherosclerotic Cardiovascular Disease",
                                    "MeSH_heading": "Cardiovascular Diseases",
                                    "Associated Genes": "CYPA"
                                },
                                {
                                    "Disease Name": "Atherosclerotic Cardiovascular Disease",
                                    "MeSH_heading": "Cardiovascular Diseases",
                                    "Associated Genes": "CYPA"
                                },
                                {
                                    "Disease Name": "Atherosclerotic Cardiovascular Disease",
                                    "MeSH_heading": "Cardiovascular Diseases",
                                    "Associated Genes": "CYPA"
                                },
                                {
                                    "Disease Name": "Severe Sepsis",
                                    "MeSH_heading": "Pathological Conditions, Signs and Symptoms",
                                    "Associated Genes": "CYPA"
                                },
                                {
                                    "Disease Name": "Smoking",
                                    "MeSH_heading": "Behavior and Behavior Mechanisms",
                                    "Associated Genes": "CYPA"
                                },
                                {
                                    "Disease Name": "Matthew-Wood syndrome",
                                    "MeSH_heading": "Congenital, Hereditary, and Neonatal Diseases and Abnormalities",
                                    "Associated Genes": "CYPA"
                                },
                                {
                                    "Disease Name": "urinary tract disorder",
                                    "MeSH_heading": "Cardiovascular Diseases",
                                    "Associated Genes": "CYPA"
                                },
                                {
                                    "Disease Name": "urinary tract disorder",
                                    "MeSH_heading": "Cardiovascular Diseases",
                                    "Associated Genes": "CYPA"
                                },
                                {
                                    "Disease Name": "urinary tract disorder",
                                    "MeSH_heading": "Cardiovascular Diseases",
                                    "Associated Genes": "CYPA"
                                },
                                {
                                    "Disease Name": "urinary tract disorder",
                                    "MeSH_heading": "Cardiovascular Diseases",
                                    "Associated Genes": "CYPA"
                                },
                                {
                                    "Disease Name": "urinary tract disorder",
                                    "MeSH_heading": "Cardiovascular Diseases",
                                    "Associated Genes": "CYPA"
                                },
                                {
                                    "Disease Name": "urinary tract disorder",
                                    "MeSH_heading": "Female Urogenital Diseases and Pregnancy Complications",
                                    "Associated Genes": "CYPA"
                                },
                                {
                                    "Disease Name": "Gestational Diabetes",
                                    "MeSH_heading": "Endocrine System Diseases",
                                    "Associated Genes": "CYPA"
                                },
                                {
                                    "Disease Name": "Gestational Diabetes",
                                    "MeSH_heading": "Endocrine System Diseases",
                                    "Associated Genes": "CYPA"
                                },
                                {
                                    "Disease Name": "LUNG CANCER",
                                    "MeSH_heading": "Respiratory Tract Diseases",
                                    "Associated Genes": "CYPA"
                                },
                                {
                                    "Disease Name": "LUNG CANCER",
                                    "MeSH_heading": "Respiratory Tract Diseases",
                                    "Associated Genes": "CYPA"
                                },
                                {
                                    "Disease Name": "LUNG CANCER",
                                    "MeSH_heading": "Respiratory Tract Diseases",
                                    "Associated Genes": "CYPA"
                                },
                                {
                                    "Disease Name": "LUNG CANCER",
                                    "MeSH_heading": "Respiratory Tract Diseases",
                                    "Associated Genes": "CYPA"
                                },
                                {
                                    "Disease Name": "LUNG CANCER",
                                    "MeSH_heading": "Respiratory Tract Diseases",
                                    "Associated Genes": "CYPA"
                                },
                                {
                                    "Disease Name": "LUNG CANCER",
                                    "MeSH_heading": "Respiratory Tract Diseases",
                                    "Associated Genes": "CYPA"
                                },
                                {
                                    "Disease Name": "Ovarian Carcinoma",
                                    "MeSH_heading": "Neoplasms",
                                    "Associated Genes": "CYPA"
                                },
                                {
                                    "Disease Name": "Ovarian Carcinoma",
                                    "MeSH_heading": "Neoplasms",
                                    "Associated Genes": "CYPA"
                                },
                                {
                                    "Disease Name": "Ovarian Carcinoma",
                                    "MeSH_heading": "Neoplasms",
                                    "Associated Genes": "CYPA"
                                },
                                {
                                    "Disease Name": "Ovarian Carcinoma",
                                    "MeSH_heading": "Neoplasms",
                                    "Associated Genes": "CYPA"
                                },
                                {
                                    "Disease Name": "Ovarian Carcinoma",
                                    "MeSH_heading": "Neoplasms",
                                    "Associated Genes": "CYPA"
                                },
                                {
                                    "Disease Name": "Ovarian Carcinoma",
                                    "MeSH_heading": "Neoplasms",
                                    "Associated Genes": "CYPA"
                                },
                                {
                                    "Disease Name": "Ovarian Carcinoma",
                                    "MeSH_heading": "Neoplasms",
                                    "Associated Genes": "CYPA"
                                },
                                {
                                    "Disease Name": "Ovarian Carcinoma",
                                    "MeSH_heading": "Neoplasms",
                                    "Associated Genes": "CYPA"
                                },
                                {
                                    "Disease Name": "Ovarian Carcinoma",
                                    "MeSH_heading": "Neoplasms",
                                    "Associated Genes": "CYPA"
                                },
                                {
                                    "Disease Name": "Ovarian Carcinoma",
                                    "MeSH_heading": "Neoplasms",
                                    "Associated Genes": "CYPA"
                                },
                                {
                                    "Disease Name": "Ovarian Carcinoma",
                                    "MeSH_heading": "Neoplasms",
                                    "Associated Genes": "CYPA"
                                },
                                {
                                    "Disease Name": "Ovarian Carcinoma",
                                    "MeSH_heading": "Neoplasms",
                                    "Associated Genes": "CYPA"
                                },
                                {
                                    "Disease Name": "Rare carcinoma of pancreas",
                                    "MeSH_heading": "Endocrine System Diseases",
                                    "Associated Genes": "CYPA"
                                },
                                {
                                    "Disease Name": "Rare carcinoma of pancreas",
                                    "MeSH_heading": "Endocrine System Diseases",
                                    "Associated Genes": "CYPA"
                                },
                                {
                                    "Disease Name": "Arteriosclerosis",
                                    "MeSH_heading": "Cardiovascular Diseases",
                                    "Associated Genes": "CYPA"
                                },
                                {
                                    "Disease Name": "Arteriosclerosis",
                                    "MeSH_heading": "Cardiovascular Diseases",
                                    "Associated Genes": "CYPA"
                                },
                                {
                                    "Disease Name": "Arteriosclerosis",
                                    "MeSH_heading": "Cardiovascular Diseases",
                                    "Associated Genes": "CYPA"
                                },
                                {
                                    "Disease Name": "Arteriosclerosis",
                                    "MeSH_heading": "Cardiovascular Diseases",
                                    "Associated Genes": "CYPA"
                                },
                                {
                                    "Disease Name": "Arteriosclerosis",
                                    "MeSH_heading": "Cardiovascular Diseases",
                                    "Associated Genes": "CYPA"
                                },
                                {
                                    "Disease Name": "Arteriosclerosis",
                                    "MeSH_heading": "Cardiovascular Diseases",
                                    "Associated Genes": "CYPA"
                                },
                                {
                                    "Disease Name": "Arteriosclerosis",
                                    "MeSH_heading": "Cardiovascular Diseases",
                                    "Associated Genes": "CYPA"
                                },
                                {
                                    "Disease Name": "Arteriosclerosis",
                                    "MeSH_heading": "Cardiovascular Diseases",
                                    "Associated Genes": "CYPA"
                                },
                                {
                                    "Disease Name": "Arteriosclerosis",
                                    "MeSH_heading": "Cardiovascular Diseases",
                                    "Associated Genes": "CYPA"
                                },
                                {
                                    "Disease Name": "Ovarian Carcinoma",
                                    "MeSH_heading": "Digestive System Diseases",
                                    "Associated Genes": "CYPA"
                                },
                                {
                                    "Disease Name": "Ovarian Carcinoma",
                                    "MeSH_heading": "Digestive System Diseases",
                                    "Associated Genes": "CYPA"
                                },
                                {
                                    "Disease Name": "Ovarian cancer",
                                    "MeSH_heading": "Endocrine System Diseases",
                                    "Associated Genes": "CYPA"
                                },
                                {
                                    "Disease Name": "Ovarian Carcinoma",
                                    "MeSH_heading": "Immune System Diseases",
                                    "Associated Genes": "CYPA"
                                },
                                {
                                    "Disease Name": "Adult Glioblastoma Multiforme",
                                    "MeSH_heading": "Neoplasms",
                                    "Associated Genes": "CYPA"
                                },
                                {
                                    "Disease Name": "Adult Glioblastoma Multiforme",
                                    "MeSH_heading": "Neoplasms",
                                    "Associated Genes": "CYPA"
                                },
                                {
                                    "Disease Name": "STROKE, ISCHEMIC",
                                    "MeSH_heading": "Cardiovascular Diseases",
                                    "Associated Genes": "CYPA"
                                },
                                {
                                    "Disease Name": "STROKE, ISCHEMIC",
                                    "MeSH_heading": "Cardiovascular Diseases",
                                    "Associated Genes": "CYPA"
                                },
                                {
                                    "Disease Name": "Malignant Lung Tumor",
                                    "MeSH_heading": "Respiratory Tract Diseases",
                                    "Associated Genes": "CYPA"
                                },
                                {
                                    "Disease Name": "Hyperglycemia",
                                    "MeSH_heading": "Nutritional and Metabolic Diseases",
                                    "Associated Genes": "CYPA"
                                },
                                {
                                    "Disease Name": "Heart Failure",
                                    "MeSH_heading": "Cardiovascular Diseases",
                                    "Associated Genes": "CYPA"
                                },
                                {
                                    "Disease Name": "Heart Failure",
                                    "MeSH_heading": "Cardiovascular Diseases",
                                    "Associated Genes": "CYPA"
                                },
                                {
                                    "Disease Name": "Heart Failure",
                                    "MeSH_heading": "Cardiovascular Diseases",
                                    "Associated Genes": "CYPA"
                                },
                                {
                                    "Disease Name": "Encephalomyelitis",
                                    "MeSH_heading": "Nervous System Diseases",
                                    "Associated Genes": "CYPA"
                                },
                                {
                                    "Disease Name": "Periodontitis",
                                    "MeSH_heading": "Stomatognathic Diseases",
                                    "Associated Genes": "CYPA"
                                },
                                {
                                    "Disease Name": "Acute megakaryoblastic leukemia",
                                    "MeSH_heading": "Neoplasms",
                                    "Associated Genes": "CYPA"
                                },
                                {
                                    "Disease Name": "Pulmonary arterial hypertension",
                                    "MeSH_heading": "Cardiovascular Diseases",
                                    "Associated Genes": "CYPA"
                                },
                                {
                                    "Disease Name": "Brain Metastasis",
                                    "MeSH_heading": "Pathological Conditions, Signs and Symptoms",
                                    "Associated Genes": "CYPA"
                                },
                                {
                                    "Disease Name": "Rare epithelial tumor of stomach",
                                    "MeSH_heading": "Digestive System Diseases",
                                    "Associated Genes": "CYPA"
                                },
                                {
                                    "Disease Name": "Rare epithelial tumor of stomach",
                                    "MeSH_heading": "Digestive System Diseases",
                                    "Associated Genes": "CYPA"
                                },
                                {
                                    "Disease Name": "Surface Gastric Cancer",
                                    "MeSH_heading": "Digestive System Diseases",
                                    "Associated Genes": "CYPA"
                                },
                                {
                                    "Disease Name": "ATTENTION DEFICIT-HYPERACTIVITY DISORDER",
                                    "MeSH_heading": "Mental Disorders",
                                    "Associated Genes": "CYPA"
                                },
                                {
                                    "Disease Name": "Carotid Artery Stenosis",
                                    "MeSH_heading": "Cardiovascular Diseases",
                                    "Associated Genes": "CYPA"
                                },
                                {
                                    "Disease Name": "Carotid Artery Stenosis",
                                    "MeSH_heading": "Cardiovascular Diseases",
                                    "Associated Genes": "CYPA"
                                },
                                {
                                    "Disease Name": "Cancer of Brain",
                                    "MeSH_heading": "Nervous System Diseases",
                                    "Associated Genes": "CYPA"
                                },
                                {
                                    "Disease Name": "Coronary Atherosclerosis",
                                    "MeSH_heading": "Cardiovascular Diseases",
                                    "Associated Genes": "CYPA"
                                },
                                {
                                    "Disease Name": "Coronary Atherosclerosis",
                                    "MeSH_heading": "Cardiovascular Diseases",
                                    "Associated Genes": "CYPA"
                                },
                                {
                                    "Disease Name": "Coronary Atherosclerosis",
                                    "MeSH_heading": "Cardiovascular Diseases",
                                    "Associated Genes": "CYPA"
                                },
                                {
                                    "Disease Name": "Coronary Atherosclerosis",
                                    "MeSH_heading": "Cardiovascular Diseases",
                                    "Associated Genes": "CYPA"
                                },
                                {
                                    "Disease Name": "Coronary Atherosclerosis",
                                    "MeSH_heading": "Cardiovascular Diseases",
                                    "Associated Genes": "CYPA"
                                },
                                {
                                    "Disease Name": "Rare epilepsy",
                                    "MeSH_heading": "Nervous System Diseases",
                                    "Associated Genes": "CYPA"
                                },
                                {
                                    "Disease Name": "Squamous cell carcinoma of the esophagus",
                                    "MeSH_heading": "Digestive System Diseases",
                                    "Associated Genes": "CYPA"
                                },
                                {
                                    "Disease Name": "Ovarian Carcinoma",
                                    "MeSH_heading": "Endocrine System Diseases",
                                    "Associated Genes": "CYPA"
                                },
                                {
                                    "Disease Name": "Hepatitis E",
                                    "MeSH_heading": "Digestive System Diseases",
                                    "Associated Genes": "CYPA"
                                },
                                {
                                    "Disease Name": "HIV Infection",
                                    "MeSH_heading": "Immune System Diseases",
                                    "Associated Genes": "CYPA"
                                },
                                {
                                    "Disease Name": "Oral submucous fibrosis",
                                    "MeSH_heading": "Stomatognathic Diseases",
                                    "Associated Genes": "CYPA"
                                },
                                {
                                    "Disease Name": "Oral submucous fibrosis",
                                    "MeSH_heading": "Stomatognathic Diseases",
                                    "Associated Genes": "CYPA"
                                },
                                {
                                    "Disease Name": "FRONTOMETAPHYSEAL DYSPLASIA 1",
                                    "MeSH_heading": "Congenital, Hereditary, and Neonatal Diseases and Abnormalities",
                                    "Associated Genes": "CYPA"
                                },
                                {
                                    "Disease Name": "Carcinogenesis",
                                    "MeSH_heading": "Pathological Conditions, Signs and Symptoms",
                                    "Associated Genes": "CYPA"
                                },
                                {
                                    "Disease Name": "Carcinogenesis",
                                    "MeSH_heading": "Pathological Conditions, Signs and Symptoms",
                                    "Associated Genes": "CYPA"
                                },
                                {
                                    "Disease Name": "Carcinogenesis",
                                    "MeSH_heading": "Pathological Conditions, Signs and Symptoms",
                                    "Associated Genes": "CYPA"
                                },
                                {
                                    "Disease Name": "Carcinogenesis",
                                    "MeSH_heading": "Pathological Conditions, Signs and Symptoms",
                                    "Associated Genes": "CYPA"
                                },
                                {
                                    "Disease Name": "Carcinogenesis",
                                    "MeSH_heading": "Pathological Conditions, Signs and Symptoms",
                                    "Associated Genes": "CYPA"
                                },
                                {
                                    "Disease Name": "Solid Neoplasm",
                                    "MeSH_heading": "Neoplasms",
                                    "Associated Genes": "CYPA"
                                },
                                {
                                    "Disease Name": "Solid Neoplasm",
                                    "MeSH_heading": "Neoplasms",
                                    "Associated Genes": "CYPA"
                                },
                                {
                                    "Disease Name": "Schistosomiasis",
                                    "MeSH_heading": "Infections",
                                    "Associated Genes": "CYPA"
                                },
                                {
                                    "Disease Name": "PRESENILE AND SENILE DEMENTIA",
                                    "MeSH_heading": "Mental Disorders",
                                    "Associated Genes": "CYPA"
                                },
                                {
                                    "Disease Name": "PRESENILE AND SENILE DEMENTIA",
                                    "MeSH_heading": "Mental Disorders",
                                    "Associated Genes": "CYPA"
                                },
                                {
                                    "Disease Name": "Facioscapulohumeral dystrophy",
                                    "MeSH_heading": "Congenital, Hereditary, and Neonatal Diseases and Abnormalities",
                                    "Associated Genes": "CYPA"
                                },
                                {
                                    "Disease Name": "Rare bacterial infectious disease",
                                    "MeSH_heading": "Infections",
                                    "Associated Genes": "CYPA"
                                },
                                {
                                    "Disease Name": "Rare carcinoma of stomach",
                                    "MeSH_heading": "Digestive System Diseases",
                                    "Associated Genes": "CYPA"
                                },
                                {
                                    "Disease Name": "Endometriotic Cyst of the Ovary",
                                    "MeSH_heading": "Female Urogenital Diseases and Pregnancy Complications",
                                    "Associated Genes": "CYPA"
                                },
                                {
                                    "Disease Name": "Rare neurodegenerative disease",
                                    "MeSH_heading": "Nervous System Diseases",
                                    "Associated Genes": "CYPA"
                                },
                                {
                                    "Disease Name": "ENDOMETRIAL CANCER",
                                    "MeSH_heading": "Female Urogenital Diseases and Pregnancy Complications",
                                    "Associated Genes": "CYPA"
                                },
                                {
                                    "Disease Name": "ENDOMETRIAL CANCER",
                                    "MeSH_heading": "Female Urogenital Diseases and Pregnancy Complications",
                                    "Associated Genes": "CYPA"
                                },
                                {
                                    "Disease Name": "ACS",
                                    "MeSH_heading": "Congenital, Hereditary, and Neonatal Diseases and Abnormalities",
                                    "Associated Genes": "CYPA"
                                },
                                {
                                    "Disease Name": "Atherosclerotic Cardiovascular Disease",
                                    "MeSH_heading": "Cardiovascular Diseases",
                                    "Associated Genes": "CYPA"
                                },
                                {
                                    "Disease Name": "Atherosclerotic Cardiovascular Disease",
                                    "MeSH_heading": "Cardiovascular Diseases",
                                    "Associated Genes": "CYPA"
                                },
                                {
                                    "Disease Name": "CAD",
                                    "MeSH_heading": "Cardiovascular Diseases",
                                    "Associated Genes": "CYPA"
                                },
                                {
                                    "Disease Name": "CAD",
                                    "MeSH_heading": "Cardiovascular Diseases",
                                    "Associated Genes": "CYPA"
                                },
                                {
                                    "Disease Name": "CAD",
                                    "MeSH_heading": "Cardiovascular Diseases",
                                    "Associated Genes": "CYPA"
                                },
                                {
                                    "Disease Name": "CAD",
                                    "MeSH_heading": "Cardiovascular Diseases",
                                    "Associated Genes": "CYPA"
                                },
                                {
                                    "Disease Name": "CAD",
                                    "MeSH_heading": "Cardiovascular Diseases",
                                    "Associated Genes": "CYPA"
                                },
                                {
                                    "Disease Name": "CAD",
                                    "MeSH_heading": "Cardiovascular Diseases",
                                    "Associated Genes": "CYPA"
                                },
                                {
                                    "Disease Name": "Rare malignant breast tumor",
                                    "MeSH_heading": "Skin and Connective Tissue Diseases",
                                    "Associated Genes": "CYPA"
                                },
                                {
                                    "Disease Name": "Rare malignant breast tumor",
                                    "MeSH_heading": "Skin and Connective Tissue Diseases",
                                    "Associated Genes": "CYPA"
                                },
                                {
                                    "Disease Name": "Rare malignant breast tumor",
                                    "MeSH_heading": "Skin and Connective Tissue Diseases",
                                    "Associated Genes": "CYPA"
                                },
                                {
                                    "Disease Name": "Rare malignant breast tumor",
                                    "MeSH_heading": "Skin and Connective Tissue Diseases",
                                    "Associated Genes": "CYPA"
                                },
                                {
                                    "Disease Name": "Rare malignant breast tumor",
                                    "MeSH_heading": "Skin and Connective Tissue Diseases",
                                    "Associated Genes": "CYPA"
                                },
                                {
                                    "Disease Name": "Skin Neoplasm, Malignant",
                                    "MeSH_heading": "Skin and Connective Tissue Diseases",
                                    "Associated Genes": "CYPA"
                                },
                                {
                                    "Disease Name": "RHEUMATOID ARTHRITIS",
                                    "MeSH_heading": "Immune System Diseases",
                                    "Associated Genes": "CYPA"
                                },
                                {
                                    "Disease Name": "RHEUMATOID ARTHRITIS",
                                    "MeSH_heading": "Immune System Diseases",
                                    "Associated Genes": "CYPA"
                                },
                                {
                                    "Disease Name": "RHEUMATOID ARTHRITIS",
                                    "MeSH_heading": "Immune System Diseases",
                                    "Associated Genes": "CYPA"
                                },
                                {
                                    "Disease Name": "Familial abdominal aortic aneurysm",
                                    "MeSH_heading": "Cardiovascular Diseases",
                                    "Associated Genes": "CYPA"
                                },
                                {
                                    "Disease Name": "Ovarian Carcinoma",
                                    "MeSH_heading": "Pathological Conditions, Signs and Symptoms",
                                    "Associated Genes": "CYPA"
                                },
                                {
                                    "Disease Name": "Ovarian Carcinoma",
                                    "MeSH_heading": "Pathological Conditions, Signs and Symptoms",
                                    "Associated Genes": "CYPA"
                                },
                                {
                                    "Disease Name": "Ovarian Carcinoma",
                                    "MeSH_heading": "Pathological Conditions, Signs and Symptoms",
                                    "Associated Genes": "CYPA"
                                },
                                {
                                    "Disease Name": "Ovarian Carcinoma",
                                    "MeSH_heading": "Pathological Conditions, Signs and Symptoms",
                                    "Associated Genes": "CYPA"
                                },
                                {
                                    "Disease Name": "Ovarian Carcinoma",
                                    "MeSH_heading": "Pathological Conditions, Signs and Symptoms",
                                    "Associated Genes": "CYPA"
                                },
                                {
                                    "Disease Name": "Ovarian Carcinoma",
                                    "MeSH_heading": "Pathological Conditions, Signs and Symptoms",
                                    "Associated Genes": "CYPA"
                                },
                                {
                                    "Disease Name": "Inflammatory Disease",
                                    "MeSH_heading": "Pathological Conditions, Signs and Symptoms",
                                    "Associated Genes": "CYPA"
                                },
                                {
                                    "Disease Name": "Dysmenorrhea",
                                    "MeSH_heading": "Pathological Conditions, Signs and Symptoms",
                                    "Associated Genes": "CYPA"
                                },
                                {
                                    "Disease Name": "Middle East Respiratory Syndrome",
                                    "MeSH_heading": "Infections",
                                    "Associated Genes": "CYPA"
                                },
                                {
                                    "Disease Name": "Tumor Progression",
                                    "MeSH_heading": "Pathological Conditions, Signs and Symptoms",
                                    "Associated Genes": "CYPA"
                                },
                                {
                                    "Disease Name": "Tumor Progression",
                                    "MeSH_heading": "Pathological Conditions, Signs and Symptoms",
                                    "Associated Genes": "CYPA"
                                },
                                {
                                    "Disease Name": "Clear cell renal carcinoma",
                                    "MeSH_heading": "Female Urogenital Diseases and Pregnancy Complications",
                                    "Associated Genes": "CYPA"
                                },
                                {
                                    "Disease Name": "STROKE, ISCHEMIC",
                                    "MeSH_heading": "Pathological Conditions, Signs and Symptoms",
                                    "Associated Genes": "CYPA"
                                },
                                {
                                    "Disease Name": "PROSTATE CANCER",
                                    "MeSH_heading": "Male Urogenital Diseases",
                                    "Associated Genes": "CYPA"
                                },
                                {
                                    "Disease Name": "Ovarian Carcinoma",
                                    "MeSH_heading": "Male Urogenital Diseases",
                                    "Associated Genes": "CYPA"
                                },
                                {
                                    "Disease Name": "Ovarian Carcinoma",
                                    "MeSH_heading": "Male Urogenital Diseases",
                                    "Associated Genes": "CYPA"
                                },
                                {
                                    "Disease Name": "Myocardial Infarction",
                                    "MeSH_heading": "Pathological Conditions, Signs and Symptoms",
                                    "Associated Genes": "CYPA"
                                },
                                {
                                    "Disease Name": "Myocardial Infarction",
                                    "MeSH_heading": "Pathological Conditions, Signs and Symptoms",
                                    "Associated Genes": "CYPA"
                                },
                                {
                                    "Disease Name": "Ovarian Carcinoma",
                                    "MeSH_heading": "Nervous System Diseases",
                                    "Associated Genes": "CYPA"
                                },
                                {
                                    "Disease Name": "COPD, SEVERE EARLY-ONSET",
                                    "MeSH_heading": "Respiratory Tract Diseases",
                                    "Associated Genes": "CYPA"
                                },
                                {
                                    "Disease Name": "Amyotrophic lateral sclerosis",
                                    "MeSH_heading": "Nutritional and Metabolic Diseases",
                                    "Associated Genes": "CYPA"
                                },
                                {
                                    "Disease Name": "Amyotrophic lateral sclerosis",
                                    "MeSH_heading": "Nutritional and Metabolic Diseases",
                                    "Associated Genes": "CYPA"
                                },
                                {
                                    "Disease Name": "Aortic ectasia",
                                    "MeSH_heading": "Cardiovascular Diseases",
                                    "Associated Genes": "CYPA"
                                },
                                {
                                    "Disease Name": "Ovarian Carcinoma",
                                    "MeSH_heading": "Neoplasms",
                                    "Associated Genes": "GET2"
                                },
                                {
                                    "Disease Name": "Ovarian Carcinoma",
                                    "MeSH_heading": "Neoplasms",
                                    "Associated Genes": "GET2"
                                },
                                {
                                    "Disease Name": "Lymphoma",
                                    "MeSH_heading": "Immune System Diseases",
                                    "Associated Genes": "GET2"
                                },
                                {
                                    "Disease Name": "Childhood Leukemia",
                                    "MeSH_heading": "Neoplasms",
                                    "Associated Genes": "GET2"
                                },
                                {
                                    "Disease Name": "Acute myeloid leukemia with recurrent genetic anomaly",
                                    "MeSH_heading": "Neoplasms",
                                    "Associated Genes": "GET2"
                                },
                                {
                                    "Disease Name": "Rare malignant breast tumor",
                                    "MeSH_heading": "Skin and Connective Tissue Diseases",
                                    "Associated Genes": "GET2"
                                },
                                {
                                    "Disease Name": "Adult Lymphoma",
                                    "MeSH_heading": "Immune System Diseases",
                                    "Associated Genes": "GET2"
                                },
                                {
                                    "Disease Name": "Pediatric Lymphoma",
                                    "MeSH_heading": "Immune System Diseases",
                                    "Associated Genes": "GET2"
                                },
                                {
                                    "Disease Name": "Ovarian Carcinoma",
                                    "MeSH_heading": "Pathological Conditions, Signs and Symptoms",
                                    "Associated Genes": "GET2"
                                },
                                {
                                    "Disease Name": "Discomfort",
                                    "MeSH_heading": "Pathological Conditions, Signs and Symptoms",
                                    "Associated Genes": "GET2"
                                },
                                {
                                    "Disease Name": "Common Variable Immunodeficiency",
                                    "MeSH_heading": "Immune System Diseases",
                                    "Associated Genes": "GET2"
                                },
                                {
                                    "Disease Name": "Common variable immunodeficiency",
                                    "MeSH_heading": "Immune System Diseases",
                                    "Associated Genes": "GET2"
                                },
                                {
                                    "Disease Name": "Rare malignant breast tumor",
                                    "MeSH_heading": "Skin and Connective Tissue Diseases",
                                    "Associated Genes": "GET2"
                                },
                                {
                                    "Disease Name": "Asthenozoospermia",
                                    "MeSH_heading": "Male Urogenital Diseases",
                                    "Associated Genes": "PPP3RL"
                                },
                                {
                                    "Disease Name": "Osteoarthritis",
                                    "MeSH_heading": "Musculoskeletal Diseases",
                                    "Associated Genes": "PPP3RL"
                                }
                            ]
                        },
                        "text/html": [
                            "<table>",
                            "<tr><th>Disease Name</th><th>MeSH_heading</th><th>Associated Genes</th></tr>",
                            "<tr><td>Mitochondrial myopathy</td><td>Nutritional and Metabolic Diseases</td><td>CYP3</td></tr>",
                            "<tr><td>APNEA, CENTRAL SLEEP</td><td>Nervous System Diseases</td><td>CYP3</td></tr>",
                            "<tr><td>Meningioma</td><td>Nervous System Diseases</td><td>CYP3</td></tr>",
                            "<tr><td>X-linked adrenoleukodystrophy</td><td>Endocrine System Diseases</td><td>CYP3</td></tr>",
                            "<tr><td>Ovarian Carcinoma</td><td>Digestive System Diseases</td><td>CYP3</td></tr>",
                            "<tr><td>Carcinogenesis</td><td>Pathological Conditions, Signs and Symptoms</td><td>CYP3</td></tr>",
                            "<tr><td>Encephalomyelitis</td><td>Nervous System Diseases</td><td>CYP3</td></tr>",
                            "<tr><td>Liver Steatosis</td><td>Digestive System Diseases</td><td>CYP3</td></tr>",
                            "<tr><td>Acute Kidney Injury</td><td>Female Urogenital Diseases and Pregnancy Complications</td><td>CYP3</td></tr>",
                            "<tr><td>Rare malignant breast tumor</td><td>Skin and Connective Tissue Diseases</td><td>CYP3</td></tr>",
                            "<tr><td>Rare malignant breast tumor</td><td>Skin and Connective Tissue Diseases</td><td>CYP3</td></tr>",
                            "<tr><td>Muscular dystrophy</td><td>Congenital, Hereditary, and Neonatal Diseases and Abnormalities</td><td>CYP3</td></tr>",
                            "<tr><td>Amyotrophic lateral sclerosis</td><td>Nutritional and Metabolic Diseases</td><td>CYP3</td></tr>",
                            "<tr><td>Glial tumor</td><td>Neoplasms</td><td>CYP3</td></tr>",
                            "<tr><td>Nephrotic Syndrome</td><td>Female Urogenital Diseases and Pregnancy Complications</td><td>CYP3</td></tr>",
                            "<tr><td>Glioblastoma</td><td>Neoplasms</td><td>CYP3</td></tr>",
                            "<tr><td>Glioblastoma</td><td>Neoplasms</td><td>CYP3</td></tr>",
                            "<tr><td>Adult Glioblastoma Multiforme</td><td>Neoplasms</td><td>CYP3</td></tr>",
                            "<tr><td>Ovarian Carcinoma</td><td>Neoplasms</td><td>CYP3</td></tr>",
                            "<tr><td>Ovarian Carcinoma</td><td>Neoplasms</td><td>CYP3</td></tr>",
                            "<tr><td>Acute Kidney Injury</td><td>Female Urogenital Diseases and Pregnancy Complications</td><td>CYP3</td></tr>",
                            "<tr><td>Acute Pancreatitis</td><td>Digestive System Diseases</td><td>CYP3</td></tr>",
                            "<tr><td>Acute Kidney Injury</td><td>Female Urogenital Diseases and Pregnancy Complications</td><td>CYP3</td></tr>",
                            "<tr><td>Acute lymphoblastic leukemia</td><td>Immune System Diseases</td><td>CYP3</td></tr>",
                            "<tr><td>PRESENILE AND SENILE DEMENTIA</td><td>Mental Disorders</td><td>CYP3</td></tr>",
                            "<tr><td>PRESENILE AND SENILE DEMENTIA</td><td>Mental Disorders</td><td>CYP3</td></tr>",
                            "<tr><td>PRESENILE AND SENILE DEMENTIA</td><td>Mental Disorders</td><td>CYP3</td></tr>",
                            "<tr><td>LUNG CANCER</td><td>Respiratory Tract Diseases</td><td>CYP3</td></tr>",
                            "<tr><td>Cardiovascular Disease (CVD)</td><td>Cardiovascular Diseases</td><td>CYP3</td></tr>",
                            "<tr><td>PRESENILE AND SENILE DEMENTIA</td><td>Mental Disorders</td><td>CYP3</td></tr>",
                            "<tr><td>PRESENILE AND SENILE DEMENTIA</td><td>Mental Disorders</td><td>CYP3</td></tr>",
                            "<tr><td>GLAUCOMA, PRIMARY OPEN ANGLE</td><td>Eye Diseases</td><td>CYP3</td></tr>",
                            "<tr><td>Rare intestinal disease</td><td>Digestive System Diseases</td><td>CYP3</td></tr>",
                            "<tr><td>MITOCHONDRIAL COMPLEX I DEFICIENCY, MITOCHONDRIAL TYPE 3</td><td>Nervous System Diseases</td><td>CYP3</td></tr>",
                            "<tr><td>MITOCHONDRIAL COMPLEX I DEFICIENCY, MITOCHONDRIAL TYPE 3</td><td>Nervous System Diseases</td><td>CYP3</td></tr>",
                            "<tr><td>Rare cardiomyopathy</td><td>Cardiovascular Diseases</td><td>CYP3</td></tr>",
                            "<tr><td>microcystic meningioma</td><td>Nervous System Diseases</td><td>CYP3</td></tr>",
                            "<tr><td>PRESENILE AND SENILE DEMENTIA</td><td>Mental Disorders</td><td>CYP3</td></tr>",
                            "<tr><td>Malignant Lung Tumor</td><td>Respiratory Tract Diseases</td><td>CYP3</td></tr>",
                            "<tr><td>Familial dilated cardiomyopathy</td><td>Cardiovascular Diseases</td><td>CYP3</td></tr>",
                            "<tr><td>Hepatocellular carcinoma</td><td>Digestive System Diseases</td><td>CYP3</td></tr>",
                            "<tr><td>Muscle hypotrophy</td><td>Musculoskeletal Diseases</td><td>CYP3</td></tr>",
                            "<tr><td>Malignant Tumor of Colon</td><td>Digestive System Diseases</td><td>CYP3</td></tr>",
                            "<tr><td>Ovarian Carcinoma</td><td>Digestive System Diseases</td><td>CYP3</td></tr>",
                            "<tr><td>Ovarian Carcinoma</td><td>Digestive System Diseases</td><td>CYP3</td></tr>",
                            "<tr><td>Rare malignant breast tumor</td><td>Skin and Connective Tissue Diseases</td><td>CYP3</td></tr>",
                            "<tr><td>Amyloidosis</td><td>Nutritional and Metabolic Diseases</td><td>CYP3</td></tr>",
                            "<tr><td>Duchenne muscular dystrophy</td><td>Congenital, Hereditary, and Neonatal Diseases and Abnormalities</td><td>CYP3</td></tr>",
                            "<tr><td>STROKE, ISCHEMIC</td><td>Cardiovascular Diseases</td><td>CYP3</td></tr>",
                            "<tr><td>STROKE, ISCHEMIC</td><td>Cardiovascular Diseases</td><td>CYP3</td></tr>",
                            "<tr><td>Ureteral Obstruction</td><td>Female Urogenital Diseases and Pregnancy Complications</td><td>CYP3</td></tr>",
                            "<tr><td>diabetes mellitus (disease)</td><td>Endocrine System Diseases</td><td>CYP3</td></tr>",
                            "<tr><td>diabetes mellitus (disease)</td><td>Endocrine System Diseases</td><td>CYP3</td></tr>",
                            "<tr><td>diabetes mellitus (disease)</td><td>Endocrine System Diseases</td><td>CYP3</td></tr>",
                            "<tr><td>Steatohepatitis</td><td>Digestive System Diseases</td><td>CYP3</td></tr>",
                            "<tr><td>Steatohepatitis</td><td>Digestive System Diseases</td><td>CYP3</td></tr>",
                            "<tr><td>Cockayne syndrome type 1</td><td>Nutritional and Metabolic Diseases</td><td>CYP3</td></tr>",
                            "<tr><td>renal fibrosis</td><td>Pathological Conditions, Signs and Symptoms</td><td>CYP3</td></tr>",
                            "<tr><td>Primary Malignant Neoplasm</td><td>Neoplasms</td><td>CYP3</td></tr>",
                            "<tr><td>LEANNESS</td><td>Pathological Conditions, Signs and Symptoms</td><td>CYP3</td></tr>",
                            "<tr><td>Rare diabetes mellitus</td><td>Endocrine System Diseases</td><td>CYP3</td></tr>",
                            "<tr><td>Rare diabetes mellitus</td><td>Endocrine System Diseases</td><td>CYP3</td></tr>",
                            "<tr><td>Rare diabetes mellitus</td><td>Endocrine System Diseases</td><td>CYP3</td></tr>",
                            "<tr><td>Skeletal muscle disease</td><td>Nervous System Diseases</td><td>CYP3</td></tr>",
                            "<tr><td>Tumor Progression</td><td>Pathological Conditions, Signs and Symptoms</td><td>CYP3</td></tr>",
                            "<tr><td>urinary tract disorder</td><td>Pathological Conditions, Signs and Symptoms</td><td>CYP3</td></tr>",
                            "<tr><td>Myocardial Infarction</td><td>Pathological Conditions, Signs and Symptoms</td><td>CYP3</td></tr>",
                            "<tr><td>Rare carcinoma of pancreas</td><td>Endocrine System Diseases</td><td>CYP3</td></tr>",
                            "<tr><td>Cardiac Failure Congestive</td><td>Cardiovascular Diseases</td><td>CYP3</td></tr>",
                            "<tr><td>Cognitive Dysfunction</td><td>Mental Disorders</td><td>CYP3</td></tr>",
                            "<tr><td>Memory Dysfunction</td><td>Mental Disorders</td><td>CYP3</td></tr>",
                            "<tr><td>Rare neurodegenerative disease</td><td>Nervous System Diseases</td><td>CYP3</td></tr>",
                            "<tr><td>Cognitive Dysfunction</td><td>Mental Disorders</td><td>CYP3</td></tr>",
                            "<tr><td>Ovarian Carcinoma</td><td>Neoplasms</td><td>CYP3</td></tr>",
                            "<tr><td>Ischemic Heart Disease</td><td>Cardiovascular Diseases</td><td>CYP3</td></tr>",
                            "<tr><td>Ovarian Carcinoma</td><td>Digestive System Diseases</td><td>CYP3</td></tr>",
                            "<tr><td>Tuberculosis</td><td>Infections</td><td>CYP3</td></tr>",
                            "<tr><td>Tuberculosis</td><td>Infections</td><td>CYP3</td></tr>",
                            "<tr><td>ABDOMINAL OBESITY-METABOLIC SYNDROME 1</td><td>Nutritional and Metabolic Diseases</td><td>CYP3</td></tr>",
                            "<tr><td>Coronary Atherosclerosis</td><td>Cardiovascular Diseases</td><td>CYP3</td></tr>",
                            "<tr><td>Hyperglycemia</td><td>Nutritional and Metabolic Diseases</td><td>CYP3</td></tr>",
                            "<tr><td>Sepsis-Associated Encephalopathy</td><td>Nervous System Diseases</td><td>CYP3</td></tr>",
                            "<tr><td>Rare carcinoma of pancreas</td><td>Endocrine System Diseases</td><td>CYP3</td></tr>",
                            "<tr><td>Heart Failure</td><td>Cardiovascular Diseases</td><td>CYP3</td></tr>",
                            "<tr><td>Rare breast tumor</td><td>Skin and Connective Tissue Diseases</td><td>CYP3</td></tr>",
                            "<tr><td>Adult Meningioma</td><td>Nervous System Diseases</td><td>CYP3</td></tr>",
                            "<tr><td>Childhood Glioblastoma</td><td>Neoplasms</td><td>CYP3</td></tr>",
                            "<tr><td>Primary Malignant Neoplasm</td><td>Neoplasms</td><td>CYPA</td></tr>",
                            "<tr><td>Primary Malignant Neoplasm</td><td>Neoplasms</td><td>CYPA</td></tr>",
                            "<tr><td>Primary Malignant Neoplasm</td><td>Neoplasms</td><td>CYPA</td></tr>",
                            "<tr><td>Primary Malignant Neoplasm</td><td>Neoplasms</td><td>CYPA</td></tr>",
                            "<tr><td>Rare carcinoma of pancreas</td><td>Endocrine System Diseases</td><td>CYPA</td></tr>",
                            "<tr><td>Rare malignant breast tumor</td><td>Skin and Connective Tissue Diseases</td><td>CYPA</td></tr>",
                            "<tr><td>Primary Malignant Neoplasm</td><td>Neoplasms</td><td>CYPA</td></tr>",
                            "<tr><td>Rare carcinoma of pancreas</td><td>Endocrine System Diseases</td><td>CYPA</td></tr>",
                            "<tr><td>Primary Malignant Neoplasm</td><td>Neoplasms</td><td>CYPA</td></tr>",
                            "<tr><td>Rare malignant breast tumor</td><td>Skin and Connective Tissue Diseases</td><td>CYPA</td></tr>",
                            "<tr><td>Rare malignant breast tumor</td><td>Skin and Connective Tissue Diseases</td><td>CYPA</td></tr>",
                            "<tr><td>Primary Malignant Neoplasm</td><td>Neoplasms</td><td>CYPA</td></tr>",
                            "<tr><td>Rare malignant breast tumor</td><td>Skin and Connective Tissue Diseases</td><td>CYPA</td></tr>",
                            "<tr><td>Ovarian Carcinoma</td><td>Digestive System Diseases</td><td>CYPA</td></tr>",
                            "<tr><td>Rare malignant breast tumor</td><td>Skin and Connective Tissue Diseases</td><td>CYPA</td></tr>",
                            "<tr><td>Ovarian Carcinoma</td><td>Female Urogenital Diseases and Pregnancy Complications</td><td>CYPA</td></tr>",
                            "<tr><td>Ovarian Carcinoma</td><td>Female Urogenital Diseases and Pregnancy Complications</td><td>CYPA</td></tr>",
                            "<tr><td>Diabetic Vascular Disorder</td><td>Endocrine System Diseases</td><td>CYPA</td></tr>",
                            "<tr><td>Ovarian Carcinoma</td><td>Digestive System Diseases</td><td>CYPA</td></tr>",
                            "<tr><td>Ovarian Carcinoma</td><td>Digestive System Diseases</td><td>CYPA</td></tr>",
                            "<tr><td>Primary Malignant Neoplasm</td><td>Neoplasms</td><td>CYPA</td></tr>",
                            "<tr><td>Primary Malignant Neoplasm</td><td>Neoplasms</td><td>CYPA</td></tr>",
                            "<tr><td>Ovarian Carcinoma</td><td>Digestive System Diseases</td><td>CYPA</td></tr>",
                            "<tr><td>Ovarian Carcinoma</td><td>Digestive System Diseases</td><td>CYPA</td></tr>",
                            "<tr><td>Ovarian Carcinoma</td><td>Digestive System Diseases</td><td>CYPA</td></tr>",
                            "<tr><td>Ovarian Carcinoma</td><td>Digestive System Diseases</td><td>CYPA</td></tr>",
                            "<tr><td>Ovarian Carcinoma</td><td>Digestive System Diseases</td><td>CYPA</td></tr>",
                            "<tr><td>Ovarian Carcinoma</td><td>Digestive System Diseases</td><td>CYPA</td></tr>",
                            "<tr><td>Ovarian Carcinoma</td><td>Digestive System Diseases</td><td>CYPA</td></tr>",
                            "<tr><td>Ovarian Carcinoma</td><td>Digestive System Diseases</td><td>CYPA</td></tr>",
                            "<tr><td>Ovarian Carcinoma</td><td>Digestive System Diseases</td><td>CYPA</td></tr>",
                            "<tr><td>Ovarian Neoplasm</td><td>Endocrine System Diseases</td><td>CYPA</td></tr>",
                            "<tr><td>Glioblastoma</td><td>Neoplasms</td><td>CYPA</td></tr>",
                            "<tr><td>Congenital contractural arachnodactyly</td><td>Congenital, Hereditary, and Neonatal Diseases and Abnormalities</td><td>CYPA</td></tr>",
                            "<tr><td>Glioblastoma</td><td>Neoplasms</td><td>CYPA</td></tr>",
                            "<tr><td>Congenital contractural arachnodactyly</td><td>Congenital, Hereditary, and Neonatal Diseases and Abnormalities</td><td>CYPA</td></tr>",
                            "<tr><td>Glioblastoma</td><td>Neoplasms</td><td>CYPA</td></tr>",
                            "<tr><td>Glioblastoma</td><td>Neoplasms</td><td>CYPA</td></tr>",
                            "<tr><td>Hepatocellular carcinoma</td><td>Digestive System Diseases</td><td>CYPA</td></tr>",
                            "<tr><td>Hepatocellular carcinoma</td><td>Digestive System Diseases</td><td>CYPA</td></tr>",
                            "<tr><td>Hepatocellular carcinoma</td><td>Digestive System Diseases</td><td>CYPA</td></tr>",
                            "<tr><td>Hepatocellular carcinoma</td><td>Digestive System Diseases</td><td>CYPA</td></tr>",
                            "<tr><td>Hepatocellular carcinoma</td><td>Digestive System Diseases</td><td>CYPA</td></tr>",
                            "<tr><td>Hepatocellular carcinoma</td><td>Digestive System Diseases</td><td>CYPA</td></tr>",
                            "<tr><td>Hepatocellular carcinoma</td><td>Digestive System Diseases</td><td>CYPA</td></tr>",
                            "<tr><td>Clear cell renal carcinoma</td><td>Female Urogenital Diseases and Pregnancy Complications</td><td>CYPA</td></tr>",
                            "<tr><td>Aggravated Arthritis</td><td>Musculoskeletal Diseases</td><td>CYPA</td></tr>",
                            "<tr><td>Metastatic Cancer</td><td>Pathological Conditions, Signs and Symptoms</td><td>CYPA</td></tr>",
                            "<tr><td>Pediatric Lymphoma</td><td>Immune System Diseases</td><td>CYPA</td></tr>",
                            "<tr><td>Infection</td><td>Infections</td><td>CYPA</td></tr>",
                            "<tr><td>Infection</td><td>Infections</td><td>CYPA</td></tr>",
                            "<tr><td>Cardiac Failure Congestive</td><td>Cardiovascular Diseases</td><td>CYPA</td></tr>",
                            "<tr><td>Cardiac Failure Congestive</td><td>Cardiovascular Diseases</td><td>CYPA</td></tr>",
                            "<tr><td>Rare diabetes mellitus</td><td>Endocrine System Diseases</td><td>CYPA</td></tr>",
                            "<tr><td>Rare diabetes mellitus</td><td>Endocrine System Diseases</td><td>CYPA</td></tr>",
                            "<tr><td>Rare diabetes mellitus</td><td>Endocrine System Diseases</td><td>CYPA</td></tr>",
                            "<tr><td>Cardiac Failure Congestive</td><td>Cardiovascular Diseases</td><td>CYPA</td></tr>",
                            "<tr><td>Rare dyslipidemia</td><td>Nutritional and Metabolic Diseases</td><td>CYPA</td></tr>",
                            "<tr><td>Tuberculosis</td><td>Infections</td><td>CYPA</td></tr>",
                            "<tr><td>Low Grade Glioma</td><td>Neoplasms</td><td>CYPA</td></tr>",
                            "<tr><td>Tuberculosis Infection</td><td>Infections</td><td>CYPA</td></tr>",
                            "<tr><td>Cowden syndrome</td><td>Congenital, Hereditary, and Neonatal Diseases and Abnormalities</td><td>CYPA</td></tr>",
                            "<tr><td>Lymphoma</td><td>Immune System Diseases</td><td>CYPA</td></tr>",
                            "<tr><td>Hereditary diffuse gastric cancer</td><td>Digestive System Diseases</td><td>CYPA</td></tr>",
                            "<tr><td>Preeclampsia</td><td>Cardiovascular Diseases</td><td>CYPA</td></tr>",
                            "<tr><td>Listeriosis</td><td>Infections</td><td>CYPA</td></tr>",
                            "<tr><td>Uveitis</td><td>Eye Diseases</td><td>CYPA</td></tr>",
                            "<tr><td>Cardiovascular Disease (CVD)</td><td>Cardiovascular Diseases</td><td>CYPA</td></tr>",
                            "<tr><td>Cardiovascular Disease (CVD)</td><td>Cardiovascular Diseases</td><td>CYPA</td></tr>",
                            "<tr><td>Cardiovascular Disease (CVD)</td><td>Cardiovascular Diseases</td><td>CYPA</td></tr>",
                            "<tr><td>Cardiovascular Disease (CVD)</td><td>Cardiovascular Diseases</td><td>CYPA</td></tr>",
                            "<tr><td>Cardiovascular Disease (CVD)</td><td>Cardiovascular Diseases</td><td>CYPA</td></tr>",
                            "<tr><td>Cardiovascular Disease (CVD)</td><td>Cardiovascular Diseases</td><td>CYPA</td></tr>",
                            "<tr><td>LUNG CANCER</td><td>Respiratory Tract Diseases</td><td>CYPA</td></tr>",
                            "<tr><td>LUNG CANCER</td><td>Respiratory Tract Diseases</td><td>CYPA</td></tr>",
                            "<tr><td>LUNG CANCER</td><td>Respiratory Tract Diseases</td><td>CYPA</td></tr>",
                            "<tr><td>LUNG CANCER</td><td>Neoplasms</td><td>CYPA</td></tr>",
                            "<tr><td>Ovarian Carcinoma</td><td>Neoplasms</td><td>CYPA</td></tr>",
                            "<tr><td>Coronary Disease</td><td>Cardiovascular Diseases</td><td>CYPA</td></tr>",
                            "<tr><td>Coronary Disease</td><td>Cardiovascular Diseases</td><td>CYPA</td></tr>",
                            "<tr><td>Coronary Disease</td><td>Cardiovascular Diseases</td><td>CYPA</td></tr>",
                            "<tr><td>Coronary Disease</td><td>Cardiovascular Diseases</td><td>CYPA</td></tr>",
                            "<tr><td>Coronary Disease</td><td>Cardiovascular Diseases</td><td>CYPA</td></tr>",
                            "<tr><td>Rare cancer of cervix uteri</td><td>Female Urogenital Diseases and Pregnancy Complications</td><td>CYPA</td></tr>",
                            "<tr><td>Acute respiratory coronavirus infection</td><td>Respiratory Tract Diseases</td><td>CYPA</td></tr>",
                            "<tr><td>DERMATITIS, ATOPIC</td><td>Immune System Diseases</td><td>CYPA</td></tr>",
                            "<tr><td>STROKE, ISCHEMIC</td><td>Cardiovascular Diseases</td><td>CYPA</td></tr>",
                            "<tr><td>CERVICAL CANCER</td><td>Female Urogenital Diseases and Pregnancy Complications</td><td>CYPA</td></tr>",
                            "<tr><td>Seasonal Allergic Rhinitis</td><td>Immune System Diseases</td><td>CYPA</td></tr>",
                            "<tr><td>Acute myeloid leukemia with recurrent genetic anomaly</td><td>Neoplasms</td><td>CYPA</td></tr>",
                            "<tr><td>Diabetic Kidney Disease</td><td>Endocrine System Diseases</td><td>CYPA</td></tr>",
                            "<tr><td>Diabetic Kidney Disease</td><td>Endocrine System Diseases</td><td>CYPA</td></tr>",
                            "<tr><td>Lip and Oral Cavity Neoplasm</td><td>Stomatognathic Diseases</td><td>CYPA</td></tr>",
                            "<tr><td>Metastases to Lymph Nodes</td><td>Pathological Conditions, Signs and Symptoms</td><td>CYPA</td></tr>",
                            "<tr><td>Foot-and-Mouth Disease</td><td>Animal Diseases</td><td>CYPA</td></tr>",
                            "<tr><td>Hypercholesterolemia</td><td>Nutritional and Metabolic Diseases</td><td>CYPA</td></tr>",
                            "<tr><td>Hypercholesterolemia</td><td>Nutritional and Metabolic Diseases</td><td>CYPA</td></tr>",
                            "<tr><td>Hypercholesterolemia</td><td>Nutritional and Metabolic Diseases</td><td>CYPA</td></tr>",
                            "<tr><td>Metastatic Tumor to the Lung</td><td>Respiratory Tract Diseases</td><td>CYPA</td></tr>",
                            "<tr><td>tuberculosis</td><td>Infections</td><td>CYPA</td></tr>",
                            "<tr><td>Refractory Cancer</td><td>Neoplasms</td><td>CYPA</td></tr>",
                            "<tr><td>Acute Cerebrovascular Accidents</td><td>Cardiovascular Diseases</td><td>CYPA</td></tr>",
                            "<tr><td>Primary Malignant Neoplasm</td><td>Neoplasms</td><td>CYPA</td></tr>",
                            "<tr><td>Primary Malignant Neoplasm</td><td>Neoplasms</td><td>CYPA</td></tr>",
                            "<tr><td>Rare cancer of cervix uteri</td><td>Female Urogenital Diseases and Pregnancy Complications</td><td>CYPA</td></tr>",
                            "<tr><td>Ovarian Carcinoma</td><td>Neoplasms</td><td>CYPA</td></tr>",
                            "<tr><td>Glial tumor</td><td>Neoplasms</td><td>CYPA</td></tr>",
                            "<tr><td>Glial tumor</td><td>Neoplasms</td><td>CYPA</td></tr>",
                            "<tr><td>Lung Neoplasms</td><td>Respiratory Tract Diseases</td><td>CYPA</td></tr>",
                            "<tr><td>Lung Neoplasms</td><td>Respiratory Tract Diseases</td><td>CYPA</td></tr>",
                            "<tr><td>SCHIZOPHRENIA</td><td>Mental Disorders</td><td>CYPA</td></tr>",
                            "<tr><td>SCHIZOPHRENIA</td><td>Mental Disorders</td><td>CYPA</td></tr>",
                            "<tr><td>Adult Lymphoma</td><td>Immune System Diseases</td><td>CYPA</td></tr>",
                            "<tr><td>FAMILIAL ATYPICAL MOLE-MALIGNANT MELANOMA SYNDROME</td><td>Skin and Connective Tissue Diseases</td><td>CYPA</td></tr>",
                            "<tr><td>Acute Pulmonary Embolism</td><td>Cardiovascular Diseases</td><td>CYPA</td></tr>",
                            "<tr><td>Alopecia</td><td>Pathological Conditions, Signs and Symptoms</td><td>CYPA</td></tr>",
                            "<tr><td>Left Ventricular Hypertrophy</td><td>Pathological Conditions, Signs and Symptoms</td><td>CYPA</td></tr>",
                            "<tr><td>Smoking, Tobacco and Cancer-Behavior</td><td>Behavior and Behavior Mechanisms</td><td>CYPA</td></tr>",
                            "<tr><td>Toxoplasmosis, Ocular</td><td>Eye Diseases</td><td>CYPA</td></tr>",
                            "<tr><td>FIBROMUSCULAR DYSPLASIA</td><td>Cardiovascular Diseases</td><td>CYPA</td></tr>",
                            "<tr><td>Peri-Implantitis</td><td>Stomatognathic Diseases</td><td>CYPA</td></tr>",
                            "<tr><td>Systemic Inflammatory Response Syndrome</td><td>Pathological Conditions, Signs and Symptoms</td><td>CYPA</td></tr>",
                            "<tr><td>Sepsis</td><td>Pathological Conditions, Signs and Symptoms</td><td>CYPA</td></tr>",
                            "<tr><td>INFLAMMATORY DISEASES OF THE CENTRAL NERVOUS SYSTEM</td><td>Nervous System Diseases</td><td>CYPA</td></tr>",
                            "<tr><td>Chronic thromboembolic pulmonary hypertension</td><td>Cardiovascular Diseases</td><td>CYPA</td></tr>",
                            "<tr><td>Hypoxia-Ischemia, Brain</td><td>Cardiovascular Diseases</td><td>CYPA</td></tr>",
                            "<tr><td>Rare inflammatory bowel disease</td><td>Digestive System Diseases</td><td>CYPA</td></tr>",
                            "<tr><td>Ovarian Carcinoma</td><td>Digestive System Diseases</td><td>CYPA</td></tr>",
                            "<tr><td>Acute Myocardial Infarction</td><td>Pathological Conditions, Signs and Symptoms</td><td>CYPA</td></tr>",
                            "<tr><td>Acute Myocardial Infarction</td><td>Pathological Conditions, Signs and Symptoms</td><td>CYPA</td></tr>",
                            "<tr><td>Malignant Endometrial Neoplasm</td><td>Female Urogenital Diseases and Pregnancy Complications</td><td>CYPA</td></tr>",
                            "<tr><td>Idiopathic/heritable pulmonary arterial hypertension</td><td>Respiratory Tract Diseases</td><td>CYPA</td></tr>",
                            "<tr><td>Idiopathic/heritable pulmonary arterial hypertension</td><td>Respiratory Tract Diseases</td><td>CYPA</td></tr>",
                            "<tr><td>Rare vascular disease</td><td>Cardiovascular Diseases</td><td>CYPA</td></tr>",
                            "<tr><td>Rare vascular disease</td><td>Cardiovascular Diseases</td><td>CYPA</td></tr>",
                            "<tr><td>Rare vascular disease</td><td>Cardiovascular Diseases</td><td>CYPA</td></tr>",
                            "<tr><td>Ovarian Carcinoma</td><td>Neoplasms</td><td>CYPA</td></tr>",
                            "<tr><td>Acute Pancreatitis</td><td>Digestive System Diseases</td><td>CYPA</td></tr>",
                            "<tr><td>Cholangiocarcinoma</td><td>Neoplasms</td><td>CYPA</td></tr>",
                            "<tr><td>Cholangiocarcinoma</td><td>Neoplasms</td><td>CYPA</td></tr>",
                            "<tr><td>Small cell lung cancer</td><td>Respiratory Tract Diseases</td><td>CYPA</td></tr>",
                            "<tr><td>Small cell lung cancer</td><td>Respiratory Tract Diseases</td><td>CYPA</td></tr>",
                            "<tr><td>diabetes mellitus (disease)</td><td>Endocrine System Diseases</td><td>CYPA</td></tr>",
                            "<tr><td>diabetes mellitus (disease)</td><td>Endocrine System Diseases</td><td>CYPA</td></tr>",
                            "<tr><td>diabetes mellitus (disease)</td><td>Endocrine System Diseases</td><td>CYPA</td></tr>",
                            "<tr><td>Malignant Oral Neoplasm</td><td>Stomatognathic Diseases</td><td>CYPA</td></tr>",
                            "<tr><td>B Virus Infection</td><td>Infections</td><td>CYPA</td></tr>",
                            "<tr><td>Right Ventricular Hypertrophy</td><td>Pathological Conditions, Signs and Symptoms</td><td>CYPA</td></tr>",
                            "<tr><td>Malignant Lung Tumor</td><td>Respiratory Tract Diseases</td><td>CYPA</td></tr>",
                            "<tr><td>Malignant Lung Tumor</td><td>Respiratory Tract Diseases</td><td>CYPA</td></tr>",
                            "<tr><td>Human prion disease</td><td>Nervous System Diseases</td><td>CYPA</td></tr>",
                            "<tr><td>Influenza</td><td>Respiratory Tract Diseases</td><td>CYPA</td></tr>",
                            "<tr><td>Influenza</td><td>Respiratory Tract Diseases</td><td>CYPA</td></tr>",
                            "<tr><td>Systemic lupus erythematosus</td><td>Immune System Diseases</td><td>CYPA</td></tr>",
                            "<tr><td>Nasopharyngeal carcinoma</td><td>Otorhinolaryngologic Diseases</td><td>CYPA</td></tr>",
                            "<tr><td>Nasopharyngeal carcinoma</td><td>Otorhinolaryngologic Diseases</td><td>CYPA</td></tr>",
                            "<tr><td>Rare viral disease</td><td>Infections</td><td>CYPA</td></tr>",
                            "<tr><td>Rare viral disease</td><td>Infections</td><td>CYPA</td></tr>",
                            "<tr><td>Rare viral disease</td><td>Infections</td><td>CYPA</td></tr>",
                            "<tr><td>Rare viral disease</td><td>Infections</td><td>CYPA</td></tr>",
                            "<tr><td>Rare diabetes mellitus type 2</td><td>Endocrine System Diseases</td><td>CYPA</td></tr>",
                            "<tr><td>Rare diabetes mellitus type 2</td><td>Endocrine System Diseases</td><td>CYPA</td></tr>",
                            "<tr><td>Rare diabetes mellitus type 2</td><td>Endocrine System Diseases</td><td>CYPA</td></tr>",
                            "<tr><td>LEANNESS</td><td>Pathological Conditions, Signs and Symptoms</td><td>CYPA</td></tr>",
                            "<tr><td>Rare parasitic disease</td><td>Infections</td><td>CYPA</td></tr>",
                            "<tr><td>Skin Erosion</td><td>Skin and Connective Tissue Diseases</td><td>CYPA</td></tr>",
                            "<tr><td>Mycoplasma Infections</td><td>Infections</td><td>CYPA</td></tr>",
                            "<tr><td>ST Elevation Myocardial Infarction</td><td>Pathological Conditions, Signs and Symptoms</td><td>CYPA</td></tr>",
                            "<tr><td>Childhood Glioblastoma</td><td>Neoplasms</td><td>CYPA</td></tr>",
                            "<tr><td>Childhood Glioblastoma</td><td>Neoplasms</td><td>CYPA</td></tr>",
                            "<tr><td>Rare cardiomyopathy</td><td>Cardiovascular Diseases</td><td>CYPA</td></tr>",
                            "<tr><td>COLORECTAL CANCER</td><td>Digestive System Diseases</td><td>CYPA</td></tr>",
                            "<tr><td>LUNG CANCER</td><td>Respiratory Tract Diseases</td><td>CYPA</td></tr>",
                            "<tr><td>Rare breast tumor</td><td>Skin and Connective Tissue Diseases</td><td>CYPA</td></tr>",
                            "<tr><td>Ovarian Carcinoma</td><td>Neoplasms</td><td>CYPA</td></tr>",
                            "<tr><td>Ovarian Carcinoma</td><td>Neoplasms</td><td>CYPA</td></tr>",
                            "<tr><td>Ovarian Carcinoma</td><td>Neoplasms</td><td>CYPA</td></tr>",
                            "<tr><td>Ovarian Carcinoma</td><td>Neoplasms</td><td>CYPA</td></tr>",
                            "<tr><td>Ovarian Carcinoma</td><td>Neoplasms</td><td>CYPA</td></tr>",
                            "<tr><td>Ovarian Carcinoma</td><td>Neoplasms</td><td>CYPA</td></tr>",
                            "<tr><td>Ovarian Carcinoma</td><td>Neoplasms</td><td>CYPA</td></tr>",
                            "<tr><td>Ovarian Carcinoma</td><td>Neoplasms</td><td>CYPA</td></tr>",
                            "<tr><td>Ovarian Carcinoma</td><td>Neoplasms</td><td>CYPA</td></tr>",
                            "<tr><td>Ovarian Carcinoma</td><td>Neoplasms</td><td>CYPA</td></tr>",
                            "<tr><td>Ovarian Carcinoma</td><td>Neoplasms</td><td>CYPA</td></tr>",
                            "<tr><td>Ovarian Carcinoma</td><td>Neoplasms</td><td>CYPA</td></tr>",
                            "<tr><td>Ovarian Carcinoma</td><td>Neoplasms</td><td>CYPA</td></tr>",
                            "<tr><td>Ovarian Carcinoma</td><td>Neoplasms</td><td>CYPA</td></tr>",
                            "<tr><td>Atherosclerotic Cardiovascular Disease</td><td>Cardiovascular Diseases</td><td>CYPA</td></tr>",
                            "<tr><td>Atherosclerotic Cardiovascular Disease</td><td>Cardiovascular Diseases</td><td>CYPA</td></tr>",
                            "<tr><td>Atherosclerotic Cardiovascular Disease</td><td>Cardiovascular Diseases</td><td>CYPA</td></tr>",
                            "<tr><td>Atherosclerotic Cardiovascular Disease</td><td>Cardiovascular Diseases</td><td>CYPA</td></tr>",
                            "<tr><td>Atherosclerotic Cardiovascular Disease</td><td>Cardiovascular Diseases</td><td>CYPA</td></tr>",
                            "<tr><td>Atherosclerotic Cardiovascular Disease</td><td>Cardiovascular Diseases</td><td>CYPA</td></tr>",
                            "<tr><td>Atherosclerotic Cardiovascular Disease</td><td>Cardiovascular Diseases</td><td>CYPA</td></tr>",
                            "<tr><td>Atherosclerotic Cardiovascular Disease</td><td>Cardiovascular Diseases</td><td>CYPA</td></tr>",
                            "<tr><td>Severe Sepsis</td><td>Pathological Conditions, Signs and Symptoms</td><td>CYPA</td></tr>",
                            "<tr><td>Smoking</td><td>Behavior and Behavior Mechanisms</td><td>CYPA</td></tr>",
                            "<tr><td>Matthew-Wood syndrome</td><td>Congenital, Hereditary, and Neonatal Diseases and Abnormalities</td><td>CYPA</td></tr>",
                            "<tr><td>urinary tract disorder</td><td>Cardiovascular Diseases</td><td>CYPA</td></tr>",
                            "<tr><td>urinary tract disorder</td><td>Cardiovascular Diseases</td><td>CYPA</td></tr>",
                            "<tr><td>urinary tract disorder</td><td>Cardiovascular Diseases</td><td>CYPA</td></tr>",
                            "<tr><td>urinary tract disorder</td><td>Cardiovascular Diseases</td><td>CYPA</td></tr>",
                            "<tr><td>urinary tract disorder</td><td>Cardiovascular Diseases</td><td>CYPA</td></tr>",
                            "<tr><td>urinary tract disorder</td><td>Female Urogenital Diseases and Pregnancy Complications</td><td>CYPA</td></tr>",
                            "<tr><td>Gestational Diabetes</td><td>Endocrine System Diseases</td><td>CYPA</td></tr>",
                            "<tr><td>Gestational Diabetes</td><td>Endocrine System Diseases</td><td>CYPA</td></tr>",
                            "<tr><td>LUNG CANCER</td><td>Respiratory Tract Diseases</td><td>CYPA</td></tr>",
                            "<tr><td>LUNG CANCER</td><td>Respiratory Tract Diseases</td><td>CYPA</td></tr>",
                            "<tr><td>LUNG CANCER</td><td>Respiratory Tract Diseases</td><td>CYPA</td></tr>",
                            "<tr><td>LUNG CANCER</td><td>Respiratory Tract Diseases</td><td>CYPA</td></tr>",
                            "<tr><td>LUNG CANCER</td><td>Respiratory Tract Diseases</td><td>CYPA</td></tr>",
                            "<tr><td>LUNG CANCER</td><td>Respiratory Tract Diseases</td><td>CYPA</td></tr>",
                            "<tr><td>Ovarian Carcinoma</td><td>Neoplasms</td><td>CYPA</td></tr>",
                            "<tr><td>Ovarian Carcinoma</td><td>Neoplasms</td><td>CYPA</td></tr>",
                            "<tr><td>Ovarian Carcinoma</td><td>Neoplasms</td><td>CYPA</td></tr>",
                            "<tr><td>Ovarian Carcinoma</td><td>Neoplasms</td><td>CYPA</td></tr>",
                            "<tr><td>Ovarian Carcinoma</td><td>Neoplasms</td><td>CYPA</td></tr>",
                            "<tr><td>Ovarian Carcinoma</td><td>Neoplasms</td><td>CYPA</td></tr>",
                            "<tr><td>Ovarian Carcinoma</td><td>Neoplasms</td><td>CYPA</td></tr>",
                            "<tr><td>Ovarian Carcinoma</td><td>Neoplasms</td><td>CYPA</td></tr>",
                            "<tr><td>Ovarian Carcinoma</td><td>Neoplasms</td><td>CYPA</td></tr>",
                            "<tr><td>Ovarian Carcinoma</td><td>Neoplasms</td><td>CYPA</td></tr>",
                            "<tr><td>Ovarian Carcinoma</td><td>Neoplasms</td><td>CYPA</td></tr>",
                            "<tr><td>Ovarian Carcinoma</td><td>Neoplasms</td><td>CYPA</td></tr>",
                            "<tr><td>Rare carcinoma of pancreas</td><td>Endocrine System Diseases</td><td>CYPA</td></tr>",
                            "<tr><td>Rare carcinoma of pancreas</td><td>Endocrine System Diseases</td><td>CYPA</td></tr>",
                            "<tr><td>Arteriosclerosis</td><td>Cardiovascular Diseases</td><td>CYPA</td></tr>",
                            "<tr><td>Arteriosclerosis</td><td>Cardiovascular Diseases</td><td>CYPA</td></tr>",
                            "<tr><td>Arteriosclerosis</td><td>Cardiovascular Diseases</td><td>CYPA</td></tr>",
                            "<tr><td>Arteriosclerosis</td><td>Cardiovascular Diseases</td><td>CYPA</td></tr>",
                            "<tr><td>Arteriosclerosis</td><td>Cardiovascular Diseases</td><td>CYPA</td></tr>",
                            "<tr><td>Arteriosclerosis</td><td>Cardiovascular Diseases</td><td>CYPA</td></tr>",
                            "<tr><td>Arteriosclerosis</td><td>Cardiovascular Diseases</td><td>CYPA</td></tr>",
                            "<tr><td>Arteriosclerosis</td><td>Cardiovascular Diseases</td><td>CYPA</td></tr>",
                            "<tr><td>Arteriosclerosis</td><td>Cardiovascular Diseases</td><td>CYPA</td></tr>",
                            "<tr><td>Ovarian Carcinoma</td><td>Digestive System Diseases</td><td>CYPA</td></tr>",
                            "<tr><td>Ovarian Carcinoma</td><td>Digestive System Diseases</td><td>CYPA</td></tr>",
                            "<tr><td>Ovarian cancer</td><td>Endocrine System Diseases</td><td>CYPA</td></tr>",
                            "<tr><td>Ovarian Carcinoma</td><td>Immune System Diseases</td><td>CYPA</td></tr>",
                            "<tr><td>Adult Glioblastoma Multiforme</td><td>Neoplasms</td><td>CYPA</td></tr>",
                            "<tr><td>Adult Glioblastoma Multiforme</td><td>Neoplasms</td><td>CYPA</td></tr>",
                            "<tr><td>STROKE, ISCHEMIC</td><td>Cardiovascular Diseases</td><td>CYPA</td></tr>",
                            "<tr><td>STROKE, ISCHEMIC</td><td>Cardiovascular Diseases</td><td>CYPA</td></tr>",
                            "<tr><td>Malignant Lung Tumor</td><td>Respiratory Tract Diseases</td><td>CYPA</td></tr>",
                            "<tr><td>Hyperglycemia</td><td>Nutritional and Metabolic Diseases</td><td>CYPA</td></tr>",
                            "<tr><td>Heart Failure</td><td>Cardiovascular Diseases</td><td>CYPA</td></tr>",
                            "<tr><td>Heart Failure</td><td>Cardiovascular Diseases</td><td>CYPA</td></tr>",
                            "<tr><td>Heart Failure</td><td>Cardiovascular Diseases</td><td>CYPA</td></tr>",
                            "<tr><td>Encephalomyelitis</td><td>Nervous System Diseases</td><td>CYPA</td></tr>",
                            "<tr><td>Periodontitis</td><td>Stomatognathic Diseases</td><td>CYPA</td></tr>",
                            "<tr><td>Acute megakaryoblastic leukemia</td><td>Neoplasms</td><td>CYPA</td></tr>",
                            "<tr><td>Pulmonary arterial hypertension</td><td>Cardiovascular Diseases</td><td>CYPA</td></tr>",
                            "<tr><td>Brain Metastasis</td><td>Pathological Conditions, Signs and Symptoms</td><td>CYPA</td></tr>",
                            "<tr><td>Rare epithelial tumor of stomach</td><td>Digestive System Diseases</td><td>CYPA</td></tr>",
                            "<tr><td>Rare epithelial tumor of stomach</td><td>Digestive System Diseases</td><td>CYPA</td></tr>",
                            "<tr><td>Surface Gastric Cancer</td><td>Digestive System Diseases</td><td>CYPA</td></tr>",
                            "<tr><td>ATTENTION DEFICIT-HYPERACTIVITY DISORDER</td><td>Mental Disorders</td><td>CYPA</td></tr>",
                            "<tr><td>Carotid Artery Stenosis</td><td>Cardiovascular Diseases</td><td>CYPA</td></tr>",
                            "<tr><td>Carotid Artery Stenosis</td><td>Cardiovascular Diseases</td><td>CYPA</td></tr>",
                            "<tr><td>Cancer of Brain</td><td>Nervous System Diseases</td><td>CYPA</td></tr>",
                            "<tr><td>Coronary Atherosclerosis</td><td>Cardiovascular Diseases</td><td>CYPA</td></tr>",
                            "<tr><td>Coronary Atherosclerosis</td><td>Cardiovascular Diseases</td><td>CYPA</td></tr>",
                            "<tr><td>Coronary Atherosclerosis</td><td>Cardiovascular Diseases</td><td>CYPA</td></tr>",
                            "<tr><td>Coronary Atherosclerosis</td><td>Cardiovascular Diseases</td><td>CYPA</td></tr>",
                            "<tr><td>Coronary Atherosclerosis</td><td>Cardiovascular Diseases</td><td>CYPA</td></tr>",
                            "<tr><td>Rare epilepsy</td><td>Nervous System Diseases</td><td>CYPA</td></tr>",
                            "<tr><td>Squamous cell carcinoma of the esophagus</td><td>Digestive System Diseases</td><td>CYPA</td></tr>",
                            "<tr><td>Ovarian Carcinoma</td><td>Endocrine System Diseases</td><td>CYPA</td></tr>",
                            "<tr><td>Hepatitis E</td><td>Digestive System Diseases</td><td>CYPA</td></tr>",
                            "<tr><td>HIV Infection</td><td>Immune System Diseases</td><td>CYPA</td></tr>",
                            "<tr><td>Oral submucous fibrosis</td><td>Stomatognathic Diseases</td><td>CYPA</td></tr>",
                            "<tr><td>Oral submucous fibrosis</td><td>Stomatognathic Diseases</td><td>CYPA</td></tr>",
                            "<tr><td>FRONTOMETAPHYSEAL DYSPLASIA 1</td><td>Congenital, Hereditary, and Neonatal Diseases and Abnormalities</td><td>CYPA</td></tr>",
                            "<tr><td>Carcinogenesis</td><td>Pathological Conditions, Signs and Symptoms</td><td>CYPA</td></tr>",
                            "<tr><td>Carcinogenesis</td><td>Pathological Conditions, Signs and Symptoms</td><td>CYPA</td></tr>",
                            "<tr><td>Carcinogenesis</td><td>Pathological Conditions, Signs and Symptoms</td><td>CYPA</td></tr>",
                            "<tr><td>Carcinogenesis</td><td>Pathological Conditions, Signs and Symptoms</td><td>CYPA</td></tr>",
                            "<tr><td>Carcinogenesis</td><td>Pathological Conditions, Signs and Symptoms</td><td>CYPA</td></tr>",
                            "<tr><td>Solid Neoplasm</td><td>Neoplasms</td><td>CYPA</td></tr>",
                            "<tr><td>Solid Neoplasm</td><td>Neoplasms</td><td>CYPA</td></tr>",
                            "<tr><td>Schistosomiasis</td><td>Infections</td><td>CYPA</td></tr>",
                            "<tr><td>PRESENILE AND SENILE DEMENTIA</td><td>Mental Disorders</td><td>CYPA</td></tr>",
                            "<tr><td>PRESENILE AND SENILE DEMENTIA</td><td>Mental Disorders</td><td>CYPA</td></tr>",
                            "<tr><td>Facioscapulohumeral dystrophy</td><td>Congenital, Hereditary, and Neonatal Diseases and Abnormalities</td><td>CYPA</td></tr>",
                            "<tr><td>Rare bacterial infectious disease</td><td>Infections</td><td>CYPA</td></tr>",
                            "<tr><td>Rare carcinoma of stomach</td><td>Digestive System Diseases</td><td>CYPA</td></tr>",
                            "<tr><td>Endometriotic Cyst of the Ovary</td><td>Female Urogenital Diseases and Pregnancy Complications</td><td>CYPA</td></tr>",
                            "<tr><td>Rare neurodegenerative disease</td><td>Nervous System Diseases</td><td>CYPA</td></tr>",
                            "<tr><td>ENDOMETRIAL CANCER</td><td>Female Urogenital Diseases and Pregnancy Complications</td><td>CYPA</td></tr>",
                            "<tr><td>ENDOMETRIAL CANCER</td><td>Female Urogenital Diseases and Pregnancy Complications</td><td>CYPA</td></tr>",
                            "<tr><td>ACS</td><td>Congenital, Hereditary, and Neonatal Diseases and Abnormalities</td><td>CYPA</td></tr>",
                            "<tr><td>Atherosclerotic Cardiovascular Disease</td><td>Cardiovascular Diseases</td><td>CYPA</td></tr>",
                            "<tr><td>Atherosclerotic Cardiovascular Disease</td><td>Cardiovascular Diseases</td><td>CYPA</td></tr>",
                            "<tr><td>CAD</td><td>Cardiovascular Diseases</td><td>CYPA</td></tr>",
                            "<tr><td>CAD</td><td>Cardiovascular Diseases</td><td>CYPA</td></tr>",
                            "<tr><td>CAD</td><td>Cardiovascular Diseases</td><td>CYPA</td></tr>",
                            "<tr><td>CAD</td><td>Cardiovascular Diseases</td><td>CYPA</td></tr>",
                            "<tr><td>CAD</td><td>Cardiovascular Diseases</td><td>CYPA</td></tr>",
                            "<tr><td>CAD</td><td>Cardiovascular Diseases</td><td>CYPA</td></tr>",
                            "<tr><td>Rare malignant breast tumor</td><td>Skin and Connective Tissue Diseases</td><td>CYPA</td></tr>",
                            "<tr><td>Rare malignant breast tumor</td><td>Skin and Connective Tissue Diseases</td><td>CYPA</td></tr>",
                            "<tr><td>Rare malignant breast tumor</td><td>Skin and Connective Tissue Diseases</td><td>CYPA</td></tr>",
                            "<tr><td>Rare malignant breast tumor</td><td>Skin and Connective Tissue Diseases</td><td>CYPA</td></tr>",
                            "<tr><td>Rare malignant breast tumor</td><td>Skin and Connective Tissue Diseases</td><td>CYPA</td></tr>",
                            "<tr><td>Skin Neoplasm, Malignant</td><td>Skin and Connective Tissue Diseases</td><td>CYPA</td></tr>",
                            "<tr><td>RHEUMATOID ARTHRITIS</td><td>Immune System Diseases</td><td>CYPA</td></tr>",
                            "<tr><td>RHEUMATOID ARTHRITIS</td><td>Immune System Diseases</td><td>CYPA</td></tr>",
                            "<tr><td>RHEUMATOID ARTHRITIS</td><td>Immune System Diseases</td><td>CYPA</td></tr>",
                            "<tr><td>Familial abdominal aortic aneurysm</td><td>Cardiovascular Diseases</td><td>CYPA</td></tr>",
                            "<tr><td>Ovarian Carcinoma</td><td>Pathological Conditions, Signs and Symptoms</td><td>CYPA</td></tr>",
                            "<tr><td>Ovarian Carcinoma</td><td>Pathological Conditions, Signs and Symptoms</td><td>CYPA</td></tr>",
                            "<tr><td>Ovarian Carcinoma</td><td>Pathological Conditions, Signs and Symptoms</td><td>CYPA</td></tr>",
                            "<tr><td>Ovarian Carcinoma</td><td>Pathological Conditions, Signs and Symptoms</td><td>CYPA</td></tr>",
                            "<tr><td>Ovarian Carcinoma</td><td>Pathological Conditions, Signs and Symptoms</td><td>CYPA</td></tr>",
                            "<tr><td>Ovarian Carcinoma</td><td>Pathological Conditions, Signs and Symptoms</td><td>CYPA</td></tr>",
                            "<tr><td>Inflammatory Disease</td><td>Pathological Conditions, Signs and Symptoms</td><td>CYPA</td></tr>",
                            "<tr><td>Dysmenorrhea</td><td>Pathological Conditions, Signs and Symptoms</td><td>CYPA</td></tr>",
                            "<tr><td>Middle East Respiratory Syndrome</td><td>Infections</td><td>CYPA</td></tr>",
                            "<tr><td>Tumor Progression</td><td>Pathological Conditions, Signs and Symptoms</td><td>CYPA</td></tr>",
                            "<tr><td>Tumor Progression</td><td>Pathological Conditions, Signs and Symptoms</td><td>CYPA</td></tr>",
                            "<tr><td>Clear cell renal carcinoma</td><td>Female Urogenital Diseases and Pregnancy Complications</td><td>CYPA</td></tr>",
                            "<tr><td>STROKE, ISCHEMIC</td><td>Pathological Conditions, Signs and Symptoms</td><td>CYPA</td></tr>",
                            "<tr><td>PROSTATE CANCER</td><td>Male Urogenital Diseases</td><td>CYPA</td></tr>",
                            "<tr><td>Ovarian Carcinoma</td><td>Male Urogenital Diseases</td><td>CYPA</td></tr>",
                            "<tr><td>Ovarian Carcinoma</td><td>Male Urogenital Diseases</td><td>CYPA</td></tr>",
                            "<tr><td>Myocardial Infarction</td><td>Pathological Conditions, Signs and Symptoms</td><td>CYPA</td></tr>",
                            "<tr><td>Myocardial Infarction</td><td>Pathological Conditions, Signs and Symptoms</td><td>CYPA</td></tr>",
                            "<tr><td>Ovarian Carcinoma</td><td>Nervous System Diseases</td><td>CYPA</td></tr>",
                            "<tr><td>COPD, SEVERE EARLY-ONSET</td><td>Respiratory Tract Diseases</td><td>CYPA</td></tr>",
                            "<tr><td>Amyotrophic lateral sclerosis</td><td>Nutritional and Metabolic Diseases</td><td>CYPA</td></tr>",
                            "<tr><td>Amyotrophic lateral sclerosis</td><td>Nutritional and Metabolic Diseases</td><td>CYPA</td></tr>",
                            "<tr><td>Aortic ectasia</td><td>Cardiovascular Diseases</td><td>CYPA</td></tr>",
                            "<tr><td>Ovarian Carcinoma</td><td>Neoplasms</td><td>GET2</td></tr>",
                            "<tr><td>Ovarian Carcinoma</td><td>Neoplasms</td><td>GET2</td></tr>",
                            "<tr><td>Lymphoma</td><td>Immune System Diseases</td><td>GET2</td></tr>",
                            "<tr><td>Childhood Leukemia</td><td>Neoplasms</td><td>GET2</td></tr>",
                            "<tr><td>Acute myeloid leukemia with recurrent genetic anomaly</td><td>Neoplasms</td><td>GET2</td></tr>",
                            "<tr><td>Rare malignant breast tumor</td><td>Skin and Connective Tissue Diseases</td><td>GET2</td></tr>",
                            "<tr><td>Adult Lymphoma</td><td>Immune System Diseases</td><td>GET2</td></tr>",
                            "<tr><td>Pediatric Lymphoma</td><td>Immune System Diseases</td><td>GET2</td></tr>",
                            "<tr><td>Ovarian Carcinoma</td><td>Pathological Conditions, Signs and Symptoms</td><td>GET2</td></tr>",
                            "<tr><td>Discomfort</td><td>Pathological Conditions, Signs and Symptoms</td><td>GET2</td></tr>",
                            "<tr><td>Common Variable Immunodeficiency</td><td>Immune System Diseases</td><td>GET2</td></tr>",
                            "<tr><td>Common variable immunodeficiency</td><td>Immune System Diseases</td><td>GET2</td></tr>",
                            "<tr><td>Rare malignant breast tumor</td><td>Skin and Connective Tissue Diseases</td><td>GET2</td></tr>",
                            "<tr><td>Asthenozoospermia</td><td>Male Urogenital Diseases</td><td>PPP3RL</td></tr>",
                            "<tr><td>Osteoarthritis</td><td>Musculoskeletal Diseases</td><td>PPP3RL</td></tr>",
                            "</table>"
                        ]
                    }
                }
            ],
            "execution_count": 55
        }
    ]
}
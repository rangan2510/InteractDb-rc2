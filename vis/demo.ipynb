{
 "cells": [
  {
   "cell_type": "code",
   "execution_count": 28,
   "metadata": {},
   "outputs": [],
   "source": [
    "import sqlalchemy as sa\n",
    "import pandas as pd\n",
    "from pyvis.network import Network\n",
    "import urllib\n",
    "from itertools import product,combinations"
   ]
  },
  {
   "cell_type": "code",
   "execution_count": 29,
   "metadata": {},
   "outputs": [],
   "source": [
    "params = urllib.parse.quote_plus('Driver={ODBC Driver 17 for SQL Server};'\n",
    "                      'Server=localhost;'\n",
    "                      'Database=InteractDb_rc2;'\n",
    "                      'Trusted_Connection=yes;')\n",
    "\n",
    "engine = sa.create_engine(\"mssql+pyodbc:///?odbc_connect={}\".format(params))\n",
    "cnxn = engine.connect()"
   ]
  },
  {
   "cell_type": "code",
   "execution_count": 30,
   "metadata": {},
   "outputs": [],
   "source": [
    "net = Network(directed=True, notebook=True, cdn_resources='remote')\n",
    "net.set_edge_smooth('dynamic')\n",
    "options = '''\n",
    "const options = {\n",
    "  \"physics\": {\n",
    "    \"barnesHut\": {\n",
    "      \"gravitationalConstant\": -16150,\n",
    "      \"centralGravity\": 0,\n",
    "      \"springLength\": 155\n",
    "    },\n",
    "    \"minVelocity\": 0.75\n",
    "  }\n",
    "}\n",
    "'''\n",
    "net.set_options(options)"
   ]
  },
  {
   "cell_type": "markdown",
   "metadata": {},
   "source": [
    "# Utility functions"
   ]
  },
  {
   "cell_type": "code",
   "execution_count": 31,
   "metadata": {},
   "outputs": [],
   "source": [
    "def get_drugbank_ids(syn):\n",
    "    qry = 'SELECT * from drug_nodes WHERE synonyms LIKE \\'%' +  syn + '%\\''\n",
    "    df = pd.read_sql_query(qry, cnxn)\n",
    "    ids = None\n",
    "    if len(df) > 0:\n",
    "        ids = df['drugbank_id'].to_list()\n",
    "    return ids\n"
   ]
  },
  {
   "cell_type": "markdown",
   "metadata": {},
   "source": [
    "# Search space seeds"
   ]
  },
  {
   "cell_type": "code",
   "execution_count": 32,
   "metadata": {},
   "outputs": [],
   "source": [
    "x = \"cyclosporine\"\n",
    "y = \"tacrolimus\""
   ]
  },
  {
   "cell_type": "code",
   "execution_count": 33,
   "metadata": {},
   "outputs": [
    {
     "data": {
      "text/plain": [
       "[('DB00091', 'DB00864')]"
      ]
     },
     "execution_count": 33,
     "metadata": {},
     "output_type": "execute_result"
    }
   ],
   "source": [
    "x_ids, y_ids = get_drugbank_ids(x), get_drugbank_ids(y)\n",
    "search_set = x_ids + y_ids\n",
    "search_set = list(set(search_set))\n",
    "search_space = list(product(x_ids, y_ids))\n",
    "search_space"
   ]
  },
  {
   "cell_type": "code",
   "execution_count": 34,
   "metadata": {},
   "outputs": [],
   "source": [
    "drug_group_id = 1\n",
    "gene_group_id = 2\n",
    "disease_group_id = 3"
   ]
  },
  {
   "cell_type": "markdown",
   "metadata": {},
   "source": [
    "# Direct drug interactions"
   ]
  },
  {
   "cell_type": "code",
   "execution_count": 35,
   "metadata": {},
   "outputs": [],
   "source": [
    "dfs = []\n",
    "\n",
    "for s in search_space:\n",
    "    x_, y_ = s\n",
    "    qry = '''\\\n",
    "    SELECT Drug1.drugbank_id AS src_id, Drug1.name AS 'Source Drug', Drug2.drugbank_id as dst_id, Drug2.name AS 'Interacting Drug', [dbo].[drug_drug_edges].[desc] AS 'Effect of Interaction'\n",
    "    FROM drug_nodes Drug1, drug_drug_edges, drug_nodes Drug2\n",
    "    WHERE MATCH(Drug1-(drug_drug_edges)->Drug2)\n",
    "    AND Drug1.drugbank_id = '{x}'\n",
    "    AND Drug2.drugbank_id = '{y}'\\\n",
    "    '''.format(x=x_, y=y_)\n",
    "    df = pd.read_sql_query(qry, cnxn)\n",
    "    dfs.append(df)\n",
    "\n",
    "dfs = pd.concat(dfs)\n"
   ]
  },
  {
   "cell_type": "code",
   "execution_count": 36,
   "metadata": {},
   "outputs": [
    {
     "data": {
      "text/html": [
       "<div>\n",
       "<style scoped>\n",
       "    .dataframe tbody tr th:only-of-type {\n",
       "        vertical-align: middle;\n",
       "    }\n",
       "\n",
       "    .dataframe tbody tr th {\n",
       "        vertical-align: top;\n",
       "    }\n",
       "\n",
       "    .dataframe thead th {\n",
       "        text-align: right;\n",
       "    }\n",
       "</style>\n",
       "<table border=\"1\" class=\"dataframe\">\n",
       "  <thead>\n",
       "    <tr style=\"text-align: right;\">\n",
       "      <th></th>\n",
       "      <th>src_id</th>\n",
       "      <th>Source Drug</th>\n",
       "      <th>dst_id</th>\n",
       "      <th>Interacting Drug</th>\n",
       "      <th>Effect of Interaction</th>\n",
       "    </tr>\n",
       "  </thead>\n",
       "  <tbody>\n",
       "    <tr>\n",
       "      <th>0</th>\n",
       "      <td>DB00091</td>\n",
       "      <td>Cyclosporine</td>\n",
       "      <td>DB00864</td>\n",
       "      <td>Tacrolimus</td>\n",
       "      <td>Tacrolimus may increase the nephrotoxic activi...</td>\n",
       "    </tr>\n",
       "  </tbody>\n",
       "</table>\n",
       "</div>"
      ],
      "text/plain": [
       "    src_id   Source Drug   dst_id Interacting Drug   \n",
       "0  DB00091  Cyclosporine  DB00864       Tacrolimus  \\\n",
       "\n",
       "                               Effect of Interaction  \n",
       "0  Tacrolimus may increase the nephrotoxic activi...  "
      ]
     },
     "execution_count": 36,
     "metadata": {},
     "output_type": "execute_result"
    }
   ],
   "source": [
    "dfs"
   ]
  },
  {
   "cell_type": "code",
   "execution_count": 37,
   "metadata": {},
   "outputs": [],
   "source": [
    "for idx, row in dfs.iterrows():\n",
    "    x, y = row[\"Source Drug\"], row[\"Interacting Drug\"]\n",
    "    x_id, y_id = row[\"src_id\"], row[\"dst_id\"]\n",
    "    net.add_node(x_id, title=x_id, label=x, group=drug_group_id)\n",
    "    net.add_node(y_id, title=y_id, label=y, group=drug_group_id)\n",
    "    net.add_edge(x_id,y_id, title=str(row[\"Effect of Interaction\"]))\n"
   ]
  },
  {
   "cell_type": "markdown",
   "metadata": {},
   "source": [
    "# Drug gene interactions"
   ]
  },
  {
   "cell_type": "code",
   "execution_count": 38,
   "metadata": {},
   "outputs": [
    {
     "data": {
      "text/plain": [
       "['DB00864', 'DB00091']"
      ]
     },
     "execution_count": 38,
     "metadata": {},
     "output_type": "execute_result"
    }
   ],
   "source": [
    "search_set"
   ]
  },
  {
   "cell_type": "code",
   "execution_count": 39,
   "metadata": {},
   "outputs": [],
   "source": [
    "dfs = []\n",
    "for item in search_set:\n",
    "    qry = '''\\\n",
    "    SELECT Drug1.drugbank_id, Drug1.name AS [Drug 1], Genes.gene_names, Genes.ensembl_id, drug_gene_edges.action\n",
    "    FROM drug_nodes Drug1, drug_gene_edges, gene_nodes Genes\n",
    "    WHERE MATCH(Drug1-(drug_gene_edges)->Genes)\n",
    "    AND Drug1.drugbank_id = '{x}'\\\n",
    "    '''.format(x=item)\n",
    "    df = pd.read_sql_query(qry, cnxn)\n",
    "    dfs.append(df)\n",
    "\n",
    "dfs = pd.concat(dfs)"
   ]
  },
  {
   "cell_type": "code",
   "execution_count": 40,
   "metadata": {},
   "outputs": [
    {
     "data": {
      "text/html": [
       "<div>\n",
       "<style scoped>\n",
       "    .dataframe tbody tr th:only-of-type {\n",
       "        vertical-align: middle;\n",
       "    }\n",
       "\n",
       "    .dataframe tbody tr th {\n",
       "        vertical-align: top;\n",
       "    }\n",
       "\n",
       "    .dataframe thead th {\n",
       "        text-align: right;\n",
       "    }\n",
       "</style>\n",
       "<table border=\"1\" class=\"dataframe\">\n",
       "  <thead>\n",
       "    <tr style=\"text-align: right;\">\n",
       "      <th></th>\n",
       "      <th>drugbank_id</th>\n",
       "      <th>Drug 1</th>\n",
       "      <th>gene_names</th>\n",
       "      <th>ensembl_id</th>\n",
       "      <th>action</th>\n",
       "    </tr>\n",
       "  </thead>\n",
       "  <tbody>\n",
       "    <tr>\n",
       "      <th>0</th>\n",
       "      <td>DB00864</td>\n",
       "      <td>Tacrolimus</td>\n",
       "      <td>FKBP1A</td>\n",
       "      <td>ENSP00000383003</td>\n",
       "      <td>inhibitor</td>\n",
       "    </tr>\n",
       "    <tr>\n",
       "      <th>1</th>\n",
       "      <td>DB00864</td>\n",
       "      <td>Tacrolimus</td>\n",
       "      <td>FKBP1</td>\n",
       "      <td>ENSP00000383003</td>\n",
       "      <td>inhibitor</td>\n",
       "    </tr>\n",
       "    <tr>\n",
       "      <th>2</th>\n",
       "      <td>DB00864</td>\n",
       "      <td>Tacrolimus</td>\n",
       "      <td>FKBP12</td>\n",
       "      <td>ENSP00000383003</td>\n",
       "      <td>inhibitor</td>\n",
       "    </tr>\n",
       "    <tr>\n",
       "      <th>0</th>\n",
       "      <td>DB00091</td>\n",
       "      <td>Cyclosporine</td>\n",
       "      <td>CAMLG</td>\n",
       "      <td>ENSP00000297156</td>\n",
       "      <td>binder</td>\n",
       "    </tr>\n",
       "    <tr>\n",
       "      <th>1</th>\n",
       "      <td>DB00091</td>\n",
       "      <td>Cyclosporine</td>\n",
       "      <td>CAML</td>\n",
       "      <td>ENSP00000297156</td>\n",
       "      <td>binder</td>\n",
       "    </tr>\n",
       "    <tr>\n",
       "      <th>2</th>\n",
       "      <td>DB00091</td>\n",
       "      <td>Cyclosporine</td>\n",
       "      <td>GET2</td>\n",
       "      <td>ENSP00000297156</td>\n",
       "      <td>binder</td>\n",
       "    </tr>\n",
       "    <tr>\n",
       "      <th>3</th>\n",
       "      <td>DB00091</td>\n",
       "      <td>Cyclosporine</td>\n",
       "      <td>PPP3R2</td>\n",
       "      <td>ENSP00000363939</td>\n",
       "      <td>inhibitor</td>\n",
       "    </tr>\n",
       "    <tr>\n",
       "      <th>4</th>\n",
       "      <td>DB00091</td>\n",
       "      <td>Cyclosporine</td>\n",
       "      <td>CBLP</td>\n",
       "      <td>ENSP00000363939</td>\n",
       "      <td>inhibitor</td>\n",
       "    </tr>\n",
       "    <tr>\n",
       "      <th>5</th>\n",
       "      <td>DB00091</td>\n",
       "      <td>Cyclosporine</td>\n",
       "      <td>PPP3RL</td>\n",
       "      <td>ENSP00000363939</td>\n",
       "      <td>inhibitor</td>\n",
       "    </tr>\n",
       "    <tr>\n",
       "      <th>6</th>\n",
       "      <td>DB00091</td>\n",
       "      <td>Cyclosporine</td>\n",
       "      <td>PPIA</td>\n",
       "      <td>ENSP00000419425</td>\n",
       "      <td>inhibitor</td>\n",
       "    </tr>\n",
       "    <tr>\n",
       "      <th>7</th>\n",
       "      <td>DB00091</td>\n",
       "      <td>Cyclosporine</td>\n",
       "      <td>CYPA</td>\n",
       "      <td>ENSP00000419425</td>\n",
       "      <td>inhibitor</td>\n",
       "    </tr>\n",
       "    <tr>\n",
       "      <th>8</th>\n",
       "      <td>DB00091</td>\n",
       "      <td>Cyclosporine</td>\n",
       "      <td>PPIA</td>\n",
       "      <td>ENSP00000419425</td>\n",
       "      <td>binder</td>\n",
       "    </tr>\n",
       "    <tr>\n",
       "      <th>9</th>\n",
       "      <td>DB00091</td>\n",
       "      <td>Cyclosporine</td>\n",
       "      <td>CYPA</td>\n",
       "      <td>ENSP00000419425</td>\n",
       "      <td>binder</td>\n",
       "    </tr>\n",
       "    <tr>\n",
       "      <th>10</th>\n",
       "      <td>DB00091</td>\n",
       "      <td>Cyclosporine</td>\n",
       "      <td>PPIF</td>\n",
       "      <td>ENSP00000225174</td>\n",
       "      <td>binder</td>\n",
       "    </tr>\n",
       "    <tr>\n",
       "      <th>11</th>\n",
       "      <td>DB00091</td>\n",
       "      <td>Cyclosporine</td>\n",
       "      <td>CYP3</td>\n",
       "      <td>ENSP00000225174</td>\n",
       "      <td>binder</td>\n",
       "    </tr>\n",
       "  </tbody>\n",
       "</table>\n",
       "</div>"
      ],
      "text/plain": [
       "   drugbank_id        Drug 1 gene_names       ensembl_id     action\n",
       "0      DB00864    Tacrolimus     FKBP1A  ENSP00000383003  inhibitor\n",
       "1      DB00864    Tacrolimus      FKBP1  ENSP00000383003  inhibitor\n",
       "2      DB00864    Tacrolimus     FKBP12  ENSP00000383003  inhibitor\n",
       "0      DB00091  Cyclosporine      CAMLG  ENSP00000297156     binder\n",
       "1      DB00091  Cyclosporine       CAML  ENSP00000297156     binder\n",
       "2      DB00091  Cyclosporine       GET2  ENSP00000297156     binder\n",
       "3      DB00091  Cyclosporine     PPP3R2  ENSP00000363939  inhibitor\n",
       "4      DB00091  Cyclosporine       CBLP  ENSP00000363939  inhibitor\n",
       "5      DB00091  Cyclosporine     PPP3RL  ENSP00000363939  inhibitor\n",
       "6      DB00091  Cyclosporine       PPIA  ENSP00000419425  inhibitor\n",
       "7      DB00091  Cyclosporine       CYPA  ENSP00000419425  inhibitor\n",
       "8      DB00091  Cyclosporine       PPIA  ENSP00000419425     binder\n",
       "9      DB00091  Cyclosporine       CYPA  ENSP00000419425     binder\n",
       "10     DB00091  Cyclosporine       PPIF  ENSP00000225174     binder\n",
       "11     DB00091  Cyclosporine       CYP3  ENSP00000225174     binder"
      ]
     },
     "execution_count": 40,
     "metadata": {},
     "output_type": "execute_result"
    }
   ],
   "source": [
    "dfs"
   ]
  },
  {
   "cell_type": "code",
   "execution_count": 41,
   "metadata": {},
   "outputs": [],
   "source": [
    "# dfg = pd.DataFrame(dfs.groupby('ensembl_id')['gene_names'].apply(', '.join))\n",
    "# dfg = pd.DataFrame(dfg.to_records())\n",
    "# dfs = pd.merge(left=dfg, right=dfs[[\"drugbank_id\", \"Drug 1\", \"ensembl_id\", \"action\"]], on=\"ensembl_id\", how=\"inner\")\n",
    "# dfs = dfs.drop_duplicates()"
   ]
  },
  {
   "cell_type": "code",
   "execution_count": 42,
   "metadata": {},
   "outputs": [],
   "source": [
    "for idx, row in dfs.iterrows():\n",
    "    x, y, z = row[\"Drug 1\"], row[\"gene_names\"], row[\"action\"]\n",
    "    x_id, y_id = row[\"drugbank_id\"], row[\"gene_names\"]\n",
    "    net.add_node(x_id, title=x_id, label=x, group=drug_group_id)\n",
    "    net.add_node(y_id, title=y_id, label=y, group=gene_group_id)\n",
    "    net.add_edge(x_id,y_id, title=str(z))"
   ]
  },
  {
   "cell_type": "markdown",
   "metadata": {},
   "source": [
    "# Gene Gene interactions"
   ]
  },
  {
   "cell_type": "code",
   "execution_count": 43,
   "metadata": {},
   "outputs": [
    {
     "data": {
      "text/plain": [
       "[('ENSP00000225174', 'ENSP00000419425'),\n",
       " ('ENSP00000225174', 'ENSP00000363939'),\n",
       " ('ENSP00000225174', 'ENSP00000383003'),\n",
       " ('ENSP00000225174', 'ENSP00000297156'),\n",
       " ('ENSP00000419425', 'ENSP00000363939'),\n",
       " ('ENSP00000419425', 'ENSP00000383003'),\n",
       " ('ENSP00000419425', 'ENSP00000297156'),\n",
       " ('ENSP00000363939', 'ENSP00000383003'),\n",
       " ('ENSP00000363939', 'ENSP00000297156'),\n",
       " ('ENSP00000383003', 'ENSP00000297156')]"
      ]
     },
     "execution_count": 43,
     "metadata": {},
     "output_type": "execute_result"
    }
   ],
   "source": [
    "gene_search_space_ = list(set(dfs[\"ensembl_id\"].to_list()))\n",
    "gene_search_space = list(combinations(gene_search_space_, 2))\n",
    "gene_search_space"
   ]
  },
  {
   "cell_type": "code",
   "execution_count": 44,
   "metadata": {},
   "outputs": [],
   "source": [
    "dfs = []\n",
    "\n",
    "for g in gene_search_space:\n",
    "    x_, y_ = g\n",
    "    qry = '''\\\n",
    "    SELECT Gene1.gene_names AS 'Gene 1', Gene2.gene_names AS 'Gene 2'\n",
    "    FROM gene_nodes Gene1, gene_gene_edges, gene_nodes Gene2\n",
    "    WHERE MATCH(Gene1-(gene_gene_edges)->Gene2)\n",
    "    AND Gene1.ensembl_id = '{x}'\n",
    "    AND Gene2.ensembl_id = '{y}'\\\n",
    "    '''.format(x=x_, y=y_)\n",
    "    df = pd.read_sql_query(qry, cnxn)\n",
    "    dfs.append(df)\n",
    "\n",
    "dfs = pd.concat(dfs)\n"
   ]
  },
  {
   "cell_type": "code",
   "execution_count": 45,
   "metadata": {},
   "outputs": [
    {
     "data": {
      "text/html": [
       "<div>\n",
       "<style scoped>\n",
       "    .dataframe tbody tr th:only-of-type {\n",
       "        vertical-align: middle;\n",
       "    }\n",
       "\n",
       "    .dataframe tbody tr th {\n",
       "        vertical-align: top;\n",
       "    }\n",
       "\n",
       "    .dataframe thead th {\n",
       "        text-align: right;\n",
       "    }\n",
       "</style>\n",
       "<table border=\"1\" class=\"dataframe\">\n",
       "  <thead>\n",
       "    <tr style=\"text-align: right;\">\n",
       "      <th></th>\n",
       "      <th>Gene 1</th>\n",
       "      <th>Gene 2</th>\n",
       "    </tr>\n",
       "  </thead>\n",
       "  <tbody>\n",
       "    <tr>\n",
       "      <th>0</th>\n",
       "      <td>CYP3</td>\n",
       "      <td>CYPA</td>\n",
       "    </tr>\n",
       "    <tr>\n",
       "      <th>0</th>\n",
       "      <td>CYP3</td>\n",
       "      <td>FKBP12</td>\n",
       "    </tr>\n",
       "    <tr>\n",
       "      <th>0</th>\n",
       "      <td>CYPA</td>\n",
       "      <td>FKBP12</td>\n",
       "    </tr>\n",
       "    <tr>\n",
       "      <th>0</th>\n",
       "      <td>PPP3RL</td>\n",
       "      <td>FKBP12</td>\n",
       "    </tr>\n",
       "    <tr>\n",
       "      <th>0</th>\n",
       "      <td>PPP3RL</td>\n",
       "      <td>GET2</td>\n",
       "    </tr>\n",
       "  </tbody>\n",
       "</table>\n",
       "</div>"
      ],
      "text/plain": [
       "   Gene 1  Gene 2\n",
       "0    CYP3    CYPA\n",
       "0    CYP3  FKBP12\n",
       "0    CYPA  FKBP12\n",
       "0  PPP3RL  FKBP12\n",
       "0  PPP3RL    GET2"
      ]
     },
     "execution_count": 45,
     "metadata": {},
     "output_type": "execute_result"
    }
   ],
   "source": [
    "dfs"
   ]
  },
  {
   "cell_type": "code",
   "execution_count": 46,
   "metadata": {},
   "outputs": [],
   "source": [
    "for idx, row in dfs.iterrows():\n",
    "    x, y = row[\"Gene 1\"], row[\"Gene 2\"]\n",
    "    net.add_edge(x,y)"
   ]
  },
  {
   "cell_type": "markdown",
   "metadata": {},
   "source": [
    "# Disease associations"
   ]
  },
  {
   "cell_type": "markdown",
   "metadata": {},
   "source": [
    "## with Genes"
   ]
  },
  {
   "cell_type": "code",
   "execution_count": 47,
   "metadata": {},
   "outputs": [
    {
     "data": {
      "text/plain": [
       "['ENSP00000225174',\n",
       " 'ENSP00000419425',\n",
       " 'ENSP00000363939',\n",
       " 'ENSP00000383003',\n",
       " 'ENSP00000297156']"
      ]
     },
     "execution_count": 47,
     "metadata": {},
     "output_type": "execute_result"
    }
   ],
   "source": [
    "gene_search_space_"
   ]
  },
  {
   "cell_type": "code",
   "execution_count": 55,
   "metadata": {},
   "outputs": [],
   "source": [
    "dfs = []\n",
    "\n",
    "for g in gene_search_space_:\n",
    "    qry = '''\\\n",
    "    SELECT Disease.name AS [Disease Name], Disease.vocabulary, Genes.gene_names as [Associated Genes], disease_gene_edges.sentence\n",
    "    FROM disease_nodes Disease, disease_gene_edges, gene_nodes Genes\n",
    "    WHERE MATCH (Genes-(disease_gene_edges)->Disease)\n",
    "    AND Genes.ensembl_id = '{x}'\\\n",
    "        '''.format(x=g)\n",
    "    df = pd.read_sql_query(qry, cnxn)\n",
    "    dfs.append(df)\n",
    "\n",
    "dfs = pd.concat(dfs)"
   ]
  },
  {
   "cell_type": "code",
   "execution_count": 56,
   "metadata": {},
   "outputs": [
    {
     "data": {
      "text/html": [
       "<div>\n",
       "<style scoped>\n",
       "    .dataframe tbody tr th:only-of-type {\n",
       "        vertical-align: middle;\n",
       "    }\n",
       "\n",
       "    .dataframe tbody tr th {\n",
       "        vertical-align: top;\n",
       "    }\n",
       "\n",
       "    .dataframe thead th {\n",
       "        text-align: right;\n",
       "    }\n",
       "</style>\n",
       "<table border=\"1\" class=\"dataframe\">\n",
       "  <thead>\n",
       "    <tr style=\"text-align: right;\">\n",
       "      <th></th>\n",
       "      <th>Disease Name</th>\n",
       "      <th>vocabulary</th>\n",
       "      <th>Associated Genes</th>\n",
       "      <th>sentence</th>\n",
       "    </tr>\n",
       "  </thead>\n",
       "  <tbody>\n",
       "    <tr>\n",
       "      <th>0</th>\n",
       "      <td>Malignant tumor of colon</td>\n",
       "      <td>NCI</td>\n",
       "      <td>CYP3</td>\n",
       "      <td>This study aims to assess the effects of GAD o...</td>\n",
       "    </tr>\n",
       "    <tr>\n",
       "      <th>1</th>\n",
       "      <td>Cardiovascular Diseases</td>\n",
       "      <td>NCI</td>\n",
       "      <td>CYP3</td>\n",
       "      <td>A greater understanding of the physiologic fun...</td>\n",
       "    </tr>\n",
       "    <tr>\n",
       "      <th>2</th>\n",
       "      <td>Coronary Arteriosclerosis</td>\n",
       "      <td>NCI</td>\n",
       "      <td>CYP3</td>\n",
       "      <td>Mitochondrial permeability transition in cardi...</td>\n",
       "    </tr>\n",
       "    <tr>\n",
       "      <th>3</th>\n",
       "      <td>Diabetes</td>\n",
       "      <td>MONDO</td>\n",
       "      <td>CYP3</td>\n",
       "      <td>We tested the hypothesis of whether NMDA-R1 me...</td>\n",
       "    </tr>\n",
       "    <tr>\n",
       "      <th>4</th>\n",
       "      <td>Diabetes</td>\n",
       "      <td>MONDO</td>\n",
       "      <td>CYP3</td>\n",
       "      <td>Brains from mice with STZ-induced diabetes rev...</td>\n",
       "    </tr>\n",
       "    <tr>\n",
       "      <th>...</th>\n",
       "      <td>...</td>\n",
       "      <td>...</td>\n",
       "      <td>...</td>\n",
       "      <td>...</td>\n",
       "    </tr>\n",
       "    <tr>\n",
       "      <th>8</th>\n",
       "      <td>Breast Carcinoma</td>\n",
       "      <td>ORDO</td>\n",
       "      <td>GET2</td>\n",
       "      <td>These results suggest a new role for CAML in b...</td>\n",
       "    </tr>\n",
       "    <tr>\n",
       "      <th>9</th>\n",
       "      <td>Adult Lymphoma</td>\n",
       "      <td>NCI</td>\n",
       "      <td>GET2</td>\n",
       "      <td>A proliferation-inducing ligand (APRIL), as we...</td>\n",
       "    </tr>\n",
       "    <tr>\n",
       "      <th>10</th>\n",
       "      <td>Childhood Leukemia</td>\n",
       "      <td>NCI</td>\n",
       "      <td>GET2</td>\n",
       "      <td>Breast cancer cell lines were found to express...</td>\n",
       "    </tr>\n",
       "    <tr>\n",
       "      <th>11</th>\n",
       "      <td>Childhood Lymphoma</td>\n",
       "      <td>NCI</td>\n",
       "      <td>GET2</td>\n",
       "      <td>A proliferation-inducing ligand (APRIL), as we...</td>\n",
       "    </tr>\n",
       "    <tr>\n",
       "      <th>12</th>\n",
       "      <td>Acquired Hypogammaglobulinemia</td>\n",
       "      <td>NCI</td>\n",
       "      <td>GET2</td>\n",
       "      <td>Transmembrane activator and calcium-modulating...</td>\n",
       "    </tr>\n",
       "  </tbody>\n",
       "</table>\n",
       "<p>498 rows × 4 columns</p>\n",
       "</div>"
      ],
      "text/plain": [
       "                      Disease Name vocabulary Associated Genes   \n",
       "0         Malignant tumor of colon        NCI             CYP3  \\\n",
       "1          Cardiovascular Diseases        NCI             CYP3   \n",
       "2        Coronary Arteriosclerosis        NCI             CYP3   \n",
       "3                         Diabetes      MONDO             CYP3   \n",
       "4                         Diabetes      MONDO             CYP3   \n",
       "..                             ...        ...              ...   \n",
       "8                 Breast Carcinoma       ORDO             GET2   \n",
       "9                   Adult Lymphoma        NCI             GET2   \n",
       "10              Childhood Leukemia        NCI             GET2   \n",
       "11              Childhood Lymphoma        NCI             GET2   \n",
       "12  Acquired Hypogammaglobulinemia        NCI             GET2   \n",
       "\n",
       "                                             sentence  \n",
       "0   This study aims to assess the effects of GAD o...  \n",
       "1   A greater understanding of the physiologic fun...  \n",
       "2   Mitochondrial permeability transition in cardi...  \n",
       "3   We tested the hypothesis of whether NMDA-R1 me...  \n",
       "4   Brains from mice with STZ-induced diabetes rev...  \n",
       "..                                                ...  \n",
       "8   These results suggest a new role for CAML in b...  \n",
       "9   A proliferation-inducing ligand (APRIL), as we...  \n",
       "10  Breast cancer cell lines were found to express...  \n",
       "11  A proliferation-inducing ligand (APRIL), as we...  \n",
       "12  Transmembrane activator and calcium-modulating...  \n",
       "\n",
       "[498 rows x 4 columns]"
      ]
     },
     "execution_count": 56,
     "metadata": {},
     "output_type": "execute_result"
    }
   ],
   "source": [
    "dfs = dfs.drop_duplicates()\n",
    "dfs"
   ]
  },
  {
   "cell_type": "code",
   "execution_count": 50,
   "metadata": {},
   "outputs": [],
   "source": [
    "for idx, row in dfs.iterrows():\n",
    "    dname = row[\"Disease Name\"]\n",
    "    gene = row[\"Associated Genes\"]\n",
    "    net.add_node(dname, title=dname, label=dname, group=disease_group_id)\n",
    "    net.add_edge(dname, gene, title=str(row[\"sentence\"]))"
   ]
  },
  {
   "cell_type": "markdown",
   "metadata": {},
   "source": [
    "## with drugs"
   ]
  },
  {
   "cell_type": "code",
   "execution_count": 57,
   "metadata": {},
   "outputs": [
    {
     "data": {
      "text/html": [
       "<div>\n",
       "<style scoped>\n",
       "    .dataframe tbody tr th:only-of-type {\n",
       "        vertical-align: middle;\n",
       "    }\n",
       "\n",
       "    .dataframe tbody tr th {\n",
       "        vertical-align: top;\n",
       "    }\n",
       "\n",
       "    .dataframe thead th {\n",
       "        text-align: right;\n",
       "    }\n",
       "</style>\n",
       "<table border=\"1\" class=\"dataframe\">\n",
       "  <thead>\n",
       "    <tr style=\"text-align: right;\">\n",
       "      <th></th>\n",
       "      <th>Disease Name</th>\n",
       "      <th>MeSH_heading</th>\n",
       "      <th>Associated Drugs</th>\n",
       "    </tr>\n",
       "  </thead>\n",
       "  <tbody>\n",
       "    <tr>\n",
       "      <th>0</th>\n",
       "      <td>pustulosis of palm and sole</td>\n",
       "      <td>Skin and Connective Tissue Diseases</td>\n",
       "      <td>Tacrolimus</td>\n",
       "    </tr>\n",
       "    <tr>\n",
       "      <th>1</th>\n",
       "      <td>vitiligo</td>\n",
       "      <td>Skin and Connective Tissue Diseases</td>\n",
       "      <td>Tacrolimus</td>\n",
       "    </tr>\n",
       "    <tr>\n",
       "      <th>2</th>\n",
       "      <td>psoriasis</td>\n",
       "      <td>Skin and Connective Tissue Diseases</td>\n",
       "      <td>Tacrolimus</td>\n",
       "    </tr>\n",
       "    <tr>\n",
       "      <th>3</th>\n",
       "      <td>Vitiligo</td>\n",
       "      <td>Skin and Connective Tissue Diseases</td>\n",
       "      <td>Tacrolimus</td>\n",
       "    </tr>\n",
       "    <tr>\n",
       "      <th>4</th>\n",
       "      <td>psoriasis</td>\n",
       "      <td>Skin and Connective Tissue Diseases</td>\n",
       "      <td>Tacrolimus</td>\n",
       "    </tr>\n",
       "    <tr>\n",
       "      <th>...</th>\n",
       "      <td>...</td>\n",
       "      <td>...</td>\n",
       "      <td>...</td>\n",
       "    </tr>\n",
       "    <tr>\n",
       "      <th>1208</th>\n",
       "      <td>Cystitis, Chronic Interstitial</td>\n",
       "      <td>Female Urogenital Diseases and Pregnancy Compl...</td>\n",
       "      <td>Cyclosporine</td>\n",
       "    </tr>\n",
       "    <tr>\n",
       "      <th>1209</th>\n",
       "      <td>Painful Bladder Syndrome</td>\n",
       "      <td>Male Urogenital Diseases</td>\n",
       "      <td>Cyclosporine</td>\n",
       "    </tr>\n",
       "    <tr>\n",
       "      <th>1210</th>\n",
       "      <td>Painful Bladder Syndrome</td>\n",
       "      <td>Female Urogenital Diseases and Pregnancy Compl...</td>\n",
       "      <td>Cyclosporine</td>\n",
       "    </tr>\n",
       "    <tr>\n",
       "      <th>1211</th>\n",
       "      <td>Interstitial cystitis</td>\n",
       "      <td>Male Urogenital Diseases</td>\n",
       "      <td>Cyclosporine</td>\n",
       "    </tr>\n",
       "    <tr>\n",
       "      <th>1212</th>\n",
       "      <td>Interstitial cystitis</td>\n",
       "      <td>Female Urogenital Diseases and Pregnancy Compl...</td>\n",
       "      <td>Cyclosporine</td>\n",
       "    </tr>\n",
       "  </tbody>\n",
       "</table>\n",
       "<p>1259 rows × 3 columns</p>\n",
       "</div>"
      ],
      "text/plain": [
       "                        Disease Name   \n",
       "0        pustulosis of palm and sole  \\\n",
       "1                           vitiligo   \n",
       "2                          psoriasis   \n",
       "3                           Vitiligo   \n",
       "4                          psoriasis   \n",
       "...                              ...   \n",
       "1208  Cystitis, Chronic Interstitial   \n",
       "1209        Painful Bladder Syndrome   \n",
       "1210        Painful Bladder Syndrome   \n",
       "1211           Interstitial cystitis   \n",
       "1212           Interstitial cystitis   \n",
       "\n",
       "                                           MeSH_heading Associated Drugs  \n",
       "0                   Skin and Connective Tissue Diseases       Tacrolimus  \n",
       "1                   Skin and Connective Tissue Diseases       Tacrolimus  \n",
       "2                   Skin and Connective Tissue Diseases       Tacrolimus  \n",
       "3                   Skin and Connective Tissue Diseases       Tacrolimus  \n",
       "4                   Skin and Connective Tissue Diseases       Tacrolimus  \n",
       "...                                                 ...              ...  \n",
       "1208  Female Urogenital Diseases and Pregnancy Compl...     Cyclosporine  \n",
       "1209                           Male Urogenital Diseases     Cyclosporine  \n",
       "1210  Female Urogenital Diseases and Pregnancy Compl...     Cyclosporine  \n",
       "1211                           Male Urogenital Diseases     Cyclosporine  \n",
       "1212  Female Urogenital Diseases and Pregnancy Compl...     Cyclosporine  \n",
       "\n",
       "[1259 rows x 3 columns]"
      ]
     },
     "execution_count": 57,
     "metadata": {},
     "output_type": "execute_result"
    }
   ],
   "source": [
    "dfs = []\n",
    "\n",
    "for d in search_set:\n",
    "    qry = '''\\\n",
    "    SELECT Disease.vocab_name AS [Disease Name], Disease.MeSH_heading, Drugs.name as [Associated Drugs]\n",
    "    FROM disease_nodes Disease, drug_disease_edges, drug_nodes Drugs\n",
    "    WHERE MATCH (Drugs-(drug_disease_edges)->Disease)\n",
    "    AND Drugs.drugbank_id = '{x}'\\\n",
    "        '''.format(x=d)\n",
    "    df = pd.read_sql_query(qry, cnxn)\n",
    "    dfs.append(df)\n",
    "\n",
    "dfs = pd.concat(dfs)\n",
    "dfs\n"
   ]
  },
  {
   "cell_type": "code",
   "execution_count": 52,
   "metadata": {},
   "outputs": [
    {
     "name": "stdout",
     "output_type": "stream",
     "text": [
      "demo.html\n"
     ]
    },
    {
     "data": {
      "text/html": [
       "\n",
       "        <iframe\n",
       "            width=\"100%\"\n",
       "            height=\"600px\"\n",
       "            src=\"demo.html\"\n",
       "            frameborder=\"0\"\n",
       "            allowfullscreen\n",
       "            \n",
       "        ></iframe>\n",
       "        "
      ],
      "text/plain": [
       "<IPython.lib.display.IFrame at 0x211b9e98e80>"
      ]
     },
     "execution_count": 52,
     "metadata": {},
     "output_type": "execute_result"
    }
   ],
   "source": [
    "for e in net.edges:\n",
    "  e['arrows'] = {'to': {'scaleFactor': 0.5}}\n",
    "#net.show_buttons(filter_=['physics'])\n",
    "net.show(\"demo.html\")"
   ]
  }
 ],
 "metadata": {
  "kernelspec": {
   "display_name": "graphdb",
   "language": "python",
   "name": "python3"
  },
  "language_info": {
   "codemirror_mode": {
    "name": "ipython",
    "version": 3
   },
   "file_extension": ".py",
   "mimetype": "text/x-python",
   "name": "python",
   "nbconvert_exporter": "python",
   "pygments_lexer": "ipython3",
   "version": "3.10.8"
  },
  "orig_nbformat": 4
 },
 "nbformat": 4,
 "nbformat_minor": 2
}
